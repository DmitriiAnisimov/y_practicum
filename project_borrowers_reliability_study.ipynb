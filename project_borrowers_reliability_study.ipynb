{
 "cells": [
  {
   "cell_type": "markdown",
   "id": "240bc086",
   "metadata": {},
   "source": [
    "# Исследование надежности заемщиков."
   ]
  },
  {
   "cell_type": "markdown",
   "id": "4a77f3cc",
   "metadata": {},
   "source": [
    "**Цель исследования** — проверка гипотезы: влияет ли семейное положение и количество детей клиента на погашение кредита в срок.\n"
   ]
  },
  {
   "cell_type": "markdown",
   "id": "134e4202",
   "metadata": {},
   "source": [
    "### Шаг 1. Обзор данных"
   ]
  },
  {
   "cell_type": "code",
   "execution_count": 1,
   "id": "dd4945e5",
   "metadata": {},
   "outputs": [],
   "source": [
    "#Импортирт библиотек pandas и seaborn\n",
    "import pandas as pd\n",
    "import seaborn as sns\n",
    "import numpy as np"
   ]
  },
  {
   "cell_type": "code",
   "execution_count": 2,
   "id": "64e2fe78",
   "metadata": {},
   "outputs": [],
   "source": [
    "#Чтение файла с данными и сохранение в data\n",
    "data = pd.read_csv('/datasets/data.csv')"
   ]
  },
  {
   "cell_type": "code",
   "execution_count": 3,
   "id": "97a1a9d5",
   "metadata": {},
   "outputs": [
    {
     "data": {
      "text/html": [
       "<div>\n",
       "<style scoped>\n",
       "    .dataframe tbody tr th:only-of-type {\n",
       "        vertical-align: middle;\n",
       "    }\n",
       "\n",
       "    .dataframe tbody tr th {\n",
       "        vertical-align: top;\n",
       "    }\n",
       "\n",
       "    .dataframe thead th {\n",
       "        text-align: right;\n",
       "    }\n",
       "</style>\n",
       "<table border=\"1\" class=\"dataframe\">\n",
       "  <thead>\n",
       "    <tr style=\"text-align: right;\">\n",
       "      <th></th>\n",
       "      <th>children</th>\n",
       "      <th>days_employed</th>\n",
       "      <th>dob_years</th>\n",
       "      <th>education</th>\n",
       "      <th>education_id</th>\n",
       "      <th>family_status</th>\n",
       "      <th>family_status_id</th>\n",
       "      <th>gender</th>\n",
       "      <th>income_type</th>\n",
       "      <th>debt</th>\n",
       "      <th>total_income</th>\n",
       "      <th>purpose</th>\n",
       "    </tr>\n",
       "  </thead>\n",
       "  <tbody>\n",
       "    <tr>\n",
       "      <th>0</th>\n",
       "      <td>1</td>\n",
       "      <td>-8437.673028</td>\n",
       "      <td>42</td>\n",
       "      <td>высшее</td>\n",
       "      <td>0</td>\n",
       "      <td>женат / замужем</td>\n",
       "      <td>0</td>\n",
       "      <td>F</td>\n",
       "      <td>сотрудник</td>\n",
       "      <td>0</td>\n",
       "      <td>253875.639453</td>\n",
       "      <td>покупка жилья</td>\n",
       "    </tr>\n",
       "    <tr>\n",
       "      <th>1</th>\n",
       "      <td>1</td>\n",
       "      <td>-4024.803754</td>\n",
       "      <td>36</td>\n",
       "      <td>среднее</td>\n",
       "      <td>1</td>\n",
       "      <td>женат / замужем</td>\n",
       "      <td>0</td>\n",
       "      <td>F</td>\n",
       "      <td>сотрудник</td>\n",
       "      <td>0</td>\n",
       "      <td>112080.014102</td>\n",
       "      <td>приобретение автомобиля</td>\n",
       "    </tr>\n",
       "    <tr>\n",
       "      <th>2</th>\n",
       "      <td>0</td>\n",
       "      <td>-5623.422610</td>\n",
       "      <td>33</td>\n",
       "      <td>Среднее</td>\n",
       "      <td>1</td>\n",
       "      <td>женат / замужем</td>\n",
       "      <td>0</td>\n",
       "      <td>M</td>\n",
       "      <td>сотрудник</td>\n",
       "      <td>0</td>\n",
       "      <td>145885.952297</td>\n",
       "      <td>покупка жилья</td>\n",
       "    </tr>\n",
       "    <tr>\n",
       "      <th>3</th>\n",
       "      <td>3</td>\n",
       "      <td>-4124.747207</td>\n",
       "      <td>32</td>\n",
       "      <td>среднее</td>\n",
       "      <td>1</td>\n",
       "      <td>женат / замужем</td>\n",
       "      <td>0</td>\n",
       "      <td>M</td>\n",
       "      <td>сотрудник</td>\n",
       "      <td>0</td>\n",
       "      <td>267628.550329</td>\n",
       "      <td>дополнительное образование</td>\n",
       "    </tr>\n",
       "    <tr>\n",
       "      <th>4</th>\n",
       "      <td>0</td>\n",
       "      <td>340266.072047</td>\n",
       "      <td>53</td>\n",
       "      <td>среднее</td>\n",
       "      <td>1</td>\n",
       "      <td>гражданский брак</td>\n",
       "      <td>1</td>\n",
       "      <td>F</td>\n",
       "      <td>пенсионер</td>\n",
       "      <td>0</td>\n",
       "      <td>158616.077870</td>\n",
       "      <td>сыграть свадьбу</td>\n",
       "    </tr>\n",
       "  </tbody>\n",
       "</table>\n",
       "</div>"
      ],
      "text/plain": [
       "   children  days_employed  dob_years education  education_id  \\\n",
       "0         1   -8437.673028         42    высшее             0   \n",
       "1         1   -4024.803754         36   среднее             1   \n",
       "2         0   -5623.422610         33   Среднее             1   \n",
       "3         3   -4124.747207         32   среднее             1   \n",
       "4         0  340266.072047         53   среднее             1   \n",
       "\n",
       "      family_status  family_status_id gender income_type  debt   total_income  \\\n",
       "0   женат / замужем                 0      F   сотрудник     0  253875.639453   \n",
       "1   женат / замужем                 0      F   сотрудник     0  112080.014102   \n",
       "2   женат / замужем                 0      M   сотрудник     0  145885.952297   \n",
       "3   женат / замужем                 0      M   сотрудник     0  267628.550329   \n",
       "4  гражданский брак                 1      F   пенсионер     0  158616.077870   \n",
       "\n",
       "                      purpose  \n",
       "0               покупка жилья  \n",
       "1     приобретение автомобиля  \n",
       "2               покупка жилья  \n",
       "3  дополнительное образование  \n",
       "4             сыграть свадьбу  "
      ]
     },
     "execution_count": 3,
     "metadata": {},
     "output_type": "execute_result"
    }
   ],
   "source": [
    "#Ознакомимся с данными в таблице методом head\n",
    "data.head()"
   ]
  },
  {
   "cell_type": "code",
   "execution_count": 4,
   "id": "f14b5d84",
   "metadata": {},
   "outputs": [
    {
     "name": "stdout",
     "output_type": "stream",
     "text": [
      "<class 'pandas.core.frame.DataFrame'>\n",
      "RangeIndex: 21525 entries, 0 to 21524\n",
      "Data columns (total 12 columns):\n",
      " #   Column            Non-Null Count  Dtype  \n",
      "---  ------            --------------  -----  \n",
      " 0   children          21525 non-null  int64  \n",
      " 1   days_employed     19351 non-null  float64\n",
      " 2   dob_years         21525 non-null  int64  \n",
      " 3   education         21525 non-null  object \n",
      " 4   education_id      21525 non-null  int64  \n",
      " 5   family_status     21525 non-null  object \n",
      " 6   family_status_id  21525 non-null  int64  \n",
      " 7   gender            21525 non-null  object \n",
      " 8   income_type       21525 non-null  object \n",
      " 9   debt              21525 non-null  int64  \n",
      " 10  total_income      19351 non-null  float64\n",
      " 11  purpose           21525 non-null  object \n",
      "dtypes: float64(2), int64(5), object(5)\n",
      "memory usage: 2.0+ MB\n"
     ]
    }
   ],
   "source": [
    "#Получение общей информации о данных в data\n",
    "data.info()"
   ]
  },
  {
   "cell_type": "markdown",
   "id": "ffa17b1e",
   "metadata": {},
   "source": [
    "В таблице двенадцать столбцов.\n",
    "\n",
    "Два столбца типа `float64`, пять столбцов типа `int64` и пять столбцов типа `object`.\n",
    "\n",
    "\n",
    "\n",
    "Согласно документации к данным: \n",
    "* `children` — количество детей в семье;\n",
    "* `days_employed` — общий трудовой стаж в днях\n",
    "* `dob_years` — возраст клиента в годах\n",
    "* `education` — уровень образования клиента\n",
    "* `education_id` — идентификатор уровня образования\n",
    "* `family_status` — семейное положение\n",
    "* `family_status_id` — идентификатор семейного положения\n",
    "* `gender` — пол клиента\n",
    "* `income_type` — тип занятости\n",
    "* `debt` — имел ли задолженность по возврату кредитов\n",
    "* `total_income` — ежемесячный доход\n",
    "* `purpose` — цель получения кредита\n"
   ]
  },
  {
   "cell_type": "markdown",
   "id": "1d0d8438",
   "metadata": {},
   "source": [
    "<b>Рассмотрим подробно данные в каждом столбце </b>"
   ]
  },
  {
   "cell_type": "code",
   "execution_count": 5,
   "id": "1866ef06",
   "metadata": {
    "scrolled": false
   },
   "outputs": [
    {
     "data": {
      "text/plain": [
       "'Столбец children:'"
      ]
     },
     "metadata": {},
     "output_type": "display_data"
    },
    {
     "data": {
      "text/plain": [
       " 0     14149\n",
       " 1      4818\n",
       " 2      2055\n",
       " 3       330\n",
       " 20       76\n",
       "-1        47\n",
       " 4        41\n",
       " 5         9\n",
       "Name: children, dtype: int64"
      ]
     },
     "metadata": {},
     "output_type": "display_data"
    },
    {
     "data": {
      "text/plain": [
       "'Столбец days_employed:'"
      ]
     },
     "metadata": {},
     "output_type": "display_data"
    },
    {
     "data": {
      "text/plain": [
       "-327.685916     1\n",
       "-1580.622577    1\n",
       "-4122.460569    1\n",
       "-2828.237691    1\n",
       "-2636.090517    1\n",
       "               ..\n",
       "-7120.517564    1\n",
       "-2146.884040    1\n",
       "-881.454684     1\n",
       "-794.666350     1\n",
       "-3382.113891    1\n",
       "Name: days_employed, Length: 19351, dtype: int64"
      ]
     },
     "metadata": {},
     "output_type": "display_data"
    },
    {
     "data": {
      "text/plain": [
       "'Столбец dob_years:'"
      ]
     },
     "metadata": {},
     "output_type": "display_data"
    },
    {
     "data": {
      "text/plain": [
       "35    617\n",
       "40    609\n",
       "41    607\n",
       "34    603\n",
       "38    598\n",
       "42    597\n",
       "33    581\n",
       "39    573\n",
       "31    560\n",
       "36    555\n",
       "44    547\n",
       "29    545\n",
       "30    540\n",
       "48    538\n",
       "37    537\n",
       "50    514\n",
       "43    513\n",
       "32    510\n",
       "49    508\n",
       "28    503\n",
       "45    497\n",
       "27    493\n",
       "56    487\n",
       "52    484\n",
       "47    480\n",
       "54    479\n",
       "46    475\n",
       "58    461\n",
       "57    460\n",
       "53    459\n",
       "51    448\n",
       "59    444\n",
       "55    443\n",
       "26    408\n",
       "60    377\n",
       "25    357\n",
       "61    355\n",
       "62    352\n",
       "63    269\n",
       "64    265\n",
       "24    264\n",
       "23    254\n",
       "65    194\n",
       "66    183\n",
       "22    183\n",
       "67    167\n",
       "21    111\n",
       "0     101\n",
       "68     99\n",
       "69     85\n",
       "70     65\n",
       "71     58\n",
       "20     51\n",
       "72     33\n",
       "19     14\n",
       "73      8\n",
       "74      6\n",
       "75      1\n",
       "Name: dob_years, dtype: int64"
      ]
     },
     "metadata": {},
     "output_type": "display_data"
    },
    {
     "data": {
      "text/plain": [
       "'Столбец education:'"
      ]
     },
     "metadata": {},
     "output_type": "display_data"
    },
    {
     "data": {
      "text/plain": [
       "среднее                13750\n",
       "высшее                  4718\n",
       "СРЕДНЕЕ                  772\n",
       "Среднее                  711\n",
       "неоконченное высшее      668\n",
       "ВЫСШЕЕ                   274\n",
       "Высшее                   268\n",
       "начальное                250\n",
       "Неоконченное высшее       47\n",
       "НЕОКОНЧЕННОЕ ВЫСШЕЕ       29\n",
       "НАЧАЛЬНОЕ                 17\n",
       "Начальное                 15\n",
       "ученая степень             4\n",
       "Ученая степень             1\n",
       "УЧЕНАЯ СТЕПЕНЬ             1\n",
       "Name: education, dtype: int64"
      ]
     },
     "metadata": {},
     "output_type": "display_data"
    },
    {
     "data": {
      "text/plain": [
       "'Столбец education_id:'"
      ]
     },
     "metadata": {},
     "output_type": "display_data"
    },
    {
     "data": {
      "text/plain": [
       "1    15233\n",
       "0     5260\n",
       "2      744\n",
       "3      282\n",
       "4        6\n",
       "Name: education_id, dtype: int64"
      ]
     },
     "metadata": {},
     "output_type": "display_data"
    },
    {
     "data": {
      "text/plain": [
       "'Столбец family_status:'"
      ]
     },
     "metadata": {},
     "output_type": "display_data"
    },
    {
     "data": {
      "text/plain": [
       "женат / замужем          12380\n",
       "гражданский брак          4177\n",
       "Не женат / не замужем     2813\n",
       "в разводе                 1195\n",
       "вдовец / вдова             960\n",
       "Name: family_status, dtype: int64"
      ]
     },
     "metadata": {},
     "output_type": "display_data"
    },
    {
     "data": {
      "text/plain": [
       "'Столбец family_status_id:'"
      ]
     },
     "metadata": {},
     "output_type": "display_data"
    },
    {
     "data": {
      "text/plain": [
       "0    12380\n",
       "1     4177\n",
       "4     2813\n",
       "3     1195\n",
       "2      960\n",
       "Name: family_status_id, dtype: int64"
      ]
     },
     "metadata": {},
     "output_type": "display_data"
    },
    {
     "data": {
      "text/plain": [
       "'Столбец gender:'"
      ]
     },
     "metadata": {},
     "output_type": "display_data"
    },
    {
     "data": {
      "text/plain": [
       "F      14236\n",
       "M       7288\n",
       "XNA        1\n",
       "Name: gender, dtype: int64"
      ]
     },
     "metadata": {},
     "output_type": "display_data"
    },
    {
     "data": {
      "text/plain": [
       "'Столбец income_type:'"
      ]
     },
     "metadata": {},
     "output_type": "display_data"
    },
    {
     "data": {
      "text/plain": [
       "сотрудник          11119\n",
       "компаньон           5085\n",
       "пенсионер           3856\n",
       "госслужащий         1459\n",
       "предприниматель        2\n",
       "безработный            2\n",
       "студент                1\n",
       "в декрете              1\n",
       "Name: income_type, dtype: int64"
      ]
     },
     "metadata": {},
     "output_type": "display_data"
    },
    {
     "data": {
      "text/plain": [
       "'Столбец debt:'"
      ]
     },
     "metadata": {},
     "output_type": "display_data"
    },
    {
     "data": {
      "text/plain": [
       "0    19784\n",
       "1     1741\n",
       "Name: debt, dtype: int64"
      ]
     },
     "metadata": {},
     "output_type": "display_data"
    },
    {
     "data": {
      "text/plain": [
       "'Столбец total_income:'"
      ]
     },
     "metadata": {},
     "output_type": "display_data"
    },
    {
     "data": {
      "text/plain": [
       "169846.427535    1\n",
       "257737.077768    1\n",
       "200508.675866    1\n",
       "106196.235958    1\n",
       "248730.171354    1\n",
       "                ..\n",
       "175057.266090    1\n",
       "101516.604975    1\n",
       "239154.168013    1\n",
       "165009.733021    1\n",
       "189255.286637    1\n",
       "Name: total_income, Length: 19351, dtype: int64"
      ]
     },
     "metadata": {},
     "output_type": "display_data"
    },
    {
     "data": {
      "text/plain": [
       "'Столбец purpose:'"
      ]
     },
     "metadata": {},
     "output_type": "display_data"
    },
    {
     "data": {
      "text/plain": [
       "свадьба                                   797\n",
       "на проведение свадьбы                     777\n",
       "сыграть свадьбу                           774\n",
       "операции с недвижимостью                  676\n",
       "покупка коммерческой недвижимости         664\n",
       "операции с жильем                         653\n",
       "покупка жилья для сдачи                   653\n",
       "операции с коммерческой недвижимостью     651\n",
       "жилье                                     647\n",
       "покупка жилья                             647\n",
       "покупка жилья для семьи                   641\n",
       "строительство собственной недвижимости    635\n",
       "недвижимость                              634\n",
       "операции со своей недвижимостью           630\n",
       "строительство жилой недвижимости          626\n",
       "покупка недвижимости                      624\n",
       "строительство недвижимости                620\n",
       "покупка своего жилья                      620\n",
       "ремонт жилью                              612\n",
       "покупка жилой недвижимости                607\n",
       "на покупку своего автомобиля              505\n",
       "заняться высшим образованием              496\n",
       "автомобиль                                495\n",
       "сделка с подержанным автомобилем          489\n",
       "свой автомобиль                           480\n",
       "на покупку подержанного автомобиля        479\n",
       "автомобили                                478\n",
       "на покупку автомобиля                     472\n",
       "дополнительное образование                462\n",
       "приобретение автомобиля                   462\n",
       "сделка с автомобилем                      455\n",
       "высшее образование                        453\n",
       "образование                               447\n",
       "получение дополнительного образования     447\n",
       "получение образования                     443\n",
       "профильное образование                    436\n",
       "получение высшего образования             426\n",
       "заняться образованием                     412\n",
       "Name: purpose, dtype: int64"
      ]
     },
     "metadata": {},
     "output_type": "display_data"
    }
   ],
   "source": [
    "# Вывод на экран количества уникалиных зачений в каждом столбце\n",
    "for column in data:\n",
    "    display('Столбец ' + column + ':', data[column].value_counts())"
   ]
  },
  {
   "cell_type": "markdown",
   "id": "ac221253",
   "metadata": {},
   "source": [
    "<b>Вывод обзора данных: </b></br>\n",
    "1. В столбце `children` встречаются аномальные значения -1 и 20.\n",
    "2. В столбце `days_employed` встречаются отрицательные значения.\n",
    "3. В столбцах `days_employed` и `total_income` имеются пропуски в значениях. В каждом из этих столбцов 2174 пропуска. Это составдяет 1/10 часть данных в каждом из столбцов.\n",
    "4. В столбце `dob_years` есть аномальное значение 0.\n",
    "5. В столбце `education` встречаются дубликаты записанные в разном ренистре.\n",
    "6. В столбце `gender` есть одно незаполненное значение.\n",
    "7. В столбце `total_income` значение запрлаты встречается 2175 раз. Все остальные значения уникальные.\n",
    "8. В столбце `purpose` встречеются дубликаты похожие по смыслу, но отличающиеся по формулировке цели.</br>"
   ]
  },
  {
   "cell_type": "code",
   "execution_count": 6,
   "id": "4797ad02",
   "metadata": {},
   "outputs": [
    {
     "data": {
      "text/html": [
       "<div>\n",
       "<style scoped>\n",
       "    .dataframe tbody tr th:only-of-type {\n",
       "        vertical-align: middle;\n",
       "    }\n",
       "\n",
       "    .dataframe tbody tr th {\n",
       "        vertical-align: top;\n",
       "    }\n",
       "\n",
       "    .dataframe thead th {\n",
       "        text-align: right;\n",
       "    }\n",
       "</style>\n",
       "<table border=\"1\" class=\"dataframe\">\n",
       "  <thead>\n",
       "    <tr style=\"text-align: right;\">\n",
       "      <th></th>\n",
       "      <th>children</th>\n",
       "      <th>days_employed</th>\n",
       "      <th>dob_years</th>\n",
       "      <th>education_id</th>\n",
       "      <th>family_status_id</th>\n",
       "      <th>debt</th>\n",
       "      <th>total_income</th>\n",
       "    </tr>\n",
       "  </thead>\n",
       "  <tbody>\n",
       "    <tr>\n",
       "      <th>count</th>\n",
       "      <td>21525.000000</td>\n",
       "      <td>19351.000000</td>\n",
       "      <td>21525.000000</td>\n",
       "      <td>21525.000000</td>\n",
       "      <td>21525.000000</td>\n",
       "      <td>21525.000000</td>\n",
       "      <td>1.935100e+04</td>\n",
       "    </tr>\n",
       "    <tr>\n",
       "      <th>mean</th>\n",
       "      <td>0.538908</td>\n",
       "      <td>63046.497661</td>\n",
       "      <td>43.293380</td>\n",
       "      <td>0.817236</td>\n",
       "      <td>0.972544</td>\n",
       "      <td>0.080883</td>\n",
       "      <td>1.674223e+05</td>\n",
       "    </tr>\n",
       "    <tr>\n",
       "      <th>std</th>\n",
       "      <td>1.381587</td>\n",
       "      <td>140827.311974</td>\n",
       "      <td>12.574584</td>\n",
       "      <td>0.548138</td>\n",
       "      <td>1.420324</td>\n",
       "      <td>0.272661</td>\n",
       "      <td>1.029716e+05</td>\n",
       "    </tr>\n",
       "    <tr>\n",
       "      <th>min</th>\n",
       "      <td>-1.000000</td>\n",
       "      <td>-18388.949901</td>\n",
       "      <td>0.000000</td>\n",
       "      <td>0.000000</td>\n",
       "      <td>0.000000</td>\n",
       "      <td>0.000000</td>\n",
       "      <td>2.066726e+04</td>\n",
       "    </tr>\n",
       "    <tr>\n",
       "      <th>25%</th>\n",
       "      <td>0.000000</td>\n",
       "      <td>-2747.423625</td>\n",
       "      <td>33.000000</td>\n",
       "      <td>1.000000</td>\n",
       "      <td>0.000000</td>\n",
       "      <td>0.000000</td>\n",
       "      <td>1.030532e+05</td>\n",
       "    </tr>\n",
       "    <tr>\n",
       "      <th>50%</th>\n",
       "      <td>0.000000</td>\n",
       "      <td>-1203.369529</td>\n",
       "      <td>42.000000</td>\n",
       "      <td>1.000000</td>\n",
       "      <td>0.000000</td>\n",
       "      <td>0.000000</td>\n",
       "      <td>1.450179e+05</td>\n",
       "    </tr>\n",
       "    <tr>\n",
       "      <th>75%</th>\n",
       "      <td>1.000000</td>\n",
       "      <td>-291.095954</td>\n",
       "      <td>53.000000</td>\n",
       "      <td>1.000000</td>\n",
       "      <td>1.000000</td>\n",
       "      <td>0.000000</td>\n",
       "      <td>2.034351e+05</td>\n",
       "    </tr>\n",
       "    <tr>\n",
       "      <th>max</th>\n",
       "      <td>20.000000</td>\n",
       "      <td>401755.400475</td>\n",
       "      <td>75.000000</td>\n",
       "      <td>4.000000</td>\n",
       "      <td>4.000000</td>\n",
       "      <td>1.000000</td>\n",
       "      <td>2.265604e+06</td>\n",
       "    </tr>\n",
       "  </tbody>\n",
       "</table>\n",
       "</div>"
      ],
      "text/plain": [
       "           children  days_employed     dob_years  education_id  \\\n",
       "count  21525.000000   19351.000000  21525.000000  21525.000000   \n",
       "mean       0.538908   63046.497661     43.293380      0.817236   \n",
       "std        1.381587  140827.311974     12.574584      0.548138   \n",
       "min       -1.000000  -18388.949901      0.000000      0.000000   \n",
       "25%        0.000000   -2747.423625     33.000000      1.000000   \n",
       "50%        0.000000   -1203.369529     42.000000      1.000000   \n",
       "75%        1.000000    -291.095954     53.000000      1.000000   \n",
       "max       20.000000  401755.400475     75.000000      4.000000   \n",
       "\n",
       "       family_status_id          debt  total_income  \n",
       "count      21525.000000  21525.000000  1.935100e+04  \n",
       "mean           0.972544      0.080883  1.674223e+05  \n",
       "std            1.420324      0.272661  1.029716e+05  \n",
       "min            0.000000      0.000000  2.066726e+04  \n",
       "25%            0.000000      0.000000  1.030532e+05  \n",
       "50%            0.000000      0.000000  1.450179e+05  \n",
       "75%            1.000000      0.000000  2.034351e+05  \n",
       "max            4.000000      1.000000  2.265604e+06  "
      ]
     },
     "execution_count": 6,
     "metadata": {},
     "output_type": "execute_result"
    }
   ],
   "source": [
    "# Анализ данных в датафрейме методом describe()\n",
    "data.describe()"
   ]
  },
  {
   "cell_type": "markdown",
   "id": "b93aec74",
   "metadata": {},
   "source": [
    "### Шаг 2.1 Заполнение пропусков"
   ]
  },
  {
   "cell_type": "markdown",
   "id": "184fe163",
   "metadata": {},
   "source": [
    "Заполним пропуски в значениях в столбце `total_income` медианным значением. Предпочтительниее использовать медианное значение для заполнения количественных данных, т.к. она показывает середину из отсортированных значений списка."
   ]
  },
  {
   "cell_type": "code",
   "execution_count": 7,
   "id": "960b166a",
   "metadata": {},
   "outputs": [],
   "source": [
    "#Замена пропусков в значениях столбца total_income на мединное знаение\n",
    "#data['total_income'] = data['total_income'].fillna(data['total_income'].median())"
   ]
  },
  {
   "cell_type": "code",
   "execution_count": 8,
   "id": "51d454b7",
   "metadata": {},
   "outputs": [],
   "source": [
    "#Замена пропусков в значениях столбца total_income на мединное знаение в зависимости от типа занятости\n",
    "data['total_income'] = data['total_income'].fillna(data.groupby('income_type')['total_income'].transform('median'))"
   ]
  },
  {
   "cell_type": "code",
   "execution_count": 9,
   "id": "283f9a15",
   "metadata": {
    "scrolled": true
   },
   "outputs": [
    {
     "name": "stdout",
     "output_type": "stream",
     "text": [
      "<class 'pandas.core.frame.DataFrame'>\n",
      "RangeIndex: 21525 entries, 0 to 21524\n",
      "Data columns (total 12 columns):\n",
      " #   Column            Non-Null Count  Dtype  \n",
      "---  ------            --------------  -----  \n",
      " 0   children          21525 non-null  int64  \n",
      " 1   days_employed     19351 non-null  float64\n",
      " 2   dob_years         21525 non-null  int64  \n",
      " 3   education         21525 non-null  object \n",
      " 4   education_id      21525 non-null  int64  \n",
      " 5   family_status     21525 non-null  object \n",
      " 6   family_status_id  21525 non-null  int64  \n",
      " 7   gender            21525 non-null  object \n",
      " 8   income_type       21525 non-null  object \n",
      " 9   debt              21525 non-null  int64  \n",
      " 10  total_income      21525 non-null  float64\n",
      " 11  purpose           21525 non-null  object \n",
      "dtypes: float64(2), int64(5), object(5)\n",
      "memory usage: 2.0+ MB\n"
     ]
    }
   ],
   "source": [
    "# Проверка заполнения пропусков\n",
    "data.info()"
   ]
  },
  {
   "cell_type": "code",
   "execution_count": 10,
   "id": "cb7f4acb",
   "metadata": {},
   "outputs": [
    {
     "data": {
      "text/plain": [
       "-1203.369528770489"
      ]
     },
     "execution_count": 10,
     "metadata": {},
     "output_type": "execute_result"
    }
   ],
   "source": [
    "#Создание переменнай days_employed_median и запись в неё медианного значения столбца total_income\n",
    "days_employed_median = data['days_employed'].median()\n",
    "days_employed_median"
   ]
  },
  {
   "cell_type": "markdown",
   "id": "48f11d9a",
   "metadata": {},
   "source": [
    "Из-за неправильно заполненных данных медианное значение трудового стажа получается отрицательным. Нужно заменить отрицательные значения в столбце `days_employed` на положительные."
   ]
  },
  {
   "cell_type": "markdown",
   "id": "5e4affb2",
   "metadata": {},
   "source": [
    "### Шаг 2.2 Проверка данных на аномалии и исправления."
   ]
  },
  {
   "cell_type": "markdown",
   "id": "414ca710",
   "metadata": {},
   "source": [
    "В данных могут встречаться аномалии — значения, которые не отражают действительность и появились по какой-то ошибке. Например, отрицательное количество дней трудового стажа в столбце `days_employed`."
   ]
  },
  {
   "cell_type": "code",
   "execution_count": 11,
   "id": "8e4b35a5",
   "metadata": {
    "scrolled": true
   },
   "outputs": [
    {
     "data": {
      "text/html": [
       "<div>\n",
       "<style scoped>\n",
       "    .dataframe tbody tr th:only-of-type {\n",
       "        vertical-align: middle;\n",
       "    }\n",
       "\n",
       "    .dataframe tbody tr th {\n",
       "        vertical-align: top;\n",
       "    }\n",
       "\n",
       "    .dataframe thead th {\n",
       "        text-align: right;\n",
       "    }\n",
       "</style>\n",
       "<table border=\"1\" class=\"dataframe\">\n",
       "  <thead>\n",
       "    <tr style=\"text-align: right;\">\n",
       "      <th></th>\n",
       "      <th>children</th>\n",
       "      <th>days_employed</th>\n",
       "      <th>dob_years</th>\n",
       "      <th>education</th>\n",
       "      <th>education_id</th>\n",
       "      <th>family_status</th>\n",
       "      <th>family_status_id</th>\n",
       "      <th>gender</th>\n",
       "      <th>income_type</th>\n",
       "      <th>debt</th>\n",
       "      <th>total_income</th>\n",
       "      <th>purpose</th>\n",
       "    </tr>\n",
       "  </thead>\n",
       "  <tbody>\n",
       "    <tr>\n",
       "      <th>0</th>\n",
       "      <td>1</td>\n",
       "      <td>8437.673028</td>\n",
       "      <td>42</td>\n",
       "      <td>высшее</td>\n",
       "      <td>0</td>\n",
       "      <td>женат / замужем</td>\n",
       "      <td>0</td>\n",
       "      <td>F</td>\n",
       "      <td>сотрудник</td>\n",
       "      <td>0</td>\n",
       "      <td>253875.639453</td>\n",
       "      <td>покупка жилья</td>\n",
       "    </tr>\n",
       "    <tr>\n",
       "      <th>1</th>\n",
       "      <td>1</td>\n",
       "      <td>4024.803754</td>\n",
       "      <td>36</td>\n",
       "      <td>среднее</td>\n",
       "      <td>1</td>\n",
       "      <td>женат / замужем</td>\n",
       "      <td>0</td>\n",
       "      <td>F</td>\n",
       "      <td>сотрудник</td>\n",
       "      <td>0</td>\n",
       "      <td>112080.014102</td>\n",
       "      <td>приобретение автомобиля</td>\n",
       "    </tr>\n",
       "    <tr>\n",
       "      <th>2</th>\n",
       "      <td>0</td>\n",
       "      <td>5623.422610</td>\n",
       "      <td>33</td>\n",
       "      <td>Среднее</td>\n",
       "      <td>1</td>\n",
       "      <td>женат / замужем</td>\n",
       "      <td>0</td>\n",
       "      <td>M</td>\n",
       "      <td>сотрудник</td>\n",
       "      <td>0</td>\n",
       "      <td>145885.952297</td>\n",
       "      <td>покупка жилья</td>\n",
       "    </tr>\n",
       "    <tr>\n",
       "      <th>3</th>\n",
       "      <td>3</td>\n",
       "      <td>4124.747207</td>\n",
       "      <td>32</td>\n",
       "      <td>среднее</td>\n",
       "      <td>1</td>\n",
       "      <td>женат / замужем</td>\n",
       "      <td>0</td>\n",
       "      <td>M</td>\n",
       "      <td>сотрудник</td>\n",
       "      <td>0</td>\n",
       "      <td>267628.550329</td>\n",
       "      <td>дополнительное образование</td>\n",
       "    </tr>\n",
       "    <tr>\n",
       "      <th>4</th>\n",
       "      <td>0</td>\n",
       "      <td>340266.072047</td>\n",
       "      <td>53</td>\n",
       "      <td>среднее</td>\n",
       "      <td>1</td>\n",
       "      <td>гражданский брак</td>\n",
       "      <td>1</td>\n",
       "      <td>F</td>\n",
       "      <td>пенсионер</td>\n",
       "      <td>0</td>\n",
       "      <td>158616.077870</td>\n",
       "      <td>сыграть свадьбу</td>\n",
       "    </tr>\n",
       "  </tbody>\n",
       "</table>\n",
       "</div>"
      ],
      "text/plain": [
       "   children  days_employed  dob_years education  education_id  \\\n",
       "0         1    8437.673028         42    высшее             0   \n",
       "1         1    4024.803754         36   среднее             1   \n",
       "2         0    5623.422610         33   Среднее             1   \n",
       "3         3    4124.747207         32   среднее             1   \n",
       "4         0  340266.072047         53   среднее             1   \n",
       "\n",
       "      family_status  family_status_id gender income_type  debt   total_income  \\\n",
       "0   женат / замужем                 0      F   сотрудник     0  253875.639453   \n",
       "1   женат / замужем                 0      F   сотрудник     0  112080.014102   \n",
       "2   женат / замужем                 0      M   сотрудник     0  145885.952297   \n",
       "3   женат / замужем                 0      M   сотрудник     0  267628.550329   \n",
       "4  гражданский брак                 1      F   пенсионер     0  158616.077870   \n",
       "\n",
       "                      purpose  \n",
       "0               покупка жилья  \n",
       "1     приобретение автомобиля  \n",
       "2               покупка жилья  \n",
       "3  дополнительное образование  \n",
       "4             сыграть свадьбу  "
      ]
     },
     "execution_count": 11,
     "metadata": {},
     "output_type": "execute_result"
    }
   ],
   "source": [
    "#Замена отрицательных значений в столбце days_employed\n",
    "#data.loc[data['days_employed'] < 0, 'days_employed'] = data['days_employed'] * -1\n",
    "data['days_employed'] = data['days_employed'].abs()\n",
    "data.head()"
   ]
  },
  {
   "cell_type": "code",
   "execution_count": 12,
   "id": "4f2d537b",
   "metadata": {},
   "outputs": [],
   "source": [
    "#Замена пропусков в значениях столбца days_employed на мединное знаение\n",
    "data['days_employed'] = data['days_employed'].fillna(data['days_employed'].median())"
   ]
  },
  {
   "cell_type": "code",
   "execution_count": 13,
   "id": "e6eb0348",
   "metadata": {},
   "outputs": [
    {
     "data": {
      "text/plain": [
       " 0     14149\n",
       " 1      4818\n",
       " 2      2055\n",
       " 3       330\n",
       " 20       76\n",
       "-1        47\n",
       " 4        41\n",
       " 5         9\n",
       "Name: children, dtype: int64"
      ]
     },
     "execution_count": 13,
     "metadata": {},
     "output_type": "execute_result"
    }
   ],
   "source": [
    "# Уникальные значения столбца children\n",
    "data['children'].value_counts()"
   ]
  },
  {
   "cell_type": "markdown",
   "id": "a72d8f6c",
   "metadata": {},
   "source": [
    "Из полученных данных из столбца `children` следует:\n",
    "* `14167` клиентов банка — бездетные;\n",
    "* `4855` клиентов банка — имеют одного ребенка;\n",
    "* `2052` клиентов банка — имеют два ребенка;\n",
    "* `330` клинтов банка — имеют три ребенка;\n",
    "* `41` клиент банка — имеет четыре ребенка;\n",
    "* `9` клиентов банка — имеет пять детей.\n",
    "\n",
    "Также в данных наблюдаются две аномалии:\n",
    "* `76` клиентов банка — имеют 20 детей:\n",
    "* `47` клиентов банка — имеют -1 ребенка.\n",
    "\n",
    "Возможная причина аномалии клиентов банка с 20 детьми — человеческий фактор.</br>\n",
    "Человек заполняющий таблицу, опечатался при заполнении и слуайно задел клавишу 2 или 0, т.к. они находятся рядом на цифровой клавиатуре.</br>\n",
    "Так как количество бездетных клиентов банка почти в семь раз больше, чем с двумя детьми, поэтому более вероятно, что чаще нажимали 0 и случайно задевали 2.</br> \n",
    "Исходя из этого следует заменить 20 на 0 в столбце `children`.\n",
    "\n",
    "Так как -1 ребенка быть неможет. Скорее всего имелся в виду один ребенок.</br>\n",
    "Исходя из этого следует заменить -1 на 1 в столбце `children`."
   ]
  },
  {
   "cell_type": "code",
   "execution_count": 14,
   "id": "6ec68fc9",
   "metadata": {},
   "outputs": [
    {
     "data": {
      "text/plain": [
       "0    14225\n",
       "1     4865\n",
       "2     2055\n",
       "3      330\n",
       "4       41\n",
       "5        9\n",
       "Name: children, dtype: int64"
      ]
     },
     "execution_count": 14,
     "metadata": {},
     "output_type": "execute_result"
    }
   ],
   "source": [
    "#Замена значений в столбце children\n",
    "data.loc[data['children'] == -1, 'children'] = 1\n",
    "data.loc[data['children'] == 20, 'children'] = 0\n",
    "data['children'].value_counts()"
   ]
  },
  {
   "cell_type": "code",
   "execution_count": 15,
   "id": "a01c3465",
   "metadata": {},
   "outputs": [
    {
     "data": {
      "text/plain": [
       "165.41926776297888"
      ]
     },
     "execution_count": 15,
     "metadata": {},
     "output_type": "execute_result"
    }
   ],
   "source": [
    "#Получение данных о среднем трудовом страже в годах\n",
    "data['days_employed'].mean() / 365 "
   ]
  },
  {
   "cell_type": "markdown",
   "id": "6cc6df74",
   "metadata": {},
   "source": [
    "Средний трудовой стаж не может быть `165` лет!</br>\n",
    "Значит в данных есть аномалия."
   ]
  },
  {
   "cell_type": "code",
   "execution_count": 16,
   "id": "6ec1f7c2",
   "metadata": {},
   "outputs": [
    {
     "data": {
      "text/plain": [
       "<AxesSubplot:xlabel='days_employed', ylabel='Density'>"
      ]
     },
     "execution_count": 16,
     "metadata": {},
     "output_type": "execute_result"
    },
    {
     "data": {
      "image/png": "[encoded data removed]",
      "text/plain": [
       "<Figure size 432x288 with 1 Axes>"
      ]
     },
     "metadata": {
      "needs_background": "light"
     },
     "output_type": "display_data"
    }
   ],
   "source": [
    "# Построение графика плотности данных в столбце трудового стажа days_employed\n",
    "sns.kdeplot(data['days_employed'], color='green')"
   ]
  },
  {
   "cell_type": "code",
   "execution_count": 17,
   "id": "c2e83389",
   "metadata": {},
   "outputs": [
    {
     "data": {
      "text/plain": [
       "<AxesSubplot:xlabel='days_employed', ylabel='Density'>"
      ]
     },
     "execution_count": 17,
     "metadata": {},
     "output_type": "execute_result"
    },
    {
     "data": {
      "image/png": "[encoded data removed]",
      "text/plain": [
       "<Figure size 432x288 with 1 Axes>"
      ]
     },
     "metadata": {
      "needs_background": "light"
     },
     "output_type": "display_data"
    }
   ],
   "source": [
    "# Построение графика плотности данных в столбце трудового стажа days_employed правильных данных\n",
    "sns.kdeplot(data.query('days_employed < 15000')['days_employed'], color='green')"
   ]
  },
  {
   "cell_type": "code",
   "execution_count": 18,
   "id": "24fa44b9",
   "metadata": {},
   "outputs": [
    {
     "data": {
      "text/plain": [
       "<AxesSubplot:xlabel='days_employed', ylabel='Density'>"
      ]
     },
     "execution_count": 18,
     "metadata": {},
     "output_type": "execute_result"
    },
    {
     "data": {
      "image/png": "[encoded data removed]",
      "text/plain": [
       "<Figure size 432x288 with 1 Axes>"
      ]
     },
     "metadata": {
      "needs_background": "light"
     },
     "output_type": "display_data"
    }
   ],
   "source": [
    "# Построение графика плотности данных в столбце трудового стажа days_employed данных с аномальными значениями\n",
    "sns.kdeplot(data.query('days_employed > 100000')['days_employed'], color='green')"
   ]
  },
  {
   "cell_type": "code",
   "execution_count": 19,
   "id": "d37ffb52",
   "metadata": {
    "scrolled": true
   },
   "outputs": [
    {
     "data": {
      "text/plain": [
       "328728.72060451825"
      ]
     },
     "execution_count": 19,
     "metadata": {},
     "output_type": "execute_result"
    }
   ],
   "source": [
    "# Получение данных с какого значения начинаются аномальные значения\n",
    "data.loc[data['days_employed'] > 50000, 'days_employed'].min()"
   ]
  },
  {
   "cell_type": "markdown",
   "id": "15daa781",
   "metadata": {},
   "source": [
    "На графике видим появление аномальных значений начиная с 328728 дней трудового стажа.</br>\n",
    "Возможная причина данной аномалии данных, в ошибке при выгрузке данных с плавающей точкой, если разделить аномальные значения на 100, то получим данные, которые могли бы быть истинными"
   ]
  },
  {
   "cell_type": "code",
   "execution_count": 20,
   "id": "d8269b2f",
   "metadata": {},
   "outputs": [],
   "source": [
    "# Деление аномальных значений дней трудового стажа на 100 \n",
    "data.loc[data['days_employed'] > 22000, 'days_employed'] = data['days_employed'] / 100"
   ]
  },
  {
   "cell_type": "code",
   "execution_count": 21,
   "id": "567dd59f",
   "metadata": {},
   "outputs": [
    {
     "data": {
      "text/plain": [
       "50.38068465909146"
      ]
     },
     "execution_count": 21,
     "metadata": {},
     "output_type": "execute_result"
    }
   ],
   "source": [
    "# Проверка максимального трудового стажа в годах\n",
    "data['days_employed'].max() / 365"
   ]
  },
  {
   "cell_type": "code",
   "execution_count": 22,
   "id": "761bd99c",
   "metadata": {},
   "outputs": [
    {
     "data": {
      "text/plain": [
       "6.0115631969279315"
      ]
     },
     "execution_count": 22,
     "metadata": {},
     "output_type": "execute_result"
    }
   ],
   "source": [
    "#Получение данных о медианном трудовом страже в годах\n",
    "data['days_employed'].median() / 365"
   ]
  },
  {
   "cell_type": "markdown",
   "id": "5f5a3032",
   "metadata": {},
   "source": [
    "### Шаг 2.3. Изменение типов данных."
   ]
  },
  {
   "cell_type": "markdown",
   "id": "f75a23dc",
   "metadata": {},
   "source": []
  },
  {
   "cell_type": "code",
   "execution_count": 23,
   "id": "4fc8b428",
   "metadata": {},
   "outputs": [
    {
     "name": "stdout",
     "output_type": "stream",
     "text": [
      "<class 'pandas.core.frame.DataFrame'>\n",
      "RangeIndex: 21525 entries, 0 to 21524\n",
      "Data columns (total 12 columns):\n",
      " #   Column            Non-Null Count  Dtype  \n",
      "---  ------            --------------  -----  \n",
      " 0   children          21525 non-null  int64  \n",
      " 1   days_employed     21525 non-null  float64\n",
      " 2   dob_years         21525 non-null  int64  \n",
      " 3   education         21525 non-null  object \n",
      " 4   education_id      21525 non-null  int64  \n",
      " 5   family_status     21525 non-null  object \n",
      " 6   family_status_id  21525 non-null  int64  \n",
      " 7   gender            21525 non-null  object \n",
      " 8   income_type       21525 non-null  object \n",
      " 9   debt              21525 non-null  int64  \n",
      " 10  total_income      21525 non-null  int64  \n",
      " 11  purpose           21525 non-null  object \n",
      "dtypes: float64(1), int64(6), object(5)\n",
      "memory usage: 2.0+ MB\n"
     ]
    },
    {
     "data": {
      "text/plain": [
       "0        253875\n",
       "1        112080\n",
       "2        145885\n",
       "3        267628\n",
       "4        158616\n",
       "          ...  \n",
       "21520    224791\n",
       "21521    155999\n",
       "21522     89672\n",
       "21523    244093\n",
       "21524     82047\n",
       "Name: total_income, Length: 21525, dtype: int64"
      ]
     },
     "execution_count": 23,
     "metadata": {},
     "output_type": "execute_result"
    }
   ],
   "source": [
    "# Замена вещественного типа данных на целочисленный в столбце total_income\n",
    "data['total_income'] = data['total_income'].astype('int')\n",
    "data.info()\n",
    "data['total_income']"
   ]
  },
  {
   "cell_type": "markdown",
   "id": "ae8684b3",
   "metadata": {},
   "source": [
    "### Шаг 2.4. Удаление дубликатов."
   ]
  },
  {
   "cell_type": "code",
   "execution_count": 24,
   "id": "91085470",
   "metadata": {},
   "outputs": [
    {
     "data": {
      "text/plain": [
       "среднее                13750\n",
       "высшее                  4718\n",
       "СРЕДНЕЕ                  772\n",
       "Среднее                  711\n",
       "неоконченное высшее      668\n",
       "ВЫСШЕЕ                   274\n",
       "Высшее                   268\n",
       "начальное                250\n",
       "Неоконченное высшее       47\n",
       "НЕОКОНЧЕННОЕ ВЫСШЕЕ       29\n",
       "НАЧАЛЬНОЕ                 17\n",
       "Начальное                 15\n",
       "ученая степень             4\n",
       "Ученая степень             1\n",
       "УЧЕНАЯ СТЕПЕНЬ             1\n",
       "Name: education, dtype: int64"
      ]
     },
     "execution_count": 24,
     "metadata": {},
     "output_type": "execute_result"
    }
   ],
   "source": [
    "# Количество уникальных хначений столбца education\n",
    "data['education'].value_counts()"
   ]
  },
  {
   "cell_type": "code",
   "execution_count": 25,
   "id": "9c697a9f",
   "metadata": {},
   "outputs": [
    {
     "data": {
      "text/plain": [
       "среднее                15233\n",
       "высшее                  5260\n",
       "неоконченное высшее      744\n",
       "начальное                282\n",
       "ученая степень             6\n",
       "Name: education, dtype: int64"
      ]
     },
     "execution_count": 25,
     "metadata": {},
     "output_type": "execute_result"
    }
   ],
   "source": [
    "# Приведение всех значений столбца education к нижнему регистру\n",
    "data['education'] = data['education'].str.lower()\n",
    "data['education'].value_counts()"
   ]
  },
  {
   "cell_type": "code",
   "execution_count": 26,
   "id": "fdfe6b17",
   "metadata": {
    "scrolled": true
   },
   "outputs": [
    {
     "data": {
      "text/plain": [
       "71"
      ]
     },
     "execution_count": 26,
     "metadata": {},
     "output_type": "execute_result"
    }
   ],
   "source": [
    "# Проверка данных на дубликаты\n",
    "data.duplicated().sum()"
   ]
  },
  {
   "cell_type": "code",
   "execution_count": 27,
   "id": "2ad93b22",
   "metadata": {},
   "outputs": [],
   "source": [
    "# Удаление дубликатов методом drop_duplicates() и сброс индексов\n",
    "data = data.drop_duplicates().reset_index(drop=True)"
   ]
  },
  {
   "cell_type": "code",
   "execution_count": 28,
   "id": "a575b8ba",
   "metadata": {},
   "outputs": [
    {
     "data": {
      "text/plain": [
       "0"
      ]
     },
     "execution_count": 28,
     "metadata": {},
     "output_type": "execute_result"
    }
   ],
   "source": [
    "# Проверка удаления дубликатов в данных\n",
    "data.duplicated().sum()"
   ]
  },
  {
   "cell_type": "markdown",
   "id": "1e6d54ea",
   "metadata": {},
   "source": [
    "### Шаг 2.5. Формирование дополнительных датафреймов словарей, декомпозиция исходного датафрейма."
   ]
  },
  {
   "cell_type": "code",
   "execution_count": 29,
   "id": "a9486057",
   "metadata": {},
   "outputs": [
    {
     "name": "stdout",
     "output_type": "stream",
     "text": [
      "<class 'pandas.core.frame.DataFrame'>\n",
      "RangeIndex: 21454 entries, 0 to 21453\n",
      "Data columns (total 2 columns):\n",
      " #   Column        Non-Null Count  Dtype \n",
      "---  ------        --------------  ----- \n",
      " 0   education     21454 non-null  object\n",
      " 1   education_id  21454 non-null  int64 \n",
      "dtypes: int64(1), object(1)\n",
      "memory usage: 335.3+ KB\n"
     ]
    }
   ],
   "source": [
    "# Создание словаря с данными из столбцов education и education_id из исходного датафрейма\n",
    "education_dict = data[['education', 'education_id']]\n",
    "education_dict.info()"
   ]
  },
  {
   "cell_type": "code",
   "execution_count": 30,
   "id": "6204abf5",
   "metadata": {},
   "outputs": [
    {
     "name": "stdout",
     "output_type": "stream",
     "text": [
      "<class 'pandas.core.frame.DataFrame'>\n",
      "RangeIndex: 21454 entries, 0 to 21453\n",
      "Data columns (total 2 columns):\n",
      " #   Column            Non-Null Count  Dtype \n",
      "---  ------            --------------  ----- \n",
      " 0   family_status     21454 non-null  object\n",
      " 1   family_status_id  21454 non-null  int64 \n",
      "dtypes: int64(1), object(1)\n",
      "memory usage: 335.3+ KB\n"
     ]
    }
   ],
   "source": [
    "# Создание словаря с данными из столбцов family_status и family_status_id из исходного датафрейма\n",
    "family_status_dict = data[['family_status', 'family_status_id']]\n",
    "family_status_dict.info()"
   ]
  },
  {
   "cell_type": "code",
   "execution_count": 31,
   "id": "c42ab067",
   "metadata": {},
   "outputs": [
    {
     "data": {
      "text/plain": [
       "0         женат / замужем\n",
       "1         женат / замужем\n",
       "2         женат / замужем\n",
       "3         женат / замужем\n",
       "4        гражданский брак\n",
       "               ...       \n",
       "21449    гражданский брак\n",
       "21450     женат / замужем\n",
       "21451    гражданский брак\n",
       "21452     женат / замужем\n",
       "21453     женат / замужем\n",
       "Name: family_status, Length: 21454, dtype: object"
      ]
     },
     "execution_count": 31,
     "metadata": {},
     "output_type": "execute_result"
    }
   ],
   "source": [
    "# Удаление из исходного датофрейма столбцов education и family_status\n",
    "data.pop('education')\n",
    "data.pop('family_status')"
   ]
  },
  {
   "cell_type": "code",
   "execution_count": 32,
   "id": "5d6c1b93",
   "metadata": {},
   "outputs": [
    {
     "name": "stdout",
     "output_type": "stream",
     "text": [
      "<class 'pandas.core.frame.DataFrame'>\n",
      "RangeIndex: 21454 entries, 0 to 21453\n",
      "Data columns (total 10 columns):\n",
      " #   Column            Non-Null Count  Dtype  \n",
      "---  ------            --------------  -----  \n",
      " 0   children          21454 non-null  int64  \n",
      " 1   days_employed     21454 non-null  float64\n",
      " 2   dob_years         21454 non-null  int64  \n",
      " 3   education_id      21454 non-null  int64  \n",
      " 4   family_status_id  21454 non-null  int64  \n",
      " 5   gender            21454 non-null  object \n",
      " 6   income_type       21454 non-null  object \n",
      " 7   debt              21454 non-null  int64  \n",
      " 8   total_income      21454 non-null  int64  \n",
      " 9   purpose           21454 non-null  object \n",
      "dtypes: float64(1), int64(6), object(3)\n",
      "memory usage: 1.6+ MB\n"
     ]
    }
   ],
   "source": [
    "# Проверка удаления столбцов\n",
    "data.info()"
   ]
  },
  {
   "cell_type": "markdown",
   "id": "ff510085",
   "metadata": {},
   "source": [
    "### Шаг 2.6. Категоризация дохода."
   ]
  },
  {
   "cell_type": "markdown",
   "id": "0da8971a",
   "metadata": {},
   "source": [
    "Создание столбца `total_income_category` с категориями:\n",
    "* 0–30000 — 'E';\n",
    "* 30001–50000 — 'D';\n",
    "* 50001–200000 — 'C';\n",
    "* 200001–1000000 — 'B';\n",
    "* 1000001 и выше — 'A'.\n"
   ]
  },
  {
   "cell_type": "code",
   "execution_count": 33,
   "id": "c61bcc4b",
   "metadata": {},
   "outputs": [
    {
     "data": {
      "text/html": [
       "<div>\n",
       "<style scoped>\n",
       "    .dataframe tbody tr th:only-of-type {\n",
       "        vertical-align: middle;\n",
       "    }\n",
       "\n",
       "    .dataframe tbody tr th {\n",
       "        vertical-align: top;\n",
       "    }\n",
       "\n",
       "    .dataframe thead th {\n",
       "        text-align: right;\n",
       "    }\n",
       "</style>\n",
       "<table border=\"1\" class=\"dataframe\">\n",
       "  <thead>\n",
       "    <tr style=\"text-align: right;\">\n",
       "      <th></th>\n",
       "      <th>children</th>\n",
       "      <th>days_employed</th>\n",
       "      <th>dob_years</th>\n",
       "      <th>education_id</th>\n",
       "      <th>family_status_id</th>\n",
       "      <th>gender</th>\n",
       "      <th>income_type</th>\n",
       "      <th>debt</th>\n",
       "      <th>total_income</th>\n",
       "      <th>purpose</th>\n",
       "      <th>total_income_category</th>\n",
       "    </tr>\n",
       "  </thead>\n",
       "  <tbody>\n",
       "    <tr>\n",
       "      <th>0</th>\n",
       "      <td>1</td>\n",
       "      <td>8437.673028</td>\n",
       "      <td>42</td>\n",
       "      <td>0</td>\n",
       "      <td>0</td>\n",
       "      <td>F</td>\n",
       "      <td>сотрудник</td>\n",
       "      <td>0</td>\n",
       "      <td>253875</td>\n",
       "      <td>покупка жилья</td>\n",
       "      <td>B</td>\n",
       "    </tr>\n",
       "    <tr>\n",
       "      <th>1</th>\n",
       "      <td>1</td>\n",
       "      <td>4024.803754</td>\n",
       "      <td>36</td>\n",
       "      <td>1</td>\n",
       "      <td>0</td>\n",
       "      <td>F</td>\n",
       "      <td>сотрудник</td>\n",
       "      <td>0</td>\n",
       "      <td>112080</td>\n",
       "      <td>приобретение автомобиля</td>\n",
       "      <td>C</td>\n",
       "    </tr>\n",
       "    <tr>\n",
       "      <th>2</th>\n",
       "      <td>0</td>\n",
       "      <td>5623.422610</td>\n",
       "      <td>33</td>\n",
       "      <td>1</td>\n",
       "      <td>0</td>\n",
       "      <td>M</td>\n",
       "      <td>сотрудник</td>\n",
       "      <td>0</td>\n",
       "      <td>145885</td>\n",
       "      <td>покупка жилья</td>\n",
       "      <td>C</td>\n",
       "    </tr>\n",
       "    <tr>\n",
       "      <th>3</th>\n",
       "      <td>3</td>\n",
       "      <td>4124.747207</td>\n",
       "      <td>32</td>\n",
       "      <td>1</td>\n",
       "      <td>0</td>\n",
       "      <td>M</td>\n",
       "      <td>сотрудник</td>\n",
       "      <td>0</td>\n",
       "      <td>267628</td>\n",
       "      <td>дополнительное образование</td>\n",
       "      <td>B</td>\n",
       "    </tr>\n",
       "    <tr>\n",
       "      <th>4</th>\n",
       "      <td>0</td>\n",
       "      <td>3402.660720</td>\n",
       "      <td>53</td>\n",
       "      <td>1</td>\n",
       "      <td>1</td>\n",
       "      <td>F</td>\n",
       "      <td>пенсионер</td>\n",
       "      <td>0</td>\n",
       "      <td>158616</td>\n",
       "      <td>сыграть свадьбу</td>\n",
       "      <td>C</td>\n",
       "    </tr>\n",
       "  </tbody>\n",
       "</table>\n",
       "</div>"
      ],
      "text/plain": [
       "   children  days_employed  dob_years  education_id  family_status_id gender  \\\n",
       "0         1    8437.673028         42             0                 0      F   \n",
       "1         1    4024.803754         36             1                 0      F   \n",
       "2         0    5623.422610         33             1                 0      M   \n",
       "3         3    4124.747207         32             1                 0      M   \n",
       "4         0    3402.660720         53             1                 1      F   \n",
       "\n",
       "  income_type  debt  total_income                     purpose  \\\n",
       "0   сотрудник     0        253875               покупка жилья   \n",
       "1   сотрудник     0        112080     приобретение автомобиля   \n",
       "2   сотрудник     0        145885               покупка жилья   \n",
       "3   сотрудник     0        267628  дополнительное образование   \n",
       "4   пенсионер     0        158616             сыграть свадьбу   \n",
       "\n",
       "  total_income_category  \n",
       "0                     B  \n",
       "1                     C  \n",
       "2                     C  \n",
       "3                     B  \n",
       "4                     C  "
      ]
     },
     "execution_count": 33,
     "metadata": {},
     "output_type": "execute_result"
    }
   ],
   "source": [
    "# Заполнение нового столбца total_income_category\n",
    "\n",
    "data.loc[data['total_income'] <= 30000, 'total_income_category'] = 'E'\n",
    "data.loc[(data['total_income'] > 30000) & (data['total_income'] <= 50000), 'total_income_category'] = 'D'\n",
    "data.loc[(data['total_income'] > 50000) & (data['total_income'] <= 200000), 'total_income_category'] = 'C'\n",
    "data.loc[(data['total_income'] > 200000) & (data['total_income'] <= 1000000), 'total_income_category'] = 'B'\n",
    "data.loc[data['total_income'] > 1000000, 'total_income_category'] = 'A'\n",
    "data.head()"
   ]
  },
  {
   "cell_type": "markdown",
   "id": "7366e4e4",
   "metadata": {},
   "source": [
    "### Шаг 2.7. Категоризация целей кредита."
   ]
  },
  {
   "cell_type": "markdown",
   "id": "39262095",
   "metadata": {},
   "source": [
    "Создание функции, которая создаст новый столбец `purpose_category`, и на основе столбца `purpose` заполнит его значениями, в который войдут слежующие категории:\n",
    "* операции с автомобилем\n",
    "* операции с недвижимостью\n",
    "* проведение свадьбы\n",
    "* получение образования"
   ]
  },
  {
   "cell_type": "code",
   "execution_count": 34,
   "id": "7f5298ac",
   "metadata": {
    "scrolled": true
   },
   "outputs": [],
   "source": [
    "# Создание функции\n",
    "def purpose_group(purpose):\n",
    "    \n",
    "    if purpose.find('автомоб') != -1:\n",
    "        return 'операции с автомобилем'\n",
    "    \n",
    "    if (purpose.find('недвижимост') != -1) or (purpose.find('жиль') != -1):\n",
    "        return 'операции с недвижимостью'\n",
    "    \n",
    "    if purpose.find('свадьб') != -1:\n",
    "        return 'проведение свадьбы'\n",
    "    \n",
    "    if purpose.find('образов') != -1:\n",
    "        return 'получение образования'\n",
    "        \n",
    " #   \n",
    "data['purpose_category'] = data['purpose'].apply(purpose_group)"
   ]
  },
  {
   "cell_type": "code",
   "execution_count": 35,
   "id": "8f12430d",
   "metadata": {},
   "outputs": [
    {
     "data": {
      "text/html": [
       "<div>\n",
       "<style scoped>\n",
       "    .dataframe tbody tr th:only-of-type {\n",
       "        vertical-align: middle;\n",
       "    }\n",
       "\n",
       "    .dataframe tbody tr th {\n",
       "        vertical-align: top;\n",
       "    }\n",
       "\n",
       "    .dataframe thead th {\n",
       "        text-align: right;\n",
       "    }\n",
       "</style>\n",
       "<table border=\"1\" class=\"dataframe\">\n",
       "  <thead>\n",
       "    <tr style=\"text-align: right;\">\n",
       "      <th></th>\n",
       "      <th>children</th>\n",
       "      <th>days_employed</th>\n",
       "      <th>dob_years</th>\n",
       "      <th>education_id</th>\n",
       "      <th>family_status_id</th>\n",
       "      <th>gender</th>\n",
       "      <th>income_type</th>\n",
       "      <th>debt</th>\n",
       "      <th>total_income</th>\n",
       "      <th>purpose</th>\n",
       "      <th>total_income_category</th>\n",
       "      <th>purpose_category</th>\n",
       "    </tr>\n",
       "  </thead>\n",
       "  <tbody>\n",
       "    <tr>\n",
       "      <th>0</th>\n",
       "      <td>1</td>\n",
       "      <td>8437.673028</td>\n",
       "      <td>42</td>\n",
       "      <td>0</td>\n",
       "      <td>0</td>\n",
       "      <td>F</td>\n",
       "      <td>сотрудник</td>\n",
       "      <td>0</td>\n",
       "      <td>253875</td>\n",
       "      <td>покупка жилья</td>\n",
       "      <td>B</td>\n",
       "      <td>операции с недвижимостью</td>\n",
       "    </tr>\n",
       "    <tr>\n",
       "      <th>1</th>\n",
       "      <td>1</td>\n",
       "      <td>4024.803754</td>\n",
       "      <td>36</td>\n",
       "      <td>1</td>\n",
       "      <td>0</td>\n",
       "      <td>F</td>\n",
       "      <td>сотрудник</td>\n",
       "      <td>0</td>\n",
       "      <td>112080</td>\n",
       "      <td>приобретение автомобиля</td>\n",
       "      <td>C</td>\n",
       "      <td>операции с автомобилем</td>\n",
       "    </tr>\n",
       "    <tr>\n",
       "      <th>2</th>\n",
       "      <td>0</td>\n",
       "      <td>5623.422610</td>\n",
       "      <td>33</td>\n",
       "      <td>1</td>\n",
       "      <td>0</td>\n",
       "      <td>M</td>\n",
       "      <td>сотрудник</td>\n",
       "      <td>0</td>\n",
       "      <td>145885</td>\n",
       "      <td>покупка жилья</td>\n",
       "      <td>C</td>\n",
       "      <td>операции с недвижимостью</td>\n",
       "    </tr>\n",
       "    <tr>\n",
       "      <th>3</th>\n",
       "      <td>3</td>\n",
       "      <td>4124.747207</td>\n",
       "      <td>32</td>\n",
       "      <td>1</td>\n",
       "      <td>0</td>\n",
       "      <td>M</td>\n",
       "      <td>сотрудник</td>\n",
       "      <td>0</td>\n",
       "      <td>267628</td>\n",
       "      <td>дополнительное образование</td>\n",
       "      <td>B</td>\n",
       "      <td>получение образования</td>\n",
       "    </tr>\n",
       "    <tr>\n",
       "      <th>4</th>\n",
       "      <td>0</td>\n",
       "      <td>3402.660720</td>\n",
       "      <td>53</td>\n",
       "      <td>1</td>\n",
       "      <td>1</td>\n",
       "      <td>F</td>\n",
       "      <td>пенсионер</td>\n",
       "      <td>0</td>\n",
       "      <td>158616</td>\n",
       "      <td>сыграть свадьбу</td>\n",
       "      <td>C</td>\n",
       "      <td>проведение свадьбы</td>\n",
       "    </tr>\n",
       "    <tr>\n",
       "      <th>5</th>\n",
       "      <td>0</td>\n",
       "      <td>926.185831</td>\n",
       "      <td>27</td>\n",
       "      <td>0</td>\n",
       "      <td>1</td>\n",
       "      <td>M</td>\n",
       "      <td>компаньон</td>\n",
       "      <td>0</td>\n",
       "      <td>255763</td>\n",
       "      <td>покупка жилья</td>\n",
       "      <td>B</td>\n",
       "      <td>операции с недвижимостью</td>\n",
       "    </tr>\n",
       "    <tr>\n",
       "      <th>6</th>\n",
       "      <td>0</td>\n",
       "      <td>2879.202052</td>\n",
       "      <td>43</td>\n",
       "      <td>0</td>\n",
       "      <td>0</td>\n",
       "      <td>F</td>\n",
       "      <td>компаньон</td>\n",
       "      <td>0</td>\n",
       "      <td>240525</td>\n",
       "      <td>операции с жильем</td>\n",
       "      <td>B</td>\n",
       "      <td>операции с недвижимостью</td>\n",
       "    </tr>\n",
       "    <tr>\n",
       "      <th>7</th>\n",
       "      <td>0</td>\n",
       "      <td>152.779569</td>\n",
       "      <td>50</td>\n",
       "      <td>1</td>\n",
       "      <td>0</td>\n",
       "      <td>M</td>\n",
       "      <td>сотрудник</td>\n",
       "      <td>0</td>\n",
       "      <td>135823</td>\n",
       "      <td>образование</td>\n",
       "      <td>C</td>\n",
       "      <td>получение образования</td>\n",
       "    </tr>\n",
       "    <tr>\n",
       "      <th>8</th>\n",
       "      <td>2</td>\n",
       "      <td>6929.865299</td>\n",
       "      <td>35</td>\n",
       "      <td>0</td>\n",
       "      <td>1</td>\n",
       "      <td>F</td>\n",
       "      <td>сотрудник</td>\n",
       "      <td>0</td>\n",
       "      <td>95856</td>\n",
       "      <td>на проведение свадьбы</td>\n",
       "      <td>C</td>\n",
       "      <td>проведение свадьбы</td>\n",
       "    </tr>\n",
       "    <tr>\n",
       "      <th>9</th>\n",
       "      <td>0</td>\n",
       "      <td>2188.756445</td>\n",
       "      <td>41</td>\n",
       "      <td>1</td>\n",
       "      <td>0</td>\n",
       "      <td>M</td>\n",
       "      <td>сотрудник</td>\n",
       "      <td>0</td>\n",
       "      <td>144425</td>\n",
       "      <td>покупка жилья для семьи</td>\n",
       "      <td>C</td>\n",
       "      <td>операции с недвижимостью</td>\n",
       "    </tr>\n",
       "  </tbody>\n",
       "</table>\n",
       "</div>"
      ],
      "text/plain": [
       "   children  days_employed  dob_years  education_id  family_status_id gender  \\\n",
       "0         1    8437.673028         42             0                 0      F   \n",
       "1         1    4024.803754         36             1                 0      F   \n",
       "2         0    5623.422610         33             1                 0      M   \n",
       "3         3    4124.747207         32             1                 0      M   \n",
       "4         0    3402.660720         53             1                 1      F   \n",
       "5         0     926.185831         27             0                 1      M   \n",
       "6         0    2879.202052         43             0                 0      F   \n",
       "7         0     152.779569         50             1                 0      M   \n",
       "8         2    6929.865299         35             0                 1      F   \n",
       "9         0    2188.756445         41             1                 0      M   \n",
       "\n",
       "  income_type  debt  total_income                     purpose  \\\n",
       "0   сотрудник     0        253875               покупка жилья   \n",
       "1   сотрудник     0        112080     приобретение автомобиля   \n",
       "2   сотрудник     0        145885               покупка жилья   \n",
       "3   сотрудник     0        267628  дополнительное образование   \n",
       "4   пенсионер     0        158616             сыграть свадьбу   \n",
       "5   компаньон     0        255763               покупка жилья   \n",
       "6   компаньон     0        240525           операции с жильем   \n",
       "7   сотрудник     0        135823                 образование   \n",
       "8   сотрудник     0         95856       на проведение свадьбы   \n",
       "9   сотрудник     0        144425     покупка жилья для семьи   \n",
       "\n",
       "  total_income_category          purpose_category  \n",
       "0                     B  операции с недвижимостью  \n",
       "1                     C    операции с автомобилем  \n",
       "2                     C  операции с недвижимостью  \n",
       "3                     B     получение образования  \n",
       "4                     C        проведение свадьбы  \n",
       "5                     B  операции с недвижимостью  \n",
       "6                     B  операции с недвижимостью  \n",
       "7                     C     получение образования  \n",
       "8                     C        проведение свадьбы  \n",
       "9                     C  операции с недвижимостью  "
      ]
     },
     "execution_count": 35,
     "metadata": {},
     "output_type": "execute_result"
    }
   ],
   "source": [
    "# Проверка рабыты функции\n",
    "data[:10]"
   ]
  },
  {
   "cell_type": "markdown",
   "id": "810c2893",
   "metadata": {},
   "source": [
    "### Ответы на вопросы."
   ]
  },
  {
   "cell_type": "markdown",
   "id": "743bf97e",
   "metadata": {},
   "source": [
    "##### Вопрос 1: Есть ли зависимость между количеством детей и возвратом кредита в срок?"
   ]
  },
  {
   "cell_type": "code",
   "execution_count": 36,
   "id": "d2ad79f9",
   "metadata": {},
   "outputs": [],
   "source": [
    "pivot_data_children = data.pivot_table(index=['debt'], \n",
    "                                       values='total_income', \n",
    "                                       columns='children', \n",
    "                                       aggfunc='count')"
   ]
  },
  {
   "cell_type": "code",
   "execution_count": 37,
   "id": "387f34a7",
   "metadata": {},
   "outputs": [
    {
     "data": {
      "text/plain": [
       "'Процент просрочеки кредита у бездетных: 7.56%'"
      ]
     },
     "metadata": {},
     "output_type": "display_data"
    },
    {
     "data": {
      "text/plain": [
       "'Процент просрочеки кредита у клиентов имеющих одного ребенка: 9.17%'"
      ]
     },
     "metadata": {},
     "output_type": "display_data"
    },
    {
     "data": {
      "text/plain": [
       "'Процент просрочеки кредита у клиентов имеющих двух детей: 9.45%'"
      ]
     },
     "metadata": {},
     "output_type": "display_data"
    },
    {
     "data": {
      "text/plain": [
       "'Процент просрочеки кредита у клиентов имеющих трех детей: 8.18%'"
      ]
     },
     "metadata": {},
     "output_type": "display_data"
    },
    {
     "data": {
      "text/plain": [
       "'Процент просрочеки кредита у клиентов имеющих четырех детей: 9.76%'"
      ]
     },
     "metadata": {},
     "output_type": "display_data"
    }
   ],
   "source": [
    "display('Процент просрочеки кредита у бездетных: {0:.2f}%'\n",
    "        .format(pivot_data_children[0][1] / \n",
    "                (pivot_data_children[0][0] + pivot_data_children[0][1]) * \n",
    "                100))\n",
    "display('Процент просрочеки кредита у клиентов имеющих одного ребенка: {0:.2f}%'\n",
    "        .format(pivot_data_children[1][1] / \n",
    "                (pivot_data_children[1][0] + pivot_data_children[1][1]) * \n",
    "                100))\n",
    "display('Процент просрочеки кредита у клиентов имеющих двух детей: {0:.2f}%'\n",
    "        .format(pivot_data_children[2][1] /\n",
    "                (pivot_data_children[2][0] + pivot_data_children[2][1]) *\n",
    "                100))\n",
    "display('Процент просрочеки кредита у клиентов имеющих трех детей: {0:.2f}%'\n",
    "        .format(pivot_data_children[3][1] /\n",
    "                (pivot_data_children[3][0] + pivot_data_children[3][1]) *\n",
    "                100))\n",
    "display('Процент просрочеки кредита у клиентов имеющих четырех детей: {0:.2f}%'\n",
    "        .format(pivot_data_children[4][1] / \n",
    "                (pivot_data_children[4][0] + pivot_data_children[4][1]) *\n",
    "                100))"
   ]
  },
  {
   "cell_type": "markdown",
   "id": "64633b26",
   "metadata": {},
   "source": [
    "##### Вывод 1: Появление ребенка увеличивает риск просрочки по кредиту."
   ]
  },
  {
   "cell_type": "markdown",
   "id": "9ef43cea",
   "metadata": {},
   "source": [
    "##### Вопрос 2: Есть ли зависимость между семейным положением и возвратом кредита в срок?"
   ]
  },
  {
   "cell_type": "code",
   "execution_count": 38,
   "id": "78a0bd0e",
   "metadata": {},
   "outputs": [],
   "source": [
    "pivot_data_family_status = data.pivot_table(index=['debt'], \n",
    "                                               columns='family_status_id', \n",
    "                                               values='total_income', \n",
    "                                               aggfunc='count')"
   ]
  },
  {
   "cell_type": "code",
   "execution_count": 39,
   "id": "514680ff",
   "metadata": {},
   "outputs": [
    {
     "data": {
      "text/plain": [
       "'Процент женатых/замужних клиентов банка, просрочивших платеж по кредиту: 7.55%'"
      ]
     },
     "metadata": {},
     "output_type": "display_data"
    },
    {
     "data": {
      "text/plain": [
       "'Процент клиентов банка в гражданском браке, просрочивших платеж по кредиту: 9.35%'"
      ]
     },
     "metadata": {},
     "output_type": "display_data"
    },
    {
     "data": {
      "text/plain": [
       "'Процент вдовцов/вдов клиентов банка, просрочивших платеж по кредиту: 6.57%'"
      ]
     },
     "metadata": {},
     "output_type": "display_data"
    },
    {
     "data": {
      "text/plain": [
       "'Процент клиентов банка в разводе, просрочивших платеж по кредиту: 7.11%'"
      ]
     },
     "metadata": {},
     "output_type": "display_data"
    },
    {
     "data": {
      "text/plain": [
       "'Процент не женатых/не замужних клиентов банка, просрочивших платеж по кредиту: 9.75%'"
      ]
     },
     "metadata": {},
     "output_type": "display_data"
    }
   ],
   "source": [
    "display('Процент женатых/замужних клиентов банка, просрочивших платеж по кредиту: {0:.2f}%'\n",
    "        .format(pivot_data_family_status[0][1] / \n",
    "                (pivot_data_family_status[0][0] + pivot_data_family_status[0][1]) * \n",
    "                100))\n",
    "\n",
    "display('Процент клиентов банка в гражданском браке, просрочивших платеж по кредиту: {0:.2f}%'\n",
    "        .format(pivot_data_family_status[1][1] / \n",
    "                (pivot_data_family_status[1][0] + pivot_data_family_status[1][1]) *\n",
    "                100))\n",
    "\n",
    "display('Процент вдовцов/вдов клиентов банка, просрочивших платеж по кредиту: {0:.2f}%'\n",
    "        .format(pivot_data_family_status[2][1] /\n",
    "                (pivot_data_family_status[2][0] + pivot_data_family_status[2][1]) *\n",
    "                100))\n",
    "\n",
    "display('Процент клиентов банка в разводе, просрочивших платеж по кредиту: {0:.2f}%'\n",
    "        .format(pivot_data_family_status[3][1] /\n",
    "                (pivot_data_family_status[3][0] + pivot_data_family_status[3][1]) * \n",
    "                100))\n",
    "\n",
    "display('Процент не женатых/не замужних клиентов банка, просрочивших платеж по кредиту: {0:.2f}%'\n",
    "        .format(pivot_data_family_status[4][1] / \n",
    "                (pivot_data_family_status[4][0] + pivot_data_family_status[4][1]) * \n",
    "                100))"
   ]
  },
  {
   "cell_type": "markdown",
   "id": "9f8d0020",
   "metadata": {},
   "source": [
    "##### Вывод 2: Самые рискованные для банка не женатые/не замужние клиенты и клиенты в гражданском браке."
   ]
  },
  {
   "cell_type": "markdown",
   "id": "6f3b91ac",
   "metadata": {},
   "source": [
    "##### Вопрос 3: Есть ли зависимость между уровнем дохода и возвратом кредита в срок?"
   ]
  },
  {
   "cell_type": "code",
   "execution_count": 40,
   "id": "de8e18cd",
   "metadata": {},
   "outputs": [
    {
     "data": {
      "text/plain": [
       "'Процент клиентов банка с доходом 0–30000, просрочивших платеж по кредиту: 9.09%'"
      ]
     },
     "metadata": {},
     "output_type": "display_data"
    },
    {
     "data": {
      "text/plain": [
       "'Процент клиентов банка с доходом 30001–50000, просрочивших платеж по кредиту: 6.00%'"
      ]
     },
     "metadata": {},
     "output_type": "display_data"
    },
    {
     "data": {
      "text/plain": [
       "'Процент клиентов банка с доходом 50001–200000, просрочивших платеж по кредиту: 8.49%'"
      ]
     },
     "metadata": {},
     "output_type": "display_data"
    },
    {
     "data": {
      "text/plain": [
       "'Процент клиентов банка с доходом 200001–1000000, просрочивших платеж по кредиту: 7.06%'"
      ]
     },
     "metadata": {},
     "output_type": "display_data"
    },
    {
     "data": {
      "text/plain": [
       "'Процент клиентов банка с доходом 1000001 и выше, просрочивших платеж по кредиту: 8.00%'"
      ]
     },
     "metadata": {},
     "output_type": "display_data"
    }
   ],
   "source": [
    "pivot_data_total_income_category = data.pivot_table(index=['debt'], \n",
    "                                                    columns='total_income_category', \n",
    "                                                    values='total_income', \n",
    "                                                    aggfunc='count')\n",
    "\n",
    "display('Процент клиентов банка с доходом 0–30000, просрочивших платеж по кредиту: {0:.2f}%'\n",
    "        .format(pivot_data_total_income_category['E'][1] / \n",
    "                (pivot_data_total_income_category['E'][0] + pivot_data_total_income_category['E'][1]) * \n",
    "                100))\n",
    "\n",
    "display('Процент клиентов банка с доходом 30001–50000, просрочивших платеж по кредиту: {0:.2f}%'\n",
    "        .format(pivot_data_total_income_category['D'][1] / \n",
    "                (pivot_data_total_income_category['D'][0] + pivot_data_total_income_category['D'][1]) * \n",
    "                100))\n",
    "\n",
    "display('Процент клиентов банка с доходом 50001–200000, просрочивших платеж по кредиту: {0:.2f}%'\n",
    "        .format(pivot_data_total_income_category['C'][1] / \n",
    "                (pivot_data_total_income_category['C'][0] + pivot_data_total_income_category['C'][1]) *\n",
    "                100))\n",
    "\n",
    "display('Процент клиентов банка с доходом 200001–1000000, просрочивших платеж по кредиту: {0:.2f}%'\n",
    "        .format(pivot_data_total_income_category['B'][1] / \n",
    "                (pivot_data_total_income_category['B'][0] + pivot_data_total_income_category['B'][1]) * \n",
    "                100))\n",
    "\n",
    "display('Процент клиентов банка с доходом 1000001 и выше, просрочивших платеж по кредиту: {0:.2f}%'\n",
    "        .format(pivot_data_total_income_category['A'][1] / \n",
    "                (pivot_data_total_income_category['A'][0] + pivot_data_total_income_category['A'][1]) * \n",
    "                100))"
   ]
  },
  {
   "cell_type": "markdown",
   "id": "f86bb3bd",
   "metadata": {},
   "source": [
    "##### Вывод 3:  Наименее рискованными для банка являются клиенты с доходом от 30001 до 50000"
   ]
  },
  {
   "cell_type": "markdown",
   "id": "c6d50e25",
   "metadata": {},
   "source": [
    "##### Вопрос 4: Как разные цели кредита влияют на его возврат в срок?"
   ]
  },
  {
   "cell_type": "code",
   "execution_count": 41,
   "id": "5b98ba8f",
   "metadata": {},
   "outputs": [
    {
     "data": {
      "text/plain": [
       "'Процент клинтов банка с целью кредита операции с автомобилем, просрочивших платеж: 9.36%'"
      ]
     },
     "metadata": {},
     "output_type": "display_data"
    },
    {
     "data": {
      "text/plain": [
       "'Процент клинтов банка с целью кредита получение образования, просрочивших платеж: 9.22%'"
      ]
     },
     "metadata": {},
     "output_type": "display_data"
    },
    {
     "data": {
      "text/plain": [
       "'Процент клинтов банка с целью кредита проведение свадьбы, просрочивших платеж: 8.00%'"
      ]
     },
     "metadata": {},
     "output_type": "display_data"
    },
    {
     "data": {
      "text/plain": [
       "'Процент клинтов банка с целью кредита операции с недвижимостью, просрочивших платеж: 7.23%'"
      ]
     },
     "metadata": {},
     "output_type": "display_data"
    }
   ],
   "source": [
    "pivot_data_total_purpose_category = data.pivot_table(index=['debt'],\n",
    "                                                        columns='purpose_category',\n",
    "                                                        values='total_income',\n",
    "                                                        aggfunc='count')\n",
    "\n",
    "\n",
    "display('Процент клинтов банка с целью кредита операции с автомобилем, просрочивших платеж: {0:.2f}%'\n",
    "        .format(pivot_data_total_purpose_category['операции с автомобилем'][1] /\n",
    "                (pivot_data_total_purpose_category['операции с автомобилем'][0] + \n",
    "                pivot_data_total_purpose_category['операции с автомобилем'][1]) *\n",
    "                100))\n",
    "\n",
    "display('Процент клинтов банка с целью кредита получение образования, просрочивших платеж: {0:.2f}%'\n",
    "        .format(pivot_data_total_purpose_category['получение образования'][1] /\n",
    "                (pivot_data_total_purpose_category['получение образования'][0] + \n",
    "                pivot_data_total_purpose_category['получение образования'][1]) * \n",
    "                100))\n",
    "\n",
    "display('Процент клинтов банка с целью кредита проведение свадьбы, просрочивших платеж: {0:.2f}%'\n",
    "        .format(pivot_data_total_purpose_category['проведение свадьбы'][1] /\n",
    "                (pivot_data_total_purpose_category['проведение свадьбы'][0] +\n",
    "                pivot_data_total_purpose_category['проведение свадьбы'][1]) *\n",
    "                100))\n",
    "\n",
    "display('Процент клинтов банка с целью кредита операции с недвижимостью, просрочивших платеж: {0:.2f}%'\n",
    "        .format(pivot_data_total_purpose_category['операции с недвижимостью'][1] /\n",
    "                (pivot_data_total_purpose_category['операции с недвижимостью'][0] +\n",
    "                pivot_data_total_purpose_category['операции с недвижимостью'][1]) *\n",
    "                100))"
   ]
  },
  {
   "cell_type": "markdown",
   "id": "9e40c512",
   "metadata": {},
   "source": [
    "##### Вывод 4: Наимение рискованные клиенты для банка берущие кридит с целью - операции с недвижимостью."
   ]
  },
  {
   "cell_type": "markdown",
   "id": "d5eac275",
   "metadata": {},
   "source": [
    "## Общий вывод:"
   ]
  },
  {
   "cell_type": "markdown",
   "id": "925fd078",
   "metadata": {},
   "source": [
    "В ходе исследования были:\n",
    "1. Заполнены пропуски и удалены дубликаты.\n",
    "2. Сформированы дополнительные датафреймы словари для декомпозиции исходного датафрейма.\n",
    "3. Категоризированны данные по уровню дохода и цели кредита.\n",
    "4. Применины сводные таблицы и была проведена оценка, что влияют на возврат кредита в срок. \n",
    "\n",
    "<b>Портрет самого безрискового клиента для банка выглядит так:</b></br> \n",
    "<b>Это бездетный вдовец/вдова с доходом от 30001 до 50000, берущий кредит на операции с недвижимостью.</b>"
   ]
  }
 ],
 "metadata": {
  "ExecuteTimeLog": [
   {
    "duration": 571,
    "start_time": "2022-05-23T14:51:59.347Z"
   },
   {
    "duration": 122,
    "start_time": "2022-05-23T15:01:40.604Z"
   },
   {
    "duration": 53,
    "start_time": "2022-05-23T15:01:43.311Z"
   },
   {
    "duration": 68,
    "start_time": "2022-05-23T15:01:55.066Z"
   },
   {
    "duration": 64,
    "start_time": "2022-05-23T15:02:36.452Z"
   },
   {
    "duration": 67,
    "start_time": "2022-05-23T15:02:40.484Z"
   },
   {
    "duration": 3,
    "start_time": "2022-05-23T15:03:27.604Z"
   },
   {
    "duration": 62,
    "start_time": "2022-05-23T15:04:30.646Z"
   },
   {
    "duration": 3,
    "start_time": "2022-05-23T15:06:07.473Z"
   },
   {
    "duration": 2,
    "start_time": "2022-05-23T15:06:11.364Z"
   },
   {
    "duration": 14,
    "start_time": "2022-05-23T15:06:16.013Z"
   },
   {
    "duration": 57,
    "start_time": "2022-05-24T16:02:40.563Z"
   },
   {
    "duration": 628,
    "start_time": "2022-05-24T16:02:51.904Z"
   },
   {
    "duration": 394,
    "start_time": "2022-05-24T16:02:52.889Z"
   },
   {
    "duration": 19,
    "start_time": "2022-05-24T16:02:53.409Z"
   },
   {
    "duration": 13,
    "start_time": "2022-05-24T16:03:02.712Z"
   },
   {
    "duration": 14,
    "start_time": "2022-05-24T16:03:11.732Z"
   },
   {
    "duration": 16,
    "start_time": "2022-05-24T16:05:09.572Z"
   },
   {
    "duration": 12,
    "start_time": "2022-05-24T16:05:25.017Z"
   },
   {
    "duration": 16,
    "start_time": "2022-05-24T16:05:51.913Z"
   },
   {
    "duration": 16,
    "start_time": "2022-05-24T16:06:09.058Z"
   },
   {
    "duration": 12,
    "start_time": "2022-05-24T16:06:17.259Z"
   },
   {
    "duration": 4,
    "start_time": "2022-05-25T14:43:02.695Z"
   },
   {
    "duration": 57,
    "start_time": "2022-05-25T14:44:30.727Z"
   },
   {
    "duration": 7,
    "start_time": "2022-05-25T14:44:34.730Z"
   },
   {
    "duration": 528,
    "start_time": "2022-05-25T14:44:38.487Z"
   },
   {
    "duration": 312,
    "start_time": "2022-05-25T14:44:39.017Z"
   },
   {
    "duration": 20,
    "start_time": "2022-05-25T14:44:39.331Z"
   },
   {
    "duration": 19,
    "start_time": "2022-05-25T14:44:39.352Z"
   },
   {
    "duration": 65,
    "start_time": "2022-05-25T14:44:39.374Z"
   },
   {
    "duration": 26,
    "start_time": "2022-05-25T14:45:12.761Z"
   },
   {
    "duration": 22,
    "start_time": "2022-05-25T14:45:14.628Z"
   },
   {
    "duration": 5,
    "start_time": "2022-05-25T14:45:34.078Z"
   },
   {
    "duration": 18,
    "start_time": "2022-05-25T14:47:20.888Z"
   },
   {
    "duration": 19,
    "start_time": "2022-05-25T14:47:21.894Z"
   },
   {
    "duration": 18,
    "start_time": "2022-05-25T14:47:25.228Z"
   },
   {
    "duration": 30,
    "start_time": "2022-05-25T14:47:53.186Z"
   },
   {
    "duration": 21,
    "start_time": "2022-05-25T14:47:55.187Z"
   },
   {
    "duration": 19,
    "start_time": "2022-05-25T14:50:25.216Z"
   },
   {
    "duration": 20,
    "start_time": "2022-05-25T14:50:25.908Z"
   },
   {
    "duration": 147,
    "start_time": "2022-05-25T14:50:33.506Z"
   },
   {
    "duration": 13,
    "start_time": "2022-05-25T14:52:54.417Z"
   },
   {
    "duration": 6,
    "start_time": "2022-05-25T14:52:58.806Z"
   },
   {
    "duration": 8,
    "start_time": "2022-05-25T14:53:21.614Z"
   },
   {
    "duration": 11,
    "start_time": "2022-05-25T14:53:34.297Z"
   },
   {
    "duration": 10,
    "start_time": "2022-05-25T14:53:41.546Z"
   },
   {
    "duration": 9,
    "start_time": "2022-05-25T14:53:55.349Z"
   },
   {
    "duration": 8,
    "start_time": "2022-05-25T14:54:02.295Z"
   },
   {
    "duration": 7,
    "start_time": "2022-05-25T14:54:50.627Z"
   },
   {
    "duration": 7,
    "start_time": "2022-05-25T14:56:39.966Z"
   },
   {
    "duration": 8,
    "start_time": "2022-05-25T14:56:42.705Z"
   },
   {
    "duration": 9,
    "start_time": "2022-05-25T14:56:46.446Z"
   },
   {
    "duration": 7,
    "start_time": "2022-05-25T14:57:25.166Z"
   },
   {
    "duration": 40,
    "start_time": "2022-05-25T14:57:41.254Z"
   },
   {
    "duration": 5,
    "start_time": "2022-05-25T14:58:02.905Z"
   },
   {
    "duration": 9,
    "start_time": "2022-05-25T14:59:34.469Z"
   },
   {
    "duration": 6,
    "start_time": "2022-05-25T15:01:02.332Z"
   },
   {
    "duration": 8,
    "start_time": "2022-05-25T15:01:10.725Z"
   },
   {
    "duration": 8,
    "start_time": "2022-05-25T15:01:21.225Z"
   },
   {
    "duration": 9,
    "start_time": "2022-05-25T15:01:22.104Z"
   },
   {
    "duration": 8,
    "start_time": "2022-05-25T15:01:49.906Z"
   },
   {
    "duration": 10,
    "start_time": "2022-05-25T15:01:50.604Z"
   },
   {
    "duration": 6,
    "start_time": "2022-05-25T15:07:00.102Z"
   },
   {
    "duration": 4,
    "start_time": "2022-05-25T15:07:19.123Z"
   },
   {
    "duration": 5,
    "start_time": "2022-05-25T15:09:10.891Z"
   },
   {
    "duration": 2,
    "start_time": "2022-05-25T15:11:16.743Z"
   },
   {
    "duration": 5,
    "start_time": "2022-05-25T15:12:38.561Z"
   },
   {
    "duration": 5,
    "start_time": "2022-05-25T15:12:50.867Z"
   },
   {
    "duration": 2,
    "start_time": "2022-05-25T15:14:40.930Z"
   },
   {
    "duration": 12,
    "start_time": "2022-05-25T15:15:56.341Z"
   },
   {
    "duration": 6,
    "start_time": "2022-05-25T15:16:12.821Z"
   },
   {
    "duration": 16,
    "start_time": "2022-05-25T15:16:49.749Z"
   },
   {
    "duration": 4,
    "start_time": "2022-05-25T15:17:49.830Z"
   },
   {
    "duration": 15,
    "start_time": "2022-05-25T15:17:51.409Z"
   },
   {
    "duration": 4,
    "start_time": "2022-05-25T15:35:09.804Z"
   },
   {
    "duration": 29,
    "start_time": "2022-05-25T15:39:19.295Z"
   },
   {
    "duration": 6,
    "start_time": "2022-05-25T15:50:33.012Z"
   },
   {
    "duration": 10,
    "start_time": "2022-05-25T15:50:57.865Z"
   },
   {
    "duration": 3,
    "start_time": "2022-05-25T15:51:13.734Z"
   },
   {
    "duration": 4,
    "start_time": "2022-05-25T15:51:16.066Z"
   },
   {
    "duration": 8,
    "start_time": "2022-05-25T15:51:21.909Z"
   },
   {
    "duration": 9,
    "start_time": "2022-05-25T15:51:48.966Z"
   },
   {
    "duration": 6,
    "start_time": "2022-05-25T15:52:34.026Z"
   },
   {
    "duration": 19,
    "start_time": "2022-05-25T15:52:50.127Z"
   },
   {
    "duration": 18,
    "start_time": "2022-05-25T15:52:58.668Z"
   },
   {
    "duration": 17,
    "start_time": "2022-05-25T15:53:28.867Z"
   },
   {
    "duration": 15,
    "start_time": "2022-05-25T15:54:28.186Z"
   },
   {
    "duration": 15,
    "start_time": "2022-05-25T15:55:03.086Z"
   },
   {
    "duration": 16,
    "start_time": "2022-05-25T15:55:12.886Z"
   },
   {
    "duration": 18,
    "start_time": "2022-05-25T15:55:22.188Z"
   },
   {
    "duration": 20,
    "start_time": "2022-05-25T15:55:29.726Z"
   },
   {
    "duration": 21,
    "start_time": "2022-05-25T15:55:44.446Z"
   },
   {
    "duration": 21,
    "start_time": "2022-05-25T15:56:12.427Z"
   },
   {
    "duration": 3,
    "start_time": "2022-05-25T15:56:28.901Z"
   },
   {
    "duration": 77,
    "start_time": "2022-05-25T15:56:28.905Z"
   },
   {
    "duration": 12,
    "start_time": "2022-05-25T15:56:28.984Z"
   },
   {
    "duration": 16,
    "start_time": "2022-05-25T15:56:28.998Z"
   },
   {
    "duration": 10,
    "start_time": "2022-05-25T15:56:29.016Z"
   },
   {
    "duration": 4,
    "start_time": "2022-05-25T15:56:29.027Z"
   },
   {
    "duration": 19,
    "start_time": "2022-05-25T15:56:29.032Z"
   },
   {
    "duration": 17,
    "start_time": "2022-05-25T15:56:39.434Z"
   },
   {
    "duration": 16,
    "start_time": "2022-05-25T15:57:17.192Z"
   },
   {
    "duration": 15,
    "start_time": "2022-05-25T15:57:27.627Z"
   },
   {
    "duration": 17,
    "start_time": "2022-05-25T15:57:34.946Z"
   },
   {
    "duration": 10,
    "start_time": "2022-05-25T15:58:17.626Z"
   },
   {
    "duration": 11,
    "start_time": "2022-05-25T15:58:26.191Z"
   },
   {
    "duration": 8,
    "start_time": "2022-05-25T15:58:31.704Z"
   },
   {
    "duration": 9,
    "start_time": "2022-05-25T15:58:43.666Z"
   },
   {
    "duration": 15,
    "start_time": "2022-05-25T15:58:52.706Z"
   },
   {
    "duration": 16,
    "start_time": "2022-05-25T15:59:02.599Z"
   },
   {
    "duration": 15,
    "start_time": "2022-05-25T15:59:06.167Z"
   },
   {
    "duration": 16,
    "start_time": "2022-05-25T15:59:09.866Z"
   },
   {
    "duration": 2,
    "start_time": "2022-05-25T15:59:15.427Z"
   },
   {
    "duration": 79,
    "start_time": "2022-05-25T15:59:15.431Z"
   },
   {
    "duration": 12,
    "start_time": "2022-05-25T15:59:15.512Z"
   },
   {
    "duration": 22,
    "start_time": "2022-05-25T15:59:15.526Z"
   },
   {
    "duration": 6,
    "start_time": "2022-05-25T15:59:15.550Z"
   },
   {
    "duration": 6,
    "start_time": "2022-05-25T15:59:15.557Z"
   },
   {
    "duration": 20,
    "start_time": "2022-05-25T15:59:15.564Z"
   },
   {
    "duration": 17,
    "start_time": "2022-05-25T15:59:15.585Z"
   },
   {
    "duration": 11,
    "start_time": "2022-05-25T15:59:40.066Z"
   },
   {
    "duration": 10,
    "start_time": "2022-05-25T15:59:44.826Z"
   },
   {
    "duration": 11,
    "start_time": "2022-05-25T15:59:49.306Z"
   },
   {
    "duration": 14,
    "start_time": "2022-05-25T15:59:54.148Z"
   },
   {
    "duration": 2,
    "start_time": "2022-05-25T16:00:14.868Z"
   },
   {
    "duration": 135,
    "start_time": "2022-05-25T16:00:14.872Z"
   },
   {
    "duration": 13,
    "start_time": "2022-05-25T16:00:15.009Z"
   },
   {
    "duration": 26,
    "start_time": "2022-05-25T16:00:15.024Z"
   },
   {
    "duration": 13,
    "start_time": "2022-05-25T16:00:15.052Z"
   },
   {
    "duration": 11,
    "start_time": "2022-05-25T16:00:15.067Z"
   },
   {
    "duration": 23,
    "start_time": "2022-05-25T16:00:15.080Z"
   },
   {
    "duration": 20,
    "start_time": "2022-05-25T16:00:15.104Z"
   },
   {
    "duration": 16,
    "start_time": "2022-05-25T16:00:22.122Z"
   },
   {
    "duration": 3,
    "start_time": "2022-05-25T16:00:27.215Z"
   },
   {
    "duration": 77,
    "start_time": "2022-05-25T16:00:27.219Z"
   },
   {
    "duration": 12,
    "start_time": "2022-05-25T16:00:27.298Z"
   },
   {
    "duration": 20,
    "start_time": "2022-05-25T16:00:27.312Z"
   },
   {
    "duration": 6,
    "start_time": "2022-05-25T16:00:27.334Z"
   },
   {
    "duration": 16,
    "start_time": "2022-05-25T16:00:27.342Z"
   },
   {
    "duration": 23,
    "start_time": "2022-05-25T16:00:27.360Z"
   },
   {
    "duration": 16,
    "start_time": "2022-05-25T16:00:27.385Z"
   },
   {
    "duration": 16,
    "start_time": "2022-05-25T16:00:41.306Z"
   },
   {
    "duration": 3,
    "start_time": "2022-05-25T16:00:44.907Z"
   },
   {
    "duration": 87,
    "start_time": "2022-05-25T16:00:44.912Z"
   },
   {
    "duration": 14,
    "start_time": "2022-05-25T16:00:45.000Z"
   },
   {
    "duration": 38,
    "start_time": "2022-05-25T16:00:45.016Z"
   },
   {
    "duration": 10,
    "start_time": "2022-05-25T16:00:45.057Z"
   },
   {
    "duration": 6,
    "start_time": "2022-05-25T16:00:45.069Z"
   },
   {
    "duration": 20,
    "start_time": "2022-05-25T16:00:45.077Z"
   },
   {
    "duration": 1915,
    "start_time": "2022-05-25T16:00:45.099Z"
   },
   {
    "duration": 14,
    "start_time": "2022-05-25T16:03:03.515Z"
   },
   {
    "duration": 19,
    "start_time": "2022-05-25T16:03:09.722Z"
   },
   {
    "duration": 21,
    "start_time": "2022-05-25T16:04:12.795Z"
   },
   {
    "duration": 13,
    "start_time": "2022-05-25T16:04:17.799Z"
   },
   {
    "duration": 423,
    "start_time": "2022-05-26T14:57:06.289Z"
   },
   {
    "duration": 665,
    "start_time": "2022-05-26T14:57:06.713Z"
   },
   {
    "duration": 27,
    "start_time": "2022-05-26T14:57:07.380Z"
   },
   {
    "duration": 16,
    "start_time": "2022-05-26T14:57:24.658Z"
   },
   {
    "duration": 5,
    "start_time": "2022-05-26T14:58:21.729Z"
   },
   {
    "duration": 6,
    "start_time": "2022-05-26T14:58:40.243Z"
   },
   {
    "duration": 7,
    "start_time": "2022-05-26T15:00:03.785Z"
   },
   {
    "duration": 110,
    "start_time": "2022-05-26T15:03:08.977Z"
   },
   {
    "duration": 7,
    "start_time": "2022-05-26T15:03:24.967Z"
   },
   {
    "duration": 11,
    "start_time": "2022-05-26T15:04:36.390Z"
   },
   {
    "duration": 9,
    "start_time": "2022-05-26T15:05:00.086Z"
   },
   {
    "duration": 6,
    "start_time": "2022-05-26T15:05:56.520Z"
   },
   {
    "duration": 8,
    "start_time": "2022-05-26T15:06:52.131Z"
   },
   {
    "duration": 5,
    "start_time": "2022-05-26T15:07:18.741Z"
   },
   {
    "duration": 8,
    "start_time": "2022-05-26T15:07:51.985Z"
   },
   {
    "duration": 8,
    "start_time": "2022-05-26T15:08:32.759Z"
   },
   {
    "duration": 6,
    "start_time": "2022-05-26T15:09:18.334Z"
   },
   {
    "duration": 8,
    "start_time": "2022-05-26T15:09:48.028Z"
   },
   {
    "duration": 10,
    "start_time": "2022-05-26T15:10:03.033Z"
   },
   {
    "duration": 812,
    "start_time": "2022-05-26T15:13:00.039Z"
   },
   {
    "duration": 750,
    "start_time": "2022-05-26T15:13:26.131Z"
   },
   {
    "duration": 4,
    "start_time": "2022-05-26T15:13:49.349Z"
   },
   {
    "duration": 4,
    "start_time": "2022-05-26T15:13:58.890Z"
   },
   {
    "duration": 4,
    "start_time": "2022-05-26T15:15:03.647Z"
   },
   {
    "duration": 7,
    "start_time": "2022-05-26T15:15:17.385Z"
   },
   {
    "duration": 6,
    "start_time": "2022-05-26T15:15:27.349Z"
   },
   {
    "duration": 7,
    "start_time": "2022-05-26T15:15:53.840Z"
   },
   {
    "duration": 7,
    "start_time": "2022-05-26T15:16:34.848Z"
   },
   {
    "duration": 2,
    "start_time": "2022-05-26T15:17:00.555Z"
   },
   {
    "duration": 115,
    "start_time": "2022-05-26T15:17:00.560Z"
   },
   {
    "duration": 15,
    "start_time": "2022-05-26T15:17:00.677Z"
   },
   {
    "duration": 26,
    "start_time": "2022-05-26T15:17:00.693Z"
   },
   {
    "duration": 17,
    "start_time": "2022-05-26T15:17:00.721Z"
   },
   {
    "duration": 29,
    "start_time": "2022-05-26T15:17:00.740Z"
   },
   {
    "duration": 35,
    "start_time": "2022-05-26T15:17:00.771Z"
   },
   {
    "duration": 26,
    "start_time": "2022-05-26T15:17:00.808Z"
   },
   {
    "duration": 15,
    "start_time": "2022-05-26T15:17:00.836Z"
   },
   {
    "duration": 43,
    "start_time": "2022-05-26T15:17:00.853Z"
   },
   {
    "duration": 19,
    "start_time": "2022-05-26T15:17:00.898Z"
   },
   {
    "duration": 27,
    "start_time": "2022-05-26T15:17:00.919Z"
   },
   {
    "duration": 38,
    "start_time": "2022-05-26T15:17:00.948Z"
   },
   {
    "duration": 55,
    "start_time": "2022-05-26T15:17:00.989Z"
   },
   {
    "duration": 35,
    "start_time": "2022-05-26T15:17:01.047Z"
   },
   {
    "duration": 35,
    "start_time": "2022-05-26T15:17:01.084Z"
   },
   {
    "duration": 37,
    "start_time": "2022-05-26T15:17:01.121Z"
   },
   {
    "duration": 68,
    "start_time": "2022-05-26T15:17:01.166Z"
   },
   {
    "duration": 208,
    "start_time": "2022-05-26T15:17:01.236Z"
   },
   {
    "duration": 7,
    "start_time": "2022-05-26T15:17:01.446Z"
   },
   {
    "duration": 10,
    "start_time": "2022-05-26T15:22:22.452Z"
   },
   {
    "duration": 729,
    "start_time": "2022-05-27T13:47:43.447Z"
   },
   {
    "duration": 346,
    "start_time": "2022-05-27T13:47:44.178Z"
   },
   {
    "duration": 22,
    "start_time": "2022-05-27T13:47:44.526Z"
   },
   {
    "duration": 23,
    "start_time": "2022-05-27T13:47:44.551Z"
   },
   {
    "duration": 6,
    "start_time": "2022-05-27T13:47:44.577Z"
   },
   {
    "duration": 29,
    "start_time": "2022-05-27T13:47:44.585Z"
   },
   {
    "duration": 7,
    "start_time": "2022-05-27T13:48:10.135Z"
   },
   {
    "duration": 8,
    "start_time": "2022-05-27T13:48:59.863Z"
   },
   {
    "duration": 8,
    "start_time": "2022-05-27T13:49:15.201Z"
   },
   {
    "duration": 10,
    "start_time": "2022-05-27T13:49:28.578Z"
   },
   {
    "duration": 5,
    "start_time": "2022-05-27T13:50:39.346Z"
   },
   {
    "duration": 8,
    "start_time": "2022-05-27T13:53:39.845Z"
   },
   {
    "duration": 88,
    "start_time": "2022-05-27T13:54:01.858Z"
   },
   {
    "duration": 10,
    "start_time": "2022-05-27T13:54:06.850Z"
   },
   {
    "duration": 14,
    "start_time": "2022-05-27T13:54:59.146Z"
   },
   {
    "duration": 4,
    "start_time": "2022-05-27T13:55:08.156Z"
   },
   {
    "duration": 4,
    "start_time": "2022-05-27T13:55:28.356Z"
   },
   {
    "duration": 5,
    "start_time": "2022-05-27T13:55:29.809Z"
   },
   {
    "duration": 7,
    "start_time": "2022-05-27T13:55:36.209Z"
   },
   {
    "duration": 26,
    "start_time": "2022-05-27T13:55:52.500Z"
   },
   {
    "duration": 26,
    "start_time": "2022-05-27T13:56:07.065Z"
   },
   {
    "duration": 446,
    "start_time": "2022-05-27T13:56:26.265Z"
   },
   {
    "duration": 378,
    "start_time": "2022-05-27T13:56:35.084Z"
   },
   {
    "duration": 380,
    "start_time": "2022-05-27T13:56:41.961Z"
   },
   {
    "duration": 22,
    "start_time": "2022-05-27T13:56:45.929Z"
   },
   {
    "duration": 37,
    "start_time": "2022-05-27T13:57:10.682Z"
   },
   {
    "duration": 2,
    "start_time": "2022-05-27T13:57:28.543Z"
   },
   {
    "duration": 8,
    "start_time": "2022-05-27T13:57:33.901Z"
   },
   {
    "duration": 12,
    "start_time": "2022-05-27T13:57:40.084Z"
   },
   {
    "duration": 10,
    "start_time": "2022-05-27T13:58:05.025Z"
   },
   {
    "duration": 9,
    "start_time": "2022-05-27T13:58:09.413Z"
   },
   {
    "duration": 8,
    "start_time": "2022-05-27T13:58:18.522Z"
   },
   {
    "duration": 8,
    "start_time": "2022-05-27T13:58:20.845Z"
   },
   {
    "duration": 8,
    "start_time": "2022-05-27T13:58:22.747Z"
   },
   {
    "duration": 9,
    "start_time": "2022-05-27T13:58:55.490Z"
   },
   {
    "duration": 11,
    "start_time": "2022-05-27T13:58:58.787Z"
   },
   {
    "duration": 10,
    "start_time": "2022-05-27T13:59:00.754Z"
   },
   {
    "duration": 9,
    "start_time": "2022-05-27T13:59:12.447Z"
   },
   {
    "duration": 9,
    "start_time": "2022-05-27T13:59:41.016Z"
   },
   {
    "duration": 9,
    "start_time": "2022-05-27T13:59:46.171Z"
   },
   {
    "duration": 79,
    "start_time": "2022-05-27T13:59:46.183Z"
   },
   {
    "duration": 30,
    "start_time": "2022-05-27T13:59:46.263Z"
   },
   {
    "duration": 16,
    "start_time": "2022-05-27T13:59:46.295Z"
   },
   {
    "duration": 10,
    "start_time": "2022-05-27T13:59:46.312Z"
   },
   {
    "duration": 22,
    "start_time": "2022-05-27T13:59:46.323Z"
   },
   {
    "duration": 25,
    "start_time": "2022-05-27T13:59:46.347Z"
   },
   {
    "duration": 3,
    "start_time": "2022-05-27T13:59:50.652Z"
   },
   {
    "duration": 77,
    "start_time": "2022-05-27T13:59:50.657Z"
   },
   {
    "duration": 14,
    "start_time": "2022-05-27T13:59:50.736Z"
   },
   {
    "duration": 18,
    "start_time": "2022-05-27T13:59:50.752Z"
   },
   {
    "duration": 8,
    "start_time": "2022-05-27T13:59:50.773Z"
   },
   {
    "duration": 14,
    "start_time": "2022-05-27T13:59:50.783Z"
   },
   {
    "duration": 5,
    "start_time": "2022-05-27T13:59:50.798Z"
   },
   {
    "duration": 526,
    "start_time": "2022-05-27T13:59:50.804Z"
   },
   {
    "duration": 7,
    "start_time": "2022-05-27T14:00:02.815Z"
   },
   {
    "duration": 7,
    "start_time": "2022-05-27T14:00:38.416Z"
   },
   {
    "duration": 4,
    "start_time": "2022-05-27T14:00:50.908Z"
   },
   {
    "duration": 4,
    "start_time": "2022-05-27T14:00:52.290Z"
   },
   {
    "duration": 22,
    "start_time": "2022-05-27T14:00:56.013Z"
   },
   {
    "duration": 4,
    "start_time": "2022-05-27T14:01:06.588Z"
   },
   {
    "duration": 9,
    "start_time": "2022-05-27T14:01:15.674Z"
   },
   {
    "duration": 10,
    "start_time": "2022-05-27T14:01:18.963Z"
   },
   {
    "duration": 8,
    "start_time": "2022-05-27T14:01:23.856Z"
   },
   {
    "duration": 8,
    "start_time": "2022-05-27T14:01:27.613Z"
   },
   {
    "duration": 9,
    "start_time": "2022-05-27T14:01:32.091Z"
   },
   {
    "duration": 7,
    "start_time": "2022-05-27T14:01:37.071Z"
   },
   {
    "duration": 7,
    "start_time": "2022-05-27T14:01:47.969Z"
   },
   {
    "duration": 10,
    "start_time": "2022-05-27T14:02:03.859Z"
   },
   {
    "duration": 3,
    "start_time": "2022-05-27T14:02:09.825Z"
   },
   {
    "duration": 103,
    "start_time": "2022-05-27T14:02:09.831Z"
   },
   {
    "duration": 17,
    "start_time": "2022-05-27T14:02:09.936Z"
   },
   {
    "duration": 21,
    "start_time": "2022-05-27T14:02:09.966Z"
   },
   {
    "duration": 5,
    "start_time": "2022-05-27T14:02:09.989Z"
   },
   {
    "duration": 11,
    "start_time": "2022-05-27T14:02:09.996Z"
   },
   {
    "duration": 9,
    "start_time": "2022-05-27T14:02:10.008Z"
   },
   {
    "duration": 7,
    "start_time": "2022-05-27T14:02:10.019Z"
   },
   {
    "duration": 38,
    "start_time": "2022-05-27T14:02:10.028Z"
   },
   {
    "duration": 12,
    "start_time": "2022-05-27T14:02:10.069Z"
   },
   {
    "duration": 10,
    "start_time": "2022-05-27T14:02:10.083Z"
   },
   {
    "duration": 12,
    "start_time": "2022-05-27T14:02:10.095Z"
   },
   {
    "duration": 14,
    "start_time": "2022-05-27T14:02:10.109Z"
   },
   {
    "duration": 13,
    "start_time": "2022-05-27T14:02:10.125Z"
   },
   {
    "duration": 7,
    "start_time": "2022-05-27T14:02:10.165Z"
   },
   {
    "duration": 13,
    "start_time": "2022-05-27T14:02:10.174Z"
   },
   {
    "duration": 13,
    "start_time": "2022-05-27T14:02:10.189Z"
   },
   {
    "duration": 4,
    "start_time": "2022-05-27T14:02:10.204Z"
   },
   {
    "duration": 24,
    "start_time": "2022-05-27T14:02:10.211Z"
   },
   {
    "duration": 46,
    "start_time": "2022-05-27T14:02:10.237Z"
   },
   {
    "duration": 5,
    "start_time": "2022-05-27T14:02:10.284Z"
   },
   {
    "duration": 5,
    "start_time": "2022-05-27T14:03:44.014Z"
   },
   {
    "duration": 6,
    "start_time": "2022-05-27T14:04:32.677Z"
   },
   {
    "duration": 4,
    "start_time": "2022-05-27T14:04:34.771Z"
   },
   {
    "duration": 5,
    "start_time": "2022-05-27T14:04:42.676Z"
   },
   {
    "duration": 5,
    "start_time": "2022-05-27T14:04:44.416Z"
   },
   {
    "duration": 5,
    "start_time": "2022-05-27T14:04:46.851Z"
   },
   {
    "duration": 10,
    "start_time": "2022-05-27T14:04:49.017Z"
   },
   {
    "duration": 5,
    "start_time": "2022-05-27T14:04:50.116Z"
   },
   {
    "duration": 4,
    "start_time": "2022-05-27T14:04:51.029Z"
   },
   {
    "duration": 5,
    "start_time": "2022-05-27T14:04:59.363Z"
   },
   {
    "duration": 3,
    "start_time": "2022-05-27T14:05:04.351Z"
   },
   {
    "duration": 77,
    "start_time": "2022-05-27T14:05:04.358Z"
   },
   {
    "duration": 14,
    "start_time": "2022-05-27T14:05:04.438Z"
   },
   {
    "duration": 18,
    "start_time": "2022-05-27T14:05:04.454Z"
   },
   {
    "duration": 6,
    "start_time": "2022-05-27T14:05:04.473Z"
   },
   {
    "duration": 10,
    "start_time": "2022-05-27T14:05:04.481Z"
   },
   {
    "duration": 6,
    "start_time": "2022-05-27T14:05:04.492Z"
   },
   {
    "duration": 5,
    "start_time": "2022-05-27T14:05:04.500Z"
   },
   {
    "duration": 12,
    "start_time": "2022-05-27T14:05:04.506Z"
   },
   {
    "duration": 14,
    "start_time": "2022-05-27T14:05:04.519Z"
   },
   {
    "duration": 32,
    "start_time": "2022-05-27T14:05:04.535Z"
   },
   {
    "duration": 8,
    "start_time": "2022-05-27T14:05:04.569Z"
   },
   {
    "duration": 17,
    "start_time": "2022-05-27T14:05:04.579Z"
   },
   {
    "duration": 9,
    "start_time": "2022-05-27T14:05:04.598Z"
   },
   {
    "duration": 16,
    "start_time": "2022-05-27T14:05:04.610Z"
   },
   {
    "duration": 8,
    "start_time": "2022-05-27T14:05:04.627Z"
   },
   {
    "duration": 28,
    "start_time": "2022-05-27T14:05:04.637Z"
   },
   {
    "duration": 6,
    "start_time": "2022-05-27T14:05:04.667Z"
   },
   {
    "duration": 14,
    "start_time": "2022-05-27T14:05:04.675Z"
   },
   {
    "duration": 16,
    "start_time": "2022-05-27T14:05:04.691Z"
   },
   {
    "duration": 19,
    "start_time": "2022-05-27T14:05:04.709Z"
   },
   {
    "duration": 6,
    "start_time": "2022-05-27T14:05:04.730Z"
   },
   {
    "duration": 6,
    "start_time": "2022-05-27T14:07:25.353Z"
   },
   {
    "duration": 5,
    "start_time": "2022-05-27T14:07:42.450Z"
   },
   {
    "duration": 6,
    "start_time": "2022-05-27T14:07:48.107Z"
   },
   {
    "duration": 5,
    "start_time": "2022-05-27T14:09:15.199Z"
   },
   {
    "duration": 6,
    "start_time": "2022-05-27T14:09:21.847Z"
   },
   {
    "duration": 6,
    "start_time": "2022-05-27T14:09:26.253Z"
   },
   {
    "duration": 5,
    "start_time": "2022-05-27T14:13:14.248Z"
   },
   {
    "duration": 5,
    "start_time": "2022-05-27T14:13:18.796Z"
   },
   {
    "duration": 6,
    "start_time": "2022-05-27T14:13:28.094Z"
   },
   {
    "duration": 5,
    "start_time": "2022-05-27T14:13:49.197Z"
   },
   {
    "duration": 7,
    "start_time": "2022-05-27T14:15:57.276Z"
   },
   {
    "duration": 5,
    "start_time": "2022-05-27T14:16:33.371Z"
   },
   {
    "duration": 5,
    "start_time": "2022-05-27T14:17:32.862Z"
   },
   {
    "duration": 6,
    "start_time": "2022-05-27T14:17:37.544Z"
   },
   {
    "duration": 5,
    "start_time": "2022-05-27T14:17:42.893Z"
   },
   {
    "duration": 4,
    "start_time": "2022-05-27T14:18:15.268Z"
   },
   {
    "duration": 16,
    "start_time": "2022-05-27T14:18:23.893Z"
   },
   {
    "duration": 6,
    "start_time": "2022-05-27T14:19:38.149Z"
   },
   {
    "duration": 5,
    "start_time": "2022-05-27T14:26:45.980Z"
   },
   {
    "duration": 52,
    "start_time": "2022-05-27T14:28:45.274Z"
   },
   {
    "duration": 21,
    "start_time": "2022-05-27T14:29:32.675Z"
   },
   {
    "duration": 14,
    "start_time": "2022-05-27T14:29:45.915Z"
   },
   {
    "duration": 16,
    "start_time": "2022-05-27T14:29:51.316Z"
   },
   {
    "duration": 1205,
    "start_time": "2022-05-27T14:32:12.277Z"
   },
   {
    "duration": 1260,
    "start_time": "2022-05-27T14:38:48.545Z"
   },
   {
    "duration": 787,
    "start_time": "2022-05-27T14:39:42.373Z"
   },
   {
    "duration": 123,
    "start_time": "2022-05-27T14:40:22.775Z"
   },
   {
    "duration": 39,
    "start_time": "2022-05-27T14:40:54.047Z"
   },
   {
    "duration": 1302,
    "start_time": "2022-05-27T14:40:58.190Z"
   },
   {
    "duration": 47,
    "start_time": "2022-05-27T14:41:23.941Z"
   },
   {
    "duration": 1251,
    "start_time": "2022-05-27T14:41:31.151Z"
   },
   {
    "duration": 10,
    "start_time": "2022-05-27T14:42:48.454Z"
   },
   {
    "duration": 9,
    "start_time": "2022-05-27T14:42:51.206Z"
   },
   {
    "duration": 354,
    "start_time": "2022-05-27T14:45:26.527Z"
   },
   {
    "duration": 381,
    "start_time": "2022-05-27T14:46:03.128Z"
   },
   {
    "duration": 10,
    "start_time": "2022-05-27T14:46:40.956Z"
   },
   {
    "duration": 359,
    "start_time": "2022-05-27T14:46:57.871Z"
   },
   {
    "duration": 293,
    "start_time": "2022-05-27T14:47:11.480Z"
   },
   {
    "duration": 21,
    "start_time": "2022-05-27T14:47:34.952Z"
   },
   {
    "duration": 15,
    "start_time": "2022-05-27T14:47:38.289Z"
   },
   {
    "duration": 16,
    "start_time": "2022-05-27T14:50:29.949Z"
   },
   {
    "duration": 784,
    "start_time": "2022-05-27T14:50:41.059Z"
   },
   {
    "duration": 16,
    "start_time": "2022-05-27T15:04:11.913Z"
   },
   {
    "duration": 9,
    "start_time": "2022-05-27T15:05:41.293Z"
   },
   {
    "duration": 9,
    "start_time": "2022-05-27T15:05:44.113Z"
   },
   {
    "duration": 449,
    "start_time": "2022-05-27T15:05:48.722Z"
   },
   {
    "duration": 378,
    "start_time": "2022-05-27T15:06:02.370Z"
   },
   {
    "duration": 380,
    "start_time": "2022-05-27T15:06:09.002Z"
   },
   {
    "duration": 38,
    "start_time": "2022-05-27T15:06:14.537Z"
   },
   {
    "duration": 403,
    "start_time": "2022-05-27T15:06:22.417Z"
   },
   {
    "duration": 378,
    "start_time": "2022-05-27T15:07:34.105Z"
   },
   {
    "duration": 11,
    "start_time": "2022-05-27T15:07:55.955Z"
   },
   {
    "duration": 11,
    "start_time": "2022-05-27T15:08:05.161Z"
   },
   {
    "duration": 205,
    "start_time": "2022-05-27T15:08:33.083Z"
   },
   {
    "duration": 30,
    "start_time": "2022-05-27T15:08:54.186Z"
   },
   {
    "duration": 332,
    "start_time": "2022-05-27T15:08:57.811Z"
   },
   {
    "duration": 439,
    "start_time": "2022-05-27T15:09:06.203Z"
   },
   {
    "duration": 379,
    "start_time": "2022-05-27T15:09:09.138Z"
   },
   {
    "duration": 371,
    "start_time": "2022-05-27T15:09:14.712Z"
   },
   {
    "duration": 115,
    "start_time": "2022-05-27T15:09:21.489Z"
   },
   {
    "duration": 364,
    "start_time": "2022-05-27T15:09:29.259Z"
   },
   {
    "duration": 153,
    "start_time": "2022-05-27T15:10:42.427Z"
   },
   {
    "duration": 24,
    "start_time": "2022-05-27T15:15:00.602Z"
   },
   {
    "duration": 12,
    "start_time": "2022-05-27T15:16:14.675Z"
   },
   {
    "duration": 22,
    "start_time": "2022-05-27T15:16:38.748Z"
   },
   {
    "duration": 21,
    "start_time": "2022-05-27T15:17:59.486Z"
   },
   {
    "duration": 356,
    "start_time": "2022-05-27T15:18:29.973Z"
   },
   {
    "duration": 155,
    "start_time": "2022-05-27T15:19:08.412Z"
   },
   {
    "duration": 149,
    "start_time": "2022-05-27T15:19:17.013Z"
   },
   {
    "duration": 149,
    "start_time": "2022-05-27T15:19:21.395Z"
   },
   {
    "duration": 483,
    "start_time": "2022-05-27T15:19:49.765Z"
   },
   {
    "duration": 317,
    "start_time": "2022-05-27T15:25:14.002Z"
   },
   {
    "duration": 358,
    "start_time": "2022-05-27T15:28:04.588Z"
   },
   {
    "duration": 388,
    "start_time": "2022-05-27T15:28:19.115Z"
   },
   {
    "duration": 153,
    "start_time": "2022-05-27T15:32:21.555Z"
   },
   {
    "duration": 154,
    "start_time": "2022-05-27T15:32:57.475Z"
   },
   {
    "duration": 263,
    "start_time": "2022-05-27T15:33:04.811Z"
   },
   {
    "duration": 157,
    "start_time": "2022-05-27T15:33:08.394Z"
   },
   {
    "duration": 180,
    "start_time": "2022-05-27T15:33:12.498Z"
   },
   {
    "duration": 214,
    "start_time": "2022-05-27T15:33:16.955Z"
   },
   {
    "duration": 154,
    "start_time": "2022-05-27T15:33:20.314Z"
   },
   {
    "duration": 154,
    "start_time": "2022-05-27T15:33:44.690Z"
   },
   {
    "duration": 405,
    "start_time": "2022-05-27T15:33:54.515Z"
   },
   {
    "duration": 170,
    "start_time": "2022-05-27T15:34:03.644Z"
   },
   {
    "duration": 191,
    "start_time": "2022-05-27T15:34:18.964Z"
   },
   {
    "duration": 24,
    "start_time": "2022-05-27T15:35:51.359Z"
   },
   {
    "duration": 10,
    "start_time": "2022-05-27T15:36:00.656Z"
   },
   {
    "duration": 13,
    "start_time": "2022-05-27T15:36:12.299Z"
   },
   {
    "duration": 8,
    "start_time": "2022-05-27T15:36:22.658Z"
   },
   {
    "duration": 10,
    "start_time": "2022-05-27T15:36:29.877Z"
   },
   {
    "duration": 11,
    "start_time": "2022-05-27T15:37:17.508Z"
   },
   {
    "duration": 8,
    "start_time": "2022-05-27T15:37:39.465Z"
   },
   {
    "duration": 6,
    "start_time": "2022-05-27T15:37:50.454Z"
   },
   {
    "duration": 12,
    "start_time": "2022-05-27T15:37:56.375Z"
   },
   {
    "duration": 7,
    "start_time": "2022-05-27T15:37:59.779Z"
   },
   {
    "duration": 7,
    "start_time": "2022-05-27T15:39:29.053Z"
   },
   {
    "duration": 34,
    "start_time": "2022-05-27T15:42:25.373Z"
   },
   {
    "duration": 19,
    "start_time": "2022-05-27T15:44:14.478Z"
   },
   {
    "duration": 330,
    "start_time": "2022-05-27T15:44:21.438Z"
   },
   {
    "duration": 6,
    "start_time": "2022-05-27T15:50:46.455Z"
   },
   {
    "duration": 9,
    "start_time": "2022-05-27T15:51:00.821Z"
   },
   {
    "duration": 362,
    "start_time": "2022-05-27T15:51:13.180Z"
   },
   {
    "duration": 28,
    "start_time": "2022-05-27T15:54:09.447Z"
   },
   {
    "duration": 4,
    "start_time": "2022-05-27T15:55:26.735Z"
   },
   {
    "duration": 6,
    "start_time": "2022-05-27T15:55:52.615Z"
   },
   {
    "duration": 5,
    "start_time": "2022-05-27T15:56:09.518Z"
   },
   {
    "duration": 22,
    "start_time": "2022-05-27T15:57:18.279Z"
   },
   {
    "duration": 370,
    "start_time": "2022-05-27T15:57:27.448Z"
   },
   {
    "duration": 15,
    "start_time": "2022-05-27T15:57:32.159Z"
   },
   {
    "duration": 4,
    "start_time": "2022-05-27T15:57:37.616Z"
   },
   {
    "duration": 14,
    "start_time": "2022-05-27T16:01:03.176Z"
   },
   {
    "duration": 10,
    "start_time": "2022-05-27T16:09:41.852Z"
   },
   {
    "duration": 10,
    "start_time": "2022-05-27T16:09:53.882Z"
   },
   {
    "duration": 10,
    "start_time": "2022-05-27T16:11:23.840Z"
   },
   {
    "duration": 4,
    "start_time": "2022-05-27T16:11:30.426Z"
   },
   {
    "duration": 21,
    "start_time": "2022-05-27T16:11:44.811Z"
   },
   {
    "duration": 1202,
    "start_time": "2022-05-28T08:32:37.677Z"
   },
   {
    "duration": 315,
    "start_time": "2022-05-28T08:32:38.891Z"
   },
   {
    "duration": 19,
    "start_time": "2022-05-28T08:32:39.207Z"
   },
   {
    "duration": 16,
    "start_time": "2022-05-28T08:32:39.229Z"
   },
   {
    "duration": 6,
    "start_time": "2022-05-28T08:32:39.247Z"
   },
   {
    "duration": 10,
    "start_time": "2022-05-28T08:32:39.255Z"
   },
   {
    "duration": 16,
    "start_time": "2022-05-28T08:32:39.266Z"
   },
   {
    "duration": 6,
    "start_time": "2022-05-28T08:32:39.283Z"
   },
   {
    "duration": 7,
    "start_time": "2022-05-28T08:32:39.290Z"
   },
   {
    "duration": 38,
    "start_time": "2022-05-28T08:32:39.300Z"
   },
   {
    "duration": 17,
    "start_time": "2022-05-28T08:32:39.340Z"
   },
   {
    "duration": 4,
    "start_time": "2022-05-28T08:32:39.359Z"
   },
   {
    "duration": 9,
    "start_time": "2022-05-28T08:32:39.365Z"
   },
   {
    "duration": 4,
    "start_time": "2022-05-28T08:32:39.375Z"
   },
   {
    "duration": 395,
    "start_time": "2022-05-28T08:32:39.380Z"
   },
   {
    "duration": 405,
    "start_time": "2022-05-28T08:32:39.777Z"
   },
   {
    "duration": 138,
    "start_time": "2022-05-28T08:32:40.183Z"
   },
   {
    "duration": 5,
    "start_time": "2022-05-28T08:32:40.327Z"
   },
   {
    "duration": 7,
    "start_time": "2022-05-28T08:32:40.333Z"
   },
   {
    "duration": 380,
    "start_time": "2022-05-28T08:32:40.342Z"
   },
   {
    "duration": 5,
    "start_time": "2022-05-28T08:32:40.724Z"
   },
   {
    "duration": 22,
    "start_time": "2022-05-28T08:32:40.731Z"
   },
   {
    "duration": 7,
    "start_time": "2022-05-28T08:32:40.755Z"
   },
   {
    "duration": 7,
    "start_time": "2022-05-28T08:32:40.763Z"
   },
   {
    "duration": 6,
    "start_time": "2022-05-28T08:32:40.772Z"
   },
   {
    "duration": 9,
    "start_time": "2022-05-28T08:32:40.780Z"
   },
   {
    "duration": 6,
    "start_time": "2022-05-28T08:32:40.790Z"
   },
   {
    "duration": 6,
    "start_time": "2022-05-28T08:32:40.828Z"
   },
   {
    "duration": 17,
    "start_time": "2022-05-28T08:32:40.835Z"
   },
   {
    "duration": 14,
    "start_time": "2022-05-28T08:32:40.853Z"
   },
   {
    "duration": 6,
    "start_time": "2022-05-28T08:32:40.869Z"
   },
   {
    "duration": 8,
    "start_time": "2022-05-28T08:32:40.877Z"
   },
   {
    "duration": 13,
    "start_time": "2022-05-28T08:32:40.886Z"
   },
   {
    "duration": 10,
    "start_time": "2022-05-28T08:32:40.900Z"
   },
   {
    "duration": 27,
    "start_time": "2022-05-28T08:32:40.911Z"
   },
   {
    "duration": 7,
    "start_time": "2022-05-28T08:32:40.939Z"
   },
   {
    "duration": 108,
    "start_time": "2022-05-28T08:36:04.570Z"
   },
   {
    "duration": 12,
    "start_time": "2022-05-28T08:36:23.844Z"
   },
   {
    "duration": 16,
    "start_time": "2022-05-28T08:36:34.514Z"
   },
   {
    "duration": 17,
    "start_time": "2022-05-28T08:37:42.401Z"
   },
   {
    "duration": 17,
    "start_time": "2022-05-28T08:37:48.251Z"
   },
   {
    "duration": 5,
    "start_time": "2022-05-28T08:37:56.174Z"
   },
   {
    "duration": 7,
    "start_time": "2022-05-28T08:38:43.427Z"
   },
   {
    "duration": 398,
    "start_time": "2022-05-28T09:40:19.291Z"
   },
   {
    "duration": 5,
    "start_time": "2022-05-28T09:40:38.876Z"
   },
   {
    "duration": 11,
    "start_time": "2022-05-28T09:40:50.396Z"
   },
   {
    "duration": 11,
    "start_time": "2022-05-28T09:41:16.524Z"
   },
   {
    "duration": 17,
    "start_time": "2022-05-28T09:41:22.898Z"
   },
   {
    "duration": 11,
    "start_time": "2022-05-28T09:41:30.278Z"
   },
   {
    "duration": 6,
    "start_time": "2022-05-28T09:41:59.312Z"
   },
   {
    "duration": 17,
    "start_time": "2022-05-28T09:43:51.997Z"
   },
   {
    "duration": 5,
    "start_time": "2022-05-28T09:44:53.700Z"
   },
   {
    "duration": 11,
    "start_time": "2022-05-28T09:45:09.553Z"
   },
   {
    "duration": 14,
    "start_time": "2022-05-28T09:45:21.299Z"
   },
   {
    "duration": 14,
    "start_time": "2022-05-28T09:45:43.792Z"
   },
   {
    "duration": 59,
    "start_time": "2022-05-29T07:36:26.784Z"
   },
   {
    "duration": 7,
    "start_time": "2022-05-29T07:36:33.759Z"
   },
   {
    "duration": 1431,
    "start_time": "2022-05-29T07:36:41.557Z"
   },
   {
    "duration": 291,
    "start_time": "2022-05-29T07:36:42.990Z"
   },
   {
    "duration": 20,
    "start_time": "2022-05-29T07:36:43.283Z"
   },
   {
    "duration": 16,
    "start_time": "2022-05-29T07:36:43.304Z"
   },
   {
    "duration": 5,
    "start_time": "2022-05-29T07:36:43.323Z"
   },
   {
    "duration": 3,
    "start_time": "2022-05-29T07:36:43.330Z"
   },
   {
    "duration": 33,
    "start_time": "2022-05-29T07:36:43.335Z"
   },
   {
    "duration": 5,
    "start_time": "2022-05-29T07:36:43.370Z"
   },
   {
    "duration": 6,
    "start_time": "2022-05-29T07:36:43.377Z"
   },
   {
    "duration": 18,
    "start_time": "2022-05-29T07:36:43.384Z"
   },
   {
    "duration": 16,
    "start_time": "2022-05-29T07:36:43.404Z"
   },
   {
    "duration": 5,
    "start_time": "2022-05-29T07:36:43.422Z"
   },
   {
    "duration": 37,
    "start_time": "2022-05-29T07:36:43.429Z"
   },
   {
    "duration": 4,
    "start_time": "2022-05-29T07:36:43.470Z"
   },
   {
    "duration": 429,
    "start_time": "2022-05-29T07:36:43.476Z"
   },
   {
    "duration": 422,
    "start_time": "2022-05-29T07:36:43.907Z"
   },
   {
    "duration": 155,
    "start_time": "2022-05-29T07:36:44.331Z"
   },
   {
    "duration": 6,
    "start_time": "2022-05-29T07:36:44.487Z"
   },
   {
    "duration": 6,
    "start_time": "2022-05-29T07:36:44.495Z"
   },
   {
    "duration": 461,
    "start_time": "2022-05-29T07:36:44.503Z"
   },
   {
    "duration": 5,
    "start_time": "2022-05-29T07:36:44.966Z"
   },
   {
    "duration": 21,
    "start_time": "2022-05-29T07:36:44.972Z"
   },
   {
    "duration": 7,
    "start_time": "2022-05-29T07:36:44.995Z"
   },
   {
    "duration": 16,
    "start_time": "2022-05-29T07:36:45.004Z"
   },
   {
    "duration": 22,
    "start_time": "2022-05-29T07:36:45.021Z"
   },
   {
    "duration": 8,
    "start_time": "2022-05-29T07:36:45.045Z"
   },
   {
    "duration": 13,
    "start_time": "2022-05-29T07:36:45.054Z"
   },
   {
    "duration": 22,
    "start_time": "2022-05-29T07:36:45.069Z"
   },
   {
    "duration": 19,
    "start_time": "2022-05-29T07:36:45.092Z"
   },
   {
    "duration": 16,
    "start_time": "2022-05-29T07:36:45.112Z"
   },
   {
    "duration": 6,
    "start_time": "2022-05-29T07:36:45.129Z"
   },
   {
    "duration": 7,
    "start_time": "2022-05-29T07:36:45.136Z"
   },
   {
    "duration": 6,
    "start_time": "2022-05-29T07:36:45.145Z"
   },
   {
    "duration": 13,
    "start_time": "2022-05-29T07:36:45.152Z"
   },
   {
    "duration": 17,
    "start_time": "2022-05-29T07:36:45.167Z"
   },
   {
    "duration": 7,
    "start_time": "2022-05-29T07:36:45.185Z"
   },
   {
    "duration": 17,
    "start_time": "2022-05-29T07:36:45.194Z"
   },
   {
    "duration": 5,
    "start_time": "2022-05-29T07:36:45.212Z"
   },
   {
    "duration": 7,
    "start_time": "2022-05-29T07:36:45.219Z"
   },
   {
    "duration": 13,
    "start_time": "2022-05-29T07:36:45.264Z"
   },
   {
    "duration": 11,
    "start_time": "2022-05-29T07:36:45.281Z"
   },
   {
    "duration": 3,
    "start_time": "2022-05-29T07:36:45.293Z"
   },
   {
    "duration": 16,
    "start_time": "2022-05-29T07:36:45.297Z"
   },
   {
    "duration": 79,
    "start_time": "2022-05-29T07:37:02.928Z"
   },
   {
    "duration": 19,
    "start_time": "2022-05-29T07:37:12.879Z"
   },
   {
    "duration": 18,
    "start_time": "2022-05-29T07:37:17.090Z"
   },
   {
    "duration": 97,
    "start_time": "2022-05-29T07:37:56.206Z"
   },
   {
    "duration": 154,
    "start_time": "2022-05-29T07:38:00.099Z"
   },
   {
    "duration": 117,
    "start_time": "2022-05-29T07:38:14.306Z"
   },
   {
    "duration": 267,
    "start_time": "2022-05-29T07:38:18.047Z"
   },
   {
    "duration": 19,
    "start_time": "2022-05-29T07:43:00.566Z"
   },
   {
    "duration": 7,
    "start_time": "2022-05-29T07:43:05.205Z"
   },
   {
    "duration": 242,
    "start_time": "2022-05-29T07:43:19.859Z"
   },
   {
    "duration": 106,
    "start_time": "2022-05-29T07:44:31.496Z"
   },
   {
    "duration": 95,
    "start_time": "2022-05-29T07:44:36.264Z"
   },
   {
    "duration": 41,
    "start_time": "2022-05-29T07:44:44.792Z"
   },
   {
    "duration": 5,
    "start_time": "2022-05-29T07:44:50.348Z"
   },
   {
    "duration": 23,
    "start_time": "2022-05-29T07:45:03.552Z"
   },
   {
    "duration": 14,
    "start_time": "2022-05-29T07:45:14.117Z"
   },
   {
    "duration": 16,
    "start_time": "2022-05-29T07:45:18.142Z"
   },
   {
    "duration": 6,
    "start_time": "2022-05-29T07:46:07.872Z"
   },
   {
    "duration": 107,
    "start_time": "2022-05-29T07:47:01.764Z"
   },
   {
    "duration": 155,
    "start_time": "2022-05-29T07:47:23.193Z"
   },
   {
    "duration": 111,
    "start_time": "2022-05-29T07:47:32.645Z"
   },
   {
    "duration": 8,
    "start_time": "2022-05-29T07:47:37.506Z"
   },
   {
    "duration": 99,
    "start_time": "2022-05-29T07:47:57.288Z"
   },
   {
    "duration": 420,
    "start_time": "2022-05-29T07:47:59.797Z"
   },
   {
    "duration": 2,
    "start_time": "2022-05-29T07:48:08.477Z"
   },
   {
    "duration": 90,
    "start_time": "2022-05-29T07:48:08.481Z"
   },
   {
    "duration": 15,
    "start_time": "2022-05-29T07:48:08.573Z"
   },
   {
    "duration": 25,
    "start_time": "2022-05-29T07:48:08.590Z"
   },
   {
    "duration": 12,
    "start_time": "2022-05-29T07:48:08.618Z"
   },
   {
    "duration": 13,
    "start_time": "2022-05-29T07:48:08.632Z"
   },
   {
    "duration": 32,
    "start_time": "2022-05-29T07:48:08.647Z"
   },
   {
    "duration": 10,
    "start_time": "2022-05-29T07:48:08.681Z"
   },
   {
    "duration": 18,
    "start_time": "2022-05-29T07:48:08.693Z"
   },
   {
    "duration": 32,
    "start_time": "2022-05-29T07:48:08.713Z"
   },
   {
    "duration": 19,
    "start_time": "2022-05-29T07:48:08.746Z"
   },
   {
    "duration": 13,
    "start_time": "2022-05-29T07:48:08.766Z"
   },
   {
    "duration": 19,
    "start_time": "2022-05-29T07:48:08.781Z"
   },
   {
    "duration": 7,
    "start_time": "2022-05-29T07:48:08.804Z"
   },
   {
    "duration": 520,
    "start_time": "2022-05-29T07:48:08.812Z"
   },
   {
    "duration": 409,
    "start_time": "2022-05-29T07:48:09.334Z"
   },
   {
    "duration": 172,
    "start_time": "2022-05-29T07:48:09.745Z"
   },
   {
    "duration": 7,
    "start_time": "2022-05-29T07:48:09.919Z"
   },
   {
    "duration": 19,
    "start_time": "2022-05-29T07:48:09.928Z"
   },
   {
    "duration": 527,
    "start_time": "2022-05-29T07:48:09.949Z"
   },
   {
    "duration": 4,
    "start_time": "2022-05-29T07:48:10.478Z"
   },
   {
    "duration": 32,
    "start_time": "2022-05-29T07:48:10.484Z"
   },
   {
    "duration": 11,
    "start_time": "2022-05-29T07:48:10.518Z"
   },
   {
    "duration": 11,
    "start_time": "2022-05-29T07:48:10.531Z"
   },
   {
    "duration": 10,
    "start_time": "2022-05-29T07:48:10.544Z"
   },
   {
    "duration": 15,
    "start_time": "2022-05-29T07:48:10.565Z"
   },
   {
    "duration": 28,
    "start_time": "2022-05-29T07:48:10.582Z"
   },
   {
    "duration": 24,
    "start_time": "2022-05-29T07:48:10.612Z"
   },
   {
    "duration": 26,
    "start_time": "2022-05-29T07:48:10.638Z"
   },
   {
    "duration": 33,
    "start_time": "2022-05-29T07:48:10.665Z"
   },
   {
    "duration": 14,
    "start_time": "2022-05-29T07:48:10.700Z"
   },
   {
    "duration": 23,
    "start_time": "2022-05-29T07:48:10.716Z"
   },
   {
    "duration": 14,
    "start_time": "2022-05-29T07:48:10.741Z"
   },
   {
    "duration": 23,
    "start_time": "2022-05-29T07:48:10.756Z"
   },
   {
    "duration": 27,
    "start_time": "2022-05-29T07:48:10.781Z"
   },
   {
    "duration": 14,
    "start_time": "2022-05-29T07:48:10.809Z"
   },
   {
    "duration": 32,
    "start_time": "2022-05-29T07:48:10.825Z"
   },
   {
    "duration": 9,
    "start_time": "2022-05-29T07:48:10.859Z"
   },
   {
    "duration": 9,
    "start_time": "2022-05-29T07:48:10.871Z"
   },
   {
    "duration": 18,
    "start_time": "2022-05-29T07:48:10.881Z"
   },
   {
    "duration": 12,
    "start_time": "2022-05-29T07:48:10.902Z"
   },
   {
    "duration": 8,
    "start_time": "2022-05-29T07:48:10.916Z"
   },
   {
    "duration": 11,
    "start_time": "2022-05-29T07:48:10.926Z"
   },
   {
    "duration": 8,
    "start_time": "2022-05-29T07:48:27.386Z"
   },
   {
    "duration": 8,
    "start_time": "2022-05-29T07:48:35.562Z"
   },
   {
    "duration": 8,
    "start_time": "2022-05-29T07:48:52.852Z"
   },
   {
    "duration": 8,
    "start_time": "2022-05-29T07:49:13.991Z"
   },
   {
    "duration": 29,
    "start_time": "2022-05-29T07:49:17.901Z"
   },
   {
    "duration": 7,
    "start_time": "2022-05-29T07:49:21.828Z"
   },
   {
    "duration": 13,
    "start_time": "2022-05-29T07:50:14.984Z"
   },
   {
    "duration": 9,
    "start_time": "2022-05-29T07:50:27.987Z"
   },
   {
    "duration": 9,
    "start_time": "2022-05-29T07:50:44.978Z"
   },
   {
    "duration": 9,
    "start_time": "2022-05-29T07:50:52.788Z"
   },
   {
    "duration": 8,
    "start_time": "2022-05-29T07:51:48.442Z"
   },
   {
    "duration": 9,
    "start_time": "2022-05-29T07:51:53.438Z"
   },
   {
    "duration": 2,
    "start_time": "2022-05-29T07:51:58.494Z"
   },
   {
    "duration": 78,
    "start_time": "2022-05-29T07:51:58.498Z"
   },
   {
    "duration": 15,
    "start_time": "2022-05-29T07:51:58.578Z"
   },
   {
    "duration": 16,
    "start_time": "2022-05-29T07:51:58.595Z"
   },
   {
    "duration": 5,
    "start_time": "2022-05-29T07:51:58.613Z"
   },
   {
    "duration": 3,
    "start_time": "2022-05-29T07:51:58.620Z"
   },
   {
    "duration": 40,
    "start_time": "2022-05-29T07:51:58.625Z"
   },
   {
    "duration": 4,
    "start_time": "2022-05-29T07:51:58.667Z"
   },
   {
    "duration": 7,
    "start_time": "2022-05-29T07:51:58.673Z"
   },
   {
    "duration": 17,
    "start_time": "2022-05-29T07:51:58.682Z"
   },
   {
    "duration": 14,
    "start_time": "2022-05-29T07:51:58.700Z"
   },
   {
    "duration": 5,
    "start_time": "2022-05-29T07:51:58.715Z"
   },
   {
    "duration": 9,
    "start_time": "2022-05-29T07:51:58.722Z"
   },
   {
    "duration": 5,
    "start_time": "2022-05-29T07:51:58.764Z"
   },
   {
    "duration": 413,
    "start_time": "2022-05-29T07:51:58.770Z"
   },
   {
    "duration": 455,
    "start_time": "2022-05-29T07:51:59.186Z"
   },
   {
    "duration": 151,
    "start_time": "2022-05-29T07:51:59.643Z"
   },
   {
    "duration": 7,
    "start_time": "2022-05-29T07:51:59.796Z"
   },
   {
    "duration": 7,
    "start_time": "2022-05-29T07:51:59.804Z"
   },
   {
    "duration": 449,
    "start_time": "2022-05-29T07:51:59.812Z"
   },
   {
    "duration": 4,
    "start_time": "2022-05-29T07:52:00.265Z"
   },
   {
    "duration": 29,
    "start_time": "2022-05-29T07:52:00.271Z"
   },
   {
    "duration": 12,
    "start_time": "2022-05-29T07:52:00.303Z"
   },
   {
    "duration": 6,
    "start_time": "2022-05-29T07:52:00.317Z"
   },
   {
    "duration": 22,
    "start_time": "2022-05-29T07:52:00.325Z"
   },
   {
    "duration": 21,
    "start_time": "2022-05-29T07:52:00.348Z"
   },
   {
    "duration": 28,
    "start_time": "2022-05-29T07:52:00.371Z"
   },
   {
    "duration": 21,
    "start_time": "2022-05-29T07:52:00.400Z"
   },
   {
    "duration": 22,
    "start_time": "2022-05-29T07:52:00.423Z"
   },
   {
    "duration": 22,
    "start_time": "2022-05-29T07:52:00.447Z"
   },
   {
    "duration": 28,
    "start_time": "2022-05-29T07:52:00.471Z"
   },
   {
    "duration": 25,
    "start_time": "2022-05-29T07:52:00.501Z"
   },
   {
    "duration": 26,
    "start_time": "2022-05-29T07:52:00.527Z"
   },
   {
    "duration": 19,
    "start_time": "2022-05-29T07:52:00.555Z"
   },
   {
    "duration": 50,
    "start_time": "2022-05-29T07:52:00.576Z"
   },
   {
    "duration": 27,
    "start_time": "2022-05-29T07:52:00.628Z"
   },
   {
    "duration": 40,
    "start_time": "2022-05-29T07:52:00.657Z"
   },
   {
    "duration": 27,
    "start_time": "2022-05-29T07:52:00.698Z"
   },
   {
    "duration": 38,
    "start_time": "2022-05-29T07:52:00.727Z"
   },
   {
    "duration": 27,
    "start_time": "2022-05-29T07:52:00.767Z"
   },
   {
    "duration": 23,
    "start_time": "2022-05-29T07:52:00.798Z"
   },
   {
    "duration": 28,
    "start_time": "2022-05-29T07:52:00.823Z"
   },
   {
    "duration": 31,
    "start_time": "2022-05-29T07:52:00.852Z"
   },
   {
    "duration": 14,
    "start_time": "2022-05-29T07:53:05.745Z"
   },
   {
    "duration": 19,
    "start_time": "2022-05-29T07:53:35.779Z"
   },
   {
    "duration": 35,
    "start_time": "2022-05-29T07:54:20.789Z"
   },
   {
    "duration": 20,
    "start_time": "2022-05-29T07:55:14.279Z"
   },
   {
    "duration": 23,
    "start_time": "2022-05-29T07:56:39.608Z"
   },
   {
    "duration": 27,
    "start_time": "2022-05-29T07:57:06.663Z"
   },
   {
    "duration": 31,
    "start_time": "2022-05-29T08:00:15.540Z"
   },
   {
    "duration": 9,
    "start_time": "2022-05-29T08:04:29.188Z"
   },
   {
    "duration": 3,
    "start_time": "2022-05-29T08:09:24.600Z"
   },
   {
    "duration": 8,
    "start_time": "2022-05-29T08:11:10.843Z"
   },
   {
    "duration": 22,
    "start_time": "2022-05-29T08:11:25.791Z"
   },
   {
    "duration": 23,
    "start_time": "2022-05-29T08:11:48.282Z"
   },
   {
    "duration": 98,
    "start_time": "2022-05-29T08:16:22.127Z"
   },
   {
    "duration": 37,
    "start_time": "2022-05-29T08:16:33.834Z"
   },
   {
    "duration": 24,
    "start_time": "2022-05-29T08:17:36.916Z"
   },
   {
    "duration": 26,
    "start_time": "2022-05-29T08:17:46.330Z"
   },
   {
    "duration": 33,
    "start_time": "2022-05-29T08:21:48.572Z"
   },
   {
    "duration": 27,
    "start_time": "2022-05-29T08:21:53.496Z"
   },
   {
    "duration": 34,
    "start_time": "2022-05-29T08:22:05.445Z"
   },
   {
    "duration": 28,
    "start_time": "2022-05-29T08:23:43.804Z"
   },
   {
    "duration": 33,
    "start_time": "2022-05-29T08:23:48.044Z"
   },
   {
    "duration": 29,
    "start_time": "2022-05-29T08:25:49.039Z"
   },
   {
    "duration": 24,
    "start_time": "2022-05-29T08:26:09.280Z"
   },
   {
    "duration": 30,
    "start_time": "2022-05-29T08:26:36.146Z"
   },
   {
    "duration": 30,
    "start_time": "2022-05-29T08:26:58.307Z"
   },
   {
    "duration": 56,
    "start_time": "2022-05-29T08:27:10.377Z"
   },
   {
    "duration": 31,
    "start_time": "2022-05-29T08:27:51.004Z"
   },
   {
    "duration": 31,
    "start_time": "2022-05-29T08:28:10.519Z"
   },
   {
    "duration": 12,
    "start_time": "2022-05-29T08:43:29.494Z"
   },
   {
    "duration": 181,
    "start_time": "2022-05-29T08:43:41.620Z"
   },
   {
    "duration": 240,
    "start_time": "2022-05-29T08:43:51.028Z"
   },
   {
    "duration": 185,
    "start_time": "2022-05-29T08:43:54.802Z"
   },
   {
    "duration": 159,
    "start_time": "2022-05-29T08:43:57.125Z"
   },
   {
    "duration": 155,
    "start_time": "2022-05-29T08:43:59.907Z"
   },
   {
    "duration": 139,
    "start_time": "2022-05-29T08:44:02.491Z"
   },
   {
    "duration": 221,
    "start_time": "2022-05-29T08:44:51.299Z"
   },
   {
    "duration": 307,
    "start_time": "2022-05-29T08:46:21.005Z"
   },
   {
    "duration": 274,
    "start_time": "2022-05-29T08:47:24.747Z"
   },
   {
    "duration": 408,
    "start_time": "2022-05-29T08:47:47.287Z"
   },
   {
    "duration": 270,
    "start_time": "2022-05-29T08:48:51.241Z"
   },
   {
    "duration": 193,
    "start_time": "2022-05-29T08:52:19.341Z"
   },
   {
    "duration": 279,
    "start_time": "2022-05-29T08:54:02.704Z"
   },
   {
    "duration": 276,
    "start_time": "2022-05-29T08:54:17.858Z"
   },
   {
    "duration": 6,
    "start_time": "2022-05-29T08:59:51.474Z"
   },
   {
    "duration": 499,
    "start_time": "2022-05-29T09:00:30.464Z"
   },
   {
    "duration": 832,
    "start_time": "2022-05-29T09:00:55.571Z"
   },
   {
    "duration": 3,
    "start_time": "2022-05-29T09:01:03.084Z"
   },
   {
    "duration": 87,
    "start_time": "2022-05-29T09:01:03.090Z"
   },
   {
    "duration": 16,
    "start_time": "2022-05-29T09:01:03.179Z"
   },
   {
    "duration": 18,
    "start_time": "2022-05-29T09:01:03.198Z"
   },
   {
    "duration": 5,
    "start_time": "2022-05-29T09:01:03.218Z"
   },
   {
    "duration": 5,
    "start_time": "2022-05-29T09:01:03.225Z"
   },
   {
    "duration": 43,
    "start_time": "2022-05-29T09:01:03.232Z"
   },
   {
    "duration": 6,
    "start_time": "2022-05-29T09:01:03.277Z"
   },
   {
    "duration": 7,
    "start_time": "2022-05-29T09:01:03.287Z"
   },
   {
    "duration": 18,
    "start_time": "2022-05-29T09:01:03.296Z"
   },
   {
    "duration": 15,
    "start_time": "2022-05-29T09:01:03.316Z"
   },
   {
    "duration": 33,
    "start_time": "2022-05-29T09:01:03.333Z"
   },
   {
    "duration": 9,
    "start_time": "2022-05-29T09:01:03.368Z"
   },
   {
    "duration": 5,
    "start_time": "2022-05-29T09:01:03.378Z"
   },
   {
    "duration": 444,
    "start_time": "2022-05-29T09:01:03.384Z"
   },
   {
    "duration": 406,
    "start_time": "2022-05-29T09:01:03.830Z"
   },
   {
    "duration": 156,
    "start_time": "2022-05-29T09:01:04.238Z"
   },
   {
    "duration": 5,
    "start_time": "2022-05-29T09:01:04.396Z"
   },
   {
    "duration": 7,
    "start_time": "2022-05-29T09:01:04.403Z"
   },
   {
    "duration": 451,
    "start_time": "2022-05-29T09:01:04.411Z"
   },
   {
    "duration": 4,
    "start_time": "2022-05-29T09:01:04.865Z"
   },
   {
    "duration": 17,
    "start_time": "2022-05-29T09:01:04.871Z"
   },
   {
    "duration": 7,
    "start_time": "2022-05-29T09:01:04.891Z"
   },
   {
    "duration": 7,
    "start_time": "2022-05-29T09:01:04.902Z"
   },
   {
    "duration": 8,
    "start_time": "2022-05-29T09:01:04.911Z"
   },
   {
    "duration": 6,
    "start_time": "2022-05-29T09:01:04.921Z"
   },
   {
    "duration": 7,
    "start_time": "2022-05-29T09:01:04.964Z"
   },
   {
    "duration": 6,
    "start_time": "2022-05-29T09:01:04.974Z"
   },
   {
    "duration": 7,
    "start_time": "2022-05-29T09:01:04.982Z"
   },
   {
    "duration": 14,
    "start_time": "2022-05-29T09:01:04.991Z"
   },
   {
    "duration": 7,
    "start_time": "2022-05-29T09:01:05.006Z"
   },
   {
    "duration": 10,
    "start_time": "2022-05-29T09:01:05.015Z"
   },
   {
    "duration": 38,
    "start_time": "2022-05-29T09:01:05.027Z"
   },
   {
    "duration": 7,
    "start_time": "2022-05-29T09:01:05.067Z"
   },
   {
    "duration": 21,
    "start_time": "2022-05-29T09:01:05.076Z"
   },
   {
    "duration": 6,
    "start_time": "2022-05-29T09:01:05.099Z"
   },
   {
    "duration": 19,
    "start_time": "2022-05-29T09:01:05.107Z"
   },
   {
    "duration": 6,
    "start_time": "2022-05-29T09:01:05.127Z"
   },
   {
    "duration": 9,
    "start_time": "2022-05-29T09:01:05.164Z"
   },
   {
    "duration": 15,
    "start_time": "2022-05-29T09:01:05.175Z"
   },
   {
    "duration": 12,
    "start_time": "2022-05-29T09:01:05.192Z"
   },
   {
    "duration": 8,
    "start_time": "2022-05-29T09:01:05.207Z"
   },
   {
    "duration": 17,
    "start_time": "2022-05-29T09:01:20.383Z"
   },
   {
    "duration": 562,
    "start_time": "2022-05-29T09:01:48.755Z"
   },
   {
    "duration": 513,
    "start_time": "2022-05-29T09:01:55.617Z"
   },
   {
    "duration": 3,
    "start_time": "2022-05-29T09:02:23.729Z"
   },
   {
    "duration": 83,
    "start_time": "2022-05-29T09:02:23.734Z"
   },
   {
    "duration": 15,
    "start_time": "2022-05-29T09:02:23.819Z"
   },
   {
    "duration": 15,
    "start_time": "2022-05-29T09:02:23.867Z"
   },
   {
    "duration": 5,
    "start_time": "2022-05-29T09:02:23.884Z"
   },
   {
    "duration": 11,
    "start_time": "2022-05-29T09:02:23.891Z"
   },
   {
    "duration": 23,
    "start_time": "2022-05-29T09:02:23.905Z"
   },
   {
    "duration": 10,
    "start_time": "2022-05-29T09:02:23.930Z"
   },
   {
    "duration": 29,
    "start_time": "2022-05-29T09:02:23.942Z"
   },
   {
    "duration": 23,
    "start_time": "2022-05-29T09:02:23.973Z"
   },
   {
    "duration": 15,
    "start_time": "2022-05-29T09:02:23.997Z"
   },
   {
    "duration": 6,
    "start_time": "2022-05-29T09:02:24.014Z"
   },
   {
    "duration": 8,
    "start_time": "2022-05-29T09:02:24.021Z"
   },
   {
    "duration": 4,
    "start_time": "2022-05-29T09:02:24.031Z"
   },
   {
    "duration": 386,
    "start_time": "2022-05-29T09:02:24.036Z"
   },
   {
    "duration": 418,
    "start_time": "2022-05-29T09:02:24.423Z"
   },
   {
    "duration": 284,
    "start_time": "2022-05-29T09:02:24.843Z"
   },
   {
    "duration": 7,
    "start_time": "2022-05-29T09:02:25.128Z"
   },
   {
    "duration": 8,
    "start_time": "2022-05-29T09:02:25.136Z"
   },
   {
    "duration": 422,
    "start_time": "2022-05-29T09:02:25.146Z"
   },
   {
    "duration": 4,
    "start_time": "2022-05-29T09:02:25.570Z"
   },
   {
    "duration": 19,
    "start_time": "2022-05-29T09:02:25.576Z"
   },
   {
    "duration": 9,
    "start_time": "2022-05-29T09:02:25.596Z"
   },
   {
    "duration": 8,
    "start_time": "2022-05-29T09:02:25.608Z"
   },
   {
    "duration": 11,
    "start_time": "2022-05-29T09:02:25.617Z"
   },
   {
    "duration": 5,
    "start_time": "2022-05-29T09:02:25.630Z"
   },
   {
    "duration": 33,
    "start_time": "2022-05-29T09:02:25.637Z"
   },
   {
    "duration": 10,
    "start_time": "2022-05-29T09:02:25.672Z"
   },
   {
    "duration": 10,
    "start_time": "2022-05-29T09:02:25.683Z"
   },
   {
    "duration": 14,
    "start_time": "2022-05-29T09:02:25.695Z"
   },
   {
    "duration": 8,
    "start_time": "2022-05-29T09:02:25.711Z"
   },
   {
    "duration": 9,
    "start_time": "2022-05-29T09:02:25.721Z"
   },
   {
    "duration": 6,
    "start_time": "2022-05-29T09:02:25.732Z"
   },
   {
    "duration": 8,
    "start_time": "2022-05-29T09:02:25.765Z"
   },
   {
    "duration": 22,
    "start_time": "2022-05-29T09:02:25.774Z"
   },
   {
    "duration": 6,
    "start_time": "2022-05-29T09:02:25.798Z"
   },
   {
    "duration": 18,
    "start_time": "2022-05-29T09:02:25.806Z"
   },
   {
    "duration": 5,
    "start_time": "2022-05-29T09:02:25.826Z"
   },
   {
    "duration": 35,
    "start_time": "2022-05-29T09:02:25.833Z"
   },
   {
    "duration": 15,
    "start_time": "2022-05-29T09:02:25.870Z"
   },
   {
    "duration": 13,
    "start_time": "2022-05-29T09:02:25.887Z"
   },
   {
    "duration": 8,
    "start_time": "2022-05-29T09:02:25.902Z"
   },
   {
    "duration": 16,
    "start_time": "2022-05-29T09:02:25.912Z"
   },
   {
    "duration": 56,
    "start_time": "2022-05-29T09:02:25.930Z"
   },
   {
    "duration": 29,
    "start_time": "2022-05-29T09:02:25.988Z"
   },
   {
    "duration": 332,
    "start_time": "2022-05-29T09:02:26.019Z"
   },
   {
    "duration": 326,
    "start_time": "2022-05-29T09:02:26.353Z"
   },
   {
    "duration": 199,
    "start_time": "2022-05-29T09:02:26.681Z"
   },
   {
    "duration": 30,
    "start_time": "2022-05-29T09:05:43.452Z"
   },
   {
    "duration": 34,
    "start_time": "2022-05-29T09:10:19.453Z"
   },
   {
    "duration": 176,
    "start_time": "2022-05-29T09:10:24.182Z"
   },
   {
    "duration": 1272,
    "start_time": "2022-05-30T16:07:44.616Z"
   },
   {
    "duration": 260,
    "start_time": "2022-05-30T16:07:45.890Z"
   },
   {
    "duration": 17,
    "start_time": "2022-05-30T16:07:46.152Z"
   },
   {
    "duration": 14,
    "start_time": "2022-05-30T16:07:46.171Z"
   },
   {
    "duration": 4,
    "start_time": "2022-05-30T16:07:46.187Z"
   },
   {
    "duration": 10,
    "start_time": "2022-05-30T16:07:46.192Z"
   },
   {
    "duration": 24,
    "start_time": "2022-05-30T16:07:46.204Z"
   },
   {
    "duration": 20,
    "start_time": "2022-05-30T16:07:46.229Z"
   },
   {
    "duration": 6,
    "start_time": "2022-05-30T16:07:46.250Z"
   },
   {
    "duration": 30,
    "start_time": "2022-05-30T16:07:46.258Z"
   },
   {
    "duration": 15,
    "start_time": "2022-05-30T16:07:46.290Z"
   },
   {
    "duration": 13,
    "start_time": "2022-05-30T16:07:46.306Z"
   },
   {
    "duration": 10,
    "start_time": "2022-05-30T16:07:46.321Z"
   },
   {
    "duration": 16,
    "start_time": "2022-05-30T16:07:46.332Z"
   },
   {
    "duration": 391,
    "start_time": "2022-05-30T16:07:46.349Z"
   },
   {
    "duration": 421,
    "start_time": "2022-05-30T16:07:46.742Z"
   },
   {
    "duration": 134,
    "start_time": "2022-05-30T16:07:47.165Z"
   },
   {
    "duration": 5,
    "start_time": "2022-05-30T16:07:47.300Z"
   },
   {
    "duration": 22,
    "start_time": "2022-05-30T16:07:47.307Z"
   },
   {
    "duration": 343,
    "start_time": "2022-05-30T16:07:47.330Z"
   },
   {
    "duration": 4,
    "start_time": "2022-05-30T16:07:47.674Z"
   },
   {
    "duration": 25,
    "start_time": "2022-05-30T16:07:47.680Z"
   },
   {
    "duration": 7,
    "start_time": "2022-05-30T16:07:47.707Z"
   },
   {
    "duration": 9,
    "start_time": "2022-05-30T16:07:47.715Z"
   },
   {
    "duration": 15,
    "start_time": "2022-05-30T16:07:47.726Z"
   },
   {
    "duration": 14,
    "start_time": "2022-05-30T16:07:47.743Z"
   },
   {
    "duration": 13,
    "start_time": "2022-05-30T16:07:47.759Z"
   },
   {
    "duration": 8,
    "start_time": "2022-05-30T16:07:47.776Z"
   },
   {
    "duration": 21,
    "start_time": "2022-05-30T16:07:47.786Z"
   },
   {
    "duration": 20,
    "start_time": "2022-05-30T16:07:47.808Z"
   },
   {
    "duration": 16,
    "start_time": "2022-05-30T16:07:47.829Z"
   },
   {
    "duration": 23,
    "start_time": "2022-05-30T16:07:47.847Z"
   },
   {
    "duration": 23,
    "start_time": "2022-05-30T16:07:47.871Z"
   },
   {
    "duration": 15,
    "start_time": "2022-05-30T16:07:47.895Z"
   },
   {
    "duration": 30,
    "start_time": "2022-05-30T16:07:47.911Z"
   },
   {
    "duration": 14,
    "start_time": "2022-05-30T16:07:47.942Z"
   },
   {
    "duration": 28,
    "start_time": "2022-05-30T16:07:47.957Z"
   },
   {
    "duration": 13,
    "start_time": "2022-05-30T16:07:47.987Z"
   },
   {
    "duration": 21,
    "start_time": "2022-05-30T16:07:48.001Z"
   },
   {
    "duration": 21,
    "start_time": "2022-05-30T16:07:48.023Z"
   },
   {
    "duration": 17,
    "start_time": "2022-05-30T16:07:48.045Z"
   },
   {
    "duration": 22,
    "start_time": "2022-05-30T16:07:48.063Z"
   },
   {
    "duration": 27,
    "start_time": "2022-05-30T16:07:48.086Z"
   },
   {
    "duration": 21,
    "start_time": "2022-05-30T16:07:48.114Z"
   },
   {
    "duration": 25,
    "start_time": "2022-05-30T16:07:48.137Z"
   },
   {
    "duration": 5,
    "start_time": "2022-05-30T16:07:48.164Z"
   },
   {
    "duration": 116,
    "start_time": "2022-05-30T16:07:48.171Z"
   },
   {
    "duration": 3,
    "start_time": "2022-05-30T16:08:27.777Z"
   },
   {
    "duration": 3,
    "start_time": "2022-05-30T16:08:30.530Z"
   },
   {
    "duration": 83,
    "start_time": "2022-05-30T16:08:30.535Z"
   },
   {
    "duration": 13,
    "start_time": "2022-05-30T16:08:30.620Z"
   },
   {
    "duration": 23,
    "start_time": "2022-05-30T16:08:30.635Z"
   },
   {
    "duration": 8,
    "start_time": "2022-05-30T16:08:30.660Z"
   },
   {
    "duration": 10,
    "start_time": "2022-05-30T16:08:30.670Z"
   },
   {
    "duration": 18,
    "start_time": "2022-05-30T16:08:30.682Z"
   },
   {
    "duration": 34,
    "start_time": "2022-05-30T16:08:30.702Z"
   },
   {
    "duration": 9,
    "start_time": "2022-05-30T16:08:30.738Z"
   },
   {
    "duration": 45,
    "start_time": "2022-05-30T16:08:30.749Z"
   },
   {
    "duration": 28,
    "start_time": "2022-05-30T16:08:30.796Z"
   },
   {
    "duration": 13,
    "start_time": "2022-05-30T16:08:30.825Z"
   },
   {
    "duration": 11,
    "start_time": "2022-05-30T16:08:30.840Z"
   },
   {
    "duration": 14,
    "start_time": "2022-05-30T16:08:30.852Z"
   },
   {
    "duration": 392,
    "start_time": "2022-05-30T16:08:30.868Z"
   },
   {
    "duration": 401,
    "start_time": "2022-05-30T16:08:31.261Z"
   },
   {
    "duration": 160,
    "start_time": "2022-05-30T16:08:31.664Z"
   },
   {
    "duration": 9,
    "start_time": "2022-05-30T16:08:31.825Z"
   },
   {
    "duration": 32,
    "start_time": "2022-05-30T16:08:31.835Z"
   },
   {
    "duration": 410,
    "start_time": "2022-05-30T16:08:31.869Z"
   },
   {
    "duration": 4,
    "start_time": "2022-05-30T16:08:32.281Z"
   },
   {
    "duration": 27,
    "start_time": "2022-05-30T16:08:32.286Z"
   },
   {
    "duration": 20,
    "start_time": "2022-05-30T16:08:32.315Z"
   },
   {
    "duration": 9,
    "start_time": "2022-05-30T16:08:32.337Z"
   },
   {
    "duration": 9,
    "start_time": "2022-05-30T16:08:32.348Z"
   },
   {
    "duration": 8,
    "start_time": "2022-05-30T16:08:32.358Z"
   },
   {
    "duration": 13,
    "start_time": "2022-05-30T16:08:32.367Z"
   },
   {
    "duration": 19,
    "start_time": "2022-05-30T16:08:32.381Z"
   },
   {
    "duration": 9,
    "start_time": "2022-05-30T16:08:32.404Z"
   },
   {
    "duration": 23,
    "start_time": "2022-05-30T16:08:32.414Z"
   },
   {
    "duration": 55,
    "start_time": "2022-05-30T16:08:32.439Z"
   },
   {
    "duration": 12,
    "start_time": "2022-05-30T16:08:32.496Z"
   },
   {
    "duration": 18,
    "start_time": "2022-05-30T16:08:32.509Z"
   },
   {
    "duration": 10,
    "start_time": "2022-05-30T16:08:32.528Z"
   },
   {
    "duration": 27,
    "start_time": "2022-05-30T16:08:32.540Z"
   },
   {
    "duration": 7,
    "start_time": "2022-05-30T16:08:32.569Z"
   },
   {
    "duration": 26,
    "start_time": "2022-05-30T16:08:32.578Z"
   },
   {
    "duration": 7,
    "start_time": "2022-05-30T16:08:32.606Z"
   },
   {
    "duration": 14,
    "start_time": "2022-05-30T16:08:32.614Z"
   },
   {
    "duration": 43,
    "start_time": "2022-05-30T16:08:32.630Z"
   },
   {
    "duration": 14,
    "start_time": "2022-05-30T16:08:32.675Z"
   },
   {
    "duration": 23,
    "start_time": "2022-05-30T16:08:32.691Z"
   },
   {
    "duration": 19,
    "start_time": "2022-05-30T16:08:32.716Z"
   },
   {
    "duration": 24,
    "start_time": "2022-05-30T16:08:32.737Z"
   },
   {
    "duration": 39,
    "start_time": "2022-05-30T16:08:32.763Z"
   },
   {
    "duration": 3,
    "start_time": "2022-05-30T16:08:32.804Z"
   },
   {
    "duration": 17,
    "start_time": "2022-05-30T16:08:32.808Z"
   },
   {
    "duration": 15,
    "start_time": "2022-05-30T16:08:41.526Z"
   },
   {
    "duration": 11,
    "start_time": "2022-05-30T16:09:15.672Z"
   },
   {
    "duration": 17,
    "start_time": "2022-05-30T16:09:54.295Z"
   },
   {
    "duration": 14,
    "start_time": "2022-05-30T16:10:46.967Z"
   },
   {
    "duration": 27,
    "start_time": "2022-05-30T16:13:37.651Z"
   },
   {
    "duration": 15,
    "start_time": "2022-05-30T16:13:45.273Z"
   },
   {
    "duration": 13,
    "start_time": "2022-05-30T16:13:57.513Z"
   },
   {
    "duration": 444,
    "start_time": "2022-05-30T16:16:47.482Z"
   },
   {
    "duration": 3,
    "start_time": "2022-05-30T16:16:51.568Z"
   },
   {
    "duration": 93,
    "start_time": "2022-05-30T16:16:51.573Z"
   },
   {
    "duration": 37,
    "start_time": "2022-05-30T16:16:51.667Z"
   },
   {
    "duration": 27,
    "start_time": "2022-05-30T16:16:51.705Z"
   },
   {
    "duration": 6,
    "start_time": "2022-05-30T16:16:51.735Z"
   },
   {
    "duration": 5,
    "start_time": "2022-05-30T16:16:51.742Z"
   },
   {
    "duration": 15,
    "start_time": "2022-05-30T16:16:51.749Z"
   },
   {
    "duration": 5,
    "start_time": "2022-05-30T16:16:51.766Z"
   },
   {
    "duration": 5,
    "start_time": "2022-05-30T16:16:51.772Z"
   },
   {
    "duration": 28,
    "start_time": "2022-05-30T16:16:51.800Z"
   },
   {
    "duration": 14,
    "start_time": "2022-05-30T16:16:51.832Z"
   },
   {
    "duration": 6,
    "start_time": "2022-05-30T16:16:51.847Z"
   },
   {
    "duration": 11,
    "start_time": "2022-05-30T16:16:51.855Z"
   },
   {
    "duration": 5,
    "start_time": "2022-05-30T16:16:51.868Z"
   },
   {
    "duration": 386,
    "start_time": "2022-05-30T16:16:51.875Z"
   },
   {
    "duration": 404,
    "start_time": "2022-05-30T16:16:52.263Z"
   },
   {
    "duration": 158,
    "start_time": "2022-05-30T16:16:52.669Z"
   },
   {
    "duration": 6,
    "start_time": "2022-05-30T16:16:52.828Z"
   },
   {
    "duration": 9,
    "start_time": "2022-05-30T16:16:52.835Z"
   },
   {
    "duration": 424,
    "start_time": "2022-05-30T16:16:52.845Z"
   },
   {
    "duration": 4,
    "start_time": "2022-05-30T16:16:53.271Z"
   },
   {
    "duration": 39,
    "start_time": "2022-05-30T16:16:53.276Z"
   },
   {
    "duration": 9,
    "start_time": "2022-05-30T16:16:53.317Z"
   },
   {
    "duration": 18,
    "start_time": "2022-05-30T16:16:53.328Z"
   },
   {
    "duration": 17,
    "start_time": "2022-05-30T16:16:53.348Z"
   },
   {
    "duration": 14,
    "start_time": "2022-05-30T16:16:53.366Z"
   },
   {
    "duration": 9,
    "start_time": "2022-05-30T16:16:53.382Z"
   },
   {
    "duration": 11,
    "start_time": "2022-05-30T16:16:53.392Z"
   },
   {
    "duration": 27,
    "start_time": "2022-05-30T16:16:53.406Z"
   },
   {
    "duration": 16,
    "start_time": "2022-05-30T16:16:53.435Z"
   },
   {
    "duration": 8,
    "start_time": "2022-05-30T16:16:53.453Z"
   },
   {
    "duration": 7,
    "start_time": "2022-05-30T16:16:53.463Z"
   },
   {
    "duration": 7,
    "start_time": "2022-05-30T16:16:53.472Z"
   },
   {
    "duration": 24,
    "start_time": "2022-05-30T16:16:53.480Z"
   },
   {
    "duration": 26,
    "start_time": "2022-05-30T16:16:53.513Z"
   },
   {
    "duration": 9,
    "start_time": "2022-05-30T16:16:53.541Z"
   },
   {
    "duration": 19,
    "start_time": "2022-05-30T16:16:53.552Z"
   },
   {
    "duration": 5,
    "start_time": "2022-05-30T16:16:53.573Z"
   },
   {
    "duration": 37,
    "start_time": "2022-05-30T16:16:53.579Z"
   },
   {
    "duration": 18,
    "start_time": "2022-05-30T16:16:53.618Z"
   },
   {
    "duration": 13,
    "start_time": "2022-05-30T16:16:53.638Z"
   },
   {
    "duration": 8,
    "start_time": "2022-05-30T16:16:53.653Z"
   },
   {
    "duration": 43,
    "start_time": "2022-05-30T16:16:53.663Z"
   },
   {
    "duration": 29,
    "start_time": "2022-05-30T16:16:53.708Z"
   },
   {
    "duration": 15,
    "start_time": "2022-05-30T16:16:53.739Z"
   },
   {
    "duration": 17,
    "start_time": "2022-05-30T16:16:53.756Z"
   },
   {
    "duration": 7,
    "start_time": "2022-05-30T16:16:53.775Z"
   },
   {
    "duration": 14,
    "start_time": "2022-05-30T16:16:53.807Z"
   },
   {
    "duration": 17,
    "start_time": "2022-05-30T16:16:53.823Z"
   },
   {
    "duration": 13,
    "start_time": "2022-05-30T16:16:53.841Z"
   },
   {
    "duration": 12,
    "start_time": "2022-05-30T16:16:53.856Z"
   },
   {
    "duration": 9,
    "start_time": "2022-05-30T16:17:53.884Z"
   },
   {
    "duration": 20,
    "start_time": "2022-05-30T16:18:00.299Z"
   },
   {
    "duration": 3,
    "start_time": "2022-05-30T16:18:44.462Z"
   },
   {
    "duration": 79,
    "start_time": "2022-05-30T16:18:44.467Z"
   },
   {
    "duration": 13,
    "start_time": "2022-05-30T16:18:44.548Z"
   },
   {
    "duration": 18,
    "start_time": "2022-05-30T16:18:44.563Z"
   },
   {
    "duration": 10,
    "start_time": "2022-05-30T16:18:44.604Z"
   },
   {
    "duration": 20,
    "start_time": "2022-05-30T16:18:44.615Z"
   },
   {
    "duration": 18,
    "start_time": "2022-05-30T16:18:44.637Z"
   },
   {
    "duration": 6,
    "start_time": "2022-05-30T16:18:44.657Z"
   },
   {
    "duration": 6,
    "start_time": "2022-05-30T16:18:44.665Z"
   },
   {
    "duration": 19,
    "start_time": "2022-05-30T16:18:44.673Z"
   },
   {
    "duration": 19,
    "start_time": "2022-05-30T16:18:44.698Z"
   },
   {
    "duration": 7,
    "start_time": "2022-05-30T16:18:44.725Z"
   },
   {
    "duration": 6,
    "start_time": "2022-05-30T16:18:44.733Z"
   },
   {
    "duration": 6,
    "start_time": "2022-05-30T16:18:44.741Z"
   },
   {
    "duration": 395,
    "start_time": "2022-05-30T16:18:44.749Z"
   },
   {
    "duration": 416,
    "start_time": "2022-05-30T16:18:45.145Z"
   },
   {
    "duration": 171,
    "start_time": "2022-05-30T16:18:45.563Z"
   },
   {
    "duration": 7,
    "start_time": "2022-05-30T16:18:45.736Z"
   },
   {
    "duration": 9,
    "start_time": "2022-05-30T16:18:45.745Z"
   },
   {
    "duration": 431,
    "start_time": "2022-05-30T16:18:45.755Z"
   },
   {
    "duration": 13,
    "start_time": "2022-05-30T16:18:46.188Z"
   },
   {
    "duration": 16,
    "start_time": "2022-05-30T16:18:46.211Z"
   },
   {
    "duration": 10,
    "start_time": "2022-05-30T16:18:46.229Z"
   },
   {
    "duration": 7,
    "start_time": "2022-05-30T16:18:46.241Z"
   },
   {
    "duration": 11,
    "start_time": "2022-05-30T16:18:46.250Z"
   },
   {
    "duration": 13,
    "start_time": "2022-05-30T16:18:46.263Z"
   },
   {
    "duration": 11,
    "start_time": "2022-05-30T16:18:46.278Z"
   },
   {
    "duration": 12,
    "start_time": "2022-05-30T16:18:46.291Z"
   },
   {
    "duration": 14,
    "start_time": "2022-05-30T16:18:46.314Z"
   },
   {
    "duration": 15,
    "start_time": "2022-05-30T16:18:46.329Z"
   },
   {
    "duration": 7,
    "start_time": "2022-05-30T16:18:46.346Z"
   },
   {
    "duration": 10,
    "start_time": "2022-05-30T16:18:46.355Z"
   },
   {
    "duration": 11,
    "start_time": "2022-05-30T16:18:46.367Z"
   },
   {
    "duration": 31,
    "start_time": "2022-05-30T16:18:46.380Z"
   },
   {
    "duration": 35,
    "start_time": "2022-05-30T16:18:46.412Z"
   },
   {
    "duration": 9,
    "start_time": "2022-05-30T16:18:46.449Z"
   },
   {
    "duration": 30,
    "start_time": "2022-05-30T16:18:46.460Z"
   },
   {
    "duration": 21,
    "start_time": "2022-05-30T16:18:46.493Z"
   },
   {
    "duration": 10,
    "start_time": "2022-05-30T16:18:46.516Z"
   },
   {
    "duration": 20,
    "start_time": "2022-05-30T16:18:46.527Z"
   },
   {
    "duration": 13,
    "start_time": "2022-05-30T16:18:46.548Z"
   },
   {
    "duration": 9,
    "start_time": "2022-05-30T16:18:46.563Z"
   },
   {
    "duration": 30,
    "start_time": "2022-05-30T16:18:46.574Z"
   },
   {
    "duration": 29,
    "start_time": "2022-05-30T16:18:46.607Z"
   },
   {
    "duration": 17,
    "start_time": "2022-05-30T16:18:46.637Z"
   },
   {
    "duration": 16,
    "start_time": "2022-05-30T16:18:46.656Z"
   },
   {
    "duration": 38,
    "start_time": "2022-05-30T16:18:46.673Z"
   },
   {
    "duration": 16,
    "start_time": "2022-05-30T16:18:46.712Z"
   },
   {
    "duration": 11,
    "start_time": "2022-05-30T16:18:46.729Z"
   },
   {
    "duration": 12,
    "start_time": "2022-05-30T16:18:46.742Z"
   },
   {
    "duration": 17,
    "start_time": "2022-05-30T16:18:46.756Z"
   },
   {
    "duration": 97,
    "start_time": "2022-05-31T14:54:31.613Z"
   },
   {
    "duration": 1321,
    "start_time": "2022-05-31T14:54:34.200Z"
   },
   {
    "duration": 354,
    "start_time": "2022-05-31T14:54:35.523Z"
   },
   {
    "duration": 16,
    "start_time": "2022-05-31T14:54:35.879Z"
   },
   {
    "duration": 15,
    "start_time": "2022-05-31T14:54:37.991Z"
   },
   {
    "duration": 6,
    "start_time": "2022-05-31T14:54:45.798Z"
   },
   {
    "duration": 3,
    "start_time": "2022-05-31T14:54:46.786Z"
   },
   {
    "duration": 26,
    "start_time": "2022-05-31T14:54:47.762Z"
   },
   {
    "duration": 7,
    "start_time": "2022-05-31T15:07:05.078Z"
   },
   {
    "duration": 7,
    "start_time": "2022-05-31T15:07:59.497Z"
   },
   {
    "duration": 35,
    "start_time": "2022-05-31T15:08:29.247Z"
   },
   {
    "duration": 9,
    "start_time": "2022-05-31T15:08:32.028Z"
   },
   {
    "duration": 7,
    "start_time": "2022-05-31T15:09:30.367Z"
   },
   {
    "duration": 5,
    "start_time": "2022-05-31T15:09:52.098Z"
   },
   {
    "duration": 6,
    "start_time": "2022-05-31T15:10:09.758Z"
   },
   {
    "duration": 6,
    "start_time": "2022-05-31T15:10:19.218Z"
   },
   {
    "duration": 8,
    "start_time": "2022-05-31T15:10:53.662Z"
   },
   {
    "duration": 11,
    "start_time": "2022-05-31T15:11:15.488Z"
   },
   {
    "duration": 6,
    "start_time": "2022-05-31T15:11:47.486Z"
   },
   {
    "duration": 8,
    "start_time": "2022-05-31T15:12:11.289Z"
   },
   {
    "duration": 10,
    "start_time": "2022-05-31T15:12:45.888Z"
   },
   {
    "duration": 451,
    "start_time": "2022-05-31T15:18:12.343Z"
   },
   {
    "duration": 7,
    "start_time": "2022-05-31T15:18:25.454Z"
   },
   {
    "duration": 6,
    "start_time": "2022-05-31T15:23:44.510Z"
   },
   {
    "duration": 4,
    "start_time": "2022-05-31T15:23:53.258Z"
   },
   {
    "duration": 700,
    "start_time": "2022-05-31T15:24:14.363Z"
   },
   {
    "duration": 233,
    "start_time": "2022-05-31T15:24:25.066Z"
   },
   {
    "duration": 8,
    "start_time": "2022-05-31T15:24:54.187Z"
   },
   {
    "duration": 10,
    "start_time": "2022-05-31T15:26:03.363Z"
   },
   {
    "duration": 7,
    "start_time": "2022-05-31T15:26:36.170Z"
   },
   {
    "duration": 8,
    "start_time": "2022-05-31T15:27:02.018Z"
   },
   {
    "duration": 11,
    "start_time": "2022-05-31T15:27:13.366Z"
   },
   {
    "duration": 6,
    "start_time": "2022-05-31T15:27:28.609Z"
   },
   {
    "duration": 12,
    "start_time": "2022-05-31T15:27:40.541Z"
   },
   {
    "duration": 11,
    "start_time": "2022-05-31T15:28:13.262Z"
   },
   {
    "duration": 11,
    "start_time": "2022-05-31T15:40:23.805Z"
   },
   {
    "duration": 19,
    "start_time": "2022-05-31T15:40:57.455Z"
   },
   {
    "duration": 24,
    "start_time": "2022-05-31T15:41:00.316Z"
   },
   {
    "duration": 51,
    "start_time": "2022-05-31T15:41:16.195Z"
   },
   {
    "duration": 143,
    "start_time": "2022-05-31T15:42:19.419Z"
   },
   {
    "duration": 10,
    "start_time": "2022-05-31T15:44:44.652Z"
   },
   {
    "duration": 111,
    "start_time": "2022-05-31T15:45:13.257Z"
   },
   {
    "duration": 135,
    "start_time": "2022-05-31T15:45:19.517Z"
   },
   {
    "duration": 113,
    "start_time": "2022-05-31T15:45:27.426Z"
   },
   {
    "duration": 31,
    "start_time": "2022-05-31T15:45:46.095Z"
   },
   {
    "duration": 10,
    "start_time": "2022-05-31T15:45:57.185Z"
   },
   {
    "duration": 102,
    "start_time": "2022-05-31T15:46:00.026Z"
   },
   {
    "duration": 64,
    "start_time": "2022-05-31T15:46:19.105Z"
   },
   {
    "duration": 21,
    "start_time": "2022-05-31T15:49:53.265Z"
   },
   {
    "duration": 76,
    "start_time": "2022-05-31T15:49:59.317Z"
   },
   {
    "duration": 59,
    "start_time": "2022-05-31T15:50:02.947Z"
   },
   {
    "duration": 9,
    "start_time": "2022-05-31T15:57:56.864Z"
   },
   {
    "duration": 8,
    "start_time": "2022-05-31T15:59:19.274Z"
   },
   {
    "duration": 5,
    "start_time": "2022-05-31T16:12:18.117Z"
   },
   {
    "duration": 16,
    "start_time": "2022-05-31T16:12:21.049Z"
   },
   {
    "duration": 2,
    "start_time": "2022-05-31T16:12:34.846Z"
   },
   {
    "duration": 5,
    "start_time": "2022-05-31T16:12:36.884Z"
   },
   {
    "duration": 3,
    "start_time": "2022-05-31T16:12:39.984Z"
   },
   {
    "duration": 71,
    "start_time": "2022-05-31T16:12:39.989Z"
   },
   {
    "duration": 12,
    "start_time": "2022-05-31T16:12:40.062Z"
   },
   {
    "duration": 17,
    "start_time": "2022-05-31T16:12:40.075Z"
   },
   {
    "duration": 132,
    "start_time": "2022-05-31T16:12:40.094Z"
   },
   {
    "duration": 2,
    "start_time": "2022-05-31T16:12:40.229Z"
   },
   {
    "duration": 12,
    "start_time": "2022-05-31T16:12:40.233Z"
   },
   {
    "duration": 14,
    "start_time": "2022-05-31T16:12:40.248Z"
   },
   {
    "duration": 6,
    "start_time": "2022-05-31T16:12:40.264Z"
   },
   {
    "duration": 9,
    "start_time": "2022-05-31T16:12:40.271Z"
   },
   {
    "duration": 20,
    "start_time": "2022-05-31T16:12:40.281Z"
   },
   {
    "duration": 25,
    "start_time": "2022-05-31T16:12:40.302Z"
   },
   {
    "duration": 6,
    "start_time": "2022-05-31T16:12:40.330Z"
   },
   {
    "duration": 10,
    "start_time": "2022-05-31T16:12:40.337Z"
   },
   {
    "duration": 6,
    "start_time": "2022-05-31T16:12:40.349Z"
   },
   {
    "duration": 632,
    "start_time": "2022-05-31T16:12:40.356Z"
   },
   {
    "duration": 492,
    "start_time": "2022-05-31T16:12:40.990Z"
   },
   {
    "duration": 206,
    "start_time": "2022-05-31T16:12:41.484Z"
   },
   {
    "duration": 7,
    "start_time": "2022-05-31T16:12:41.693Z"
   },
   {
    "duration": 25,
    "start_time": "2022-05-31T16:12:41.702Z"
   },
   {
    "duration": 470,
    "start_time": "2022-05-31T16:12:41.729Z"
   },
   {
    "duration": 5,
    "start_time": "2022-05-31T16:12:42.201Z"
   },
   {
    "duration": 25,
    "start_time": "2022-05-31T16:12:42.207Z"
   },
   {
    "duration": 16,
    "start_time": "2022-05-31T16:12:42.234Z"
   },
   {
    "duration": 18,
    "start_time": "2022-05-31T16:12:42.251Z"
   },
   {
    "duration": 20,
    "start_time": "2022-05-31T16:12:42.271Z"
   },
   {
    "duration": 9,
    "start_time": "2022-05-31T16:12:42.293Z"
   },
   {
    "duration": 10,
    "start_time": "2022-05-31T16:12:42.304Z"
   },
   {
    "duration": 9,
    "start_time": "2022-05-31T16:12:42.315Z"
   },
   {
    "duration": 12,
    "start_time": "2022-05-31T16:12:42.327Z"
   },
   {
    "duration": 17,
    "start_time": "2022-05-31T16:12:42.341Z"
   },
   {
    "duration": 11,
    "start_time": "2022-05-31T16:12:42.360Z"
   },
   {
    "duration": 7,
    "start_time": "2022-05-31T16:12:42.373Z"
   },
   {
    "duration": 10,
    "start_time": "2022-05-31T16:12:42.381Z"
   },
   {
    "duration": 9,
    "start_time": "2022-05-31T16:12:42.393Z"
   },
   {
    "duration": 39,
    "start_time": "2022-05-31T16:12:42.404Z"
   },
   {
    "duration": 8,
    "start_time": "2022-05-31T16:12:42.449Z"
   },
   {
    "duration": 19,
    "start_time": "2022-05-31T16:12:42.459Z"
   },
   {
    "duration": 9,
    "start_time": "2022-05-31T16:12:42.480Z"
   },
   {
    "duration": 9,
    "start_time": "2022-05-31T16:12:42.490Z"
   },
   {
    "duration": 33,
    "start_time": "2022-05-31T16:12:42.501Z"
   },
   {
    "duration": 12,
    "start_time": "2022-05-31T16:12:42.535Z"
   },
   {
    "duration": 13,
    "start_time": "2022-05-31T16:12:42.549Z"
   },
   {
    "duration": 15,
    "start_time": "2022-05-31T16:12:42.564Z"
   },
   {
    "duration": 49,
    "start_time": "2022-05-31T16:12:42.581Z"
   },
   {
    "duration": 16,
    "start_time": "2022-05-31T16:12:42.632Z"
   },
   {
    "duration": 18,
    "start_time": "2022-05-31T16:12:42.650Z"
   },
   {
    "duration": 9,
    "start_time": "2022-05-31T16:12:42.670Z"
   },
   {
    "duration": 15,
    "start_time": "2022-05-31T16:12:42.681Z"
   },
   {
    "duration": 35,
    "start_time": "2022-05-31T16:12:42.698Z"
   },
   {
    "duration": 14,
    "start_time": "2022-05-31T16:12:42.735Z"
   },
   {
    "duration": 13,
    "start_time": "2022-05-31T16:12:42.751Z"
   },
   {
    "duration": 4,
    "start_time": "2022-05-31T16:13:47.553Z"
   },
   {
    "duration": 6,
    "start_time": "2022-05-31T16:14:21.823Z"
   },
   {
    "duration": 4,
    "start_time": "2022-05-31T16:14:33.446Z"
   },
   {
    "duration": 97,
    "start_time": "2022-05-31T16:14:33.452Z"
   },
   {
    "duration": 15,
    "start_time": "2022-05-31T16:14:33.551Z"
   },
   {
    "duration": 28,
    "start_time": "2022-05-31T16:14:33.568Z"
   },
   {
    "duration": 80,
    "start_time": "2022-05-31T16:14:33.599Z"
   },
   {
    "duration": 3,
    "start_time": "2022-05-31T16:14:33.680Z"
   },
   {
    "duration": 43,
    "start_time": "2022-05-31T16:14:33.685Z"
   },
   {
    "duration": 29,
    "start_time": "2022-05-31T16:14:33.730Z"
   },
   {
    "duration": 6,
    "start_time": "2022-05-31T16:14:33.761Z"
   },
   {
    "duration": 11,
    "start_time": "2022-05-31T16:14:33.770Z"
   },
   {
    "duration": 25,
    "start_time": "2022-05-31T16:14:33.783Z"
   },
   {
    "duration": 16,
    "start_time": "2022-05-31T16:14:33.826Z"
   },
   {
    "duration": 9,
    "start_time": "2022-05-31T16:14:33.844Z"
   },
   {
    "duration": 17,
    "start_time": "2022-05-31T16:14:33.857Z"
   },
   {
    "duration": 8,
    "start_time": "2022-05-31T16:14:33.876Z"
   },
   {
    "duration": 405,
    "start_time": "2022-05-31T16:14:33.885Z"
   },
   {
    "duration": 436,
    "start_time": "2022-05-31T16:14:34.292Z"
   },
   {
    "duration": 172,
    "start_time": "2022-05-31T16:14:34.730Z"
   },
   {
    "duration": 7,
    "start_time": "2022-05-31T16:14:34.905Z"
   },
   {
    "duration": 17,
    "start_time": "2022-05-31T16:14:34.914Z"
   },
   {
    "duration": 595,
    "start_time": "2022-05-31T16:14:34.933Z"
   },
   {
    "duration": 5,
    "start_time": "2022-05-31T16:14:35.530Z"
   },
   {
    "duration": 8,
    "start_time": "2022-05-31T16:14:35.537Z"
   },
   {
    "duration": 23,
    "start_time": "2022-05-31T16:14:35.547Z"
   },
   {
    "duration": 8,
    "start_time": "2022-05-31T16:14:35.571Z"
   },
   {
    "duration": 47,
    "start_time": "2022-05-31T16:14:35.581Z"
   },
   {
    "duration": 9,
    "start_time": "2022-05-31T16:14:35.629Z"
   },
   {
    "duration": 40,
    "start_time": "2022-05-31T16:14:35.640Z"
   },
   {
    "duration": 60,
    "start_time": "2022-05-31T16:14:35.684Z"
   },
   {
    "duration": 56,
    "start_time": "2022-05-31T16:14:35.748Z"
   },
   {
    "duration": 27,
    "start_time": "2022-05-31T16:14:35.807Z"
   },
   {
    "duration": 32,
    "start_time": "2022-05-31T16:14:35.836Z"
   },
   {
    "duration": 28,
    "start_time": "2022-05-31T16:14:35.871Z"
   },
   {
    "duration": 25,
    "start_time": "2022-05-31T16:14:35.901Z"
   },
   {
    "duration": 35,
    "start_time": "2022-05-31T16:14:35.928Z"
   },
   {
    "duration": 33,
    "start_time": "2022-05-31T16:14:35.965Z"
   },
   {
    "duration": 21,
    "start_time": "2022-05-31T16:14:35.999Z"
   },
   {
    "duration": 20,
    "start_time": "2022-05-31T16:14:36.021Z"
   },
   {
    "duration": 17,
    "start_time": "2022-05-31T16:14:36.043Z"
   },
   {
    "duration": 17,
    "start_time": "2022-05-31T16:14:36.062Z"
   },
   {
    "duration": 6,
    "start_time": "2022-05-31T16:14:57.144Z"
   },
   {
    "duration": 6,
    "start_time": "2022-05-31T16:14:59.053Z"
   },
   {
    "duration": 5,
    "start_time": "2022-05-31T16:15:05.558Z"
   },
   {
    "duration": 6,
    "start_time": "2022-05-31T16:15:08.151Z"
   },
   {
    "duration": 4,
    "start_time": "2022-05-31T16:15:19.982Z"
   },
   {
    "duration": 17,
    "start_time": "2022-05-31T16:15:50.043Z"
   },
   {
    "duration": 16,
    "start_time": "2022-05-31T16:16:30.543Z"
   },
   {
    "duration": 22,
    "start_time": "2022-05-31T16:16:50.156Z"
   },
   {
    "duration": 12,
    "start_time": "2022-05-31T16:17:07.254Z"
   },
   {
    "duration": 4,
    "start_time": "2022-05-31T16:17:39.003Z"
   },
   {
    "duration": 403,
    "start_time": "2022-05-31T16:18:17.086Z"
   },
   {
    "duration": 541,
    "start_time": "2022-05-31T16:18:23.574Z"
   },
   {
    "duration": 338,
    "start_time": "2022-05-31T16:18:27.314Z"
   },
   {
    "duration": 15,
    "start_time": "2022-05-31T16:18:39.642Z"
   },
   {
    "duration": 15,
    "start_time": "2022-05-31T16:18:45.094Z"
   },
   {
    "duration": 9,
    "start_time": "2022-05-31T16:18:55.443Z"
   },
   {
    "duration": 11,
    "start_time": "2022-05-31T16:19:02.315Z"
   },
   {
    "duration": 13,
    "start_time": "2022-05-31T16:19:15.484Z"
   },
   {
    "duration": 11,
    "start_time": "2022-05-31T16:19:20.453Z"
   },
   {
    "duration": 10,
    "start_time": "2022-05-31T16:19:41.922Z"
   },
   {
    "duration": 9,
    "start_time": "2022-05-31T16:19:47.713Z"
   },
   {
    "duration": 12,
    "start_time": "2022-05-31T16:20:01.847Z"
   },
   {
    "duration": 9,
    "start_time": "2022-05-31T16:20:09.578Z"
   },
   {
    "duration": 9,
    "start_time": "2022-05-31T16:20:14.803Z"
   },
   {
    "duration": 23,
    "start_time": "2022-05-31T16:20:30.024Z"
   },
   {
    "duration": 4,
    "start_time": "2022-05-31T16:20:40.466Z"
   },
   {
    "duration": 132,
    "start_time": "2022-05-31T16:20:40.472Z"
   },
   {
    "duration": 21,
    "start_time": "2022-05-31T16:20:40.609Z"
   },
   {
    "duration": 73,
    "start_time": "2022-05-31T16:20:40.633Z"
   },
   {
    "duration": 130,
    "start_time": "2022-05-31T16:20:40.709Z"
   },
   {
    "duration": 3,
    "start_time": "2022-05-31T16:20:40.842Z"
   },
   {
    "duration": 20,
    "start_time": "2022-05-31T16:20:40.847Z"
   },
   {
    "duration": 76,
    "start_time": "2022-05-31T16:20:40.870Z"
   },
   {
    "duration": 34,
    "start_time": "2022-05-31T16:20:40.948Z"
   },
   {
    "duration": 26,
    "start_time": "2022-05-31T16:20:40.985Z"
   },
   {
    "duration": 25,
    "start_time": "2022-05-31T16:20:41.013Z"
   },
   {
    "duration": 41,
    "start_time": "2022-05-31T16:20:41.040Z"
   },
   {
    "duration": 39,
    "start_time": "2022-05-31T16:20:41.083Z"
   },
   {
    "duration": 37,
    "start_time": "2022-05-31T16:20:41.128Z"
   },
   {
    "duration": 35,
    "start_time": "2022-05-31T16:20:41.167Z"
   },
   {
    "duration": 42,
    "start_time": "2022-05-31T16:20:41.204Z"
   },
   {
    "duration": 49,
    "start_time": "2022-05-31T16:20:41.248Z"
   },
   {
    "duration": 549,
    "start_time": "2022-05-31T16:20:41.301Z"
   },
   {
    "duration": 519,
    "start_time": "2022-05-31T16:20:41.852Z"
   },
   {
    "duration": 186,
    "start_time": "2022-05-31T16:20:42.374Z"
   },
   {
    "duration": 7,
    "start_time": "2022-05-31T16:20:42.562Z"
   },
   {
    "duration": 25,
    "start_time": "2022-05-31T16:20:42.570Z"
   },
   {
    "duration": 607,
    "start_time": "2022-05-31T16:20:42.597Z"
   },
   {
    "duration": 11,
    "start_time": "2022-05-31T16:20:43.206Z"
   },
   {
    "duration": 15,
    "start_time": "2022-05-31T16:20:43.227Z"
   },
   {
    "duration": 45,
    "start_time": "2022-05-31T16:20:43.244Z"
   },
   {
    "duration": 17,
    "start_time": "2022-05-31T16:20:43.291Z"
   },
   {
    "duration": 57,
    "start_time": "2022-05-31T16:20:43.310Z"
   },
   {
    "duration": 30,
    "start_time": "2022-05-31T16:20:43.370Z"
   },
   {
    "duration": 30,
    "start_time": "2022-05-31T16:20:43.401Z"
   },
   {
    "duration": 41,
    "start_time": "2022-05-31T16:20:43.432Z"
   },
   {
    "duration": 35,
    "start_time": "2022-05-31T16:20:43.475Z"
   },
   {
    "duration": 36,
    "start_time": "2022-05-31T16:20:43.512Z"
   },
   {
    "duration": 52,
    "start_time": "2022-05-31T16:20:43.551Z"
   },
   {
    "duration": 53,
    "start_time": "2022-05-31T16:20:43.606Z"
   },
   {
    "duration": 45,
    "start_time": "2022-05-31T16:20:43.662Z"
   },
   {
    "duration": 26,
    "start_time": "2022-05-31T16:20:43.711Z"
   },
   {
    "duration": 37,
    "start_time": "2022-05-31T16:20:43.740Z"
   },
   {
    "duration": 46,
    "start_time": "2022-05-31T16:20:43.782Z"
   },
   {
    "duration": 22,
    "start_time": "2022-05-31T16:20:43.831Z"
   },
   {
    "duration": 31,
    "start_time": "2022-05-31T16:20:43.859Z"
   },
   {
    "duration": 30,
    "start_time": "2022-05-31T16:20:43.892Z"
   },
   {
    "duration": 17,
    "start_time": "2022-05-31T16:20:59.438Z"
   },
   {
    "duration": 3,
    "start_time": "2022-05-31T16:21:02.587Z"
   },
   {
    "duration": 148,
    "start_time": "2022-05-31T16:21:02.593Z"
   },
   {
    "duration": 16,
    "start_time": "2022-05-31T16:21:02.743Z"
   },
   {
    "duration": 29,
    "start_time": "2022-05-31T16:21:02.761Z"
   },
   {
    "duration": 98,
    "start_time": "2022-05-31T16:21:02.793Z"
   },
   {
    "duration": 3,
    "start_time": "2022-05-31T16:21:02.893Z"
   },
   {
    "duration": 28,
    "start_time": "2022-05-31T16:21:02.898Z"
   },
   {
    "duration": 22,
    "start_time": "2022-05-31T16:21:02.928Z"
   },
   {
    "duration": 24,
    "start_time": "2022-05-31T16:21:02.953Z"
   },
   {
    "duration": 5,
    "start_time": "2022-05-31T16:21:02.979Z"
   },
   {
    "duration": 14,
    "start_time": "2022-05-31T16:21:02.986Z"
   },
   {
    "duration": 45,
    "start_time": "2022-05-31T16:21:03.002Z"
   },
   {
    "duration": 17,
    "start_time": "2022-05-31T16:21:03.049Z"
   },
   {
    "duration": 30,
    "start_time": "2022-05-31T16:21:03.069Z"
   },
   {
    "duration": 5,
    "start_time": "2022-05-31T16:21:03.101Z"
   },
   {
    "duration": 24,
    "start_time": "2022-05-31T16:21:03.108Z"
   },
   {
    "duration": 5,
    "start_time": "2022-05-31T16:21:03.134Z"
   },
   {
    "duration": 409,
    "start_time": "2022-05-31T16:21:03.141Z"
   },
   {
    "duration": 605,
    "start_time": "2022-05-31T16:21:03.553Z"
   },
   {
    "duration": 220,
    "start_time": "2022-05-31T16:21:04.160Z"
   },
   {
    "duration": 7,
    "start_time": "2022-05-31T16:21:04.382Z"
   },
   {
    "duration": 16,
    "start_time": "2022-05-31T16:21:04.391Z"
   },
   {
    "duration": 566,
    "start_time": "2022-05-31T16:21:04.409Z"
   },
   {
    "duration": 5,
    "start_time": "2022-05-31T16:21:04.978Z"
   },
   {
    "duration": 14,
    "start_time": "2022-05-31T16:21:04.985Z"
   },
   {
    "duration": 45,
    "start_time": "2022-05-31T16:21:05.001Z"
   },
   {
    "duration": 10,
    "start_time": "2022-05-31T16:21:05.048Z"
   },
   {
    "duration": 53,
    "start_time": "2022-05-31T16:21:05.059Z"
   },
   {
    "duration": 14,
    "start_time": "2022-05-31T16:21:05.114Z"
   },
   {
    "duration": 17,
    "start_time": "2022-05-31T16:21:05.130Z"
   },
   {
    "duration": 18,
    "start_time": "2022-05-31T16:21:05.150Z"
   },
   {
    "duration": 17,
    "start_time": "2022-05-31T16:21:05.170Z"
   },
   {
    "duration": 16,
    "start_time": "2022-05-31T16:21:05.188Z"
   },
   {
    "duration": 26,
    "start_time": "2022-05-31T16:21:05.206Z"
   },
   {
    "duration": 25,
    "start_time": "2022-05-31T16:21:05.233Z"
   },
   {
    "duration": 14,
    "start_time": "2022-05-31T16:21:05.261Z"
   },
   {
    "duration": 49,
    "start_time": "2022-05-31T16:21:05.278Z"
   },
   {
    "duration": 4,
    "start_time": "2022-05-31T16:21:05.329Z"
   },
   {
    "duration": 36,
    "start_time": "2022-05-31T16:21:05.335Z"
   },
   {
    "duration": 17,
    "start_time": "2022-05-31T16:21:05.373Z"
   },
   {
    "duration": 17,
    "start_time": "2022-05-31T16:21:05.395Z"
   },
   {
    "duration": 23,
    "start_time": "2022-05-31T16:21:05.428Z"
   },
   {
    "duration": 5,
    "start_time": "2022-05-31T16:26:37.963Z"
   },
   {
    "duration": 65,
    "start_time": "2022-06-02T14:46:57.523Z"
   },
   {
    "duration": 1399,
    "start_time": "2022-06-02T14:47:02.393Z"
   },
   {
    "duration": 296,
    "start_time": "2022-06-02T14:47:03.794Z"
   },
   {
    "duration": 19,
    "start_time": "2022-06-02T14:47:04.091Z"
   },
   {
    "duration": 16,
    "start_time": "2022-06-02T14:47:04.111Z"
   },
   {
    "duration": 70,
    "start_time": "2022-06-02T14:47:04.129Z"
   },
   {
    "duration": 5,
    "start_time": "2022-06-02T14:47:04.200Z"
   },
   {
    "duration": 17,
    "start_time": "2022-06-02T14:47:04.207Z"
   },
   {
    "duration": 23,
    "start_time": "2022-06-02T14:47:04.264Z"
   },
   {
    "duration": 5,
    "start_time": "2022-06-02T14:47:04.288Z"
   },
   {
    "duration": 28,
    "start_time": "2022-06-02T14:47:04.295Z"
   },
   {
    "duration": 8,
    "start_time": "2022-06-02T14:47:04.325Z"
   },
   {
    "duration": 14,
    "start_time": "2022-06-02T14:47:04.334Z"
   },
   {
    "duration": 16,
    "start_time": "2022-06-02T14:47:04.349Z"
   },
   {
    "duration": 347,
    "start_time": "2022-06-02T14:47:04.368Z"
   },
   {
    "duration": 398,
    "start_time": "2022-06-02T14:47:04.717Z"
   },
   {
    "duration": 140,
    "start_time": "2022-06-02T14:47:05.117Z"
   },
   {
    "duration": 9,
    "start_time": "2022-06-02T14:47:05.258Z"
   },
   {
    "duration": 26,
    "start_time": "2022-06-02T14:47:05.268Z"
   },
   {
    "duration": 341,
    "start_time": "2022-06-02T14:47:05.295Z"
   },
   {
    "duration": 5,
    "start_time": "2022-06-02T14:47:05.638Z"
   },
   {
    "duration": 5,
    "start_time": "2022-06-02T14:47:05.645Z"
   },
   {
    "duration": 25,
    "start_time": "2022-06-02T14:47:05.651Z"
   },
   {
    "duration": 6,
    "start_time": "2022-06-02T14:47:05.678Z"
   },
   {
    "duration": 25,
    "start_time": "2022-06-02T14:47:05.685Z"
   },
   {
    "duration": 5,
    "start_time": "2022-06-02T14:47:05.712Z"
   },
   {
    "duration": 17,
    "start_time": "2022-06-02T14:47:05.718Z"
   },
   {
    "duration": 28,
    "start_time": "2022-06-02T14:47:05.737Z"
   },
   {
    "duration": 12,
    "start_time": "2022-06-02T14:47:05.767Z"
   },
   {
    "duration": 16,
    "start_time": "2022-06-02T14:47:05.781Z"
   },
   {
    "duration": 12,
    "start_time": "2022-06-02T14:47:05.798Z"
   },
   {
    "duration": 22,
    "start_time": "2022-06-02T14:47:05.812Z"
   },
   {
    "duration": 36,
    "start_time": "2022-06-02T14:47:05.836Z"
   },
   {
    "duration": 22,
    "start_time": "2022-06-02T14:47:05.874Z"
   },
   {
    "duration": 6,
    "start_time": "2022-06-02T14:47:05.897Z"
   },
   {
    "duration": 19,
    "start_time": "2022-06-02T14:47:05.905Z"
   },
   {
    "duration": 88,
    "start_time": "2022-06-02T14:47:05.925Z"
   },
   {
    "duration": 0,
    "start_time": "2022-06-02T14:47:06.015Z"
   },
   {
    "duration": 0,
    "start_time": "2022-06-02T14:47:06.017Z"
   },
   {
    "duration": 0,
    "start_time": "2022-06-02T14:47:06.018Z"
   },
   {
    "duration": 9,
    "start_time": "2022-06-02T14:47:12.822Z"
   },
   {
    "duration": 15,
    "start_time": "2022-06-02T14:47:24.793Z"
   },
   {
    "duration": 18,
    "start_time": "2022-06-02T14:47:35.403Z"
   },
   {
    "duration": 12,
    "start_time": "2022-06-02T14:47:42.665Z"
   },
   {
    "duration": 18,
    "start_time": "2022-06-02T14:47:50.270Z"
   },
   {
    "duration": 13,
    "start_time": "2022-06-02T14:48:20.613Z"
   },
   {
    "duration": 11,
    "start_time": "2022-06-02T14:48:36.066Z"
   },
   {
    "duration": 11,
    "start_time": "2022-06-02T14:48:53.613Z"
   },
   {
    "duration": 146,
    "start_time": "2022-06-02T14:48:59.160Z"
   },
   {
    "duration": 54,
    "start_time": "2022-06-02T14:49:07.793Z"
   },
   {
    "duration": 10,
    "start_time": "2022-06-02T14:49:18.222Z"
   },
   {
    "duration": 15,
    "start_time": "2022-06-02T14:49:22.766Z"
   },
   {
    "duration": 13,
    "start_time": "2022-06-02T14:49:29.656Z"
   },
   {
    "duration": 11,
    "start_time": "2022-06-02T14:49:35.904Z"
   },
   {
    "duration": 16,
    "start_time": "2022-06-02T14:49:53.254Z"
   },
   {
    "duration": 6,
    "start_time": "2022-06-02T14:49:57.711Z"
   },
   {
    "duration": 9,
    "start_time": "2022-06-02T14:50:10.756Z"
   },
   {
    "duration": 16,
    "start_time": "2022-06-02T14:52:47.411Z"
   },
   {
    "duration": 20,
    "start_time": "2022-06-02T14:53:35.860Z"
   },
   {
    "duration": 15,
    "start_time": "2022-06-02T14:53:43.551Z"
   },
   {
    "duration": 16,
    "start_time": "2022-06-02T14:54:05.520Z"
   },
   {
    "duration": 17,
    "start_time": "2022-06-02T14:54:19.600Z"
   },
   {
    "duration": 15,
    "start_time": "2022-06-02T14:54:36.953Z"
   },
   {
    "duration": 11,
    "start_time": "2022-06-02T14:55:28.847Z"
   },
   {
    "duration": 8,
    "start_time": "2022-06-02T14:55:48.450Z"
   },
   {
    "duration": 13,
    "start_time": "2022-06-02T14:56:13.276Z"
   },
   {
    "duration": 22,
    "start_time": "2022-06-02T14:57:07.010Z"
   },
   {
    "duration": 18,
    "start_time": "2022-06-02T14:57:10.081Z"
   },
   {
    "duration": 586,
    "start_time": "2022-06-02T14:57:10.859Z"
   },
   {
    "duration": 29,
    "start_time": "2022-06-02T14:57:29.570Z"
   },
   {
    "duration": 35,
    "start_time": "2022-06-02T14:57:36.211Z"
   },
   {
    "duration": 49,
    "start_time": "2022-06-02T14:57:54.556Z"
   },
   {
    "duration": 14,
    "start_time": "2022-06-02T14:58:00.995Z"
   },
   {
    "duration": 9,
    "start_time": "2022-06-02T14:58:03.376Z"
   },
   {
    "duration": 21,
    "start_time": "2022-06-02T14:58:09.076Z"
   },
   {
    "duration": 12,
    "start_time": "2022-06-02T14:58:19.662Z"
   },
   {
    "duration": 9,
    "start_time": "2022-06-02T14:58:21.811Z"
   },
   {
    "duration": 2,
    "start_time": "2022-06-02T14:58:25.631Z"
   },
   {
    "duration": 105,
    "start_time": "2022-06-02T14:58:25.635Z"
   },
   {
    "duration": 12,
    "start_time": "2022-06-02T14:58:25.742Z"
   },
   {
    "duration": 16,
    "start_time": "2022-06-02T14:58:25.756Z"
   },
   {
    "duration": 51,
    "start_time": "2022-06-02T14:58:25.773Z"
   },
   {
    "duration": 42,
    "start_time": "2022-06-02T14:58:25.825Z"
   },
   {
    "duration": 25,
    "start_time": "2022-06-02T14:58:25.868Z"
   },
   {
    "duration": 21,
    "start_time": "2022-06-02T14:58:25.894Z"
   },
   {
    "duration": 5,
    "start_time": "2022-06-02T14:58:25.917Z"
   },
   {
    "duration": 17,
    "start_time": "2022-06-02T14:58:25.924Z"
   },
   {
    "duration": 24,
    "start_time": "2022-06-02T14:58:25.943Z"
   },
   {
    "duration": 9,
    "start_time": "2022-06-02T14:58:25.969Z"
   },
   {
    "duration": 5,
    "start_time": "2022-06-02T14:58:25.979Z"
   },
   {
    "duration": 422,
    "start_time": "2022-06-02T14:58:25.986Z"
   },
   {
    "duration": 417,
    "start_time": "2022-06-02T14:58:26.410Z"
   },
   {
    "duration": 149,
    "start_time": "2022-06-02T14:58:26.829Z"
   },
   {
    "duration": 5,
    "start_time": "2022-06-02T14:58:26.979Z"
   },
   {
    "duration": 5,
    "start_time": "2022-06-02T14:58:26.986Z"
   },
   {
    "duration": 453,
    "start_time": "2022-06-02T14:58:26.993Z"
   },
   {
    "duration": 5,
    "start_time": "2022-06-02T14:58:27.448Z"
   },
   {
    "duration": 4,
    "start_time": "2022-06-02T14:58:27.464Z"
   },
   {
    "duration": 24,
    "start_time": "2022-06-02T14:58:27.471Z"
   },
   {
    "duration": 7,
    "start_time": "2022-06-02T14:58:27.496Z"
   },
   {
    "duration": 18,
    "start_time": "2022-06-02T14:58:27.506Z"
   },
   {
    "duration": 5,
    "start_time": "2022-06-02T14:58:27.525Z"
   },
   {
    "duration": 35,
    "start_time": "2022-06-02T14:58:27.532Z"
   },
   {
    "duration": 15,
    "start_time": "2022-06-02T14:58:27.569Z"
   },
   {
    "duration": 12,
    "start_time": "2022-06-02T14:58:27.586Z"
   },
   {
    "duration": 8,
    "start_time": "2022-06-02T14:58:27.600Z"
   },
   {
    "duration": 13,
    "start_time": "2022-06-02T14:58:27.610Z"
   },
   {
    "duration": 59,
    "start_time": "2022-06-02T14:58:27.625Z"
   },
   {
    "duration": 15,
    "start_time": "2022-06-02T14:58:27.686Z"
   },
   {
    "duration": 17,
    "start_time": "2022-06-02T14:58:27.703Z"
   },
   {
    "duration": 8,
    "start_time": "2022-06-02T14:58:27.722Z"
   },
   {
    "duration": 34,
    "start_time": "2022-06-02T14:58:27.732Z"
   },
   {
    "duration": 15,
    "start_time": "2022-06-02T14:58:27.768Z"
   },
   {
    "duration": 8,
    "start_time": "2022-06-02T14:58:27.785Z"
   },
   {
    "duration": 13,
    "start_time": "2022-06-02T14:58:27.794Z"
   },
   {
    "duration": 13,
    "start_time": "2022-06-02T14:58:27.808Z"
   },
   {
    "duration": 45,
    "start_time": "2022-06-02T14:58:27.822Z"
   },
   {
    "duration": 12,
    "start_time": "2022-06-02T15:00:17.782Z"
   },
   {
    "duration": 9,
    "start_time": "2022-06-02T15:00:59.664Z"
   },
   {
    "duration": 10,
    "start_time": "2022-06-02T15:01:42.662Z"
   },
   {
    "duration": 3,
    "start_time": "2022-06-02T15:04:05.263Z"
   },
   {
    "duration": 2,
    "start_time": "2022-06-02T15:04:40.839Z"
   },
   {
    "duration": 11,
    "start_time": "2022-06-02T15:07:14.144Z"
   },
   {
    "duration": 11,
    "start_time": "2022-06-02T15:07:18.943Z"
   },
   {
    "duration": 11,
    "start_time": "2022-06-02T15:07:23.551Z"
   },
   {
    "duration": 16,
    "start_time": "2022-06-02T15:07:37.462Z"
   },
   {
    "duration": 14,
    "start_time": "2022-06-02T15:07:50.016Z"
   },
   {
    "duration": 474,
    "start_time": "2022-06-02T15:07:52.645Z"
   },
   {
    "duration": 12,
    "start_time": "2022-06-02T15:08:01.012Z"
   },
   {
    "duration": 11,
    "start_time": "2022-06-02T15:08:05.826Z"
   },
   {
    "duration": 380,
    "start_time": "2022-06-02T15:08:15.183Z"
   },
   {
    "duration": 5,
    "start_time": "2022-06-02T15:08:51.973Z"
   },
   {
    "duration": 5,
    "start_time": "2022-06-02T15:09:03.711Z"
   },
   {
    "duration": 6,
    "start_time": "2022-06-02T15:09:09.670Z"
   },
   {
    "duration": 6,
    "start_time": "2022-06-02T15:09:12.342Z"
   },
   {
    "duration": 6,
    "start_time": "2022-06-02T15:09:14.511Z"
   },
   {
    "duration": 7,
    "start_time": "2022-06-02T15:09:16.633Z"
   },
   {
    "duration": 7,
    "start_time": "2022-06-02T15:11:58.372Z"
   },
   {
    "duration": 6,
    "start_time": "2022-06-02T15:14:39.192Z"
   },
   {
    "duration": 8,
    "start_time": "2022-06-02T15:14:52.859Z"
   },
   {
    "duration": 9,
    "start_time": "2022-06-02T15:15:45.582Z"
   },
   {
    "duration": 8,
    "start_time": "2022-06-02T15:16:55.313Z"
   },
   {
    "duration": 8,
    "start_time": "2022-06-02T15:17:04.476Z"
   },
   {
    "duration": 10,
    "start_time": "2022-06-02T15:17:37.345Z"
   },
   {
    "duration": 12,
    "start_time": "2022-06-02T15:18:11.624Z"
   },
   {
    "duration": 12,
    "start_time": "2022-06-02T15:19:12.596Z"
   },
   {
    "duration": 11,
    "start_time": "2022-06-02T15:19:22.113Z"
   },
   {
    "duration": 11,
    "start_time": "2022-06-02T15:20:10.683Z"
   },
   {
    "duration": 11,
    "start_time": "2022-06-02T15:21:14.250Z"
   },
   {
    "duration": 13,
    "start_time": "2022-06-02T15:21:16.109Z"
   },
   {
    "duration": 3,
    "start_time": "2022-06-02T15:21:19.465Z"
   },
   {
    "duration": 73,
    "start_time": "2022-06-02T15:21:19.470Z"
   },
   {
    "duration": 12,
    "start_time": "2022-06-02T15:21:19.545Z"
   },
   {
    "duration": 19,
    "start_time": "2022-06-02T15:21:19.558Z"
   },
   {
    "duration": 48,
    "start_time": "2022-06-02T15:21:19.580Z"
   },
   {
    "duration": 4,
    "start_time": "2022-06-02T15:21:19.665Z"
   },
   {
    "duration": 18,
    "start_time": "2022-06-02T15:21:19.670Z"
   },
   {
    "duration": 20,
    "start_time": "2022-06-02T15:21:19.690Z"
   },
   {
    "duration": 4,
    "start_time": "2022-06-02T15:21:19.712Z"
   },
   {
    "duration": 14,
    "start_time": "2022-06-02T15:21:19.718Z"
   },
   {
    "duration": 31,
    "start_time": "2022-06-02T15:21:19.733Z"
   },
   {
    "duration": 7,
    "start_time": "2022-06-02T15:21:19.766Z"
   },
   {
    "duration": 4,
    "start_time": "2022-06-02T15:21:19.775Z"
   },
   {
    "duration": 334,
    "start_time": "2022-06-02T15:21:19.782Z"
   },
   {
    "duration": 402,
    "start_time": "2022-06-02T15:21:20.118Z"
   },
   {
    "duration": 152,
    "start_time": "2022-06-02T15:21:20.523Z"
   },
   {
    "duration": 6,
    "start_time": "2022-06-02T15:21:20.677Z"
   },
   {
    "duration": 6,
    "start_time": "2022-06-02T15:21:20.685Z"
   },
   {
    "duration": 436,
    "start_time": "2022-06-02T15:21:20.693Z"
   },
   {
    "duration": 4,
    "start_time": "2022-06-02T15:21:21.130Z"
   },
   {
    "duration": 18,
    "start_time": "2022-06-02T15:21:21.135Z"
   },
   {
    "duration": 22,
    "start_time": "2022-06-02T15:21:21.155Z"
   },
   {
    "duration": 7,
    "start_time": "2022-06-02T15:21:21.178Z"
   },
   {
    "duration": 18,
    "start_time": "2022-06-02T15:21:21.186Z"
   },
   {
    "duration": 4,
    "start_time": "2022-06-02T15:21:21.206Z"
   },
   {
    "duration": 12,
    "start_time": "2022-06-02T15:21:21.212Z"
   },
   {
    "duration": 14,
    "start_time": "2022-06-02T15:21:21.225Z"
   },
   {
    "duration": 34,
    "start_time": "2022-06-02T15:21:21.241Z"
   },
   {
    "duration": 7,
    "start_time": "2022-06-02T15:21:21.277Z"
   },
   {
    "duration": 12,
    "start_time": "2022-06-02T15:21:21.286Z"
   },
   {
    "duration": 22,
    "start_time": "2022-06-02T15:21:21.300Z"
   },
   {
    "duration": 45,
    "start_time": "2022-06-02T15:21:21.324Z"
   },
   {
    "duration": 13,
    "start_time": "2022-06-02T15:21:21.371Z"
   },
   {
    "duration": 5,
    "start_time": "2022-06-02T15:21:21.386Z"
   },
   {
    "duration": 14,
    "start_time": "2022-06-02T15:21:21.392Z"
   },
   {
    "duration": 15,
    "start_time": "2022-06-02T15:21:21.407Z"
   },
   {
    "duration": 47,
    "start_time": "2022-06-02T15:21:21.423Z"
   },
   {
    "duration": 12,
    "start_time": "2022-06-02T15:21:21.472Z"
   },
   {
    "duration": 14,
    "start_time": "2022-06-02T15:21:21.486Z"
   },
   {
    "duration": 12,
    "start_time": "2022-06-02T15:21:21.502Z"
   },
   {
    "duration": 47,
    "start_time": "2022-06-02T15:21:21.518Z"
   },
   {
    "duration": 14,
    "start_time": "2022-06-02T15:21:21.567Z"
   },
   {
    "duration": 11,
    "start_time": "2022-06-02T15:25:42.454Z"
   },
   {
    "duration": 9,
    "start_time": "2022-06-02T15:26:26.323Z"
   },
   {
    "duration": 2,
    "start_time": "2022-06-02T15:26:49.792Z"
   },
   {
    "duration": 26,
    "start_time": "2022-06-02T15:35:53.535Z"
   },
   {
    "duration": 17,
    "start_time": "2022-06-02T15:36:03.912Z"
   },
   {
    "duration": 17,
    "start_time": "2022-06-02T15:36:42.093Z"
   },
   {
    "duration": 23,
    "start_time": "2022-06-02T15:37:59.255Z"
   },
   {
    "duration": 10,
    "start_time": "2022-06-02T15:46:08.594Z"
   },
   {
    "duration": 16,
    "start_time": "2022-06-02T15:46:13.932Z"
   },
   {
    "duration": 19,
    "start_time": "2022-06-02T15:46:18.973Z"
   },
   {
    "duration": 20,
    "start_time": "2022-06-02T15:46:28.784Z"
   },
   {
    "duration": 16,
    "start_time": "2022-06-02T15:46:44.083Z"
   },
   {
    "duration": 17,
    "start_time": "2022-06-02T15:46:48.345Z"
   },
   {
    "duration": 18,
    "start_time": "2022-06-02T15:47:44.566Z"
   },
   {
    "duration": 21,
    "start_time": "2022-06-02T15:48:09.913Z"
   },
   {
    "duration": 21,
    "start_time": "2022-06-02T15:48:43.341Z"
   },
   {
    "duration": 5,
    "start_time": "2022-06-02T15:53:46.120Z"
   },
   {
    "duration": 6,
    "start_time": "2022-06-02T15:53:48.177Z"
   },
   {
    "duration": 4,
    "start_time": "2022-06-02T15:54:23.315Z"
   },
   {
    "duration": 10,
    "start_time": "2022-06-02T15:54:40.638Z"
   },
   {
    "duration": 5,
    "start_time": "2022-06-02T15:54:45.494Z"
   },
   {
    "duration": 3,
    "start_time": "2022-06-02T15:54:54.587Z"
   },
   {
    "duration": 76,
    "start_time": "2022-06-02T15:54:54.592Z"
   },
   {
    "duration": 12,
    "start_time": "2022-06-02T15:54:54.670Z"
   },
   {
    "duration": 24,
    "start_time": "2022-06-02T15:54:54.683Z"
   },
   {
    "duration": 79,
    "start_time": "2022-06-02T15:54:54.709Z"
   },
   {
    "duration": 6,
    "start_time": "2022-06-02T15:54:54.789Z"
   },
   {
    "duration": 17,
    "start_time": "2022-06-02T15:54:54.796Z"
   },
   {
    "duration": 50,
    "start_time": "2022-06-02T15:54:54.815Z"
   },
   {
    "duration": 5,
    "start_time": "2022-06-02T15:54:54.869Z"
   },
   {
    "duration": 14,
    "start_time": "2022-06-02T15:54:54.875Z"
   },
   {
    "duration": 4,
    "start_time": "2022-06-02T15:54:54.890Z"
   },
   {
    "duration": 6,
    "start_time": "2022-06-02T15:54:54.895Z"
   },
   {
    "duration": 7,
    "start_time": "2022-06-02T15:54:54.903Z"
   },
   {
    "duration": 5,
    "start_time": "2022-06-02T15:54:54.911Z"
   },
   {
    "duration": 388,
    "start_time": "2022-06-02T15:54:54.917Z"
   },
   {
    "duration": 406,
    "start_time": "2022-06-02T15:54:55.307Z"
   },
   {
    "duration": 149,
    "start_time": "2022-06-02T15:54:55.715Z"
   },
   {
    "duration": 5,
    "start_time": "2022-06-02T15:54:55.866Z"
   },
   {
    "duration": 6,
    "start_time": "2022-06-02T15:54:55.872Z"
   },
   {
    "duration": 353,
    "start_time": "2022-06-02T15:54:55.879Z"
   },
   {
    "duration": 4,
    "start_time": "2022-06-02T15:54:56.234Z"
   },
   {
    "duration": 7,
    "start_time": "2022-06-02T15:54:56.239Z"
   },
   {
    "duration": 31,
    "start_time": "2022-06-02T15:54:56.247Z"
   },
   {
    "duration": 7,
    "start_time": "2022-06-02T15:54:56.281Z"
   },
   {
    "duration": 24,
    "start_time": "2022-06-02T15:54:56.289Z"
   },
   {
    "duration": 6,
    "start_time": "2022-06-02T15:54:56.314Z"
   },
   {
    "duration": 8,
    "start_time": "2022-06-02T15:54:56.321Z"
   },
   {
    "duration": 34,
    "start_time": "2022-06-02T15:54:56.330Z"
   },
   {
    "duration": 12,
    "start_time": "2022-06-02T15:54:56.366Z"
   },
   {
    "duration": 11,
    "start_time": "2022-06-02T15:54:56.380Z"
   },
   {
    "duration": 12,
    "start_time": "2022-06-02T15:54:56.392Z"
   },
   {
    "duration": 23,
    "start_time": "2022-06-02T15:54:56.405Z"
   },
   {
    "duration": 39,
    "start_time": "2022-06-02T15:54:56.430Z"
   },
   {
    "duration": 19,
    "start_time": "2022-06-02T15:54:56.471Z"
   },
   {
    "duration": 3,
    "start_time": "2022-06-02T15:54:56.492Z"
   },
   {
    "duration": 14,
    "start_time": "2022-06-02T15:54:56.497Z"
   },
   {
    "duration": 14,
    "start_time": "2022-06-02T15:54:56.512Z"
   },
   {
    "duration": 38,
    "start_time": "2022-06-02T15:54:56.527Z"
   },
   {
    "duration": 20,
    "start_time": "2022-06-02T15:54:56.566Z"
   },
   {
    "duration": 12,
    "start_time": "2022-06-02T15:54:56.588Z"
   },
   {
    "duration": 22,
    "start_time": "2022-06-02T15:54:56.602Z"
   },
   {
    "duration": 56,
    "start_time": "2022-06-02T15:54:56.625Z"
   },
   {
    "duration": 12,
    "start_time": "2022-06-02T15:54:56.682Z"
   },
   {
    "duration": 13,
    "start_time": "2022-06-02T15:54:56.696Z"
   },
   {
    "duration": 5,
    "start_time": "2022-06-02T15:58:57.806Z"
   },
   {
    "duration": 5,
    "start_time": "2022-06-02T15:59:00.854Z"
   },
   {
    "duration": 463,
    "start_time": "2022-06-02T16:01:16.175Z"
   },
   {
    "duration": 7,
    "start_time": "2022-06-02T16:01:51.095Z"
   },
   {
    "duration": 16,
    "start_time": "2022-06-02T16:02:35.974Z"
   },
   {
    "duration": 23,
    "start_time": "2022-06-02T16:07:21.158Z"
   },
   {
    "duration": 19,
    "start_time": "2022-06-02T16:07:27.613Z"
   },
   {
    "duration": 13,
    "start_time": "2022-06-02T16:12:23.867Z"
   },
   {
    "duration": 14,
    "start_time": "2022-06-02T16:12:32.136Z"
   },
   {
    "duration": 13,
    "start_time": "2022-06-02T16:12:53.393Z"
   },
   {
    "duration": 3,
    "start_time": "2022-06-02T16:13:03.899Z"
   },
   {
    "duration": 79,
    "start_time": "2022-06-02T16:13:03.903Z"
   },
   {
    "duration": 12,
    "start_time": "2022-06-02T16:13:03.983Z"
   },
   {
    "duration": 20,
    "start_time": "2022-06-02T16:13:03.996Z"
   },
   {
    "duration": 80,
    "start_time": "2022-06-02T16:13:04.018Z"
   },
   {
    "duration": 4,
    "start_time": "2022-06-02T16:13:04.099Z"
   },
   {
    "duration": 20,
    "start_time": "2022-06-02T16:13:04.105Z"
   },
   {
    "duration": 53,
    "start_time": "2022-06-02T16:13:04.127Z"
   },
   {
    "duration": 6,
    "start_time": "2022-06-02T16:13:04.181Z"
   },
   {
    "duration": 34,
    "start_time": "2022-06-02T16:13:04.190Z"
   },
   {
    "duration": 4,
    "start_time": "2022-06-02T16:13:04.226Z"
   },
   {
    "duration": 18,
    "start_time": "2022-06-02T16:13:04.231Z"
   },
   {
    "duration": 17,
    "start_time": "2022-06-02T16:13:04.251Z"
   },
   {
    "duration": 6,
    "start_time": "2022-06-02T16:13:04.270Z"
   },
   {
    "duration": 350,
    "start_time": "2022-06-02T16:13:04.277Z"
   },
   {
    "duration": 398,
    "start_time": "2022-06-02T16:13:04.629Z"
   },
   {
    "duration": 153,
    "start_time": "2022-06-02T16:13:05.029Z"
   },
   {
    "duration": 7,
    "start_time": "2022-06-02T16:13:05.183Z"
   },
   {
    "duration": 19,
    "start_time": "2022-06-02T16:13:05.192Z"
   },
   {
    "duration": 6,
    "start_time": "2022-06-02T16:13:05.212Z"
   },
   {
    "duration": 7,
    "start_time": "2022-06-02T16:13:05.220Z"
   },
   {
    "duration": 37,
    "start_time": "2022-06-02T16:13:05.229Z"
   },
   {
    "duration": 9,
    "start_time": "2022-06-02T16:13:05.267Z"
   },
   {
    "duration": 48,
    "start_time": "2022-06-02T16:13:05.278Z"
   },
   {
    "duration": 19,
    "start_time": "2022-06-02T16:13:05.327Z"
   },
   {
    "duration": 23,
    "start_time": "2022-06-02T16:13:05.348Z"
   },
   {
    "duration": 10,
    "start_time": "2022-06-02T16:13:05.378Z"
   },
   {
    "duration": 23,
    "start_time": "2022-06-02T16:13:05.392Z"
   },
   {
    "duration": 22,
    "start_time": "2022-06-02T16:13:05.417Z"
   },
   {
    "duration": 21,
    "start_time": "2022-06-02T16:13:05.467Z"
   },
   {
    "duration": 22,
    "start_time": "2022-06-02T16:13:05.490Z"
   },
   {
    "duration": 20,
    "start_time": "2022-06-02T16:13:05.514Z"
   },
   {
    "duration": 39,
    "start_time": "2022-06-02T16:13:05.536Z"
   },
   {
    "duration": 20,
    "start_time": "2022-06-02T16:13:05.577Z"
   },
   {
    "duration": 13,
    "start_time": "2022-06-02T16:13:05.599Z"
   },
   {
    "duration": 27,
    "start_time": "2022-06-02T16:13:05.614Z"
   },
   {
    "duration": 32,
    "start_time": "2022-06-02T16:13:05.644Z"
   },
   {
    "duration": 34,
    "start_time": "2022-06-02T16:13:05.678Z"
   },
   {
    "duration": 58,
    "start_time": "2022-06-02T16:13:05.714Z"
   },
   {
    "duration": 18,
    "start_time": "2022-06-02T16:13:05.774Z"
   },
   {
    "duration": 40,
    "start_time": "2022-06-02T16:13:05.794Z"
   },
   {
    "duration": 6,
    "start_time": "2022-06-02T16:15:28.735Z"
   },
   {
    "duration": 4,
    "start_time": "2022-06-02T16:15:34.585Z"
   },
   {
    "duration": 76,
    "start_time": "2022-06-02T16:15:34.591Z"
   },
   {
    "duration": 15,
    "start_time": "2022-06-02T16:15:34.669Z"
   },
   {
    "duration": 16,
    "start_time": "2022-06-02T16:15:34.686Z"
   },
   {
    "duration": 93,
    "start_time": "2022-06-02T16:15:34.704Z"
   },
   {
    "duration": 4,
    "start_time": "2022-06-02T16:15:34.799Z"
   },
   {
    "duration": 18,
    "start_time": "2022-06-02T16:15:34.804Z"
   },
   {
    "duration": 4,
    "start_time": "2022-06-02T16:15:34.824Z"
   },
   {
    "duration": 45,
    "start_time": "2022-06-02T16:15:34.830Z"
   },
   {
    "duration": 4,
    "start_time": "2022-06-02T16:15:34.878Z"
   },
   {
    "duration": 11,
    "start_time": "2022-06-02T16:15:34.883Z"
   },
   {
    "duration": 22,
    "start_time": "2022-06-02T16:15:34.895Z"
   },
   {
    "duration": 14,
    "start_time": "2022-06-02T16:15:34.918Z"
   },
   {
    "duration": 396,
    "start_time": "2022-06-02T16:15:34.935Z"
   },
   {
    "duration": 390,
    "start_time": "2022-06-02T16:15:35.332Z"
   },
   {
    "duration": 154,
    "start_time": "2022-06-02T16:15:35.723Z"
   },
   {
    "duration": 6,
    "start_time": "2022-06-02T16:15:35.878Z"
   },
   {
    "duration": 27,
    "start_time": "2022-06-02T16:15:35.885Z"
   },
   {
    "duration": 13,
    "start_time": "2022-06-02T16:15:35.914Z"
   },
   {
    "duration": 10,
    "start_time": "2022-06-02T16:15:35.928Z"
   },
   {
    "duration": 25,
    "start_time": "2022-06-02T16:15:35.940Z"
   },
   {
    "duration": 9,
    "start_time": "2022-06-02T16:15:35.967Z"
   },
   {
    "duration": 29,
    "start_time": "2022-06-02T16:15:35.978Z"
   },
   {
    "duration": 27,
    "start_time": "2022-06-02T16:15:36.009Z"
   },
   {
    "duration": 15,
    "start_time": "2022-06-02T16:15:36.039Z"
   },
   {
    "duration": 16,
    "start_time": "2022-06-02T16:15:36.056Z"
   },
   {
    "duration": 17,
    "start_time": "2022-06-02T16:15:36.075Z"
   },
   {
    "duration": 23,
    "start_time": "2022-06-02T16:15:36.094Z"
   },
   {
    "duration": 15,
    "start_time": "2022-06-02T16:15:36.118Z"
   },
   {
    "duration": 39,
    "start_time": "2022-06-02T16:15:36.135Z"
   },
   {
    "duration": 10,
    "start_time": "2022-06-02T16:15:36.175Z"
   },
   {
    "duration": 27,
    "start_time": "2022-06-02T16:15:36.187Z"
   },
   {
    "duration": 15,
    "start_time": "2022-06-02T16:15:36.216Z"
   },
   {
    "duration": 15,
    "start_time": "2022-06-02T16:15:36.232Z"
   },
   {
    "duration": 16,
    "start_time": "2022-06-02T16:15:36.265Z"
   },
   {
    "duration": 16,
    "start_time": "2022-06-02T16:15:36.283Z"
   },
   {
    "duration": 26,
    "start_time": "2022-06-02T16:15:36.303Z"
   },
   {
    "duration": 49,
    "start_time": "2022-06-02T16:15:36.331Z"
   },
   {
    "duration": 18,
    "start_time": "2022-06-02T16:15:36.381Z"
   },
   {
    "duration": 14,
    "start_time": "2022-06-02T16:15:36.401Z"
   },
   {
    "duration": 12,
    "start_time": "2022-06-02T16:19:49.134Z"
   },
   {
    "duration": 3,
    "start_time": "2022-06-02T16:19:53.045Z"
   },
   {
    "duration": 82,
    "start_time": "2022-06-02T16:19:53.050Z"
   },
   {
    "duration": 12,
    "start_time": "2022-06-02T16:19:53.134Z"
   },
   {
    "duration": 18,
    "start_time": "2022-06-02T16:19:53.149Z"
   },
   {
    "duration": 48,
    "start_time": "2022-06-02T16:19:53.169Z"
   },
   {
    "duration": 46,
    "start_time": "2022-06-02T16:19:53.219Z"
   },
   {
    "duration": 15,
    "start_time": "2022-06-02T16:19:53.267Z"
   },
   {
    "duration": 5,
    "start_time": "2022-06-02T16:19:53.284Z"
   },
   {
    "duration": 23,
    "start_time": "2022-06-02T16:19:53.292Z"
   },
   {
    "duration": 4,
    "start_time": "2022-06-02T16:19:53.317Z"
   },
   {
    "duration": 11,
    "start_time": "2022-06-02T16:19:53.322Z"
   },
   {
    "duration": 33,
    "start_time": "2022-06-02T16:19:53.335Z"
   },
   {
    "duration": 5,
    "start_time": "2022-06-02T16:19:53.370Z"
   },
   {
    "duration": 342,
    "start_time": "2022-06-02T16:19:53.376Z"
   },
   {
    "duration": 396,
    "start_time": "2022-06-02T16:19:53.720Z"
   },
   {
    "duration": 140,
    "start_time": "2022-06-02T16:19:54.117Z"
   },
   {
    "duration": 5,
    "start_time": "2022-06-02T16:19:54.265Z"
   },
   {
    "duration": 5,
    "start_time": "2022-06-02T16:19:54.272Z"
   },
   {
    "duration": 9,
    "start_time": "2022-06-02T16:19:54.279Z"
   },
   {
    "duration": 6,
    "start_time": "2022-06-02T16:19:54.290Z"
   },
   {
    "duration": 19,
    "start_time": "2022-06-02T16:19:54.297Z"
   },
   {
    "duration": 7,
    "start_time": "2022-06-02T16:19:54.318Z"
   },
   {
    "duration": 50,
    "start_time": "2022-06-02T16:19:54.327Z"
   },
   {
    "duration": 13,
    "start_time": "2022-06-02T16:19:54.381Z"
   },
   {
    "duration": 12,
    "start_time": "2022-06-02T16:19:54.396Z"
   },
   {
    "duration": 8,
    "start_time": "2022-06-02T16:19:54.410Z"
   },
   {
    "duration": 14,
    "start_time": "2022-06-02T16:19:54.420Z"
   },
   {
    "duration": 21,
    "start_time": "2022-06-02T16:19:54.465Z"
   },
   {
    "duration": 15,
    "start_time": "2022-06-02T16:19:54.488Z"
   },
   {
    "duration": 15,
    "start_time": "2022-06-02T16:19:54.504Z"
   },
   {
    "duration": 28,
    "start_time": "2022-06-02T16:19:54.521Z"
   },
   {
    "duration": 13,
    "start_time": "2022-06-02T16:19:54.564Z"
   },
   {
    "duration": 14,
    "start_time": "2022-06-02T16:19:54.578Z"
   },
   {
    "duration": 11,
    "start_time": "2022-06-02T16:19:54.593Z"
   },
   {
    "duration": 59,
    "start_time": "2022-06-02T16:19:54.606Z"
   },
   {
    "duration": 19,
    "start_time": "2022-06-02T16:19:54.666Z"
   },
   {
    "duration": 10,
    "start_time": "2022-06-02T16:31:32.995Z"
   },
   {
    "duration": 3,
    "start_time": "2022-06-02T16:33:50.625Z"
   },
   {
    "duration": 91,
    "start_time": "2022-06-02T16:33:50.630Z"
   },
   {
    "duration": 13,
    "start_time": "2022-06-02T16:33:50.723Z"
   },
   {
    "duration": 19,
    "start_time": "2022-06-02T16:33:50.738Z"
   },
   {
    "duration": 120,
    "start_time": "2022-06-02T16:33:50.759Z"
   },
   {
    "duration": 5,
    "start_time": "2022-06-02T16:33:50.881Z"
   },
   {
    "duration": 32,
    "start_time": "2022-06-02T16:33:50.888Z"
   },
   {
    "duration": 7,
    "start_time": "2022-06-02T16:33:50.922Z"
   },
   {
    "duration": 41,
    "start_time": "2022-06-02T16:33:50.931Z"
   },
   {
    "duration": 5,
    "start_time": "2022-06-02T16:33:50.975Z"
   },
   {
    "duration": 8,
    "start_time": "2022-06-02T16:33:50.982Z"
   },
   {
    "duration": 13,
    "start_time": "2022-06-02T16:33:50.992Z"
   },
   {
    "duration": 6,
    "start_time": "2022-06-02T16:33:51.008Z"
   },
   {
    "duration": 394,
    "start_time": "2022-06-02T16:33:51.020Z"
   },
   {
    "duration": 405,
    "start_time": "2022-06-02T16:33:51.416Z"
   },
   {
    "duration": 156,
    "start_time": "2022-06-02T16:33:51.823Z"
   },
   {
    "duration": 5,
    "start_time": "2022-06-02T16:33:51.981Z"
   },
   {
    "duration": 9,
    "start_time": "2022-06-02T16:33:51.987Z"
   },
   {
    "duration": 10,
    "start_time": "2022-06-02T16:33:51.997Z"
   },
   {
    "duration": 10,
    "start_time": "2022-06-02T16:33:52.008Z"
   },
   {
    "duration": 19,
    "start_time": "2022-06-02T16:33:52.020Z"
   },
   {
    "duration": 24,
    "start_time": "2022-06-02T16:33:52.041Z"
   },
   {
    "duration": 16,
    "start_time": "2022-06-02T16:33:52.067Z"
   },
   {
    "duration": 15,
    "start_time": "2022-06-02T16:33:52.085Z"
   },
   {
    "duration": 13,
    "start_time": "2022-06-02T16:33:52.102Z"
   },
   {
    "duration": 12,
    "start_time": "2022-06-02T16:33:52.117Z"
   },
   {
    "duration": 44,
    "start_time": "2022-06-02T16:33:52.131Z"
   },
   {
    "duration": 127,
    "start_time": "2022-06-02T16:33:52.177Z"
   },
   {
    "duration": 15,
    "start_time": "2022-06-02T16:33:52.306Z"
   },
   {
    "duration": 18,
    "start_time": "2022-06-02T16:33:52.323Z"
   },
   {
    "duration": 35,
    "start_time": "2022-06-02T16:33:52.342Z"
   },
   {
    "duration": 13,
    "start_time": "2022-06-02T16:33:52.379Z"
   },
   {
    "duration": 15,
    "start_time": "2022-06-02T16:33:52.394Z"
   },
   {
    "duration": 11,
    "start_time": "2022-06-02T16:33:52.411Z"
   },
   {
    "duration": 59,
    "start_time": "2022-06-02T16:33:52.423Z"
   },
   {
    "duration": 20,
    "start_time": "2022-06-02T16:33:52.483Z"
   },
   {
    "duration": 1526,
    "start_time": "2022-06-02T17:37:22.818Z"
   },
   {
    "duration": 109,
    "start_time": "2022-06-02T17:37:24.346Z"
   },
   {
    "duration": 24,
    "start_time": "2022-06-02T17:37:24.458Z"
   },
   {
    "duration": 48,
    "start_time": "2022-06-02T17:37:24.484Z"
   },
   {
    "duration": 162,
    "start_time": "2022-06-02T17:37:24.542Z"
   },
   {
    "duration": 5,
    "start_time": "2022-06-02T17:37:24.707Z"
   },
   {
    "duration": 23,
    "start_time": "2022-06-02T17:37:24.715Z"
   },
   {
    "duration": 41,
    "start_time": "2022-06-02T17:37:24.740Z"
   },
   {
    "duration": 31,
    "start_time": "2022-06-02T17:37:24.783Z"
   },
   {
    "duration": 5,
    "start_time": "2022-06-02T17:37:24.816Z"
   },
   {
    "duration": 54,
    "start_time": "2022-06-02T17:37:24.823Z"
   },
   {
    "duration": 24,
    "start_time": "2022-06-02T17:37:24.880Z"
   },
   {
    "duration": 5,
    "start_time": "2022-06-02T17:37:24.907Z"
   },
   {
    "duration": 574,
    "start_time": "2022-06-02T17:37:24.915Z"
   },
   {
    "duration": 519,
    "start_time": "2022-06-02T17:37:25.491Z"
   },
   {
    "duration": 227,
    "start_time": "2022-06-02T17:37:26.012Z"
   },
   {
    "duration": 6,
    "start_time": "2022-06-02T17:37:26.245Z"
   },
   {
    "duration": 41,
    "start_time": "2022-06-02T17:37:26.253Z"
   },
   {
    "duration": 14,
    "start_time": "2022-06-02T17:37:26.297Z"
   },
   {
    "duration": 75,
    "start_time": "2022-06-02T17:37:26.314Z"
   },
   {
    "duration": 47,
    "start_time": "2022-06-02T17:37:26.391Z"
   },
   {
    "duration": 49,
    "start_time": "2022-06-02T17:37:26.444Z"
   },
   {
    "duration": 28,
    "start_time": "2022-06-02T17:37:26.494Z"
   },
   {
    "duration": 59,
    "start_time": "2022-06-02T17:37:26.524Z"
   },
   {
    "duration": 25,
    "start_time": "2022-06-02T17:37:26.586Z"
   },
   {
    "duration": 19,
    "start_time": "2022-06-02T17:37:26.613Z"
   },
   {
    "duration": 96,
    "start_time": "2022-06-02T17:37:26.636Z"
   },
   {
    "duration": 66,
    "start_time": "2022-06-02T17:37:26.738Z"
   },
   {
    "duration": 17,
    "start_time": "2022-06-02T17:37:26.806Z"
   },
   {
    "duration": 87,
    "start_time": "2022-06-02T17:37:26.826Z"
   },
   {
    "duration": 30,
    "start_time": "2022-06-02T17:37:26.915Z"
   },
   {
    "duration": 50,
    "start_time": "2022-06-02T17:37:26.947Z"
   },
   {
    "duration": 17,
    "start_time": "2022-06-02T17:37:27.000Z"
   },
   {
    "duration": 29,
    "start_time": "2022-06-02T17:37:27.019Z"
   },
   {
    "duration": 67,
    "start_time": "2022-06-02T17:37:27.050Z"
   },
   {
    "duration": 55,
    "start_time": "2022-06-02T17:37:27.119Z"
   },
   {
    "duration": 47,
    "start_time": "2022-06-02T17:43:45.361Z"
   },
   {
    "duration": 47,
    "start_time": "2022-06-02T17:44:26.669Z"
   },
   {
    "duration": 44,
    "start_time": "2022-06-02T17:44:30.481Z"
   },
   {
    "duration": 38,
    "start_time": "2022-06-02T17:45:03.777Z"
   },
   {
    "duration": 67,
    "start_time": "2022-06-03T13:35:27.140Z"
   },
   {
    "duration": 1476,
    "start_time": "2022-06-03T13:35:34.380Z"
   },
   {
    "duration": 130,
    "start_time": "2022-06-03T13:35:35.859Z"
   },
   {
    "duration": 22,
    "start_time": "2022-06-03T13:35:35.991Z"
   },
   {
    "duration": 26,
    "start_time": "2022-06-03T13:35:36.015Z"
   },
   {
    "duration": 94,
    "start_time": "2022-06-03T13:35:36.043Z"
   },
   {
    "duration": 6,
    "start_time": "2022-06-03T13:35:36.138Z"
   },
   {
    "duration": 19,
    "start_time": "2022-06-03T13:35:36.145Z"
   },
   {
    "duration": 4,
    "start_time": "2022-06-03T13:35:36.166Z"
   },
   {
    "duration": 54,
    "start_time": "2022-06-03T13:35:36.172Z"
   },
   {
    "duration": 4,
    "start_time": "2022-06-03T13:35:36.229Z"
   },
   {
    "duration": 6,
    "start_time": "2022-06-03T13:35:36.235Z"
   },
   {
    "duration": 8,
    "start_time": "2022-06-03T13:35:36.243Z"
   },
   {
    "duration": 5,
    "start_time": "2022-06-03T13:35:36.252Z"
   },
   {
    "duration": 429,
    "start_time": "2022-06-03T13:35:36.259Z"
   },
   {
    "duration": 507,
    "start_time": "2022-06-03T13:35:36.690Z"
   },
   {
    "duration": 177,
    "start_time": "2022-06-03T13:35:37.199Z"
   },
   {
    "duration": 5,
    "start_time": "2022-06-03T13:35:37.377Z"
   },
   {
    "duration": 8,
    "start_time": "2022-06-03T13:35:37.384Z"
   },
   {
    "duration": 6,
    "start_time": "2022-06-03T13:35:37.394Z"
   },
   {
    "duration": 24,
    "start_time": "2022-06-03T13:35:37.402Z"
   },
   {
    "duration": 20,
    "start_time": "2022-06-03T13:35:37.428Z"
   },
   {
    "duration": 9,
    "start_time": "2022-06-03T13:35:37.450Z"
   },
   {
    "duration": 31,
    "start_time": "2022-06-03T13:35:37.461Z"
   },
   {
    "duration": 41,
    "start_time": "2022-06-03T13:35:37.495Z"
   },
   {
    "duration": 12,
    "start_time": "2022-06-03T13:35:37.537Z"
   },
   {
    "duration": 9,
    "start_time": "2022-06-03T13:35:37.551Z"
   },
   {
    "duration": 19,
    "start_time": "2022-06-03T13:35:37.562Z"
   },
   {
    "duration": 50,
    "start_time": "2022-06-03T13:35:37.584Z"
   },
   {
    "duration": 15,
    "start_time": "2022-06-03T13:35:37.636Z"
   },
   {
    "duration": 27,
    "start_time": "2022-06-03T13:35:37.652Z"
   },
   {
    "duration": 29,
    "start_time": "2022-06-03T13:35:37.680Z"
   },
   {
    "duration": 22,
    "start_time": "2022-06-03T13:35:37.710Z"
   },
   {
    "duration": 11,
    "start_time": "2022-06-03T13:35:37.734Z"
   },
   {
    "duration": 10,
    "start_time": "2022-06-03T13:35:37.747Z"
   },
   {
    "duration": 69,
    "start_time": "2022-06-03T13:35:37.758Z"
   },
   {
    "duration": 19,
    "start_time": "2022-06-03T13:35:37.829Z"
   },
   {
    "duration": 20,
    "start_time": "2022-06-03T13:36:58.128Z"
   },
   {
    "duration": 1289,
    "start_time": "2022-06-03T13:37:19.733Z"
   },
   {
    "duration": 500,
    "start_time": "2022-06-03T13:37:36.886Z"
   },
   {
    "duration": 640,
    "start_time": "2022-06-03T13:37:51.847Z"
   },
   {
    "duration": 820,
    "start_time": "2022-06-03T13:38:02.720Z"
   },
   {
    "duration": 11,
    "start_time": "2022-06-03T13:43:18.912Z"
   },
   {
    "duration": 10,
    "start_time": "2022-06-03T13:45:11.090Z"
   },
   {
    "duration": 11,
    "start_time": "2022-06-03T13:48:07.408Z"
   },
   {
    "duration": 21,
    "start_time": "2022-06-03T13:52:54.158Z"
   },
   {
    "duration": 21,
    "start_time": "2022-06-03T13:55:10.671Z"
   },
   {
    "duration": 19,
    "start_time": "2022-06-03T13:56:22.838Z"
   },
   {
    "duration": 16,
    "start_time": "2022-06-03T13:56:25.754Z"
   },
   {
    "duration": 17,
    "start_time": "2022-06-03T13:56:52.502Z"
   },
   {
    "duration": 25,
    "start_time": "2022-06-03T13:57:15.825Z"
   },
   {
    "duration": 23,
    "start_time": "2022-06-03T13:57:21.900Z"
   },
   {
    "duration": 30,
    "start_time": "2022-06-03T14:16:34.756Z"
   },
   {
    "duration": 20,
    "start_time": "2022-06-03T14:16:43.694Z"
   },
   {
    "duration": 16,
    "start_time": "2022-06-03T14:19:42.780Z"
   },
   {
    "duration": 25,
    "start_time": "2022-06-03T14:19:44.270Z"
   },
   {
    "duration": 17,
    "start_time": "2022-06-03T14:21:03.399Z"
   },
   {
    "duration": 18,
    "start_time": "2022-06-03T14:28:14.924Z"
   },
   {
    "duration": 44,
    "start_time": "2022-06-03T14:28:19.785Z"
   },
   {
    "duration": 31,
    "start_time": "2022-06-03T14:30:17.868Z"
   },
   {
    "duration": 1172,
    "start_time": "2022-06-03T14:44:05.749Z"
   },
   {
    "duration": 70,
    "start_time": "2022-06-03T14:44:06.923Z"
   },
   {
    "duration": 16,
    "start_time": "2022-06-03T14:44:06.994Z"
   },
   {
    "duration": 15,
    "start_time": "2022-06-03T14:44:07.012Z"
   },
   {
    "duration": 51,
    "start_time": "2022-06-03T14:44:07.029Z"
   },
   {
    "duration": 73,
    "start_time": "2022-06-03T14:44:07.082Z"
   },
   {
    "duration": 5,
    "start_time": "2022-06-03T14:44:07.157Z"
   },
   {
    "duration": 17,
    "start_time": "2022-06-03T14:44:07.163Z"
   },
   {
    "duration": 6,
    "start_time": "2022-06-03T14:44:07.182Z"
   },
   {
    "duration": 39,
    "start_time": "2022-06-03T14:44:07.190Z"
   },
   {
    "duration": 5,
    "start_time": "2022-06-03T14:44:07.231Z"
   },
   {
    "duration": 9,
    "start_time": "2022-06-03T14:44:07.237Z"
   },
   {
    "duration": 8,
    "start_time": "2022-06-03T14:44:07.248Z"
   },
   {
    "duration": 4,
    "start_time": "2022-06-03T14:44:07.260Z"
   },
   {
    "duration": 418,
    "start_time": "2022-06-03T14:44:07.266Z"
   },
   {
    "duration": 419,
    "start_time": "2022-06-03T14:44:07.686Z"
   },
   {
    "duration": 148,
    "start_time": "2022-06-03T14:44:08.107Z"
   },
   {
    "duration": 5,
    "start_time": "2022-06-03T14:44:08.256Z"
   },
   {
    "duration": 16,
    "start_time": "2022-06-03T14:44:08.263Z"
   },
   {
    "duration": 6,
    "start_time": "2022-06-03T14:44:08.280Z"
   },
   {
    "duration": 6,
    "start_time": "2022-06-03T14:44:08.288Z"
   },
   {
    "duration": 34,
    "start_time": "2022-06-03T14:44:08.295Z"
   },
   {
    "duration": 6,
    "start_time": "2022-06-03T14:44:08.331Z"
   },
   {
    "duration": 24,
    "start_time": "2022-06-03T14:44:08.339Z"
   },
   {
    "duration": 18,
    "start_time": "2022-06-03T14:44:08.365Z"
   },
   {
    "duration": 40,
    "start_time": "2022-06-03T14:44:08.385Z"
   },
   {
    "duration": 17,
    "start_time": "2022-06-03T14:44:08.427Z"
   },
   {
    "duration": 14,
    "start_time": "2022-06-03T14:44:08.446Z"
   },
   {
    "duration": 11,
    "start_time": "2022-06-03T14:44:08.461Z"
   },
   {
    "duration": 9,
    "start_time": "2022-06-03T14:44:08.474Z"
   },
   {
    "duration": 42,
    "start_time": "2022-06-03T14:44:08.484Z"
   },
   {
    "duration": 21,
    "start_time": "2022-06-03T14:44:08.528Z"
   },
   {
    "duration": 14,
    "start_time": "2022-06-03T14:44:08.551Z"
   },
   {
    "duration": 16,
    "start_time": "2022-06-03T14:44:08.566Z"
   },
   {
    "duration": 46,
    "start_time": "2022-06-03T14:44:08.584Z"
   },
   {
    "duration": 12,
    "start_time": "2022-06-03T14:44:08.632Z"
   },
   {
    "duration": 13,
    "start_time": "2022-06-03T14:44:08.646Z"
   },
   {
    "duration": 13,
    "start_time": "2022-06-03T14:44:08.661Z"
   },
   {
    "duration": 64,
    "start_time": "2022-06-03T14:44:08.676Z"
   },
   {
    "duration": 21,
    "start_time": "2022-06-03T14:44:08.742Z"
   },
   {
    "duration": 7,
    "start_time": "2022-06-03T14:49:24.238Z"
   },
   {
    "duration": 10,
    "start_time": "2022-06-03T14:49:39.857Z"
   },
   {
    "duration": 20,
    "start_time": "2022-06-03T14:49:52.236Z"
   },
   {
    "duration": 5,
    "start_time": "2022-06-03T14:50:05.118Z"
   },
   {
    "duration": 1193,
    "start_time": "2022-06-03T14:50:46.845Z"
   },
   {
    "duration": 85,
    "start_time": "2022-06-03T14:50:48.040Z"
   },
   {
    "duration": 18,
    "start_time": "2022-06-03T14:50:48.127Z"
   },
   {
    "duration": 17,
    "start_time": "2022-06-03T14:50:48.147Z"
   },
   {
    "duration": 90,
    "start_time": "2022-06-03T14:50:48.167Z"
   },
   {
    "duration": 34,
    "start_time": "2022-06-03T14:50:48.259Z"
   },
   {
    "duration": 30,
    "start_time": "2022-06-03T14:50:48.295Z"
   },
   {
    "duration": 11,
    "start_time": "2022-06-03T14:50:48.327Z"
   },
   {
    "duration": 16,
    "start_time": "2022-06-03T14:50:48.339Z"
   },
   {
    "duration": 6,
    "start_time": "2022-06-03T14:50:48.357Z"
   },
   {
    "duration": 20,
    "start_time": "2022-06-03T14:50:48.364Z"
   },
   {
    "duration": 40,
    "start_time": "2022-06-03T14:50:48.386Z"
   },
   {
    "duration": 7,
    "start_time": "2022-06-03T14:50:48.428Z"
   },
   {
    "duration": 8,
    "start_time": "2022-06-03T14:50:48.439Z"
   },
   {
    "duration": 7,
    "start_time": "2022-06-03T14:50:48.449Z"
   },
   {
    "duration": 436,
    "start_time": "2022-06-03T14:50:48.458Z"
   },
   {
    "duration": 509,
    "start_time": "2022-06-03T14:50:48.896Z"
   },
   {
    "duration": 182,
    "start_time": "2022-06-03T14:50:49.406Z"
   },
   {
    "duration": 6,
    "start_time": "2022-06-03T14:50:49.590Z"
   },
   {
    "duration": 15,
    "start_time": "2022-06-03T14:50:49.597Z"
   },
   {
    "duration": 13,
    "start_time": "2022-06-03T14:50:49.614Z"
   },
   {
    "duration": 5,
    "start_time": "2022-06-03T14:50:49.629Z"
   },
   {
    "duration": 31,
    "start_time": "2022-06-03T14:50:49.637Z"
   },
   {
    "duration": 10,
    "start_time": "2022-06-03T14:50:49.670Z"
   },
   {
    "duration": 22,
    "start_time": "2022-06-03T14:50:49.682Z"
   },
   {
    "duration": 42,
    "start_time": "2022-06-03T14:50:49.706Z"
   },
   {
    "duration": 27,
    "start_time": "2022-06-03T14:50:49.750Z"
   },
   {
    "duration": 19,
    "start_time": "2022-06-03T14:50:49.781Z"
   },
   {
    "duration": 17,
    "start_time": "2022-06-03T14:50:49.826Z"
   },
   {
    "duration": 21,
    "start_time": "2022-06-03T14:50:49.846Z"
   },
   {
    "duration": 7,
    "start_time": "2022-06-03T14:50:49.869Z"
   },
   {
    "duration": 12,
    "start_time": "2022-06-03T14:50:49.878Z"
   },
   {
    "duration": 48,
    "start_time": "2022-06-03T14:50:49.891Z"
   },
   {
    "duration": 15,
    "start_time": "2022-06-03T14:50:49.941Z"
   },
   {
    "duration": 19,
    "start_time": "2022-06-03T14:50:49.959Z"
   },
   {
    "duration": 28,
    "start_time": "2022-06-03T14:50:49.980Z"
   },
   {
    "duration": 15,
    "start_time": "2022-06-03T14:50:50.026Z"
   },
   {
    "duration": 14,
    "start_time": "2022-06-03T14:50:50.043Z"
   },
   {
    "duration": 14,
    "start_time": "2022-06-03T14:50:50.059Z"
   },
   {
    "duration": 70,
    "start_time": "2022-06-03T14:50:50.077Z"
   },
   {
    "duration": 33,
    "start_time": "2022-06-03T14:50:50.153Z"
   },
   {
    "duration": 15,
    "start_time": "2022-06-03T14:51:42.740Z"
   },
   {
    "duration": 17,
    "start_time": "2022-06-03T14:55:15.509Z"
   },
   {
    "duration": 12,
    "start_time": "2022-06-03T14:56:28.710Z"
   },
   {
    "duration": 1224,
    "start_time": "2022-06-03T14:56:51.892Z"
   },
   {
    "duration": 76,
    "start_time": "2022-06-03T14:56:53.119Z"
   },
   {
    "duration": 15,
    "start_time": "2022-06-03T14:56:53.197Z"
   },
   {
    "duration": 16,
    "start_time": "2022-06-03T14:56:53.214Z"
   },
   {
    "duration": 100,
    "start_time": "2022-06-03T14:56:53.233Z"
   },
   {
    "duration": 40,
    "start_time": "2022-06-03T14:56:53.335Z"
   },
   {
    "duration": 2,
    "start_time": "2022-06-03T14:56:53.377Z"
   },
   {
    "duration": 13,
    "start_time": "2022-06-03T14:56:53.381Z"
   },
   {
    "duration": 51,
    "start_time": "2022-06-03T14:56:53.395Z"
   },
   {
    "duration": 8,
    "start_time": "2022-06-03T14:56:53.448Z"
   },
   {
    "duration": 27,
    "start_time": "2022-06-03T14:56:53.458Z"
   },
   {
    "duration": 7,
    "start_time": "2022-06-03T14:56:53.486Z"
   },
   {
    "duration": 13,
    "start_time": "2022-06-03T14:56:53.495Z"
   },
   {
    "duration": 20,
    "start_time": "2022-06-03T14:56:53.511Z"
   },
   {
    "duration": 6,
    "start_time": "2022-06-03T14:56:53.533Z"
   },
   {
    "duration": 460,
    "start_time": "2022-06-03T14:56:53.541Z"
   },
   {
    "duration": 515,
    "start_time": "2022-06-03T14:56:54.002Z"
   },
   {
    "duration": 171,
    "start_time": "2022-06-03T14:56:54.519Z"
   },
   {
    "duration": 7,
    "start_time": "2022-06-03T14:56:54.692Z"
   },
   {
    "duration": 10,
    "start_time": "2022-06-03T14:56:54.701Z"
   },
   {
    "duration": 5,
    "start_time": "2022-06-03T14:56:54.726Z"
   },
   {
    "duration": 25,
    "start_time": "2022-06-03T14:56:54.733Z"
   },
   {
    "duration": 37,
    "start_time": "2022-06-03T14:56:54.763Z"
   },
   {
    "duration": 9,
    "start_time": "2022-06-03T14:56:54.802Z"
   },
   {
    "duration": 33,
    "start_time": "2022-06-03T14:56:54.813Z"
   },
   {
    "duration": 33,
    "start_time": "2022-06-03T14:56:54.849Z"
   },
   {
    "duration": 32,
    "start_time": "2022-06-03T14:56:54.884Z"
   },
   {
    "duration": 24,
    "start_time": "2022-06-03T14:56:54.926Z"
   },
   {
    "duration": 20,
    "start_time": "2022-06-03T14:56:54.956Z"
   },
   {
    "duration": 24,
    "start_time": "2022-06-03T14:56:54.978Z"
   },
   {
    "duration": 24,
    "start_time": "2022-06-03T14:56:55.004Z"
   },
   {
    "duration": 27,
    "start_time": "2022-06-03T14:56:55.030Z"
   },
   {
    "duration": 22,
    "start_time": "2022-06-03T14:56:55.060Z"
   },
   {
    "duration": 16,
    "start_time": "2022-06-03T14:56:55.084Z"
   },
   {
    "duration": 30,
    "start_time": "2022-06-03T14:56:55.102Z"
   },
   {
    "duration": 29,
    "start_time": "2022-06-03T14:56:55.134Z"
   },
   {
    "duration": 11,
    "start_time": "2022-06-03T14:56:55.164Z"
   },
   {
    "duration": 14,
    "start_time": "2022-06-03T14:56:55.177Z"
   },
   {
    "duration": 40,
    "start_time": "2022-06-03T14:56:55.193Z"
   },
   {
    "duration": 23,
    "start_time": "2022-06-03T14:56:55.235Z"
   },
   {
    "duration": 20,
    "start_time": "2022-06-03T14:56:55.262Z"
   },
   {
    "duration": 33,
    "start_time": "2022-06-03T14:57:55.298Z"
   },
   {
    "duration": 15,
    "start_time": "2022-06-03T14:57:58.920Z"
   },
   {
    "duration": 13,
    "start_time": "2022-06-03T14:58:41.761Z"
   },
   {
    "duration": 1355,
    "start_time": "2022-06-03T15:04:14.531Z"
   },
   {
    "duration": 107,
    "start_time": "2022-06-03T15:04:15.888Z"
   },
   {
    "duration": 19,
    "start_time": "2022-06-03T15:04:15.998Z"
   },
   {
    "duration": 27,
    "start_time": "2022-06-03T15:04:16.026Z"
   },
   {
    "duration": 118,
    "start_time": "2022-06-03T15:04:16.055Z"
   },
   {
    "duration": 64,
    "start_time": "2022-06-03T15:04:16.175Z"
   },
   {
    "duration": 2,
    "start_time": "2022-06-03T15:04:16.242Z"
   },
   {
    "duration": 26,
    "start_time": "2022-06-03T15:04:16.247Z"
   },
   {
    "duration": 28,
    "start_time": "2022-06-03T15:04:16.275Z"
   },
   {
    "duration": 7,
    "start_time": "2022-06-03T15:04:16.306Z"
   },
   {
    "duration": 27,
    "start_time": "2022-06-03T15:04:16.325Z"
   },
   {
    "duration": 4,
    "start_time": "2022-06-03T15:04:16.358Z"
   },
   {
    "duration": 24,
    "start_time": "2022-06-03T15:04:16.365Z"
   },
   {
    "duration": 20,
    "start_time": "2022-06-03T15:04:16.391Z"
   },
   {
    "duration": 6,
    "start_time": "2022-06-03T15:04:16.413Z"
   },
   {
    "duration": 459,
    "start_time": "2022-06-03T15:04:16.420Z"
   },
   {
    "duration": 515,
    "start_time": "2022-06-03T15:04:16.880Z"
   },
   {
    "duration": 184,
    "start_time": "2022-06-03T15:04:17.396Z"
   },
   {
    "duration": 8,
    "start_time": "2022-06-03T15:04:17.586Z"
   },
   {
    "duration": 7,
    "start_time": "2022-06-03T15:04:17.596Z"
   },
   {
    "duration": 5,
    "start_time": "2022-06-03T15:04:17.605Z"
   },
   {
    "duration": 5,
    "start_time": "2022-06-03T15:04:17.624Z"
   },
   {
    "duration": 28,
    "start_time": "2022-06-03T15:04:17.631Z"
   },
   {
    "duration": 6,
    "start_time": "2022-06-03T15:04:17.661Z"
   },
   {
    "duration": 18,
    "start_time": "2022-06-03T15:04:17.669Z"
   },
   {
    "duration": 55,
    "start_time": "2022-06-03T15:04:17.689Z"
   },
   {
    "duration": 30,
    "start_time": "2022-06-03T15:04:17.746Z"
   },
   {
    "duration": 17,
    "start_time": "2022-06-03T15:04:17.779Z"
   },
   {
    "duration": 33,
    "start_time": "2022-06-03T15:04:17.798Z"
   },
   {
    "duration": 18,
    "start_time": "2022-06-03T15:04:17.834Z"
   },
   {
    "duration": 17,
    "start_time": "2022-06-03T15:04:17.854Z"
   },
   {
    "duration": 17,
    "start_time": "2022-06-03T15:04:17.872Z"
   },
   {
    "duration": 36,
    "start_time": "2022-06-03T15:04:17.890Z"
   },
   {
    "duration": 27,
    "start_time": "2022-06-03T15:04:17.927Z"
   },
   {
    "duration": 21,
    "start_time": "2022-06-03T15:04:17.956Z"
   },
   {
    "duration": 41,
    "start_time": "2022-06-03T15:04:17.979Z"
   },
   {
    "duration": 18,
    "start_time": "2022-06-03T15:04:18.024Z"
   },
   {
    "duration": 16,
    "start_time": "2022-06-03T15:04:18.044Z"
   },
   {
    "duration": 15,
    "start_time": "2022-06-03T15:04:18.063Z"
   },
   {
    "duration": 58,
    "start_time": "2022-06-03T15:04:18.080Z"
   },
   {
    "duration": 24,
    "start_time": "2022-06-03T15:04:18.140Z"
   },
   {
    "duration": 1220,
    "start_time": "2022-06-03T15:05:47.894Z"
   },
   {
    "duration": 98,
    "start_time": "2022-06-03T15:05:49.116Z"
   },
   {
    "duration": 22,
    "start_time": "2022-06-03T15:05:49.215Z"
   },
   {
    "duration": 21,
    "start_time": "2022-06-03T15:05:49.239Z"
   },
   {
    "duration": 102,
    "start_time": "2022-06-03T15:05:49.264Z"
   },
   {
    "duration": 67,
    "start_time": "2022-06-03T15:05:49.368Z"
   },
   {
    "duration": 5,
    "start_time": "2022-06-03T15:05:49.437Z"
   },
   {
    "duration": 13,
    "start_time": "2022-06-03T15:05:49.443Z"
   },
   {
    "duration": 22,
    "start_time": "2022-06-03T15:05:49.458Z"
   },
   {
    "duration": 5,
    "start_time": "2022-06-03T15:05:49.482Z"
   },
   {
    "duration": 35,
    "start_time": "2022-06-03T15:05:49.489Z"
   },
   {
    "duration": 5,
    "start_time": "2022-06-03T15:05:49.527Z"
   },
   {
    "duration": 19,
    "start_time": "2022-06-03T15:05:49.534Z"
   },
   {
    "duration": 17,
    "start_time": "2022-06-03T15:05:49.557Z"
   },
   {
    "duration": 4,
    "start_time": "2022-06-03T15:05:49.576Z"
   },
   {
    "duration": 431,
    "start_time": "2022-06-03T15:05:49.582Z"
   },
   {
    "duration": 494,
    "start_time": "2022-06-03T15:05:50.014Z"
   },
   {
    "duration": 170,
    "start_time": "2022-06-03T15:05:50.510Z"
   },
   {
    "duration": 6,
    "start_time": "2022-06-03T15:05:50.682Z"
   },
   {
    "duration": 7,
    "start_time": "2022-06-03T15:05:50.690Z"
   },
   {
    "duration": 6,
    "start_time": "2022-06-03T15:05:50.699Z"
   },
   {
    "duration": 7,
    "start_time": "2022-06-03T15:05:50.724Z"
   },
   {
    "duration": 22,
    "start_time": "2022-06-03T15:05:50.733Z"
   },
   {
    "duration": 8,
    "start_time": "2022-06-03T15:05:50.757Z"
   },
   {
    "duration": 21,
    "start_time": "2022-06-03T15:05:50.769Z"
   },
   {
    "duration": 54,
    "start_time": "2022-06-03T15:05:50.791Z"
   },
   {
    "duration": 26,
    "start_time": "2022-06-03T15:05:50.846Z"
   },
   {
    "duration": 16,
    "start_time": "2022-06-03T15:05:50.874Z"
   },
   {
    "duration": 12,
    "start_time": "2022-06-03T15:05:50.892Z"
   },
   {
    "duration": 15,
    "start_time": "2022-06-03T15:05:50.925Z"
   },
   {
    "duration": 7,
    "start_time": "2022-06-03T15:05:50.942Z"
   },
   {
    "duration": 15,
    "start_time": "2022-06-03T15:05:50.951Z"
   },
   {
    "duration": 20,
    "start_time": "2022-06-03T15:05:50.968Z"
   },
   {
    "duration": 41,
    "start_time": "2022-06-03T15:05:50.990Z"
   },
   {
    "duration": 31,
    "start_time": "2022-06-03T15:05:51.033Z"
   },
   {
    "duration": 28,
    "start_time": "2022-06-03T15:05:51.066Z"
   },
   {
    "duration": 11,
    "start_time": "2022-06-03T15:05:51.095Z"
   },
   {
    "duration": 32,
    "start_time": "2022-06-03T15:05:51.108Z"
   },
   {
    "duration": 15,
    "start_time": "2022-06-03T15:05:51.142Z"
   },
   {
    "duration": 30,
    "start_time": "2022-06-03T15:05:51.159Z"
   },
   {
    "duration": 53,
    "start_time": "2022-06-03T15:05:51.192Z"
   },
   {
    "duration": 1315,
    "start_time": "2022-06-03T15:07:16.811Z"
   },
   {
    "duration": 84,
    "start_time": "2022-06-03T15:07:18.129Z"
   },
   {
    "duration": 19,
    "start_time": "2022-06-03T15:07:18.215Z"
   },
   {
    "duration": 48,
    "start_time": "2022-06-03T15:07:18.236Z"
   },
   {
    "duration": 75,
    "start_time": "2022-06-03T15:07:18.287Z"
   },
   {
    "duration": 36,
    "start_time": "2022-06-03T15:07:18.364Z"
   },
   {
    "duration": 2,
    "start_time": "2022-06-03T15:07:18.402Z"
   },
   {
    "duration": 13,
    "start_time": "2022-06-03T15:07:18.426Z"
   },
   {
    "duration": 43,
    "start_time": "2022-06-03T15:07:18.445Z"
   },
   {
    "duration": 7,
    "start_time": "2022-06-03T15:07:18.490Z"
   },
   {
    "duration": 31,
    "start_time": "2022-06-03T15:07:18.499Z"
   },
   {
    "duration": 34,
    "start_time": "2022-06-03T15:07:18.537Z"
   },
   {
    "duration": 20,
    "start_time": "2022-06-03T15:07:18.573Z"
   },
   {
    "duration": 27,
    "start_time": "2022-06-03T15:07:18.596Z"
   },
   {
    "duration": 32,
    "start_time": "2022-06-03T15:07:18.625Z"
   },
   {
    "duration": 393,
    "start_time": "2022-06-03T15:07:18.660Z"
   },
   {
    "duration": 476,
    "start_time": "2022-06-03T15:07:19.056Z"
   },
   {
    "duration": 179,
    "start_time": "2022-06-03T15:07:19.539Z"
   },
   {
    "duration": 6,
    "start_time": "2022-06-03T15:07:19.720Z"
   },
   {
    "duration": 24,
    "start_time": "2022-06-03T15:07:19.728Z"
   },
   {
    "duration": 21,
    "start_time": "2022-06-03T15:07:19.754Z"
   },
   {
    "duration": 14,
    "start_time": "2022-06-03T15:07:19.777Z"
   },
   {
    "duration": 19,
    "start_time": "2022-06-03T15:07:19.793Z"
   },
   {
    "duration": 7,
    "start_time": "2022-06-03T15:07:19.813Z"
   },
   {
    "duration": 41,
    "start_time": "2022-06-03T15:07:19.822Z"
   },
   {
    "duration": 29,
    "start_time": "2022-06-03T15:07:19.865Z"
   },
   {
    "duration": 29,
    "start_time": "2022-06-03T15:07:19.896Z"
   },
   {
    "duration": 28,
    "start_time": "2022-06-03T15:07:19.929Z"
   },
   {
    "duration": 19,
    "start_time": "2022-06-03T15:07:19.960Z"
   },
   {
    "duration": 12,
    "start_time": "2022-06-03T15:07:19.981Z"
   },
   {
    "duration": 34,
    "start_time": "2022-06-03T15:07:19.995Z"
   },
   {
    "duration": 21,
    "start_time": "2022-06-03T15:07:20.032Z"
   },
   {
    "duration": 40,
    "start_time": "2022-06-03T15:07:20.055Z"
   },
   {
    "duration": 15,
    "start_time": "2022-06-03T15:07:20.097Z"
   },
   {
    "duration": 27,
    "start_time": "2022-06-03T15:07:20.114Z"
   },
   {
    "duration": 31,
    "start_time": "2022-06-03T15:07:20.143Z"
   },
   {
    "duration": 12,
    "start_time": "2022-06-03T15:07:20.176Z"
   },
   {
    "duration": 14,
    "start_time": "2022-06-03T15:07:20.189Z"
   },
   {
    "duration": 22,
    "start_time": "2022-06-03T15:07:20.205Z"
   },
   {
    "duration": 36,
    "start_time": "2022-06-03T15:07:20.229Z"
   },
   {
    "duration": 21,
    "start_time": "2022-06-03T15:07:20.269Z"
   },
   {
    "duration": 1064,
    "start_time": "2022-06-03T18:55:02.581Z"
   },
   {
    "duration": 72,
    "start_time": "2022-06-03T18:55:03.647Z"
   },
   {
    "duration": 15,
    "start_time": "2022-06-03T18:55:03.720Z"
   },
   {
    "duration": 18,
    "start_time": "2022-06-03T18:55:03.736Z"
   },
   {
    "duration": 84,
    "start_time": "2022-06-03T18:55:03.756Z"
   },
   {
    "duration": 33,
    "start_time": "2022-06-03T18:55:03.842Z"
   },
   {
    "duration": 3,
    "start_time": "2022-06-03T18:55:03.877Z"
   },
   {
    "duration": 10,
    "start_time": "2022-06-03T18:55:03.882Z"
   },
   {
    "duration": 44,
    "start_time": "2022-06-03T18:55:03.893Z"
   },
   {
    "duration": 6,
    "start_time": "2022-06-03T18:55:03.939Z"
   },
   {
    "duration": 17,
    "start_time": "2022-06-03T18:55:03.946Z"
   },
   {
    "duration": 4,
    "start_time": "2022-06-03T18:55:03.965Z"
   },
   {
    "duration": 14,
    "start_time": "2022-06-03T18:55:03.971Z"
   },
   {
    "duration": 9,
    "start_time": "2022-06-03T18:55:03.988Z"
   },
   {
    "duration": 15,
    "start_time": "2022-06-03T18:55:03.999Z"
   },
   {
    "duration": 346,
    "start_time": "2022-06-03T18:55:04.027Z"
   },
   {
    "duration": 404,
    "start_time": "2022-06-03T18:55:04.375Z"
   },
   {
    "duration": 157,
    "start_time": "2022-06-03T18:55:04.781Z"
   },
   {
    "duration": 6,
    "start_time": "2022-06-03T18:55:04.939Z"
   },
   {
    "duration": 10,
    "start_time": "2022-06-03T18:55:04.948Z"
   },
   {
    "duration": 6,
    "start_time": "2022-06-03T18:55:04.959Z"
   },
   {
    "duration": 9,
    "start_time": "2022-06-03T18:55:04.966Z"
   },
   {
    "duration": 20,
    "start_time": "2022-06-03T18:55:04.976Z"
   },
   {
    "duration": 5,
    "start_time": "2022-06-03T18:55:04.998Z"
   },
   {
    "duration": 37,
    "start_time": "2022-06-03T18:55:05.005Z"
   },
   {
    "duration": 25,
    "start_time": "2022-06-03T18:55:05.043Z"
   },
   {
    "duration": 20,
    "start_time": "2022-06-03T18:55:05.070Z"
   },
   {
    "duration": 37,
    "start_time": "2022-06-03T18:55:05.091Z"
   },
   {
    "duration": 11,
    "start_time": "2022-06-03T18:55:05.130Z"
   },
   {
    "duration": 11,
    "start_time": "2022-06-03T18:55:05.143Z"
   },
   {
    "duration": 6,
    "start_time": "2022-06-03T18:55:05.156Z"
   },
   {
    "duration": 11,
    "start_time": "2022-06-03T18:55:05.163Z"
   },
   {
    "duration": 19,
    "start_time": "2022-06-03T18:55:05.176Z"
   },
   {
    "duration": 41,
    "start_time": "2022-06-03T18:55:05.196Z"
   },
   {
    "duration": 22,
    "start_time": "2022-06-03T18:55:05.239Z"
   },
   {
    "duration": 26,
    "start_time": "2022-06-03T18:55:05.263Z"
   },
   {
    "duration": 9,
    "start_time": "2022-06-03T18:55:05.291Z"
   },
   {
    "duration": 20,
    "start_time": "2022-06-03T18:55:05.302Z"
   },
   {
    "duration": 12,
    "start_time": "2022-06-03T18:55:05.324Z"
   },
   {
    "duration": 23,
    "start_time": "2022-06-03T18:55:05.338Z"
   },
   {
    "duration": 19,
    "start_time": "2022-06-03T18:55:05.364Z"
   }
  ],
  "kernelspec": {
   "display_name": "Python 3 (ipykernel)",
   "language": "python",
   "name": "python3"
  },
  "language_info": {
   "codemirror_mode": {
    "name": "ipython",
    "version": 3
   },
   "file_extension": ".py",
   "mimetype": "text/x-python",
   "name": "python",
   "nbconvert_exporter": "python",
   "pygments_lexer": "ipython3",
   "version": "3.9.7"
  },
  "toc": {
   "base_numbering": 1,
   "nav_menu": {},
   "number_sections": true,
   "sideBar": true,
   "skip_h1_title": true,
   "title_cell": "Table of Contents",
   "title_sidebar": "Contents",
   "toc_cell": false,
   "toc_position": {},
   "toc_section_display": true,
   "toc_window_display": false
  }
 },
 "nbformat": 4,
 "nbformat_minor": 5
}
