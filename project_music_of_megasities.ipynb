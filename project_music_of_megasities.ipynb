{
 "cells": [
  {
   "cell_type": "markdown",
   "metadata": {
    "id": "E0vqbgi9ay0H"
   },
   "source": [
    "# Яндекс.Музыка"
   ]
  },
  {
   "cell_type": "markdown",
   "metadata": {
    "id": "VUC88oWjTJw2"
   },
   "source": [
    "Сравнение Москвы и Петербурга окружено мифами. Например:\n",
    " * Москва — мегаполис, подчинённый жёсткому ритму рабочей недели;\n",
    " * Петербург — культурная столица, со своими вкусами.\n",
    "\n",
    "На данных Яндекс.Музыки вы сравните поведение пользователей двух столиц.\n",
    "\n",
    "**Цель исследования** — проверьте три гипотезы:\n",
    "1. Активность пользователей зависит от дня недели. Причём в Москве и Петербурге это проявляется по-разному.\n",
    "2. В понедельник утром в Москве преобладают одни жанры, а в Петербурге — другие. Так же и вечером пятницы преобладают разные жанры — в зависимости от города. \n",
    "3. Москва и Петербург предпочитают разные жанры музыки. В Москве чаще слушают поп-музыку, в Петербурге — русский рэп.\n",
    "\n",
    "**Ход исследования**\n",
    "\n",
    "Данные о поведении пользователей вы получите из файла `yandex_music_project.csv`. О качестве данных ничего не известно. Поэтому перед проверкой гипотез понадобится обзор данных. \n",
    "\n",
    "Вы проверите данные на ошибки и оцените их влияние на исследование. Затем, на этапе предобработки вы поищете возможность исправить самые критичные ошибки данных.\n",
    " \n",
    "Таким образом, исследование пройдёт в три этапа:\n",
    " 1. Обзор данных.\n",
    " 2. Предобработка данных.\n",
    " 3. Проверка гипотез.\n",
    "\n"
   ]
  },
  {
   "cell_type": "markdown",
   "metadata": {
    "id": "Ml1hmfXC_Zcs"
   },
   "source": [
    "## Обзор данных\n",
    "\n",
    "Составьте первое представление о данных Яндекс.Музыки.\n",
    "\n",
    "\n"
   ]
  },
  {
   "cell_type": "markdown",
   "metadata": {
    "id": "57eAOGIz_Zcs"
   },
   "source": [
    "Основной инструмент аналитика — `pandas`. Импортируйте эту библиотеку."
   ]
  },
  {
   "cell_type": "code",
   "execution_count": 1,
   "metadata": {
    "id": "AXN7PHPN_Zcs"
   },
   "outputs": [],
   "source": [
    "# импорт библиотеки pandas\n",
    "import pandas as pd"
   ]
  },
  {
   "cell_type": "markdown",
   "metadata": {
    "id": "SG23P8tt_Zcs"
   },
   "source": [
    "Прочитайте файл `yandex_music_project.csv` из папки `/datasets` и сохраните его в переменной `df`:"
   ]
  },
  {
   "cell_type": "code",
   "execution_count": 2,
   "metadata": {
    "id": "fFVu7vqh_Zct"
   },
   "outputs": [],
   "source": [
    "# чтение файла с данными и сохранение в df\n",
    "df = pd.read_csv('/datasets/yandex_music_project.csv')"
   ]
  },
  {
   "cell_type": "markdown",
   "metadata": {
    "id": "rDoOMd3uTqnZ"
   },
   "source": [
    "Выведите на экран первые десять строк таблицы:"
   ]
  },
  {
   "cell_type": "code",
   "execution_count": 3,
   "metadata": {
    "id": "oWTVX3gW_Zct",
    "scrolled": true
   },
   "outputs": [
    {
     "data": {
      "text/html": [
       "<div>\n",
       "<style scoped>\n",
       "    .dataframe tbody tr th:only-of-type {\n",
       "        vertical-align: middle;\n",
       "    }\n",
       "\n",
       "    .dataframe tbody tr th {\n",
       "        vertical-align: top;\n",
       "    }\n",
       "\n",
       "    .dataframe thead th {\n",
       "        text-align: right;\n",
       "    }\n",
       "</style>\n",
       "<table border=\"1\" class=\"dataframe\">\n",
       "  <thead>\n",
       "    <tr style=\"text-align: right;\">\n",
       "      <th></th>\n",
       "      <th>userID</th>\n",
       "      <th>Track</th>\n",
       "      <th>artist</th>\n",
       "      <th>genre</th>\n",
       "      <th>City</th>\n",
       "      <th>time</th>\n",
       "      <th>Day</th>\n",
       "    </tr>\n",
       "  </thead>\n",
       "  <tbody>\n",
       "    <tr>\n",
       "      <th>0</th>\n",
       "      <td>FFB692EC</td>\n",
       "      <td>Kamigata To Boots</td>\n",
       "      <td>The Mass Missile</td>\n",
       "      <td>rock</td>\n",
       "      <td>Saint-Petersburg</td>\n",
       "      <td>20:28:33</td>\n",
       "      <td>Wednesday</td>\n",
       "    </tr>\n",
       "    <tr>\n",
       "      <th>1</th>\n",
       "      <td>55204538</td>\n",
       "      <td>Delayed Because of Accident</td>\n",
       "      <td>Andreas Rönnberg</td>\n",
       "      <td>rock</td>\n",
       "      <td>Moscow</td>\n",
       "      <td>14:07:09</td>\n",
       "      <td>Friday</td>\n",
       "    </tr>\n",
       "    <tr>\n",
       "      <th>2</th>\n",
       "      <td>20EC38</td>\n",
       "      <td>Funiculì funiculà</td>\n",
       "      <td>Mario Lanza</td>\n",
       "      <td>pop</td>\n",
       "      <td>Saint-Petersburg</td>\n",
       "      <td>20:58:07</td>\n",
       "      <td>Wednesday</td>\n",
       "    </tr>\n",
       "    <tr>\n",
       "      <th>3</th>\n",
       "      <td>A3DD03C9</td>\n",
       "      <td>Dragons in the Sunset</td>\n",
       "      <td>Fire + Ice</td>\n",
       "      <td>folk</td>\n",
       "      <td>Saint-Petersburg</td>\n",
       "      <td>08:37:09</td>\n",
       "      <td>Monday</td>\n",
       "    </tr>\n",
       "    <tr>\n",
       "      <th>4</th>\n",
       "      <td>E2DC1FAE</td>\n",
       "      <td>Soul People</td>\n",
       "      <td>Space Echo</td>\n",
       "      <td>dance</td>\n",
       "      <td>Moscow</td>\n",
       "      <td>08:34:34</td>\n",
       "      <td>Monday</td>\n",
       "    </tr>\n",
       "    <tr>\n",
       "      <th>5</th>\n",
       "      <td>842029A1</td>\n",
       "      <td>Преданная</td>\n",
       "      <td>IMPERVTOR</td>\n",
       "      <td>rusrap</td>\n",
       "      <td>Saint-Petersburg</td>\n",
       "      <td>13:09:41</td>\n",
       "      <td>Friday</td>\n",
       "    </tr>\n",
       "    <tr>\n",
       "      <th>6</th>\n",
       "      <td>4CB90AA5</td>\n",
       "      <td>True</td>\n",
       "      <td>Roman Messer</td>\n",
       "      <td>dance</td>\n",
       "      <td>Moscow</td>\n",
       "      <td>13:00:07</td>\n",
       "      <td>Wednesday</td>\n",
       "    </tr>\n",
       "    <tr>\n",
       "      <th>7</th>\n",
       "      <td>F03E1C1F</td>\n",
       "      <td>Feeling This Way</td>\n",
       "      <td>Polina Griffith</td>\n",
       "      <td>dance</td>\n",
       "      <td>Moscow</td>\n",
       "      <td>20:47:49</td>\n",
       "      <td>Wednesday</td>\n",
       "    </tr>\n",
       "    <tr>\n",
       "      <th>8</th>\n",
       "      <td>8FA1D3BE</td>\n",
       "      <td>И вновь продолжается бой</td>\n",
       "      <td>NaN</td>\n",
       "      <td>ruspop</td>\n",
       "      <td>Moscow</td>\n",
       "      <td>09:17:40</td>\n",
       "      <td>Friday</td>\n",
       "    </tr>\n",
       "    <tr>\n",
       "      <th>9</th>\n",
       "      <td>E772D5C0</td>\n",
       "      <td>Pessimist</td>\n",
       "      <td>NaN</td>\n",
       "      <td>dance</td>\n",
       "      <td>Saint-Petersburg</td>\n",
       "      <td>21:20:49</td>\n",
       "      <td>Wednesday</td>\n",
       "    </tr>\n",
       "  </tbody>\n",
       "</table>\n",
       "</div>"
      ],
      "text/plain": [
       "     userID                        Track            artist   genre  \\\n",
       "0  FFB692EC            Kamigata To Boots  The Mass Missile    rock   \n",
       "1  55204538  Delayed Because of Accident  Andreas Rönnberg    rock   \n",
       "2    20EC38            Funiculì funiculà       Mario Lanza     pop   \n",
       "3  A3DD03C9        Dragons in the Sunset        Fire + Ice    folk   \n",
       "4  E2DC1FAE                  Soul People        Space Echo   dance   \n",
       "5  842029A1                    Преданная         IMPERVTOR  rusrap   \n",
       "6  4CB90AA5                         True      Roman Messer   dance   \n",
       "7  F03E1C1F             Feeling This Way   Polina Griffith   dance   \n",
       "8  8FA1D3BE     И вновь продолжается бой               NaN  ruspop   \n",
       "9  E772D5C0                    Pessimist               NaN   dance   \n",
       "\n",
       "             City        time        Day  \n",
       "0  Saint-Petersburg  20:28:33  Wednesday  \n",
       "1            Moscow  14:07:09     Friday  \n",
       "2  Saint-Petersburg  20:58:07  Wednesday  \n",
       "3  Saint-Petersburg  08:37:09     Monday  \n",
       "4            Moscow  08:34:34     Monday  \n",
       "5  Saint-Petersburg  13:09:41     Friday  \n",
       "6            Moscow  13:00:07  Wednesday  \n",
       "7            Moscow  20:47:49  Wednesday  \n",
       "8            Moscow  09:17:40     Friday  \n",
       "9  Saint-Petersburg  21:20:49  Wednesday  "
      ]
     },
     "execution_count": 3,
     "metadata": {},
     "output_type": "execute_result"
    }
   ],
   "source": [
    "# получение первых 10 строк таблицы df\n",
    "df.head(10)"
   ]
  },
  {
   "cell_type": "code",
   "execution_count": 4,
   "metadata": {},
   "outputs": [
    {
     "data": {
      "text/html": [
       "<div>\n",
       "<style scoped>\n",
       "    .dataframe tbody tr th:only-of-type {\n",
       "        vertical-align: middle;\n",
       "    }\n",
       "\n",
       "    .dataframe tbody tr th {\n",
       "        vertical-align: top;\n",
       "    }\n",
       "\n",
       "    .dataframe thead th {\n",
       "        text-align: right;\n",
       "    }\n",
       "</style>\n",
       "<table border=\"1\" class=\"dataframe\">\n",
       "  <thead>\n",
       "    <tr style=\"text-align: right;\">\n",
       "      <th></th>\n",
       "      <th>userID</th>\n",
       "      <th>Track</th>\n",
       "      <th>artist</th>\n",
       "      <th>genre</th>\n",
       "      <th>City</th>\n",
       "      <th>time</th>\n",
       "      <th>Day</th>\n",
       "    </tr>\n",
       "  </thead>\n",
       "  <tbody>\n",
       "    <tr>\n",
       "      <th>65074</th>\n",
       "      <td>729CBB09</td>\n",
       "      <td>My Name</td>\n",
       "      <td>McLean</td>\n",
       "      <td>rnb</td>\n",
       "      <td>Moscow</td>\n",
       "      <td>13:32:28</td>\n",
       "      <td>Wednesday</td>\n",
       "    </tr>\n",
       "    <tr>\n",
       "      <th>65075</th>\n",
       "      <td>D08D4A55</td>\n",
       "      <td>Maybe One Day (feat. Black Spade)</td>\n",
       "      <td>Blu &amp; Exile</td>\n",
       "      <td>hip</td>\n",
       "      <td>Saint-Petersburg</td>\n",
       "      <td>10:00:00</td>\n",
       "      <td>Monday</td>\n",
       "    </tr>\n",
       "    <tr>\n",
       "      <th>65076</th>\n",
       "      <td>C5E3A0D5</td>\n",
       "      <td>Jalopiina</td>\n",
       "      <td>NaN</td>\n",
       "      <td>industrial</td>\n",
       "      <td>Moscow</td>\n",
       "      <td>20:09:26</td>\n",
       "      <td>Friday</td>\n",
       "    </tr>\n",
       "    <tr>\n",
       "      <th>65077</th>\n",
       "      <td>321D0506</td>\n",
       "      <td>Freight Train</td>\n",
       "      <td>Chas McDevitt</td>\n",
       "      <td>rock</td>\n",
       "      <td>Moscow</td>\n",
       "      <td>21:43:59</td>\n",
       "      <td>Friday</td>\n",
       "    </tr>\n",
       "    <tr>\n",
       "      <th>65078</th>\n",
       "      <td>3A64EF84</td>\n",
       "      <td>Tell Me Sweet Little Lies</td>\n",
       "      <td>Monica Lopez</td>\n",
       "      <td>country</td>\n",
       "      <td>Moscow</td>\n",
       "      <td>21:59:46</td>\n",
       "      <td>Friday</td>\n",
       "    </tr>\n",
       "  </tbody>\n",
       "</table>\n",
       "</div>"
      ],
      "text/plain": [
       "         userID                              Track         artist       genre  \\\n",
       "65074  729CBB09                            My Name         McLean         rnb   \n",
       "65075  D08D4A55  Maybe One Day (feat. Black Spade)    Blu & Exile         hip   \n",
       "65076  C5E3A0D5                          Jalopiina            NaN  industrial   \n",
       "65077  321D0506                      Freight Train  Chas McDevitt        rock   \n",
       "65078  3A64EF84          Tell Me Sweet Little Lies   Monica Lopez     country   \n",
       "\n",
       "                 City        time        Day  \n",
       "65074            Moscow  13:32:28  Wednesday  \n",
       "65075  Saint-Petersburg  10:00:00     Monday  \n",
       "65076            Moscow  20:09:26     Friday  \n",
       "65077            Moscow  21:43:59     Friday  \n",
       "65078            Moscow  21:59:46     Friday  "
      ]
     },
     "execution_count": 4,
     "metadata": {},
     "output_type": "execute_result"
    }
   ],
   "source": [
    "# Комментарий ревьюера\n",
    "df.tail(5) "
   ]
  },
  {
   "cell_type": "markdown",
   "metadata": {
    "id": "EO73Kwic_Zct"
   },
   "source": [
    "Одной командой получить общую информацию о таблице:"
   ]
  },
  {
   "cell_type": "code",
   "execution_count": 5,
   "metadata": {
    "id": "DSf2kIb-_Zct"
   },
   "outputs": [
    {
     "name": "stdout",
     "output_type": "stream",
     "text": [
      "<class 'pandas.core.frame.DataFrame'>\n",
      "RangeIndex: 65079 entries, 0 to 65078\n",
      "Data columns (total 7 columns):\n",
      " #   Column    Non-Null Count  Dtype \n",
      "---  ------    --------------  ----- \n",
      " 0     userID  65079 non-null  object\n",
      " 1   Track     63848 non-null  object\n",
      " 2   artist    57876 non-null  object\n",
      " 3   genre     63881 non-null  object\n",
      " 4     City    65079 non-null  object\n",
      " 5   time      65079 non-null  object\n",
      " 6   Day       65079 non-null  object\n",
      "dtypes: object(7)\n",
      "memory usage: 3.5+ MB\n"
     ]
    }
   ],
   "source": [
    "# получение общей информации о данных в таблице df\n",
    "df.info()"
   ]
  },
  {
   "cell_type": "markdown",
   "metadata": {
    "id": "TaQ2Iwbr_Zct"
   },
   "source": [
    "Итак, в таблице семь столбцов. Тип данных во всех столбцах — `object`.\n",
    "\n",
    "Согласно документации к данным:\n",
    "* `userID` — идентификатор пользователя;\n",
    "* `Track` — название трека;  \n",
    "* `artist` — имя исполнителя;\n",
    "* `genre` — название жанра;\n",
    "* `City` — город пользователя;\n",
    "* `time` — время начала прослушивания;\n",
    "* `Day` — день недели.\n",
    "\n",
    "В названиях колонок видны три нарушения стиля:\n",
    "1. Строчные буквы сочетаются с прописными.\n",
    "2. Встречаются пробелы.\n",
    "3. Используется \"ВерблюжийРегистр\", вмето \"змеиного_регистра\"\n",
    "\n",
    "\n",
    "\n",
    "Количество значений в столбцах различается. Значит, в данных есть пропущенные значения.\n"
   ]
  },
  {
   "cell_type": "markdown",
   "metadata": {
    "id": "MCB6-dXG_Zct"
   },
   "source": [
    "**Выводы**\n",
    "\n",
    "В каждой строке таблицы — данные о прослушанном треке. Часть колонок описывает саму композицию: название, исполнителя и жанр. Остальные данные рассказывают о пользователе: из какого он города, когда он слушал музыку. \n",
    "\n",
    "Предварительно можно утверждать, что, данных достаточно для проверки гипотез. Но встречаются пропуски в данных, а в названиях колонок — расхождения с хорошим стилем.\n",
    "\n",
    "Чтобы двигаться дальше, нужно устранить проблемы в данных."
   ]
  },
  {
   "cell_type": "markdown",
   "metadata": {
    "id": "SjYF6Ub9_Zct"
   },
   "source": [
    "## Предобработка данных\n",
    "Исправьте стиль в заголовках столбцов, исключите пропуски. Затем проверьте данные на дубликаты."
   ]
  },
  {
   "cell_type": "markdown",
   "metadata": {
    "id": "dIaKXr29_Zct"
   },
   "source": [
    "### Стиль заголовков\n",
    "Выведите на экран названия столбцов:"
   ]
  },
  {
   "cell_type": "code",
   "execution_count": 6,
   "metadata": {
    "id": "oKOTdF_Q_Zct"
   },
   "outputs": [
    {
     "data": {
      "text/plain": [
       "Index(['  userID', 'Track', 'artist', 'genre', '  City  ', 'time', 'Day'], dtype='object')"
      ]
     },
     "execution_count": 6,
     "metadata": {},
     "output_type": "execute_result"
    }
   ],
   "source": [
    "# перечень названий столбцов таблицы df\n",
    "df.columns"
   ]
  },
  {
   "cell_type": "markdown",
   "metadata": {
    "id": "FPZA3ki8xe7T"
   },
   "source": []
  },
  {
   "cell_type": "markdown",
   "metadata": {
    "id": "zj5534cv_Zct"
   },
   "source": [
    "Приведите названия в соответствие с хорошим стилем:\n",
    "* несколько слов в названии запишите в «змеином_регистре»,\n",
    "* все символы сделайте строчными,\n",
    "* устраните пробелы.\n",
    "\n",
    "Для этого переименуйте колонки так:\n",
    "* `'  userID'` → `'user_id'`;\n",
    "* `'Track'` → `'track'`;\n",
    "* `'  City  '` → `'city'`;\n",
    "* `'Day'` → `'day'`."
   ]
  },
  {
   "cell_type": "code",
   "execution_count": 7,
   "metadata": {
    "id": "ISlFqs5y_Zct"
   },
   "outputs": [],
   "source": [
    "# переименование столбцов\n",
    "df = df.rename(columns={'  userID': 'user_id', 'Track' : 'track', '  City  ' : 'city', 'Day' : 'day'})"
   ]
  },
  {
   "cell_type": "markdown",
   "metadata": {
    "id": "1dqbh00J_Zct"
   },
   "source": [
    "Проверьте результат. Для этого ещё раз выведите на экран названия столбцов:"
   ]
  },
  {
   "cell_type": "code",
   "execution_count": 8,
   "metadata": {
    "id": "d4NOAmTW_Zct"
   },
   "outputs": [
    {
     "data": {
      "text/plain": [
       "Index(['user_id', 'track', 'artist', 'genre', 'city', 'time', 'day'], dtype='object')"
      ]
     },
     "execution_count": 8,
     "metadata": {},
     "output_type": "execute_result"
    }
   ],
   "source": [
    "# проверка результатов - перечень названий столбцов\n",
    "df.columns"
   ]
  },
  {
   "cell_type": "markdown",
   "metadata": {
    "id": "5ISfbcfY_Zct"
   },
   "source": [
    "### Пропуски значений\n",
    "Сначала посчитайте, сколько в таблице пропущенных значений. Для этого достаточно двух методов `pandas`:"
   ]
  },
  {
   "cell_type": "code",
   "execution_count": 9,
   "metadata": {
    "id": "RskX29qr_Zct"
   },
   "outputs": [
    {
     "data": {
      "text/plain": [
       "user_id       0\n",
       "track      1231\n",
       "artist     7203\n",
       "genre      1198\n",
       "city          0\n",
       "time          0\n",
       "day           0\n",
       "dtype: int64"
      ]
     },
     "execution_count": 9,
     "metadata": {},
     "output_type": "execute_result"
    }
   ],
   "source": [
    "# подсчёт пропусков\n",
    "df.isna().sum()"
   ]
  },
  {
   "cell_type": "markdown",
   "metadata": {
    "id": "qubhgnlO_Zct"
   },
   "source": [
    "Не все пропущенные значения влияют на исследование. Так в `track` и `artist` пропуски не важны для вашей работы. Достаточно заменить их явными обозначениями.\n",
    "\n",
    "Но пропуски в `genre` могут помешать сравнению музыкальных вкусов в Москве и Санкт-Петербурге. На практике было бы правильно установить причину пропусков и восстановить данные. Такой возможности нет в учебном проекте. Придётся:\n",
    "* заполнить и эти пропуски явными обозначениями,\n",
    "* оценить, насколько они повредят расчётам. "
   ]
  },
  {
   "cell_type": "markdown",
   "metadata": {
    "id": "fSv2laPA_Zct"
   },
   "source": [
    "Замените пропущенные значения в столбцах `track`, `artist` и `genre` на строку `'unknown'`. Для этого создайте список `columns_to_replace`, переберите его элементы циклом `for` и для каждого столбца выполните замену пропущенных значений:"
   ]
  },
  {
   "cell_type": "code",
   "execution_count": 10,
   "metadata": {
    "id": "KplB5qWs_Zct"
   },
   "outputs": [],
   "source": [
    "# перебор названий столбцов в цикле и замена пропущенных значений на 'unknown'\n",
    "columns_to_replace = ['track', 'artist', 'genre']\n",
    "for column in columns_to_replace:\n",
    "    df[column] = df[column].fillna('unknown')"
   ]
  },
  {
   "cell_type": "markdown",
   "metadata": {
    "id": "Ilsm-MZo_Zct"
   },
   "source": [
    "Убедитесь, что в таблице не осталось пропусков. Для этого ещё раз посчитайте пропущенные значения."
   ]
  },
  {
   "cell_type": "code",
   "execution_count": 11,
   "metadata": {
    "id": "Tq4nYRX4_Zct"
   },
   "outputs": [
    {
     "data": {
      "text/plain": [
       "user_id    0\n",
       "track      0\n",
       "artist     0\n",
       "genre      0\n",
       "city       0\n",
       "time       0\n",
       "day        0\n",
       "dtype: int64"
      ]
     },
     "execution_count": 11,
     "metadata": {},
     "output_type": "execute_result"
    }
   ],
   "source": [
    "# подсчёт пропусков\n",
    "df.isna().sum()"
   ]
  },
  {
   "cell_type": "markdown",
   "metadata": {
    "id": "BWKRtBJ3_Zct"
   },
   "source": [
    "### Дубликаты\n",
    "Посчитайте явные дубликаты в таблице одной командой:"
   ]
  },
  {
   "cell_type": "code",
   "execution_count": 12,
   "metadata": {
    "id": "36eES_S0_Zct"
   },
   "outputs": [
    {
     "data": {
      "text/plain": [
       "3826"
      ]
     },
     "execution_count": 12,
     "metadata": {},
     "output_type": "execute_result"
    }
   ],
   "source": [
    "# подсчёт явных дубликатов\n",
    "df.duplicated().sum()"
   ]
  },
  {
   "cell_type": "markdown",
   "metadata": {
    "id": "Ot25h6XR_Zct"
   },
   "source": [
    "Вызовите специальный метод `pandas`, чтобы удалить явные дубликаты:"
   ]
  },
  {
   "cell_type": "code",
   "execution_count": 13,
   "metadata": {
    "id": "exFHq6tt_Zct"
   },
   "outputs": [],
   "source": [
    "# удаление явных дубликатов (с удалением старых индексов и формированием новых)\n",
    "df = df.drop_duplicates().reset_index(drop=True)"
   ]
  },
  {
   "cell_type": "markdown",
   "metadata": {
    "id": "Im2YwBEG_Zct"
   },
   "source": [
    "Ещё раз посчитайте явные дубликаты в таблице — убедитесь, что полностью от них избавились:"
   ]
  },
  {
   "cell_type": "code",
   "execution_count": 14,
   "metadata": {
    "id": "-8PuNWQ0_Zct"
   },
   "outputs": [
    {
     "data": {
      "text/plain": [
       "0"
      ]
     },
     "execution_count": 14,
     "metadata": {},
     "output_type": "execute_result"
    }
   ],
   "source": [
    "# проверка на отсутствие дубликатов\n",
    "df.duplicated().sum()"
   ]
  },
  {
   "cell_type": "markdown",
   "metadata": {
    "id": "QlFBsxAr_Zct"
   },
   "source": [
    "Теперь избавьтесь от неявных дубликатов в колонке `genre`. Например, название одного и того же жанра может быть записано немного по-разному. Такие ошибки тоже повлияют на результат исследования."
   ]
  },
  {
   "cell_type": "markdown",
   "metadata": {
    "id": "eSjWwsOh_Zct"
   },
   "source": [
    "Выведите на экран список уникальных названий жанров, отсортированный в алфавитном порядке. Для этого:\n",
    "* извлеките нужный столбец датафрейма, \n",
    "* примените к нему метод сортировки,\n",
    "* для отсортированного столбца вызовите метод, который вернёт уникальные значения из столбца."
   ]
  },
  {
   "cell_type": "code",
   "execution_count": 15,
   "metadata": {
    "id": "JIUcqzZN_Zct"
   },
   "outputs": [
    {
     "data": {
      "text/plain": [
       "array(['acid', 'acoustic', 'action', 'adult', 'africa', 'afrikaans',\n",
       "       'alternative', 'alternativepunk', 'ambient', 'americana',\n",
       "       'animated', 'anime', 'arabesk', 'arabic', 'arena',\n",
       "       'argentinetango', 'art', 'audiobook', 'author', 'avantgarde',\n",
       "       'axé', 'baile', 'balkan', 'beats', 'bigroom', 'black', 'bluegrass',\n",
       "       'blues', 'bollywood', 'bossa', 'brazilian', 'breakbeat', 'breaks',\n",
       "       'broadway', 'cantautori', 'cantopop', 'canzone', 'caribbean',\n",
       "       'caucasian', 'celtic', 'chamber', 'chanson', 'children', 'chill',\n",
       "       'chinese', 'choral', 'christian', 'christmas', 'classical',\n",
       "       'classicmetal', 'club', 'colombian', 'comedy', 'conjazz',\n",
       "       'contemporary', 'country', 'cuban', 'dance', 'dancehall',\n",
       "       'dancepop', 'dark', 'death', 'deep', 'deutschrock', 'deutschspr',\n",
       "       'dirty', 'disco', 'dnb', 'documentary', 'downbeat', 'downtempo',\n",
       "       'drum', 'dub', 'dubstep', 'eastern', 'easy', 'electronic',\n",
       "       'electropop', 'emo', 'entehno', 'epicmetal', 'estrada', 'ethnic',\n",
       "       'eurofolk', 'european', 'experimental', 'extrememetal', 'fado',\n",
       "       'fairytail', 'film', 'fitness', 'flamenco', 'folk', 'folklore',\n",
       "       'folkmetal', 'folkrock', 'folktronica', 'forró', 'frankreich',\n",
       "       'französisch', 'french', 'funk', 'future', 'gangsta', 'garage',\n",
       "       'german', 'ghazal', 'gitarre', 'glitch', 'gospel', 'gothic',\n",
       "       'grime', 'grunge', 'gypsy', 'handsup', \"hard'n'heavy\", 'hardcore',\n",
       "       'hardstyle', 'hardtechno', 'hip', 'hip-hop', 'hiphop',\n",
       "       'historisch', 'holiday', 'hop', 'horror', 'house', 'hymn', 'idm',\n",
       "       'independent', 'indian', 'indie', 'indipop', 'industrial',\n",
       "       'inspirational', 'instrumental', 'international', 'irish', 'jam',\n",
       "       'japanese', 'jazz', 'jewish', 'jpop', 'jungle', 'k-pop',\n",
       "       'karadeniz', 'karaoke', 'kayokyoku', 'korean', 'laiko', 'latin',\n",
       "       'latino', 'leftfield', 'local', 'lounge', 'loungeelectronic',\n",
       "       'lovers', 'malaysian', 'mandopop', 'marschmusik', 'meditative',\n",
       "       'mediterranean', 'melodic', 'metal', 'metalcore', 'mexican',\n",
       "       'middle', 'minimal', 'miscellaneous', 'modern', 'mood', 'mpb',\n",
       "       'muslim', 'native', 'neoklassik', 'neue', 'new', 'newage',\n",
       "       'newwave', 'nu', 'nujazz', 'numetal', 'oceania', 'old', 'opera',\n",
       "       'orchestral', 'other', 'piano', 'podcasts', 'pop', 'popdance',\n",
       "       'popelectronic', 'popeurodance', 'poprussian', 'post',\n",
       "       'posthardcore', 'postrock', 'power', 'progmetal', 'progressive',\n",
       "       'psychedelic', 'punjabi', 'punk', 'quebecois', 'ragga', 'ram',\n",
       "       'rancheras', 'rap', 'rave', 'reggae', 'reggaeton', 'regional',\n",
       "       'relax', 'religious', 'retro', 'rhythm', 'rnb', 'rnr', 'rock',\n",
       "       'rockabilly', 'rockalternative', 'rockindie', 'rockother',\n",
       "       'romance', 'roots', 'ruspop', 'rusrap', 'rusrock', 'russian',\n",
       "       'salsa', 'samba', 'scenic', 'schlager', 'self', 'sertanejo',\n",
       "       'shanson', 'shoegazing', 'showtunes', 'singer', 'ska', 'skarock',\n",
       "       'slow', 'smooth', 'soft', 'soul', 'soulful', 'sound', 'soundtrack',\n",
       "       'southern', 'specialty', 'speech', 'spiritual', 'sport',\n",
       "       'stonerrock', 'surf', 'swing', 'synthpop', 'synthrock',\n",
       "       'sängerportrait', 'tango', 'tanzorchester', 'taraftar', 'tatar',\n",
       "       'tech', 'techno', 'teen', 'thrash', 'top', 'traditional',\n",
       "       'tradjazz', 'trance', 'tribal', 'trip', 'triphop', 'tropical',\n",
       "       'türk', 'türkçe', 'ukrrock', 'unknown', 'urban', 'uzbek',\n",
       "       'variété', 'vi', 'videogame', 'vocal', 'western', 'world',\n",
       "       'worldbeat', 'ïîï', 'электроника'], dtype=object)"
      ]
     },
     "execution_count": 15,
     "metadata": {},
     "output_type": "execute_result"
    }
   ],
   "source": [
    "# Просмотр уникальных названий жанров\n",
    "df['genre'].sort_values().unique()"
   ]
  },
  {
   "cell_type": "markdown",
   "metadata": {
    "id": "qej-Qmuo_Zct"
   },
   "source": [
    "Просмотрите список и найдите неявные дубликаты названия `hiphop`. Это могут быть названия с ошибками или альтернативные названия того же жанра.\n",
    "\n",
    "Вы увидите следующие неявные дубликаты:\n",
    "* *hip*,\n",
    "* *hop*,\n",
    "* *hip-hop*.\n",
    "\n",
    "Чтобы очистить от них таблицу, напишите функцию `replace_wrong_genres()` с двумя параметрами: \n",
    "* `wrong_genres` — список дубликатов,\n",
    "* `correct_genre` — строка с правильным значением.\n",
    "\n",
    "Функция должна исправить колонку `genre` в таблице `df`: заменить каждое значение из списка `wrong_genres` на значение из `correct_genre`."
   ]
  },
  {
   "cell_type": "code",
   "execution_count": 16,
   "metadata": {
    "id": "ErNDkmns_Zct"
   },
   "outputs": [],
   "source": [
    "# Функция для замены неявных дубликатов\n",
    "def replase_wrong_genres(wrong_genres, correct_genre):\n",
    "    for wrong in wrong_genres:\n",
    "        df['genre'] = df['genre'].replace(wrong, correct_genre)"
   ]
  },
  {
   "cell_type": "markdown",
   "metadata": {
    "id": "aDoBJxbA_Zct"
   },
   "source": [
    "Вызовите `replace_wrong_genres()` и передайте ей такие аргументы, чтобы она устранила неявные дубликаты: вместо `hip`, `hop` и `hip-hop` в таблице должно быть значение `hiphop`:"
   ]
  },
  {
   "cell_type": "code",
   "execution_count": 17,
   "metadata": {
    "id": "YN5i2hpmSo09"
   },
   "outputs": [],
   "source": [
    "# Устранение неявных дубликатов\n",
    "replase_wrong_genres(['hip','hop','hip-hop'], 'hiphop')"
   ]
  },
  {
   "cell_type": "markdown",
   "metadata": {
    "id": "zQKF16_RG15m"
   },
   "source": [
    "Проверьте, что заменили неправильные названия:\n",
    "\n",
    "*   hip\n",
    "*   hop\n",
    "*   hip-hop\n",
    "\n",
    "Выведите отсортированный список уникальных значений столбца `genre`:"
   ]
  },
  {
   "cell_type": "code",
   "execution_count": 18,
   "metadata": {
    "id": "wvixALnFG15m"
   },
   "outputs": [
    {
     "data": {
      "text/plain": [
       "array(['acid', 'acoustic', 'action', 'adult', 'africa', 'afrikaans',\n",
       "       'alternative', 'alternativepunk', 'ambient', 'americana',\n",
       "       'animated', 'anime', 'arabesk', 'arabic', 'arena',\n",
       "       'argentinetango', 'art', 'audiobook', 'author', 'avantgarde',\n",
       "       'axé', 'baile', 'balkan', 'beats', 'bigroom', 'black', 'bluegrass',\n",
       "       'blues', 'bollywood', 'bossa', 'brazilian', 'breakbeat', 'breaks',\n",
       "       'broadway', 'cantautori', 'cantopop', 'canzone', 'caribbean',\n",
       "       'caucasian', 'celtic', 'chamber', 'chanson', 'children', 'chill',\n",
       "       'chinese', 'choral', 'christian', 'christmas', 'classical',\n",
       "       'classicmetal', 'club', 'colombian', 'comedy', 'conjazz',\n",
       "       'contemporary', 'country', 'cuban', 'dance', 'dancehall',\n",
       "       'dancepop', 'dark', 'death', 'deep', 'deutschrock', 'deutschspr',\n",
       "       'dirty', 'disco', 'dnb', 'documentary', 'downbeat', 'downtempo',\n",
       "       'drum', 'dub', 'dubstep', 'eastern', 'easy', 'electronic',\n",
       "       'electropop', 'emo', 'entehno', 'epicmetal', 'estrada', 'ethnic',\n",
       "       'eurofolk', 'european', 'experimental', 'extrememetal', 'fado',\n",
       "       'fairytail', 'film', 'fitness', 'flamenco', 'folk', 'folklore',\n",
       "       'folkmetal', 'folkrock', 'folktronica', 'forró', 'frankreich',\n",
       "       'französisch', 'french', 'funk', 'future', 'gangsta', 'garage',\n",
       "       'german', 'ghazal', 'gitarre', 'glitch', 'gospel', 'gothic',\n",
       "       'grime', 'grunge', 'gypsy', 'handsup', \"hard'n'heavy\", 'hardcore',\n",
       "       'hardstyle', 'hardtechno', 'hiphop', 'historisch', 'holiday',\n",
       "       'horror', 'house', 'hymn', 'idm', 'independent', 'indian', 'indie',\n",
       "       'indipop', 'industrial', 'inspirational', 'instrumental',\n",
       "       'international', 'irish', 'jam', 'japanese', 'jazz', 'jewish',\n",
       "       'jpop', 'jungle', 'k-pop', 'karadeniz', 'karaoke', 'kayokyoku',\n",
       "       'korean', 'laiko', 'latin', 'latino', 'leftfield', 'local',\n",
       "       'lounge', 'loungeelectronic', 'lovers', 'malaysian', 'mandopop',\n",
       "       'marschmusik', 'meditative', 'mediterranean', 'melodic', 'metal',\n",
       "       'metalcore', 'mexican', 'middle', 'minimal', 'miscellaneous',\n",
       "       'modern', 'mood', 'mpb', 'muslim', 'native', 'neoklassik', 'neue',\n",
       "       'new', 'newage', 'newwave', 'nu', 'nujazz', 'numetal', 'oceania',\n",
       "       'old', 'opera', 'orchestral', 'other', 'piano', 'podcasts', 'pop',\n",
       "       'popdance', 'popelectronic', 'popeurodance', 'poprussian', 'post',\n",
       "       'posthardcore', 'postrock', 'power', 'progmetal', 'progressive',\n",
       "       'psychedelic', 'punjabi', 'punk', 'quebecois', 'ragga', 'ram',\n",
       "       'rancheras', 'rap', 'rave', 'reggae', 'reggaeton', 'regional',\n",
       "       'relax', 'religious', 'retro', 'rhythm', 'rnb', 'rnr', 'rock',\n",
       "       'rockabilly', 'rockalternative', 'rockindie', 'rockother',\n",
       "       'romance', 'roots', 'ruspop', 'rusrap', 'rusrock', 'russian',\n",
       "       'salsa', 'samba', 'scenic', 'schlager', 'self', 'sertanejo',\n",
       "       'shanson', 'shoegazing', 'showtunes', 'singer', 'ska', 'skarock',\n",
       "       'slow', 'smooth', 'soft', 'soul', 'soulful', 'sound', 'soundtrack',\n",
       "       'southern', 'specialty', 'speech', 'spiritual', 'sport',\n",
       "       'stonerrock', 'surf', 'swing', 'synthpop', 'synthrock',\n",
       "       'sängerportrait', 'tango', 'tanzorchester', 'taraftar', 'tatar',\n",
       "       'tech', 'techno', 'teen', 'thrash', 'top', 'traditional',\n",
       "       'tradjazz', 'trance', 'tribal', 'trip', 'triphop', 'tropical',\n",
       "       'türk', 'türkçe', 'ukrrock', 'unknown', 'urban', 'uzbek',\n",
       "       'variété', 'vi', 'videogame', 'vocal', 'western', 'world',\n",
       "       'worldbeat', 'ïîï', 'электроника'], dtype=object)"
      ]
     },
     "execution_count": 18,
     "metadata": {},
     "output_type": "execute_result"
    }
   ],
   "source": [
    "# Проверка на неявные дубликаты\n",
    "df['genre'].sort_values().unique()"
   ]
  },
  {
   "cell_type": "markdown",
   "metadata": {
    "id": "jz6a9-7HQUDd"
   },
   "source": [
    "**Выводы**\n",
    "\n",
    "Предобработка обнаружила три проблемы в данных:\n",
    "\n",
    "- нарушения в стиле заголовков,\n",
    "- пропущенные значения,\n",
    "- дубликаты — явные и неявные.\n",
    "\n",
    "Вы исправили заголовки, чтобы упростить работу с таблицей. Без дубликатов исследование станет более точным.\n",
    "\n",
    "Пропущенные значения вы заменили на `'unknown'`. Ещё предстоит увидеть, не повредят ли исследованию пропуски в колонке `genre`.\n",
    "\n",
    "Теперь можно перейти к проверке гипотез. "
   ]
  },
  {
   "cell_type": "markdown",
   "metadata": {
    "id": "WttZHXH0SqKk"
   },
   "source": [
    "## Проверка гипотез"
   ]
  },
  {
   "cell_type": "markdown",
   "metadata": {
    "id": "Im936VVi_Zcu"
   },
   "source": [
    "### Сравнение поведения пользователей двух столиц"
   ]
  },
  {
   "cell_type": "markdown",
   "metadata": {
    "id": "nwt_MuaL_Zcu"
   },
   "source": [
    "Первая гипотеза утверждает, что пользователи по-разному слушают музыку в Москве и Санкт-Петербурге. Проверьте это предположение по данным о трёх днях недели — понедельнике, среде и пятнице. Для этого:\n",
    "\n",
    "* Разделите пользователей Москвы и Санкт-Петербурга\n",
    "* Сравните, сколько треков послушала каждая группа пользователей в понедельник, среду и пятницу.\n"
   ]
  },
  {
   "cell_type": "markdown",
   "metadata": {
    "id": "8Dw_YMmT_Zcu"
   },
   "source": [
    "Для тренировки сначала выполните каждый из расчётов по отдельности. \n",
    "\n",
    "Оцените активность пользователей в каждом городе. Сгруппируйте данные по городу и посчитайте прослушивания в каждой группе.\n",
    "\n"
   ]
  },
  {
   "cell_type": "code",
   "execution_count": 19,
   "metadata": {
    "id": "0_Qs96oh_Zcu"
   },
   "outputs": [
    {
     "data": {
      "text/plain": [
       "city\n",
       "Moscow              42741\n",
       "Saint-Petersburg    18512\n",
       "Name: user_id, dtype: int64"
      ]
     },
     "execution_count": 19,
     "metadata": {},
     "output_type": "execute_result"
    }
   ],
   "source": [
    "# Подсчёт прослушиваний в каждом городе\n",
    "df.groupby('city')['user_id'].count()"
   ]
  },
  {
   "cell_type": "markdown",
   "metadata": {
    "id": "dzli3w8o_Zcu"
   },
   "source": [
    "В Москве прослушиваний больше, чем в Петербурге. Из этого не следует, что московские пользователи чаще слушают музыку. Просто самих пользователей в Москве больше.\n",
    "\n",
    "Теперь сгруппируйте данные по дню недели и подсчитайте прослушивания в понедельник, среду и пятницу. Учтите, что в данных есть информация о прослушиваниях только за эти дни.\n"
   ]
  },
  {
   "cell_type": "code",
   "execution_count": 20,
   "metadata": {
    "id": "uZMKjiJz_Zcu"
   },
   "outputs": [
    {
     "data": {
      "text/plain": [
       "day\n",
       "Friday       21840\n",
       "Monday       21354\n",
       "Wednesday    18059\n",
       "Name: user_id, dtype: int64"
      ]
     },
     "metadata": {},
     "output_type": "display_data"
    }
   ],
   "source": [
    "# Подсчёт прослушиваний в каждый из трёх дней\n",
    "display(df.groupby('day')['user_id'].count())"
   ]
  },
  {
   "cell_type": "markdown",
   "metadata": {
    "id": "cC2tNrlL_Zcu"
   },
   "source": [
    "В среднем пользователи из двух городов менее активны по средам. Но картина может измениться, если рассмотреть каждый город в отдельности."
   ]
  },
  {
   "cell_type": "markdown",
   "metadata": {
    "id": "POzs8bGa_Zcu"
   },
   "source": [
    "Вы видели, как работает группировка по городу и по дням недели. Теперь напишите функцию, которая объединит два эти расчёта.\n",
    "\n",
    "Создайте функцию `number_tracks()`, которая посчитает прослушивания для заданного дня и города. Ей понадобятся два параметра:\n",
    "* день недели,\n",
    "* название города.\n",
    "\n",
    "В функции сохраните в переменную строки исходной таблицы, у которых значение:\n",
    "  * в колонке `day` равно параметру `day`,\n",
    "  * в колонке `city` равно параметру `city`.\n",
    "\n",
    "Для этого примените последовательную фильтрацию с логической индексацией.\n",
    "\n",
    "Затем посчитайте значения в столбце `user_id` получившейся таблицы. Результат сохраните в новую переменную. Верните эту переменную из функции."
   ]
  },
  {
   "cell_type": "code",
   "execution_count": 21,
   "metadata": {
    "id": "Nz3GdQB1_Zcu"
   },
   "outputs": [],
   "source": [
    "# <создание функции number_tracks()>\n",
    "# Объявляется функция с двумя параметрами: day, city.\n",
    "# В переменной track_list сохраняются те строки таблицы df, для которых \n",
    "# значение в столбце 'day' равно параметру day и одновременно значение\n",
    "# в столбце 'city' равно параметру city (используйте последовательную фильтрацию\n",
    "# с помощью логической индексации).\n",
    "# В переменной track_list_count сохраняется число значений столбца 'user_id',\n",
    "# рассчитанное методом count() для таблицы track_list.\n",
    "# Функция возвращает число - значение track_list_count.\n",
    "\n",
    "def number_tracks(day, city):\n",
    "    track_list = df[df['day'] == day]\n",
    "    track_list = track_list[track_list['city'] == city]\n",
    "    track_list_count = track_list['user_id'].count()\n",
    "    return track_list_count\n",
    "\n",
    "# Функция для подсчёта прослушиваний для конкретного города и дня.\n",
    "# С помощью последовательной фильтрации с логической индексацией она \n",
    "# сначала получит из исходной таблицы строки с нужным днём,\n",
    "# затем из результата отфильтрует строки с нужным городом,\n",
    "# методом count() посчитает количество значений в колонке user_id. \n",
    "# Это количество функция вернёт в качестве результата"
   ]
  },
  {
   "cell_type": "markdown",
   "metadata": {
    "id": "ytf7xFrFJQ2r"
   },
   "source": [
    "Вызовите `number_tracks()` шесть раз, меняя значение параметров — так, чтобы получить данные для каждого города в каждый из трёх дней."
   ]
  },
  {
   "cell_type": "code",
   "execution_count": 22,
   "metadata": {
    "id": "rJcRATNQ_Zcu"
   },
   "outputs": [
    {
     "data": {
      "text/plain": [
       "15740"
      ]
     },
     "execution_count": 22,
     "metadata": {},
     "output_type": "execute_result"
    }
   ],
   "source": [
    "# количество прослушиваний в Москве по понедельникам\n",
    "number_tracks('Monday', 'Moscow')"
   ]
  },
  {
   "cell_type": "code",
   "execution_count": 23,
   "metadata": {
    "id": "hq_ncZ5T_Zcu"
   },
   "outputs": [
    {
     "data": {
      "text/plain": [
       "5614"
      ]
     },
     "execution_count": 23,
     "metadata": {},
     "output_type": "execute_result"
    }
   ],
   "source": [
    "# количество прослушиваний в Санкт-Петербурге по понедельникам\n",
    "number_tracks('Monday', 'Saint-Petersburg')"
   ]
  },
  {
   "cell_type": "code",
   "execution_count": 24,
   "metadata": {
    "id": "_NTy2VPU_Zcu"
   },
   "outputs": [
    {
     "data": {
      "text/plain": [
       "11056"
      ]
     },
     "execution_count": 24,
     "metadata": {},
     "output_type": "execute_result"
    }
   ],
   "source": [
    "# количество прослушиваний в Москве по средам\n",
    "number_tracks('Wednesday', 'Moscow')"
   ]
  },
  {
   "cell_type": "code",
   "execution_count": 25,
   "metadata": {
    "id": "j2y3TAwo_Zcu"
   },
   "outputs": [
    {
     "data": {
      "text/plain": [
       "7003"
      ]
     },
     "execution_count": 25,
     "metadata": {},
     "output_type": "execute_result"
    }
   ],
   "source": [
    "# количество прослушиваний в Санкт-Петербурге по средам\n",
    "number_tracks('Wednesday', 'Saint-Petersburg')"
   ]
  },
  {
   "cell_type": "code",
   "execution_count": 26,
   "metadata": {
    "id": "vYDw5u_K_Zcu"
   },
   "outputs": [
    {
     "data": {
      "text/plain": [
       "15945"
      ]
     },
     "execution_count": 26,
     "metadata": {},
     "output_type": "execute_result"
    }
   ],
   "source": [
    "# количество прослушиваний в Москве по пятницам\n",
    "number_tracks('Friday', 'Moscow')"
   ]
  },
  {
   "cell_type": "code",
   "execution_count": 27,
   "metadata": {
    "id": "8_yzFtW3_Zcu"
   },
   "outputs": [
    {
     "data": {
      "text/plain": [
       "5895"
      ]
     },
     "execution_count": 27,
     "metadata": {},
     "output_type": "execute_result"
    }
   ],
   "source": [
    "# количество прослушиваний в Санкт-Петербурге по пятницам\n",
    "number_tracks('Friday', 'Saint-Petersburg')"
   ]
  },
  {
   "cell_type": "code",
   "execution_count": 28,
   "metadata": {},
   "outputs": [
    {
     "data": {
      "text/plain": [
       "'Moscow on Monday, number of plays: 15740'"
      ]
     },
     "metadata": {},
     "output_type": "display_data"
    },
    {
     "data": {
      "text/plain": [
       "'Moscow on Wednesday, number of plays: 11056'"
      ]
     },
     "metadata": {},
     "output_type": "display_data"
    },
    {
     "data": {
      "text/plain": [
       "'Moscow on Friday, number of plays: 15945'"
      ]
     },
     "metadata": {},
     "output_type": "display_data"
    },
    {
     "data": {
      "text/plain": [
       "'Saint-Petersburg on Monday, number of plays: 5614'"
      ]
     },
     "metadata": {},
     "output_type": "display_data"
    },
    {
     "data": {
      "text/plain": [
       "'Saint-Petersburg on Wednesday, number of plays: 7003'"
      ]
     },
     "metadata": {},
     "output_type": "display_data"
    },
    {
     "data": {
      "text/plain": [
       "'Saint-Petersburg on Friday, number of plays: 5895'"
      ]
     },
     "metadata": {},
     "output_type": "display_data"
    }
   ],
   "source": [
    "week_day = ['Monday', 'Wednesday', 'Friday']\n",
    "sity = ['Moscow', 'Saint-Petersburg']\n",
    "for i in sity:\n",
    "    for j in week_day:\n",
    "        display(i + ' on ' + j + ', number of plays: ' + str(number_tracks(j, i)))"
   ]
  },
  {
   "cell_type": "markdown",
   "metadata": {
    "id": "7QXffbO-_Zcu"
   },
   "source": [
    "Создайте c помощью конструктора `pd.DataFrame` таблицу, где\n",
    "* названия колонок — `['city', 'monday', 'wednesday', 'friday']`;\n",
    "* данные — результаты, которые вы получили с помощью `number_tracks`."
   ]
  },
  {
   "cell_type": "code",
   "execution_count": 29,
   "metadata": {
    "scrolled": true
   },
   "outputs": [
    {
     "data": {
      "text/html": [
       "<div>\n",
       "<style scoped>\n",
       "    .dataframe tbody tr th:only-of-type {\n",
       "        vertical-align: middle;\n",
       "    }\n",
       "\n",
       "    .dataframe tbody tr th {\n",
       "        vertical-align: top;\n",
       "    }\n",
       "\n",
       "    .dataframe thead th {\n",
       "        text-align: right;\n",
       "    }\n",
       "</style>\n",
       "<table border=\"1\" class=\"dataframe\">\n",
       "  <thead>\n",
       "    <tr style=\"text-align: right;\">\n",
       "      <th></th>\n",
       "      <th>city</th>\n",
       "      <th>Monday</th>\n",
       "      <th>Wednesday</th>\n",
       "      <th>Friday</th>\n",
       "    </tr>\n",
       "  </thead>\n",
       "  <tbody>\n",
       "    <tr>\n",
       "      <th>0</th>\n",
       "      <td>Moscow</td>\n",
       "      <td>15740</td>\n",
       "      <td>11056</td>\n",
       "      <td>15945</td>\n",
       "    </tr>\n",
       "    <tr>\n",
       "      <th>1</th>\n",
       "      <td>Saint-Petersburg</td>\n",
       "      <td>5614</td>\n",
       "      <td>7003</td>\n",
       "      <td>5895</td>\n",
       "    </tr>\n",
       "  </tbody>\n",
       "</table>\n",
       "</div>"
      ],
      "text/plain": [
       "               city  Monday  Wednesday  Friday\n",
       "0            Moscow   15740      11056   15945\n",
       "1  Saint-Petersburg    5614       7003    5895"
      ]
     },
     "execution_count": 29,
     "metadata": {},
     "output_type": "execute_result"
    }
   ],
   "source": [
    "result_table = {'city' : sity, \n",
    "                'Monday' : [number_tracks('Monday', 'Moscow'), number_tracks('Monday', 'Saint-Petersburg')],\n",
    "                'Wednesday' : [number_tracks('Wednesday', 'Moscow'), number_tracks('Wednesday', 'Saint-Petersburg')],\n",
    "                'Friday' : [number_tracks('Friday', 'Moscow'), number_tracks('Friday', 'Saint-Petersburg')]}\n",
    "pd.DataFrame(data=result_table)"
   ]
  },
  {
   "cell_type": "markdown",
   "metadata": {
    "id": "-EgPIHYu_Zcu"
   },
   "source": [
    "**Выводы**\n",
    "\n",
    "Данные показывают разницу поведения пользователей:\n",
    "\n",
    "- В Москве пик прослушиваний приходится на понедельник и пятницу, а в среду заметен спад.\n",
    "- В Петербурге, наоборот, больше слушают музыку по средам. Активность в понедельник и пятницу здесь почти в равной мере уступает среде.\n",
    "\n",
    "Значит, данные говорят в пользу первой гипотезы."
   ]
  },
  {
   "cell_type": "markdown",
   "metadata": {
    "id": "atZAxtq4_Zcu"
   },
   "source": [
    "### Музыка в начале и в конце недели"
   ]
  },
  {
   "cell_type": "markdown",
   "metadata": {
    "id": "eXrQqXFH_Zcu"
   },
   "source": [
    "Согласно второй гипотезе, утром в понедельник в Москве преобладают одни жанры, а в Петербурге — другие. Так же и вечером пятницы преобладают разные жанры — в зависимости от города."
   ]
  },
  {
   "cell_type": "markdown",
   "metadata": {
    "id": "S8UcW6Hw_Zcu"
   },
   "source": [
    "Сохраните таблицы с данными в две переменные:\n",
    "* по Москве — в `moscow_general`;\n",
    "* по Санкт-Петербургу — в `spb_general`."
   ]
  },
  {
   "cell_type": "code",
   "execution_count": 30,
   "metadata": {
    "id": "qeaFfM_P_Zcu"
   },
   "outputs": [
    {
     "data": {
      "text/html": [
       "<div>\n",
       "<style scoped>\n",
       "    .dataframe tbody tr th:only-of-type {\n",
       "        vertical-align: middle;\n",
       "    }\n",
       "\n",
       "    .dataframe tbody tr th {\n",
       "        vertical-align: top;\n",
       "    }\n",
       "\n",
       "    .dataframe thead th {\n",
       "        text-align: right;\n",
       "    }\n",
       "</style>\n",
       "<table border=\"1\" class=\"dataframe\">\n",
       "  <thead>\n",
       "    <tr style=\"text-align: right;\">\n",
       "      <th></th>\n",
       "      <th>user_id</th>\n",
       "      <th>track</th>\n",
       "      <th>artist</th>\n",
       "      <th>genre</th>\n",
       "      <th>city</th>\n",
       "      <th>time</th>\n",
       "      <th>day</th>\n",
       "    </tr>\n",
       "  </thead>\n",
       "  <tbody>\n",
       "    <tr>\n",
       "      <th>0</th>\n",
       "      <td>55204538</td>\n",
       "      <td>Delayed Because of Accident</td>\n",
       "      <td>Andreas Rönnberg</td>\n",
       "      <td>rock</td>\n",
       "      <td>Moscow</td>\n",
       "      <td>14:07:09</td>\n",
       "      <td>Friday</td>\n",
       "    </tr>\n",
       "    <tr>\n",
       "      <th>1</th>\n",
       "      <td>E2DC1FAE</td>\n",
       "      <td>Soul People</td>\n",
       "      <td>Space Echo</td>\n",
       "      <td>dance</td>\n",
       "      <td>Moscow</td>\n",
       "      <td>08:34:34</td>\n",
       "      <td>Monday</td>\n",
       "    </tr>\n",
       "    <tr>\n",
       "      <th>2</th>\n",
       "      <td>4CB90AA5</td>\n",
       "      <td>True</td>\n",
       "      <td>Roman Messer</td>\n",
       "      <td>dance</td>\n",
       "      <td>Moscow</td>\n",
       "      <td>13:00:07</td>\n",
       "      <td>Wednesday</td>\n",
       "    </tr>\n",
       "    <tr>\n",
       "      <th>3</th>\n",
       "      <td>F03E1C1F</td>\n",
       "      <td>Feeling This Way</td>\n",
       "      <td>Polina Griffith</td>\n",
       "      <td>dance</td>\n",
       "      <td>Moscow</td>\n",
       "      <td>20:47:49</td>\n",
       "      <td>Wednesday</td>\n",
       "    </tr>\n",
       "    <tr>\n",
       "      <th>4</th>\n",
       "      <td>8FA1D3BE</td>\n",
       "      <td>И вновь продолжается бой</td>\n",
       "      <td>unknown</td>\n",
       "      <td>ruspop</td>\n",
       "      <td>Moscow</td>\n",
       "      <td>09:17:40</td>\n",
       "      <td>Friday</td>\n",
       "    </tr>\n",
       "    <tr>\n",
       "      <th>5</th>\n",
       "      <td>BC5A3A29</td>\n",
       "      <td>Gool la Mita</td>\n",
       "      <td>Shireen Abdul Wahab</td>\n",
       "      <td>world</td>\n",
       "      <td>Moscow</td>\n",
       "      <td>14:08:42</td>\n",
       "      <td>Monday</td>\n",
       "    </tr>\n",
       "    <tr>\n",
       "      <th>6</th>\n",
       "      <td>8B5192C0</td>\n",
       "      <td>Is There Anybody Out There? (Panoramic Paralys...</td>\n",
       "      <td>Pink Floyd Floydhead</td>\n",
       "      <td>electronic</td>\n",
       "      <td>Moscow</td>\n",
       "      <td>13:47:49</td>\n",
       "      <td>Monday</td>\n",
       "    </tr>\n",
       "    <tr>\n",
       "      <th>7</th>\n",
       "      <td>FF3FD2BD</td>\n",
       "      <td>Мина син генэ кирэк</td>\n",
       "      <td>Ильдар Хакимов</td>\n",
       "      <td>pop</td>\n",
       "      <td>Moscow</td>\n",
       "      <td>09:19:49</td>\n",
       "      <td>Monday</td>\n",
       "    </tr>\n",
       "    <tr>\n",
       "      <th>8</th>\n",
       "      <td>CC782B0F</td>\n",
       "      <td>After School Special</td>\n",
       "      <td>Detroit Grand Pubahs</td>\n",
       "      <td>dance</td>\n",
       "      <td>Moscow</td>\n",
       "      <td>20:04:12</td>\n",
       "      <td>Friday</td>\n",
       "    </tr>\n",
       "    <tr>\n",
       "      <th>9</th>\n",
       "      <td>E3C5756F</td>\n",
       "      <td>unknown</td>\n",
       "      <td>unknown</td>\n",
       "      <td>unknown</td>\n",
       "      <td>Moscow</td>\n",
       "      <td>09:24:51</td>\n",
       "      <td>Monday</td>\n",
       "    </tr>\n",
       "  </tbody>\n",
       "</table>\n",
       "</div>"
      ],
      "text/plain": [
       "    user_id                                              track  \\\n",
       "0  55204538                        Delayed Because of Accident   \n",
       "1  E2DC1FAE                                        Soul People   \n",
       "2  4CB90AA5                                               True   \n",
       "3  F03E1C1F                                   Feeling This Way   \n",
       "4  8FA1D3BE                           И вновь продолжается бой   \n",
       "5  BC5A3A29                                       Gool la Mita   \n",
       "6  8B5192C0  Is There Anybody Out There? (Panoramic Paralys...   \n",
       "7  FF3FD2BD                                Мина син генэ кирэк   \n",
       "8  CC782B0F                               After School Special   \n",
       "9  E3C5756F                                            unknown   \n",
       "\n",
       "                 artist       genre    city      time        day  \n",
       "0      Andreas Rönnberg        rock  Moscow  14:07:09     Friday  \n",
       "1            Space Echo       dance  Moscow  08:34:34     Monday  \n",
       "2          Roman Messer       dance  Moscow  13:00:07  Wednesday  \n",
       "3       Polina Griffith       dance  Moscow  20:47:49  Wednesday  \n",
       "4               unknown      ruspop  Moscow  09:17:40     Friday  \n",
       "5   Shireen Abdul Wahab       world  Moscow  14:08:42     Monday  \n",
       "6  Pink Floyd Floydhead  electronic  Moscow  13:47:49     Monday  \n",
       "7        Ильдар Хакимов         pop  Moscow  09:19:49     Monday  \n",
       "8  Detroit Grand Pubahs       dance  Moscow  20:04:12     Friday  \n",
       "9               unknown     unknown  Moscow  09:24:51     Monday  "
      ]
     },
     "execution_count": 30,
     "metadata": {},
     "output_type": "execute_result"
    }
   ],
   "source": [
    "# получение таблицы moscow_general из тех строк таблицы df, \n",
    "# для которых значение в столбце 'city' равно 'Moscow'\n",
    "moscow_general = df[df['city'] == 'Moscow'].reset_index(drop=True)\n",
    "moscow_general[:10]"
   ]
  },
  {
   "cell_type": "code",
   "execution_count": 31,
   "metadata": {
    "id": "ORaVRKto_Zcu"
   },
   "outputs": [
    {
     "data": {
      "text/html": [
       "<div>\n",
       "<style scoped>\n",
       "    .dataframe tbody tr th:only-of-type {\n",
       "        vertical-align: middle;\n",
       "    }\n",
       "\n",
       "    .dataframe tbody tr th {\n",
       "        vertical-align: top;\n",
       "    }\n",
       "\n",
       "    .dataframe thead th {\n",
       "        text-align: right;\n",
       "    }\n",
       "</style>\n",
       "<table border=\"1\" class=\"dataframe\">\n",
       "  <thead>\n",
       "    <tr style=\"text-align: right;\">\n",
       "      <th></th>\n",
       "      <th>user_id</th>\n",
       "      <th>track</th>\n",
       "      <th>artist</th>\n",
       "      <th>genre</th>\n",
       "      <th>city</th>\n",
       "      <th>time</th>\n",
       "      <th>day</th>\n",
       "    </tr>\n",
       "  </thead>\n",
       "  <tbody>\n",
       "    <tr>\n",
       "      <th>0</th>\n",
       "      <td>FFB692EC</td>\n",
       "      <td>Kamigata To Boots</td>\n",
       "      <td>The Mass Missile</td>\n",
       "      <td>rock</td>\n",
       "      <td>Saint-Petersburg</td>\n",
       "      <td>20:28:33</td>\n",
       "      <td>Wednesday</td>\n",
       "    </tr>\n",
       "    <tr>\n",
       "      <th>1</th>\n",
       "      <td>20EC38</td>\n",
       "      <td>Funiculì funiculà</td>\n",
       "      <td>Mario Lanza</td>\n",
       "      <td>pop</td>\n",
       "      <td>Saint-Petersburg</td>\n",
       "      <td>20:58:07</td>\n",
       "      <td>Wednesday</td>\n",
       "    </tr>\n",
       "    <tr>\n",
       "      <th>2</th>\n",
       "      <td>A3DD03C9</td>\n",
       "      <td>Dragons in the Sunset</td>\n",
       "      <td>Fire + Ice</td>\n",
       "      <td>folk</td>\n",
       "      <td>Saint-Petersburg</td>\n",
       "      <td>08:37:09</td>\n",
       "      <td>Monday</td>\n",
       "    </tr>\n",
       "    <tr>\n",
       "      <th>3</th>\n",
       "      <td>842029A1</td>\n",
       "      <td>Преданная</td>\n",
       "      <td>IMPERVTOR</td>\n",
       "      <td>rusrap</td>\n",
       "      <td>Saint-Petersburg</td>\n",
       "      <td>13:09:41</td>\n",
       "      <td>Friday</td>\n",
       "    </tr>\n",
       "    <tr>\n",
       "      <th>4</th>\n",
       "      <td>E772D5C0</td>\n",
       "      <td>Pessimist</td>\n",
       "      <td>unknown</td>\n",
       "      <td>dance</td>\n",
       "      <td>Saint-Petersburg</td>\n",
       "      <td>21:20:49</td>\n",
       "      <td>Wednesday</td>\n",
       "    </tr>\n",
       "    <tr>\n",
       "      <th>5</th>\n",
       "      <td>94EB25C2</td>\n",
       "      <td>Make Love Whenever You Can</td>\n",
       "      <td>Arabesque</td>\n",
       "      <td>pop</td>\n",
       "      <td>Saint-Petersburg</td>\n",
       "      <td>13:22:08</td>\n",
       "      <td>Wednesday</td>\n",
       "    </tr>\n",
       "    <tr>\n",
       "      <th>6</th>\n",
       "      <td>81D05C7D</td>\n",
       "      <td>SLAVES OF FEAR</td>\n",
       "      <td>HEALTH</td>\n",
       "      <td>alternative</td>\n",
       "      <td>Saint-Petersburg</td>\n",
       "      <td>20:54:48</td>\n",
       "      <td>Monday</td>\n",
       "    </tr>\n",
       "    <tr>\n",
       "      <th>7</th>\n",
       "      <td>39DE290E</td>\n",
       "      <td>Веснянка</td>\n",
       "      <td>Веданъ Колодъ</td>\n",
       "      <td>folk</td>\n",
       "      <td>Saint-Petersburg</td>\n",
       "      <td>14:36:47</td>\n",
       "      <td>Monday</td>\n",
       "    </tr>\n",
       "    <tr>\n",
       "      <th>8</th>\n",
       "      <td>58AE138A</td>\n",
       "      <td>Pat-a-Cake</td>\n",
       "      <td>Mother Goose Club</td>\n",
       "      <td>children</td>\n",
       "      <td>Saint-Petersburg</td>\n",
       "      <td>20:04:56</td>\n",
       "      <td>Monday</td>\n",
       "    </tr>\n",
       "    <tr>\n",
       "      <th>9</th>\n",
       "      <td>B8E29C9C</td>\n",
       "      <td>Самота</td>\n",
       "      <td>unknown</td>\n",
       "      <td>folk</td>\n",
       "      <td>Saint-Petersburg</td>\n",
       "      <td>20:20:49</td>\n",
       "      <td>Wednesday</td>\n",
       "    </tr>\n",
       "  </tbody>\n",
       "</table>\n",
       "</div>"
      ],
      "text/plain": [
       "    user_id                       track             artist        genre  \\\n",
       "0  FFB692EC           Kamigata To Boots   The Mass Missile         rock   \n",
       "1    20EC38           Funiculì funiculà        Mario Lanza          pop   \n",
       "2  A3DD03C9       Dragons in the Sunset         Fire + Ice         folk   \n",
       "3  842029A1                   Преданная          IMPERVTOR       rusrap   \n",
       "4  E772D5C0                   Pessimist            unknown        dance   \n",
       "5  94EB25C2  Make Love Whenever You Can          Arabesque          pop   \n",
       "6  81D05C7D              SLAVES OF FEAR             HEALTH  alternative   \n",
       "7  39DE290E                    Веснянка      Веданъ Колодъ         folk   \n",
       "8  58AE138A                  Pat-a-Cake  Mother Goose Club     children   \n",
       "9  B8E29C9C                      Самота            unknown         folk   \n",
       "\n",
       "               city      time        day  \n",
       "0  Saint-Petersburg  20:28:33  Wednesday  \n",
       "1  Saint-Petersburg  20:58:07  Wednesday  \n",
       "2  Saint-Petersburg  08:37:09     Monday  \n",
       "3  Saint-Petersburg  13:09:41     Friday  \n",
       "4  Saint-Petersburg  21:20:49  Wednesday  \n",
       "5  Saint-Petersburg  13:22:08  Wednesday  \n",
       "6  Saint-Petersburg  20:54:48     Monday  \n",
       "7  Saint-Petersburg  14:36:47     Monday  \n",
       "8  Saint-Petersburg  20:04:56     Monday  \n",
       "9  Saint-Petersburg  20:20:49  Wednesday  "
      ]
     },
     "execution_count": 31,
     "metadata": {},
     "output_type": "execute_result"
    }
   ],
   "source": [
    "# получение таблицы spb_general из тех строк таблицы df,\n",
    "# для которых значение в столбце 'city' равно 'Saint-Petersburg'\n",
    "spb_general = df[df['city'] == 'Saint-Petersburg'].reset_index(drop=True)\n",
    "spb_general[:10]"
   ]
  },
  {
   "cell_type": "markdown",
   "metadata": {
    "id": "MEJV-CX2_Zcu"
   },
   "source": [
    "Создайте функцию `genre_weekday()` с четырьмя параметрами:\n",
    "* таблица (датафрейм) с данными,\n",
    "* день недели,\n",
    "* начальная временная метка в формате 'hh:mm', \n",
    "* последняя временная метка в формате 'hh:mm'.\n",
    "\n",
    "Функция должна вернуть информацию о топ-10 жанров тех треков, которые прослушивали в указанный день, в промежутке между двумя отметками времени."
   ]
  },
  {
   "cell_type": "code",
   "execution_count": 32,
   "metadata": {
    "id": "laJT9BYl_Zcu"
   },
   "outputs": [],
   "source": [
    "# Объявление функции genre_weekday() с параметрами table, day, time1, time2,\n",
    "# которая возвращает информацию о самых популярных жанрах в указанный день в\n",
    "# заданное время:\n",
    "# 1) в переменную genre_df сохраняются те строки переданного датафрейма table, для\n",
    "#    которых одновременно:\n",
    "#    - значение в столбце day равно значению аргумента day\n",
    "#    - значение в столбце time больше значения аргумента time1\n",
    "#    - значение в столбце time меньше значения аргумента time2\n",
    "#    Используйте последовательную фильтрацию с помощью логической индексации.\n",
    "# 2) сгруппировать датафрейм genre_df по столбцу genre, взять один из его\n",
    "#    столбцов и посчитать методом count() количество записей для каждого из\n",
    "#    присутствующих жанров, получившийся Series записать в переменную\n",
    "#    genre_df_count\n",
    "# 3) отсортировать genre_df_count по убыванию встречаемости и сохранить\n",
    "#    в переменную genre_df_sorted\n",
    "# 4) вернуть Series из 10 первых значений genre_df_sorted, это будут топ-10\n",
    "#    популярных жанров (в указанный день, в заданное время)\n",
    "    \n",
    "def genre_weekday(table, day, time1, time2):\n",
    "    genre_df = table[table['day'] == day]\n",
    "    genre_df = genre_df[genre_df['time'] > time1]\n",
    "    genre_df = genre_df[genre_df['time'] < time2]\n",
    "    \n",
    "    genre_df_count = genre_df.groupby('genre')['time'].count()\n",
    "    genre_df_sorted = genre_df_count.sort_values(ascending=False)\n",
    "    return genre_df_sorted[:10]\n",
    "     "
   ]
  },
  {
   "cell_type": "markdown",
   "metadata": {
    "id": "la2s2_PF_Zcu"
   },
   "source": [
    "Cравните результаты функции `genre_weekday()` для Москвы и Санкт-Петербурга в понедельник утром (с 7:00 до 11:00) и в пятницу вечером (с 17:00 до 23:00):"
   ]
  },
  {
   "cell_type": "code",
   "execution_count": 33,
   "metadata": {
    "id": "yz7itPUQ_Zcu"
   },
   "outputs": [
    {
     "data": {
      "text/plain": [
       "genre\n",
       "pop            781\n",
       "dance          549\n",
       "electronic     480\n",
       "rock           474\n",
       "hiphop         286\n",
       "ruspop         186\n",
       "world          181\n",
       "rusrap         175\n",
       "alternative    164\n",
       "unknown        161\n",
       "Name: time, dtype: int64"
      ]
     },
     "execution_count": 33,
     "metadata": {},
     "output_type": "execute_result"
    }
   ],
   "source": [
    "# вызов функции для утра понедельника в Москве (вместо df — таблица moscow_general)\n",
    "# объекты, хранящие время, являются строками и сравниваются как строки\n",
    "# пример вызова: genre_weekday(moscow_general, 'Monday', '07:00', '11:00')\n",
    "genre_weekday(moscow_general, 'Monday', '07:00', '11:00')"
   ]
  },
  {
   "cell_type": "code",
   "execution_count": 34,
   "metadata": {
    "id": "kwUcHPdy_Zcu"
   },
   "outputs": [
    {
     "data": {
      "text/plain": [
       "genre\n",
       "pop            218\n",
       "dance          182\n",
       "rock           162\n",
       "electronic     147\n",
       "hiphop          80\n",
       "ruspop          64\n",
       "alternative     58\n",
       "rusrap          55\n",
       "jazz            44\n",
       "classical       40\n",
       "Name: time, dtype: int64"
      ]
     },
     "execution_count": 34,
     "metadata": {},
     "output_type": "execute_result"
    }
   ],
   "source": [
    "# вызов функции для утра понедельника в Петербурге (вместо df — таблица spb_general)\n",
    "genre_weekday(spb_general, 'Monday', '07:00', '11:00')"
   ]
  },
  {
   "cell_type": "code",
   "execution_count": 35,
   "metadata": {
    "id": "EzXVRE1o_Zcu"
   },
   "outputs": [
    {
     "data": {
      "text/plain": [
       "genre\n",
       "pop            713\n",
       "rock           517\n",
       "dance          495\n",
       "electronic     482\n",
       "hiphop         273\n",
       "world          208\n",
       "ruspop         170\n",
       "alternative    163\n",
       "classical      163\n",
       "rusrap         142\n",
       "Name: time, dtype: int64"
      ]
     },
     "execution_count": 35,
     "metadata": {},
     "output_type": "execute_result"
    }
   ],
   "source": [
    "# вызов функции для вечера пятницы в Москве\n",
    "genre_weekday(moscow_general, 'Friday', '17:30', '23:00')"
   ]
  },
  {
   "cell_type": "code",
   "execution_count": 36,
   "metadata": {
    "id": "JZaEKu5v_Zcu"
   },
   "outputs": [
    {
     "data": {
      "text/plain": [
       "genre\n",
       "pop            256\n",
       "electronic     216\n",
       "rock           216\n",
       "dance          210\n",
       "hiphop          97\n",
       "alternative     63\n",
       "jazz            61\n",
       "classical       60\n",
       "rusrap          59\n",
       "world           54\n",
       "Name: time, dtype: int64"
      ]
     },
     "execution_count": 36,
     "metadata": {},
     "output_type": "execute_result"
    }
   ],
   "source": [
    "# вызов функции для вечера пятницы в Петербурге\n",
    "genre_weekday(spb_general, 'Friday', '17:30', '23:00')"
   ]
  },
  {
   "cell_type": "markdown",
   "metadata": {
    "id": "wrCe4MNX_Zcu"
   },
   "source": [
    "**Выводы**\n",
    "\n",
    "Если сравнить топ-10 жанров в понедельник утром, можно сделать такие выводы:\n",
    "\n",
    "1. В Москве и Петербурге слушают похожую музыку. Единственное отличие — в московский рейтинг вошёл жанр “world”, а в петербургский — джаз и классика.\n",
    "\n",
    "2. В Москве пропущенных значений оказалось так много, что значение `'unknown'` заняло десятое место среди самых популярных жанров. Значит, пропущенные значения занимают существенную долю в данных и угрожают достоверности исследования.\n",
    "\n",
    "Вечер пятницы не меняет эту картину. Некоторые жанры поднимаются немного выше, другие спускаются, но в целом топ-10 остаётся тем же самым.\n",
    "\n",
    "Таким образом, вторая гипотеза подтвердилась лишь частично:\n",
    "* Пользователи слушают похожую музыку в начале недели и в конце.\n",
    "* Разница между Москвой и Петербургом не слишком выражена. В Москве чаще слушают русскую популярную музыку, в Петербурге — джаз.\n",
    "\n",
    "Однако пропуски в данных ставят под сомнение этот результат. В Москве их так много, что рейтинг топ-10 мог бы выглядеть иначе, если бы не утерянные  данные о жанрах."
   ]
  },
  {
   "cell_type": "markdown",
   "metadata": {
    "id": "JolODAqr_Zcu"
   },
   "source": [
    "### Жанровые предпочтения в Москве и Петербурге\n",
    "\n",
    "Гипотеза: Петербург — столица рэпа, музыку этого жанра там слушают чаще, чем в Москве.  А Москва — город контрастов, в котором, тем не менее, преобладает поп-музыка."
   ]
  },
  {
   "cell_type": "markdown",
   "metadata": {
    "id": "DlegSvaT_Zcu"
   },
   "source": [
    "Сгруппируйте таблицу `moscow_general` по жанру и посчитайте прослушивания треков каждого жанра методом `count()`. Затем отсортируйте результат в порядке убывания и сохраните его в таблице `moscow_genres`."
   ]
  },
  {
   "cell_type": "code",
   "execution_count": 37,
   "metadata": {
    "id": "r19lIPke_Zcu"
   },
   "outputs": [],
   "source": [
    "# одной строкой: группировка таблицы moscow_general по столбцу 'genre', \n",
    "# подсчёт числа значений 'genre' в этой группировке методом count(), \n",
    "# сортировка получившегося Series в порядке убывания и сохранение в moscow_genres \n",
    "moscow_genres = moscow_general.groupby('genre')['user_id'].count().sort_values(ascending=False)"
   ]
  },
  {
   "cell_type": "markdown",
   "metadata": {
    "id": "6kMuomxTiIr8"
   },
   "source": [
    "Выведите на экран первые десять строк `moscow_genres`:"
   ]
  },
  {
   "cell_type": "code",
   "execution_count": 38,
   "metadata": {
    "id": "WhCSooF8_Zcv"
   },
   "outputs": [
    {
     "data": {
      "text/plain": [
       "genre\n",
       "pop            5892\n",
       "dance          4435\n",
       "rock           3965\n",
       "electronic     3786\n",
       "hiphop         2096\n",
       "classical      1616\n",
       "world          1432\n",
       "alternative    1379\n",
       "ruspop         1372\n",
       "rusrap         1161\n",
       "Name: user_id, dtype: int64"
      ]
     },
     "execution_count": 38,
     "metadata": {},
     "output_type": "execute_result"
    }
   ],
   "source": [
    "# просмотр первых 10 строк moscow_genres\n",
    "moscow_genres.head(10)"
   ]
  },
  {
   "cell_type": "markdown",
   "metadata": {
    "id": "cnPG2vnN_Zcv"
   },
   "source": [
    "Теперь повторите то же и для Петербурга.\n",
    "\n",
    "Сгруппируйте таблицу `spb_general` по жанру. Посчитайте прослушивания треков каждого жанра. Результат отсортируйте в порядке убывания и сохраните в таблице `spb_genres`:\n"
   ]
  },
  {
   "cell_type": "code",
   "execution_count": 39,
   "metadata": {
    "id": "gluLIpE7_Zcv"
   },
   "outputs": [],
   "source": [
    "# одной строкой: группировка таблицы spb_general по столбцу 'genre', \n",
    "# подсчёт числа значений 'genre' в этой группировке методом count(), \n",
    "# сортировка получившегося Series в порядке убывания и сохранение в spb_genres\n",
    "spb_genres = spb_general.groupby('genre')['user_id'].count().sort_values(ascending=False)"
   ]
  },
  {
   "cell_type": "markdown",
   "metadata": {
    "id": "5Doha_ODgyQ8"
   },
   "source": [
    "Выведите на экран первые десять строк `spb_genres`:"
   ]
  },
  {
   "cell_type": "code",
   "execution_count": 40,
   "metadata": {
    "id": "uaGJHjVU_Zcv"
   },
   "outputs": [
    {
     "data": {
      "text/plain": [
       "genre\n",
       "pop            2431\n",
       "dance          1932\n",
       "rock           1879\n",
       "electronic     1736\n",
       "hiphop          960\n",
       "alternative     649\n",
       "classical       646\n",
       "rusrap          564\n",
       "ruspop          538\n",
       "world           515\n",
       "Name: user_id, dtype: int64"
      ]
     },
     "execution_count": 40,
     "metadata": {},
     "output_type": "execute_result"
    }
   ],
   "source": [
    "# просмотр первых 10 строк spb_genres\n",
    "spb_genres.head(10)"
   ]
  },
  {
   "cell_type": "markdown",
   "metadata": {
    "id": "RY51YJYu_Zcv"
   },
   "source": [
    "**Выводы**"
   ]
  },
  {
   "cell_type": "markdown",
   "metadata": {
    "id": "nVhnJEm__Zcv"
   },
   "source": [
    "Гипотеза частично подтвердилась:\n",
    "* Поп-музыка — самый популярный жанр в Москве, как и предполагала гипотеза. Более того, в топ-10 жанров встречается близкий жанр — русская популярная музыка.\n",
    "* Вопреки ожиданиям, рэп одинаково популярен в Москве и Петербурге. \n"
   ]
  },
  {
   "cell_type": "markdown",
   "metadata": {
    "id": "ykKQ0N65_Zcv"
   },
   "source": [
    "## Итоги исследования"
   ]
  },
  {
   "cell_type": "markdown",
   "metadata": {
    "id": "tjUwbHb3_Zcv"
   },
   "source": [
    "Вы проверили три гипотезы и установили:\n",
    "\n",
    "1. День недели по-разному влияет на активность пользователей в Москве и Петербурге. \n",
    "\n",
    "Первая гипотеза полностью подтвердилась.\n",
    "\n",
    "2. Музыкальные предпочтения не сильно меняются в течение недели — будь то Москва или Петербург. Небольшие различия заметны в начале недели, по понедельникам:\n",
    "* в Москве слушают музыку жанра “world”,\n",
    "* в Петербурге — джаз и классику.\n",
    "\n",
    "Таким образом, вторая гипотеза подтвердилась лишь отчасти. Этот результат мог оказаться иным, если бы не пропуски в данных.\n",
    "\n",
    "3. Во вкусах пользователей Москвы и Петербурга больше общего чем различий. Вопреки ожиданиям, предпочтения жанров в Петербурге напоминают московские.\n",
    "\n",
    "Третья гипотеза не подтвердилась. Если различия в предпочтениях и существуют, на основной массе пользователей они незаметны.\n",
    "\n",
    "**На практике исследования содержат проверки статистических гипотез.**\n",
    "Из данных одного сервиса не всегда можно сделать вывод о всех жителях города.\n",
    "Проверки статистических гипотез покажут, насколько они достоверны, исходя из имеющихся данных. \n",
    "С методами проверок гипотез вы ещё познакомитесь в следующих темах."
   ]
  }
 ],
 "metadata": {
  "ExecuteTimeLog": [
   {
    "duration": 494,
    "start_time": "2022-04-19T14:08:08.974Z"
   },
   {
    "duration": 171,
    "start_time": "2022-04-19T14:08:09.470Z"
   },
   {
    "duration": 3,
    "start_time": "2022-04-19T14:08:39.444Z"
   },
   {
    "duration": 195,
    "start_time": "2022-04-19T14:08:39.449Z"
   },
   {
    "duration": 19,
    "start_time": "2022-04-19T14:08:39.646Z"
   },
   {
    "duration": 3,
    "start_time": "2022-04-19T14:08:50.964Z"
   },
   {
    "duration": 166,
    "start_time": "2022-04-19T14:08:50.979Z"
   },
   {
    "duration": 11,
    "start_time": "2022-04-19T14:08:51.147Z"
   },
   {
    "duration": 2,
    "start_time": "2022-04-19T14:10:25.755Z"
   },
   {
    "duration": 177,
    "start_time": "2022-04-19T14:10:25.759Z"
   },
   {
    "duration": 11,
    "start_time": "2022-04-19T14:10:25.938Z"
   },
   {
    "duration": 42,
    "start_time": "2022-04-19T14:10:25.951Z"
   },
   {
    "duration": 4,
    "start_time": "2022-04-19T14:27:48.865Z"
   },
   {
    "duration": 5,
    "start_time": "2022-04-19T14:28:08.344Z"
   },
   {
    "duration": 4,
    "start_time": "2022-04-19T14:28:11.552Z"
   },
   {
    "duration": 4,
    "start_time": "2022-04-19T14:28:12.086Z"
   },
   {
    "duration": 4,
    "start_time": "2022-04-19T14:28:12.426Z"
   },
   {
    "duration": 5,
    "start_time": "2022-04-19T14:28:12.774Z"
   },
   {
    "duration": 5,
    "start_time": "2022-04-19T14:28:13.024Z"
   },
   {
    "duration": 4,
    "start_time": "2022-04-19T14:28:13.412Z"
   },
   {
    "duration": 4,
    "start_time": "2022-04-19T14:28:14.304Z"
   },
   {
    "duration": 68,
    "start_time": "2022-04-19T14:28:23.904Z"
   },
   {
    "duration": 4,
    "start_time": "2022-04-19T14:28:31.364Z"
   },
   {
    "duration": 4,
    "start_time": "2022-04-19T14:29:20.292Z"
   },
   {
    "duration": 11,
    "start_time": "2022-04-19T14:34:51.605Z"
   },
   {
    "duration": 8,
    "start_time": "2022-04-19T14:34:58.305Z"
   },
   {
    "duration": 8,
    "start_time": "2022-04-19T14:35:02.286Z"
   },
   {
    "duration": 4,
    "start_time": "2022-04-19T14:35:05.006Z"
   },
   {
    "duration": 110,
    "start_time": "2022-04-19T14:35:09.854Z"
   },
   {
    "duration": 8,
    "start_time": "2022-04-19T14:36:33.852Z"
   },
   {
    "duration": 4,
    "start_time": "2022-04-19T14:36:37.012Z"
   },
   {
    "duration": 29,
    "start_time": "2022-04-19T14:47:03.284Z"
   },
   {
    "duration": 29,
    "start_time": "2022-04-19T14:47:25.241Z"
   },
   {
    "duration": 29,
    "start_time": "2022-04-19T14:47:28.944Z"
   },
   {
    "duration": 9,
    "start_time": "2022-04-19T15:21:18.385Z"
   },
   {
    "duration": 154,
    "start_time": "2022-04-19T15:29:59.595Z"
   },
   {
    "duration": 21,
    "start_time": "2022-04-19T15:30:35.964Z"
   },
   {
    "duration": 2,
    "start_time": "2022-04-19T15:31:08.524Z"
   },
   {
    "duration": 164,
    "start_time": "2022-04-19T15:31:08.528Z"
   },
   {
    "duration": 11,
    "start_time": "2022-04-19T15:31:08.694Z"
   },
   {
    "duration": 41,
    "start_time": "2022-04-19T15:31:08.707Z"
   },
   {
    "duration": 4,
    "start_time": "2022-04-19T15:31:08.750Z"
   },
   {
    "duration": 11,
    "start_time": "2022-04-19T15:31:08.755Z"
   },
   {
    "duration": 4,
    "start_time": "2022-04-19T15:31:08.767Z"
   },
   {
    "duration": 45,
    "start_time": "2022-04-19T15:31:08.773Z"
   },
   {
    "duration": 22,
    "start_time": "2022-04-19T15:31:08.820Z"
   },
   {
    "duration": 50,
    "start_time": "2022-04-19T15:31:08.844Z"
   },
   {
    "duration": 115,
    "start_time": "2022-04-19T15:35:21.904Z"
   },
   {
    "duration": 112,
    "start_time": "2022-04-19T15:35:39.328Z"
   },
   {
    "duration": 84,
    "start_time": "2022-04-19T15:37:48.723Z"
   },
   {
    "duration": 80,
    "start_time": "2022-04-19T15:38:10.583Z"
   },
   {
    "duration": 68,
    "start_time": "2022-04-19T15:38:48.065Z"
   },
   {
    "duration": 8,
    "start_time": "2022-04-19T15:40:52.545Z"
   },
   {
    "duration": 9,
    "start_time": "2022-04-19T15:41:05.052Z"
   },
   {
    "duration": 11,
    "start_time": "2022-04-19T15:41:36.103Z"
   },
   {
    "duration": 9,
    "start_time": "2022-04-19T15:41:42.664Z"
   },
   {
    "duration": 10,
    "start_time": "2022-04-19T15:41:45.910Z"
   },
   {
    "duration": 45,
    "start_time": "2022-04-19T16:06:15.164Z"
   },
   {
    "duration": 3,
    "start_time": "2022-04-19T16:14:24.572Z"
   },
   {
    "duration": 27,
    "start_time": "2022-04-19T16:16:29.304Z"
   },
   {
    "duration": 44,
    "start_time": "2022-04-19T16:17:33.224Z"
   },
   {
    "duration": 487,
    "start_time": "2022-04-20T05:42:58.897Z"
   },
   {
    "duration": 212,
    "start_time": "2022-04-20T05:42:59.387Z"
   },
   {
    "duration": 29,
    "start_time": "2022-04-20T05:42:59.601Z"
   },
   {
    "duration": 65,
    "start_time": "2022-04-20T05:42:59.634Z"
   },
   {
    "duration": 6,
    "start_time": "2022-04-20T05:42:59.702Z"
   },
   {
    "duration": 50,
    "start_time": "2022-04-20T05:42:59.712Z"
   },
   {
    "duration": 7,
    "start_time": "2022-04-20T05:42:59.766Z"
   },
   {
    "duration": 35,
    "start_time": "2022-04-20T05:42:59.775Z"
   },
   {
    "duration": 57,
    "start_time": "2022-04-20T05:42:59.812Z"
   },
   {
    "duration": 37,
    "start_time": "2022-04-20T05:42:59.872Z"
   },
   {
    "duration": 128,
    "start_time": "2022-04-20T05:42:59.912Z"
   },
   {
    "duration": 140,
    "start_time": "2022-04-20T05:43:00.042Z"
   },
   {
    "duration": 109,
    "start_time": "2022-04-20T05:43:00.184Z"
   },
   {
    "duration": 68,
    "start_time": "2022-04-20T05:43:00.296Z"
   },
   {
    "duration": 6,
    "start_time": "2022-04-20T05:43:00.367Z"
   },
   {
    "duration": 50,
    "start_time": "2022-04-20T05:43:00.376Z"
   },
   {
    "duration": 78,
    "start_time": "2022-04-20T05:43:00.428Z"
   },
   {
    "duration": 110,
    "start_time": "2022-04-20T05:46:53.774Z"
   },
   {
    "duration": 3,
    "start_time": "2022-04-20T05:47:51.924Z"
   },
   {
    "duration": 6,
    "start_time": "2022-04-20T05:48:13.765Z"
   },
   {
    "duration": 38,
    "start_time": "2022-04-20T05:48:23.806Z"
   },
   {
    "duration": 43,
    "start_time": "2022-04-20T06:18:28.717Z"
   },
   {
    "duration": 50,
    "start_time": "2022-04-20T06:19:04.213Z"
   },
   {
    "duration": 6,
    "start_time": "2022-04-20T06:20:51.247Z"
   },
   {
    "duration": 5,
    "start_time": "2022-04-20T06:21:17.589Z"
   },
   {
    "duration": 47,
    "start_time": "2022-04-20T06:21:22.197Z"
   },
   {
    "duration": 16,
    "start_time": "2022-04-20T06:21:35.771Z"
   },
   {
    "duration": 52,
    "start_time": "2022-04-20T06:21:43.517Z"
   },
   {
    "duration": 5,
    "start_time": "2022-04-20T07:40:54.221Z"
   },
   {
    "duration": 5,
    "start_time": "2022-04-20T07:40:55.901Z"
   },
   {
    "duration": 23,
    "start_time": "2022-04-20T07:41:56.885Z"
   },
   {
    "duration": 5,
    "start_time": "2022-04-20T07:42:11.079Z"
   },
   {
    "duration": 23,
    "start_time": "2022-04-20T07:42:14.293Z"
   },
   {
    "duration": 18,
    "start_time": "2022-04-20T07:43:12.471Z"
   },
   {
    "duration": 19,
    "start_time": "2022-04-20T07:43:12.687Z"
   },
   {
    "duration": 22,
    "start_time": "2022-04-20T07:43:35.622Z"
   },
   {
    "duration": 23,
    "start_time": "2022-04-20T07:45:05.798Z"
   },
   {
    "duration": 9,
    "start_time": "2022-04-20T08:14:59.322Z"
   },
   {
    "duration": 27,
    "start_time": "2022-04-20T08:15:05.996Z"
   },
   {
    "duration": 22,
    "start_time": "2022-04-20T08:16:07.881Z"
   },
   {
    "duration": 21,
    "start_time": "2022-04-20T08:17:03.220Z"
   },
   {
    "duration": 59,
    "start_time": "2022-04-20T08:23:07.445Z"
   },
   {
    "duration": 27,
    "start_time": "2022-04-20T08:23:54.547Z"
   },
   {
    "duration": 28,
    "start_time": "2022-04-20T08:24:51.741Z"
   },
   {
    "duration": 25,
    "start_time": "2022-04-20T08:25:26.501Z"
   },
   {
    "duration": 22,
    "start_time": "2022-04-20T08:25:32.301Z"
   },
   {
    "duration": 3,
    "start_time": "2022-04-20T08:26:28.739Z"
   },
   {
    "duration": 332,
    "start_time": "2022-04-20T08:26:28.746Z"
   },
   {
    "duration": 22,
    "start_time": "2022-04-20T08:26:29.081Z"
   },
   {
    "duration": 86,
    "start_time": "2022-04-20T08:26:29.106Z"
   },
   {
    "duration": 15,
    "start_time": "2022-04-20T08:26:29.197Z"
   },
   {
    "duration": 45,
    "start_time": "2022-04-20T08:26:29.215Z"
   },
   {
    "duration": 23,
    "start_time": "2022-04-20T08:26:29.266Z"
   },
   {
    "duration": 87,
    "start_time": "2022-04-20T08:26:29.291Z"
   },
   {
    "duration": 38,
    "start_time": "2022-04-20T08:26:29.383Z"
   },
   {
    "duration": 62,
    "start_time": "2022-04-20T08:26:29.424Z"
   },
   {
    "duration": 165,
    "start_time": "2022-04-20T08:26:29.491Z"
   },
   {
    "duration": 181,
    "start_time": "2022-04-20T08:26:29.659Z"
   },
   {
    "duration": 145,
    "start_time": "2022-04-20T08:26:29.843Z"
   },
   {
    "duration": 105,
    "start_time": "2022-04-20T08:26:29.991Z"
   },
   {
    "duration": 4,
    "start_time": "2022-04-20T08:26:30.099Z"
   },
   {
    "duration": 115,
    "start_time": "2022-04-20T08:26:30.106Z"
   },
   {
    "duration": 90,
    "start_time": "2022-04-20T08:26:30.224Z"
   },
   {
    "duration": 88,
    "start_time": "2022-04-20T08:26:30.317Z"
   },
   {
    "duration": 95,
    "start_time": "2022-04-20T08:26:30.408Z"
   },
   {
    "duration": 8,
    "start_time": "2022-04-20T08:26:30.507Z"
   },
   {
    "duration": 172,
    "start_time": "2022-04-20T08:26:30.517Z"
   },
   {
    "duration": 93,
    "start_time": "2022-04-20T08:26:30.692Z"
   },
   {
    "duration": 50,
    "start_time": "2022-04-20T08:26:30.788Z"
   },
   {
    "duration": 58,
    "start_time": "2022-04-20T08:26:30.842Z"
   },
   {
    "duration": 76,
    "start_time": "2022-04-20T08:26:30.903Z"
   },
   {
    "duration": 62,
    "start_time": "2022-04-20T08:26:30.982Z"
   },
   {
    "duration": 19,
    "start_time": "2022-04-20T08:26:42.932Z"
   },
   {
    "duration": 19,
    "start_time": "2022-04-20T08:27:03.766Z"
   },
   {
    "duration": 19,
    "start_time": "2022-04-20T08:27:23.525Z"
   },
   {
    "duration": 22,
    "start_time": "2022-04-20T08:27:41.205Z"
   },
   {
    "duration": 30,
    "start_time": "2022-04-20T08:27:47.056Z"
   },
   {
    "duration": 24,
    "start_time": "2022-04-20T08:28:37.757Z"
   },
   {
    "duration": 32,
    "start_time": "2022-04-20T08:28:52.057Z"
   },
   {
    "duration": 26,
    "start_time": "2022-04-20T08:28:54.085Z"
   },
   {
    "duration": 9,
    "start_time": "2022-04-20T08:30:20.895Z"
   },
   {
    "duration": 9,
    "start_time": "2022-04-20T08:32:06.406Z"
   },
   {
    "duration": 39,
    "start_time": "2022-04-20T08:32:28.079Z"
   },
   {
    "duration": 47,
    "start_time": "2022-04-20T08:33:30.238Z"
   },
   {
    "duration": 75,
    "start_time": "2022-04-20T08:33:50.083Z"
   },
   {
    "duration": 142,
    "start_time": "2022-04-20T08:34:36.407Z"
   },
   {
    "duration": 158,
    "start_time": "2022-04-20T08:38:31.776Z"
   },
   {
    "duration": 147,
    "start_time": "2022-04-20T08:38:45.279Z"
   },
   {
    "duration": 114,
    "start_time": "2022-04-20T08:39:05.041Z"
   },
   {
    "duration": 165,
    "start_time": "2022-04-20T08:39:17.519Z"
   },
   {
    "duration": 166,
    "start_time": "2022-04-20T08:39:24.816Z"
   },
   {
    "duration": 114,
    "start_time": "2022-04-20T08:39:35.007Z"
   },
   {
    "duration": 9,
    "start_time": "2022-04-20T08:42:21.024Z"
   },
   {
    "duration": 215,
    "start_time": "2022-04-20T08:42:47.911Z"
   },
   {
    "duration": 34,
    "start_time": "2022-04-20T08:42:52.083Z"
   },
   {
    "duration": 27,
    "start_time": "2022-04-20T08:43:08.481Z"
   },
   {
    "duration": 20,
    "start_time": "2022-04-20T08:45:45.691Z"
   },
   {
    "duration": 28,
    "start_time": "2022-04-20T08:46:11.913Z"
   },
   {
    "duration": 11,
    "start_time": "2022-04-20T08:46:21.920Z"
   },
   {
    "duration": 12,
    "start_time": "2022-04-20T08:47:44.137Z"
   },
   {
    "duration": 18,
    "start_time": "2022-04-20T08:49:11.143Z"
   },
   {
    "duration": 15,
    "start_time": "2022-04-20T08:53:08.698Z"
   },
   {
    "duration": 9,
    "start_time": "2022-04-20T08:54:10.634Z"
   },
   {
    "duration": 22,
    "start_time": "2022-04-20T08:54:27.377Z"
   },
   {
    "duration": 34,
    "start_time": "2022-04-20T08:54:52.802Z"
   },
   {
    "duration": 33,
    "start_time": "2022-04-20T08:55:11.596Z"
   },
   {
    "duration": 51,
    "start_time": "2022-04-20T08:56:07.882Z"
   },
   {
    "duration": 57,
    "start_time": "2022-04-20T08:56:23.909Z"
   },
   {
    "duration": 31,
    "start_time": "2022-04-20T08:56:46.582Z"
   },
   {
    "duration": 21,
    "start_time": "2022-04-20T08:56:48.452Z"
   },
   {
    "duration": 7,
    "start_time": "2022-04-20T09:04:14.505Z"
   },
   {
    "duration": 12,
    "start_time": "2022-04-20T09:06:36.169Z"
   },
   {
    "duration": 181,
    "start_time": "2022-04-20T09:07:35.413Z"
   },
   {
    "duration": 7,
    "start_time": "2022-04-20T09:07:53.289Z"
   },
   {
    "duration": 5,
    "start_time": "2022-04-20T09:13:51.521Z"
   },
   {
    "duration": 6,
    "start_time": "2022-04-20T09:17:53.319Z"
   },
   {
    "duration": 7,
    "start_time": "2022-04-20T09:18:48.171Z"
   },
   {
    "duration": 28,
    "start_time": "2022-04-20T09:19:08.326Z"
   },
   {
    "duration": 6,
    "start_time": "2022-04-20T09:20:12.135Z"
   },
   {
    "duration": 40,
    "start_time": "2022-04-20T09:20:14.445Z"
   },
   {
    "duration": 16,
    "start_time": "2022-04-20T09:21:28.479Z"
   },
   {
    "duration": 28,
    "start_time": "2022-04-20T09:23:07.280Z"
   },
   {
    "duration": 16,
    "start_time": "2022-04-20T09:24:08.495Z"
   },
   {
    "duration": 9,
    "start_time": "2022-04-20T10:09:24.792Z"
   },
   {
    "duration": 45,
    "start_time": "2022-04-20T10:09:32.633Z"
   },
   {
    "duration": 40,
    "start_time": "2022-04-20T10:10:29.505Z"
   },
   {
    "duration": 38,
    "start_time": "2022-04-20T10:10:58.530Z"
   },
   {
    "duration": 12,
    "start_time": "2022-04-20T10:11:01.795Z"
   },
   {
    "duration": 58,
    "start_time": "2022-04-20T10:12:02.577Z"
   },
   {
    "duration": 94,
    "start_time": "2022-04-20T10:12:28.817Z"
   },
   {
    "duration": 62,
    "start_time": "2022-04-20T10:12:35.248Z"
   },
   {
    "duration": 41,
    "start_time": "2022-04-20T10:12:55.355Z"
   },
   {
    "duration": 13,
    "start_time": "2022-04-20T10:12:57.624Z"
   },
   {
    "duration": 33,
    "start_time": "2022-04-20T10:13:13.777Z"
   },
   {
    "duration": 13,
    "start_time": "2022-04-20T10:13:16.504Z"
   },
   {
    "duration": 19,
    "start_time": "2022-04-20T10:18:21.679Z"
   },
   {
    "duration": 20,
    "start_time": "2022-04-20T10:18:23.394Z"
   },
   {
    "duration": 12,
    "start_time": "2022-04-20T10:18:55.594Z"
   },
   {
    "duration": 165,
    "start_time": "2022-04-20T10:32:28.190Z"
   },
   {
    "duration": 15,
    "start_time": "2022-04-20T10:32:37.126Z"
   },
   {
    "duration": 32,
    "start_time": "2022-04-20T10:32:41.246Z"
   },
   {
    "duration": 14,
    "start_time": "2022-04-20T10:32:45.094Z"
   },
   {
    "duration": 12,
    "start_time": "2022-04-20T10:33:11.327Z"
   },
   {
    "duration": 41,
    "start_time": "2022-04-20T10:41:37.528Z"
   },
   {
    "duration": 34,
    "start_time": "2022-04-20T10:41:41.982Z"
   },
   {
    "duration": 70,
    "start_time": "2022-04-28T09:49:37.412Z"
   },
   {
    "duration": 628,
    "start_time": "2022-04-28T09:49:44.143Z"
   },
   {
    "duration": 201,
    "start_time": "2022-04-28T09:49:44.773Z"
   },
   {
    "duration": 27,
    "start_time": "2022-04-28T09:49:44.976Z"
   },
   {
    "duration": 15,
    "start_time": "2022-04-28T09:49:45.005Z"
   },
   {
    "duration": 61,
    "start_time": "2022-04-28T09:49:45.023Z"
   },
   {
    "duration": 6,
    "start_time": "2022-04-28T09:49:45.087Z"
   },
   {
    "duration": 20,
    "start_time": "2022-04-28T09:49:45.095Z"
   },
   {
    "duration": 36,
    "start_time": "2022-04-28T09:49:45.117Z"
   },
   {
    "duration": 53,
    "start_time": "2022-04-28T09:49:45.156Z"
   },
   {
    "duration": 59,
    "start_time": "2022-04-28T09:49:45.211Z"
   },
   {
    "duration": 53,
    "start_time": "2022-04-28T09:49:45.273Z"
   },
   {
    "duration": 111,
    "start_time": "2022-04-28T09:49:45.328Z"
   },
   {
    "duration": 119,
    "start_time": "2022-04-28T09:49:45.451Z"
   },
   {
    "duration": 103,
    "start_time": "2022-04-28T09:49:45.578Z"
   },
   {
    "duration": 70,
    "start_time": "2022-04-28T09:49:45.683Z"
   },
   {
    "duration": 6,
    "start_time": "2022-04-28T09:49:45.755Z"
   },
   {
    "duration": 39,
    "start_time": "2022-04-28T09:49:45.763Z"
   },
   {
    "duration": 75,
    "start_time": "2022-04-28T09:49:45.804Z"
   },
   {
    "duration": 50,
    "start_time": "2022-04-28T09:49:45.881Z"
   },
   {
    "duration": 49,
    "start_time": "2022-04-28T09:49:45.951Z"
   },
   {
    "duration": 5,
    "start_time": "2022-04-28T09:49:46.002Z"
   },
   {
    "duration": 46,
    "start_time": "2022-04-28T09:49:46.009Z"
   },
   {
    "duration": 20,
    "start_time": "2022-04-28T09:49:46.057Z"
   },
   {
    "duration": 20,
    "start_time": "2022-04-28T09:49:46.079Z"
   },
   {
    "duration": 18,
    "start_time": "2022-04-28T09:49:46.101Z"
   },
   {
    "duration": 23,
    "start_time": "2022-04-28T09:49:46.152Z"
   },
   {
    "duration": 19,
    "start_time": "2022-04-28T09:49:46.176Z"
   },
   {
    "duration": 15,
    "start_time": "2022-04-28T09:49:46.198Z"
   },
   {
    "duration": 55,
    "start_time": "2022-04-28T09:49:46.215Z"
   },
   {
    "duration": 20,
    "start_time": "2022-04-28T09:49:46.272Z"
   },
   {
    "duration": 8,
    "start_time": "2022-04-28T09:49:46.295Z"
   },
   {
    "duration": 64,
    "start_time": "2022-04-28T09:49:46.305Z"
   },
   {
    "duration": 21,
    "start_time": "2022-04-28T09:49:46.371Z"
   },
   {
    "duration": 29,
    "start_time": "2022-04-28T09:49:46.394Z"
   },
   {
    "duration": 44,
    "start_time": "2022-04-28T09:49:46.426Z"
   },
   {
    "duration": 49,
    "start_time": "2022-04-28T09:49:46.473Z"
   },
   {
    "duration": 35,
    "start_time": "2022-04-28T09:49:46.524Z"
   },
   {
    "duration": 18,
    "start_time": "2022-04-28T09:49:46.561Z"
   },
   {
    "duration": 12,
    "start_time": "2022-04-28T09:49:46.581Z"
   },
   {
    "duration": 395,
    "start_time": "2022-05-05T14:24:24.911Z"
   },
   {
    "duration": 161,
    "start_time": "2022-05-05T14:24:25.309Z"
   },
   {
    "duration": 25,
    "start_time": "2022-05-05T14:24:44.462Z"
   },
   {
    "duration": 5,
    "start_time": "2022-05-05T14:25:07.320Z"
   },
   {
    "duration": 3,
    "start_time": "2022-05-05T14:28:40.684Z"
   },
   {
    "duration": 155,
    "start_time": "2022-05-05T14:28:40.721Z"
   },
   {
    "duration": 12,
    "start_time": "2022-05-05T14:28:40.878Z"
   },
   {
    "duration": 13,
    "start_time": "2022-05-05T14:28:40.891Z"
   },
   {
    "duration": 38,
    "start_time": "2022-05-05T14:28:40.906Z"
   },
   {
    "duration": 4,
    "start_time": "2022-05-05T14:28:40.946Z"
   },
   {
    "duration": 11,
    "start_time": "2022-05-05T14:28:40.972Z"
   },
   {
    "duration": 6,
    "start_time": "2022-05-05T14:28:40.985Z"
   },
   {
    "duration": 34,
    "start_time": "2022-05-05T14:28:41.010Z"
   },
   {
    "duration": 22,
    "start_time": "2022-05-05T14:28:41.057Z"
   },
   {
    "duration": 34,
    "start_time": "2022-05-05T14:28:41.095Z"
   },
   {
    "duration": 72,
    "start_time": "2022-05-05T14:28:41.131Z"
   },
   {
    "duration": 90,
    "start_time": "2022-05-05T14:28:41.205Z"
   },
   {
    "duration": 60,
    "start_time": "2022-05-05T14:28:41.297Z"
   },
   {
    "duration": 61,
    "start_time": "2022-05-05T14:28:41.359Z"
   },
   {
    "duration": 3,
    "start_time": "2022-05-05T14:28:41.422Z"
   },
   {
    "duration": 23,
    "start_time": "2022-05-05T14:28:41.426Z"
   },
   {
    "duration": 47,
    "start_time": "2022-05-05T14:28:41.451Z"
   },
   {
    "duration": 40,
    "start_time": "2022-05-05T14:28:41.500Z"
   },
   {
    "duration": 56,
    "start_time": "2022-05-05T14:28:41.542Z"
   },
   {
    "duration": 3,
    "start_time": "2022-05-05T14:28:41.600Z"
   },
   {
    "duration": 37,
    "start_time": "2022-05-05T14:28:41.605Z"
   },
   {
    "duration": 29,
    "start_time": "2022-05-05T14:28:41.644Z"
   },
   {
    "duration": 17,
    "start_time": "2022-05-05T14:28:41.675Z"
   },
   {
    "duration": 14,
    "start_time": "2022-05-05T14:28:41.694Z"
   },
   {
    "duration": 17,
    "start_time": "2022-05-05T14:28:41.711Z"
   },
   {
    "duration": 48,
    "start_time": "2022-05-05T14:28:41.730Z"
   },
   {
    "duration": 8,
    "start_time": "2022-05-05T14:28:41.780Z"
   },
   {
    "duration": 16,
    "start_time": "2022-05-05T14:28:41.822Z"
   },
   {
    "duration": 12,
    "start_time": "2022-05-05T14:28:41.846Z"
   },
   {
    "duration": 5,
    "start_time": "2022-05-05T14:28:41.887Z"
   },
   {
    "duration": 22,
    "start_time": "2022-05-05T14:28:41.916Z"
   },
   {
    "duration": 14,
    "start_time": "2022-05-05T14:28:41.940Z"
   },
   {
    "duration": 17,
    "start_time": "2022-05-05T14:28:41.961Z"
   },
   {
    "duration": 12,
    "start_time": "2022-05-05T14:28:41.989Z"
   },
   {
    "duration": 28,
    "start_time": "2022-05-05T14:28:42.026Z"
   },
   {
    "duration": 8,
    "start_time": "2022-05-05T14:28:42.083Z"
   },
   {
    "duration": 18,
    "start_time": "2022-05-05T14:28:42.109Z"
   },
   {
    "duration": 8,
    "start_time": "2022-05-05T14:28:42.170Z"
   },
   {
    "duration": 3,
    "start_time": "2022-05-05T14:30:46.885Z"
   },
   {
    "duration": 173,
    "start_time": "2022-05-05T14:30:46.910Z"
   },
   {
    "duration": 11,
    "start_time": "2022-05-05T14:30:47.085Z"
   },
   {
    "duration": 11,
    "start_time": "2022-05-05T14:30:47.098Z"
   },
   {
    "duration": 42,
    "start_time": "2022-05-05T14:30:47.111Z"
   },
   {
    "duration": 4,
    "start_time": "2022-05-05T14:30:47.174Z"
   },
   {
    "duration": 12,
    "start_time": "2022-05-05T14:30:47.180Z"
   },
   {
    "duration": 4,
    "start_time": "2022-05-05T14:30:47.195Z"
   },
   {
    "duration": 36,
    "start_time": "2022-05-05T14:30:47.201Z"
   },
   {
    "duration": 52,
    "start_time": "2022-05-05T14:30:47.238Z"
   },
   {
    "duration": 33,
    "start_time": "2022-05-05T14:30:47.292Z"
   },
   {
    "duration": 91,
    "start_time": "2022-05-05T14:30:47.326Z"
   },
   {
    "duration": 79,
    "start_time": "2022-05-05T14:30:47.419Z"
   },
   {
    "duration": 58,
    "start_time": "2022-05-05T14:30:47.500Z"
   },
   {
    "duration": 49,
    "start_time": "2022-05-05T14:30:47.559Z"
   },
   {
    "duration": 2,
    "start_time": "2022-05-05T14:47:54.293Z"
   },
   {
    "duration": 165,
    "start_time": "2022-05-05T14:47:54.325Z"
   },
   {
    "duration": 10,
    "start_time": "2022-05-05T14:47:54.493Z"
   },
   {
    "duration": 11,
    "start_time": "2022-05-05T14:47:54.505Z"
   },
   {
    "duration": 38,
    "start_time": "2022-05-05T14:47:54.518Z"
   },
   {
    "duration": 13,
    "start_time": "2022-05-05T14:47:54.573Z"
   },
   {
    "duration": 12,
    "start_time": "2022-05-05T14:47:54.589Z"
   },
   {
    "duration": 7,
    "start_time": "2022-05-05T14:47:54.603Z"
   },
   {
    "duration": 33,
    "start_time": "2022-05-05T14:47:54.612Z"
   },
   {
    "duration": 44,
    "start_time": "2022-05-05T14:47:54.647Z"
   },
   {
    "duration": 33,
    "start_time": "2022-05-05T14:47:54.693Z"
   },
   {
    "duration": 91,
    "start_time": "2022-05-05T14:47:54.728Z"
   },
   {
    "duration": 83,
    "start_time": "2022-05-05T14:47:54.821Z"
   },
   {
    "duration": 56,
    "start_time": "2022-05-05T14:47:54.905Z"
   },
   {
    "duration": 42,
    "start_time": "2022-05-05T14:47:54.986Z"
   },
   {
    "duration": 4,
    "start_time": "2022-05-05T14:47:55.030Z"
   },
   {
    "duration": 15,
    "start_time": "2022-05-05T14:47:55.035Z"
   },
   {
    "duration": 54,
    "start_time": "2022-05-05T14:47:55.052Z"
   },
   {
    "duration": 2,
    "start_time": "2022-05-05T14:48:13.796Z"
   },
   {
    "duration": 179,
    "start_time": "2022-05-05T14:48:13.800Z"
   },
   {
    "duration": 11,
    "start_time": "2022-05-05T14:48:13.981Z"
   },
   {
    "duration": 17,
    "start_time": "2022-05-05T14:48:13.995Z"
   },
   {
    "duration": 59,
    "start_time": "2022-05-05T14:48:14.015Z"
   },
   {
    "duration": 4,
    "start_time": "2022-05-05T14:48:14.076Z"
   },
   {
    "duration": 11,
    "start_time": "2022-05-05T14:48:14.082Z"
   },
   {
    "duration": 5,
    "start_time": "2022-05-05T14:48:14.095Z"
   },
   {
    "duration": 46,
    "start_time": "2022-05-05T14:48:14.102Z"
   },
   {
    "duration": 22,
    "start_time": "2022-05-05T14:48:14.174Z"
   },
   {
    "duration": 33,
    "start_time": "2022-05-05T14:48:14.198Z"
   },
   {
    "duration": 85,
    "start_time": "2022-05-05T14:48:14.233Z"
   },
   {
    "duration": 86,
    "start_time": "2022-05-05T14:48:14.320Z"
   },
   {
    "duration": 71,
    "start_time": "2022-05-05T14:48:14.408Z"
   },
   {
    "duration": 40,
    "start_time": "2022-05-05T14:48:14.481Z"
   },
   {
    "duration": 3,
    "start_time": "2022-05-05T14:48:14.524Z"
   },
   {
    "duration": 12,
    "start_time": "2022-05-05T14:48:14.528Z"
   },
   {
    "duration": 62,
    "start_time": "2022-05-05T14:48:14.542Z"
   },
   {
    "duration": 13,
    "start_time": "2022-05-05T14:48:14.606Z"
   },
   {
    "duration": 40,
    "start_time": "2022-05-05T14:48:42.247Z"
   },
   {
    "duration": 12,
    "start_time": "2022-05-05T14:49:04.981Z"
   },
   {
    "duration": 13,
    "start_time": "2022-05-05T14:49:19.455Z"
   },
   {
    "duration": 14,
    "start_time": "2022-05-05T14:49:32.229Z"
   },
   {
    "duration": 14,
    "start_time": "2022-05-05T14:54:44.373Z"
   },
   {
    "duration": 3,
    "start_time": "2022-05-05T14:56:56.794Z"
   },
   {
    "duration": 160,
    "start_time": "2022-05-05T14:56:56.820Z"
   },
   {
    "duration": 11,
    "start_time": "2022-05-05T14:56:56.982Z"
   },
   {
    "duration": 14,
    "start_time": "2022-05-05T14:56:56.995Z"
   },
   {
    "duration": 41,
    "start_time": "2022-05-05T14:56:57.011Z"
   },
   {
    "duration": 4,
    "start_time": "2022-05-05T14:56:57.074Z"
   },
   {
    "duration": 14,
    "start_time": "2022-05-05T14:56:57.080Z"
   },
   {
    "duration": 7,
    "start_time": "2022-05-05T14:56:57.097Z"
   },
   {
    "duration": 36,
    "start_time": "2022-05-05T14:56:57.106Z"
   },
   {
    "duration": 48,
    "start_time": "2022-05-05T14:56:57.145Z"
   },
   {
    "duration": 34,
    "start_time": "2022-05-05T14:56:57.195Z"
   },
   {
    "duration": 88,
    "start_time": "2022-05-05T14:56:57.230Z"
   },
   {
    "duration": 94,
    "start_time": "2022-05-05T14:56:57.320Z"
   },
   {
    "duration": 77,
    "start_time": "2022-05-05T14:56:57.416Z"
   },
   {
    "duration": 40,
    "start_time": "2022-05-05T14:56:57.495Z"
   },
   {
    "duration": 4,
    "start_time": "2022-05-05T14:56:57.537Z"
   },
   {
    "duration": 37,
    "start_time": "2022-05-05T14:56:57.542Z"
   },
   {
    "duration": 41,
    "start_time": "2022-05-05T14:56:57.582Z"
   },
   {
    "duration": 14,
    "start_time": "2022-05-05T14:56:57.625Z"
   },
   {
    "duration": 44,
    "start_time": "2022-05-05T14:56:57.641Z"
   },
   {
    "duration": 5,
    "start_time": "2022-05-05T14:56:57.686Z"
   },
   {
    "duration": 35,
    "start_time": "2022-05-05T14:56:57.694Z"
   },
   {
    "duration": 43,
    "start_time": "2022-05-05T14:56:57.731Z"
   },
   {
    "duration": 17,
    "start_time": "2022-05-05T14:56:57.776Z"
   },
   {
    "duration": 16,
    "start_time": "2022-05-05T14:56:57.795Z"
   },
   {
    "duration": 20,
    "start_time": "2022-05-05T14:56:57.814Z"
   },
   {
    "duration": 46,
    "start_time": "2022-05-05T14:56:57.836Z"
   },
   {
    "duration": 8,
    "start_time": "2022-05-05T14:56:57.884Z"
   },
   {
    "duration": 20,
    "start_time": "2022-05-05T14:56:57.894Z"
   },
   {
    "duration": 14,
    "start_time": "2022-05-05T14:56:57.916Z"
   },
   {
    "duration": 5,
    "start_time": "2022-05-05T14:56:57.931Z"
   },
   {
    "duration": 53,
    "start_time": "2022-05-05T14:56:57.938Z"
   },
   {
    "duration": 14,
    "start_time": "2022-05-05T14:56:57.993Z"
   },
   {
    "duration": 23,
    "start_time": "2022-05-05T14:56:58.009Z"
   },
   {
    "duration": 43,
    "start_time": "2022-05-05T14:56:58.034Z"
   },
   {
    "duration": 31,
    "start_time": "2022-05-05T14:56:58.079Z"
   },
   {
    "duration": 5,
    "start_time": "2022-05-05T14:56:58.111Z"
   },
   {
    "duration": 5,
    "start_time": "2022-05-05T14:57:32.534Z"
   },
   {
    "duration": 62,
    "start_time": "2022-05-05T16:10:27.338Z"
   },
   {
    "duration": 13,
    "start_time": "2022-05-05T16:10:36.769Z"
   },
   {
    "duration": 13,
    "start_time": "2022-05-05T16:11:29.263Z"
   },
   {
    "duration": 14,
    "start_time": "2022-05-05T16:11:36.521Z"
   },
   {
    "duration": 14,
    "start_time": "2022-05-05T16:21:35.097Z"
   },
   {
    "duration": 13,
    "start_time": "2022-05-05T16:21:45.573Z"
   },
   {
    "duration": 4,
    "start_time": "2022-05-05T16:26:55.032Z"
   },
   {
    "duration": 164,
    "start_time": "2022-05-05T16:26:55.072Z"
   },
   {
    "duration": 11,
    "start_time": "2022-05-05T16:26:55.238Z"
   },
   {
    "duration": 22,
    "start_time": "2022-05-05T16:26:55.251Z"
   },
   {
    "duration": 41,
    "start_time": "2022-05-05T16:26:55.275Z"
   },
   {
    "duration": 4,
    "start_time": "2022-05-05T16:26:55.318Z"
   },
   {
    "duration": 9,
    "start_time": "2022-05-05T16:26:55.324Z"
   },
   {
    "duration": 4,
    "start_time": "2022-05-05T16:26:55.347Z"
   },
   {
    "duration": 33,
    "start_time": "2022-05-05T16:26:55.392Z"
   },
   {
    "duration": 21,
    "start_time": "2022-05-05T16:26:55.436Z"
   },
   {
    "duration": 34,
    "start_time": "2022-05-05T16:26:55.479Z"
   },
   {
    "duration": 65,
    "start_time": "2022-05-05T16:26:55.545Z"
   },
   {
    "duration": 83,
    "start_time": "2022-05-05T16:26:55.612Z"
   },
   {
    "duration": 61,
    "start_time": "2022-05-05T16:26:55.697Z"
   },
   {
    "duration": 42,
    "start_time": "2022-05-05T16:26:55.774Z"
   },
   {
    "duration": 3,
    "start_time": "2022-05-05T16:26:55.819Z"
   },
   {
    "duration": 9,
    "start_time": "2022-05-05T16:26:55.833Z"
   },
   {
    "duration": 43,
    "start_time": "2022-05-05T16:26:55.879Z"
   },
   {
    "duration": 14,
    "start_time": "2022-05-05T16:26:55.944Z"
   },
   {
    "duration": 13,
    "start_time": "2022-05-05T16:26:55.988Z"
   },
   {
    "duration": 4,
    "start_time": "2022-05-05T16:26:56.036Z"
   },
   {
    "duration": 20,
    "start_time": "2022-05-05T16:26:56.075Z"
   },
   {
    "duration": 15,
    "start_time": "2022-05-05T16:26:56.106Z"
   },
   {
    "duration": 17,
    "start_time": "2022-05-05T16:26:56.137Z"
   },
   {
    "duration": 20,
    "start_time": "2022-05-05T16:26:56.163Z"
   },
   {
    "duration": 26,
    "start_time": "2022-05-05T16:26:56.192Z"
   },
   {
    "duration": 23,
    "start_time": "2022-05-05T16:26:56.227Z"
   },
   {
    "duration": 12,
    "start_time": "2022-05-05T16:26:56.281Z"
   },
   {
    "duration": 24,
    "start_time": "2022-05-05T16:26:56.322Z"
   },
   {
    "duration": 19,
    "start_time": "2022-05-05T16:26:56.376Z"
   },
   {
    "duration": 6,
    "start_time": "2022-05-05T16:26:56.414Z"
   },
   {
    "duration": 2,
    "start_time": "2022-05-05T16:27:23.143Z"
   },
   {
    "duration": 160,
    "start_time": "2022-05-05T16:27:23.171Z"
   },
   {
    "duration": 12,
    "start_time": "2022-05-05T16:27:23.333Z"
   },
   {
    "duration": 15,
    "start_time": "2022-05-05T16:27:23.346Z"
   },
   {
    "duration": 49,
    "start_time": "2022-05-05T16:27:23.363Z"
   },
   {
    "duration": 3,
    "start_time": "2022-05-05T16:27:23.414Z"
   },
   {
    "duration": 11,
    "start_time": "2022-05-05T16:27:23.419Z"
   },
   {
    "duration": 7,
    "start_time": "2022-05-05T16:27:23.433Z"
   },
   {
    "duration": 61,
    "start_time": "2022-05-05T16:27:23.442Z"
   },
   {
    "duration": 24,
    "start_time": "2022-05-05T16:27:23.505Z"
   },
   {
    "duration": 54,
    "start_time": "2022-05-05T16:27:23.531Z"
   },
   {
    "duration": 64,
    "start_time": "2022-05-05T16:27:23.587Z"
   },
   {
    "duration": 96,
    "start_time": "2022-05-05T16:27:23.653Z"
   },
   {
    "duration": 73,
    "start_time": "2022-05-05T16:27:23.750Z"
   },
   {
    "duration": 56,
    "start_time": "2022-05-05T16:27:23.826Z"
   },
   {
    "duration": 3,
    "start_time": "2022-05-05T16:27:23.884Z"
   },
   {
    "duration": 17,
    "start_time": "2022-05-05T16:27:23.889Z"
   },
   {
    "duration": 78,
    "start_time": "2022-05-05T16:27:23.908Z"
   },
   {
    "duration": 21,
    "start_time": "2022-05-05T16:27:23.987Z"
   },
   {
    "duration": 18,
    "start_time": "2022-05-05T16:27:24.010Z"
   },
   {
    "duration": 5,
    "start_time": "2022-05-05T16:27:24.029Z"
   },
   {
    "duration": 46,
    "start_time": "2022-05-05T16:27:24.037Z"
   },
   {
    "duration": 16,
    "start_time": "2022-05-05T16:27:24.085Z"
   },
   {
    "duration": 16,
    "start_time": "2022-05-05T16:27:24.103Z"
   },
   {
    "duration": 15,
    "start_time": "2022-05-05T16:27:24.120Z"
   },
   {
    "duration": 50,
    "start_time": "2022-05-05T16:27:24.137Z"
   },
   {
    "duration": 17,
    "start_time": "2022-05-05T16:27:24.189Z"
   },
   {
    "duration": 8,
    "start_time": "2022-05-05T16:27:24.208Z"
   },
   {
    "duration": 21,
    "start_time": "2022-05-05T16:27:24.219Z"
   },
   {
    "duration": 39,
    "start_time": "2022-05-05T16:27:24.242Z"
   },
   {
    "duration": 3,
    "start_time": "2022-05-05T16:28:58.643Z"
   },
   {
    "duration": 150,
    "start_time": "2022-05-05T16:28:58.666Z"
   },
   {
    "duration": 12,
    "start_time": "2022-05-05T16:28:58.818Z"
   },
   {
    "duration": 21,
    "start_time": "2022-05-05T16:28:58.832Z"
   },
   {
    "duration": 61,
    "start_time": "2022-05-05T16:28:58.855Z"
   },
   {
    "duration": 5,
    "start_time": "2022-05-05T16:28:58.918Z"
   },
   {
    "duration": 14,
    "start_time": "2022-05-05T16:28:58.925Z"
   },
   {
    "duration": 9,
    "start_time": "2022-05-05T16:28:58.941Z"
   },
   {
    "duration": 43,
    "start_time": "2022-05-05T16:28:58.952Z"
   },
   {
    "duration": 21,
    "start_time": "2022-05-05T16:28:58.997Z"
   },
   {
    "duration": 53,
    "start_time": "2022-05-05T16:28:59.020Z"
   },
   {
    "duration": 65,
    "start_time": "2022-05-05T16:28:59.075Z"
   },
   {
    "duration": 92,
    "start_time": "2022-05-05T16:28:59.142Z"
   },
   {
    "duration": 66,
    "start_time": "2022-05-05T16:28:59.236Z"
   },
   {
    "duration": 41,
    "start_time": "2022-05-05T16:28:59.304Z"
   },
   {
    "duration": 4,
    "start_time": "2022-05-05T16:28:59.347Z"
   },
   {
    "duration": 11,
    "start_time": "2022-05-05T16:28:59.374Z"
   },
   {
    "duration": 52,
    "start_time": "2022-05-05T16:28:59.387Z"
   },
   {
    "duration": 13,
    "start_time": "2022-05-05T16:28:59.441Z"
   },
   {
    "duration": 28,
    "start_time": "2022-05-05T16:28:59.457Z"
   },
   {
    "duration": 4,
    "start_time": "2022-05-05T16:28:59.488Z"
   },
   {
    "duration": 36,
    "start_time": "2022-05-05T16:28:59.494Z"
   },
   {
    "duration": 16,
    "start_time": "2022-05-05T16:28:59.532Z"
   },
   {
    "duration": 53,
    "start_time": "2022-05-05T16:28:59.550Z"
   },
   {
    "duration": 23,
    "start_time": "2022-05-05T16:28:59.605Z"
   },
   {
    "duration": 30,
    "start_time": "2022-05-05T16:28:59.629Z"
   },
   {
    "duration": 19,
    "start_time": "2022-05-05T16:28:59.661Z"
   },
   {
    "duration": 8,
    "start_time": "2022-05-05T16:28:59.682Z"
   },
   {
    "duration": 35,
    "start_time": "2022-05-05T16:28:59.696Z"
   },
   {
    "duration": 24,
    "start_time": "2022-05-05T16:28:59.733Z"
   },
   {
    "duration": 12,
    "start_time": "2022-05-05T16:28:59.760Z"
   },
   {
    "duration": 31,
    "start_time": "2022-05-05T16:28:59.798Z"
   },
   {
    "duration": 3,
    "start_time": "2022-05-05T16:29:22.445Z"
   },
   {
    "duration": 159,
    "start_time": "2022-05-05T16:29:22.491Z"
   },
   {
    "duration": 11,
    "start_time": "2022-05-05T16:29:22.652Z"
   },
   {
    "duration": 14,
    "start_time": "2022-05-05T16:29:22.665Z"
   },
   {
    "duration": 41,
    "start_time": "2022-05-05T16:29:22.681Z"
   },
   {
    "duration": 6,
    "start_time": "2022-05-05T16:29:22.724Z"
   },
   {
    "duration": 10,
    "start_time": "2022-05-05T16:29:22.732Z"
   },
   {
    "duration": 4,
    "start_time": "2022-05-05T16:29:22.755Z"
   },
   {
    "duration": 33,
    "start_time": "2022-05-05T16:29:22.785Z"
   },
   {
    "duration": 21,
    "start_time": "2022-05-05T16:29:22.831Z"
   },
   {
    "duration": 33,
    "start_time": "2022-05-05T16:29:22.860Z"
   },
   {
    "duration": 77,
    "start_time": "2022-05-05T16:29:22.896Z"
   },
   {
    "duration": 78,
    "start_time": "2022-05-05T16:29:22.976Z"
   },
   {
    "duration": 74,
    "start_time": "2022-05-05T16:29:23.057Z"
   },
   {
    "duration": 63,
    "start_time": "2022-05-05T16:29:23.133Z"
   },
   {
    "duration": 2,
    "start_time": "2022-05-05T16:29:23.198Z"
   },
   {
    "duration": 12,
    "start_time": "2022-05-05T16:29:23.202Z"
   },
   {
    "duration": 59,
    "start_time": "2022-05-05T16:29:23.216Z"
   },
   {
    "duration": 14,
    "start_time": "2022-05-05T16:29:23.277Z"
   },
   {
    "duration": 13,
    "start_time": "2022-05-05T16:29:23.292Z"
   },
   {
    "duration": 3,
    "start_time": "2022-05-05T16:29:23.307Z"
   },
   {
    "duration": 22,
    "start_time": "2022-05-05T16:29:23.312Z"
   },
   {
    "duration": 49,
    "start_time": "2022-05-05T16:29:23.337Z"
   },
   {
    "duration": 17,
    "start_time": "2022-05-05T16:29:23.388Z"
   },
   {
    "duration": 17,
    "start_time": "2022-05-05T16:29:23.407Z"
   },
   {
    "duration": 45,
    "start_time": "2022-05-05T16:29:23.434Z"
   },
   {
    "duration": 16,
    "start_time": "2022-05-05T16:29:23.484Z"
   },
   {
    "duration": 8,
    "start_time": "2022-05-05T16:29:23.509Z"
   },
   {
    "duration": 18,
    "start_time": "2022-05-05T16:29:23.585Z"
   },
   {
    "duration": 14,
    "start_time": "2022-05-05T16:29:23.605Z"
   },
   {
    "duration": 4,
    "start_time": "2022-05-05T16:29:23.629Z"
   },
   {
    "duration": 20,
    "start_time": "2022-05-05T16:29:23.657Z"
   },
   {
    "duration": 3,
    "start_time": "2022-05-05T16:29:37.611Z"
   },
   {
    "duration": 150,
    "start_time": "2022-05-05T16:29:37.632Z"
   },
   {
    "duration": 11,
    "start_time": "2022-05-05T16:29:37.784Z"
   },
   {
    "duration": 16,
    "start_time": "2022-05-05T16:29:37.797Z"
   },
   {
    "duration": 70,
    "start_time": "2022-05-05T16:29:37.816Z"
   },
   {
    "duration": 5,
    "start_time": "2022-05-05T16:29:37.888Z"
   },
   {
    "duration": 14,
    "start_time": "2022-05-05T16:29:37.895Z"
   },
   {
    "duration": 4,
    "start_time": "2022-05-05T16:29:37.911Z"
   },
   {
    "duration": 59,
    "start_time": "2022-05-05T16:29:37.917Z"
   },
   {
    "duration": 21,
    "start_time": "2022-05-05T16:29:37.978Z"
   },
   {
    "duration": 34,
    "start_time": "2022-05-05T16:29:38.000Z"
   },
   {
    "duration": 89,
    "start_time": "2022-05-05T16:29:38.036Z"
   },
   {
    "duration": 79,
    "start_time": "2022-05-05T16:29:38.127Z"
   },
   {
    "duration": 65,
    "start_time": "2022-05-05T16:29:38.209Z"
   },
   {
    "duration": 60,
    "start_time": "2022-05-05T16:29:38.276Z"
   },
   {
    "duration": 3,
    "start_time": "2022-05-05T16:29:38.338Z"
   },
   {
    "duration": 35,
    "start_time": "2022-05-05T16:29:38.343Z"
   },
   {
    "duration": 41,
    "start_time": "2022-05-05T16:29:38.380Z"
   },
   {
    "duration": 14,
    "start_time": "2022-05-05T16:29:38.423Z"
   },
   {
    "duration": 35,
    "start_time": "2022-05-05T16:29:38.438Z"
   },
   {
    "duration": 4,
    "start_time": "2022-05-05T16:29:38.475Z"
   },
   {
    "duration": 25,
    "start_time": "2022-05-05T16:29:38.480Z"
   },
   {
    "duration": 16,
    "start_time": "2022-05-05T16:29:38.511Z"
   },
   {
    "duration": 17,
    "start_time": "2022-05-05T16:29:38.542Z"
   },
   {
    "duration": 28,
    "start_time": "2022-05-05T16:29:38.562Z"
   },
   {
    "duration": 23,
    "start_time": "2022-05-05T16:29:38.593Z"
   },
   {
    "duration": 55,
    "start_time": "2022-05-05T16:29:38.618Z"
   },
   {
    "duration": 13,
    "start_time": "2022-05-05T16:29:38.676Z"
   },
   {
    "duration": 21,
    "start_time": "2022-05-05T16:29:38.690Z"
   },
   {
    "duration": 13,
    "start_time": "2022-05-05T16:29:38.713Z"
   },
   {
    "duration": 4,
    "start_time": "2022-05-05T16:29:38.736Z"
   },
   {
    "duration": 21,
    "start_time": "2022-05-05T16:29:38.776Z"
   },
   {
    "duration": 14,
    "start_time": "2022-05-05T16:29:38.802Z"
   },
   {
    "duration": 3,
    "start_time": "2022-05-05T16:30:05.420Z"
   },
   {
    "duration": 175,
    "start_time": "2022-05-05T16:30:05.431Z"
   },
   {
    "duration": 12,
    "start_time": "2022-05-05T16:30:05.608Z"
   },
   {
    "duration": 14,
    "start_time": "2022-05-05T16:30:05.621Z"
   },
   {
    "duration": 59,
    "start_time": "2022-05-05T16:30:05.638Z"
   },
   {
    "duration": 8,
    "start_time": "2022-05-05T16:30:05.699Z"
   },
   {
    "duration": 11,
    "start_time": "2022-05-05T16:30:05.709Z"
   },
   {
    "duration": 6,
    "start_time": "2022-05-05T16:30:05.723Z"
   },
   {
    "duration": 58,
    "start_time": "2022-05-05T16:30:05.731Z"
   },
   {
    "duration": 32,
    "start_time": "2022-05-05T16:30:05.792Z"
   },
   {
    "duration": 48,
    "start_time": "2022-05-05T16:30:05.827Z"
   },
   {
    "duration": 73,
    "start_time": "2022-05-05T16:30:05.877Z"
   },
   {
    "duration": 103,
    "start_time": "2022-05-05T16:30:05.952Z"
   },
   {
    "duration": 74,
    "start_time": "2022-05-05T16:30:06.057Z"
   },
   {
    "duration": 58,
    "start_time": "2022-05-05T16:30:06.134Z"
   },
   {
    "duration": 4,
    "start_time": "2022-05-05T16:30:06.194Z"
   },
   {
    "duration": 14,
    "start_time": "2022-05-05T16:30:06.199Z"
   },
   {
    "duration": 61,
    "start_time": "2022-05-05T16:30:06.215Z"
   },
   {
    "duration": 15,
    "start_time": "2022-05-05T16:30:06.278Z"
   },
   {
    "duration": 14,
    "start_time": "2022-05-05T16:30:06.295Z"
   },
   {
    "duration": 4,
    "start_time": "2022-05-05T16:30:06.311Z"
   },
   {
    "duration": 24,
    "start_time": "2022-05-05T16:30:06.317Z"
   },
   {
    "duration": 20,
    "start_time": "2022-05-05T16:30:06.374Z"
   },
   {
    "duration": 19,
    "start_time": "2022-05-05T16:30:06.396Z"
   },
   {
    "duration": 25,
    "start_time": "2022-05-05T16:30:06.418Z"
   },
   {
    "duration": 46,
    "start_time": "2022-05-05T16:30:06.445Z"
   },
   {
    "duration": 22,
    "start_time": "2022-05-05T16:30:06.493Z"
   },
   {
    "duration": 12,
    "start_time": "2022-05-05T16:30:06.517Z"
   },
   {
    "duration": 59,
    "start_time": "2022-05-05T16:30:06.532Z"
   },
   {
    "duration": 17,
    "start_time": "2022-05-05T16:30:06.593Z"
   },
   {
    "duration": 5,
    "start_time": "2022-05-05T16:30:06.612Z"
   },
   {
    "duration": 31,
    "start_time": "2022-05-05T16:30:06.620Z"
   },
   {
    "duration": 32,
    "start_time": "2022-05-05T16:30:06.653Z"
   },
   {
    "duration": 18,
    "start_time": "2022-05-05T16:30:06.687Z"
   },
   {
    "duration": 13,
    "start_time": "2022-05-05T16:30:06.707Z"
   },
   {
    "duration": 29,
    "start_time": "2022-05-05T16:37:44.473Z"
   },
   {
    "duration": 34,
    "start_time": "2022-05-05T16:38:03.315Z"
   },
   {
    "duration": 21,
    "start_time": "2022-05-05T16:39:00.185Z"
   },
   {
    "duration": 42,
    "start_time": "2022-05-05T16:39:53.261Z"
   },
   {
    "duration": 37,
    "start_time": "2022-05-05T16:40:12.971Z"
   },
   {
    "duration": 22,
    "start_time": "2022-05-05T16:41:57.023Z"
   },
   {
    "duration": 21,
    "start_time": "2022-05-05T16:42:11.395Z"
   },
   {
    "duration": 9,
    "start_time": "2022-05-05T16:55:13.687Z"
   },
   {
    "duration": 3,
    "start_time": "2022-05-05T16:56:18.022Z"
   },
   {
    "duration": 9,
    "start_time": "2022-05-05T16:56:29.664Z"
   },
   {
    "duration": 3,
    "start_time": "2022-05-05T16:57:38.787Z"
   },
   {
    "duration": 170,
    "start_time": "2022-05-05T16:57:38.819Z"
   },
   {
    "duration": 13,
    "start_time": "2022-05-05T16:57:38.991Z"
   },
   {
    "duration": 13,
    "start_time": "2022-05-05T16:57:39.006Z"
   },
   {
    "duration": 73,
    "start_time": "2022-05-05T16:57:39.021Z"
   },
   {
    "duration": 6,
    "start_time": "2022-05-05T16:57:39.097Z"
   },
   {
    "duration": 17,
    "start_time": "2022-05-05T16:57:39.105Z"
   },
   {
    "duration": 5,
    "start_time": "2022-05-05T16:57:39.125Z"
   },
   {
    "duration": 54,
    "start_time": "2022-05-05T16:57:39.131Z"
   },
   {
    "duration": 30,
    "start_time": "2022-05-05T16:57:39.187Z"
   },
   {
    "duration": 33,
    "start_time": "2022-05-05T16:57:39.220Z"
   },
   {
    "duration": 67,
    "start_time": "2022-05-05T16:57:39.273Z"
   },
   {
    "duration": 98,
    "start_time": "2022-05-05T16:57:39.342Z"
   },
   {
    "duration": 76,
    "start_time": "2022-05-05T16:57:39.442Z"
   },
   {
    "duration": 40,
    "start_time": "2022-05-05T16:57:39.521Z"
   },
   {
    "duration": 3,
    "start_time": "2022-05-05T16:57:39.572Z"
   },
   {
    "duration": 12,
    "start_time": "2022-05-05T16:57:39.577Z"
   },
   {
    "duration": 39,
    "start_time": "2022-05-05T16:57:39.592Z"
   },
   {
    "duration": 41,
    "start_time": "2022-05-05T16:57:39.633Z"
   },
   {
    "duration": 13,
    "start_time": "2022-05-05T16:57:39.676Z"
   },
   {
    "duration": 3,
    "start_time": "2022-05-05T16:57:39.692Z"
   },
   {
    "duration": 27,
    "start_time": "2022-05-05T16:57:39.697Z"
   },
   {
    "duration": 18,
    "start_time": "2022-05-05T16:57:39.725Z"
   },
   {
    "duration": 43,
    "start_time": "2022-05-05T16:57:39.745Z"
   },
   {
    "duration": 16,
    "start_time": "2022-05-05T16:57:39.790Z"
   },
   {
    "duration": 20,
    "start_time": "2022-05-05T16:57:40.100Z"
   },
   {
    "duration": 17,
    "start_time": "2022-05-05T16:57:40.122Z"
   },
   {
    "duration": 8,
    "start_time": "2022-05-05T16:57:40.141Z"
   },
   {
    "duration": 32,
    "start_time": "2022-05-05T17:01:37.986Z"
   },
   {
    "duration": 53,
    "start_time": "2022-05-05T17:01:42.360Z"
   },
   {
    "duration": 34,
    "start_time": "2022-05-05T17:01:58.833Z"
   },
   {
    "duration": 49,
    "start_time": "2022-05-05T17:03:26.106Z"
   },
   {
    "duration": 48,
    "start_time": "2022-05-05T17:03:31.139Z"
   },
   {
    "duration": 17,
    "start_time": "2022-05-05T17:04:45.558Z"
   },
   {
    "duration": 64,
    "start_time": "2022-05-05T17:05:16.537Z"
   },
   {
    "duration": 9,
    "start_time": "2022-05-05T17:05:23.411Z"
   },
   {
    "duration": 35,
    "start_time": "2022-05-05T17:05:32.953Z"
   },
   {
    "duration": 50,
    "start_time": "2022-05-05T17:05:44.771Z"
   },
   {
    "duration": 52,
    "start_time": "2022-05-05T17:05:48.681Z"
   },
   {
    "duration": 50,
    "start_time": "2022-05-05T17:26:37.207Z"
   },
   {
    "duration": 11,
    "start_time": "2022-05-05T17:30:12.739Z"
   },
   {
    "duration": 11,
    "start_time": "2022-05-05T17:30:26.737Z"
   },
   {
    "duration": 45,
    "start_time": "2022-05-05T17:30:38.642Z"
   },
   {
    "duration": 11,
    "start_time": "2022-05-05T17:38:05.055Z"
   },
   {
    "duration": 37,
    "start_time": "2022-05-05T17:41:37.740Z"
   },
   {
    "duration": 22,
    "start_time": "2022-05-05T17:44:38.657Z"
   },
   {
    "duration": 60,
    "start_time": "2022-05-05T17:45:09.086Z"
   },
   {
    "duration": 40,
    "start_time": "2022-05-05T17:45:20.891Z"
   },
   {
    "duration": 41,
    "start_time": "2022-05-05T17:45:59.706Z"
   },
   {
    "duration": 45,
    "start_time": "2022-05-05T17:46:12.349Z"
   },
   {
    "duration": 48,
    "start_time": "2022-05-05T17:46:34.519Z"
   },
   {
    "duration": 89,
    "start_time": "2022-05-05T17:47:41.109Z"
   },
   {
    "duration": 14,
    "start_time": "2022-05-05T17:53:56.149Z"
   },
   {
    "duration": 42,
    "start_time": "2022-05-05T17:56:38.628Z"
   },
   {
    "duration": 23,
    "start_time": "2022-05-05T17:57:15.781Z"
   },
   {
    "duration": 44,
    "start_time": "2022-05-05T17:57:28.949Z"
   },
   {
    "duration": 38,
    "start_time": "2022-05-05T18:06:37.611Z"
   },
   {
    "duration": 40,
    "start_time": "2022-05-05T18:06:45.024Z"
   },
   {
    "duration": 65,
    "start_time": "2022-05-05T18:10:37.567Z"
   },
   {
    "duration": 64,
    "start_time": "2022-05-05T18:10:41.545Z"
   },
   {
    "duration": 74,
    "start_time": "2022-05-05T18:10:57.240Z"
   },
   {
    "duration": 7,
    "start_time": "2022-05-05T18:11:49.350Z"
   },
   {
    "duration": 31,
    "start_time": "2022-05-05T18:11:58.449Z"
   },
   {
    "duration": 70,
    "start_time": "2022-05-05T18:18:14.143Z"
   },
   {
    "duration": 26,
    "start_time": "2022-05-05T18:19:04.836Z"
   },
   {
    "duration": 25,
    "start_time": "2022-05-05T18:19:35.165Z"
   },
   {
    "duration": 78,
    "start_time": "2022-05-05T18:20:05.796Z"
   },
   {
    "duration": 72,
    "start_time": "2022-05-05T18:20:54.672Z"
   },
   {
    "duration": 129,
    "start_time": "2022-05-05T18:21:08.941Z"
   },
   {
    "duration": 84,
    "start_time": "2022-05-05T18:21:27.735Z"
   },
   {
    "duration": 69,
    "start_time": "2022-05-05T18:22:53.921Z"
   },
   {
    "duration": 75,
    "start_time": "2022-05-05T18:25:34.610Z"
   },
   {
    "duration": 112,
    "start_time": "2022-05-05T18:26:02.389Z"
   },
   {
    "duration": 116,
    "start_time": "2022-05-05T18:27:09.470Z"
   },
   {
    "duration": 138,
    "start_time": "2022-05-05T18:27:34.653Z"
   },
   {
    "duration": 82,
    "start_time": "2022-05-05T18:28:29.419Z"
   },
   {
    "duration": 26,
    "start_time": "2022-05-05T18:29:06.960Z"
   },
   {
    "duration": 171,
    "start_time": "2022-05-05T18:29:28.854Z"
   },
   {
    "duration": 502,
    "start_time": "2022-05-07T15:52:43.268Z"
   },
   {
    "duration": 210,
    "start_time": "2022-05-07T15:52:43.773Z"
   },
   {
    "duration": 25,
    "start_time": "2022-05-07T15:52:43.985Z"
   },
   {
    "duration": 14,
    "start_time": "2022-05-07T15:52:44.013Z"
   },
   {
    "duration": 44,
    "start_time": "2022-05-07T15:52:44.058Z"
   },
   {
    "duration": 5,
    "start_time": "2022-05-07T15:52:44.104Z"
   },
   {
    "duration": 44,
    "start_time": "2022-05-07T15:52:44.112Z"
   },
   {
    "duration": 10,
    "start_time": "2022-05-07T15:52:44.159Z"
   },
   {
    "duration": 37,
    "start_time": "2022-05-07T15:52:44.171Z"
   },
   {
    "duration": 43,
    "start_time": "2022-05-07T15:52:44.211Z"
   },
   {
    "duration": 37,
    "start_time": "2022-05-07T15:52:44.257Z"
   },
   {
    "duration": 130,
    "start_time": "2022-05-07T15:52:44.296Z"
   },
   {
    "duration": 137,
    "start_time": "2022-05-07T15:52:44.429Z"
   },
   {
    "duration": 107,
    "start_time": "2022-05-07T15:52:44.568Z"
   },
   {
    "duration": 53,
    "start_time": "2022-05-07T15:52:44.677Z"
   },
   {
    "duration": 22,
    "start_time": "2022-05-07T15:52:44.732Z"
   },
   {
    "duration": 27,
    "start_time": "2022-05-07T15:52:44.757Z"
   },
   {
    "duration": 57,
    "start_time": "2022-05-07T15:52:44.787Z"
   },
   {
    "duration": 19,
    "start_time": "2022-05-07T15:52:44.852Z"
   },
   {
    "duration": 25,
    "start_time": "2022-05-07T15:52:44.873Z"
   },
   {
    "duration": 6,
    "start_time": "2022-05-07T15:52:44.901Z"
   },
   {
    "duration": 58,
    "start_time": "2022-05-07T15:52:44.909Z"
   },
   {
    "duration": 22,
    "start_time": "2022-05-07T15:52:44.970Z"
   },
   {
    "duration": 22,
    "start_time": "2022-05-07T15:52:44.995Z"
   },
   {
    "duration": 52,
    "start_time": "2022-05-07T15:52:45.019Z"
   },
   {
    "duration": 25,
    "start_time": "2022-05-07T15:52:45.073Z"
   },
   {
    "duration": 26,
    "start_time": "2022-05-07T15:52:45.100Z"
   },
   {
    "duration": 134,
    "start_time": "2022-05-07T15:55:30.330Z"
   },
   {
    "duration": 117,
    "start_time": "2022-05-07T15:55:51.478Z"
   },
   {
    "duration": 139,
    "start_time": "2022-05-07T15:56:14.792Z"
   },
   {
    "duration": 149,
    "start_time": "2022-05-07T15:57:43.712Z"
   },
   {
    "duration": 198,
    "start_time": "2022-05-07T15:57:53.688Z"
   },
   {
    "duration": 124,
    "start_time": "2022-05-07T15:58:14.578Z"
   },
   {
    "duration": 169,
    "start_time": "2022-05-07T15:58:40.244Z"
   },
   {
    "duration": 135,
    "start_time": "2022-05-07T15:58:47.779Z"
   },
   {
    "duration": 150,
    "start_time": "2022-05-07T15:59:08.484Z"
   },
   {
    "duration": 135,
    "start_time": "2022-05-07T15:59:16.931Z"
   },
   {
    "duration": 144,
    "start_time": "2022-05-07T15:59:32.551Z"
   },
   {
    "duration": 147,
    "start_time": "2022-05-07T16:00:59.036Z"
   },
   {
    "duration": 63,
    "start_time": "2022-05-07T16:01:55.660Z"
   },
   {
    "duration": 468,
    "start_time": "2022-05-12T12:10:47.993Z"
   },
   {
    "duration": 212,
    "start_time": "2022-05-12T12:10:48.464Z"
   },
   {
    "duration": 17,
    "start_time": "2022-05-12T12:10:48.677Z"
   },
   {
    "duration": 9,
    "start_time": "2022-05-12T12:10:48.695Z"
   },
   {
    "duration": 38,
    "start_time": "2022-05-12T12:10:48.706Z"
   },
   {
    "duration": 3,
    "start_time": "2022-05-12T12:10:48.746Z"
   },
   {
    "duration": 30,
    "start_time": "2022-05-12T12:10:48.750Z"
   },
   {
    "duration": 7,
    "start_time": "2022-05-12T12:10:48.781Z"
   },
   {
    "duration": 28,
    "start_time": "2022-05-12T12:10:48.789Z"
   },
   {
    "duration": 17,
    "start_time": "2022-05-12T12:10:48.819Z"
   },
   {
    "duration": 44,
    "start_time": "2022-05-12T12:10:48.837Z"
   },
   {
    "duration": 63,
    "start_time": "2022-05-12T12:10:48.883Z"
   },
   {
    "duration": 94,
    "start_time": "2022-05-12T12:10:48.948Z"
   },
   {
    "duration": 66,
    "start_time": "2022-05-12T12:10:49.045Z"
   },
   {
    "duration": 38,
    "start_time": "2022-05-12T12:10:49.113Z"
   },
   {
    "duration": 3,
    "start_time": "2022-05-12T12:10:49.153Z"
   },
   {
    "duration": 21,
    "start_time": "2022-05-12T12:10:49.157Z"
   },
   {
    "duration": 44,
    "start_time": "2022-05-12T12:10:49.179Z"
   },
   {
    "duration": 14,
    "start_time": "2022-05-12T12:10:49.225Z"
   },
   {
    "duration": 32,
    "start_time": "2022-05-12T12:10:49.241Z"
   },
   {
    "duration": 2,
    "start_time": "2022-05-12T12:11:47.084Z"
   },
   {
    "duration": 148,
    "start_time": "2022-05-12T12:11:47.088Z"
   },
   {
    "duration": 11,
    "start_time": "2022-05-12T12:11:47.633Z"
   },
   {
    "duration": 11,
    "start_time": "2022-05-12T12:11:47.646Z"
   },
   {
    "duration": 30,
    "start_time": "2022-05-12T12:11:47.658Z"
   },
   {
    "duration": 4,
    "start_time": "2022-05-12T12:11:47.690Z"
   },
   {
    "duration": 9,
    "start_time": "2022-05-12T12:11:47.990Z"
   },
   {
    "duration": 4,
    "start_time": "2022-05-12T12:11:48.001Z"
   },
   {
    "duration": 26,
    "start_time": "2022-05-12T12:11:48.006Z"
   },
   {
    "duration": 18,
    "start_time": "2022-05-12T12:11:48.034Z"
   },
   {
    "duration": 27,
    "start_time": "2022-05-12T12:11:48.055Z"
   },
   {
    "duration": 63,
    "start_time": "2022-05-12T12:11:48.083Z"
   },
   {
    "duration": 85,
    "start_time": "2022-05-12T12:11:48.148Z"
   },
   {
    "duration": 61,
    "start_time": "2022-05-12T12:11:48.234Z"
   },
   {
    "duration": 37,
    "start_time": "2022-05-12T12:11:48.296Z"
   },
   {
    "duration": 5,
    "start_time": "2022-05-12T12:11:48.423Z"
   },
   {
    "duration": 10,
    "start_time": "2022-05-12T12:11:48.430Z"
   },
   {
    "duration": 36,
    "start_time": "2022-05-12T12:11:48.442Z"
   },
   {
    "duration": 12,
    "start_time": "2022-05-12T12:11:48.479Z"
   },
   {
    "duration": 11,
    "start_time": "2022-05-12T12:11:48.493Z"
   },
   {
    "duration": 4,
    "start_time": "2022-05-12T12:11:48.506Z"
   },
   {
    "duration": 23,
    "start_time": "2022-05-12T12:11:48.512Z"
   },
   {
    "duration": 47,
    "start_time": "2022-05-12T12:11:48.537Z"
   },
   {
    "duration": 21,
    "start_time": "2022-05-12T12:11:48.586Z"
   },
   {
    "duration": 21,
    "start_time": "2022-05-12T12:11:48.609Z"
   },
   {
    "duration": 49,
    "start_time": "2022-05-12T12:11:48.632Z"
   },
   {
    "duration": 23,
    "start_time": "2022-05-12T12:11:48.683Z"
   },
   {
    "duration": 94,
    "start_time": "2022-05-12T12:11:48.708Z"
   },
   {
    "duration": 2,
    "start_time": "2022-05-12T12:12:35.987Z"
   },
   {
    "duration": 150,
    "start_time": "2022-05-12T12:12:36.021Z"
   },
   {
    "duration": 11,
    "start_time": "2022-05-12T12:12:36.173Z"
   },
   {
    "duration": 11,
    "start_time": "2022-05-12T12:12:36.185Z"
   },
   {
    "duration": 48,
    "start_time": "2022-05-12T12:12:36.198Z"
   },
   {
    "duration": 24,
    "start_time": "2022-05-12T12:12:36.248Z"
   },
   {
    "duration": 9,
    "start_time": "2022-05-12T12:12:36.274Z"
   },
   {
    "duration": 4,
    "start_time": "2022-05-12T12:12:36.284Z"
   },
   {
    "duration": 29,
    "start_time": "2022-05-12T12:12:36.290Z"
   },
   {
    "duration": 17,
    "start_time": "2022-05-12T12:12:36.320Z"
   },
   {
    "duration": 43,
    "start_time": "2022-05-12T12:12:36.339Z"
   },
   {
    "duration": 61,
    "start_time": "2022-05-12T12:12:36.383Z"
   },
   {
    "duration": 80,
    "start_time": "2022-05-12T12:12:36.446Z"
   },
   {
    "duration": 61,
    "start_time": "2022-05-12T12:12:36.528Z"
   },
   {
    "duration": 38,
    "start_time": "2022-05-12T12:12:36.592Z"
   },
   {
    "duration": 3,
    "start_time": "2022-05-12T12:12:36.631Z"
   },
   {
    "duration": 11,
    "start_time": "2022-05-12T12:12:36.635Z"
   },
   {
    "duration": 55,
    "start_time": "2022-05-12T12:12:36.648Z"
   },
   {
    "duration": 11,
    "start_time": "2022-05-12T12:12:36.704Z"
   },
   {
    "duration": 12,
    "start_time": "2022-05-12T12:12:36.717Z"
   },
   {
    "duration": 3,
    "start_time": "2022-05-12T12:12:36.731Z"
   },
   {
    "duration": 41,
    "start_time": "2022-05-12T12:12:36.736Z"
   },
   {
    "duration": 15,
    "start_time": "2022-05-12T12:12:36.779Z"
   },
   {
    "duration": 14,
    "start_time": "2022-05-12T12:12:36.795Z"
   },
   {
    "duration": 13,
    "start_time": "2022-05-12T12:12:36.811Z"
   },
   {
    "duration": 45,
    "start_time": "2022-05-12T12:12:36.826Z"
   },
   {
    "duration": 15,
    "start_time": "2022-05-12T12:12:36.873Z"
   },
   {
    "duration": 84,
    "start_time": "2022-05-12T12:12:36.889Z"
   },
   {
    "duration": 3,
    "start_time": "2022-05-12T12:12:51.973Z"
   },
   {
    "duration": 154,
    "start_time": "2022-05-12T12:12:51.982Z"
   },
   {
    "duration": 11,
    "start_time": "2022-05-12T12:12:52.138Z"
   },
   {
    "duration": 24,
    "start_time": "2022-05-12T12:12:52.151Z"
   },
   {
    "duration": 28,
    "start_time": "2022-05-12T12:12:52.177Z"
   },
   {
    "duration": 4,
    "start_time": "2022-05-12T12:12:52.207Z"
   },
   {
    "duration": 10,
    "start_time": "2022-05-12T12:12:52.212Z"
   },
   {
    "duration": 4,
    "start_time": "2022-05-12T12:12:52.224Z"
   },
   {
    "duration": 43,
    "start_time": "2022-05-12T12:12:52.229Z"
   },
   {
    "duration": 18,
    "start_time": "2022-05-12T12:12:52.274Z"
   },
   {
    "duration": 23,
    "start_time": "2022-05-12T12:12:52.294Z"
   },
   {
    "duration": 81,
    "start_time": "2022-05-12T12:12:52.319Z"
   },
   {
    "duration": 71,
    "start_time": "2022-05-12T12:12:52.402Z"
   },
   {
    "duration": 54,
    "start_time": "2022-05-12T12:12:52.475Z"
   },
   {
    "duration": 53,
    "start_time": "2022-05-12T12:12:52.532Z"
   },
   {
    "duration": 3,
    "start_time": "2022-05-12T12:12:52.586Z"
   },
   {
    "duration": 13,
    "start_time": "2022-05-12T12:12:52.590Z"
   },
   {
    "duration": 40,
    "start_time": "2022-05-12T12:12:52.605Z"
   },
   {
    "duration": 10,
    "start_time": "2022-05-12T12:12:52.647Z"
   },
   {
    "duration": 20,
    "start_time": "2022-05-12T12:12:52.659Z"
   },
   {
    "duration": 3,
    "start_time": "2022-05-12T12:12:52.681Z"
   },
   {
    "duration": 20,
    "start_time": "2022-05-12T12:12:52.685Z"
   },
   {
    "duration": 13,
    "start_time": "2022-05-12T12:12:52.706Z"
   },
   {
    "duration": 13,
    "start_time": "2022-05-12T12:12:52.721Z"
   },
   {
    "duration": 41,
    "start_time": "2022-05-12T12:12:52.736Z"
   },
   {
    "duration": 16,
    "start_time": "2022-05-12T12:12:52.778Z"
   },
   {
    "duration": 13,
    "start_time": "2022-05-12T12:12:52.796Z"
   },
   {
    "duration": 97,
    "start_time": "2022-05-12T12:12:52.811Z"
   },
   {
    "duration": 2,
    "start_time": "2022-05-12T12:13:42.115Z"
   },
   {
    "duration": 152,
    "start_time": "2022-05-12T12:13:42.119Z"
   },
   {
    "duration": 10,
    "start_time": "2022-05-12T12:13:42.272Z"
   },
   {
    "duration": 13,
    "start_time": "2022-05-12T12:13:42.283Z"
   },
   {
    "duration": 33,
    "start_time": "2022-05-12T12:13:42.298Z"
   },
   {
    "duration": 4,
    "start_time": "2022-05-12T12:13:42.332Z"
   },
   {
    "duration": 11,
    "start_time": "2022-05-12T12:13:42.337Z"
   },
   {
    "duration": 7,
    "start_time": "2022-05-12T12:13:42.350Z"
   },
   {
    "duration": 25,
    "start_time": "2022-05-12T12:13:42.371Z"
   },
   {
    "duration": 18,
    "start_time": "2022-05-12T12:13:42.398Z"
   },
   {
    "duration": 23,
    "start_time": "2022-05-12T12:13:42.417Z"
   },
   {
    "duration": 82,
    "start_time": "2022-05-12T12:13:42.442Z"
   },
   {
    "duration": 77,
    "start_time": "2022-05-12T12:13:42.526Z"
   },
   {
    "duration": 53,
    "start_time": "2022-05-12T12:13:42.606Z"
   },
   {
    "duration": 45,
    "start_time": "2022-05-12T12:13:42.661Z"
   },
   {
    "duration": 2,
    "start_time": "2022-05-12T12:13:42.708Z"
   },
   {
    "duration": 10,
    "start_time": "2022-05-12T12:13:42.712Z"
   },
   {
    "duration": 56,
    "start_time": "2022-05-12T12:13:42.724Z"
   },
   {
    "duration": 11,
    "start_time": "2022-05-12T12:13:42.782Z"
   },
   {
    "duration": 10,
    "start_time": "2022-05-12T12:13:42.795Z"
   },
   {
    "duration": 3,
    "start_time": "2022-05-12T12:13:42.807Z"
   },
   {
    "duration": 19,
    "start_time": "2022-05-12T12:13:42.812Z"
   },
   {
    "duration": 39,
    "start_time": "2022-05-12T12:13:42.833Z"
   },
   {
    "duration": 16,
    "start_time": "2022-05-12T12:13:42.873Z"
   },
   {
    "duration": 15,
    "start_time": "2022-05-12T12:13:42.891Z"
   },
   {
    "duration": 16,
    "start_time": "2022-05-12T12:13:42.908Z"
   },
   {
    "duration": 46,
    "start_time": "2022-05-12T12:13:42.926Z"
   },
   {
    "duration": 71,
    "start_time": "2022-05-12T12:13:42.974Z"
   },
   {
    "duration": 2,
    "start_time": "2022-05-12T12:17:15.119Z"
   },
   {
    "duration": 148,
    "start_time": "2022-05-12T12:17:15.144Z"
   },
   {
    "duration": 9,
    "start_time": "2022-05-12T12:17:15.294Z"
   },
   {
    "duration": 12,
    "start_time": "2022-05-12T12:17:15.305Z"
   },
   {
    "duration": 28,
    "start_time": "2022-05-12T12:17:15.318Z"
   },
   {
    "duration": 3,
    "start_time": "2022-05-12T12:17:15.348Z"
   },
   {
    "duration": 27,
    "start_time": "2022-05-12T12:17:15.352Z"
   },
   {
    "duration": 6,
    "start_time": "2022-05-12T12:17:15.381Z"
   },
   {
    "duration": 28,
    "start_time": "2022-05-12T12:17:15.388Z"
   },
   {
    "duration": 17,
    "start_time": "2022-05-12T12:17:15.417Z"
   },
   {
    "duration": 39,
    "start_time": "2022-05-12T12:17:15.436Z"
   },
   {
    "duration": 59,
    "start_time": "2022-05-12T12:17:15.476Z"
   },
   {
    "duration": 89,
    "start_time": "2022-05-12T12:17:15.537Z"
   },
   {
    "duration": 63,
    "start_time": "2022-05-12T12:17:15.628Z"
   },
   {
    "duration": 38,
    "start_time": "2022-05-12T12:17:15.693Z"
   },
   {
    "duration": 3,
    "start_time": "2022-05-12T12:17:15.732Z"
   },
   {
    "duration": 17,
    "start_time": "2022-05-12T12:17:15.736Z"
   },
   {
    "duration": 49,
    "start_time": "2022-05-12T12:17:15.755Z"
   },
   {
    "duration": 10,
    "start_time": "2022-05-12T12:17:15.806Z"
   },
   {
    "duration": 14,
    "start_time": "2022-05-12T12:17:15.818Z"
   },
   {
    "duration": 3,
    "start_time": "2022-05-12T12:17:15.833Z"
   },
   {
    "duration": 35,
    "start_time": "2022-05-12T12:17:15.838Z"
   },
   {
    "duration": 14,
    "start_time": "2022-05-12T12:17:15.874Z"
   },
   {
    "duration": 14,
    "start_time": "2022-05-12T12:17:15.889Z"
   },
   {
    "duration": 13,
    "start_time": "2022-05-12T12:17:15.904Z"
   },
   {
    "duration": 15,
    "start_time": "2022-05-12T12:17:15.918Z"
   },
   {
    "duration": 43,
    "start_time": "2022-05-12T12:17:15.934Z"
   },
   {
    "duration": 68,
    "start_time": "2022-05-12T12:17:15.978Z"
   },
   {
    "duration": 2,
    "start_time": "2022-05-12T12:17:41.653Z"
   },
   {
    "duration": 146,
    "start_time": "2022-05-12T12:17:41.658Z"
   },
   {
    "duration": 10,
    "start_time": "2022-05-12T12:17:41.806Z"
   },
   {
    "duration": 12,
    "start_time": "2022-05-12T12:17:41.817Z"
   },
   {
    "duration": 41,
    "start_time": "2022-05-12T12:17:41.831Z"
   },
   {
    "duration": 5,
    "start_time": "2022-05-12T12:17:41.873Z"
   },
   {
    "duration": 11,
    "start_time": "2022-05-12T12:17:41.880Z"
   },
   {
    "duration": 6,
    "start_time": "2022-05-12T12:17:41.892Z"
   },
   {
    "duration": 24,
    "start_time": "2022-05-12T12:17:41.899Z"
   },
   {
    "duration": 47,
    "start_time": "2022-05-12T12:17:41.925Z"
   },
   {
    "duration": 23,
    "start_time": "2022-05-12T12:17:41.974Z"
   },
   {
    "duration": 60,
    "start_time": "2022-05-12T12:17:41.998Z"
   },
   {
    "duration": 65,
    "start_time": "2022-05-12T12:17:42.071Z"
   },
   {
    "duration": 66,
    "start_time": "2022-05-12T12:17:42.139Z"
   },
   {
    "duration": 36,
    "start_time": "2022-05-12T12:17:42.207Z"
   },
   {
    "duration": 3,
    "start_time": "2022-05-12T12:17:42.244Z"
   },
   {
    "duration": 23,
    "start_time": "2022-05-12T12:17:42.248Z"
   },
   {
    "duration": 37,
    "start_time": "2022-05-12T12:17:42.273Z"
   },
   {
    "duration": 11,
    "start_time": "2022-05-12T12:17:42.311Z"
   },
   {
    "duration": 11,
    "start_time": "2022-05-12T12:17:42.323Z"
   },
   {
    "duration": 3,
    "start_time": "2022-05-12T12:17:42.335Z"
   },
   {
    "duration": 44,
    "start_time": "2022-05-12T12:17:42.340Z"
   },
   {
    "duration": 14,
    "start_time": "2022-05-12T12:17:42.385Z"
   },
   {
    "duration": 14,
    "start_time": "2022-05-12T12:17:42.401Z"
   },
   {
    "duration": 13,
    "start_time": "2022-05-12T12:17:42.416Z"
   },
   {
    "duration": 45,
    "start_time": "2022-05-12T12:17:42.430Z"
   },
   {
    "duration": 15,
    "start_time": "2022-05-12T12:17:42.476Z"
   },
   {
    "duration": 92,
    "start_time": "2022-05-12T12:17:42.493Z"
   },
   {
    "duration": 2,
    "start_time": "2022-05-12T12:28:51.992Z"
   },
   {
    "duration": 205,
    "start_time": "2022-05-12T12:28:51.996Z"
   },
   {
    "duration": 11,
    "start_time": "2022-05-12T12:28:52.203Z"
   },
   {
    "duration": 11,
    "start_time": "2022-05-12T12:28:52.215Z"
   },
   {
    "duration": 43,
    "start_time": "2022-05-12T12:28:52.228Z"
   },
   {
    "duration": 4,
    "start_time": "2022-05-12T12:28:52.273Z"
   },
   {
    "duration": 11,
    "start_time": "2022-05-12T12:28:52.278Z"
   },
   {
    "duration": 7,
    "start_time": "2022-05-12T12:28:52.291Z"
   },
   {
    "duration": 25,
    "start_time": "2022-05-12T12:28:52.299Z"
   },
   {
    "duration": 45,
    "start_time": "2022-05-12T12:28:52.326Z"
   },
   {
    "duration": 24,
    "start_time": "2022-05-12T12:28:52.373Z"
   },
   {
    "duration": 73,
    "start_time": "2022-05-12T12:28:52.399Z"
   },
   {
    "duration": 69,
    "start_time": "2022-05-12T12:28:52.474Z"
   },
   {
    "duration": 66,
    "start_time": "2022-05-12T12:28:52.546Z"
   },
   {
    "duration": 38,
    "start_time": "2022-05-12T12:28:52.613Z"
   },
   {
    "duration": 2,
    "start_time": "2022-05-12T12:28:52.653Z"
   },
   {
    "duration": 25,
    "start_time": "2022-05-12T12:28:52.657Z"
   },
   {
    "duration": 39,
    "start_time": "2022-05-12T12:28:52.683Z"
   },
   {
    "duration": 12,
    "start_time": "2022-05-12T12:28:52.724Z"
   },
   {
    "duration": 34,
    "start_time": "2022-05-12T12:28:52.737Z"
   },
   {
    "duration": 4,
    "start_time": "2022-05-12T12:28:52.772Z"
   },
   {
    "duration": 21,
    "start_time": "2022-05-12T12:28:52.778Z"
   },
   {
    "duration": 13,
    "start_time": "2022-05-12T12:28:52.800Z"
   },
   {
    "duration": 14,
    "start_time": "2022-05-12T12:28:52.815Z"
   },
   {
    "duration": 42,
    "start_time": "2022-05-12T12:28:52.830Z"
   },
   {
    "duration": 17,
    "start_time": "2022-05-12T12:28:52.873Z"
   },
   {
    "duration": 15,
    "start_time": "2022-05-12T12:28:52.891Z"
   },
   {
    "duration": 97,
    "start_time": "2022-05-12T12:28:52.908Z"
   },
   {
    "duration": 27,
    "start_time": "2022-05-12T12:28:53.006Z"
   },
   {
    "duration": 214,
    "start_time": "2022-05-12T12:28:53.035Z"
   },
   {
    "duration": 2,
    "start_time": "2022-05-12T12:29:42.612Z"
   },
   {
    "duration": 145,
    "start_time": "2022-05-12T12:29:42.616Z"
   },
   {
    "duration": 15,
    "start_time": "2022-05-12T12:29:43.266Z"
   },
   {
    "duration": 13,
    "start_time": "2022-05-12T12:29:43.283Z"
   },
   {
    "duration": 29,
    "start_time": "2022-05-12T12:29:43.297Z"
   },
   {
    "duration": 4,
    "start_time": "2022-05-12T12:29:43.328Z"
   },
   {
    "duration": 40,
    "start_time": "2022-05-12T12:29:43.335Z"
   },
   {
    "duration": 6,
    "start_time": "2022-05-12T12:29:43.378Z"
   },
   {
    "duration": 28,
    "start_time": "2022-05-12T12:29:43.385Z"
   },
   {
    "duration": 18,
    "start_time": "2022-05-12T12:29:43.414Z"
   },
   {
    "duration": 25,
    "start_time": "2022-05-12T12:29:43.913Z"
   },
   {
    "duration": 71,
    "start_time": "2022-05-12T12:29:43.940Z"
   },
   {
    "duration": 82,
    "start_time": "2022-05-12T12:29:44.012Z"
   },
   {
    "duration": 55,
    "start_time": "2022-05-12T12:29:44.095Z"
   },
   {
    "duration": 56,
    "start_time": "2022-05-12T12:29:44.152Z"
   },
   {
    "duration": 3,
    "start_time": "2022-05-12T12:29:44.210Z"
   },
   {
    "duration": 10,
    "start_time": "2022-05-12T12:29:44.215Z"
   },
   {
    "duration": 37,
    "start_time": "2022-05-12T12:29:44.416Z"
   },
   {
    "duration": 13,
    "start_time": "2022-05-12T12:29:44.455Z"
   },
   {
    "duration": 27,
    "start_time": "2022-05-12T12:29:44.469Z"
   },
   {
    "duration": 11,
    "start_time": "2022-05-12T12:29:44.498Z"
   },
   {
    "duration": 26,
    "start_time": "2022-05-12T12:29:44.511Z"
   },
   {
    "duration": 16,
    "start_time": "2022-05-12T12:29:44.539Z"
   },
   {
    "duration": 18,
    "start_time": "2022-05-12T12:29:44.556Z"
   },
   {
    "duration": 21,
    "start_time": "2022-05-12T12:29:44.924Z"
   },
   {
    "duration": 24,
    "start_time": "2022-05-12T12:29:44.947Z"
   },
   {
    "duration": 23,
    "start_time": "2022-05-12T12:29:44.973Z"
   },
   {
    "duration": 107,
    "start_time": "2022-05-12T12:29:44.998Z"
   },
   {
    "duration": 29,
    "start_time": "2022-05-12T12:29:45.107Z"
   },
   {
    "duration": 52,
    "start_time": "2022-05-12T12:30:10.584Z"
   },
   {
    "duration": 129,
    "start_time": "2022-05-12T12:30:28.308Z"
   },
   {
    "duration": 130,
    "start_time": "2022-05-12T12:31:02.484Z"
   },
   {
    "duration": 93,
    "start_time": "2022-05-12T12:31:18.667Z"
   },
   {
    "duration": 81,
    "start_time": "2022-05-12T12:33:18.203Z"
   },
   {
    "duration": 87,
    "start_time": "2022-05-12T12:33:21.923Z"
   },
   {
    "duration": 136,
    "start_time": "2022-05-12T12:33:39.693Z"
   },
   {
    "duration": 132,
    "start_time": "2022-05-12T12:34:15.828Z"
   },
   {
    "duration": 128,
    "start_time": "2022-05-12T12:43:45.988Z"
   },
   {
    "duration": 34,
    "start_time": "2022-05-12T12:48:56.224Z"
   },
   {
    "duration": 33,
    "start_time": "2022-05-12T12:50:13.213Z"
   },
   {
    "duration": 2,
    "start_time": "2022-05-12T12:50:22.783Z"
   },
   {
    "duration": 140,
    "start_time": "2022-05-12T12:50:22.787Z"
   },
   {
    "duration": 9,
    "start_time": "2022-05-12T12:50:22.929Z"
   },
   {
    "duration": 9,
    "start_time": "2022-05-12T12:50:22.940Z"
   },
   {
    "duration": 41,
    "start_time": "2022-05-12T12:50:22.951Z"
   },
   {
    "duration": 4,
    "start_time": "2022-05-12T12:50:22.993Z"
   },
   {
    "duration": 12,
    "start_time": "2022-05-12T12:50:22.999Z"
   },
   {
    "duration": 5,
    "start_time": "2022-05-12T12:50:23.013Z"
   },
   {
    "duration": 24,
    "start_time": "2022-05-12T12:50:23.020Z"
   },
   {
    "duration": 42,
    "start_time": "2022-05-12T12:50:23.046Z"
   },
   {
    "duration": 23,
    "start_time": "2022-05-12T12:50:23.089Z"
   },
   {
    "duration": 78,
    "start_time": "2022-05-12T12:50:23.114Z"
   },
   {
    "duration": 78,
    "start_time": "2022-05-12T12:50:23.193Z"
   },
   {
    "duration": 55,
    "start_time": "2022-05-12T12:50:23.272Z"
   },
   {
    "duration": 50,
    "start_time": "2022-05-12T12:50:23.328Z"
   },
   {
    "duration": 2,
    "start_time": "2022-05-12T12:50:23.379Z"
   },
   {
    "duration": 9,
    "start_time": "2022-05-12T12:50:23.384Z"
   },
   {
    "duration": 39,
    "start_time": "2022-05-12T12:50:23.394Z"
   },
   {
    "duration": 41,
    "start_time": "2022-05-12T12:50:23.435Z"
   },
   {
    "duration": 12,
    "start_time": "2022-05-12T12:50:23.477Z"
   },
   {
    "duration": 4,
    "start_time": "2022-05-12T12:50:23.490Z"
   },
   {
    "duration": 22,
    "start_time": "2022-05-12T12:50:23.495Z"
   },
   {
    "duration": 13,
    "start_time": "2022-05-12T12:50:23.519Z"
   },
   {
    "duration": 38,
    "start_time": "2022-05-12T12:50:23.534Z"
   },
   {
    "duration": 15,
    "start_time": "2022-05-12T12:50:23.573Z"
   },
   {
    "duration": 16,
    "start_time": "2022-05-12T12:50:23.590Z"
   },
   {
    "duration": 14,
    "start_time": "2022-05-12T12:50:23.607Z"
   },
   {
    "duration": 64,
    "start_time": "2022-05-12T12:50:23.623Z"
   },
   {
    "duration": 69,
    "start_time": "2022-05-12T12:51:14.363Z"
   },
   {
    "duration": 192,
    "start_time": "2022-05-12T12:51:24.963Z"
   },
   {
    "duration": 70,
    "start_time": "2022-05-12T12:51:36.381Z"
   },
   {
    "duration": 71,
    "start_time": "2022-05-12T12:51:49.133Z"
   },
   {
    "duration": 189,
    "start_time": "2022-05-12T12:53:03.239Z"
   },
   {
    "duration": 114,
    "start_time": "2022-05-12T12:53:59.664Z"
   },
   {
    "duration": 66,
    "start_time": "2022-05-12T12:54:59.493Z"
   },
   {
    "duration": 101,
    "start_time": "2022-05-12T12:55:06.380Z"
   },
   {
    "duration": 62,
    "start_time": "2022-05-12T12:55:10.465Z"
   },
   {
    "duration": 62,
    "start_time": "2022-05-12T12:55:17.483Z"
   },
   {
    "duration": 29,
    "start_time": "2022-05-12T12:55:44.202Z"
   },
   {
    "duration": 63,
    "start_time": "2022-05-12T12:55:45.900Z"
   },
   {
    "duration": 28,
    "start_time": "2022-05-12T12:56:33.011Z"
   },
   {
    "duration": 29,
    "start_time": "2022-05-12T12:56:33.793Z"
   },
   {
    "duration": 66,
    "start_time": "2022-05-12T12:56:49.053Z"
   },
   {
    "duration": 61,
    "start_time": "2022-05-12T12:56:59.322Z"
   },
   {
    "duration": 94,
    "start_time": "2022-05-12T12:57:03.685Z"
   },
   {
    "duration": 65,
    "start_time": "2022-05-12T12:57:08.546Z"
   },
   {
    "duration": 68,
    "start_time": "2022-05-12T12:57:42.032Z"
   },
   {
    "duration": 61,
    "start_time": "2022-05-12T12:57:52.519Z"
   },
   {
    "duration": 65,
    "start_time": "2022-05-12T12:58:05.722Z"
   },
   {
    "duration": 78,
    "start_time": "2022-05-12T12:58:28.387Z"
   },
   {
    "duration": 72,
    "start_time": "2022-05-12T12:58:36.980Z"
   },
   {
    "duration": 72,
    "start_time": "2022-05-12T12:59:56.027Z"
   },
   {
    "duration": 101,
    "start_time": "2022-05-12T13:00:01.973Z"
   },
   {
    "duration": 68,
    "start_time": "2022-05-12T13:00:59.741Z"
   },
   {
    "duration": 69,
    "start_time": "2022-05-12T13:02:28.928Z"
   },
   {
    "duration": 80,
    "start_time": "2022-05-12T13:02:33.902Z"
   },
   {
    "duration": 200,
    "start_time": "2022-05-12T13:05:39.831Z"
   },
   {
    "duration": 213,
    "start_time": "2022-05-12T13:06:26.346Z"
   },
   {
    "duration": 164,
    "start_time": "2022-05-12T13:07:19.026Z"
   },
   {
    "duration": 95,
    "start_time": "2022-05-12T13:07:30.705Z"
   },
   {
    "duration": 139,
    "start_time": "2022-05-12T13:07:34.852Z"
   },
   {
    "duration": 133,
    "start_time": "2022-05-12T13:07:42.443Z"
   },
   {
    "duration": 145,
    "start_time": "2022-05-12T13:07:51.369Z"
   },
   {
    "duration": 133,
    "start_time": "2022-05-12T13:08:26.272Z"
   },
   {
    "duration": 120,
    "start_time": "2022-05-12T13:08:52.932Z"
   },
   {
    "duration": 85,
    "start_time": "2022-05-12T13:08:56.826Z"
   },
   {
    "duration": 220,
    "start_time": "2022-05-12T13:08:59.982Z"
   },
   {
    "duration": 113,
    "start_time": "2022-05-12T13:09:34.063Z"
   },
   {
    "duration": 105,
    "start_time": "2022-05-12T13:09:49.203Z"
   },
   {
    "duration": 86,
    "start_time": "2022-05-12T13:09:51.875Z"
   },
   {
    "duration": 98,
    "start_time": "2022-05-12T13:09:56.594Z"
   },
   {
    "duration": 96,
    "start_time": "2022-05-12T13:10:01.183Z"
   },
   {
    "duration": 24,
    "start_time": "2022-05-12T13:13:33.455Z"
   },
   {
    "duration": 87,
    "start_time": "2022-05-12T13:13:51.911Z"
   },
   {
    "duration": 21,
    "start_time": "2022-05-12T13:15:52.921Z"
   },
   {
    "duration": 97,
    "start_time": "2022-05-12T13:16:55.992Z"
   },
   {
    "duration": 112,
    "start_time": "2022-05-12T13:18:09.360Z"
   },
   {
    "duration": 21,
    "start_time": "2022-05-12T13:18:30.180Z"
   },
   {
    "duration": 21,
    "start_time": "2022-05-12T13:18:48.180Z"
   },
   {
    "duration": 20,
    "start_time": "2022-05-12T13:18:56.902Z"
   },
   {
    "duration": 21,
    "start_time": "2022-05-12T13:19:33.253Z"
   },
   {
    "duration": 20,
    "start_time": "2022-05-12T13:19:48.229Z"
   },
   {
    "duration": 23,
    "start_time": "2022-05-12T13:20:19.349Z"
   },
   {
    "duration": 216,
    "start_time": "2022-05-12T13:21:41.781Z"
   },
   {
    "duration": 152,
    "start_time": "2022-05-12T13:22:13.534Z"
   },
   {
    "duration": 11,
    "start_time": "2022-05-12T13:22:26.509Z"
   },
   {
    "duration": 14,
    "start_time": "2022-05-12T13:22:35.911Z"
   },
   {
    "duration": 19,
    "start_time": "2022-05-12T13:23:58.602Z"
   },
   {
    "duration": 20,
    "start_time": "2022-05-12T13:24:16.668Z"
   },
   {
    "duration": 19,
    "start_time": "2022-05-12T13:24:21.766Z"
   },
   {
    "duration": 19,
    "start_time": "2022-05-12T13:24:34.195Z"
   },
   {
    "duration": 19,
    "start_time": "2022-05-12T13:24:43.392Z"
   },
   {
    "duration": 4,
    "start_time": "2022-05-12T13:26:53.200Z"
   },
   {
    "duration": 41,
    "start_time": "2022-05-12T13:27:42.923Z"
   },
   {
    "duration": 20,
    "start_time": "2022-05-12T13:29:36.643Z"
   },
   {
    "duration": 20,
    "start_time": "2022-05-12T13:29:39.731Z"
   },
   {
    "duration": 20,
    "start_time": "2022-05-12T13:29:56.478Z"
   },
   {
    "duration": 21,
    "start_time": "2022-05-12T13:30:15.530Z"
   },
   {
    "duration": 20,
    "start_time": "2022-05-12T13:30:46.069Z"
   },
   {
    "duration": 20,
    "start_time": "2022-05-12T13:30:54.745Z"
   },
   {
    "duration": 20,
    "start_time": "2022-05-12T13:31:00.741Z"
   },
   {
    "duration": 23,
    "start_time": "2022-05-12T13:31:06.442Z"
   },
   {
    "duration": 21,
    "start_time": "2022-05-12T13:31:17.685Z"
   },
   {
    "duration": 21,
    "start_time": "2022-05-12T13:31:43.873Z"
   },
   {
    "duration": 20,
    "start_time": "2022-05-12T13:34:20.044Z"
   },
   {
    "duration": 22,
    "start_time": "2022-05-12T13:34:39.623Z"
   },
   {
    "duration": 21,
    "start_time": "2022-05-12T13:34:55.362Z"
   },
   {
    "duration": 20,
    "start_time": "2022-05-12T13:35:05.944Z"
   },
   {
    "duration": 20,
    "start_time": "2022-05-12T13:35:14.024Z"
   },
   {
    "duration": 32,
    "start_time": "2022-05-12T13:37:10.676Z"
   },
   {
    "duration": 93,
    "start_time": "2022-05-12T13:38:06.708Z"
   },
   {
    "duration": 115,
    "start_time": "2022-05-12T13:38:22.413Z"
   },
   {
    "duration": 20,
    "start_time": "2022-05-12T13:38:31.588Z"
   },
   {
    "duration": 85,
    "start_time": "2022-05-12T13:38:51.647Z"
   },
   {
    "duration": 82,
    "start_time": "2022-05-12T13:38:57.632Z"
   },
   {
    "duration": 118,
    "start_time": "2022-05-12T13:40:07.860Z"
   },
   {
    "duration": 21,
    "start_time": "2022-05-12T13:40:17.148Z"
   },
   {
    "duration": 68,
    "start_time": "2022-05-12T13:40:25.250Z"
   },
   {
    "duration": 78,
    "start_time": "2022-05-12T13:40:32.373Z"
   },
   {
    "duration": 31,
    "start_time": "2022-05-12T13:40:49.093Z"
   },
   {
    "duration": 66,
    "start_time": "2022-05-12T13:40:54.633Z"
   },
   {
    "duration": 95,
    "start_time": "2022-05-12T13:41:56.266Z"
   },
   {
    "duration": 69,
    "start_time": "2022-05-12T13:42:06.308Z"
   },
   {
    "duration": 30,
    "start_time": "2022-05-12T13:46:46.802Z"
   },
   {
    "duration": 20,
    "start_time": "2022-05-12T13:47:02.419Z"
   },
   {
    "duration": 22,
    "start_time": "2022-05-12T13:47:19.204Z"
   },
   {
    "duration": 21,
    "start_time": "2022-05-12T13:47:27.021Z"
   },
   {
    "duration": 21,
    "start_time": "2022-05-12T13:47:40.647Z"
   },
   {
    "duration": 23,
    "start_time": "2022-05-12T13:47:43.953Z"
   },
   {
    "duration": 28,
    "start_time": "2022-05-12T13:47:47.597Z"
   },
   {
    "duration": 32,
    "start_time": "2022-05-12T13:48:42.654Z"
   },
   {
    "duration": 32,
    "start_time": "2022-05-12T13:48:48.353Z"
   },
   {
    "duration": 104,
    "start_time": "2022-05-12T13:48:54.483Z"
   },
   {
    "duration": 89,
    "start_time": "2022-05-12T13:56:08.708Z"
   },
   {
    "duration": 88,
    "start_time": "2022-05-12T13:56:26.164Z"
   },
   {
    "duration": 82,
    "start_time": "2022-05-12T13:56:34.784Z"
   },
   {
    "duration": 3,
    "start_time": "2022-05-12T13:56:53.836Z"
   },
   {
    "duration": 12,
    "start_time": "2022-05-12T13:57:03.814Z"
   },
   {
    "duration": 11,
    "start_time": "2022-05-12T13:57:18.225Z"
   },
   {
    "duration": 10,
    "start_time": "2022-05-12T13:57:53.039Z"
   },
   {
    "duration": 33,
    "start_time": "2022-05-12T13:58:33.759Z"
   },
   {
    "duration": 31,
    "start_time": "2022-05-12T13:58:45.986Z"
   },
   {
    "duration": 116,
    "start_time": "2022-05-12T13:59:15.114Z"
   },
   {
    "duration": 77,
    "start_time": "2022-05-12T13:59:34.134Z"
   },
   {
    "duration": 93,
    "start_time": "2022-05-12T13:59:38.434Z"
   },
   {
    "duration": 92,
    "start_time": "2022-05-12T13:59:51.636Z"
   },
   {
    "duration": 22,
    "start_time": "2022-05-12T13:59:56.551Z"
   },
   {
    "duration": 94,
    "start_time": "2022-05-12T14:00:00.347Z"
   },
   {
    "duration": 293,
    "start_time": "2022-05-12T14:08:34.163Z"
   },
   {
    "duration": 186,
    "start_time": "2022-05-12T14:15:01.724Z"
   },
   {
    "duration": 78,
    "start_time": "2022-05-12T14:17:47.087Z"
   },
   {
    "duration": 79,
    "start_time": "2022-05-12T14:17:51.286Z"
   },
   {
    "duration": 169,
    "start_time": "2022-05-12T14:18:00.148Z"
   },
   {
    "duration": 184,
    "start_time": "2022-05-12T14:18:46.208Z"
   },
   {
    "duration": 90,
    "start_time": "2022-05-12T14:19:53.905Z"
   },
   {
    "duration": 24,
    "start_time": "2022-05-12T14:20:12.019Z"
   },
   {
    "duration": 87,
    "start_time": "2022-05-12T14:21:23.054Z"
   },
   {
    "duration": 86,
    "start_time": "2022-05-12T14:21:44.085Z"
   },
   {
    "duration": 183,
    "start_time": "2022-05-12T14:22:14.726Z"
   },
   {
    "duration": 100,
    "start_time": "2022-05-12T14:22:24.428Z"
   },
   {
    "duration": 5,
    "start_time": "2022-05-12T14:23:03.485Z"
   },
   {
    "duration": 26,
    "start_time": "2022-05-12T14:23:10.537Z"
   },
   {
    "duration": 12,
    "start_time": "2022-05-12T14:23:35.515Z"
   },
   {
    "duration": 14,
    "start_time": "2022-05-12T14:24:14.877Z"
   },
   {
    "duration": 31,
    "start_time": "2022-05-12T14:24:24.394Z"
   },
   {
    "duration": 18,
    "start_time": "2022-05-12T14:24:36.279Z"
   },
   {
    "duration": 18,
    "start_time": "2022-05-12T14:25:01.098Z"
   },
   {
    "duration": 11,
    "start_time": "2022-05-12T14:25:29.519Z"
   },
   {
    "duration": 20,
    "start_time": "2022-05-12T14:26:38.864Z"
   },
   {
    "duration": 90,
    "start_time": "2022-05-12T14:28:08.186Z"
   },
   {
    "duration": 30,
    "start_time": "2022-05-12T14:28:12.495Z"
   },
   {
    "duration": 86,
    "start_time": "2022-05-12T14:28:14.577Z"
   },
   {
    "duration": 81,
    "start_time": "2022-05-12T14:28:41.776Z"
   },
   {
    "duration": 89,
    "start_time": "2022-05-12T14:28:48.196Z"
   },
   {
    "duration": 72,
    "start_time": "2022-05-14T06:33:12.826Z"
   },
   {
    "duration": 8,
    "start_time": "2022-05-14T06:33:25.881Z"
   },
   {
    "duration": 493,
    "start_time": "2022-05-14T06:33:35.906Z"
   },
   {
    "duration": 215,
    "start_time": "2022-05-14T06:33:36.401Z"
   },
   {
    "duration": 25,
    "start_time": "2022-05-14T06:33:36.618Z"
   },
   {
    "duration": 15,
    "start_time": "2022-05-14T06:33:36.646Z"
   },
   {
    "duration": 65,
    "start_time": "2022-05-14T06:33:36.662Z"
   },
   {
    "duration": 5,
    "start_time": "2022-05-14T06:33:36.730Z"
   },
   {
    "duration": 15,
    "start_time": "2022-05-14T06:33:36.737Z"
   },
   {
    "duration": 8,
    "start_time": "2022-05-14T06:33:36.754Z"
   },
   {
    "duration": 60,
    "start_time": "2022-05-14T06:33:36.764Z"
   },
   {
    "duration": 25,
    "start_time": "2022-05-14T06:33:36.828Z"
   },
   {
    "duration": 54,
    "start_time": "2022-05-14T06:33:36.856Z"
   },
   {
    "duration": 114,
    "start_time": "2022-05-14T06:33:36.912Z"
   },
   {
    "duration": 122,
    "start_time": "2022-05-14T06:33:37.029Z"
   },
   {
    "duration": 97,
    "start_time": "2022-05-14T06:33:37.153Z"
   },
   {
    "duration": 61,
    "start_time": "2022-05-14T06:33:37.252Z"
   },
   {
    "duration": 4,
    "start_time": "2022-05-14T06:33:37.315Z"
   },
   {
    "duration": 16,
    "start_time": "2022-05-14T06:33:37.321Z"
   },
   {
    "duration": 77,
    "start_time": "2022-05-14T06:33:37.339Z"
   },
   {
    "duration": 17,
    "start_time": "2022-05-14T06:33:37.418Z"
   },
   {
    "duration": 18,
    "start_time": "2022-05-14T06:33:37.437Z"
   },
   {
    "duration": 5,
    "start_time": "2022-05-14T06:33:37.457Z"
   },
   {
    "duration": 47,
    "start_time": "2022-05-14T06:33:37.464Z"
   },
   {
    "duration": 19,
    "start_time": "2022-05-14T06:33:37.513Z"
   },
   {
    "duration": 19,
    "start_time": "2022-05-14T06:33:37.533Z"
   },
   {
    "duration": 51,
    "start_time": "2022-05-14T06:33:37.554Z"
   },
   {
    "duration": 20,
    "start_time": "2022-05-14T06:33:37.607Z"
   },
   {
    "duration": 20,
    "start_time": "2022-05-14T06:33:37.630Z"
   },
   {
    "duration": 144,
    "start_time": "2022-05-14T06:33:37.654Z"
   },
   {
    "duration": 139,
    "start_time": "2022-05-14T06:33:37.800Z"
   },
   {
    "duration": 40,
    "start_time": "2022-05-14T06:33:37.941Z"
   },
   {
    "duration": 35,
    "start_time": "2022-05-14T06:33:37.994Z"
   },
   {
    "duration": 27,
    "start_time": "2022-05-14T06:33:38.031Z"
   },
   {
    "duration": 29,
    "start_time": "2022-05-14T06:33:42.385Z"
   },
   {
    "duration": 40,
    "start_time": "2022-05-14T06:33:53.673Z"
   },
   {
    "duration": 475,
    "start_time": "2022-05-14T06:34:26.021Z"
   },
   {
    "duration": 194,
    "start_time": "2022-05-14T06:34:26.499Z"
   },
   {
    "duration": 28,
    "start_time": "2022-05-14T06:34:26.696Z"
   },
   {
    "duration": 15,
    "start_time": "2022-05-14T06:34:26.728Z"
   },
   {
    "duration": 71,
    "start_time": "2022-05-14T06:34:26.745Z"
   },
   {
    "duration": 5,
    "start_time": "2022-05-14T06:34:26.819Z"
   },
   {
    "duration": 15,
    "start_time": "2022-05-14T06:34:26.826Z"
   },
   {
    "duration": 9,
    "start_time": "2022-05-14T06:34:26.844Z"
   },
   {
    "duration": 62,
    "start_time": "2022-05-14T06:34:26.855Z"
   },
   {
    "duration": 26,
    "start_time": "2022-05-14T06:34:26.922Z"
   },
   {
    "duration": 49,
    "start_time": "2022-05-14T06:34:26.950Z"
   },
   {
    "duration": 112,
    "start_time": "2022-05-14T06:34:27.001Z"
   },
   {
    "duration": 121,
    "start_time": "2022-05-14T06:34:27.116Z"
   },
   {
    "duration": 92,
    "start_time": "2022-05-14T06:34:27.239Z"
   },
   {
    "duration": 67,
    "start_time": "2022-05-14T06:34:27.333Z"
   },
   {
    "duration": 4,
    "start_time": "2022-05-14T06:34:27.402Z"
   },
   {
    "duration": 16,
    "start_time": "2022-05-14T06:34:27.408Z"
   },
   {
    "duration": 75,
    "start_time": "2022-05-14T06:34:27.426Z"
   },
   {
    "duration": 17,
    "start_time": "2022-05-14T06:34:27.503Z"
   },
   {
    "duration": 14,
    "start_time": "2022-05-14T06:34:27.522Z"
   },
   {
    "duration": 5,
    "start_time": "2022-05-14T06:34:27.539Z"
   },
   {
    "duration": 62,
    "start_time": "2022-05-14T06:34:27.545Z"
   },
   {
    "duration": 18,
    "start_time": "2022-05-14T06:34:27.609Z"
   },
   {
    "duration": 19,
    "start_time": "2022-05-14T06:34:27.630Z"
   },
   {
    "duration": 43,
    "start_time": "2022-05-14T06:34:27.651Z"
   },
   {
    "duration": 23,
    "start_time": "2022-05-14T06:34:27.696Z"
   },
   {
    "duration": 21,
    "start_time": "2022-05-14T06:34:27.721Z"
   },
   {
    "duration": 147,
    "start_time": "2022-05-14T06:34:27.746Z"
   },
   {
    "duration": 131,
    "start_time": "2022-05-14T06:34:27.895Z"
   },
   {
    "duration": 41,
    "start_time": "2022-05-14T06:34:28.028Z"
   },
   {
    "duration": 50,
    "start_time": "2022-05-14T06:34:28.071Z"
   },
   {
    "duration": 28,
    "start_time": "2022-05-14T06:34:28.124Z"
   },
   {
    "duration": 116,
    "start_time": "2022-05-14T07:07:15.104Z"
   },
   {
    "duration": 27,
    "start_time": "2022-05-14T07:14:23.444Z"
   },
   {
    "duration": 122,
    "start_time": "2022-05-14T07:14:37.212Z"
   },
   {
    "duration": 157,
    "start_time": "2022-05-14T07:15:13.700Z"
   },
   {
    "duration": 179,
    "start_time": "2022-05-14T07:19:38.469Z"
   },
   {
    "duration": 119,
    "start_time": "2022-05-14T07:19:42.365Z"
   },
   {
    "duration": 11,
    "start_time": "2022-05-14T07:19:58.814Z"
   },
   {
    "duration": 10,
    "start_time": "2022-05-14T07:20:14.390Z"
   },
   {
    "duration": 122,
    "start_time": "2022-05-14T07:20:45.389Z"
   },
   {
    "duration": 139,
    "start_time": "2022-05-14T07:20:59.054Z"
   },
   {
    "duration": 162,
    "start_time": "2022-05-14T07:21:04.877Z"
   },
   {
    "duration": 202,
    "start_time": "2022-05-14T07:24:14.790Z"
   },
   {
    "duration": 209,
    "start_time": "2022-05-14T07:24:22.855Z"
   },
   {
    "duration": 21,
    "start_time": "2022-05-14T07:27:54.286Z"
   },
   {
    "duration": 18,
    "start_time": "2022-05-14T07:28:07.311Z"
   },
   {
    "duration": 23,
    "start_time": "2022-05-14T07:28:26.847Z"
   },
   {
    "duration": 22,
    "start_time": "2022-05-14T07:28:37.703Z"
   },
   {
    "duration": 145,
    "start_time": "2022-05-14T07:29:05.095Z"
   },
   {
    "duration": 115,
    "start_time": "2022-05-14T07:29:51.577Z"
   },
   {
    "duration": 119,
    "start_time": "2022-05-14T07:30:08.951Z"
   },
   {
    "duration": 124,
    "start_time": "2022-05-14T07:30:14.261Z"
   },
   {
    "duration": 121,
    "start_time": "2022-05-14T07:30:20.990Z"
   },
   {
    "duration": 134,
    "start_time": "2022-05-14T07:30:38.191Z"
   },
   {
    "duration": 129,
    "start_time": "2022-05-14T07:31:05.703Z"
   },
   {
    "duration": 120,
    "start_time": "2022-05-14T07:31:13.081Z"
   },
   {
    "duration": 29,
    "start_time": "2022-05-14T07:31:32.849Z"
   },
   {
    "duration": 30,
    "start_time": "2022-05-14T07:31:49.811Z"
   },
   {
    "duration": 30,
    "start_time": "2022-05-14T07:31:54.113Z"
   },
   {
    "duration": 27,
    "start_time": "2022-05-14T07:32:42.169Z"
   },
   {
    "duration": 28,
    "start_time": "2022-05-14T07:32:47.808Z"
   },
   {
    "duration": 12,
    "start_time": "2022-05-14T07:33:54.968Z"
   },
   {
    "duration": 11,
    "start_time": "2022-05-14T07:33:58.920Z"
   },
   {
    "duration": 11,
    "start_time": "2022-05-14T07:34:34.896Z"
   },
   {
    "duration": 27,
    "start_time": "2022-05-14T07:35:47.576Z"
   },
   {
    "duration": 29,
    "start_time": "2022-05-14T07:35:56.970Z"
   },
   {
    "duration": 28,
    "start_time": "2022-05-14T07:36:09.464Z"
   },
   {
    "duration": 95,
    "start_time": "2022-05-14T07:36:14.080Z"
   },
   {
    "duration": 170,
    "start_time": "2022-05-14T07:38:52.065Z"
   },
   {
    "duration": 50,
    "start_time": "2022-05-14T07:38:56.169Z"
   },
   {
    "duration": 55,
    "start_time": "2022-05-14T07:40:10.210Z"
   },
   {
    "duration": 90,
    "start_time": "2022-05-14T07:40:16.777Z"
   },
   {
    "duration": 93,
    "start_time": "2022-05-14T07:40:22.201Z"
   },
   {
    "duration": 99,
    "start_time": "2022-05-14T07:40:28.058Z"
   },
   {
    "duration": 178,
    "start_time": "2022-05-14T07:42:33.234Z"
   },
   {
    "duration": 188,
    "start_time": "2022-05-14T07:42:45.283Z"
   },
   {
    "duration": 57,
    "start_time": "2022-05-14T07:42:58.922Z"
   },
   {
    "duration": 93,
    "start_time": "2022-05-14T07:43:15.707Z"
   },
   {
    "duration": 97,
    "start_time": "2022-05-14T07:43:22.070Z"
   },
   {
    "duration": 45,
    "start_time": "2022-05-14T07:47:54.540Z"
   },
   {
    "duration": 128,
    "start_time": "2022-05-14T07:48:30.438Z"
   },
   {
    "duration": 46,
    "start_time": "2022-05-14T07:50:24.372Z"
   },
   {
    "duration": 29,
    "start_time": "2022-05-14T07:50:41.741Z"
   },
   {
    "duration": 178,
    "start_time": "2022-05-14T07:51:12.878Z"
   },
   {
    "duration": 130,
    "start_time": "2022-05-14T07:51:27.052Z"
   },
   {
    "duration": 137,
    "start_time": "2022-05-14T07:51:37.491Z"
   },
   {
    "duration": 189,
    "start_time": "2022-05-14T07:51:46.027Z"
   },
   {
    "duration": 184,
    "start_time": "2022-05-14T07:51:51.724Z"
   },
   {
    "duration": 111,
    "start_time": "2022-05-14T07:53:10.668Z"
   },
   {
    "duration": 43,
    "start_time": "2022-05-14T08:00:02.822Z"
   },
   {
    "duration": 4159,
    "start_time": "2022-05-14T08:00:21.182Z"
   },
   {
    "duration": 35,
    "start_time": "2022-05-14T08:00:38.734Z"
   },
   {
    "duration": 44,
    "start_time": "2022-05-14T08:00:41.742Z"
   },
   {
    "duration": 2846,
    "start_time": "2022-05-14T08:00:46.046Z"
   },
   {
    "duration": 54,
    "start_time": "2022-05-14T08:00:51.774Z"
   },
   {
    "duration": 39,
    "start_time": "2022-05-14T08:01:06.230Z"
   },
   {
    "duration": 43,
    "start_time": "2022-05-14T08:01:10.614Z"
   },
   {
    "duration": 45,
    "start_time": "2022-05-14T08:01:19.822Z"
   },
   {
    "duration": 41,
    "start_time": "2022-05-14T08:01:22.646Z"
   },
   {
    "duration": 42,
    "start_time": "2022-05-14T08:01:28.727Z"
   },
   {
    "duration": 43,
    "start_time": "2022-05-14T08:01:50.238Z"
   },
   {
    "duration": 2884,
    "start_time": "2022-05-14T08:02:39.409Z"
   },
   {
    "duration": 39,
    "start_time": "2022-05-14T08:02:46.215Z"
   },
   {
    "duration": 60,
    "start_time": "2022-05-14T08:02:50.304Z"
   },
   {
    "duration": 47,
    "start_time": "2022-05-14T08:02:55.054Z"
   },
   {
    "duration": 42,
    "start_time": "2022-05-14T08:03:03.862Z"
   },
   {
    "duration": 3402,
    "start_time": "2022-05-14T08:03:13.494Z"
   },
   {
    "duration": 6519,
    "start_time": "2022-05-14T08:03:20.406Z"
   },
   {
    "duration": 49,
    "start_time": "2022-05-14T08:09:13.121Z"
   },
   {
    "duration": 46,
    "start_time": "2022-05-14T08:09:24.818Z"
   },
   {
    "duration": 42,
    "start_time": "2022-05-14T08:09:28.361Z"
   },
   {
    "duration": 44,
    "start_time": "2022-05-14T08:09:34.353Z"
   },
   {
    "duration": 47,
    "start_time": "2022-05-14T08:09:46.561Z"
   },
   {
    "duration": 40,
    "start_time": "2022-05-14T08:09:52.049Z"
   },
   {
    "duration": 37,
    "start_time": "2022-05-14T08:09:56.250Z"
   },
   {
    "duration": 53,
    "start_time": "2022-05-14T08:10:04.449Z"
   },
   {
    "duration": 37,
    "start_time": "2022-05-14T08:10:13.906Z"
   },
   {
    "duration": 93,
    "start_time": "2022-05-14T08:11:24.946Z"
   },
   {
    "duration": 37,
    "start_time": "2022-05-14T08:11:30.528Z"
   },
   {
    "duration": 99,
    "start_time": "2022-05-14T08:11:51.295Z"
   },
   {
    "duration": 89,
    "start_time": "2022-05-14T08:12:44.259Z"
   },
   {
    "duration": 178,
    "start_time": "2022-05-14T08:13:06.193Z"
   },
   {
    "duration": 163,
    "start_time": "2022-05-14T08:13:09.695Z"
   },
   {
    "duration": 45,
    "start_time": "2022-05-14T08:13:27.482Z"
   },
   {
    "duration": 56,
    "start_time": "2022-05-14T08:13:40.422Z"
   },
   {
    "duration": 189,
    "start_time": "2022-05-14T08:14:25.597Z"
   },
   {
    "duration": 34,
    "start_time": "2022-05-14T08:14:31.909Z"
   },
   {
    "duration": 11,
    "start_time": "2022-05-14T08:15:12.615Z"
   },
   {
    "duration": 87,
    "start_time": "2022-05-14T08:15:18.053Z"
   },
   {
    "duration": 82,
    "start_time": "2022-05-14T08:15:29.019Z"
   },
   {
    "duration": 93,
    "start_time": "2022-05-14T08:15:58.466Z"
   },
   {
    "duration": 87,
    "start_time": "2022-05-14T08:16:18.626Z"
   },
   {
    "duration": 92,
    "start_time": "2022-05-14T08:16:26.011Z"
   },
   {
    "duration": 178,
    "start_time": "2022-05-14T08:16:53.631Z"
   },
   {
    "duration": 98,
    "start_time": "2022-05-14T08:16:56.413Z"
   },
   {
    "duration": 18,
    "start_time": "2022-05-14T08:18:13.384Z"
   },
   {
    "duration": 41,
    "start_time": "2022-05-14T08:20:17.464Z"
   },
   {
    "duration": 104,
    "start_time": "2022-05-14T08:21:36.171Z"
   },
   {
    "duration": 116,
    "start_time": "2022-05-14T08:21:53.658Z"
   },
   {
    "duration": 147,
    "start_time": "2022-05-14T08:22:00.101Z"
   },
   {
    "duration": 41,
    "start_time": "2022-05-14T08:22:10.620Z"
   },
   {
    "duration": 129,
    "start_time": "2022-05-14T08:22:14.174Z"
   },
   {
    "duration": 120,
    "start_time": "2022-05-14T08:22:21.238Z"
   },
   {
    "duration": 145,
    "start_time": "2022-05-14T08:22:26.360Z"
   },
   {
    "duration": 104,
    "start_time": "2022-05-14T08:22:44.117Z"
   },
   {
    "duration": 174,
    "start_time": "2022-05-14T08:29:46.132Z"
   },
   {
    "duration": 90,
    "start_time": "2022-05-14T08:29:49.085Z"
   },
   {
    "duration": 99,
    "start_time": "2022-05-14T08:30:01.924Z"
   },
   {
    "duration": 35,
    "start_time": "2022-05-14T08:30:27.253Z"
   },
   {
    "duration": 40,
    "start_time": "2022-05-14T08:30:50.299Z"
   },
   {
    "duration": 197,
    "start_time": "2022-05-14T08:31:07.436Z"
   },
   {
    "duration": 117,
    "start_time": "2022-05-14T08:31:25.997Z"
   },
   {
    "duration": 39,
    "start_time": "2022-05-14T08:32:03.526Z"
   },
   {
    "duration": 37,
    "start_time": "2022-05-14T08:32:09.157Z"
   },
   {
    "duration": 116,
    "start_time": "2022-05-14T08:32:32.757Z"
   },
   {
    "duration": 114,
    "start_time": "2022-05-14T08:32:49.205Z"
   },
   {
    "duration": 113,
    "start_time": "2022-05-14T08:32:55.188Z"
   },
   {
    "duration": 114,
    "start_time": "2022-05-14T08:33:04.493Z"
   },
   {
    "duration": 111,
    "start_time": "2022-05-14T08:33:08.004Z"
   },
   {
    "duration": 128,
    "start_time": "2022-05-14T08:33:11.012Z"
   },
   {
    "duration": 40,
    "start_time": "2022-05-14T08:33:15.126Z"
   },
   {
    "duration": 144,
    "start_time": "2022-05-14T08:33:16.725Z"
   },
   {
    "duration": 169,
    "start_time": "2022-05-14T08:33:20.717Z"
   },
   {
    "duration": 138,
    "start_time": "2022-05-14T08:33:25.108Z"
   },
   {
    "duration": 32,
    "start_time": "2022-05-14T08:34:36.829Z"
   },
   {
    "duration": 170,
    "start_time": "2022-05-14T08:34:57.719Z"
   },
   {
    "duration": 22,
    "start_time": "2022-05-14T08:35:02.716Z"
   },
   {
    "duration": 32,
    "start_time": "2022-05-14T08:35:08.653Z"
   },
   {
    "duration": 31,
    "start_time": "2022-05-14T08:35:12.005Z"
   },
   {
    "duration": 0,
    "start_time": "2022-05-14T08:35:45.803Z"
   },
   {
    "duration": 0,
    "start_time": "2022-05-14T08:35:50.998Z"
   },
   {
    "duration": 0,
    "start_time": "2022-05-14T08:35:57.655Z"
   },
   {
    "duration": 0,
    "start_time": "2022-05-14T08:36:15.592Z"
   },
   {
    "duration": 0,
    "start_time": "2022-05-14T08:36:26.416Z"
   },
   {
    "duration": 3313,
    "start_time": "2022-05-14T08:36:35.520Z"
   },
   {
    "duration": 3249,
    "start_time": "2022-05-14T08:36:52.320Z"
   },
   {
    "duration": 3036,
    "start_time": "2022-05-14T08:37:00.409Z"
   },
   {
    "duration": 41,
    "start_time": "2022-05-14T08:40:23.870Z"
   },
   {
    "duration": 86,
    "start_time": "2022-05-14T08:42:49.327Z"
   },
   {
    "duration": 90,
    "start_time": "2022-05-14T08:44:09.671Z"
   },
   {
    "duration": 10,
    "start_time": "2022-05-14T08:45:04.663Z"
   },
   {
    "duration": 481,
    "start_time": "2022-05-14T08:45:17.742Z"
   },
   {
    "duration": 188,
    "start_time": "2022-05-14T08:45:18.225Z"
   },
   {
    "duration": 25,
    "start_time": "2022-05-14T08:45:18.416Z"
   },
   {
    "duration": 23,
    "start_time": "2022-05-14T08:45:18.443Z"
   },
   {
    "duration": 60,
    "start_time": "2022-05-14T08:45:18.469Z"
   },
   {
    "duration": 5,
    "start_time": "2022-05-14T08:45:18.532Z"
   },
   {
    "duration": 16,
    "start_time": "2022-05-14T08:45:18.539Z"
   },
   {
    "duration": 7,
    "start_time": "2022-05-14T08:45:18.558Z"
   },
   {
    "duration": 34,
    "start_time": "2022-05-14T08:45:18.593Z"
   },
   {
    "duration": 26,
    "start_time": "2022-05-14T08:45:18.629Z"
   },
   {
    "duration": 58,
    "start_time": "2022-05-14T08:45:18.658Z"
   },
   {
    "duration": 105,
    "start_time": "2022-05-14T08:45:18.718Z"
   },
   {
    "duration": 111,
    "start_time": "2022-05-14T08:45:18.825Z"
   },
   {
    "duration": 92,
    "start_time": "2022-05-14T08:45:18.942Z"
   },
   {
    "duration": 65,
    "start_time": "2022-05-14T08:45:19.037Z"
   },
   {
    "duration": 5,
    "start_time": "2022-05-14T08:45:19.104Z"
   },
   {
    "duration": 15,
    "start_time": "2022-05-14T08:45:19.112Z"
   },
   {
    "duration": 84,
    "start_time": "2022-05-14T08:45:19.129Z"
   },
   {
    "duration": 23,
    "start_time": "2022-05-14T08:45:19.216Z"
   },
   {
    "duration": 21,
    "start_time": "2022-05-14T08:45:19.242Z"
   },
   {
    "duration": 30,
    "start_time": "2022-05-14T08:45:19.265Z"
   },
   {
    "duration": 24,
    "start_time": "2022-05-14T08:45:19.298Z"
   },
   {
    "duration": 20,
    "start_time": "2022-05-14T08:45:19.324Z"
   },
   {
    "duration": 54,
    "start_time": "2022-05-14T08:45:19.346Z"
   },
   {
    "duration": 18,
    "start_time": "2022-05-14T08:45:19.403Z"
   },
   {
    "duration": 22,
    "start_time": "2022-05-14T08:45:19.424Z"
   },
   {
    "duration": 55,
    "start_time": "2022-05-14T08:45:19.448Z"
   },
   {
    "duration": 109,
    "start_time": "2022-05-14T08:45:19.506Z"
   },
   {
    "duration": 2710,
    "start_time": "2022-05-14T08:45:19.617Z"
   },
   {
    "duration": 0,
    "start_time": "2022-05-14T08:45:22.329Z"
   },
   {
    "duration": 0,
    "start_time": "2022-05-14T08:45:22.331Z"
   },
   {
    "duration": 0,
    "start_time": "2022-05-14T08:45:22.332Z"
   },
   {
    "duration": 0,
    "start_time": "2022-05-14T08:45:22.334Z"
   },
   {
    "duration": 0,
    "start_time": "2022-05-14T08:45:22.335Z"
   },
   {
    "duration": 0,
    "start_time": "2022-05-14T08:45:22.337Z"
   },
   {
    "duration": 0,
    "start_time": "2022-05-14T08:45:22.338Z"
   },
   {
    "duration": 0,
    "start_time": "2022-05-14T08:45:22.339Z"
   },
   {
    "duration": 0,
    "start_time": "2022-05-14T08:45:22.340Z"
   },
   {
    "duration": 0,
    "start_time": "2022-05-14T08:45:22.342Z"
   },
   {
    "duration": 0,
    "start_time": "2022-05-14T08:45:22.343Z"
   },
   {
    "duration": 0,
    "start_time": "2022-05-14T08:45:22.345Z"
   },
   {
    "duration": 4,
    "start_time": "2022-05-14T08:46:06.674Z"
   },
   {
    "duration": 203,
    "start_time": "2022-05-14T08:46:06.680Z"
   },
   {
    "duration": 16,
    "start_time": "2022-05-14T08:46:06.886Z"
   },
   {
    "duration": 16,
    "start_time": "2022-05-14T08:46:06.904Z"
   },
   {
    "duration": 41,
    "start_time": "2022-05-14T08:46:06.923Z"
   },
   {
    "duration": 5,
    "start_time": "2022-05-14T08:46:06.992Z"
   },
   {
    "duration": 11,
    "start_time": "2022-05-14T08:46:06.999Z"
   },
   {
    "duration": 8,
    "start_time": "2022-05-14T08:46:07.012Z"
   },
   {
    "duration": 37,
    "start_time": "2022-05-14T08:46:07.022Z"
   },
   {
    "duration": 53,
    "start_time": "2022-05-14T08:46:07.061Z"
   },
   {
    "duration": 36,
    "start_time": "2022-05-14T08:46:07.117Z"
   },
   {
    "duration": 122,
    "start_time": "2022-05-14T08:46:07.156Z"
   },
   {
    "duration": 112,
    "start_time": "2022-05-14T08:46:07.293Z"
   },
   {
    "duration": 94,
    "start_time": "2022-05-14T08:46:07.408Z"
   },
   {
    "duration": 53,
    "start_time": "2022-05-14T08:46:07.505Z"
   },
   {
    "duration": 5,
    "start_time": "2022-05-14T08:46:07.561Z"
   },
   {
    "duration": 38,
    "start_time": "2022-05-14T08:46:07.568Z"
   },
   {
    "duration": 52,
    "start_time": "2022-05-14T08:46:07.608Z"
   },
   {
    "duration": 51,
    "start_time": "2022-05-14T08:46:07.663Z"
   },
   {
    "duration": 20,
    "start_time": "2022-05-14T08:46:07.716Z"
   },
   {
    "duration": 5,
    "start_time": "2022-05-14T08:46:07.738Z"
   },
   {
    "duration": 57,
    "start_time": "2022-05-14T08:46:07.745Z"
   },
   {
    "duration": 20,
    "start_time": "2022-05-14T08:46:07.804Z"
   },
   {
    "duration": 18,
    "start_time": "2022-05-14T08:46:07.826Z"
   },
   {
    "duration": 54,
    "start_time": "2022-05-14T08:46:07.846Z"
   },
   {
    "duration": 21,
    "start_time": "2022-05-14T08:46:07.902Z"
   },
   {
    "duration": 20,
    "start_time": "2022-05-14T08:46:07.926Z"
   },
   {
    "duration": 119,
    "start_time": "2022-05-14T08:46:07.948Z"
   },
   {
    "duration": 109,
    "start_time": "2022-05-14T08:46:08.069Z"
   },
   {
    "duration": 34,
    "start_time": "2022-05-14T08:46:08.193Z"
   },
   {
    "duration": 28,
    "start_time": "2022-05-14T08:46:08.229Z"
   },
   {
    "duration": 33,
    "start_time": "2022-05-14T08:46:08.260Z"
   },
   {
    "duration": 30,
    "start_time": "2022-05-14T08:46:08.296Z"
   },
   {
    "duration": 21,
    "start_time": "2022-05-14T08:46:08.328Z"
   },
   {
    "duration": 54,
    "start_time": "2022-05-14T08:46:08.351Z"
   },
   {
    "duration": 16,
    "start_time": "2022-05-14T08:46:08.407Z"
   },
   {
    "duration": 32,
    "start_time": "2022-05-14T08:46:08.428Z"
   },
   {
    "duration": 31,
    "start_time": "2022-05-14T08:46:08.462Z"
   },
   {
    "duration": 20,
    "start_time": "2022-05-14T08:46:08.496Z"
   },
   {
    "duration": 7,
    "start_time": "2022-05-14T08:46:08.519Z"
   },
   {
    "duration": 32,
    "start_time": "2022-05-14T08:46:47.785Z"
   },
   {
    "duration": 31,
    "start_time": "2022-05-14T08:46:49.634Z"
   },
   {
    "duration": 10,
    "start_time": "2022-05-14T08:47:38.131Z"
   },
   {
    "duration": 12,
    "start_time": "2022-05-14T08:48:05.473Z"
   },
   {
    "duration": 12,
    "start_time": "2022-05-14T08:48:10.203Z"
   },
   {
    "duration": 18,
    "start_time": "2022-05-14T08:48:34.603Z"
   },
   {
    "duration": 30,
    "start_time": "2022-05-14T08:49:07.845Z"
   },
   {
    "duration": 12,
    "start_time": "2022-05-14T08:49:12.123Z"
   },
   {
    "duration": 17,
    "start_time": "2022-05-14T08:49:24.573Z"
   },
   {
    "duration": 32,
    "start_time": "2022-05-14T08:49:53.733Z"
   },
   {
    "duration": 13,
    "start_time": "2022-05-14T08:51:57.334Z"
   },
   {
    "duration": 11,
    "start_time": "2022-05-14T08:55:18.092Z"
   },
   {
    "duration": 15,
    "start_time": "2022-05-14T08:55:29.743Z"
   },
   {
    "duration": 31,
    "start_time": "2022-05-14T08:55:44.552Z"
   },
   {
    "duration": 11,
    "start_time": "2022-05-14T08:55:47.593Z"
   },
   {
    "duration": 13,
    "start_time": "2022-05-14T08:55:59.947Z"
   },
   {
    "duration": 16,
    "start_time": "2022-05-14T08:56:43.623Z"
   },
   {
    "duration": 16,
    "start_time": "2022-05-14T08:56:58.461Z"
   },
   {
    "duration": 180,
    "start_time": "2022-05-14T08:57:03.863Z"
   },
   {
    "duration": 11,
    "start_time": "2022-05-14T08:57:11.774Z"
   },
   {
    "duration": 173,
    "start_time": "2022-05-14T08:57:16.023Z"
   },
   {
    "duration": 163,
    "start_time": "2022-05-14T08:57:26.104Z"
   },
   {
    "duration": 17,
    "start_time": "2022-05-14T08:59:45.241Z"
   },
   {
    "duration": 29,
    "start_time": "2022-05-14T08:59:51.527Z"
   },
   {
    "duration": 16,
    "start_time": "2022-05-14T09:00:19.404Z"
   },
   {
    "duration": 30,
    "start_time": "2022-05-14T09:00:33.422Z"
   },
   {
    "duration": 23,
    "start_time": "2022-05-14T09:00:52.583Z"
   },
   {
    "duration": 28,
    "start_time": "2022-05-14T09:01:19.388Z"
   },
   {
    "duration": 21,
    "start_time": "2022-05-14T09:02:22.403Z"
   },
   {
    "duration": 20,
    "start_time": "2022-05-14T09:03:46.951Z"
   },
   {
    "duration": 23,
    "start_time": "2022-05-14T09:05:05.593Z"
   },
   {
    "duration": 14,
    "start_time": "2022-05-14T09:05:16.113Z"
   },
   {
    "duration": 6,
    "start_time": "2022-05-14T09:05:18.949Z"
   },
   {
    "duration": 12,
    "start_time": "2022-05-14T09:05:37.183Z"
   },
   {
    "duration": 9,
    "start_time": "2022-05-14T09:05:43.593Z"
   },
   {
    "duration": 2632,
    "start_time": "2022-05-14T09:05:46.143Z"
   },
   {
    "duration": 7,
    "start_time": "2022-05-14T09:05:51.181Z"
   },
   {
    "duration": 172,
    "start_time": "2022-05-14T09:06:40.194Z"
   },
   {
    "duration": 178,
    "start_time": "2022-05-14T09:07:12.053Z"
   },
   {
    "duration": 190,
    "start_time": "2022-05-14T09:07:24.593Z"
   },
   {
    "duration": 6,
    "start_time": "2022-05-14T09:10:17.081Z"
   },
   {
    "duration": 527,
    "start_time": "2022-05-14T09:17:16.104Z"
   },
   {
    "duration": 198,
    "start_time": "2022-05-14T09:17:16.634Z"
   },
   {
    "duration": 26,
    "start_time": "2022-05-14T09:17:16.834Z"
   },
   {
    "duration": 35,
    "start_time": "2022-05-14T09:17:16.862Z"
   },
   {
    "duration": 63,
    "start_time": "2022-05-14T09:17:16.901Z"
   },
   {
    "duration": 26,
    "start_time": "2022-05-14T09:17:16.967Z"
   },
   {
    "duration": 18,
    "start_time": "2022-05-14T09:17:16.996Z"
   },
   {
    "duration": 12,
    "start_time": "2022-05-14T09:17:17.016Z"
   },
   {
    "duration": 77,
    "start_time": "2022-05-14T09:17:17.031Z"
   },
   {
    "duration": 30,
    "start_time": "2022-05-14T09:17:17.111Z"
   },
   {
    "duration": 52,
    "start_time": "2022-05-14T09:17:17.144Z"
   },
   {
    "duration": 119,
    "start_time": "2022-05-14T09:17:17.198Z"
   },
   {
    "duration": 125,
    "start_time": "2022-05-14T09:17:17.319Z"
   },
   {
    "duration": 101,
    "start_time": "2022-05-14T09:17:17.450Z"
   },
   {
    "duration": 61,
    "start_time": "2022-05-14T09:17:17.554Z"
   },
   {
    "duration": 5,
    "start_time": "2022-05-14T09:17:17.617Z"
   },
   {
    "duration": 17,
    "start_time": "2022-05-14T09:17:17.624Z"
   },
   {
    "duration": 72,
    "start_time": "2022-05-14T09:17:17.643Z"
   },
   {
    "duration": 22,
    "start_time": "2022-05-14T09:17:17.717Z"
   },
   {
    "duration": 21,
    "start_time": "2022-05-14T09:17:17.742Z"
   },
   {
    "duration": 31,
    "start_time": "2022-05-14T09:17:17.765Z"
   },
   {
    "duration": 32,
    "start_time": "2022-05-14T09:17:17.798Z"
   },
   {
    "duration": 20,
    "start_time": "2022-05-14T09:17:17.833Z"
   },
   {
    "duration": 49,
    "start_time": "2022-05-14T09:17:17.856Z"
   },
   {
    "duration": 19,
    "start_time": "2022-05-14T09:17:17.908Z"
   },
   {
    "duration": 22,
    "start_time": "2022-05-14T09:17:17.930Z"
   },
   {
    "duration": 52,
    "start_time": "2022-05-14T09:17:17.955Z"
   },
   {
    "duration": 121,
    "start_time": "2022-05-14T09:17:18.009Z"
   },
   {
    "duration": 113,
    "start_time": "2022-05-14T09:17:18.132Z"
   },
   {
    "duration": 46,
    "start_time": "2022-05-14T09:17:18.247Z"
   },
   {
    "duration": 28,
    "start_time": "2022-05-14T09:17:18.295Z"
   },
   {
    "duration": 6,
    "start_time": "2022-05-14T09:17:18.325Z"
   },
   {
    "duration": 33,
    "start_time": "2022-05-14T09:17:18.333Z"
   },
   {
    "duration": 39,
    "start_time": "2022-05-14T09:17:18.368Z"
   },
   {
    "duration": 21,
    "start_time": "2022-05-14T09:17:18.410Z"
   },
   {
    "duration": 15,
    "start_time": "2022-05-14T09:17:18.433Z"
   },
   {
    "duration": 49,
    "start_time": "2022-05-14T09:17:18.450Z"
   },
   {
    "duration": 8,
    "start_time": "2022-05-14T09:17:18.502Z"
   },
   {
    "duration": 13,
    "start_time": "2022-05-14T09:17:18.513Z"
   },
   {
    "duration": 8,
    "start_time": "2022-05-14T09:17:18.529Z"
   },
   {
    "duration": 161,
    "start_time": "2022-05-14T09:21:08.722Z"
   },
   {
    "duration": 528,
    "start_time": "2022-05-14T09:26:44.148Z"
   },
   {
    "duration": 195,
    "start_time": "2022-05-14T09:26:44.679Z"
   },
   {
    "duration": 36,
    "start_time": "2022-05-14T09:26:44.876Z"
   },
   {
    "duration": 15,
    "start_time": "2022-05-14T09:26:44.915Z"
   },
   {
    "duration": 70,
    "start_time": "2022-05-14T09:26:44.935Z"
   },
   {
    "duration": 7,
    "start_time": "2022-05-14T09:26:45.008Z"
   },
   {
    "duration": 19,
    "start_time": "2022-05-14T09:26:45.018Z"
   },
   {
    "duration": 9,
    "start_time": "2022-05-14T09:26:45.039Z"
   },
   {
    "duration": 66,
    "start_time": "2022-05-14T09:26:45.051Z"
   },
   {
    "duration": 25,
    "start_time": "2022-05-14T09:26:45.120Z"
   },
   {
    "duration": 54,
    "start_time": "2022-05-14T09:26:45.147Z"
   },
   {
    "duration": 125,
    "start_time": "2022-05-14T09:26:45.203Z"
   },
   {
    "duration": 136,
    "start_time": "2022-05-14T09:26:45.330Z"
   },
   {
    "duration": 102,
    "start_time": "2022-05-14T09:26:45.472Z"
   },
   {
    "duration": 60,
    "start_time": "2022-05-14T09:26:45.576Z"
   },
   {
    "duration": 5,
    "start_time": "2022-05-14T09:26:45.638Z"
   },
   {
    "duration": 15,
    "start_time": "2022-05-14T09:26:45.645Z"
   },
   {
    "duration": 81,
    "start_time": "2022-05-14T09:26:45.663Z"
   },
   {
    "duration": 17,
    "start_time": "2022-05-14T09:26:45.746Z"
   },
   {
    "duration": 38,
    "start_time": "2022-05-14T09:26:45.766Z"
   },
   {
    "duration": 5,
    "start_time": "2022-05-14T09:26:45.806Z"
   },
   {
    "duration": 29,
    "start_time": "2022-05-14T09:26:45.813Z"
   },
   {
    "duration": 50,
    "start_time": "2022-05-14T09:26:45.844Z"
   },
   {
    "duration": 23,
    "start_time": "2022-05-14T09:26:45.897Z"
   },
   {
    "duration": 21,
    "start_time": "2022-05-14T09:26:45.922Z"
   },
   {
    "duration": 60,
    "start_time": "2022-05-14T09:26:45.945Z"
   },
   {
    "duration": 21,
    "start_time": "2022-05-14T09:26:46.007Z"
   },
   {
    "duration": 130,
    "start_time": "2022-05-14T09:26:46.031Z"
   },
   {
    "duration": 114,
    "start_time": "2022-05-14T09:26:46.163Z"
   },
   {
    "duration": 63,
    "start_time": "2022-05-14T09:26:46.279Z"
   },
   {
    "duration": 63,
    "start_time": "2022-05-14T09:26:46.346Z"
   },
   {
    "duration": 8,
    "start_time": "2022-05-14T09:26:46.415Z"
   },
   {
    "duration": 34,
    "start_time": "2022-05-14T09:26:46.426Z"
   },
   {
    "duration": 41,
    "start_time": "2022-05-14T09:26:46.462Z"
   },
   {
    "duration": 23,
    "start_time": "2022-05-14T09:26:46.506Z"
   },
   {
    "duration": 15,
    "start_time": "2022-05-14T09:26:46.531Z"
   },
   {
    "duration": 49,
    "start_time": "2022-05-14T09:26:46.548Z"
   },
   {
    "duration": 8,
    "start_time": "2022-05-14T09:26:46.600Z"
   },
   {
    "duration": 11,
    "start_time": "2022-05-14T09:26:46.611Z"
   },
   {
    "duration": 8,
    "start_time": "2022-05-14T09:26:46.624Z"
   },
   {
    "duration": 23,
    "start_time": "2022-05-14T09:28:06.719Z"
   },
   {
    "duration": 25,
    "start_time": "2022-05-14T09:28:09.543Z"
   },
   {
    "duration": 515,
    "start_time": "2022-05-14T09:28:26.172Z"
   },
   {
    "duration": 196,
    "start_time": "2022-05-14T09:28:26.694Z"
   },
   {
    "duration": 26,
    "start_time": "2022-05-14T09:28:26.892Z"
   },
   {
    "duration": 15,
    "start_time": "2022-05-14T09:28:26.921Z"
   },
   {
    "duration": 68,
    "start_time": "2022-05-14T09:28:26.939Z"
   },
   {
    "duration": 6,
    "start_time": "2022-05-14T09:28:27.009Z"
   },
   {
    "duration": 18,
    "start_time": "2022-05-14T09:28:27.017Z"
   },
   {
    "duration": 13,
    "start_time": "2022-05-14T09:28:27.038Z"
   },
   {
    "duration": 56,
    "start_time": "2022-05-14T09:28:27.053Z"
   },
   {
    "duration": 24,
    "start_time": "2022-05-14T09:28:27.111Z"
   },
   {
    "duration": 58,
    "start_time": "2022-05-14T09:28:27.137Z"
   },
   {
    "duration": 110,
    "start_time": "2022-05-14T09:28:27.197Z"
   },
   {
    "duration": 125,
    "start_time": "2022-05-14T09:28:27.309Z"
   },
   {
    "duration": 102,
    "start_time": "2022-05-14T09:28:27.440Z"
   },
   {
    "duration": 66,
    "start_time": "2022-05-14T09:28:27.544Z"
   },
   {
    "duration": 4,
    "start_time": "2022-05-14T09:28:27.612Z"
   },
   {
    "duration": 16,
    "start_time": "2022-05-14T09:28:27.618Z"
   },
   {
    "duration": 74,
    "start_time": "2022-05-14T09:28:27.637Z"
   },
   {
    "duration": 22,
    "start_time": "2022-05-14T09:28:27.713Z"
   },
   {
    "duration": 21,
    "start_time": "2022-05-14T09:28:27.737Z"
   },
   {
    "duration": 34,
    "start_time": "2022-05-14T09:28:27.760Z"
   },
   {
    "duration": 27,
    "start_time": "2022-05-14T09:28:27.796Z"
   },
   {
    "duration": 20,
    "start_time": "2022-05-14T09:28:27.826Z"
   },
   {
    "duration": 45,
    "start_time": "2022-05-14T09:28:27.849Z"
   },
   {
    "duration": 21,
    "start_time": "2022-05-14T09:28:27.896Z"
   },
   {
    "duration": 22,
    "start_time": "2022-05-14T09:28:27.919Z"
   },
   {
    "duration": 53,
    "start_time": "2022-05-14T09:28:27.943Z"
   },
   {
    "duration": 119,
    "start_time": "2022-05-14T09:28:27.998Z"
   },
   {
    "duration": 99,
    "start_time": "2022-05-14T09:28:28.120Z"
   },
   {
    "duration": 32,
    "start_time": "2022-05-14T09:28:28.222Z"
   },
   {
    "duration": 51,
    "start_time": "2022-05-14T09:28:28.257Z"
   },
   {
    "duration": 8,
    "start_time": "2022-05-14T09:28:28.311Z"
   },
   {
    "duration": 41,
    "start_time": "2022-05-14T09:28:28.322Z"
   },
   {
    "duration": 40,
    "start_time": "2022-05-14T09:28:28.366Z"
   },
   {
    "duration": 33,
    "start_time": "2022-05-14T09:28:28.409Z"
   },
   {
    "duration": 50,
    "start_time": "2022-05-14T09:28:28.445Z"
   },
   {
    "duration": 18,
    "start_time": "2022-05-14T09:28:28.498Z"
   },
   {
    "duration": 8,
    "start_time": "2022-05-14T09:28:28.519Z"
   },
   {
    "duration": 16,
    "start_time": "2022-05-14T09:28:28.530Z"
   },
   {
    "duration": 10,
    "start_time": "2022-05-14T09:28:28.549Z"
   },
   {
    "duration": 18,
    "start_time": "2022-05-14T09:28:51.931Z"
   },
   {
    "duration": 19,
    "start_time": "2022-05-14T09:28:53.441Z"
   },
   {
    "duration": 636,
    "start_time": "2022-05-14T09:29:04.427Z"
   },
   {
    "duration": 197,
    "start_time": "2022-05-14T09:29:05.067Z"
   },
   {
    "duration": 29,
    "start_time": "2022-05-14T09:29:05.266Z"
   },
   {
    "duration": 16,
    "start_time": "2022-05-14T09:29:05.298Z"
   },
   {
    "duration": 43,
    "start_time": "2022-05-14T09:29:05.317Z"
   },
   {
    "duration": 32,
    "start_time": "2022-05-14T09:29:05.362Z"
   },
   {
    "duration": 13,
    "start_time": "2022-05-14T09:29:05.397Z"
   },
   {
    "duration": 10,
    "start_time": "2022-05-14T09:29:05.413Z"
   },
   {
    "duration": 68,
    "start_time": "2022-05-14T09:29:05.426Z"
   },
   {
    "duration": 26,
    "start_time": "2022-05-14T09:29:05.496Z"
   },
   {
    "duration": 33,
    "start_time": "2022-05-14T09:29:05.525Z"
   },
   {
    "duration": 133,
    "start_time": "2022-05-14T09:29:05.561Z"
   },
   {
    "duration": 126,
    "start_time": "2022-05-14T09:29:05.697Z"
   },
   {
    "duration": 94,
    "start_time": "2022-05-14T09:29:05.829Z"
   },
   {
    "duration": 52,
    "start_time": "2022-05-14T09:29:05.926Z"
   },
   {
    "duration": 5,
    "start_time": "2022-05-14T09:29:05.994Z"
   },
   {
    "duration": 16,
    "start_time": "2022-05-14T09:29:06.002Z"
   },
   {
    "duration": 81,
    "start_time": "2022-05-14T09:29:06.021Z"
   },
   {
    "duration": 20,
    "start_time": "2022-05-14T09:29:06.105Z"
   },
   {
    "duration": 19,
    "start_time": "2022-05-14T09:29:06.127Z"
   },
   {
    "duration": 6,
    "start_time": "2022-05-14T09:29:06.149Z"
   },
   {
    "duration": 21,
    "start_time": "2022-05-14T09:29:06.192Z"
   },
   {
    "duration": 20,
    "start_time": "2022-05-14T09:29:06.215Z"
   },
   {
    "duration": 20,
    "start_time": "2022-05-14T09:29:06.237Z"
   },
   {
    "duration": 51,
    "start_time": "2022-05-14T09:29:06.259Z"
   },
   {
    "duration": 22,
    "start_time": "2022-05-14T09:29:06.312Z"
   },
   {
    "duration": 19,
    "start_time": "2022-05-14T09:29:06.336Z"
   },
   {
    "duration": 146,
    "start_time": "2022-05-14T09:29:06.357Z"
   },
   {
    "duration": 106,
    "start_time": "2022-05-14T09:29:06.505Z"
   },
   {
    "duration": 35,
    "start_time": "2022-05-14T09:29:06.613Z"
   },
   {
    "duration": 52,
    "start_time": "2022-05-14T09:29:06.650Z"
   },
   {
    "duration": 6,
    "start_time": "2022-05-14T09:29:06.704Z"
   },
   {
    "duration": 30,
    "start_time": "2022-05-14T09:29:06.712Z"
   },
   {
    "duration": 50,
    "start_time": "2022-05-14T09:29:06.744Z"
   },
   {
    "duration": 21,
    "start_time": "2022-05-14T09:29:06.797Z"
   },
   {
    "duration": 16,
    "start_time": "2022-05-14T09:29:06.820Z"
   },
   {
    "duration": 13,
    "start_time": "2022-05-14T09:29:06.838Z"
   },
   {
    "duration": 44,
    "start_time": "2022-05-14T09:29:06.853Z"
   },
   {
    "duration": 12,
    "start_time": "2022-05-14T09:29:06.899Z"
   },
   {
    "duration": 10,
    "start_time": "2022-05-14T09:29:06.913Z"
   }
  ],
  "colab": {
   "collapsed_sections": [
    "E0vqbgi9ay0H",
    "VUC88oWjTJw2"
   ],
   "name": "yandex_music_project.ipynb",
   "provenance": []
  },
  "kernelspec": {
   "display_name": "Python 3 (ipykernel)",
   "language": "python",
   "name": "python3"
  },
  "language_info": {
   "codemirror_mode": {
    "name": "ipython",
    "version": 3
   },
   "file_extension": ".py",
   "mimetype": "text/x-python",
   "name": "python",
   "nbconvert_exporter": "python",
   "pygments_lexer": "ipython3",
   "version": "3.9.7"
  },
  "toc": {
   "base_numbering": 1,
   "nav_menu": {},
   "number_sections": true,
   "sideBar": true,
   "skip_h1_title": true,
   "title_cell": "Table of Contents",
   "title_sidebar": "Contents",
   "toc_cell": false,
   "toc_position": {
    "height": "calc(100% - 180px)",
    "left": "10px",
    "top": "150px",
    "width": "298.594px"
   },
   "toc_section_display": true,
   "toc_window_display": true
  }
 },
 "nbformat": 4,
 "nbformat_minor": 1
}
