{
 "cells": [
  {
   "cell_type": "markdown",
   "metadata": {
    "id": "sIfNaMOxgFyK",
    "slideshow": {
     "slide_type": "-"
    }
   },
   "source": [
    "## Исследование данных о российском кинопрокате\n",
    "\n"
   ]
  },
  {
   "cell_type": "markdown",
   "metadata": {},
   "source": [
    "Заказчик этого исследования — Министерство культуры Российской Федерации.\n",
    "\n",
    "**Цель исследования** \n",
    "1. Изучение рынка российского кинопроката и выявление текущих трендов.\n",
    "2. Ответить на вопрос -  насколько фильмы, которые получили государственную поддержку интересны зрителю.\n",
    "\n",
    "**Ход исследования**\n",
    "\n",
    "Данные опубликованны на портале открытых данных Министерства культуры. Набор данных содержит информацию о прокатных удостоверениях, сборах и государственной поддержке фильмов, а также информацию с сайта КиноПоиск. \n",
    "\n",
    "Вы проверите данные на ошибки и оцените их влияние на исследование. Затем, на этапе предобработки вы поищете возможность исправить самые критичные ошибки данных.\n",
    " \n",
    "Таким образом, исследование пройдёт в три этапа:\n",
    " 1. Обзор данных.\n",
    " 2. Предобработка данных.\n",
    " 3. Исследовательский анализ данных"
   ]
  },
  {
   "cell_type": "markdown",
   "metadata": {
    "id": "3bSlkCsbgFyL"
   },
   "source": [
    "### Шаг 1. Откройте файлы с данными и объедините их в один датафрейм. \n",
    "\n",
    "Объедините данные таким образом, чтобы все объекты из датасета `mkrf_movies` обязательно вошли в получившийся датафрейм. "
   ]
  },
  {
   "cell_type": "code",
   "execution_count": 1,
   "metadata": {
    "id": "dw87FlzMgFyM"
   },
   "outputs": [],
   "source": [
    "# Импорт библиотек\n",
    "import pandas as pd\n",
    "import numpy as np\n",
    "import matplotlib.pyplot as plt"
   ]
  },
  {
   "cell_type": "code",
   "execution_count": 2,
   "metadata": {},
   "outputs": [],
   "source": [
    "# Сохранение данных о прокатных удостоверениях в переменную mkrf_movies\n",
    "mkrf_movies = pd.read_csv('/datasets/mkrf_movies.csv')"
   ]
  },
  {
   "cell_type": "code",
   "execution_count": 3,
   "metadata": {},
   "outputs": [],
   "source": [
    "# Сохранение данных о прокате в кинотеатрах в переменную mkrf_shows\n",
    "mkrf_shows = pd.read_csv('/datasets/mkrf_shows.csv')"
   ]
  },
  {
   "cell_type": "code",
   "execution_count": 4,
   "metadata": {
    "scrolled": false
   },
   "outputs": [
    {
     "name": "stdout",
     "output_type": "stream",
     "text": [
      "<class 'pandas.core.frame.DataFrame'>\n",
      "RangeIndex: 7486 entries, 0 to 7485\n",
      "Data columns (total 15 columns):\n",
      " #   Column                 Non-Null Count  Dtype  \n",
      "---  ------                 --------------  -----  \n",
      " 0   title                  7486 non-null   object \n",
      " 1   puNumber               7486 non-null   object \n",
      " 2   show_start_date        7486 non-null   object \n",
      " 3   type                   7486 non-null   object \n",
      " 4   film_studio            7468 non-null   object \n",
      " 5   production_country     7484 non-null   object \n",
      " 6   director               7477 non-null   object \n",
      " 7   producer               6918 non-null   object \n",
      " 8   age_restriction        7486 non-null   object \n",
      " 9   refundable_support     332 non-null    float64\n",
      " 10  nonrefundable_support  332 non-null    float64\n",
      " 11  budget                 332 non-null    float64\n",
      " 12  financing_source       332 non-null    object \n",
      " 13  ratings                6519 non-null   object \n",
      " 14  genres                 6510 non-null   object \n",
      "dtypes: float64(3), object(12)\n",
      "memory usage: 877.4+ KB\n"
     ]
    }
   ],
   "source": [
    "# Получение информации датафрейма с данными о прокатных удостоверениях\n",
    "mkrf_movies.info()"
   ]
  },
  {
   "cell_type": "code",
   "execution_count": 5,
   "metadata": {},
   "outputs": [
    {
     "name": "stdout",
     "output_type": "stream",
     "text": [
      "<class 'pandas.core.frame.DataFrame'>\n",
      "RangeIndex: 3158 entries, 0 to 3157\n",
      "Data columns (total 2 columns):\n",
      " #   Column      Non-Null Count  Dtype  \n",
      "---  ------      --------------  -----  \n",
      " 0   puNumber    3158 non-null   int64  \n",
      " 1   box_office  3158 non-null   float64\n",
      "dtypes: float64(1), int64(1)\n",
      "memory usage: 49.5 KB\n"
     ]
    }
   ],
   "source": [
    "# Получение информации датафрейма с данными о прокате в кинотеатрах\n",
    "mkrf_shows.info()"
   ]
  },
  {
   "cell_type": "code",
   "execution_count": 6,
   "metadata": {},
   "outputs": [],
   "source": [
    "# Замена выбивающегося значения в столбце с номером прокатного удостоверения на 0\n",
    "mkrf_movies.loc[mkrf_movies['puNumber'] == 'нет', 'puNumber'] = 0"
   ]
  },
  {
   "cell_type": "code",
   "execution_count": 7,
   "metadata": {},
   "outputs": [],
   "source": [
    "# Изменение типа данных столбца puNumber на Int64\n",
    "mkrf_movies['puNumber'] = mkrf_movies['puNumber'].astype('int')"
   ]
  },
  {
   "cell_type": "code",
   "execution_count": 8,
   "metadata": {
    "scrolled": true
   },
   "outputs": [],
   "source": [
    "# Объединение датафреймов mkrf_movies и mkrf_shows по солбцу puNumber методом merge и запись в новый датафрейм df\n",
    "df = mkrf_movies.merge(mkrf_shows, on='puNumber', how='left')"
   ]
  },
  {
   "cell_type": "code",
   "execution_count": 9,
   "metadata": {
    "scrolled": false
   },
   "outputs": [
    {
     "name": "stdout",
     "output_type": "stream",
     "text": [
      "<class 'pandas.core.frame.DataFrame'>\n",
      "Int64Index: 7486 entries, 0 to 7485\n",
      "Data columns (total 16 columns):\n",
      " #   Column                 Non-Null Count  Dtype  \n",
      "---  ------                 --------------  -----  \n",
      " 0   title                  7486 non-null   object \n",
      " 1   puNumber               7486 non-null   int64  \n",
      " 2   show_start_date        7486 non-null   object \n",
      " 3   type                   7486 non-null   object \n",
      " 4   film_studio            7468 non-null   object \n",
      " 5   production_country     7484 non-null   object \n",
      " 6   director               7477 non-null   object \n",
      " 7   producer               6918 non-null   object \n",
      " 8   age_restriction        7486 non-null   object \n",
      " 9   refundable_support     332 non-null    float64\n",
      " 10  nonrefundable_support  332 non-null    float64\n",
      " 11  budget                 332 non-null    float64\n",
      " 12  financing_source       332 non-null    object \n",
      " 13  ratings                6519 non-null   object \n",
      " 14  genres                 6510 non-null   object \n",
      " 15  box_office             3158 non-null   float64\n",
      "dtypes: float64(4), int64(1), object(11)\n",
      "memory usage: 994.2+ KB\n"
     ]
    }
   ],
   "source": [
    "# Получение информации об объединенном датафрейме \n",
    "df.info()"
   ]
  },
  {
   "cell_type": "code",
   "execution_count": 10,
   "metadata": {},
   "outputs": [
    {
     "data": {
      "text/html": [
       "<div>\n",
       "<style scoped>\n",
       "    .dataframe tbody tr th:only-of-type {\n",
       "        vertical-align: middle;\n",
       "    }\n",
       "\n",
       "    .dataframe tbody tr th {\n",
       "        vertical-align: top;\n",
       "    }\n",
       "\n",
       "    .dataframe thead th {\n",
       "        text-align: right;\n",
       "    }\n",
       "</style>\n",
       "<table border=\"1\" class=\"dataframe\">\n",
       "  <thead>\n",
       "    <tr style=\"text-align: right;\">\n",
       "      <th></th>\n",
       "      <th>puNumber</th>\n",
       "      <th>refundable_support</th>\n",
       "      <th>nonrefundable_support</th>\n",
       "      <th>budget</th>\n",
       "      <th>box_office</th>\n",
       "    </tr>\n",
       "  </thead>\n",
       "  <tbody>\n",
       "    <tr>\n",
       "      <th>count</th>\n",
       "      <td>7.486000e+03</td>\n",
       "      <td>3.320000e+02</td>\n",
       "      <td>3.320000e+02</td>\n",
       "      <td>3.320000e+02</td>\n",
       "      <td>3.158000e+03</td>\n",
       "    </tr>\n",
       "    <tr>\n",
       "      <th>mean</th>\n",
       "      <td>1.351785e+08</td>\n",
       "      <td>1.186446e+07</td>\n",
       "      <td>4.898099e+07</td>\n",
       "      <td>1.272297e+08</td>\n",
       "      <td>7.647870e+07</td>\n",
       "    </tr>\n",
       "    <tr>\n",
       "      <th>std</th>\n",
       "      <td>3.838218e+07</td>\n",
       "      <td>2.491656e+07</td>\n",
       "      <td>5.998012e+07</td>\n",
       "      <td>1.885883e+08</td>\n",
       "      <td>2.403531e+08</td>\n",
       "    </tr>\n",
       "    <tr>\n",
       "      <th>min</th>\n",
       "      <td>0.000000e+00</td>\n",
       "      <td>0.000000e+00</td>\n",
       "      <td>0.000000e+00</td>\n",
       "      <td>0.000000e+00</td>\n",
       "      <td>0.000000e+00</td>\n",
       "    </tr>\n",
       "    <tr>\n",
       "      <th>25%</th>\n",
       "      <td>1.120250e+08</td>\n",
       "      <td>0.000000e+00</td>\n",
       "      <td>2.500000e+07</td>\n",
       "      <td>4.200000e+07</td>\n",
       "      <td>8.623900e+04</td>\n",
       "    </tr>\n",
       "    <tr>\n",
       "      <th>50%</th>\n",
       "      <td>1.210155e+08</td>\n",
       "      <td>0.000000e+00</td>\n",
       "      <td>3.000000e+07</td>\n",
       "      <td>6.864992e+07</td>\n",
       "      <td>2.327988e+06</td>\n",
       "    </tr>\n",
       "    <tr>\n",
       "      <th>75%</th>\n",
       "      <td>1.240033e+08</td>\n",
       "      <td>1.500000e+07</td>\n",
       "      <td>4.037500e+07</td>\n",
       "      <td>1.419853e+08</td>\n",
       "      <td>2.397967e+07</td>\n",
       "    </tr>\n",
       "    <tr>\n",
       "      <th>max</th>\n",
       "      <td>2.310011e+08</td>\n",
       "      <td>1.800000e+08</td>\n",
       "      <td>4.000000e+08</td>\n",
       "      <td>2.305074e+09</td>\n",
       "      <td>3.073569e+09</td>\n",
       "    </tr>\n",
       "  </tbody>\n",
       "</table>\n",
       "</div>"
      ],
      "text/plain": [
       "           puNumber  refundable_support  nonrefundable_support        budget  \\\n",
       "count  7.486000e+03        3.320000e+02           3.320000e+02  3.320000e+02   \n",
       "mean   1.351785e+08        1.186446e+07           4.898099e+07  1.272297e+08   \n",
       "std    3.838218e+07        2.491656e+07           5.998012e+07  1.885883e+08   \n",
       "min    0.000000e+00        0.000000e+00           0.000000e+00  0.000000e+00   \n",
       "25%    1.120250e+08        0.000000e+00           2.500000e+07  4.200000e+07   \n",
       "50%    1.210155e+08        0.000000e+00           3.000000e+07  6.864992e+07   \n",
       "75%    1.240033e+08        1.500000e+07           4.037500e+07  1.419853e+08   \n",
       "max    2.310011e+08        1.800000e+08           4.000000e+08  2.305074e+09   \n",
       "\n",
       "         box_office  \n",
       "count  3.158000e+03  \n",
       "mean   7.647870e+07  \n",
       "std    2.403531e+08  \n",
       "min    0.000000e+00  \n",
       "25%    8.623900e+04  \n",
       "50%    2.327988e+06  \n",
       "75%    2.397967e+07  \n",
       "max    3.073569e+09  "
      ]
     },
     "execution_count": 10,
     "metadata": {},
     "output_type": "execute_result"
    }
   ],
   "source": [
    "df.describe()"
   ]
  },
  {
   "cell_type": "markdown",
   "metadata": {},
   "source": [
    "<h3>Вывод:</h3>\n",
    "\n",
    "1. Датафрейм содержит 7486 строк. <br>\n",
    "2. В столбцах `director` , `producer`, `refundable_support`, `nonrefundable_support`, `budget`, `financing_source`, `ratings`, `genres`, `box_office` есть пропуски в значниях.<br>\n",
    "3. Названия столбцов не приведены к единому типу. Необходимо переименовать столбец `puNumber` на `pu_number`\n",
    "4. Столбец `show_start_date` дата премьеры фильма имеет тип данных `object`, его необходимо заменить на тип данных `datetime`<br>\n",
    "5. Столбец `ratings` дата премьеры фильма имеет тип данных `object`, его необходимо заменить на тип данных `float`<br>\n",
    "6. После объединения двух датафреймов, была выполнена проверка правильности \"склейки\" все данные вошли в обединенный датафрейм. "
   ]
  },
  {
   "cell_type": "markdown",
   "metadata": {
    "id": "KLDGpPG0gFyM"
   },
   "source": [
    "### Шаг 2. Предобработка данных"
   ]
  },
  {
   "cell_type": "markdown",
   "metadata": {
    "id": "ssWwKXsxgFyO"
   },
   "source": [
    "#### Шаг 2.1. Проверьте типы данных\n",
    "\n",
    "- Проверьте типы данных в датафрейме и преобразуйте их там, где это необходимо."
   ]
  },
  {
   "cell_type": "code",
   "execution_count": 11,
   "metadata": {},
   "outputs": [],
   "source": [
    "# Замена типа данных столбца show_start_date на datetime\n",
    "df['show_start_date'] = pd.to_datetime(df['show_start_date'], format='%Y-%m-%dT%H:%M:%S')"
   ]
  },
  {
   "cell_type": "markdown",
   "metadata": {},
   "source": [
    "В столбце `ratings` встречаются значения рейтинга в %. Необходимо привести все данные к единому виду.<br>\n",
    "Рейтинг фильма будет измеряться от 0 до 10."
   ]
  },
  {
   "cell_type": "code",
   "execution_count": 12,
   "metadata": {
    "scrolled": true
   },
   "outputs": [],
   "source": [
    "# Удаление знака % из значений\n",
    "df['ratings'].replace(regex=True, inplace=True, to_replace=r'[^0-9.]', value=r'')\n",
    "\n",
    "# Изменение типа данных столбца ratings на float\n",
    "df['ratings'] = df['ratings'].astype('float')\n",
    "\n",
    "# Приведение значений рейтинга к единому виду делением на 10, значений которые были в процентах\n",
    "df.loc[df['ratings'] > 10 , 'ratings'] = df['ratings'] / 10"
   ]
  },
  {
   "cell_type": "code",
   "execution_count": 13,
   "metadata": {
    "scrolled": true
   },
   "outputs": [
    {
     "data": {
      "text/plain": [
       "array([7.2, 6.6, 6.8, 7.7, 8.3, 8. , 7.8, 8.1, 7.1, 6. , 7.4, 5.8, 8.7,\n",
       "       6.3, 6.9, 5. , 4.3, 7.3, 7. , 6.4, nan, 8.2, 7.5, 6.7, 7.9, 5.9,\n",
       "       6.2, 5.6, 6.5, 2.4, 7.6, 6.1, 8.6, 8.5, 8.8, 5.5, 5.1, 5.7, 5.4,\n",
       "       9.9, 4.4, 4.5, 5.3, 4.1, 8.4, 2.6, 3.8, 4.6, 4.8, 4. , 3. , 1.6,\n",
       "       4.2, 5.2, 4.7, 4.9, 3.9, 2.7, 3.3, 2.9, 2.8, 3.7, 1.4, 3.1, 9.7,\n",
       "       3.5, 3.2, 1.5, 2.1, 2.5, 9.2, 3.4, 1.1, 3.6, 9.1, 9.4, 9. , 1.9,\n",
       "       1. , 8.9, 1.3, 1.8, 1.2, 1.7, 9.8])"
      ]
     },
     "execution_count": 13,
     "metadata": {},
     "output_type": "execute_result"
    }
   ],
   "source": [
    "# Проверка замененных значений столбца ratings\n",
    "df['ratings'].unique()"
   ]
  },
  {
   "cell_type": "code",
   "execution_count": 14,
   "metadata": {},
   "outputs": [],
   "source": [
    "# Переименование столбцаа puNumber\n",
    "df.rename(columns = {'puNumber' : 'pu_number'}, inplace = True) "
   ]
  },
  {
   "cell_type": "markdown",
   "metadata": {
    "id": "i0MOLbF-gFyP"
   },
   "source": [
    "#### Шаг 2.2. Изучите пропуски в датафрейме\n",
    "\n",
    "- Объясните, почему заполнили пропуски определённым образом или почему не стали этого делать."
   ]
  },
  {
   "cell_type": "markdown",
   "metadata": {},
   "source": [
    "Заменим пропуски в столбцах film_studio, production_country, , , age_restriction и  на значение \"unknown\""
   ]
  },
  {
   "cell_type": "markdown",
   "metadata": {},
   "source": [
    "##### Режиссёр"
   ]
  },
  {
   "cell_type": "code",
   "execution_count": 15,
   "metadata": {
    "id": "8MJD_lkngFyP"
   },
   "outputs": [
    {
     "data": {
      "text/plain": [
       "'Пропусков в значениях: 0.1%'"
      ]
     },
     "execution_count": 15,
     "metadata": {},
     "output_type": "execute_result"
    }
   ],
   "source": [
    "# Получение количества пропусков значений в столбце Режиссёр\n",
    "'Пропусков в значениях: {:.1%}'. format(df['director'].isna().value_counts()[1] / len(df))"
   ]
  },
  {
   "cell_type": "code",
   "execution_count": 16,
   "metadata": {},
   "outputs": [],
   "source": [
    "# Заполнение пропусков столбца Режиссёр на заглушку \"unknown\"\n",
    "df['director'] = df['director'].fillna('unknown')"
   ]
  },
  {
   "cell_type": "markdown",
   "metadata": {},
   "source": [
    "###### Вывод:\n",
    "Пропущенных значеинй всего 0.1% и сопаставить данные о режисере, возможно, только поиском данных в интеренете по названию фильма.<br>\n",
    "Так как для цели исследования не важно кто является режиссером фильма, заполним данные заглушкой \"unknown\"."
   ]
  },
  {
   "cell_type": "markdown",
   "metadata": {},
   "source": [
    "##### Продюсер"
   ]
  },
  {
   "cell_type": "code",
   "execution_count": 17,
   "metadata": {
    "id": "8MJD_lkngFyP"
   },
   "outputs": [
    {
     "data": {
      "text/plain": [
       "'Пропусков в значениях: 7.6%'"
      ]
     },
     "execution_count": 17,
     "metadata": {},
     "output_type": "execute_result"
    }
   ],
   "source": [
    "# Получение количества пропусов значений в столбце Продюсер\n",
    "'Пропусков в значениях: {:.1%}'. format(df['producer'].isna().value_counts()[1] / len(df))"
   ]
  },
  {
   "cell_type": "code",
   "execution_count": 18,
   "metadata": {},
   "outputs": [],
   "source": [
    "# Заполнение пропусков столбца Продюсер на заглушку \"unknown\"\n",
    "df['producer'] = df['producer'].fillna('unknown')"
   ]
  },
  {
   "cell_type": "markdown",
   "metadata": {},
   "source": [
    "###### Вывод:\n",
    "Пропущенных значеинй 7.6% и сопаставить данные о продюсере, возможно, только поиском данных в интеренете по названию фильма.<br>\n",
    "Так как для цели исследования не важно кто является продюсером фильма, заполним данные заглушкой \"unknown\"."
   ]
  },
  {
   "cell_type": "markdown",
   "metadata": {},
   "source": [
    "##### Объём возвратных средств государственной поддержки"
   ]
  },
  {
   "cell_type": "code",
   "execution_count": 19,
   "metadata": {
    "id": "8MJD_lkngFyP"
   },
   "outputs": [
    {
     "data": {
      "text/plain": [
       "'Пропусков в значениях: 95.6%'"
      ]
     },
     "execution_count": 19,
     "metadata": {},
     "output_type": "execute_result"
    }
   ],
   "source": [
    "# Получение количества пропусков значений в столбце Объём возвратных средств государственной поддержки\n",
    "'Пропусков в значениях: {:.1%}'. format(df['refundable_support'].isna().value_counts()[1] / len(df))"
   ]
  },
  {
   "cell_type": "markdown",
   "metadata": {},
   "source": [
    "###### Вывод:\n",
    "Пропущенных значеинй 95.6%.<br>\n",
    "Если не указаны значения об объёме возвратных средств государственной поддержки, значит на этот фильм не выделялись средства государственной поддержки.<br>\n",
    "Данные останутся без изменения, чтобы ие исказить результаты исследования."
   ]
  },
  {
   "cell_type": "markdown",
   "metadata": {},
   "source": [
    "##### Объём невозвратных средств государственной поддержки"
   ]
  },
  {
   "cell_type": "code",
   "execution_count": 20,
   "metadata": {
    "id": "8MJD_lkngFyP"
   },
   "outputs": [
    {
     "data": {
      "text/plain": [
       "'Пропусков в значениях: 95.6%'"
      ]
     },
     "execution_count": 20,
     "metadata": {},
     "output_type": "execute_result"
    }
   ],
   "source": [
    "# Получение количества пропусков значений в столбце Объём невозвратных средств государственной поддержки\n",
    "'Пропусков в значениях: {:.1%}'. format(df['nonrefundable_support'].isna().value_counts()[1] / len(df))"
   ]
  },
  {
   "cell_type": "markdown",
   "metadata": {},
   "source": [
    "###### Вывод:\n",
    "Пропущенных значеинй 95.6%.<br>\n",
    "Если не указаны значения об объёме невозвратных средств государственной поддержки, значит на этот фильм не выделялись средства государственной поддержки.<br>\n",
    "Данные останутся без изменения, чтобы ие исказить результаты исследования."
   ]
  },
  {
   "cell_type": "markdown",
   "metadata": {},
   "source": [
    "##### Общий бюджет фильма"
   ]
  },
  {
   "cell_type": "code",
   "execution_count": 21,
   "metadata": {
    "id": "8MJD_lkngFyP"
   },
   "outputs": [
    {
     "data": {
      "text/plain": [
       "'Пропусков в значениях: 95.6%'"
      ]
     },
     "execution_count": 21,
     "metadata": {},
     "output_type": "execute_result"
    }
   ],
   "source": [
    "# Получение количества пропусков значений в столбце Общий бюджет фильма\n",
    "'Пропусков в значениях: {:.1%}'. format(df['budget'].isna().value_counts()[1] / len(df))"
   ]
  },
  {
   "cell_type": "markdown",
   "metadata": {},
   "source": [
    "###### Вывод:\n",
    "Пропущенных значеинй 95.6%.<br>\n",
    "Данных такое же количество, как и во всех столбцах, в которых хранятся данные связанные с гос. финансированием.<br>\n",
    "Возможно заполнен бюджет только у фильмов с гос. финансированием\n",
    "Данные будут оставлкенны без изменення."
   ]
  },
  {
   "cell_type": "markdown",
   "metadata": {},
   "source": [
    "##### Источник государственного финансирования"
   ]
  },
  {
   "cell_type": "code",
   "execution_count": 22,
   "metadata": {
    "id": "8MJD_lkngFyP",
    "scrolled": true
   },
   "outputs": [
    {
     "data": {
      "text/plain": [
       "'Пропусков в значениях: 95.6%'"
      ]
     },
     "execution_count": 22,
     "metadata": {},
     "output_type": "execute_result"
    }
   ],
   "source": [
    "# Получение количества пропусков значений в столбце Источник государственного финансирования\n",
    "'Пропусков в значениях: {:.1%}'. format(df['financing_source'].isna().value_counts()[1] / len(df))"
   ]
  },
  {
   "cell_type": "markdown",
   "metadata": {},
   "source": [
    "###### Вывод:\n",
    "Пропущенных значеинй 95.6%.<br>\n",
    "Если не указаны значения об объёме невозвратных средств государственной поддержки, значит на этот фильм не выделялись средства государственной поддержки.<br>\n",
    "Данные останутся без изменения, чтобы ие исказить результаты исследования."
   ]
  },
  {
   "cell_type": "markdown",
   "metadata": {},
   "source": [
    "##### Рейтинг фильма на КиноПоиске"
   ]
  },
  {
   "cell_type": "code",
   "execution_count": 23,
   "metadata": {
    "id": "8MJD_lkngFyP"
   },
   "outputs": [
    {
     "data": {
      "text/plain": [
       "'Пропусков в значениях: 12.9%'"
      ]
     },
     "execution_count": 23,
     "metadata": {},
     "output_type": "execute_result"
    }
   ],
   "source": [
    "# Получение количества пропусков значений в столбце Рейтинг фильма на КиноПоиске\n",
    "'Пропусков в значениях: {:.1%}'. format(df['ratings'].isna().value_counts()[1] / len(df))"
   ]
  },
  {
   "cell_type": "markdown",
   "metadata": {},
   "source": [
    "###### Вывод:\n",
    "Пропущенных значеинй 12.9%.<br>\n",
    "Если не указаны значения рейтинга фильма на КиноПоиске, т.к. рейтинг фильма будет ключевым показателем для исследования на сколько популярны фильмы с гос.финансированием, чтобы ие исказить результаты исследования, данные не будут изменены."
   ]
  },
  {
   "cell_type": "markdown",
   "metadata": {},
   "source": [
    "##### Жанр фильма"
   ]
  },
  {
   "cell_type": "code",
   "execution_count": 24,
   "metadata": {
    "id": "8MJD_lkngFyP"
   },
   "outputs": [
    {
     "data": {
      "text/plain": [
       "'Пропусков в значениях: 13.0%'"
      ]
     },
     "execution_count": 24,
     "metadata": {},
     "output_type": "execute_result"
    }
   ],
   "source": [
    "# Получение количества пропусков значений в столбце Жанр фильма\n",
    "'Пропусков в значениях: {:.1%}'. format(df['genres'].isna().value_counts()[1] / len(df))"
   ]
  },
  {
   "cell_type": "code",
   "execution_count": 25,
   "metadata": {},
   "outputs": [],
   "source": [
    "# Заполнение пропусков столбца Жанр фильма на заглушку \"unknown\"\n",
    "df['genres'] = df['genres'].fillna('unknown')"
   ]
  },
  {
   "cell_type": "markdown",
   "metadata": {},
   "source": [
    "###### Вывод:\n",
    "Пропущенных значеинй 13% и сопаставить данные о жанре, возможно, только в ручную искать в интеренете по названию фильма.<br>\n",
    "Заполним данные заглушкой \"unknown\"."
   ]
  },
  {
   "cell_type": "markdown",
   "metadata": {},
   "source": [
    "##### Сборы в рублях"
   ]
  },
  {
   "cell_type": "code",
   "execution_count": 26,
   "metadata": {
    "id": "8MJD_lkngFyP"
   },
   "outputs": [
    {
     "data": {
      "text/plain": [
       "'Пропусков в значениях: 57.8%'"
      ]
     },
     "execution_count": 26,
     "metadata": {},
     "output_type": "execute_result"
    }
   ],
   "source": [
    "# Получение количества пропусков значений в столбце Сборы в рублях\n",
    "'Пропусков в значениях: {:.1%}'. format(df['box_office'].isna().value_counts()[1] / len(df))"
   ]
  },
  {
   "cell_type": "markdown",
   "metadata": {},
   "source": [
    "###### Вывод:\n",
    "Пропущенных значеинй 57.8%.<br>\n",
    "И сопаставить данные о сборах в рублях, возможно, только поиском данных в интеренете по названию фильма.<br>\n",
    "Данные останутся без изменения, чтобы ие исказить результаты исследования."
   ]
  },
  {
   "cell_type": "markdown",
   "metadata": {
    "id": "4c6k1t9ygFyQ"
   },
   "source": [
    "#### Шаг 2.3. Изучите дубликаты в датафрейме\n",
    "- Проверьте, есть ли в данных дубликаты. Опишите причины, которые могли повлиять на появление дублей."
   ]
  },
  {
   "cell_type": "code",
   "execution_count": 27,
   "metadata": {
    "id": "aKck8RIdgFyQ"
   },
   "outputs": [
    {
     "data": {
      "text/plain": [
       "0"
      ]
     },
     "execution_count": 27,
     "metadata": {},
     "output_type": "execute_result"
    }
   ],
   "source": [
    "# Поиск дублирующихся строк\n",
    "df.duplicated().sum()"
   ]
  },
  {
   "cell_type": "code",
   "execution_count": 28,
   "metadata": {},
   "outputs": [
    {
     "data": {
      "text/plain": [
       "221054410    2\n",
       "221154310    2\n",
       "0            1\n",
       "111008518    1\n",
       "114002716    1\n",
       "            ..\n",
       "121021814    1\n",
       "224028210    1\n",
       "121013618    1\n",
       "121017712    1\n",
       "126002916    1\n",
       "Name: pu_number, Length: 7484, dtype: int64"
      ]
     },
     "execution_count": 28,
     "metadata": {},
     "output_type": "execute_result"
    }
   ],
   "source": [
    "# Проверка столбца pu_number на наличие дублей\n",
    "df.pu_number.value_counts()"
   ]
  },
  {
   "cell_type": "code",
   "execution_count": 29,
   "metadata": {},
   "outputs": [
    {
     "data": {
      "text/html": [
       "<div>\n",
       "<style scoped>\n",
       "    .dataframe tbody tr th:only-of-type {\n",
       "        vertical-align: middle;\n",
       "    }\n",
       "\n",
       "    .dataframe tbody tr th {\n",
       "        vertical-align: top;\n",
       "    }\n",
       "\n",
       "    .dataframe thead th {\n",
       "        text-align: right;\n",
       "    }\n",
       "</style>\n",
       "<table border=\"1\" class=\"dataframe\">\n",
       "  <thead>\n",
       "    <tr style=\"text-align: right;\">\n",
       "      <th></th>\n",
       "      <th>title</th>\n",
       "      <th>pu_number</th>\n",
       "      <th>show_start_date</th>\n",
       "      <th>type</th>\n",
       "      <th>film_studio</th>\n",
       "      <th>production_country</th>\n",
       "      <th>director</th>\n",
       "      <th>producer</th>\n",
       "      <th>age_restriction</th>\n",
       "      <th>refundable_support</th>\n",
       "      <th>nonrefundable_support</th>\n",
       "      <th>budget</th>\n",
       "      <th>financing_source</th>\n",
       "      <th>ratings</th>\n",
       "      <th>genres</th>\n",
       "      <th>box_office</th>\n",
       "    </tr>\n",
       "  </thead>\n",
       "  <tbody>\n",
       "    <tr>\n",
       "      <th>4638</th>\n",
       "      <td>Как жениться и остаться холостым</td>\n",
       "      <td>221154310</td>\n",
       "      <td>2010-12-17 12:00:00+00:00</td>\n",
       "      <td>Художественный</td>\n",
       "      <td>Ше Вам, Скрипт Ассосье, Тэ Фэ 1 Фильм Продюксь...</td>\n",
       "      <td>Франция</td>\n",
       "      <td>Эрик Лартиго</td>\n",
       "      <td>Амандин Било, Алан Шаба</td>\n",
       "      <td>«16+» - для детей старше 16 лет</td>\n",
       "      <td>NaN</td>\n",
       "      <td>NaN</td>\n",
       "      <td>NaN</td>\n",
       "      <td>NaN</td>\n",
       "      <td>7.0</td>\n",
       "      <td>мелодрама,комедия</td>\n",
       "      <td>NaN</td>\n",
       "    </tr>\n",
       "    <tr>\n",
       "      <th>4639</th>\n",
       "      <td>Иоанна - женщина на папском престоле /По роман...</td>\n",
       "      <td>221154310</td>\n",
       "      <td>2010-12-17 12:00:00+00:00</td>\n",
       "      <td>Художественный</td>\n",
       "      <td>Константин Фильм, А Эр Ди Дегето Фильм, Дюне ...</td>\n",
       "      <td>Германия - Великобритания - Италия - Испания</td>\n",
       "      <td>Зенке Вортманн</td>\n",
       "      <td>Оливер Бербен, Дорис Д.Хайнце, Фарук Элтан</td>\n",
       "      <td>«16+» - для детей старше 16 лет</td>\n",
       "      <td>NaN</td>\n",
       "      <td>NaN</td>\n",
       "      <td>NaN</td>\n",
       "      <td>NaN</td>\n",
       "      <td>7.6</td>\n",
       "      <td>драма,мелодрама,история</td>\n",
       "      <td>NaN</td>\n",
       "    </tr>\n",
       "    <tr>\n",
       "      <th>5067</th>\n",
       "      <td>Анализируй это!</td>\n",
       "      <td>221054410</td>\n",
       "      <td>2010-05-25 12:00:00+00:00</td>\n",
       "      <td>Художественный</td>\n",
       "      <td>Уорнер Бразерс, Вилладж Роудшоу Филмз ЛТД</td>\n",
       "      <td>США-Австралия</td>\n",
       "      <td>ХЭрольд Рэмис</td>\n",
       "      <td>Джейн Розенталь, Пола Уейнстейн</td>\n",
       "      <td>«16+» - для детей старше 16 лет</td>\n",
       "      <td>NaN</td>\n",
       "      <td>NaN</td>\n",
       "      <td>NaN</td>\n",
       "      <td>NaN</td>\n",
       "      <td>7.4</td>\n",
       "      <td>комедия,криминал</td>\n",
       "      <td>NaN</td>\n",
       "    </tr>\n",
       "    <tr>\n",
       "      <th>5068</th>\n",
       "      <td>Анализируй то!</td>\n",
       "      <td>221054410</td>\n",
       "      <td>2010-05-25 12:00:00+00:00</td>\n",
       "      <td>Художественный</td>\n",
       "      <td>Уорнер Бразерс, Виллидж Роадшоу Пикчерз, Эн-Пи...</td>\n",
       "      <td>США</td>\n",
       "      <td>Гарольд Реймис</td>\n",
       "      <td>Джейн Розенталь, Паул Уэйнстейн</td>\n",
       "      <td>«12+» - для детей старше 12 лет</td>\n",
       "      <td>NaN</td>\n",
       "      <td>NaN</td>\n",
       "      <td>NaN</td>\n",
       "      <td>NaN</td>\n",
       "      <td>6.8</td>\n",
       "      <td>комедия,криминал</td>\n",
       "      <td>NaN</td>\n",
       "    </tr>\n",
       "  </tbody>\n",
       "</table>\n",
       "</div>"
      ],
      "text/plain": [
       "                                                  title  pu_number  \\\n",
       "4638                   Как жениться и остаться холостым  221154310   \n",
       "4639  Иоанна - женщина на папском престоле /По роман...  221154310   \n",
       "5067                                    Анализируй это!  221054410   \n",
       "5068                                     Анализируй то!  221054410   \n",
       "\n",
       "               show_start_date            type  \\\n",
       "4638 2010-12-17 12:00:00+00:00  Художественный   \n",
       "4639 2010-12-17 12:00:00+00:00  Художественный   \n",
       "5067 2010-05-25 12:00:00+00:00  Художественный   \n",
       "5068 2010-05-25 12:00:00+00:00  Художественный   \n",
       "\n",
       "                                            film_studio  \\\n",
       "4638  Ше Вам, Скрипт Ассосье, Тэ Фэ 1 Фильм Продюксь...   \n",
       "4639   Константин Фильм, А Эр Ди Дегето Фильм, Дюне ...   \n",
       "5067          Уорнер Бразерс, Вилладж Роудшоу Филмз ЛТД   \n",
       "5068  Уорнер Бразерс, Виллидж Роадшоу Пикчерз, Эн-Пи...   \n",
       "\n",
       "                                production_country        director  \\\n",
       "4638                                       Франция    Эрик Лартиго   \n",
       "4639  Германия - Великобритания - Италия - Испания  Зенке Вортманн   \n",
       "5067                                 США-Австралия   ХЭрольд Рэмис   \n",
       "5068                                           США  Гарольд Реймис   \n",
       "\n",
       "                                        producer  \\\n",
       "4638                     Амандин Било, Алан Шаба   \n",
       "4639  Оливер Бербен, Дорис Д.Хайнце, Фарук Элтан   \n",
       "5067             Джейн Розенталь, Пола Уейнстейн   \n",
       "5068             Джейн Розенталь, Паул Уэйнстейн   \n",
       "\n",
       "                      age_restriction  refundable_support  \\\n",
       "4638  «16+» - для детей старше 16 лет                 NaN   \n",
       "4639  «16+» - для детей старше 16 лет                 NaN   \n",
       "5067  «16+» - для детей старше 16 лет                 NaN   \n",
       "5068  «12+» - для детей старше 12 лет                 NaN   \n",
       "\n",
       "      nonrefundable_support  budget financing_source  ratings  \\\n",
       "4638                    NaN     NaN              NaN      7.0   \n",
       "4639                    NaN     NaN              NaN      7.6   \n",
       "5067                    NaN     NaN              NaN      7.4   \n",
       "5068                    NaN     NaN              NaN      6.8   \n",
       "\n",
       "                       genres  box_office  \n",
       "4638        мелодрама,комедия         NaN  \n",
       "4639  драма,мелодрама,история         NaN  \n",
       "5067         комедия,криминал         NaN  \n",
       "5068         комедия,криминал         NaN  "
      ]
     },
     "execution_count": 29,
     "metadata": {},
     "output_type": "execute_result"
    }
   ],
   "source": [
    "# Подробнее рассмотрим дублирующиеся данные\n",
    "df.query('pu_number == 221054410 | pu_number == 221154310')"
   ]
  },
  {
   "cell_type": "markdown",
   "metadata": {},
   "source": [
    "В столбце `pu_number` есть два дублирующихся значения. Номер прокатного удостоверения 221054410 имеет разные названия, возможно произошла опечатка при заполнении. Так как эти данные нам не мешают оставим их без изменения.<br>\n",
    "Вторая пара 221154310 с номером имеет одинаковое название, удалим один дубль в котором меньше данных в столбце страна-производитель."
   ]
  },
  {
   "cell_type": "code",
   "execution_count": 30,
   "metadata": {},
   "outputs": [],
   "source": [
    "# Удаление дубля\n",
    "df.drop(labels = [5068],axis = 0, inplace = True)"
   ]
  },
  {
   "cell_type": "code",
   "execution_count": 31,
   "metadata": {},
   "outputs": [
    {
     "data": {
      "text/html": [
       "<div>\n",
       "<style scoped>\n",
       "    .dataframe tbody tr th:only-of-type {\n",
       "        vertical-align: middle;\n",
       "    }\n",
       "\n",
       "    .dataframe tbody tr th {\n",
       "        vertical-align: top;\n",
       "    }\n",
       "\n",
       "    .dataframe thead th {\n",
       "        text-align: right;\n",
       "    }\n",
       "</style>\n",
       "<table border=\"1\" class=\"dataframe\">\n",
       "  <thead>\n",
       "    <tr style=\"text-align: right;\">\n",
       "      <th></th>\n",
       "      <th>title</th>\n",
       "      <th>pu_number</th>\n",
       "      <th>show_start_date</th>\n",
       "      <th>type</th>\n",
       "      <th>film_studio</th>\n",
       "      <th>production_country</th>\n",
       "      <th>director</th>\n",
       "      <th>producer</th>\n",
       "      <th>age_restriction</th>\n",
       "      <th>refundable_support</th>\n",
       "      <th>nonrefundable_support</th>\n",
       "      <th>budget</th>\n",
       "      <th>financing_source</th>\n",
       "      <th>ratings</th>\n",
       "      <th>genres</th>\n",
       "      <th>box_office</th>\n",
       "    </tr>\n",
       "  </thead>\n",
       "  <tbody>\n",
       "    <tr>\n",
       "      <th>4638</th>\n",
       "      <td>Как жениться и остаться холостым</td>\n",
       "      <td>221154310</td>\n",
       "      <td>2010-12-17 12:00:00+00:00</td>\n",
       "      <td>Художественный</td>\n",
       "      <td>Ше Вам, Скрипт Ассосье, Тэ Фэ 1 Фильм Продюксь...</td>\n",
       "      <td>Франция</td>\n",
       "      <td>Эрик Лартиго</td>\n",
       "      <td>Амандин Било, Алан Шаба</td>\n",
       "      <td>«16+» - для детей старше 16 лет</td>\n",
       "      <td>NaN</td>\n",
       "      <td>NaN</td>\n",
       "      <td>NaN</td>\n",
       "      <td>NaN</td>\n",
       "      <td>7.0</td>\n",
       "      <td>мелодрама,комедия</td>\n",
       "      <td>NaN</td>\n",
       "    </tr>\n",
       "    <tr>\n",
       "      <th>4639</th>\n",
       "      <td>Иоанна - женщина на папском престоле /По роман...</td>\n",
       "      <td>221154310</td>\n",
       "      <td>2010-12-17 12:00:00+00:00</td>\n",
       "      <td>Художественный</td>\n",
       "      <td>Константин Фильм, А Эр Ди Дегето Фильм, Дюне ...</td>\n",
       "      <td>Германия - Великобритания - Италия - Испания</td>\n",
       "      <td>Зенке Вортманн</td>\n",
       "      <td>Оливер Бербен, Дорис Д.Хайнце, Фарук Элтан</td>\n",
       "      <td>«16+» - для детей старше 16 лет</td>\n",
       "      <td>NaN</td>\n",
       "      <td>NaN</td>\n",
       "      <td>NaN</td>\n",
       "      <td>NaN</td>\n",
       "      <td>7.6</td>\n",
       "      <td>драма,мелодрама,история</td>\n",
       "      <td>NaN</td>\n",
       "    </tr>\n",
       "    <tr>\n",
       "      <th>5067</th>\n",
       "      <td>Анализируй это!</td>\n",
       "      <td>221054410</td>\n",
       "      <td>2010-05-25 12:00:00+00:00</td>\n",
       "      <td>Художественный</td>\n",
       "      <td>Уорнер Бразерс, Вилладж Роудшоу Филмз ЛТД</td>\n",
       "      <td>США-Австралия</td>\n",
       "      <td>ХЭрольд Рэмис</td>\n",
       "      <td>Джейн Розенталь, Пола Уейнстейн</td>\n",
       "      <td>«16+» - для детей старше 16 лет</td>\n",
       "      <td>NaN</td>\n",
       "      <td>NaN</td>\n",
       "      <td>NaN</td>\n",
       "      <td>NaN</td>\n",
       "      <td>7.4</td>\n",
       "      <td>комедия,криминал</td>\n",
       "      <td>NaN</td>\n",
       "    </tr>\n",
       "  </tbody>\n",
       "</table>\n",
       "</div>"
      ],
      "text/plain": [
       "                                                  title  pu_number  \\\n",
       "4638                   Как жениться и остаться холостым  221154310   \n",
       "4639  Иоанна - женщина на папском престоле /По роман...  221154310   \n",
       "5067                                    Анализируй это!  221054410   \n",
       "\n",
       "               show_start_date            type  \\\n",
       "4638 2010-12-17 12:00:00+00:00  Художественный   \n",
       "4639 2010-12-17 12:00:00+00:00  Художественный   \n",
       "5067 2010-05-25 12:00:00+00:00  Художественный   \n",
       "\n",
       "                                            film_studio  \\\n",
       "4638  Ше Вам, Скрипт Ассосье, Тэ Фэ 1 Фильм Продюксь...   \n",
       "4639   Константин Фильм, А Эр Ди Дегето Фильм, Дюне ...   \n",
       "5067          Уорнер Бразерс, Вилладж Роудшоу Филмз ЛТД   \n",
       "\n",
       "                                production_country        director  \\\n",
       "4638                                       Франция    Эрик Лартиго   \n",
       "4639  Германия - Великобритания - Италия - Испания  Зенке Вортманн   \n",
       "5067                                 США-Австралия   ХЭрольд Рэмис   \n",
       "\n",
       "                                        producer  \\\n",
       "4638                     Амандин Било, Алан Шаба   \n",
       "4639  Оливер Бербен, Дорис Д.Хайнце, Фарук Элтан   \n",
       "5067             Джейн Розенталь, Пола Уейнстейн   \n",
       "\n",
       "                      age_restriction  refundable_support  \\\n",
       "4638  «16+» - для детей старше 16 лет                 NaN   \n",
       "4639  «16+» - для детей старше 16 лет                 NaN   \n",
       "5067  «16+» - для детей старше 16 лет                 NaN   \n",
       "\n",
       "      nonrefundable_support  budget financing_source  ratings  \\\n",
       "4638                    NaN     NaN              NaN      7.0   \n",
       "4639                    NaN     NaN              NaN      7.6   \n",
       "5067                    NaN     NaN              NaN      7.4   \n",
       "\n",
       "                       genres  box_office  \n",
       "4638        мелодрама,комедия         NaN  \n",
       "4639  драма,мелодрама,история         NaN  \n",
       "5067         комедия,криминал         NaN  "
      ]
     },
     "execution_count": 31,
     "metadata": {},
     "output_type": "execute_result"
    }
   ],
   "source": [
    "# Подробнее рассмотрим дублирующиеся данные\n",
    "df.query('pu_number == 221054410 | pu_number == 221154310')"
   ]
  },
  {
   "cell_type": "code",
   "execution_count": 32,
   "metadata": {
    "scrolled": false
   },
   "outputs": [
    {
     "data": {
      "text/plain": [
       "День святого Валентина_                                        5\n",
       "Гарри Поттер и Дары Смерти - Часть 1/По роману Дж.К.Ролинг/    4\n",
       "Дитя тьмы                                                      4\n",
       "Не брать живым /По книге Раджива Чандрасекарана/               4\n",
       "Шерлок Холмс                                                   4\n",
       "                                                              ..\n",
       "Рецепт ее молодости                                            1\n",
       "Салон красоты_                                                 1\n",
       "Герой (2015)                                                   1\n",
       "Добыча.                                                        1\n",
       "100 лет Чувашской автономии                                    1\n",
       "Name: title, Length: 6771, dtype: int64"
      ]
     },
     "execution_count": 32,
     "metadata": {},
     "output_type": "execute_result"
    }
   ],
   "source": [
    "# Проверка столбца title на наличие дублей\n",
    "df.title.value_counts()"
   ]
  },
  {
   "cell_type": "code",
   "execution_count": 33,
   "metadata": {
    "scrolled": false
   },
   "outputs": [
    {
     "data": {
      "text/html": [
       "<div>\n",
       "<style scoped>\n",
       "    .dataframe tbody tr th:only-of-type {\n",
       "        vertical-align: middle;\n",
       "    }\n",
       "\n",
       "    .dataframe tbody tr th {\n",
       "        vertical-align: top;\n",
       "    }\n",
       "\n",
       "    .dataframe thead th {\n",
       "        text-align: right;\n",
       "    }\n",
       "</style>\n",
       "<table border=\"1\" class=\"dataframe\">\n",
       "  <thead>\n",
       "    <tr style=\"text-align: right;\">\n",
       "      <th></th>\n",
       "      <th>title</th>\n",
       "      <th>pu_number</th>\n",
       "      <th>show_start_date</th>\n",
       "      <th>type</th>\n",
       "      <th>film_studio</th>\n",
       "      <th>production_country</th>\n",
       "      <th>director</th>\n",
       "      <th>producer</th>\n",
       "      <th>age_restriction</th>\n",
       "      <th>refundable_support</th>\n",
       "      <th>nonrefundable_support</th>\n",
       "      <th>budget</th>\n",
       "      <th>financing_source</th>\n",
       "      <th>ratings</th>\n",
       "      <th>genres</th>\n",
       "      <th>box_office</th>\n",
       "    </tr>\n",
       "  </thead>\n",
       "  <tbody>\n",
       "    <tr>\n",
       "      <th>3902</th>\n",
       "      <td>День святого Валентина_</td>\n",
       "      <td>221083810</td>\n",
       "      <td>2010-07-15 12:00:00+00:00</td>\n",
       "      <td>Художественный</td>\n",
       "      <td>Уорнер Бразерс, Нью Лайн Синема, Уэйн Райс, Ка...</td>\n",
       "      <td>США</td>\n",
       "      <td>Гарри Маршалл</td>\n",
       "      <td>Сэмюэл Дж.Браун</td>\n",
       "      <td>«16+» - для детей старше 16 лет</td>\n",
       "      <td>NaN</td>\n",
       "      <td>NaN</td>\n",
       "      <td>NaN</td>\n",
       "      <td>NaN</td>\n",
       "      <td>6.7</td>\n",
       "      <td>мелодрама,комедия</td>\n",
       "      <td>NaN</td>\n",
       "    </tr>\n",
       "    <tr>\n",
       "      <th>3991</th>\n",
       "      <td>День святого Валентина_</td>\n",
       "      <td>221068010</td>\n",
       "      <td>2010-05-14 12:00:00+00:00</td>\n",
       "      <td>Художественный</td>\n",
       "      <td>Уорнер Бразерс, Нью Лайн Синема, Уэйн Райс, Ка...</td>\n",
       "      <td>США</td>\n",
       "      <td>Гарри Маршалл</td>\n",
       "      <td>Сэмюэл Дж.Браун</td>\n",
       "      <td>«16+» - для детей старше 16 лет</td>\n",
       "      <td>NaN</td>\n",
       "      <td>NaN</td>\n",
       "      <td>NaN</td>\n",
       "      <td>NaN</td>\n",
       "      <td>6.7</td>\n",
       "      <td>мелодрама,комедия</td>\n",
       "      <td>NaN</td>\n",
       "    </tr>\n",
       "    <tr>\n",
       "      <th>4070</th>\n",
       "      <td>День святого Валентина_</td>\n",
       "      <td>121002210</td>\n",
       "      <td>2010-02-03 12:00:00+00:00</td>\n",
       "      <td>Художественный</td>\n",
       "      <td>Уорнер Бразерс, Нью Лайн Синема, Уэйн Райс, Ка...</td>\n",
       "      <td>США</td>\n",
       "      <td>Гарри Маршалл</td>\n",
       "      <td>Сэмюэл Дж.Браун</td>\n",
       "      <td>«16+» - для детей старше 16 лет</td>\n",
       "      <td>NaN</td>\n",
       "      <td>NaN</td>\n",
       "      <td>NaN</td>\n",
       "      <td>NaN</td>\n",
       "      <td>6.7</td>\n",
       "      <td>мелодрама,комедия</td>\n",
       "      <td>NaN</td>\n",
       "    </tr>\n",
       "    <tr>\n",
       "      <th>4196</th>\n",
       "      <td>День святого Валентина_</td>\n",
       "      <td>221136210</td>\n",
       "      <td>2010-11-30 12:00:00+00:00</td>\n",
       "      <td>Художественный</td>\n",
       "      <td>Уорнер Бразерс, Нью Лайн Синема, Уэйн Райс, Ка...</td>\n",
       "      <td>США</td>\n",
       "      <td>Гарри Маршалл</td>\n",
       "      <td>Сэмюэл Дж.Браун</td>\n",
       "      <td>«16+» - для детей старше 16 лет</td>\n",
       "      <td>NaN</td>\n",
       "      <td>NaN</td>\n",
       "      <td>NaN</td>\n",
       "      <td>NaN</td>\n",
       "      <td>6.7</td>\n",
       "      <td>мелодрама,комедия</td>\n",
       "      <td>NaN</td>\n",
       "    </tr>\n",
       "    <tr>\n",
       "      <th>5070</th>\n",
       "      <td>День святого Валентина_</td>\n",
       "      <td>221066410</td>\n",
       "      <td>2010-06-01 12:00:00+00:00</td>\n",
       "      <td>Художественный</td>\n",
       "      <td>Уорнер Бразерс, Нью Лайн Синема, Уэйн Райс, Ка...</td>\n",
       "      <td>США</td>\n",
       "      <td>Гарри Маршалл</td>\n",
       "      <td>Сэмюэл Дж.Браун</td>\n",
       "      <td>«16+» - для детей старше 16 лет</td>\n",
       "      <td>NaN</td>\n",
       "      <td>NaN</td>\n",
       "      <td>NaN</td>\n",
       "      <td>NaN</td>\n",
       "      <td>6.7</td>\n",
       "      <td>мелодрама,комедия</td>\n",
       "      <td>NaN</td>\n",
       "    </tr>\n",
       "  </tbody>\n",
       "</table>\n",
       "</div>"
      ],
      "text/plain": [
       "                        title  pu_number           show_start_date  \\\n",
       "3902  День святого Валентина_  221083810 2010-07-15 12:00:00+00:00   \n",
       "3991  День святого Валентина_  221068010 2010-05-14 12:00:00+00:00   \n",
       "4070  День святого Валентина_  121002210 2010-02-03 12:00:00+00:00   \n",
       "4196  День святого Валентина_  221136210 2010-11-30 12:00:00+00:00   \n",
       "5070  День святого Валентина_  221066410 2010-06-01 12:00:00+00:00   \n",
       "\n",
       "                type                                        film_studio  \\\n",
       "3902  Художественный  Уорнер Бразерс, Нью Лайн Синема, Уэйн Райс, Ка...   \n",
       "3991  Художественный  Уорнер Бразерс, Нью Лайн Синема, Уэйн Райс, Ка...   \n",
       "4070  Художественный  Уорнер Бразерс, Нью Лайн Синема, Уэйн Райс, Ка...   \n",
       "4196  Художественный  Уорнер Бразерс, Нью Лайн Синема, Уэйн Райс, Ка...   \n",
       "5070  Художественный  Уорнер Бразерс, Нью Лайн Синема, Уэйн Райс, Ка...   \n",
       "\n",
       "     production_country       director         producer  \\\n",
       "3902                США  Гарри Маршалл  Сэмюэл Дж.Браун   \n",
       "3991                США  Гарри Маршалл  Сэмюэл Дж.Браун   \n",
       "4070                США  Гарри Маршалл  Сэмюэл Дж.Браун   \n",
       "4196                США  Гарри Маршалл  Сэмюэл Дж.Браун   \n",
       "5070                США  Гарри Маршалл  Сэмюэл Дж.Браун   \n",
       "\n",
       "                      age_restriction  refundable_support  \\\n",
       "3902  «16+» - для детей старше 16 лет                 NaN   \n",
       "3991  «16+» - для детей старше 16 лет                 NaN   \n",
       "4070  «16+» - для детей старше 16 лет                 NaN   \n",
       "4196  «16+» - для детей старше 16 лет                 NaN   \n",
       "5070  «16+» - для детей старше 16 лет                 NaN   \n",
       "\n",
       "      nonrefundable_support  budget financing_source  ratings  \\\n",
       "3902                    NaN     NaN              NaN      6.7   \n",
       "3991                    NaN     NaN              NaN      6.7   \n",
       "4070                    NaN     NaN              NaN      6.7   \n",
       "4196                    NaN     NaN              NaN      6.7   \n",
       "5070                    NaN     NaN              NaN      6.7   \n",
       "\n",
       "                 genres  box_office  \n",
       "3902  мелодрама,комедия         NaN  \n",
       "3991  мелодрама,комедия         NaN  \n",
       "4070  мелодрама,комедия         NaN  \n",
       "4196  мелодрама,комедия         NaN  \n",
       "5070  мелодрама,комедия         NaN  "
      ]
     },
     "execution_count": 33,
     "metadata": {},
     "output_type": "execute_result"
    }
   ],
   "source": [
    "df.query('title == \"День святого Валентина_\"')"
   ]
  },
  {
   "cell_type": "markdown",
   "metadata": {},
   "source": [
    "В столбце `title` имеются дубликаты по названиям, но при этом имеют разные прокатные номера и даты выхода, возможно это даты выхода не только в кинотеатре, но и на разных стриминговых сервисах и телевидении."
   ]
  },
  {
   "cell_type": "markdown",
   "metadata": {},
   "source": [
    "###### Вывод:\n",
    "В столбце `pu_number` есть два дублирующихся значения. Номер прокатного удостоверения 221054410 имеет разные названия, возможно произошла опечатка при заполнении. Так как эти данные нам не мешают оставим их без изменения.<br>\n",
    "Вторая пара 221154310 с номером имеет одинаковое название, удалим один дубль в котором меньше данных в столбце страна-производитель.<br>\n",
    "В столбце `title` имеются дубликаты по названиям, но при этом имеют разные прокатные номера и даты выхода, возможно это даты выхода не только в кинотеатре, но и на разных стриминговых сервисах и телевидении."
   ]
  },
  {
   "cell_type": "markdown",
   "metadata": {
    "id": "52fOPrEBgFyQ"
   },
   "source": [
    "#### Шаг 2.4. Изучите категориальные значения\n",
    "\n",
    "- Посмотрите, какая общая проблема встречается почти во всех категориальных столбцах;\n",
    "- Исправьте проблемные значения в поле `type`.\n",
    "\n",
    "<div id=\"accordion\">\n",
    "    <div class=\"card\">\n",
    "        <div class=\"card-header\" id=\"headingThree\">\n",
    "            <button class=\"btn btn-link collapsed\" data-toggle=\"collapse\" data-target=\"#collapseHint_1\" aria-expanded=\"false\" aria-controls=\"collapseHint_1\">Подсказка</button>\n",
    "        </div>\n",
    "        <div id=\"collapseHint_1\" class=\"collapse\" aria-labelledby=\"headingThree\" data-parent=\"#accordion\">\n",
    "            <div class=\"card-body\">\n",
    "В поле <code>type</code> есть несколько значений, у которых появился пробел в начале строки. Самый простой способ их «починить» -- использовать метод <a href=\"https://pandas.pydata.org/docs/reference/api/pandas.Series.str.strip.html#pandas.Series.str.strip\">.str.strip</a>. Этот метод удаляет все пробелы, которые встречаются в начале и в конце строки. Применяют его таким образом:<br>\n",
    "<code>df['type'].str.strip()</code>\n",
    "            </div>\n",
    "        </div>\n",
    "    </div>\n",
    "</div>"
   ]
  },
  {
   "cell_type": "markdown",
   "metadata": {},
   "source": [
    "##### Тип фильма"
   ]
  },
  {
   "cell_type": "code",
   "execution_count": 34,
   "metadata": {
    "scrolled": true
   },
   "outputs": [
    {
     "data": {
      "text/plain": [
       "Художественный                4519\n",
       " Художественный               1389\n",
       "Анимационный                   828\n",
       "Прочие                         406\n",
       "Документальный                 288\n",
       "Научно-популярный               53\n",
       " Анимационный                    1\n",
       "Музыкально-развлекательный       1\n",
       "Name: type, dtype: int64"
      ]
     },
     "execution_count": 34,
     "metadata": {},
     "output_type": "execute_result"
    }
   ],
   "source": [
    "# Просмотр значений в столбце тип фильма \n",
    "df.type.value_counts()"
   ]
  },
  {
   "cell_type": "code",
   "execution_count": 35,
   "metadata": {
    "id": "PnXKIVdFgFyR"
   },
   "outputs": [],
   "source": [
    "# Удаление пробелов из названий типов фильмов\n",
    "df.type = df.type.str.strip()"
   ]
  },
  {
   "cell_type": "code",
   "execution_count": 36,
   "metadata": {
    "scrolled": true
   },
   "outputs": [
    {
     "data": {
      "text/plain": [
       "Художественный                5908\n",
       "Анимационный                   829\n",
       "Прочие                         406\n",
       "Документальный                 288\n",
       "Научно-популярный               53\n",
       "Музыкально-развлекательный       1\n",
       "Name: type, dtype: int64"
      ]
     },
     "execution_count": 36,
     "metadata": {},
     "output_type": "execute_result"
    }
   ],
   "source": [
    "# Проверка удаления пробелов\n",
    "df.type.value_counts()"
   ]
  },
  {
   "cell_type": "markdown",
   "metadata": {},
   "source": [
    "###### Вывод:\n",
    "В столбце с названиями типов фильмов были повторяющиеся значения с пробелами. Пробелы были удалены."
   ]
  },
  {
   "cell_type": "markdown",
   "metadata": {},
   "source": [
    "##### Страна-производитель"
   ]
  },
  {
   "cell_type": "code",
   "execution_count": 37,
   "metadata": {},
   "outputs": [
    {
     "data": {
      "text/plain": [
       "США                            2171\n",
       "Россия                         1821\n",
       "СССР                            347\n",
       "Франция                         301\n",
       "Великобритания                  257\n",
       "                               ... \n",
       "США - Канада - КНР                1\n",
       "Россия, Грузия, Испания           1\n",
       "США - Пуэрто Рико                 1\n",
       "Литва-Россия-Украина              1\n",
       "Германия - Дания - Норвегия       1\n",
       "Name: production_country, Length: 950, dtype: int64"
      ]
     },
     "execution_count": 37,
     "metadata": {},
     "output_type": "execute_result"
    }
   ],
   "source": [
    "# Просмотр значений в столбце страна-производитель \n",
    "df.production_country.value_counts()"
   ]
  },
  {
   "cell_type": "code",
   "execution_count": 38,
   "metadata": {},
   "outputs": [],
   "source": [
    "# Удаление пробелов из названий стран-производителей\n",
    "df.production_country = df.production_country.str.strip()"
   ]
  },
  {
   "cell_type": "code",
   "execution_count": 39,
   "metadata": {
    "scrolled": false
   },
   "outputs": [
    {
     "data": {
      "text/plain": [
       "США                                                          2174\n",
       "Россия                                                       1821\n",
       "СССР                                                          377\n",
       "Франция                                                       302\n",
       "Великобритания                                                259\n",
       "                                                             ... \n",
       "СССР, Монголия                                                  1\n",
       "Италия - Канада                                                 1\n",
       "Армения - Казахстан                                             1\n",
       "Испания - Бельгия - Франция - Португалия - Великобритания       1\n",
       "Франция - Италия - Иран                                         1\n",
       "Name: production_country, Length: 934, dtype: int64"
      ]
     },
     "execution_count": 39,
     "metadata": {},
     "output_type": "execute_result"
    }
   ],
   "source": [
    "# Проверка удаления пробелов\n",
    "df.production_country.value_counts()"
   ]
  },
  {
   "cell_type": "markdown",
   "metadata": {},
   "source": [
    "###### Вывод:\n",
    "В столбце с названиями стран-производителей фильмов были повторяющиеся значения с пробелами. Пробелы были удалены."
   ]
  },
  {
   "cell_type": "markdown",
   "metadata": {},
   "source": [
    "##### Режиссёр"
   ]
  },
  {
   "cell_type": "code",
   "execution_count": 40,
   "metadata": {},
   "outputs": [
    {
     "data": {
      "text/plain": [
       "О.Семёнова             47\n",
       "Д.Червяцов             17\n",
       "Стивен Содерберг       17\n",
       "Ридли Скотт            16\n",
       "Тиль Швайгер           14\n",
       "                       ..\n",
       "Эрик Ван Лой            1\n",
       "Л.Искандерова           1\n",
       "Жеральд Юсташ-Матьё     1\n",
       "А.Марутян               1\n",
       "Илья Трусов             1\n",
       "Name: director, Length: 4811, dtype: int64"
      ]
     },
     "execution_count": 40,
     "metadata": {},
     "output_type": "execute_result"
    }
   ],
   "source": [
    "# Просмотр значений в столбце режиссёр \n",
    "df.director.value_counts()"
   ]
  },
  {
   "cell_type": "code",
   "execution_count": 41,
   "metadata": {},
   "outputs": [],
   "source": [
    "# Удаление пробелов из имен режиссёров фильмов\n",
    "df.director = df.director.str.strip()"
   ]
  },
  {
   "cell_type": "code",
   "execution_count": 42,
   "metadata": {
    "scrolled": false
   },
   "outputs": [
    {
     "data": {
      "text/plain": [
       "О.Семёнова          60\n",
       "Стивен Содерберг    17\n",
       "Д.Червяцов          17\n",
       "Ридли Скотт         16\n",
       "Тиль Швайгер        14\n",
       "                    ..\n",
       "Пабло Троперо        1\n",
       "Л.Лысцов             1\n",
       "Н.Кузнецова          1\n",
       "Митчелл Алтери       1\n",
       "Илья Трусов          1\n",
       "Name: director, Length: 4801, dtype: int64"
      ]
     },
     "execution_count": 42,
     "metadata": {},
     "output_type": "execute_result"
    }
   ],
   "source": [
    "# Проверка удаления пробелов\n",
    "df.director.value_counts()"
   ]
  },
  {
   "cell_type": "markdown",
   "metadata": {},
   "source": [
    "###### Вывод:\n",
    "В столбце с именами режиссёров фильмов были повторяющиеся значения с пробелами. Пробелы были удалены."
   ]
  },
  {
   "cell_type": "markdown",
   "metadata": {},
   "source": [
    "##### Жанр фильма"
   ]
  },
  {
   "cell_type": "code",
   "execution_count": 43,
   "metadata": {},
   "outputs": [
    {
     "data": {
      "text/plain": [
       "unknown                       976\n",
       "драма                         476\n",
       "комедия                       352\n",
       "мелодрама,комедия             222\n",
       "драма,мелодрама,комедия       189\n",
       "                             ... \n",
       "биография,музыка,мюзикл         1\n",
       "история,драма,мелодрама         1\n",
       "спорт,драма,комедия             1\n",
       "вестерн,приключения,боевик      1\n",
       "комедия,военный,музыка          1\n",
       "Name: genres, Length: 743, dtype: int64"
      ]
     },
     "execution_count": 43,
     "metadata": {},
     "output_type": "execute_result"
    }
   ],
   "source": [
    "# Просмотр значений в столбце жанр фильма \n",
    "df.genres.value_counts()"
   ]
  },
  {
   "cell_type": "code",
   "execution_count": 44,
   "metadata": {},
   "outputs": [],
   "source": [
    "# Удаление пробелов из названий жанров\n",
    "df.genres = df.genres.str.strip()"
   ]
  },
  {
   "cell_type": "code",
   "execution_count": 45,
   "metadata": {
    "scrolled": true
   },
   "outputs": [
    {
     "data": {
      "text/plain": [
       "unknown                       976\n",
       "драма                         476\n",
       "комедия                       352\n",
       "мелодрама,комедия             222\n",
       "драма,мелодрама,комедия       189\n",
       "                             ... \n",
       "биография,музыка,мюзикл         1\n",
       "история,драма,мелодрама         1\n",
       "спорт,драма,комедия             1\n",
       "вестерн,приключения,боевик      1\n",
       "комедия,военный,музыка          1\n",
       "Name: genres, Length: 743, dtype: int64"
      ]
     },
     "execution_count": 45,
     "metadata": {},
     "output_type": "execute_result"
    }
   ],
   "source": [
    "# Проверка удаления пробелов\n",
    "df.genres.value_counts()"
   ]
  },
  {
   "cell_type": "markdown",
   "metadata": {},
   "source": [
    "###### Вывод:\n",
    "В столбце с именами режиссёров фильмов нет повторяющиеся значений с пробелами."
   ]
  },
  {
   "cell_type": "markdown",
   "metadata": {},
   "source": [
    "##### Cтудия-производитель"
   ]
  },
  {
   "cell_type": "code",
   "execution_count": 46,
   "metadata": {
    "scrolled": false
   },
   "outputs": [
    {
     "data": {
      "text/plain": [
       "Киностудия \"Мосфильм\"                                                                                                                   341\n",
       "ООО \"Мульт в кино\"                                                                                                                       57\n",
       "Анимаккорд Лтд                                                                                                                           23\n",
       "ООО \"Мульт в кино\"                                                                                                                       18\n",
       "ФГУП \"ТПО \"Киностудия \"Союзмультфильм\"                                                                                                   16\n",
       "                                                                                                                                       ... \n",
       "Буена Виста Интернэшнл, Тачстоун Пикчерз                                                                                                  1\n",
       "Уорнер Бразерс, Партисипант Медиа, Имаджинейшн Абу Даби, Дубль Фьючер Филмз, Ридженси Энтерпрайзис                                        1\n",
       "Аутоматик Интертейнмент, Айм Глобал Октане, Вайанс Браверз Интертейнмент                                                                  1\n",
       "ХХ век Фокс, Парамаунт Пикчерз, Лайтсторм Интертейнмент                                                                                   1\n",
       "Парамаунт Пикчерз, Флинн Пикчер Компани, Фремантл Продакшнз, Монтесито Пикчер Компани, Сэвэн Бакс Продакшн, Скайдэнс Медиа, Инчартед      1\n",
       "Name: film_studio, Length: 5489, dtype: int64"
      ]
     },
     "execution_count": 46,
     "metadata": {},
     "output_type": "execute_result"
    }
   ],
   "source": [
    "# Просмотр значений в столбце студия-производитель\n",
    "df.film_studio.value_counts()"
   ]
  },
  {
   "cell_type": "code",
   "execution_count": 47,
   "metadata": {},
   "outputs": [],
   "source": [
    "# Удаление пробелов из наименования студий-производителей\n",
    "df.film_studio = df.film_studio.str.strip()"
   ]
  },
  {
   "cell_type": "code",
   "execution_count": 48,
   "metadata": {
    "scrolled": false
   },
   "outputs": [
    {
     "data": {
      "text/plain": [
       "Киностудия \"Мосфильм\"                                                                                                                   345\n",
       "ООО \"Мульт в кино\"                                                                                                                       75\n",
       "Анимаккорд Лтд                                                                                                                           23\n",
       "ООО \"ТаББаК\"                                                                                                                             18\n",
       "ФГУП \"ТПО \"Киностудия \"Союзмультфильм\"                                                                                                   16\n",
       "                                                                                                                                       ... \n",
       "Диджитал Интерференсе Продюксьон, Хадрон Филмс                                                                                            1\n",
       "Кеннеди/Маршал Компани, Юниверсал Пикчерз, Гипнотик, Калима Продакшнз, Лудлум Интертейнмент                                               1\n",
       "Буена Виста Интернэшнл, Тачстоун Пикчерз                                                                                                  1\n",
       "Уорнер Бразерс, Партисипант Медиа, Имаджинейшн Абу Даби, Дубль Фьючер Филмз, Ридженси Энтерпрайзис                                        1\n",
       "Парамаунт Пикчерз, Флинн Пикчер Компани, Фремантл Продакшнз, Монтесито Пикчер Компани, Сэвэн Бакс Продакшн, Скайдэнс Медиа, Инчартед      1\n",
       "Name: film_studio, Length: 5461, dtype: int64"
      ]
     },
     "execution_count": 48,
     "metadata": {},
     "output_type": "execute_result"
    }
   ],
   "source": [
    "# Проверка удаления пробелов\n",
    "df.film_studio.value_counts()"
   ]
  },
  {
   "cell_type": "markdown",
   "metadata": {},
   "source": [
    "###### Вывод:\n",
    "В столбце с наименованиями студий производителей были повторяющиеся значения с пробелами. Пробелы были удалены."
   ]
  },
  {
   "cell_type": "markdown",
   "metadata": {},
   "source": [
    "##### Возрастная категория"
   ]
  },
  {
   "cell_type": "code",
   "execution_count": 49,
   "metadata": {
    "scrolled": true
   },
   "outputs": [
    {
     "data": {
      "text/plain": [
       "«16+» - для детей старше 16 лет           2851\n",
       "«18+» - запрещено для детей               1605\n",
       "«12+» - для детей старше 12 лет           1592\n",
       "«0+» - для любой зрительской аудитории     811\n",
       "«6+» - для детей старше 6 лет              626\n",
       "Name: age_restriction, dtype: int64"
      ]
     },
     "execution_count": 49,
     "metadata": {},
     "output_type": "execute_result"
    }
   ],
   "source": [
    "# Просмотр значений в столбце возрастная категория\n",
    "df.age_restriction.value_counts()"
   ]
  },
  {
   "cell_type": "markdown",
   "metadata": {},
   "source": [
    "###### Вывод:\n",
    "В столбце с возрастными категориями фильмов нет повторяющиеся значений с пробелами."
   ]
  },
  {
   "cell_type": "markdown",
   "metadata": {},
   "source": [
    "##### Источник государственного финансирования"
   ]
  },
  {
   "cell_type": "code",
   "execution_count": 50,
   "metadata": {
    "scrolled": true
   },
   "outputs": [
    {
     "data": {
      "text/plain": [
       "Министерство культуры               164\n",
       "Фонд кино                           146\n",
       "Министерство культуры, Фонд кино     22\n",
       "Name: financing_source, dtype: int64"
      ]
     },
     "execution_count": 50,
     "metadata": {},
     "output_type": "execute_result"
    }
   ],
   "source": [
    "# Просмотр значений в столбце с источником государственного финансирования\n",
    "df.financing_source.value_counts()"
   ]
  },
  {
   "cell_type": "markdown",
   "metadata": {},
   "source": [
    "###### Вывод:\n",
    "В столбце с источником государственного финансирования фильмов нет повторяющиеся значений с пробелами."
   ]
  },
  {
   "cell_type": "markdown",
   "metadata": {},
   "source": [
    "##### Продюсер"
   ]
  },
  {
   "cell_type": "code",
   "execution_count": 51,
   "metadata": {
    "scrolled": false
   },
   "outputs": [
    {
     "data": {
      "text/plain": [
       "unknown                                          568\n",
       "П.Смирнов                                         67\n",
       "Олег Кузовков, Дмитрий Ловейко, Марина Ратина     28\n",
       "С.Сельянов                                        18\n",
       "Д.Ловейко, О.Кузовков                             17\n",
       "Кевин Фейги                                       11\n",
       "Тони Майерс                                       11\n",
       "А.Тельнов                                         11\n",
       "Джерри Брукхаймер                                 11\n",
       "ООО \"Продюсерский центр ЕРАЛАШ\"                   10\n",
       "Н.Мокрицкая                                        9\n",
       "С.Сельянов, А.Боярский                             9\n",
       "Э.Пичугин                                          9\n",
       "С.Говорухин, Е.Маскина                             9\n",
       "Б.Машковцев, С.Струсовский                         8\n",
       "ООО \"Стар Медиа Дистрибьюшн\"                       8\n",
       "А.Герасимов                                        8\n",
       "Г.Васильев, М.Мэннис, И.Попов                      8\n",
       "Тиль Швайгер                                       8\n",
       "ФГУП \"Киноконцерн \"Мосфильм\"                       8\n",
       "Name: producer, dtype: int64"
      ]
     },
     "execution_count": 51,
     "metadata": {},
     "output_type": "execute_result"
    }
   ],
   "source": [
    "# Просмотр значений в столбце именем продюсера\n",
    "df.producer.value_counts()[:20]"
   ]
  },
  {
   "cell_type": "code",
   "execution_count": 52,
   "metadata": {},
   "outputs": [],
   "source": [
    "# Удаление пробелов из столбца с именем продюсера\n",
    "df.producer = df.producer.str.strip()"
   ]
  },
  {
   "cell_type": "code",
   "execution_count": 53,
   "metadata": {},
   "outputs": [
    {
     "data": {
      "text/plain": [
       "unknown                                          568\n",
       "П.Смирнов                                         67\n",
       "Олег Кузовков, Дмитрий Ловейко, Марина Ратина     28\n",
       "С.Сельянов                                        18\n",
       "Д.Ловейко, О.Кузовков                             17\n",
       "А.Тельнов                                         12\n",
       "Кевин Фейги                                       11\n",
       "Джерри Брукхаймер                                 11\n",
       "Тони Майерс                                       11\n",
       "ООО \"Продюсерский центр ЕРАЛАШ\"                   10\n",
       "С.Говорухин, Е.Маскина                             9\n",
       "Н.Мокрицкая                                        9\n",
       "С.Сельянов, А.Боярский                             9\n",
       "Э.Пичугин                                          9\n",
       "ФГУП \"Киноконцерн \"Мосфильм\"                       9\n",
       "Фил Грабски                                        8\n",
       "ООО \"Стар Медиа Дистрибьюшн\"                       8\n",
       "А.Герасимов                                        8\n",
       "Б.Машковцев, С.Струсовский                         8\n",
       "Г.Васильев, М.Мэннис, И.Попов                      8\n",
       "Name: producer, dtype: int64"
      ]
     },
     "execution_count": 53,
     "metadata": {},
     "output_type": "execute_result"
    }
   ],
   "source": [
    "# Проверка удаления пробелов\n",
    "df.producer.value_counts()[:20]"
   ]
  },
  {
   "cell_type": "markdown",
   "metadata": {},
   "source": [
    "###### Вывод:\n",
    "В столбце именем продюсера фильмов нет повторяющиеся значений с пробелами."
   ]
  },
  {
   "cell_type": "markdown",
   "metadata": {},
   "source": [
    "##### Вывод:\n",
    "В столбцах `страна-производитель`, `режисёр`, `жанр фильма`, `студия производитель` и `продюсер` встречаются категории, которые идут через запятую и точно не категоризируют данные. <br>\n",
    "В столбцах `тип фильма`, `возрастная категория` и `источник государственного финансирования` такой проблеммы нет, точно выделены категории."
   ]
  },
  {
   "cell_type": "markdown",
   "metadata": {
    "id": "XFSN5lrEgFyR"
   },
   "source": [
    "#### Шаг 2.5. Проверьте количественные значения\n",
    "\n",
    "- Проверьте, обнаружились ли в таких столбцах подозрительные данные. Как с такими данными лучше поступить?\n",
    "\n",
    "<div id=\"accordion\">\n",
    "    <div class=\"card\">\n",
    "        <div class=\"card-header\" id=\"headingThree\">\n",
    "            <button class=\"btn btn-link collapsed\" data-toggle=\"collapse\" data-target=\"#collapseHint_budget\" aria-expanded=\"false\" aria-controls=\"collapseHint_budget\">Подсказка</button>\n",
    "        </div>\n",
    "        <div id=\"collapseHint_budget\" class=\"collapse\" aria-labelledby=\"headingThree\" data-parent=\"#accordion\">\n",
    "            <div class=\"card-body\">\n",
    "Обратите внимание на описание столбца <code>budget</code>. Как этот столбец соотносится с двумя другими: <code>refundable_support</code> и <code>nonrefundable_support</code>?\n",
    "            </div>\n",
    "        </div>\n",
    "    </div>\n",
    "</div>"
   ]
  },
  {
   "cell_type": "markdown",
   "metadata": {},
   "source": [
    "##### Бюджет"
   ]
  },
  {
   "cell_type": "code",
   "execution_count": 54,
   "metadata": {
    "id": "YbzClBxagFyS"
   },
   "outputs": [
    {
     "data": {
      "text/html": [
       "<div>\n",
       "<style scoped>\n",
       "    .dataframe tbody tr th:only-of-type {\n",
       "        vertical-align: middle;\n",
       "    }\n",
       "\n",
       "    .dataframe tbody tr th {\n",
       "        vertical-align: top;\n",
       "    }\n",
       "\n",
       "    .dataframe thead th {\n",
       "        text-align: right;\n",
       "    }\n",
       "</style>\n",
       "<table border=\"1\" class=\"dataframe\">\n",
       "  <thead>\n",
       "    <tr style=\"text-align: right;\">\n",
       "      <th></th>\n",
       "      <th>refundable_support</th>\n",
       "      <th>nonrefundable_support</th>\n",
       "      <th>budget</th>\n",
       "    </tr>\n",
       "  </thead>\n",
       "  <tbody>\n",
       "    <tr>\n",
       "      <th>2053</th>\n",
       "      <td>0.0</td>\n",
       "      <td>23000000.0</td>\n",
       "      <td>0.0</td>\n",
       "    </tr>\n",
       "    <tr>\n",
       "      <th>2058</th>\n",
       "      <td>0.0</td>\n",
       "      <td>75000000.0</td>\n",
       "      <td>0.0</td>\n",
       "    </tr>\n",
       "    <tr>\n",
       "      <th>2472</th>\n",
       "      <td>10000000.0</td>\n",
       "      <td>70000000.0</td>\n",
       "      <td>0.0</td>\n",
       "    </tr>\n",
       "    <tr>\n",
       "      <th>2532</th>\n",
       "      <td>20000000.0</td>\n",
       "      <td>0.0</td>\n",
       "      <td>0.0</td>\n",
       "    </tr>\n",
       "    <tr>\n",
       "      <th>2615</th>\n",
       "      <td>60000000.0</td>\n",
       "      <td>100000000.0</td>\n",
       "      <td>0.0</td>\n",
       "    </tr>\n",
       "    <tr>\n",
       "      <th>2684</th>\n",
       "      <td>0.0</td>\n",
       "      <td>59000000.0</td>\n",
       "      <td>0.0</td>\n",
       "    </tr>\n",
       "    <tr>\n",
       "      <th>2788</th>\n",
       "      <td>0.0</td>\n",
       "      <td>35000000.0</td>\n",
       "      <td>0.0</td>\n",
       "    </tr>\n",
       "    <tr>\n",
       "      <th>2874</th>\n",
       "      <td>0.0</td>\n",
       "      <td>6000000.0</td>\n",
       "      <td>0.0</td>\n",
       "    </tr>\n",
       "    <tr>\n",
       "      <th>3047</th>\n",
       "      <td>19000000.0</td>\n",
       "      <td>51000000.0</td>\n",
       "      <td>0.0</td>\n",
       "    </tr>\n",
       "    <tr>\n",
       "      <th>3565</th>\n",
       "      <td>0.0</td>\n",
       "      <td>250000000.0</td>\n",
       "      <td>0.0</td>\n",
       "    </tr>\n",
       "    <tr>\n",
       "      <th>3675</th>\n",
       "      <td>20000000.0</td>\n",
       "      <td>20000000.0</td>\n",
       "      <td>0.0</td>\n",
       "    </tr>\n",
       "    <tr>\n",
       "      <th>3739</th>\n",
       "      <td>25000000.0</td>\n",
       "      <td>20000000.0</td>\n",
       "      <td>0.0</td>\n",
       "    </tr>\n",
       "    <tr>\n",
       "      <th>5673</th>\n",
       "      <td>20000000.0</td>\n",
       "      <td>40000000.0</td>\n",
       "      <td>0.0</td>\n",
       "    </tr>\n",
       "    <tr>\n",
       "      <th>5806</th>\n",
       "      <td>10000000.0</td>\n",
       "      <td>60000000.0</td>\n",
       "      <td>0.0</td>\n",
       "    </tr>\n",
       "    <tr>\n",
       "      <th>6008</th>\n",
       "      <td>40000000.0</td>\n",
       "      <td>40000000.0</td>\n",
       "      <td>0.0</td>\n",
       "    </tr>\n",
       "    <tr>\n",
       "      <th>6323</th>\n",
       "      <td>0.0</td>\n",
       "      <td>138969465.0</td>\n",
       "      <td>0.0</td>\n",
       "    </tr>\n",
       "    <tr>\n",
       "      <th>6823</th>\n",
       "      <td>60000000.0</td>\n",
       "      <td>120000000.0</td>\n",
       "      <td>0.0</td>\n",
       "    </tr>\n",
       "  </tbody>\n",
       "</table>\n",
       "</div>"
      ],
      "text/plain": [
       "      refundable_support  nonrefundable_support  budget\n",
       "2053                 0.0             23000000.0     0.0\n",
       "2058                 0.0             75000000.0     0.0\n",
       "2472          10000000.0             70000000.0     0.0\n",
       "2532          20000000.0                    0.0     0.0\n",
       "2615          60000000.0            100000000.0     0.0\n",
       "2684                 0.0             59000000.0     0.0\n",
       "2788                 0.0             35000000.0     0.0\n",
       "2874                 0.0              6000000.0     0.0\n",
       "3047          19000000.0             51000000.0     0.0\n",
       "3565                 0.0            250000000.0     0.0\n",
       "3675          20000000.0             20000000.0     0.0\n",
       "3739          25000000.0             20000000.0     0.0\n",
       "5673          20000000.0             40000000.0     0.0\n",
       "5806          10000000.0             60000000.0     0.0\n",
       "6008          40000000.0             40000000.0     0.0\n",
       "6323                 0.0            138969465.0     0.0\n",
       "6823          60000000.0            120000000.0     0.0"
      ]
     },
     "execution_count": 54,
     "metadata": {},
     "output_type": "execute_result"
    }
   ],
   "source": [
    "# Вывод данных в которых значение бюджета равно нулю, хотя на эти фильмы выделялись средства поддержки \n",
    "(\n",
    "    df[~df['budget']\n",
    "       .isna()]\n",
    "    [['refundable_support', 'nonrefundable_support', 'budget']]\n",
    "    .query('refundable_support + nonrefundable_support > budget')\n",
    ")"
   ]
  },
  {
   "cell_type": "code",
   "execution_count": 55,
   "metadata": {},
   "outputs": [],
   "source": [
    "df.budget = np.where(df.budget == 0, np.nan, df.budget)"
   ]
  },
  {
   "cell_type": "markdown",
   "metadata": {},
   "source": [
    "##### Объём возвратных средств государственной поддержки"
   ]
  },
  {
   "cell_type": "code",
   "execution_count": 56,
   "metadata": {},
   "outputs": [
    {
     "data": {
      "image/png": "[encoded data removed]",
      "text/plain": [
       "<Figure size 432x288 with 1 Axes>"
      ]
     },
     "metadata": {
      "needs_background": "light"
     },
     "output_type": "display_data"
    }
   ],
   "source": [
    "# Построене графика интерквартильного размаха\n",
    "df.boxplot(column='refundable_support')\n",
    "plt.title('Диаграмма размаха')\n",
    "plt.ylabel('объём возвратных средств государственной поддержки')\n",
    "None"
   ]
  },
  {
   "cell_type": "code",
   "execution_count": 57,
   "metadata": {},
   "outputs": [
    {
     "name": "stdout",
     "output_type": "stream",
     "text": [
      "Нижняя граница: 0.0\n",
      "Верхняя граница: 110000000.0\n",
      "Процент отброшенных значений составит =  95.6 %\n"
     ]
    }
   ],
   "source": [
    "# Значения объём возвратных средств государственной \n",
    "# поддержки выходящие за диапазон меньше 1% и больше 99%\n",
    "# то есть менее 0.01 и более 0.99 перцентиля)\n",
    "\n",
    "low_percentele = 0.01\n",
    "hihg_percentele = 0.99\n",
    "\n",
    "param_low = df['refundable_support'].quantile(low_percentele)\n",
    "param_high = df['refundable_support'].quantile(hihg_percentele)\n",
    "\n",
    "print(f'Нижняя граница: {param_low}')\n",
    "print(f'Верхняя граница: {param_high}')\n",
    "\n",
    "print(\n",
    "    'Процент отброшенных значений составит = ',\n",
    "    round(\n",
    "        100 - len(df.query('@param_low <= refundable_support <= @param_high'))\n",
    "        / len(df['refundable_support']) * 100,\n",
    "        2\n",
    "    ),\n",
    "    '%'\n",
    ")"
   ]
  },
  {
   "cell_type": "markdown",
   "metadata": {},
   "source": [
    "##### Объём невозвратных средств государственной поддержки"
   ]
  },
  {
   "cell_type": "code",
   "execution_count": 58,
   "metadata": {},
   "outputs": [
    {
     "data": {
      "image/png": "[encoded data removed]",
      "text/plain": [
       "<Figure size 432x288 with 1 Axes>"
      ]
     },
     "metadata": {
      "needs_background": "light"
     },
     "output_type": "display_data"
    }
   ],
   "source": [
    "# Построене графика интерквартильного размаха\n",
    "df.boxplot(column='nonrefundable_support')\n",
    "plt.title('Диаграмма размаха')\n",
    "plt.ylabel('объём невозвратных средств государственной поддержки')\n",
    "None"
   ]
  },
  {
   "cell_type": "code",
   "execution_count": 59,
   "metadata": {},
   "outputs": [
    {
     "name": "stdout",
     "output_type": "stream",
     "text": [
      "Нижняя граница: 0.0\n",
      "Верхняя граница: 363552092.5799998\n",
      "Процент отброшенных значений составит =  95.62 %\n"
     ]
    }
   ],
   "source": [
    "# Значения объём невозвратных средств государственной поддержки \n",
    "# выходящие за диапазон меньше 1% и больше 99%\n",
    "# то есть менее 0.01 и более 0.99 перцентиля)\n",
    "\n",
    "low_percentele = 0.01\n",
    "hihg_percentele = 0.99\n",
    "\n",
    "param_low = df['nonrefundable_support'].quantile(low_percentele)\n",
    "param_high = df['nonrefundable_support'].quantile(hihg_percentele)\n",
    "\n",
    "print(f'Нижняя граница: {param_low}')\n",
    "print(f'Верхняя граница: {param_high}')\n",
    "\n",
    "print(\n",
    "    'Процент отброшенных значений составит = ',\n",
    "    round(\n",
    "        100 - len(df.query('@param_low <= nonrefundable_support <= @param_high'))\n",
    "        / len(df['nonrefundable_support']) * 100,\n",
    "        2\n",
    "    ),\n",
    "    '%'\n",
    ")"
   ]
  },
  {
   "cell_type": "markdown",
   "metadata": {},
   "source": [
    "##### Общий бюджет фильма"
   ]
  },
  {
   "cell_type": "code",
   "execution_count": 60,
   "metadata": {},
   "outputs": [
    {
     "data": {
      "image/png": "[encoded data removed]",
      "text/plain": [
       "<Figure size 432x288 with 1 Axes>"
      ]
     },
     "metadata": {
      "needs_background": "light"
     },
     "output_type": "display_data"
    }
   ],
   "source": [
    "# Построене графика интерквартильного размаха\n",
    "df.boxplot(column='budget')\n",
    "plt.title('Диаграмма размаха')\n",
    "plt.ylabel('общий бюджет фильма')\n",
    "None"
   ]
  },
  {
   "cell_type": "code",
   "execution_count": 61,
   "metadata": {},
   "outputs": [
    {
     "name": "stdout",
     "output_type": "stream",
     "text": [
      "Нижняя граница: 19867228.8\n",
      "Верхняя граница: 921031875.1000023\n",
      "Процент отброшенных значений составит =  95.9 %\n"
     ]
    }
   ],
   "source": [
    "# Значения общего бюджета фильма\n",
    "# выходящие за диапазон меньше 1% и больше 99%\n",
    "# то есть менее 0.01 и более 0.99 перцентиля)\n",
    "\n",
    "low_percentele = 0.01\n",
    "hihg_percentele = 0.99\n",
    "\n",
    "param_low = df['budget'].quantile(low_percentele)\n",
    "param_high = df['budget'].quantile(hihg_percentele)\n",
    "\n",
    "print(f'Нижняя граница: {param_low}')\n",
    "print(f'Верхняя граница: {param_high}')\n",
    "\n",
    "print(\n",
    "    'Процент отброшенных значений составит = ',\n",
    "    round(\n",
    "        100 - len(df.query('@param_low <= budget <= @param_high'))\n",
    "        / len(df['budget']) * 100,\n",
    "        2\n",
    "    ),\n",
    "    '%'\n",
    ")"
   ]
  },
  {
   "cell_type": "markdown",
   "metadata": {},
   "source": [
    "##### Рейтинг фильма на КиноПоиске"
   ]
  },
  {
   "cell_type": "code",
   "execution_count": 62,
   "metadata": {},
   "outputs": [
    {
     "data": {
      "image/png": "[encoded data removed]",
      "text/plain": [
       "<Figure size 432x288 with 1 Axes>"
      ]
     },
     "metadata": {
      "needs_background": "light"
     },
     "output_type": "display_data"
    }
   ],
   "source": [
    "# Построене графика интерквартильного размаха\n",
    "df.boxplot(column='ratings')\n",
    "plt.title('Диаграмма размаха')\n",
    "plt.ylabel('рейтинг фильма на КиноПоиске')\n",
    "None"
   ]
  },
  {
   "cell_type": "code",
   "execution_count": 63,
   "metadata": {},
   "outputs": [
    {
     "name": "stdout",
     "output_type": "stream",
     "text": [
      "Нижняя граница: 3.1\n",
      "Верхняя граница: 8.5\n",
      "Процент отброшенных значений составит =  14.6 %\n"
     ]
    }
   ],
   "source": [
    "# Значения рейтинга фильма на КиноПоиске\n",
    "# выходящие за диапазон меньше 1% и больше 99%\n",
    "# то есть менее 0.01 и более 0.99 перцентиля)\n",
    "\n",
    "low_percentele = 0.01\n",
    "hihg_percentele = 0.99\n",
    "\n",
    "param_low = df['ratings'].quantile(low_percentele)\n",
    "param_high = df['ratings'].quantile(hihg_percentele)\n",
    "\n",
    "print(f'Нижняя граница: {param_low}')\n",
    "print(f'Верхняя граница: {param_high}')\n",
    "\n",
    "print(\n",
    "    'Процент отброшенных значений составит = ',\n",
    "    round(\n",
    "        100 - len(df.query('@param_low <= ratings <= @param_high'))\n",
    "        / len(df['ratings']) * 100,\n",
    "        2\n",
    "    ),\n",
    "    '%'\n",
    ")"
   ]
  },
  {
   "cell_type": "markdown",
   "metadata": {},
   "source": [
    "##### Сборы в рублях"
   ]
  },
  {
   "cell_type": "code",
   "execution_count": 64,
   "metadata": {
    "scrolled": true
   },
   "outputs": [
    {
     "data": {
      "image/png": "[encoded data removed]",
      "text/plain": [
       "<Figure size 432x288 with 1 Axes>"
      ]
     },
     "metadata": {
      "needs_background": "light"
     },
     "output_type": "display_data"
    }
   ],
   "source": [
    "# Построене графика интерквартильного размаха\n",
    "df.boxplot(column='box_office')\n",
    "plt.title('Диаграмма размаха')\n",
    "plt.ylabel('рейтинг фильма на КиноПоиске')\n",
    "None"
   ]
  },
  {
   "cell_type": "code",
   "execution_count": 65,
   "metadata": {
    "scrolled": true
   },
   "outputs": [
    {
     "name": "stdout",
     "output_type": "stream",
     "text": [
      "Нижняя граница: 100.0\n",
      "Верхняя граница: 1282478576.8811984\n",
      "Процент отброшенных значений составит =  58.61 %\n"
     ]
    }
   ],
   "source": [
    "# Значения рейтинга фильма на КиноПоиске\n",
    "# выходящие за диапазон меньше 1% и больше 99%\n",
    "# то есть менее 0.01 и более 0.99 перцентиля\n",
    "\n",
    "low_percentele = 0.01\n",
    "hihg_percentele = 0.99\n",
    "\n",
    "param_low = df['box_office'].quantile(low_percentele)\n",
    "param_high = df['box_office'].quantile(hihg_percentele)\n",
    "\n",
    "print(f'Нижняя граница: {param_low}')\n",
    "print(f'Верхняя граница: {param_high}')\n",
    "\n",
    "print(\n",
    "    'Процент отброшенных значений составит = ',\n",
    "    round(\n",
    "        100 - len(df.query('@param_low <= box_office <= @param_high'))\n",
    "        / len(df['box_office']) * 100,\n",
    "        2\n",
    "    ),\n",
    "    '%'\n",
    ")"
   ]
  },
  {
   "cell_type": "markdown",
   "metadata": {},
   "source": [
    "###### Вывод: \n",
    "В данных обнаружена аномалия. Есть фильмы на которые выделялись средства государственной поддержки, а их бюджет равен 0.\n",
    "Такого быть не может, поэтому заполним данные бюджета в таких фильмах пропусками, чтобы эти данные не повлияли на результаты исследования.\n",
    "Были построены графики итерквартильного размаха, и посчитан процент потерь данных если бы были отброшены данные менее 0.01 и более 0.99 перцентиля. т.к. большой получается большой процент потерь, данные оставлены без изменения."
   ]
  },
  {
   "cell_type": "markdown",
   "metadata": {
    "id": "Eu6oWp2CgFyS"
   },
   "source": [
    "#### Шаг 2.6. Добавьте новые столбцы\n",
    "\n",
    "\n",
    "\n"
   ]
  },
  {
   "cell_type": "markdown",
   "metadata": {
    "id": "7GgW-UpAgFyS"
   },
   "source": [
    "- Создайте столбец с информацией о годе проката. Выделите год из даты премьеры фильма."
   ]
  },
  {
   "cell_type": "code",
   "execution_count": 66,
   "metadata": {
    "id": "I-yd1DkWgFyT"
   },
   "outputs": [],
   "source": [
    "# Создание столбца с годом проката\n",
    "df['year'] = df['show_start_date'].dt.year"
   ]
  },
  {
   "cell_type": "code",
   "execution_count": 67,
   "metadata": {},
   "outputs": [
    {
     "data": {
      "text/plain": [
       "0       2015\n",
       "1       2016\n",
       "2       2016\n",
       "3       2016\n",
       "4       2015\n",
       "        ... \n",
       "7481    2019\n",
       "7482    2019\n",
       "7483    2019\n",
       "7484    2019\n",
       "7485    2019\n",
       "Name: year, Length: 7485, dtype: int64"
      ]
     },
     "execution_count": 67,
     "metadata": {},
     "output_type": "execute_result"
    }
   ],
   "source": [
    "# Проверка созданного столбца\n",
    "df.year"
   ]
  },
  {
   "cell_type": "markdown",
   "metadata": {
    "id": "nFTDLDYOgFyT"
   },
   "source": [
    "- Создайте два столбца: с именем и фамилией главного режиссёра и основным жанром фильма. В столбцы войдут первые значения из списка режиссёров и жанров соответственно.\n",
    "\n",
    "<div id=\"accordion\">\n",
    "    <div class=\"card\">\n",
    "        <div class=\"card-header\" id=\"headingThree\">\n",
    "            <button class=\"btn btn-link collapsed\" data-toggle=\"collapse\" data-target=\"#collapseHint_2\" aria-expanded=\"false\" aria-controls=\"collapseHint_2\">Подсказка</button>\n",
    "        </div>\n",
    "        <div id=\"collapseHint_2\" class=\"collapse\" aria-labelledby=\"headingThree\" data-parent=\"#accordion\">\n",
    "            <div class=\"card-body\">\n",
    "Чтобы создать такие столбцы, лучше всего использовать собственную функцию. Эту функцию можно применить к двум столбцам сразу. \n",
    "            </div>\n",
    "        </div>\n",
    "    </div>\n",
    "</div>"
   ]
  },
  {
   "cell_type": "code",
   "execution_count": 68,
   "metadata": {},
   "outputs": [],
   "source": [
    "def splt(value):\n",
    "    value = value.split(',')\n",
    "    return value[0]"
   ]
  },
  {
   "cell_type": "code",
   "execution_count": 69,
   "metadata": {
    "id": "LSbRZKbMgFyU"
   },
   "outputs": [],
   "source": [
    "# Создание столбцов с главным режиссёром и главным жанром фильма\n",
    "df['main_director'] = df['director'].apply(lambda x: x.split(',')[0])\n",
    "df['main_genre'] = df['genres'].apply(lambda x: x.split(',')[0])"
   ]
  },
  {
   "cell_type": "code",
   "execution_count": 70,
   "metadata": {},
   "outputs": [
    {
     "data": {
      "text/html": [
       "<div>\n",
       "<style scoped>\n",
       "    .dataframe tbody tr th:only-of-type {\n",
       "        vertical-align: middle;\n",
       "    }\n",
       "\n",
       "    .dataframe tbody tr th {\n",
       "        vertical-align: top;\n",
       "    }\n",
       "\n",
       "    .dataframe thead th {\n",
       "        text-align: right;\n",
       "    }\n",
       "</style>\n",
       "<table border=\"1\" class=\"dataframe\">\n",
       "  <thead>\n",
       "    <tr style=\"text-align: right;\">\n",
       "      <th></th>\n",
       "      <th>main_director</th>\n",
       "      <th>main_genre</th>\n",
       "    </tr>\n",
       "  </thead>\n",
       "  <tbody>\n",
       "    <tr>\n",
       "      <th>0</th>\n",
       "      <td>Кевин Костнер</td>\n",
       "      <td>боевик</td>\n",
       "    </tr>\n",
       "    <tr>\n",
       "      <th>1</th>\n",
       "      <td>Е.Матвеев</td>\n",
       "      <td>драма</td>\n",
       "    </tr>\n",
       "    <tr>\n",
       "      <th>2</th>\n",
       "      <td>Тимур Бекмамбетов</td>\n",
       "      <td>фантастика</td>\n",
       "    </tr>\n",
       "    <tr>\n",
       "      <th>3</th>\n",
       "      <td>Тимур Бекмамбетов</td>\n",
       "      <td>фантастика</td>\n",
       "    </tr>\n",
       "    <tr>\n",
       "      <th>4</th>\n",
       "      <td>Тимур Бекмамбетов</td>\n",
       "      <td>фантастика</td>\n",
       "    </tr>\n",
       "    <tr>\n",
       "      <th>...</th>\n",
       "      <td>...</td>\n",
       "      <td>...</td>\n",
       "    </tr>\n",
       "    <tr>\n",
       "      <th>7481</th>\n",
       "      <td>Фил Грабски</td>\n",
       "      <td>unknown</td>\n",
       "    </tr>\n",
       "    <tr>\n",
       "      <th>7482</th>\n",
       "      <td>Ник Пауэлл</td>\n",
       "      <td>боевик</td>\n",
       "    </tr>\n",
       "    <tr>\n",
       "      <th>7483</th>\n",
       "      <td>Чарльз Е.Бастьен</td>\n",
       "      <td>unknown</td>\n",
       "    </tr>\n",
       "    <tr>\n",
       "      <th>7484</th>\n",
       "      <td>А.Беляев</td>\n",
       "      <td>unknown</td>\n",
       "    </tr>\n",
       "    <tr>\n",
       "      <th>7485</th>\n",
       "      <td>И.Трусов</td>\n",
       "      <td>комедия</td>\n",
       "    </tr>\n",
       "  </tbody>\n",
       "</table>\n",
       "<p>7485 rows × 2 columns</p>\n",
       "</div>"
      ],
      "text/plain": [
       "          main_director  main_genre\n",
       "0         Кевин Костнер      боевик\n",
       "1             Е.Матвеев       драма\n",
       "2     Тимур Бекмамбетов  фантастика\n",
       "3     Тимур Бекмамбетов  фантастика\n",
       "4     Тимур Бекмамбетов  фантастика\n",
       "...                 ...         ...\n",
       "7481        Фил Грабски     unknown\n",
       "7482         Ник Пауэлл      боевик\n",
       "7483   Чарльз Е.Бастьен     unknown\n",
       "7484           А.Беляев     unknown\n",
       "7485           И.Трусов     комедия\n",
       "\n",
       "[7485 rows x 2 columns]"
      ]
     },
     "execution_count": 70,
     "metadata": {},
     "output_type": "execute_result"
    }
   ],
   "source": [
    "# Проверка созданных столбцов\n",
    "df[['main_director', 'main_genre']]"
   ]
  },
  {
   "cell_type": "markdown",
   "metadata": {
    "id": "1FsCXHwdgFyU"
   },
   "source": [
    "- Посчитайте, какую долю от общего бюджета фильма составляет государственная поддержка."
   ]
  },
  {
   "cell_type": "code",
   "execution_count": 71,
   "metadata": {
    "id": "LV6qFuZLgFyV"
   },
   "outputs": [],
   "source": [
    "# Создание столбца с долей государственной поддержки от общего бюджета фильма\n",
    "df['part'] = (df.refundable_support + df.nonrefundable_support) / df.budget"
   ]
  },
  {
   "cell_type": "code",
   "execution_count": 72,
   "metadata": {},
   "outputs": [
    {
     "data": {
      "text/plain": [
       "1281    0.333703\n",
       "1448    0.700000\n",
       "1498    0.612691\n",
       "1524    0.690095\n",
       "1792    0.624764\n",
       "          ...   \n",
       "7464    0.510204\n",
       "7466    0.526316\n",
       "7474    0.529661\n",
       "7476    0.649998\n",
       "7478    0.666012\n",
       "Name: part, Length: 315, dtype: float64"
      ]
     },
     "execution_count": 72,
     "metadata": {},
     "output_type": "execute_result"
    }
   ],
   "source": [
    "# Проверка созданного столбца\n",
    "df[~df['part'].isna()]['part']"
   ]
  },
  {
   "cell_type": "markdown",
   "metadata": {
    "id": "6t4EukPLgFyV"
   },
   "source": [
    "### Шаг 3. Проведите исследовательский анализ данных\n"
   ]
  },
  {
   "cell_type": "markdown",
   "metadata": {},
   "source": [
    "#### Количества фильмов выходивших в прокат каждый год"
   ]
  },
  {
   "cell_type": "markdown",
   "metadata": {
    "id": "vAH8WCzugFyV"
   },
   "source": [
    "- Посмотрите, сколько фильмов выходило в прокат каждый год. Обратите внимание, что данные о прокате в кинотеатрах известны не для всех фильмов. Посчитайте, какую долю составляют фильмы с указанной информацией о прокате в кинотеатрах."
   ]
  },
  {
   "cell_type": "code",
   "execution_count": 73,
   "metadata": {
    "id": "ABeV47y7gFyW",
    "scrolled": false
   },
   "outputs": [
    {
     "data": {
      "image/png": "[encoded data removed]",
      "text/plain": [
       "<Figure size 1080x1080 with 1 Axes>"
      ]
     },
     "metadata": {
      "needs_background": "light"
     },
     "output_type": "display_data"
    }
   ],
   "source": [
    "# Построение гистограммы с количеством фильмов по годам\n",
    "df.year.hist(figsize=(15,15))\n",
    "plt.title('Количество фильмов в год')\n",
    "None"
   ]
  },
  {
   "cell_type": "markdown",
   "metadata": {},
   "source": [
    "Вывод:\n",
    "В 2017 году было снято меньше всего фильмов."
   ]
  },
  {
   "cell_type": "code",
   "execution_count": 74,
   "metadata": {},
   "outputs": [
    {
     "data": {
      "text/plain": [
       "'Доля фильмов с указанной информацией о прокате в кинотеатрах составляют: 42.2%'"
      ]
     },
     "execution_count": 74,
     "metadata": {},
     "output_type": "execute_result"
    }
   ],
   "source": [
    "# Расчет какую долю составляют фильмы с указанной информацией о прокате в кинотеатрах.\n",
    "'Доля фильмов с указанной информацией о прокате в кинотеатрах составляют: {:.1%}'. format(df.box_office.isna().value_counts()[0] / len(df))"
   ]
  },
  {
   "cell_type": "code",
   "execution_count": 75,
   "metadata": {
    "id": "tfEhofYvgFyX"
   },
   "outputs": [],
   "source": [
    "# Создание дататфрейма с количеством прокатных фильмов и общим количеством фильмов\n",
    "df_year = df.groupby('year').agg({'box_office':'count','title':'count'})"
   ]
  },
  {
   "cell_type": "code",
   "execution_count": 76,
   "metadata": {},
   "outputs": [],
   "source": [
    "# Создание в датафрейме столбца с долей прокатных фильмов\n",
    "df_year['part'] = df_year.box_office / df_year.title"
   ]
  },
  {
   "cell_type": "code",
   "execution_count": 77,
   "metadata": {},
   "outputs": [
    {
     "data": {
      "image/png": "[encoded data removed]",
      "text/plain": [
       "<Figure size 1080x1080 with 1 Axes>"
      ]
     },
     "metadata": {
      "needs_background": "light"
     },
     "output_type": "display_data"
    }
   ],
   "source": [
    "# Построение графика доли прокатных фильмов по годам\n",
    "df_year.part.plot(kind='bar', grid=True, figsize=(15,15))\n",
    "plt.title('Доля прокатных фильмов по годам')\n",
    "None"
   ]
  },
  {
   "cell_type": "markdown",
   "metadata": {},
   "source": [
    "##### Вывод:\n",
    "Доля фильмов с указанной информацией о прокате в кинотеатрах составляют: 42.2%. Возможно остальные фильмы выходили стриминговых площадках. <br>\n",
    "Доля прокатных фильмов плавно росла до 2014 года, в 2015 году выросла практически в 2 раза по сравнению с 2014 годом. Затем также плавно росла до 2017 года. В 2018 произошел небольшой спад, но уже в 2019 продолжился рост.\n"
   ]
  },
  {
   "cell_type": "markdown",
   "metadata": {},
   "source": [
    "#### Динамика фильмов по годам"
   ]
  },
  {
   "cell_type": "markdown",
   "metadata": {
    "id": "BEOdcIrIgFyW"
   },
   "source": [
    "- Изучите, как менялась динамика проката по годам. В каком году сумма сборов была минимальной? А максимальной?"
   ]
  },
  {
   "cell_type": "code",
   "execution_count": 78,
   "metadata": {},
   "outputs": [
    {
     "data": {
      "image/png": "[encoded data removed]",
      "text/plain": [
       "<Figure size 1080x1080 with 1 Axes>"
      ]
     },
     "metadata": {
      "needs_background": "light"
     },
     "output_type": "display_data"
    }
   ],
   "source": [
    "# Построение графика суммы годовых сборов\n",
    "(\n",
    "    df.groupby(\n",
    "        'year'\n",
    "    ).agg(\n",
    "        {'box_office':'sum'}\n",
    "    ).plot(\n",
    "        kind='bar', \n",
    "        grid=True, \n",
    "        figsize=(15,15))\n",
    ")\n",
    "\n",
    "plt.title('Cумма сборов в год')\n",
    "None"
   ]
  },
  {
   "cell_type": "code",
   "execution_count": 79,
   "metadata": {},
   "outputs": [
    {
     "data": {
      "text/html": [
       "<div>\n",
       "<style scoped>\n",
       "    .dataframe tbody tr th:only-of-type {\n",
       "        vertical-align: middle;\n",
       "    }\n",
       "\n",
       "    .dataframe tbody tr th {\n",
       "        vertical-align: top;\n",
       "    }\n",
       "\n",
       "    .dataframe thead th {\n",
       "        text-align: right;\n",
       "    }\n",
       "</style>\n",
       "<table border=\"1\" class=\"dataframe\">\n",
       "  <thead>\n",
       "    <tr style=\"text-align: right;\">\n",
       "      <th></th>\n",
       "      <th>box_office</th>\n",
       "    </tr>\n",
       "    <tr>\n",
       "      <th>year</th>\n",
       "      <th></th>\n",
       "    </tr>\n",
       "  </thead>\n",
       "  <tbody>\n",
       "    <tr>\n",
       "      <th>2010</th>\n",
       "      <td>2.428654e+06</td>\n",
       "    </tr>\n",
       "    <tr>\n",
       "      <th>2011</th>\n",
       "      <td>1.410276e+07</td>\n",
       "    </tr>\n",
       "    <tr>\n",
       "      <th>2012</th>\n",
       "      <td>6.955423e+06</td>\n",
       "    </tr>\n",
       "    <tr>\n",
       "      <th>2013</th>\n",
       "      <td>2.979971e+07</td>\n",
       "    </tr>\n",
       "    <tr>\n",
       "      <th>2014</th>\n",
       "      <td>7.444952e+09</td>\n",
       "    </tr>\n",
       "    <tr>\n",
       "      <th>2015</th>\n",
       "      <td>3.949737e+10</td>\n",
       "    </tr>\n",
       "    <tr>\n",
       "      <th>2016</th>\n",
       "      <td>4.786630e+10</td>\n",
       "    </tr>\n",
       "    <tr>\n",
       "      <th>2017</th>\n",
       "      <td>4.856371e+10</td>\n",
       "    </tr>\n",
       "    <tr>\n",
       "      <th>2018</th>\n",
       "      <td>4.966840e+10</td>\n",
       "    </tr>\n",
       "    <tr>\n",
       "      <th>2019</th>\n",
       "      <td>4.842571e+10</td>\n",
       "    </tr>\n",
       "  </tbody>\n",
       "</table>\n",
       "</div>"
      ],
      "text/plain": [
       "        box_office\n",
       "year              \n",
       "2010  2.428654e+06\n",
       "2011  1.410276e+07\n",
       "2012  6.955423e+06\n",
       "2013  2.979971e+07\n",
       "2014  7.444952e+09\n",
       "2015  3.949737e+10\n",
       "2016  4.786630e+10\n",
       "2017  4.856371e+10\n",
       "2018  4.966840e+10\n",
       "2019  4.842571e+10"
      ]
     },
     "execution_count": 79,
     "metadata": {},
     "output_type": "execute_result"
    }
   ],
   "source": [
    "(\n",
    "    df.groupby(\n",
    "        'year'\n",
    "    ).agg(\n",
    "        {'box_office':'sum'}\n",
    "    )\n",
    ")"
   ]
  },
  {
   "cell_type": "markdown",
   "metadata": {},
   "source": [
    "##### Вывод:\n",
    "1. До 2014 года нет данных о кассовых сборах в кинотеатрах, в 2014 году тоже маленькое значение относительно полследующих лет. Возможны 2 варианта:\n",
    "    1. В 2015 году произощел резкий рост сборов.\n",
    "    2. Есть ошибка в данных выгруженных до 2014 года.\n",
    "\n",
    "2. Начиная с 2015 года наблюдается плавных рост сборов."
   ]
  },
  {
   "cell_type": "markdown",
   "metadata": {},
   "source": [
    "#### Среднее и медиана суммы сборов по годам"
   ]
  },
  {
   "cell_type": "markdown",
   "metadata": {
    "id": "G-7qS-N-gFyY"
   },
   "source": [
    "- С помощью сводной таблицы посчитайте среднюю и медианную сумму сборов для каждого года."
   ]
  },
  {
   "cell_type": "code",
   "execution_count": 80,
   "metadata": {},
   "outputs": [
    {
     "data": {
      "text/html": [
       "<div>\n",
       "<style scoped>\n",
       "    .dataframe tbody tr th:only-of-type {\n",
       "        vertical-align: middle;\n",
       "    }\n",
       "\n",
       "    .dataframe tbody tr th {\n",
       "        vertical-align: top;\n",
       "    }\n",
       "\n",
       "    .dataframe thead th {\n",
       "        text-align: right;\n",
       "    }\n",
       "</style>\n",
       "<table border=\"1\" class=\"dataframe\">\n",
       "  <thead>\n",
       "    <tr style=\"text-align: right;\">\n",
       "      <th></th>\n",
       "      <th>mean</th>\n",
       "      <th>median</th>\n",
       "    </tr>\n",
       "    <tr>\n",
       "      <th>year</th>\n",
       "      <th></th>\n",
       "      <th></th>\n",
       "    </tr>\n",
       "  </thead>\n",
       "  <tbody>\n",
       "    <tr>\n",
       "      <th>2010</th>\n",
       "      <td>2.313004e+04</td>\n",
       "      <td>1700.000</td>\n",
       "    </tr>\n",
       "    <tr>\n",
       "      <th>2011</th>\n",
       "      <td>1.293832e+05</td>\n",
       "      <td>3000.000</td>\n",
       "    </tr>\n",
       "    <tr>\n",
       "      <th>2012</th>\n",
       "      <td>5.433924e+04</td>\n",
       "      <td>5660.000</td>\n",
       "    </tr>\n",
       "    <tr>\n",
       "      <th>2013</th>\n",
       "      <td>1.619549e+05</td>\n",
       "      <td>3522.500</td>\n",
       "    </tr>\n",
       "    <tr>\n",
       "      <th>2014</th>\n",
       "      <td>2.668442e+07</td>\n",
       "      <td>18160.000</td>\n",
       "    </tr>\n",
       "    <tr>\n",
       "      <th>2015</th>\n",
       "      <td>8.494057e+07</td>\n",
       "      <td>4920933.000</td>\n",
       "    </tr>\n",
       "    <tr>\n",
       "      <th>2016</th>\n",
       "      <td>9.100057e+07</td>\n",
       "      <td>3846679.410</td>\n",
       "    </tr>\n",
       "    <tr>\n",
       "      <th>2017</th>\n",
       "      <td>1.360328e+08</td>\n",
       "      <td>9968340.000</td>\n",
       "    </tr>\n",
       "    <tr>\n",
       "      <th>2018</th>\n",
       "      <td>1.045651e+08</td>\n",
       "      <td>8891102.210</td>\n",
       "    </tr>\n",
       "    <tr>\n",
       "      <th>2019</th>\n",
       "      <td>9.136926e+07</td>\n",
       "      <td>4627798.345</td>\n",
       "    </tr>\n",
       "  </tbody>\n",
       "</table>\n",
       "</div>"
      ],
      "text/plain": [
       "              mean       median\n",
       "year                           \n",
       "2010  2.313004e+04     1700.000\n",
       "2011  1.293832e+05     3000.000\n",
       "2012  5.433924e+04     5660.000\n",
       "2013  1.619549e+05     3522.500\n",
       "2014  2.668442e+07    18160.000\n",
       "2015  8.494057e+07  4920933.000\n",
       "2016  9.100057e+07  3846679.410\n",
       "2017  1.360328e+08  9968340.000\n",
       "2018  1.045651e+08  8891102.210\n",
       "2019  9.136926e+07  4627798.345"
      ]
     },
     "execution_count": 80,
     "metadata": {},
     "output_type": "execute_result"
    }
   ],
   "source": [
    "# Сводная таблица с медианной и средней суммой для каждого года\n",
    "(\n",
    "    df.pivot_table(\n",
    "        index='year', \n",
    "        values='box_office', \n",
    "        aggfunc=['mean', 'median']\n",
    "    ).droplevel(\n",
    "        level=1, \n",
    "        axis=1\n",
    "    )\n",
    ")"
   ]
  },
  {
   "cell_type": "markdown",
   "metadata": {},
   "source": [
    "##### Вывод:\n",
    "Средняя и медианная сумма с 2010 по 2013 год отличается на 2-3 порядка от сумм с 2014 по 2019 годы. <br>\n",
    "Большая разница между средним и медианным значением может быть связана с тем что, есть фильмы, которые получили огромные сборы и били все рекорды, это могло повлиять на высокое среднее."
   ]
  },
  {
   "cell_type": "markdown",
   "metadata": {},
   "source": [
    "#### Возрастное ограничение аудитории"
   ]
  },
  {
   "cell_type": "markdown",
   "metadata": {
    "id": "Ok89WFwJgFyZ"
   },
   "source": [
    "- Определите, влияет ли возрастное ограничение аудитории («6+», «12+», «16+», «18+» и т. д.) на сборы фильма в прокате в период с 2015 по 2019 год? Фильмы с каким возрастным ограничением собрали больше всего денег в прокате? Меняется ли картина в зависимости от года? Если да, предположите, с чем это может быть связано."
   ]
  },
  {
   "cell_type": "code",
   "execution_count": 81,
   "metadata": {
    "id": "jmp-rgg9gFyY"
   },
   "outputs": [
    {
     "data": {
      "image/png": "[encoded data removed]",
      "text/plain": [
       "<Figure size 1080x1080 with 1 Axes>"
      ]
     },
     "metadata": {
      "needs_background": "light"
     },
     "output_type": "display_data"
    }
   ],
   "source": [
    "# Создание свдной таблицы с 2015 по 2019 годы по среднему значению сборов для возрастных групп\n",
    "# И простроение гистограммы по данным сводной таблицы\n",
    "(\n",
    "    df.query(\n",
    "        '2015 <= year <= 2019'\n",
    "    ).pivot_table(\n",
    "        index=['year'], \n",
    "    columns='age_restriction', \n",
    "        values='box_office', \n",
    "        aggfunc=['mean']\n",
    "    ).plot(\n",
    "        kind='bar', \n",
    "        grid=True, \n",
    "        figsize=(15,15))\n",
    ")\n",
    "plt.title('Cредняя сумма сборов по возрастным ограничениям в год')\n",
    "None"
   ]
  },
  {
   "cell_type": "code",
   "execution_count": 82,
   "metadata": {},
   "outputs": [
    {
     "data": {
      "image/png": "[encoded data removed]",
      "text/plain": [
       "<Figure size 1080x1080 with 1 Axes>"
      ]
     },
     "metadata": {
      "needs_background": "light"
     },
     "output_type": "display_data"
    }
   ],
   "source": [
    "# Создание свдной таблицы с 2015 по 2019 годы по среднему значению сборов для возрастных групп\n",
    "# И простроение гистограммы по данным сводной таблицы\n",
    "(\n",
    "    df.query(\n",
    "        '2015 <= year <= 2019'\n",
    "    ).pivot_table(\n",
    "        index=['year'], \n",
    "    columns='age_restriction', \n",
    "        values='box_office', \n",
    "        aggfunc='sum'\n",
    "    ).plot(\n",
    "        kind='bar', \n",
    "        grid=True, \n",
    "        figsize=(15,15))\n",
    ")\n",
    "plt.title('Cредняя сумма сборов по возрастным ограничениям в год')\n",
    "None"
   ]
  },
  {
   "cell_type": "markdown",
   "metadata": {},
   "source": [
    "##### Вывод:\n",
    "В 2017 году доля прокатынх фильмов была самой большой, а фильмы с возрастным ограничением «6+» заработали больше денег чем обычно.<br>\n",
    "В среднем больше всего сборов в прокате получают фильмы с возрастным ограничением «6+» и «12+».<br>\n",
    "Наибольшие суммарные сборы с 2016 по 2018 в категории \"16+\", а в 2019 снизились и стали одинаковыми с категориями \"6+\" и \"12+\"."
   ]
  },
  {
   "cell_type": "markdown",
   "metadata": {},
   "source": [
    "#### Самый популярный жанр и режиссёр"
   ]
  },
  {
   "cell_type": "code",
   "execution_count": 83,
   "metadata": {},
   "outputs": [
    {
     "data": {
      "text/html": [
       "<div>\n",
       "<style scoped>\n",
       "    .dataframe tbody tr th:only-of-type {\n",
       "        vertical-align: middle;\n",
       "    }\n",
       "\n",
       "    .dataframe tbody tr th {\n",
       "        vertical-align: top;\n",
       "    }\n",
       "\n",
       "    .dataframe thead th {\n",
       "        text-align: right;\n",
       "    }\n",
       "</style>\n",
       "<table border=\"1\" class=\"dataframe\">\n",
       "  <thead>\n",
       "    <tr style=\"text-align: right;\">\n",
       "      <th></th>\n",
       "      <th>count</th>\n",
       "      <th>mean</th>\n",
       "    </tr>\n",
       "    <tr>\n",
       "      <th>main_genre</th>\n",
       "      <th></th>\n",
       "      <th></th>\n",
       "    </tr>\n",
       "  </thead>\n",
       "  <tbody>\n",
       "    <tr>\n",
       "      <th>драма</th>\n",
       "      <td>1688</td>\n",
       "      <td>6.767239</td>\n",
       "    </tr>\n",
       "    <tr>\n",
       "      <th>боевик</th>\n",
       "      <td>617</td>\n",
       "      <td>6.508914</td>\n",
       "    </tr>\n",
       "    <tr>\n",
       "      <th>триллер</th>\n",
       "      <td>521</td>\n",
       "      <td>6.589635</td>\n",
       "    </tr>\n",
       "    <tr>\n",
       "      <th>фантастика</th>\n",
       "      <td>410</td>\n",
       "      <td>6.643171</td>\n",
       "    </tr>\n",
       "    <tr>\n",
       "      <th>мелодрама</th>\n",
       "      <td>383</td>\n",
       "      <td>6.522977</td>\n",
       "    </tr>\n",
       "  </tbody>\n",
       "</table>\n",
       "</div>"
      ],
      "text/plain": [
       "            count      mean\n",
       "main_genre                 \n",
       "драма        1688  6.767239\n",
       "боевик        617  6.508914\n",
       "триллер       521  6.589635\n",
       "фантастика    410  6.643171\n",
       "мелодрама     383  6.522977"
      ]
     },
     "execution_count": 83,
     "metadata": {},
     "output_type": "execute_result"
    }
   ],
   "source": [
    "# Вывод топ-5 самых популярных жанров со срелней оценкой рейтинга выше 6.5\n",
    "(\n",
    "    df.pivot_table(\n",
    "        index='main_genre', \n",
    "        values='ratings', \n",
    "        aggfunc=['count','mean']\n",
    "    ).droplevel(\n",
    "        level=1, \n",
    "        axis=1\n",
    "    ).query(\n",
    "        'mean > 6.5'\n",
    "    ).sort_values(\n",
    "        'count', \n",
    "        ascending=False\n",
    "    ).head()\n",
    ")"
   ]
  },
  {
   "cell_type": "code",
   "execution_count": 84,
   "metadata": {},
   "outputs": [
    {
     "data": {
      "text/html": [
       "<div>\n",
       "<style scoped>\n",
       "    .dataframe tbody tr th:only-of-type {\n",
       "        vertical-align: middle;\n",
       "    }\n",
       "\n",
       "    .dataframe tbody tr th {\n",
       "        vertical-align: top;\n",
       "    }\n",
       "\n",
       "    .dataframe thead th {\n",
       "        text-align: right;\n",
       "    }\n",
       "</style>\n",
       "<table border=\"1\" class=\"dataframe\">\n",
       "  <thead>\n",
       "    <tr style=\"text-align: right;\">\n",
       "      <th></th>\n",
       "      <th>mean</th>\n",
       "      <th>count</th>\n",
       "    </tr>\n",
       "    <tr>\n",
       "      <th>main_director</th>\n",
       "      <th></th>\n",
       "      <th></th>\n",
       "    </tr>\n",
       "  </thead>\n",
       "  <tbody>\n",
       "    <tr>\n",
       "      <th>Питер Джексон</th>\n",
       "      <td>8.069231</td>\n",
       "      <td>13</td>\n",
       "    </tr>\n",
       "    <tr>\n",
       "      <th>Дэвид Финчер</th>\n",
       "      <td>7.908333</td>\n",
       "      <td>12</td>\n",
       "    </tr>\n",
       "    <tr>\n",
       "      <th>Гай Ричи</th>\n",
       "      <td>7.909091</td>\n",
       "      <td>11</td>\n",
       "    </tr>\n",
       "    <tr>\n",
       "      <th>Кристофер Нолан</th>\n",
       "      <td>8.327273</td>\n",
       "      <td>11</td>\n",
       "    </tr>\n",
       "    <tr>\n",
       "      <th>Мартин Скорсезе</th>\n",
       "      <td>7.837500</td>\n",
       "      <td>8</td>\n",
       "    </tr>\n",
       "  </tbody>\n",
       "</table>\n",
       "</div>"
      ],
      "text/plain": [
       "                     mean  count\n",
       "main_director                   \n",
       "Питер Джексон    8.069231     13\n",
       "Дэвид Финчер     7.908333     12\n",
       "Гай Ричи         7.909091     11\n",
       "Кристофер Нолан  8.327273     11\n",
       "Мартин Скорсезе  7.837500      8"
      ]
     },
     "execution_count": 84,
     "metadata": {},
     "output_type": "execute_result"
    }
   ],
   "source": [
    "# Вывод топ-5 самых популярных режиссера со срелней оценкой рейтинга выше 7.8\n",
    "(\n",
    "    df.pivot_table(\n",
    "        index='main_director', \n",
    "        values='ratings', \n",
    "        aggfunc=['mean', 'count']\n",
    "    ).droplevel(\n",
    "        level=1, \n",
    "        axis=1\n",
    "    ).query(\n",
    "        'mean > 7.8'\n",
    "    ).sort_values(\n",
    "        'count', \n",
    "        ascending=False\n",
    "    ).head()\n",
    ")"
   ]
  },
  {
   "cell_type": "markdown",
   "metadata": {},
   "source": [
    "##### Вывод:\n",
    "Самые популярные жанры:\n",
    "1. драма\n",
    "2. боевик\n",
    "3. триллер\n",
    "4. фантастика\n",
    "5. мелодрама <br>\n",
    "\n",
    "Самые популярные режиссёры\n",
    "1. Питер Джексон\n",
    "2. Дэвид Финчер\n",
    "3. Гай Ричи\n",
    "4. Кристофер Нолан\t\n",
    "5. Мартин Скорсезе\t"
   ]
  },
  {
   "cell_type": "markdown",
   "metadata": {
    "id": "l_Kg6Ku4gFya"
   },
   "source": [
    "### Шаг 4. Исследуйте фильмы, которые получили государственную поддержку\n",
    "\n",
    "На этом этапе нет конкретных инструкций и заданий — поищите интересные закономерности в данных. Посмотрите, сколько выделяют средств на поддержку кино. Проверьте, хорошо ли окупаются такие фильмы, какой у них рейтинг."
   ]
  },
  {
   "cell_type": "markdown",
   "metadata": {},
   "source": [
    "#### Сумма государственного финансирования "
   ]
  },
  {
   "cell_type": "code",
   "execution_count": 85,
   "metadata": {
    "id": "W9QKpjUdgFyb"
   },
   "outputs": [
    {
     "data": {
      "image/png": "[encoded data removed]",
      "text/plain": [
       "<Figure size 1080x1080 with 1 Axes>"
      ]
     },
     "metadata": {
      "needs_background": "light"
     },
     "output_type": "display_data"
    }
   ],
   "source": [
    "# Построение гистограммы общих средств выделяемых на финанасирование \n",
    "(\n",
    "    df[~df['budget'].isna()]['refundable_support'] + \n",
    "    df[~df['budget'].isna()]['nonrefundable_support']\n",
    ").hist(\n",
    "    bins=10,\n",
    "    figsize=(15,15)\n",
    ")\n",
    "\n",
    "plt.title('Cумма средств на поддержку кино')\n",
    "None"
   ]
  },
  {
   "cell_type": "code",
   "execution_count": 86,
   "metadata": {},
   "outputs": [],
   "source": [
    "# Добавим столбец в который добавим общий бюджет\n",
    "df['all_support'] = df['refundable_support'] + df['nonrefundable_support']"
   ]
  },
  {
   "cell_type": "code",
   "execution_count": 87,
   "metadata": {},
   "outputs": [
    {
     "data": {
      "image/png": "[encoded data removed]",
      "text/plain": [
       "<Figure size 1080x1080 with 1 Axes>"
      ]
     },
     "metadata": {
      "needs_background": "light"
     },
     "output_type": "display_data"
    }
   ],
   "source": [
    "# Построение графика суммы выделяемых средств на поддержку кино по годам\n",
    "(\n",
    "    df.groupby(\n",
    "        'year'\n",
    "    ).agg\n",
    "    ({'all_support':'sum'})\n",
    "    .plot\n",
    "    (kind='bar',\n",
    "     grid=True,\n",
    "    figsize=(15,15))\n",
    ")\n",
    "\n",
    "plt.title('Сумма средств на поддержку кино по годам')\n",
    "None"
   ]
  },
  {
   "cell_type": "markdown",
   "metadata": {},
   "source": [
    "##### Вывод:\n",
    "Большаяя часть выделяемых средств государственной поддержки составляет менее 10 миллионов рублей.<br>\n",
    "До 2014 года средства на поддержку кино практически не выделялись. В 2015 произошол резкий скачок.<br>\n",
    "С 2015 года до 2018 года сумма средств на поддержку кино плавно уменшалась, а в 2019 году выросла в почти два раза по отношению к 2018 году."
   ]
  },
  {
   "cell_type": "markdown",
   "metadata": {},
   "source": [
    "#### Окупаемость фильмов с государственной поддержкой"
   ]
  },
  {
   "cell_type": "code",
   "execution_count": 88,
   "metadata": {},
   "outputs": [],
   "source": [
    "# Создание столбца окупаемость фильмов с государственной поддержкой в датафрейме\n",
    "df['payback'] = df['box_office'] - df['budget']"
   ]
  },
  {
   "cell_type": "code",
   "execution_count": 89,
   "metadata": {},
   "outputs": [
    {
     "data": {
      "image/png": "[encoded data removed]",
      "text/plain": [
       "<Figure size 1080x1080 with 1 Axes>"
      ]
     },
     "metadata": {
      "needs_background": "light"
     },
     "output_type": "display_data"
    }
   ],
   "source": [
    "# Гистограмма окупаемости фиьлмов с гос. поддержкой\n",
    "df.payback.hist(figsize=(15,15))\n",
    "plt.title('Окупаемость фильмов с государственной поддержкой')\n",
    "None"
   ]
  },
  {
   "cell_type": "code",
   "execution_count": 90,
   "metadata": {},
   "outputs": [
    {
     "data": {
      "text/plain": [
       "'Доля неокупившихся фильмов с государственной поддержкой составляет: 78.1%'"
      ]
     },
     "execution_count": 90,
     "metadata": {},
     "output_type": "execute_result"
    }
   ],
   "source": [
    "# Расчет какую долю составляют неокупившихся фильмы с государственной поддержкой \n",
    "'Доля неокупившихся фильмов с государственной поддержкой составляет: {:.1%}'. format(\n",
    "    (sum(df[~df['payback'].isna()].payback < 0) /  len(df[~df['payback'].isna()].payback)))"
   ]
  },
  {
   "cell_type": "markdown",
   "metadata": {},
   "source": [
    "##### Вывод:\n",
    "Большая чать фильмов на которые выдялялась государственная поддержка не окупились. <br>\n",
    "Доля неокупившихся фильмов с государственной поддержкой составляет: 74%"
   ]
  },
  {
   "cell_type": "markdown",
   "metadata": {},
   "source": [
    "####  Рейтинг фильмов с государственной поддержкой"
   ]
  },
  {
   "cell_type": "code",
   "execution_count": 91,
   "metadata": {},
   "outputs": [
    {
     "data": {
      "image/png": "[encoded data removed]",
      "text/plain": [
       "<Figure size 1080x1080 with 1 Axes>"
      ]
     },
     "metadata": {
      "needs_background": "light"
     },
     "output_type": "display_data"
    }
   ],
   "source": [
    "# Построение гистограммы рейтинка фильмов с государственной поддержкой\n",
    "df[df.payback.isna()].ratings.hist(bins=25, figsize=(15,15))\n",
    "plt.title('Рейтинг фильмов с государственной поддержкой')\n",
    "None"
   ]
  },
  {
   "cell_type": "code",
   "execution_count": 92,
   "metadata": {},
   "outputs": [
    {
     "data": {
      "image/png": "[encoded data removed]",
      "text/plain": [
       "<Figure size 1080x1080 with 1 Axes>"
      ]
     },
     "metadata": {
      "needs_background": "light"
     },
     "output_type": "display_data"
    }
   ],
   "source": [
    "# Построение гистограммы рейтинка фильмов с без государственной поддержки\n",
    "df[~df.payback.isna()].ratings.hist(bins=25, figsize=(15,15))\n",
    "plt.title('Рейтинг фильмов без государственной поддержки')\n",
    "None"
   ]
  },
  {
   "cell_type": "code",
   "execution_count": 93,
   "metadata": {},
   "outputs": [
    {
     "data": {
      "text/html": [
       "<div>\n",
       "<style scoped>\n",
       "    .dataframe tbody tr th:only-of-type {\n",
       "        vertical-align: middle;\n",
       "    }\n",
       "\n",
       "    .dataframe tbody tr th {\n",
       "        vertical-align: top;\n",
       "    }\n",
       "\n",
       "    .dataframe thead th {\n",
       "        text-align: right;\n",
       "    }\n",
       "</style>\n",
       "<table border=\"1\" class=\"dataframe\">\n",
       "  <thead>\n",
       "    <tr style=\"text-align: right;\">\n",
       "      <th></th>\n",
       "      <th>без поддержки</th>\n",
       "      <th>с поддержкой</th>\n",
       "    </tr>\n",
       "  </thead>\n",
       "  <tbody>\n",
       "    <tr>\n",
       "      <th>mean</th>\n",
       "      <td>6.508907</td>\n",
       "      <td>6.036934</td>\n",
       "    </tr>\n",
       "    <tr>\n",
       "      <th>median</th>\n",
       "      <td>6.600000</td>\n",
       "      <td>6.200000</td>\n",
       "    </tr>\n",
       "  </tbody>\n",
       "</table>\n",
       "</div>"
      ],
      "text/plain": [
       "        без поддержки  с поддержкой\n",
       "mean         6.508907      6.036934\n",
       "median       6.600000      6.200000"
      ]
     },
     "execution_count": 93,
     "metadata": {},
     "output_type": "execute_result"
    }
   ],
   "source": [
    "# Создание датафрейма показывающего среднее и медианное значение для фильма с гос. поддержкой и без нее\n",
    "rating_df = pd.DataFrame(\n",
    "    [\n",
    "        df[df.payback.isna()\n",
    "          ].ratings\n",
    "        .agg(\n",
    "            ['mean', \n",
    "             'median']\n",
    "        ),\n",
    "        df[~df.payback.isna()\n",
    "          ].ratings\n",
    "        .agg(\n",
    "            ['mean', \n",
    "             'median']\n",
    "        )\n",
    "    ]\n",
    ").T\n",
    "\n",
    "rating_df.columns = ['без поддержки', 'с поддержкой']\n",
    "rating_df"
   ]
  },
  {
   "cell_type": "markdown",
   "metadata": {},
   "source": [
    "##### Вывод:\n",
    "Средняя оценка рейтинга фильмов с государственной поддержкой варьируется от 5 до 7.\n",
    "Среднее и медианное значение рейтинка у фильмов с государственным финансированием на 0.5 балла ниже чем у фильмов без поддержки от государства."
   ]
  },
  {
   "cell_type": "markdown",
   "metadata": {
    "id": "V2gYwMcPgFyd"
   },
   "source": [
    "### Шаг 5. Напишите общий вывод"
   ]
  },
  {
   "cell_type": "markdown",
   "metadata": {},
   "source": [
    "Целью исследавания было:\n",
    "1. Изучить рынкок российского кинопроката и выявить текущие тренды.\n",
    "2. Изучить насколько фильмы, которые получили государственную поддержку интересны зрителю.\n",
    "\n",
    "Исследование было проведено в три этапа:\n",
    "1. Обзор данных:\n",
    "    1. При первоначальном рассмотрении данных было обнаружено большое количество пропусков. \n",
    "    2. Не все названия столбцов приведены к единому виду.\n",
    "    3. Есть столбцы с неправильным типом данных.\n",
    "\n",
    "\n",
    "2. Предобработка данных:\n",
    "    1. Данные в столбцах `Режиссёр`, `Продюсер`, `Жанр фильма` были зополнены знначениями `unknown`, оставниеся столбцы с пропусками были оставлены без изменения, чтобы не искажать результаты исследования.\n",
    "    2. Данные были проверены на наличие дубликатов.\n",
    "    3. Были изучены категориальные значения и в столбцах `Тип фильма`, `Страна-производитель` и `Режиссер` были обнаружены данные у которых появился пробел в начале строки. Данные были приведены к единому виду.\n",
    "    4. Были изучены количественные значения и была обнаруженна аномалия в значениях столбца `Общий бюджет фильма`. Фильмы на которые выделялось государственное финансирование имели бюджет равный 0. Чтобы эти данные не повлияли на результаты исследования они были заменены на пропуски.\n",
    "    5. К данным были добавлены столбцы с:\n",
    "        1. информацией о годе проката;\n",
    "        2. именем и фамилией главного режиссёра;\n",
    "        3. основным жанром фильма.\n",
    "        \n",
    "        \n",
    "3. Исследовательский анализ данных:\n",
    "    1. Всех фильмов:\n",
    "        1. Доля фильмов с указанной информацией о прокате в кинотеатрах составляют: 42.2%. <br> Возможно остальные фильмы выходили стриминговых площадках. <br> Доля прокатных фильмов плавно росла до 2014 года, в 2015 году выросла практически в 2 раза по сравнению с 2014 годом.<br> Затем также плавно росла до 2017 года. В 2018 произошел небольшой спад, но уже в 2019 продолжился рост.\n",
    "        2. Начиная с 2015 года наблюдается плавных рост сборов. <br> До 2014 года нет данных о кассовых сборах в кинотеатрах, в 2014 году тоже маленькое значение относительно полследующих лет. Возможны 2 варианта:\n",
    "            1. В 2015 году произощел резкий рост сборов.\n",
    "            2. Есть ошибка в данных выгруженных до 2014 года.\n",
    "        3. Средняя и медианная сумма соборов с 2010 по 2013 год отличается на 2-3 порядка от суммы сборов с 2014 по 2019 годы.\n",
    "        4. В 2017 году доля прокатынх фильмов была самой большой, а фильмы с возрастным ограничением «6+» заработали больше денег чем обычно.<br>В среднем больше всего сборов в прокате получают фильмы с возрастным ограничением «6+» и «12+». <br>     \n",
    "    2. Фильмов получивших государственную поддержку:\n",
    "        1. Большаяя часть выделяемых средств государственной поддержки составляет менее 10 миллионов рублей.\n",
    "        2. До 2014 года средства на поддержку кино практически не выделялись. В 2015 произошол резкий скачок.\n",
    "        3. С 2015 года до 2018 года сумма средств на поддержку кино плавно уменшалась, а в 2019 году выросла в почти два раза по отношению к 2018 году.\n",
    "        4. Большая чать фильмов на которые выдялялась государственная поддержка не окупились. <br>Доля неокупившихся фильмов с государственной поддержкой составляет: 74%\n",
    "        5. Средняя оценка рейтинга фильмов с государственной поддержкой варьируется от 5 до 7.\n",
    "        6. Среднее и медианное значение рейтинка у фильмов с государственным финансированием на 0.5 балла ниже чем у фильмов без поддержки от государства.\n",
    "    \n",
    "Отвечая на вопросы цели исследования:\n",
    "1. Текущий тренд - рост общего количества фильмов для российского зрителя. Самые популярные фильмы для возрастных категориий \"6+\" и \"12+\". Можно предположить, что это мультфильмы. которые смотрят всей семьей.<br> \n",
    "    1. Самые популярные жанры:\n",
    "        1. драма\n",
    "        2. боевик\n",
    "        3. триллер\n",
    "        4. фантастика\n",
    "        5. мелодрама <br>\n",
    "    2. Самые популярные режиссёры:\n",
    "        1. Питер Джексон\n",
    "        2. Дэвид Финчер\n",
    "        3. Гай Ричи\n",
    "        4. Кристофер Нолан\t\n",
    "        5. Мартин Скорсезе\t \n",
    "2. Фильмы получающие государственную поддержку в `74%` убыточные. И менее популярны, чем фильны не получающие поддержку."
   ]
  }
 ],
 "metadata": {
  "ExecuteTimeLog": [
   {
    "duration": 537,
    "start_time": "2021-07-07T10:12:08.634Z"
   },
   {
    "duration": 206,
    "start_time": "2021-07-07T10:12:30.191Z"
   },
   {
    "duration": 227,
    "start_time": "2021-07-07T10:12:33.078Z"
   },
   {
    "duration": 153,
    "start_time": "2021-07-07T10:13:42.146Z"
   },
   {
    "duration": 233,
    "start_time": "2021-07-07T10:30:09.252Z"
   },
   {
    "duration": 19,
    "start_time": "2021-07-07T10:30:15.577Z"
   },
   {
    "duration": 18,
    "start_time": "2021-07-07T10:30:57.348Z"
   },
   {
    "duration": 19,
    "start_time": "2021-07-07T10:31:17.452Z"
   },
   {
    "duration": 21,
    "start_time": "2021-07-07T10:31:32.227Z"
   },
   {
    "duration": 27,
    "start_time": "2021-07-07T10:32:06.588Z"
   },
   {
    "duration": 23,
    "start_time": "2021-07-07T10:32:43.645Z"
   },
   {
    "duration": 24,
    "start_time": "2021-07-07T10:33:06.948Z"
   },
   {
    "duration": 7,
    "start_time": "2021-07-07T10:33:28.558Z"
   },
   {
    "duration": 23,
    "start_time": "2021-07-07T10:33:43.761Z"
   },
   {
    "duration": 28,
    "start_time": "2021-07-07T10:34:13.466Z"
   },
   {
    "duration": 23,
    "start_time": "2021-07-07T10:35:56.187Z"
   },
   {
    "duration": 6,
    "start_time": "2021-07-07T10:36:48.182Z"
   },
   {
    "duration": 14,
    "start_time": "2021-07-07T10:37:49.641Z"
   },
   {
    "duration": 6,
    "start_time": "2021-07-07T10:38:06.694Z"
   },
   {
    "duration": 6,
    "start_time": "2021-07-07T10:38:13.493Z"
   },
   {
    "duration": 19,
    "start_time": "2021-07-07T10:38:44.056Z"
   },
   {
    "duration": 186,
    "start_time": "2021-07-07T10:48:35.618Z"
   },
   {
    "duration": 24,
    "start_time": "2021-07-07T10:48:51.498Z"
   },
   {
    "duration": 20,
    "start_time": "2021-07-07T10:48:59.415Z"
   },
   {
    "duration": 20,
    "start_time": "2021-07-07T10:53:02.195Z"
   },
   {
    "duration": 188,
    "start_time": "2021-07-07T10:54:40.486Z"
   },
   {
    "duration": 115,
    "start_time": "2021-07-07T10:54:52.552Z"
   },
   {
    "duration": 214,
    "start_time": "2021-07-07T10:54:56.354Z"
   },
   {
    "duration": 47,
    "start_time": "2021-07-07T10:54:58.282Z"
   },
   {
    "duration": 217,
    "start_time": "2021-07-07T10:59:16.075Z"
   },
   {
    "duration": 51,
    "start_time": "2021-07-07T10:59:16.243Z"
   },
   {
    "duration": 578,
    "start_time": "2021-07-07T10:59:18.774Z"
   },
   {
    "duration": 161,
    "start_time": "2021-07-07T10:59:21.238Z"
   },
   {
    "duration": 59,
    "start_time": "2021-07-07T10:59:21.453Z"
   },
   {
    "duration": 3,
    "start_time": "2021-07-07T11:02:10.786Z"
   },
   {
    "duration": 13,
    "start_time": "2021-07-07T11:07:07.722Z"
   },
   {
    "duration": 26,
    "start_time": "2021-07-07T11:07:17.958Z"
   },
   {
    "duration": 22,
    "start_time": "2021-07-07T11:08:17.939Z"
   },
   {
    "duration": 212,
    "start_time": "2021-07-07T11:08:19.665Z"
   },
   {
    "duration": 21,
    "start_time": "2021-07-07T11:08:29.945Z"
   },
   {
    "duration": 31,
    "start_time": "2021-07-07T11:08:38.899Z"
   },
   {
    "duration": 23,
    "start_time": "2021-07-07T11:08:54.527Z"
   },
   {
    "duration": 8,
    "start_time": "2021-07-07T11:18:55.974Z"
   },
   {
    "duration": 7,
    "start_time": "2021-07-07T11:19:03.639Z"
   },
   {
    "duration": 7,
    "start_time": "2021-07-07T11:19:06.444Z"
   },
   {
    "duration": 578,
    "start_time": "2021-07-07T12:09:59.576Z"
   },
   {
    "duration": 195,
    "start_time": "2021-07-07T12:10:00.156Z"
   },
   {
    "duration": 115,
    "start_time": "2021-07-07T12:10:00.353Z"
   },
   {
    "duration": 3,
    "start_time": "2021-07-07T12:10:00.470Z"
   },
   {
    "duration": 32,
    "start_time": "2021-07-07T12:10:00.474Z"
   },
   {
    "duration": 23,
    "start_time": "2021-07-07T12:10:00.508Z"
   },
   {
    "duration": 19,
    "start_time": "2021-07-07T12:10:00.533Z"
   },
   {
    "duration": 44,
    "start_time": "2021-07-07T12:10:00.553Z"
   },
   {
    "duration": 7,
    "start_time": "2021-07-07T12:10:00.600Z"
   },
   {
    "duration": 7,
    "start_time": "2021-07-07T12:19:45.761Z"
   },
   {
    "duration": 21,
    "start_time": "2021-07-07T12:21:35.482Z"
   },
   {
    "duration": 21,
    "start_time": "2021-07-07T12:29:23.569Z"
   },
   {
    "duration": 525,
    "start_time": "2021-07-07T12:29:44.542Z"
   },
   {
    "duration": 214,
    "start_time": "2021-07-07T12:29:45.069Z"
   },
   {
    "duration": 92,
    "start_time": "2021-07-07T12:29:45.285Z"
   },
   {
    "duration": 3,
    "start_time": "2021-07-07T12:29:45.379Z"
   },
   {
    "duration": 28,
    "start_time": "2021-07-07T12:29:45.384Z"
   },
   {
    "duration": 23,
    "start_time": "2021-07-07T12:29:45.413Z"
   },
   {
    "duration": 21,
    "start_time": "2021-07-07T12:29:45.437Z"
   },
   {
    "duration": 41,
    "start_time": "2021-07-07T12:29:45.460Z"
   },
   {
    "duration": 7,
    "start_time": "2021-07-07T12:29:45.502Z"
   },
   {
    "duration": 20,
    "start_time": "2021-07-07T12:29:45.511Z"
   },
   {
    "duration": 12,
    "start_time": "2021-07-07T12:34:02.800Z"
   },
   {
    "duration": 7,
    "start_time": "2021-07-07T12:35:10.479Z"
   },
   {
    "duration": 8,
    "start_time": "2021-07-07T12:35:22.440Z"
   },
   {
    "duration": 6,
    "start_time": "2021-07-07T12:35:35.649Z"
   },
   {
    "duration": 6,
    "start_time": "2021-07-07T12:35:43.107Z"
   },
   {
    "duration": 22,
    "start_time": "2021-07-07T12:38:03.029Z"
   },
   {
    "duration": 10,
    "start_time": "2021-07-07T12:38:06.592Z"
   },
   {
    "duration": 563,
    "start_time": "2021-07-07T12:38:46.493Z"
   },
   {
    "duration": 265,
    "start_time": "2021-07-07T12:38:47.058Z"
   },
   {
    "duration": 94,
    "start_time": "2021-07-07T12:38:47.325Z"
   },
   {
    "duration": 3,
    "start_time": "2021-07-07T12:38:47.422Z"
   },
   {
    "duration": 30,
    "start_time": "2021-07-07T12:38:47.427Z"
   },
   {
    "duration": 16,
    "start_time": "2021-07-07T12:38:53.305Z"
   },
   {
    "duration": 10,
    "start_time": "2021-07-07T12:38:53.499Z"
   },
   {
    "duration": 8,
    "start_time": "2021-07-07T12:39:48.161Z"
   },
   {
    "duration": 27,
    "start_time": "2021-07-07T12:41:17.629Z"
   },
   {
    "duration": 17,
    "start_time": "2021-07-07T12:41:17.867Z"
   },
   {
    "duration": 21,
    "start_time": "2021-07-07T12:41:19.310Z"
   },
   {
    "duration": 7,
    "start_time": "2021-07-07T12:41:19.544Z"
   },
   {
    "duration": 20,
    "start_time": "2021-07-07T12:41:20.504Z"
   },
   {
    "duration": 554,
    "start_time": "2021-07-07T12:56:23.696Z"
   },
   {
    "duration": 200,
    "start_time": "2021-07-07T12:56:25.234Z"
   },
   {
    "duration": 119,
    "start_time": "2021-07-07T12:56:25.480Z"
   },
   {
    "duration": 4,
    "start_time": "2021-07-07T12:56:25.762Z"
   },
   {
    "duration": 26,
    "start_time": "2021-07-07T12:56:27.172Z"
   },
   {
    "duration": 12,
    "start_time": "2021-07-07T12:56:29.051Z"
   },
   {
    "duration": 10,
    "start_time": "2021-07-07T12:56:29.291Z"
   },
   {
    "duration": 8,
    "start_time": "2021-07-07T12:56:29.623Z"
   },
   {
    "duration": 28,
    "start_time": "2021-07-07T12:56:32.137Z"
   },
   {
    "duration": 19,
    "start_time": "2021-07-07T12:56:39.785Z"
   },
   {
    "duration": 20,
    "start_time": "2021-07-07T12:56:44.297Z"
   },
   {
    "duration": 7,
    "start_time": "2021-07-07T12:56:45.392Z"
   },
   {
    "duration": 23,
    "start_time": "2021-07-07T12:56:46.615Z"
   },
   {
    "duration": 4,
    "start_time": "2021-07-07T12:57:06.625Z"
   },
   {
    "duration": 32,
    "start_time": "2021-07-07T12:57:36.690Z"
   },
   {
    "duration": 18,
    "start_time": "2021-07-07T12:58:00.149Z"
   },
   {
    "duration": 15,
    "start_time": "2021-07-07T12:59:16.793Z"
   },
   {
    "duration": 7,
    "start_time": "2021-07-07T13:19:22.624Z"
   },
   {
    "duration": 6,
    "start_time": "2021-07-07T14:17:33.527Z"
   },
   {
    "duration": 9,
    "start_time": "2021-07-07T14:17:48.409Z"
   },
   {
    "duration": 8,
    "start_time": "2021-07-07T14:20:13.060Z"
   },
   {
    "duration": 8,
    "start_time": "2021-07-07T14:20:37.957Z"
   },
   {
    "duration": 8,
    "start_time": "2021-07-07T14:20:47.470Z"
   },
   {
    "duration": 9,
    "start_time": "2021-07-07T14:20:54.503Z"
   },
   {
    "duration": 10,
    "start_time": "2021-07-07T14:28:57.763Z"
   },
   {
    "duration": 3,
    "start_time": "2021-07-07T14:30:23.377Z"
   },
   {
    "duration": 3,
    "start_time": "2021-07-07T14:30:36.489Z"
   },
   {
    "duration": 103,
    "start_time": "2021-07-07T14:30:52.351Z"
   },
   {
    "duration": 8,
    "start_time": "2021-07-07T14:30:54.763Z"
   },
   {
    "duration": 8,
    "start_time": "2021-07-07T14:31:29.301Z"
   },
   {
    "duration": 13,
    "start_time": "2021-07-07T14:31:44.516Z"
   },
   {
    "duration": 7,
    "start_time": "2021-07-07T14:33:10.972Z"
   },
   {
    "duration": 11,
    "start_time": "2021-07-07T14:33:27.780Z"
   },
   {
    "duration": 8,
    "start_time": "2021-07-07T14:34:44.588Z"
   },
   {
    "duration": 57,
    "start_time": "2021-07-07T14:35:59.042Z"
   },
   {
    "duration": 3,
    "start_time": "2021-07-07T14:36:28.168Z"
   },
   {
    "duration": 5,
    "start_time": "2021-07-07T14:36:46.254Z"
   },
   {
    "duration": 4,
    "start_time": "2021-07-07T14:36:52.714Z"
   },
   {
    "duration": 3,
    "start_time": "2021-07-07T14:36:56.612Z"
   },
   {
    "duration": 4,
    "start_time": "2021-07-07T14:36:57.049Z"
   },
   {
    "duration": 3,
    "start_time": "2021-07-07T14:39:21.214Z"
   },
   {
    "duration": 7,
    "start_time": "2021-07-07T14:39:52.406Z"
   },
   {
    "duration": 11,
    "start_time": "2021-07-07T14:39:58.576Z"
   },
   {
    "duration": 9,
    "start_time": "2021-07-07T14:40:26.301Z"
   },
   {
    "duration": 10,
    "start_time": "2021-07-07T14:40:31.704Z"
   },
   {
    "duration": 11,
    "start_time": "2021-07-07T14:40:36.249Z"
   },
   {
    "duration": 10,
    "start_time": "2021-07-07T14:40:39.783Z"
   },
   {
    "duration": 9,
    "start_time": "2021-07-07T14:40:48.558Z"
   },
   {
    "duration": 10,
    "start_time": "2021-07-07T14:40:57.143Z"
   },
   {
    "duration": 9,
    "start_time": "2021-07-07T14:41:06.074Z"
   },
   {
    "duration": 4324,
    "start_time": "2021-07-07T14:41:22.004Z"
   },
   {
    "duration": 11,
    "start_time": "2021-07-07T14:41:33.392Z"
   },
   {
    "duration": 9,
    "start_time": "2021-07-07T14:41:39.288Z"
   },
   {
    "duration": 569,
    "start_time": "2021-07-07T14:42:14.387Z"
   },
   {
    "duration": 197,
    "start_time": "2021-07-07T14:42:14.959Z"
   },
   {
    "duration": 84,
    "start_time": "2021-07-07T14:42:16.052Z"
   },
   {
    "duration": 4,
    "start_time": "2021-07-07T14:42:16.900Z"
   },
   {
    "duration": 27,
    "start_time": "2021-07-07T14:42:19.898Z"
   },
   {
    "duration": 12,
    "start_time": "2021-07-07T14:42:21.577Z"
   },
   {
    "duration": 9,
    "start_time": "2021-07-07T14:42:21.813Z"
   },
   {
    "duration": 9,
    "start_time": "2021-07-07T14:42:22.569Z"
   },
   {
    "duration": 29,
    "start_time": "2021-07-07T14:42:25.837Z"
   },
   {
    "duration": 20,
    "start_time": "2021-07-07T14:42:27.003Z"
   },
   {
    "duration": 21,
    "start_time": "2021-07-07T14:42:28.767Z"
   },
   {
    "duration": 7,
    "start_time": "2021-07-07T14:42:29.838Z"
   },
   {
    "duration": 4,
    "start_time": "2021-07-07T14:43:25.493Z"
   },
   {
    "duration": 7,
    "start_time": "2021-07-07T14:43:26.573Z"
   },
   {
    "duration": 10,
    "start_time": "2021-07-07T14:43:31.639Z"
   },
   {
    "duration": 9,
    "start_time": "2021-07-07T14:43:32.046Z"
   },
   {
    "duration": 10,
    "start_time": "2021-07-07T14:43:33.301Z"
   },
   {
    "duration": 12,
    "start_time": "2021-07-07T14:43:33.658Z"
   },
   {
    "duration": 8,
    "start_time": "2021-07-07T14:43:34.552Z"
   },
   {
    "duration": 9,
    "start_time": "2021-07-07T14:43:35.058Z"
   },
   {
    "duration": 12,
    "start_time": "2021-07-07T14:43:35.914Z"
   },
   {
    "duration": 17,
    "start_time": "2021-07-07T14:45:34.368Z"
   },
   {
    "duration": 512,
    "start_time": "2021-07-07T14:51:58.236Z"
   },
   {
    "duration": 223,
    "start_time": "2021-07-07T14:51:58.750Z"
   },
   {
    "duration": 93,
    "start_time": "2021-07-07T14:51:58.977Z"
   },
   {
    "duration": 4,
    "start_time": "2021-07-07T14:51:59.071Z"
   },
   {
    "duration": 37,
    "start_time": "2021-07-07T14:51:59.077Z"
   },
   {
    "duration": 18,
    "start_time": "2021-07-07T14:51:59.116Z"
   },
   {
    "duration": 10,
    "start_time": "2021-07-07T14:51:59.137Z"
   },
   {
    "duration": 8,
    "start_time": "2021-07-07T14:51:59.149Z"
   },
   {
    "duration": 54,
    "start_time": "2021-07-07T14:51:59.158Z"
   },
   {
    "duration": 18,
    "start_time": "2021-07-07T14:51:59.213Z"
   },
   {
    "duration": 22,
    "start_time": "2021-07-07T14:51:59.232Z"
   },
   {
    "duration": 36,
    "start_time": "2021-07-07T14:51:59.255Z"
   },
   {
    "duration": 7,
    "start_time": "2021-07-07T14:51:59.293Z"
   },
   {
    "duration": 10,
    "start_time": "2021-07-07T14:51:59.302Z"
   },
   {
    "duration": 9,
    "start_time": "2021-07-07T14:51:59.313Z"
   },
   {
    "duration": 11,
    "start_time": "2021-07-07T14:51:59.324Z"
   },
   {
    "duration": 8,
    "start_time": "2021-07-07T14:51:59.337Z"
   },
   {
    "duration": 46,
    "start_time": "2021-07-07T14:51:59.347Z"
   },
   {
    "duration": 22,
    "start_time": "2021-07-07T14:51:59.395Z"
   },
   {
    "duration": 24,
    "start_time": "2021-07-07T14:57:32.911Z"
   },
   {
    "duration": 7,
    "start_time": "2021-07-07T14:58:22.070Z"
   },
   {
    "duration": 4,
    "start_time": "2021-07-07T14:59:11.239Z"
   },
   {
    "duration": 25,
    "start_time": "2021-07-07T15:07:22.208Z"
   },
   {
    "duration": 16,
    "start_time": "2021-07-07T15:08:25.560Z"
   },
   {
    "duration": 15,
    "start_time": "2021-07-07T15:08:40.647Z"
   },
   {
    "duration": 14,
    "start_time": "2021-07-07T15:08:46.669Z"
   },
   {
    "duration": 533,
    "start_time": "2021-07-07T15:18:07.440Z"
   },
   {
    "duration": 173,
    "start_time": "2021-07-07T15:18:07.974Z"
   },
   {
    "duration": 84,
    "start_time": "2021-07-07T15:18:08.149Z"
   },
   {
    "duration": 3,
    "start_time": "2021-07-07T15:18:08.235Z"
   },
   {
    "duration": 30,
    "start_time": "2021-07-07T15:18:08.240Z"
   },
   {
    "duration": 22,
    "start_time": "2021-07-07T15:18:08.272Z"
   },
   {
    "duration": 11,
    "start_time": "2021-07-07T15:18:08.295Z"
   },
   {
    "duration": 11,
    "start_time": "2021-07-07T15:18:08.309Z"
   },
   {
    "duration": 40,
    "start_time": "2021-07-07T15:18:08.322Z"
   },
   {
    "duration": 42,
    "start_time": "2021-07-07T15:18:08.364Z"
   },
   {
    "duration": 22,
    "start_time": "2021-07-07T15:18:08.408Z"
   },
   {
    "duration": 5,
    "start_time": "2021-07-07T15:18:08.432Z"
   },
   {
    "duration": 13,
    "start_time": "2021-07-07T15:18:08.439Z"
   },
   {
    "duration": 9,
    "start_time": "2021-07-07T15:18:08.454Z"
   },
   {
    "duration": 32,
    "start_time": "2021-07-07T15:18:08.465Z"
   },
   {
    "duration": 10,
    "start_time": "2021-07-07T15:18:08.501Z"
   },
   {
    "duration": 7,
    "start_time": "2021-07-07T15:18:08.513Z"
   },
   {
    "duration": 11,
    "start_time": "2021-07-07T15:18:08.521Z"
   },
   {
    "duration": 17,
    "start_time": "2021-07-07T15:18:08.534Z"
   },
   {
    "duration": 44,
    "start_time": "2021-07-07T15:18:08.553Z"
   },
   {
    "duration": 22,
    "start_time": "2021-07-07T15:18:08.599Z"
   },
   {
    "duration": 61,
    "start_time": "2021-07-07T15:18:08.622Z"
   },
   {
    "duration": 7,
    "start_time": "2021-07-07T15:18:39.457Z"
   },
   {
    "duration": 5,
    "start_time": "2021-07-07T16:05:17.020Z"
   },
   {
    "duration": 5,
    "start_time": "2021-07-07T16:51:28.794Z"
   },
   {
    "duration": 546,
    "start_time": "2021-07-07T16:52:26.306Z"
   },
   {
    "duration": 203,
    "start_time": "2021-07-07T16:52:27.523Z"
   },
   {
    "duration": 85,
    "start_time": "2021-07-07T16:52:27.736Z"
   },
   {
    "duration": 4,
    "start_time": "2021-07-07T16:52:27.899Z"
   },
   {
    "duration": 25,
    "start_time": "2021-07-07T16:52:28.674Z"
   },
   {
    "duration": 8,
    "start_time": "2021-07-07T16:52:32.956Z"
   },
   {
    "duration": 18,
    "start_time": "2021-07-07T16:52:35.616Z"
   },
   {
    "duration": 6,
    "start_time": "2021-07-07T16:52:36.913Z"
   },
   {
    "duration": 11,
    "start_time": "2021-07-07T16:52:40.258Z"
   },
   {
    "duration": 10,
    "start_time": "2021-07-07T16:52:46.251Z"
   },
   {
    "duration": 8,
    "start_time": "2021-07-07T16:52:47.182Z"
   },
   {
    "duration": 27,
    "start_time": "2021-07-07T16:53:20.391Z"
   },
   {
    "duration": 20,
    "start_time": "2021-07-07T16:53:22.022Z"
   },
   {
    "duration": 23,
    "start_time": "2021-07-07T16:53:23.690Z"
   },
   {
    "duration": 8,
    "start_time": "2021-07-07T16:53:24.261Z"
   },
   {
    "duration": 4,
    "start_time": "2021-07-07T16:53:38.733Z"
   },
   {
    "duration": 7,
    "start_time": "2021-07-07T16:53:40.445Z"
   },
   {
    "duration": 11,
    "start_time": "2021-07-07T16:53:41.348Z"
   },
   {
    "duration": 13,
    "start_time": "2021-07-07T16:53:45.250Z"
   },
   {
    "duration": 12,
    "start_time": "2021-07-07T16:53:45.467Z"
   },
   {
    "duration": 4,
    "start_time": "2021-07-07T16:55:32.704Z"
   },
   {
    "duration": 12,
    "start_time": "2021-07-07T16:55:49.012Z"
   },
   {
    "duration": 18,
    "start_time": "2021-07-07T16:55:49.547Z"
   },
   {
    "duration": 611,
    "start_time": "2021-07-07T16:58:35.156Z"
   },
   {
    "duration": 200,
    "start_time": "2021-07-07T16:58:35.770Z"
   },
   {
    "duration": 86,
    "start_time": "2021-07-07T16:58:35.972Z"
   },
   {
    "duration": 3,
    "start_time": "2021-07-07T16:58:36.060Z"
   },
   {
    "duration": 27,
    "start_time": "2021-07-07T16:58:36.065Z"
   },
   {
    "duration": 8,
    "start_time": "2021-07-07T16:58:36.094Z"
   },
   {
    "duration": 17,
    "start_time": "2021-07-07T16:58:36.103Z"
   },
   {
    "duration": 5,
    "start_time": "2021-07-07T16:58:36.123Z"
   },
   {
    "duration": 11,
    "start_time": "2021-07-07T16:58:36.130Z"
   },
   {
    "duration": 7,
    "start_time": "2021-07-07T16:58:36.143Z"
   },
   {
    "duration": 37,
    "start_time": "2021-07-07T16:58:36.152Z"
   },
   {
    "duration": 27,
    "start_time": "2021-07-07T16:58:36.191Z"
   },
   {
    "duration": 19,
    "start_time": "2021-07-07T16:58:36.219Z"
   },
   {
    "duration": 49,
    "start_time": "2021-07-07T16:58:36.240Z"
   },
   {
    "duration": 6,
    "start_time": "2021-07-07T16:58:36.291Z"
   },
   {
    "duration": 3,
    "start_time": "2021-07-07T16:58:36.299Z"
   },
   {
    "duration": 13,
    "start_time": "2021-07-07T16:58:36.304Z"
   },
   {
    "duration": 10,
    "start_time": "2021-07-07T16:58:36.319Z"
   },
   {
    "duration": 10,
    "start_time": "2021-07-07T16:58:36.331Z"
   },
   {
    "duration": 44,
    "start_time": "2021-07-07T16:58:36.343Z"
   },
   {
    "duration": 4,
    "start_time": "2021-07-07T16:58:36.388Z"
   },
   {
    "duration": 13,
    "start_time": "2021-07-07T16:58:36.394Z"
   },
   {
    "duration": 16,
    "start_time": "2021-07-07T16:58:36.410Z"
   },
   {
    "duration": 8,
    "start_time": "2021-07-07T17:02:31.629Z"
   },
   {
    "duration": 8,
    "start_time": "2021-07-07T17:02:34.308Z"
   },
   {
    "duration": 6,
    "start_time": "2021-07-07T17:05:13.483Z"
   },
   {
    "duration": 17,
    "start_time": "2021-07-07T17:05:20.606Z"
   },
   {
    "duration": 7,
    "start_time": "2021-07-07T17:05:34.638Z"
   },
   {
    "duration": 3,
    "start_time": "2021-07-07T17:06:31.883Z"
   },
   {
    "duration": 570,
    "start_time": "2021-07-07T17:06:37.165Z"
   },
   {
    "duration": 174,
    "start_time": "2021-07-07T17:06:37.737Z"
   },
   {
    "duration": 47,
    "start_time": "2021-07-07T17:06:37.913Z"
   },
   {
    "duration": 3,
    "start_time": "2021-07-07T17:06:37.962Z"
   },
   {
    "duration": 27,
    "start_time": "2021-07-07T17:06:37.967Z"
   },
   {
    "duration": 7,
    "start_time": "2021-07-07T17:06:37.996Z"
   },
   {
    "duration": 16,
    "start_time": "2021-07-07T17:06:38.005Z"
   },
   {
    "duration": 6,
    "start_time": "2021-07-07T17:06:38.024Z"
   },
   {
    "duration": 12,
    "start_time": "2021-07-07T17:06:38.031Z"
   },
   {
    "duration": 41,
    "start_time": "2021-07-07T17:06:38.045Z"
   },
   {
    "duration": 8,
    "start_time": "2021-07-07T17:06:38.088Z"
   },
   {
    "duration": 26,
    "start_time": "2021-07-07T17:06:38.098Z"
   },
   {
    "duration": 17,
    "start_time": "2021-07-07T17:06:38.126Z"
   },
   {
    "duration": 43,
    "start_time": "2021-07-07T17:06:38.144Z"
   },
   {
    "duration": 6,
    "start_time": "2021-07-07T17:06:38.188Z"
   },
   {
    "duration": 5,
    "start_time": "2021-07-07T17:06:38.195Z"
   },
   {
    "duration": 9,
    "start_time": "2021-07-07T17:06:38.201Z"
   },
   {
    "duration": 12,
    "start_time": "2021-07-07T17:06:38.212Z"
   },
   {
    "duration": 11,
    "start_time": "2021-07-07T17:06:38.226Z"
   },
   {
    "duration": 47,
    "start_time": "2021-07-07T17:06:38.239Z"
   },
   {
    "duration": 4,
    "start_time": "2021-07-07T17:06:38.288Z"
   },
   {
    "duration": 13,
    "start_time": "2021-07-07T17:06:38.293Z"
   },
   {
    "duration": 5,
    "start_time": "2021-07-07T17:06:38.309Z"
   },
   {
    "duration": 18,
    "start_time": "2021-07-07T17:06:38.325Z"
   },
   {
    "duration": 20,
    "start_time": "2021-07-07T17:07:02.805Z"
   },
   {
    "duration": 19,
    "start_time": "2021-07-07T17:07:08.527Z"
   },
   {
    "duration": 19,
    "start_time": "2021-07-07T17:07:12.758Z"
   },
   {
    "duration": 22,
    "start_time": "2021-07-07T17:07:17.497Z"
   },
   {
    "duration": 19,
    "start_time": "2021-07-07T17:07:19.645Z"
   },
   {
    "duration": 10,
    "start_time": "2021-07-07T17:07:34.239Z"
   },
   {
    "duration": 17,
    "start_time": "2021-07-07T17:07:54.144Z"
   },
   {
    "duration": 14,
    "start_time": "2021-07-07T17:08:14.357Z"
   },
   {
    "duration": 616,
    "start_time": "2021-07-07T17:08:45.254Z"
   },
   {
    "duration": 178,
    "start_time": "2021-07-07T17:08:45.872Z"
   },
   {
    "duration": 60,
    "start_time": "2021-07-07T17:08:46.054Z"
   },
   {
    "duration": 3,
    "start_time": "2021-07-07T17:08:46.116Z"
   },
   {
    "duration": 26,
    "start_time": "2021-07-07T17:08:46.121Z"
   },
   {
    "duration": 7,
    "start_time": "2021-07-07T17:08:46.149Z"
   },
   {
    "duration": 17,
    "start_time": "2021-07-07T17:08:46.158Z"
   },
   {
    "duration": 14,
    "start_time": "2021-07-07T17:08:46.176Z"
   },
   {
    "duration": 17,
    "start_time": "2021-07-07T17:08:46.193Z"
   },
   {
    "duration": 9,
    "start_time": "2021-07-07T17:08:46.211Z"
   },
   {
    "duration": 21,
    "start_time": "2021-07-07T17:08:46.221Z"
   },
   {
    "duration": 49,
    "start_time": "2021-07-07T17:08:46.244Z"
   },
   {
    "duration": 24,
    "start_time": "2021-07-07T17:08:46.295Z"
   },
   {
    "duration": 22,
    "start_time": "2021-07-07T17:08:46.321Z"
   },
   {
    "duration": 6,
    "start_time": "2021-07-07T17:08:46.345Z"
   },
   {
    "duration": 5,
    "start_time": "2021-07-07T17:08:46.353Z"
   },
   {
    "duration": 13,
    "start_time": "2021-07-07T17:08:46.386Z"
   },
   {
    "duration": 12,
    "start_time": "2021-07-07T17:08:46.402Z"
   },
   {
    "duration": 10,
    "start_time": "2021-07-07T17:08:46.415Z"
   },
   {
    "duration": 7,
    "start_time": "2021-07-07T17:08:46.427Z"
   },
   {
    "duration": 8,
    "start_time": "2021-07-07T17:08:46.435Z"
   },
   {
    "duration": 68,
    "start_time": "2021-07-07T17:08:46.446Z"
   },
   {
    "duration": 13,
    "start_time": "2021-07-07T17:08:46.516Z"
   },
   {
    "duration": 78,
    "start_time": "2021-07-07T17:08:46.530Z"
   },
   {
    "duration": 40,
    "start_time": "2021-07-07T17:09:08.185Z"
   },
   {
    "duration": 16,
    "start_time": "2021-07-07T17:09:19.324Z"
   },
   {
    "duration": 21,
    "start_time": "2021-07-07T17:09:23.290Z"
   },
   {
    "duration": 13,
    "start_time": "2021-07-07T17:09:54.812Z"
   },
   {
    "duration": 13,
    "start_time": "2021-07-07T17:10:02.039Z"
   },
   {
    "duration": 10,
    "start_time": "2021-07-07T17:10:29.632Z"
   },
   {
    "duration": 13,
    "start_time": "2021-07-07T17:10:52.372Z"
   },
   {
    "duration": 13,
    "start_time": "2021-07-07T17:11:17.270Z"
   },
   {
    "duration": 13,
    "start_time": "2021-07-07T17:14:59.284Z"
   },
   {
    "duration": 547,
    "start_time": "2021-07-07T17:18:52.403Z"
   },
   {
    "duration": 163,
    "start_time": "2021-07-07T17:18:52.952Z"
   },
   {
    "duration": 44,
    "start_time": "2021-07-07T17:18:53.117Z"
   },
   {
    "duration": 3,
    "start_time": "2021-07-07T17:18:53.162Z"
   },
   {
    "duration": 26,
    "start_time": "2021-07-07T17:18:53.167Z"
   },
   {
    "duration": 6,
    "start_time": "2021-07-07T17:18:53.195Z"
   },
   {
    "duration": 15,
    "start_time": "2021-07-07T17:18:53.203Z"
   },
   {
    "duration": 5,
    "start_time": "2021-07-07T17:18:53.220Z"
   },
   {
    "duration": 11,
    "start_time": "2021-07-07T17:18:53.228Z"
   },
   {
    "duration": 9,
    "start_time": "2021-07-07T17:18:53.241Z"
   },
   {
    "duration": 41,
    "start_time": "2021-07-07T17:18:53.252Z"
   },
   {
    "duration": 33,
    "start_time": "2021-07-07T17:18:53.295Z"
   },
   {
    "duration": 19,
    "start_time": "2021-07-07T17:18:53.330Z"
   },
   {
    "duration": 49,
    "start_time": "2021-07-07T17:18:53.350Z"
   },
   {
    "duration": 5,
    "start_time": "2021-07-07T17:18:53.401Z"
   },
   {
    "duration": 5,
    "start_time": "2021-07-07T17:18:53.408Z"
   },
   {
    "duration": 11,
    "start_time": "2021-07-07T17:18:53.414Z"
   },
   {
    "duration": 9,
    "start_time": "2021-07-07T17:18:53.427Z"
   },
   {
    "duration": 10,
    "start_time": "2021-07-07T17:18:53.437Z"
   },
   {
    "duration": 39,
    "start_time": "2021-07-07T17:18:53.448Z"
   },
   {
    "duration": 26,
    "start_time": "2021-07-07T17:18:55.799Z"
   },
   {
    "duration": 598,
    "start_time": "2021-07-07T17:20:17.862Z"
   },
   {
    "duration": 161,
    "start_time": "2021-07-07T17:20:18.462Z"
   },
   {
    "duration": 45,
    "start_time": "2021-07-07T17:20:18.626Z"
   },
   {
    "duration": 4,
    "start_time": "2021-07-07T17:20:18.673Z"
   },
   {
    "duration": 38,
    "start_time": "2021-07-07T17:20:26.877Z"
   },
   {
    "duration": 7,
    "start_time": "2021-07-07T17:20:37.405Z"
   },
   {
    "duration": 19,
    "start_time": "2021-07-07T17:20:51.534Z"
   },
   {
    "duration": 5,
    "start_time": "2021-07-07T17:20:57.228Z"
   },
   {
    "duration": 7,
    "start_time": "2021-07-07T17:21:08.235Z"
   },
   {
    "duration": 19,
    "start_time": "2021-07-07T17:21:42.158Z"
   },
   {
    "duration": 14,
    "start_time": "2021-07-07T17:21:50.225Z"
   },
   {
    "duration": 22,
    "start_time": "2021-07-07T17:22:54.104Z"
   },
   {
    "duration": 5,
    "start_time": "2021-07-07T17:22:56.371Z"
   },
   {
    "duration": 14,
    "start_time": "2021-07-07T17:22:58.316Z"
   },
   {
    "duration": 5,
    "start_time": "2021-07-07T17:22:58.493Z"
   },
   {
    "duration": 35,
    "start_time": "2021-07-07T17:22:59.666Z"
   },
   {
    "duration": 6,
    "start_time": "2021-07-07T17:23:02.410Z"
   },
   {
    "duration": 611,
    "start_time": "2021-07-07T17:24:59.664Z"
   },
   {
    "duration": 178,
    "start_time": "2021-07-07T17:25:01.945Z"
   },
   {
    "duration": 47,
    "start_time": "2021-07-07T17:25:02.125Z"
   },
   {
    "duration": 2,
    "start_time": "2021-07-07T17:25:07.903Z"
   },
   {
    "duration": 254,
    "start_time": "2021-07-07T17:25:08.232Z"
   },
   {
    "duration": 182,
    "start_time": "2021-07-07T17:25:08.671Z"
   },
   {
    "duration": 6,
    "start_time": "2021-07-07T17:25:13.104Z"
   },
   {
    "duration": 36,
    "start_time": "2021-07-07T17:25:13.662Z"
   },
   {
    "duration": 7,
    "start_time": "2021-07-07T17:25:14.528Z"
   },
   {
    "duration": 24,
    "start_time": "2021-07-07T17:25:27.982Z"
   },
   {
    "duration": 3,
    "start_time": "2021-07-07T17:25:48.982Z"
   },
   {
    "duration": 165,
    "start_time": "2021-07-07T17:25:48.987Z"
   },
   {
    "duration": 50,
    "start_time": "2021-07-07T17:25:49.154Z"
   },
   {
    "duration": 4,
    "start_time": "2021-07-07T17:25:49.206Z"
   },
   {
    "duration": 26,
    "start_time": "2021-07-07T17:25:49.212Z"
   },
   {
    "duration": 7,
    "start_time": "2021-07-07T17:25:49.240Z"
   },
   {
    "duration": 16,
    "start_time": "2021-07-07T17:25:49.249Z"
   },
   {
    "duration": 22,
    "start_time": "2021-07-07T17:25:49.266Z"
   },
   {
    "duration": 16,
    "start_time": "2021-07-07T17:25:49.291Z"
   },
   {
    "duration": 9,
    "start_time": "2021-07-07T17:25:49.309Z"
   },
   {
    "duration": 7,
    "start_time": "2021-07-07T17:25:49.319Z"
   },
   {
    "duration": 28,
    "start_time": "2021-07-07T17:25:49.328Z"
   },
   {
    "duration": 44,
    "start_time": "2021-07-07T17:25:49.357Z"
   },
   {
    "duration": 22,
    "start_time": "2021-07-07T17:25:49.403Z"
   },
   {
    "duration": 7,
    "start_time": "2021-07-07T17:25:49.427Z"
   },
   {
    "duration": 3,
    "start_time": "2021-07-07T17:25:49.436Z"
   },
   {
    "duration": 44,
    "start_time": "2021-07-07T17:25:49.441Z"
   },
   {
    "duration": 12,
    "start_time": "2021-07-07T17:25:49.488Z"
   },
   {
    "duration": 13,
    "start_time": "2021-07-07T17:25:49.502Z"
   },
   {
    "duration": 10,
    "start_time": "2021-07-07T17:25:49.516Z"
   },
   {
    "duration": 62,
    "start_time": "2021-07-07T17:25:49.527Z"
   },
   {
    "duration": 26,
    "start_time": "2021-07-07T17:26:51.809Z"
   },
   {
    "duration": 26,
    "start_time": "2021-07-07T17:26:55.759Z"
   },
   {
    "duration": 26,
    "start_time": "2021-07-07T17:27:04.501Z"
   },
   {
    "duration": 25,
    "start_time": "2021-07-07T17:28:24.859Z"
   },
   {
    "duration": 21,
    "start_time": "2021-07-07T17:28:55.250Z"
   },
   {
    "duration": 21,
    "start_time": "2021-07-07T17:28:58.885Z"
   },
   {
    "duration": 7,
    "start_time": "2021-07-07T17:45:40.972Z"
   },
   {
    "duration": 13,
    "start_time": "2021-07-07T17:45:42.529Z"
   },
   {
    "duration": 27,
    "start_time": "2021-07-07T17:45:51.026Z"
   },
   {
    "duration": 518,
    "start_time": "2021-07-07T17:46:15.532Z"
   },
   {
    "duration": 235,
    "start_time": "2021-07-07T17:46:16.053Z"
   },
   {
    "duration": 80,
    "start_time": "2021-07-07T17:46:16.292Z"
   },
   {
    "duration": 5,
    "start_time": "2021-07-07T17:46:16.373Z"
   },
   {
    "duration": 26,
    "start_time": "2021-07-07T17:46:16.380Z"
   },
   {
    "duration": 7,
    "start_time": "2021-07-07T17:46:16.408Z"
   },
   {
    "duration": 16,
    "start_time": "2021-07-07T17:46:16.418Z"
   },
   {
    "duration": 5,
    "start_time": "2021-07-07T17:46:16.436Z"
   },
   {
    "duration": 13,
    "start_time": "2021-07-07T17:46:16.442Z"
   },
   {
    "duration": 35,
    "start_time": "2021-07-07T17:46:16.456Z"
   },
   {
    "duration": 8,
    "start_time": "2021-07-07T17:46:16.493Z"
   },
   {
    "duration": 28,
    "start_time": "2021-07-07T17:46:16.502Z"
   },
   {
    "duration": 17,
    "start_time": "2021-07-07T17:46:16.532Z"
   },
   {
    "duration": 44,
    "start_time": "2021-07-07T17:46:16.551Z"
   },
   {
    "duration": 6,
    "start_time": "2021-07-07T17:46:16.597Z"
   },
   {
    "duration": 4,
    "start_time": "2021-07-07T17:46:16.605Z"
   },
   {
    "duration": 9,
    "start_time": "2021-07-07T17:46:16.610Z"
   },
   {
    "duration": 9,
    "start_time": "2021-07-07T17:46:16.621Z"
   },
   {
    "duration": 10,
    "start_time": "2021-07-07T17:46:16.632Z"
   },
   {
    "duration": 43,
    "start_time": "2021-07-07T17:46:16.644Z"
   },
   {
    "duration": 26,
    "start_time": "2021-07-07T17:46:16.689Z"
   },
   {
    "duration": 19,
    "start_time": "2021-07-07T17:46:16.718Z"
   },
   {
    "duration": 8,
    "start_time": "2021-07-07T17:46:16.738Z"
   },
   {
    "duration": 43,
    "start_time": "2021-07-07T17:46:16.747Z"
   },
   {
    "duration": 19,
    "start_time": "2021-07-07T17:46:16.791Z"
   },
   {
    "duration": 9,
    "start_time": "2021-07-07T17:46:16.812Z"
   },
   {
    "duration": 60,
    "start_time": "2021-07-07T17:46:16.822Z"
   },
   {
    "duration": -8,
    "start_time": "2021-07-07T17:46:16.892Z"
   },
   {
    "duration": 12,
    "start_time": "2021-07-07T17:48:47.707Z"
   },
   {
    "duration": 553,
    "start_time": "2021-07-07T18:10:09.350Z"
   },
   {
    "duration": 230,
    "start_time": "2021-07-07T18:10:09.905Z"
   },
   {
    "duration": 97,
    "start_time": "2021-07-07T18:10:10.137Z"
   },
   {
    "duration": 5,
    "start_time": "2021-07-07T18:10:10.236Z"
   },
   {
    "duration": 29,
    "start_time": "2021-07-07T18:10:10.242Z"
   },
   {
    "duration": 7,
    "start_time": "2021-07-07T18:10:10.272Z"
   },
   {
    "duration": 15,
    "start_time": "2021-07-07T18:10:10.281Z"
   },
   {
    "duration": 4,
    "start_time": "2021-07-07T18:10:10.299Z"
   },
   {
    "duration": 14,
    "start_time": "2021-07-07T18:10:10.305Z"
   },
   {
    "duration": 8,
    "start_time": "2021-07-07T18:10:10.321Z"
   },
   {
    "duration": 8,
    "start_time": "2021-07-07T18:10:10.331Z"
   },
   {
    "duration": 56,
    "start_time": "2021-07-07T18:10:10.341Z"
   },
   {
    "duration": 19,
    "start_time": "2021-07-07T18:10:10.399Z"
   },
   {
    "duration": 23,
    "start_time": "2021-07-07T18:10:10.419Z"
   },
   {
    "duration": 6,
    "start_time": "2021-07-07T18:10:10.444Z"
   },
   {
    "duration": 9,
    "start_time": "2021-07-07T18:10:10.451Z"
   },
   {
    "duration": 30,
    "start_time": "2021-07-07T18:10:10.462Z"
   },
   {
    "duration": 9,
    "start_time": "2021-07-07T18:10:10.494Z"
   },
   {
    "duration": 14,
    "start_time": "2021-07-07T18:10:10.505Z"
   },
   {
    "duration": 7,
    "start_time": "2021-07-07T18:10:10.521Z"
   },
   {
    "duration": 26,
    "start_time": "2021-07-07T18:10:10.530Z"
   },
   {
    "duration": 44,
    "start_time": "2021-07-07T18:10:10.558Z"
   },
   {
    "duration": 7,
    "start_time": "2021-07-07T18:10:10.605Z"
   },
   {
    "duration": 11,
    "start_time": "2021-07-07T18:10:10.614Z"
   },
   {
    "duration": 19,
    "start_time": "2021-07-07T18:10:10.626Z"
   },
   {
    "duration": 44,
    "start_time": "2021-07-07T18:10:10.646Z"
   },
   {
    "duration": 516,
    "start_time": "2021-07-07T18:14:00.826Z"
   },
   {
    "duration": 230,
    "start_time": "2021-07-07T18:14:01.344Z"
   },
   {
    "duration": 105,
    "start_time": "2021-07-07T18:14:01.576Z"
   },
   {
    "duration": 5,
    "start_time": "2021-07-07T18:14:01.683Z"
   },
   {
    "duration": 46,
    "start_time": "2021-07-07T18:14:01.690Z"
   },
   {
    "duration": 7,
    "start_time": "2021-07-07T18:14:01.738Z"
   },
   {
    "duration": 20,
    "start_time": "2021-07-07T18:14:01.747Z"
   },
   {
    "duration": 16,
    "start_time": "2021-07-07T18:14:01.769Z"
   },
   {
    "duration": 14,
    "start_time": "2021-07-07T18:14:01.787Z"
   },
   {
    "duration": 15,
    "start_time": "2021-07-07T18:14:01.803Z"
   },
   {
    "duration": 12,
    "start_time": "2021-07-07T18:14:01.820Z"
   },
   {
    "duration": 35,
    "start_time": "2021-07-07T18:14:01.833Z"
   },
   {
    "duration": 31,
    "start_time": "2021-07-07T18:14:01.869Z"
   },
   {
    "duration": 37,
    "start_time": "2021-07-07T18:14:01.902Z"
   },
   {
    "duration": 8,
    "start_time": "2021-07-07T18:14:01.942Z"
   },
   {
    "duration": 16,
    "start_time": "2021-07-07T18:14:01.952Z"
   },
   {
    "duration": 13,
    "start_time": "2021-07-07T18:14:01.970Z"
   },
   {
    "duration": 32,
    "start_time": "2021-07-07T18:14:01.985Z"
   },
   {
    "duration": 11,
    "start_time": "2021-07-07T18:14:02.019Z"
   },
   {
    "duration": 22,
    "start_time": "2021-07-07T18:14:02.031Z"
   },
   {
    "duration": 27,
    "start_time": "2021-07-07T18:14:02.055Z"
   },
   {
    "duration": 18,
    "start_time": "2021-07-07T18:14:02.084Z"
   },
   {
    "duration": 18,
    "start_time": "2021-07-07T18:14:02.106Z"
   },
   {
    "duration": 11,
    "start_time": "2021-07-07T18:14:02.126Z"
   },
   {
    "duration": 21,
    "start_time": "2021-07-07T18:14:02.138Z"
   },
   {
    "duration": 32,
    "start_time": "2021-07-07T18:14:02.161Z"
   },
   {
    "duration": 28,
    "start_time": "2021-07-07T18:14:44.295Z"
   },
   {
    "duration": 6,
    "start_time": "2021-07-07T18:15:05.834Z"
   },
   {
    "duration": 511,
    "start_time": "2021-07-07T18:15:41.541Z"
   },
   {
    "duration": 183,
    "start_time": "2021-07-07T18:15:42.054Z"
   },
   {
    "duration": 50,
    "start_time": "2021-07-07T18:15:42.239Z"
   },
   {
    "duration": 5,
    "start_time": "2021-07-07T18:15:42.291Z"
   },
   {
    "duration": 48,
    "start_time": "2021-07-07T18:15:42.297Z"
   },
   {
    "duration": 8,
    "start_time": "2021-07-07T18:15:42.346Z"
   },
   {
    "duration": 17,
    "start_time": "2021-07-07T18:15:42.356Z"
   },
   {
    "duration": 15,
    "start_time": "2021-07-07T18:15:42.375Z"
   },
   {
    "duration": 12,
    "start_time": "2021-07-07T18:15:42.392Z"
   },
   {
    "duration": 7,
    "start_time": "2021-07-07T18:15:42.406Z"
   },
   {
    "duration": 7,
    "start_time": "2021-07-07T18:15:42.415Z"
   },
   {
    "duration": 29,
    "start_time": "2021-07-07T18:15:42.423Z"
   },
   {
    "duration": 43,
    "start_time": "2021-07-07T18:15:42.453Z"
   },
   {
    "duration": 18,
    "start_time": "2021-07-07T18:15:42.497Z"
   },
   {
    "duration": 6,
    "start_time": "2021-07-07T18:15:42.516Z"
   },
   {
    "duration": 3,
    "start_time": "2021-07-07T18:15:42.523Z"
   },
   {
    "duration": 18,
    "start_time": "2021-07-07T18:15:42.528Z"
   },
   {
    "duration": 10,
    "start_time": "2021-07-07T18:15:42.547Z"
   },
   {
    "duration": 36,
    "start_time": "2021-07-07T18:15:42.559Z"
   },
   {
    "duration": 8,
    "start_time": "2021-07-07T18:15:42.597Z"
   },
   {
    "duration": 28,
    "start_time": "2021-07-07T18:15:42.606Z"
   },
   {
    "duration": 52,
    "start_time": "2021-07-07T18:15:42.635Z"
   },
   {
    "duration": 7,
    "start_time": "2021-07-07T18:15:42.690Z"
   },
   {
    "duration": 10,
    "start_time": "2021-07-07T18:15:42.699Z"
   },
   {
    "duration": 19,
    "start_time": "2021-07-07T18:15:42.711Z"
   },
   {
    "duration": 9,
    "start_time": "2021-07-07T18:15:42.732Z"
   },
   {
    "duration": 5,
    "start_time": "2021-07-07T18:15:42.743Z"
   },
   {
    "duration": 1450,
    "start_time": "2021-07-07T18:15:51.984Z"
   },
   {
    "duration": 161,
    "start_time": "2021-07-07T18:15:53.435Z"
   },
   {
    "duration": 124,
    "start_time": "2021-07-07T18:15:53.598Z"
   },
   {
    "duration": 5,
    "start_time": "2021-07-07T18:15:53.724Z"
   },
   {
    "duration": 34,
    "start_time": "2021-07-07T18:15:53.730Z"
   },
   {
    "duration": 7,
    "start_time": "2021-07-07T18:15:53.765Z"
   },
   {
    "duration": 15,
    "start_time": "2021-07-07T18:15:53.773Z"
   },
   {
    "duration": 5,
    "start_time": "2021-07-07T18:15:53.791Z"
   },
   {
    "duration": 19,
    "start_time": "2021-07-07T18:15:53.798Z"
   },
   {
    "duration": 9,
    "start_time": "2021-07-07T18:15:53.818Z"
   },
   {
    "duration": 19,
    "start_time": "2021-07-07T18:15:53.828Z"
   },
   {
    "duration": 27,
    "start_time": "2021-07-07T18:15:53.848Z"
   },
   {
    "duration": 16,
    "start_time": "2021-07-07T18:15:53.884Z"
   },
   {
    "duration": 29,
    "start_time": "2021-07-07T18:15:53.901Z"
   },
   {
    "duration": 5,
    "start_time": "2021-07-07T18:15:53.932Z"
   },
   {
    "duration": 15,
    "start_time": "2021-07-07T18:15:53.939Z"
   },
   {
    "duration": 13,
    "start_time": "2021-07-07T18:15:53.956Z"
   },
   {
    "duration": 20,
    "start_time": "2021-07-07T18:15:53.971Z"
   },
   {
    "duration": 14,
    "start_time": "2021-07-07T18:15:53.992Z"
   },
   {
    "duration": 9,
    "start_time": "2021-07-07T18:15:54.009Z"
   },
   {
    "duration": 28,
    "start_time": "2021-07-07T18:15:54.020Z"
   },
   {
    "duration": 50,
    "start_time": "2021-07-07T18:15:54.051Z"
   },
   {
    "duration": 8,
    "start_time": "2021-07-07T18:15:54.105Z"
   },
   {
    "duration": 11,
    "start_time": "2021-07-07T18:15:54.115Z"
   },
   {
    "duration": 20,
    "start_time": "2021-07-07T18:15:54.128Z"
   },
   {
    "duration": 13,
    "start_time": "2021-07-07T18:15:54.184Z"
   },
   {
    "duration": 7,
    "start_time": "2021-07-07T18:15:54.199Z"
   },
   {
    "duration": 7,
    "start_time": "2021-07-07T18:17:08.042Z"
   },
   {
    "duration": 8,
    "start_time": "2021-07-07T18:17:21.008Z"
   },
   {
    "duration": 7,
    "start_time": "2021-07-07T18:17:29.003Z"
   },
   {
    "duration": 8,
    "start_time": "2021-07-07T18:17:32.492Z"
   },
   {
    "duration": 9,
    "start_time": "2021-07-07T18:17:41.758Z"
   },
   {
    "duration": 255,
    "start_time": "2021-07-07T18:20:20.897Z"
   },
   {
    "duration": 173,
    "start_time": "2021-07-07T18:20:26.636Z"
   },
   {
    "duration": 7,
    "start_time": "2021-07-07T18:21:47.164Z"
   },
   {
    "duration": 254,
    "start_time": "2021-07-07T18:23:08.703Z"
   },
   {
    "duration": 21,
    "start_time": "2021-07-07T18:23:22.506Z"
   },
   {
    "duration": 315,
    "start_time": "2021-07-07T18:25:54.801Z"
   },
   {
    "duration": 34,
    "start_time": "2021-07-07T18:26:51.817Z"
   },
   {
    "duration": 327,
    "start_time": "2021-07-07T18:26:56.147Z"
   },
   {
    "duration": 342,
    "start_time": "2021-07-07T18:27:15.887Z"
   },
   {
    "duration": 302,
    "start_time": "2021-07-07T18:28:18.569Z"
   },
   {
    "duration": 226,
    "start_time": "2021-07-07T18:29:20.879Z"
   },
   {
    "duration": 207,
    "start_time": "2021-07-07T18:29:58.114Z"
   },
   {
    "duration": 140,
    "start_time": "2021-07-07T18:32:04.372Z"
   },
   {
    "duration": 158,
    "start_time": "2021-07-07T18:32:32.508Z"
   },
   {
    "duration": 145,
    "start_time": "2021-07-07T18:32:41.365Z"
   },
   {
    "duration": 132,
    "start_time": "2021-07-07T18:32:45.199Z"
   },
   {
    "duration": 11,
    "start_time": "2021-07-07T18:35:24.679Z"
   },
   {
    "duration": 268,
    "start_time": "2021-07-07T18:36:16.145Z"
   },
   {
    "duration": 227,
    "start_time": "2021-07-07T18:37:04.918Z"
   },
   {
    "duration": 3,
    "start_time": "2021-07-07T18:37:33.012Z"
   },
   {
    "duration": 671,
    "start_time": "2021-07-07T18:37:38.295Z"
   },
   {
    "duration": 54,
    "start_time": "2021-07-07T18:37:53.406Z"
   },
   {
    "duration": 631,
    "start_time": "2021-07-07T18:37:56.463Z"
   },
   {
    "duration": 19,
    "start_time": "2021-07-07T18:39:40.535Z"
   },
   {
    "duration": 20,
    "start_time": "2021-07-07T18:40:12.236Z"
   },
   {
    "duration": 633,
    "start_time": "2021-07-07T18:42:00.398Z"
   },
   {
    "duration": 218,
    "start_time": "2021-07-07T18:42:01.033Z"
   },
   {
    "duration": 49,
    "start_time": "2021-07-07T18:42:01.253Z"
   },
   {
    "duration": 5,
    "start_time": "2021-07-07T18:42:01.303Z"
   },
   {
    "duration": 27,
    "start_time": "2021-07-07T18:42:01.310Z"
   },
   {
    "duration": 8,
    "start_time": "2021-07-07T18:42:01.339Z"
   },
   {
    "duration": 20,
    "start_time": "2021-07-07T18:42:01.348Z"
   },
   {
    "duration": 6,
    "start_time": "2021-07-07T18:42:01.386Z"
   },
   {
    "duration": 16,
    "start_time": "2021-07-07T18:42:01.394Z"
   },
   {
    "duration": 9,
    "start_time": "2021-07-07T18:42:01.411Z"
   },
   {
    "duration": 11,
    "start_time": "2021-07-07T18:42:01.421Z"
   },
   {
    "duration": 31,
    "start_time": "2021-07-07T18:42:01.434Z"
   },
   {
    "duration": 18,
    "start_time": "2021-07-07T18:42:01.485Z"
   },
   {
    "duration": 23,
    "start_time": "2021-07-07T18:42:01.505Z"
   },
   {
    "duration": 6,
    "start_time": "2021-07-07T18:42:01.530Z"
   },
   {
    "duration": 10,
    "start_time": "2021-07-07T18:42:01.538Z"
   },
   {
    "duration": 13,
    "start_time": "2021-07-07T18:42:01.550Z"
   },
   {
    "duration": 24,
    "start_time": "2021-07-07T18:42:01.564Z"
   },
   {
    "duration": 20,
    "start_time": "2021-07-07T18:42:01.590Z"
   },
   {
    "duration": 8,
    "start_time": "2021-07-07T18:42:01.611Z"
   },
   {
    "duration": 31,
    "start_time": "2021-07-07T18:42:01.620Z"
   },
   {
    "duration": 39,
    "start_time": "2021-07-07T18:42:01.653Z"
   },
   {
    "duration": 8,
    "start_time": "2021-07-07T18:42:01.696Z"
   },
   {
    "duration": 13,
    "start_time": "2021-07-07T18:42:01.705Z"
   },
   {
    "duration": 20,
    "start_time": "2021-07-07T18:42:01.720Z"
   },
   {
    "duration": 12,
    "start_time": "2021-07-07T18:42:01.741Z"
   },
   {
    "duration": 35,
    "start_time": "2021-07-07T18:42:01.755Z"
   },
   {
    "duration": 14,
    "start_time": "2021-07-07T18:42:01.792Z"
   },
   {
    "duration": 188,
    "start_time": "2021-07-07T18:42:01.808Z"
   },
   {
    "duration": 19,
    "start_time": "2021-07-07T18:42:01.998Z"
   },
   {
    "duration": 175,
    "start_time": "2021-07-07T18:42:02.019Z"
   },
   {
    "duration": 134,
    "start_time": "2021-07-07T18:42:02.196Z"
   },
   {
    "duration": 10,
    "start_time": "2021-07-07T18:42:02.331Z"
   },
   {
    "duration": 19,
    "start_time": "2021-07-07T18:42:02.343Z"
   },
   {
    "duration": 628,
    "start_time": "2021-07-07T18:46:30.701Z"
   },
   {
    "duration": 183,
    "start_time": "2021-07-07T18:46:31.331Z"
   },
   {
    "duration": 48,
    "start_time": "2021-07-07T18:46:31.516Z"
   },
   {
    "duration": 5,
    "start_time": "2021-07-07T18:46:31.566Z"
   },
   {
    "duration": 28,
    "start_time": "2021-07-07T18:46:31.572Z"
   },
   {
    "duration": 8,
    "start_time": "2021-07-07T18:46:31.602Z"
   },
   {
    "duration": 19,
    "start_time": "2021-07-07T18:46:31.611Z"
   },
   {
    "duration": 6,
    "start_time": "2021-07-07T18:46:31.633Z"
   },
   {
    "duration": 17,
    "start_time": "2021-07-07T18:46:31.642Z"
   },
   {
    "duration": 10,
    "start_time": "2021-07-07T18:46:31.684Z"
   },
   {
    "duration": 9,
    "start_time": "2021-07-07T18:46:31.695Z"
   },
   {
    "duration": 28,
    "start_time": "2021-07-07T18:46:31.705Z"
   },
   {
    "duration": 18,
    "start_time": "2021-07-07T18:46:31.735Z"
   },
   {
    "duration": 48,
    "start_time": "2021-07-07T18:46:31.755Z"
   },
   {
    "duration": 6,
    "start_time": "2021-07-07T18:46:31.804Z"
   },
   {
    "duration": 4,
    "start_time": "2021-07-07T18:46:31.812Z"
   },
   {
    "duration": 9,
    "start_time": "2021-07-07T18:46:31.817Z"
   },
   {
    "duration": 10,
    "start_time": "2021-07-07T18:46:31.827Z"
   },
   {
    "duration": 12,
    "start_time": "2021-07-07T18:46:31.838Z"
   },
   {
    "duration": 39,
    "start_time": "2021-07-07T18:46:31.851Z"
   },
   {
    "duration": 24,
    "start_time": "2021-07-07T18:46:31.892Z"
   },
   {
    "duration": 15,
    "start_time": "2021-07-07T18:46:31.918Z"
   },
   {
    "duration": 7,
    "start_time": "2021-07-07T18:46:31.936Z"
   },
   {
    "duration": 8,
    "start_time": "2021-07-07T18:46:31.944Z"
   },
   {
    "duration": 19,
    "start_time": "2021-07-07T18:46:31.984Z"
   },
   {
    "duration": 10,
    "start_time": "2021-07-07T18:46:32.004Z"
   },
   {
    "duration": 5,
    "start_time": "2021-07-07T18:46:32.016Z"
   },
   {
    "duration": 9,
    "start_time": "2021-07-07T18:46:32.023Z"
   },
   {
    "duration": 199,
    "start_time": "2021-07-07T18:46:32.033Z"
   },
   {
    "duration": 19,
    "start_time": "2021-07-07T18:46:32.234Z"
   },
   {
    "duration": 159,
    "start_time": "2021-07-07T18:46:32.255Z"
   },
   {
    "duration": 134,
    "start_time": "2021-07-07T18:46:32.416Z"
   },
   {
    "duration": 10,
    "start_time": "2021-07-07T18:46:32.552Z"
   },
   {
    "duration": 34,
    "start_time": "2021-07-07T18:46:32.563Z"
   },
   {
    "duration": 1039,
    "start_time": "2021-07-08T08:41:09.419Z"
   },
   {
    "duration": 333,
    "start_time": "2021-07-08T08:41:10.459Z"
   },
   {
    "duration": 173,
    "start_time": "2021-07-08T08:41:10.794Z"
   },
   {
    "duration": 5,
    "start_time": "2021-07-08T08:41:10.968Z"
   },
   {
    "duration": 25,
    "start_time": "2021-07-08T08:41:10.975Z"
   },
   {
    "duration": 9,
    "start_time": "2021-07-08T08:41:11.002Z"
   },
   {
    "duration": 18,
    "start_time": "2021-07-08T08:41:11.013Z"
   },
   {
    "duration": 6,
    "start_time": "2021-07-08T08:41:11.033Z"
   },
   {
    "duration": 44,
    "start_time": "2021-07-08T08:41:11.042Z"
   },
   {
    "duration": 10,
    "start_time": "2021-07-08T08:41:11.088Z"
   },
   {
    "duration": 9,
    "start_time": "2021-07-08T08:41:11.100Z"
   },
   {
    "duration": 27,
    "start_time": "2021-07-08T08:41:11.111Z"
   },
   {
    "duration": 46,
    "start_time": "2021-07-08T08:41:11.140Z"
   },
   {
    "duration": 17,
    "start_time": "2021-07-08T08:41:11.187Z"
   },
   {
    "duration": 6,
    "start_time": "2021-07-08T08:41:11.206Z"
   },
   {
    "duration": 5,
    "start_time": "2021-07-08T08:41:11.213Z"
   },
   {
    "duration": 10,
    "start_time": "2021-07-08T08:41:11.219Z"
   },
   {
    "duration": 9,
    "start_time": "2021-07-08T08:41:11.230Z"
   },
   {
    "duration": 45,
    "start_time": "2021-07-08T08:41:11.241Z"
   },
   {
    "duration": 7,
    "start_time": "2021-07-08T08:41:11.287Z"
   },
   {
    "duration": 24,
    "start_time": "2021-07-08T08:41:11.296Z"
   },
   {
    "duration": 16,
    "start_time": "2021-07-08T08:41:11.322Z"
   },
   {
    "duration": 7,
    "start_time": "2021-07-08T08:41:11.341Z"
   },
   {
    "duration": 41,
    "start_time": "2021-07-08T08:41:11.349Z"
   },
   {
    "duration": 17,
    "start_time": "2021-07-08T08:41:11.391Z"
   },
   {
    "duration": 9,
    "start_time": "2021-07-08T08:41:11.410Z"
   },
   {
    "duration": 5,
    "start_time": "2021-07-08T08:41:11.421Z"
   },
   {
    "duration": 6,
    "start_time": "2021-07-08T08:41:11.428Z"
   },
   {
    "duration": 198,
    "start_time": "2021-07-08T08:41:11.435Z"
   },
   {
    "duration": 18,
    "start_time": "2021-07-08T08:41:11.635Z"
   },
   {
    "duration": 155,
    "start_time": "2021-07-08T08:41:11.655Z"
   },
   {
    "duration": 138,
    "start_time": "2021-07-08T08:41:11.811Z"
   },
   {
    "duration": 10,
    "start_time": "2021-07-08T08:41:11.950Z"
   },
   {
    "duration": 29,
    "start_time": "2021-07-08T08:41:11.961Z"
   },
   {
    "duration": 171,
    "start_time": "2021-07-08T08:47:44.522Z"
   },
   {
    "duration": 124,
    "start_time": "2021-07-08T08:47:46.872Z"
   },
   {
    "duration": 191,
    "start_time": "2021-07-08T08:47:58.148Z"
   },
   {
    "duration": 191,
    "start_time": "2021-07-08T08:48:07.412Z"
   },
   {
    "duration": 261,
    "start_time": "2021-07-08T08:48:10.385Z"
   },
   {
    "duration": 255,
    "start_time": "2021-07-08T08:48:14.494Z"
   },
   {
    "duration": 219,
    "start_time": "2021-07-08T08:48:22.752Z"
   },
   {
    "duration": 173,
    "start_time": "2021-07-08T08:49:06.395Z"
   },
   {
    "duration": 180,
    "start_time": "2021-07-08T08:49:21.011Z"
   },
   {
    "duration": 6,
    "start_time": "2021-07-08T08:50:31.697Z"
   },
   {
    "duration": 10,
    "start_time": "2021-07-08T08:50:47.394Z"
   },
   {
    "duration": 11,
    "start_time": "2021-07-08T08:53:49.332Z"
   },
   {
    "duration": 171,
    "start_time": "2021-07-08T08:54:28.408Z"
   },
   {
    "duration": 636,
    "start_time": "2021-07-08T09:02:48.385Z"
   },
   {
    "duration": 227,
    "start_time": "2021-07-08T09:02:49.023Z"
   },
   {
    "duration": 104,
    "start_time": "2021-07-08T09:02:49.252Z"
   },
   {
    "duration": 5,
    "start_time": "2021-07-08T09:02:49.358Z"
   },
   {
    "duration": 27,
    "start_time": "2021-07-08T09:02:49.365Z"
   },
   {
    "duration": 8,
    "start_time": "2021-07-08T09:02:49.394Z"
   },
   {
    "duration": 18,
    "start_time": "2021-07-08T09:02:49.404Z"
   },
   {
    "duration": 6,
    "start_time": "2021-07-08T09:02:49.424Z"
   },
   {
    "duration": 11,
    "start_time": "2021-07-08T09:02:49.433Z"
   },
   {
    "duration": 13,
    "start_time": "2021-07-08T09:02:49.485Z"
   },
   {
    "duration": 9,
    "start_time": "2021-07-08T09:02:49.500Z"
   },
   {
    "duration": 38,
    "start_time": "2021-07-08T09:02:49.511Z"
   },
   {
    "duration": 42,
    "start_time": "2021-07-08T09:02:49.551Z"
   },
   {
    "duration": 21,
    "start_time": "2021-07-08T09:02:49.594Z"
   },
   {
    "duration": 6,
    "start_time": "2021-07-08T09:02:49.616Z"
   },
   {
    "duration": 3,
    "start_time": "2021-07-08T09:02:49.623Z"
   },
   {
    "duration": 9,
    "start_time": "2021-07-08T09:02:49.628Z"
   },
   {
    "duration": 52,
    "start_time": "2021-07-08T09:02:49.638Z"
   },
   {
    "duration": 11,
    "start_time": "2021-07-08T09:02:49.692Z"
   },
   {
    "duration": 8,
    "start_time": "2021-07-08T09:02:49.704Z"
   },
   {
    "duration": 27,
    "start_time": "2021-07-08T09:02:49.713Z"
   },
   {
    "duration": 59,
    "start_time": "2021-07-08T09:02:49.741Z"
   },
   {
    "duration": 8,
    "start_time": "2021-07-08T09:02:49.803Z"
   },
   {
    "duration": 14,
    "start_time": "2021-07-08T09:02:49.813Z"
   },
   {
    "duration": 20,
    "start_time": "2021-07-08T09:02:49.829Z"
   },
   {
    "duration": 44,
    "start_time": "2021-07-08T09:02:49.851Z"
   },
   {
    "duration": 14,
    "start_time": "2021-07-08T09:02:49.896Z"
   },
   {
    "duration": 221,
    "start_time": "2021-07-08T09:02:49.912Z"
   },
   {
    "duration": 6,
    "start_time": "2021-07-08T09:02:50.134Z"
   },
   {
    "duration": 206,
    "start_time": "2021-07-08T09:02:50.142Z"
   },
   {
    "duration": 19,
    "start_time": "2021-07-08T09:02:50.350Z"
   },
   {
    "duration": 21,
    "start_time": "2021-07-08T09:02:50.370Z"
   },
   {
    "duration": 20,
    "start_time": "2021-07-08T09:02:50.393Z"
   },
   {
    "duration": 5,
    "start_time": "2021-07-08T09:02:50.414Z"
   },
   {
    "duration": 5,
    "start_time": "2021-07-08T09:03:34.173Z"
   },
   {
    "duration": 6,
    "start_time": "2021-07-08T09:04:49.062Z"
   },
   {
    "duration": 9,
    "start_time": "2021-07-08T09:04:50.118Z"
   },
   {
    "duration": 14,
    "start_time": "2021-07-08T09:04:58.512Z"
   },
   {
    "duration": 9,
    "start_time": "2021-07-08T09:05:10.988Z"
   },
   {
    "duration": 11,
    "start_time": "2021-07-08T09:05:11.743Z"
   },
   {
    "duration": 7,
    "start_time": "2021-07-08T09:05:25.677Z"
   },
   {
    "duration": 13,
    "start_time": "2021-07-08T09:05:47.189Z"
   },
   {
    "duration": 13,
    "start_time": "2021-07-08T09:05:54.755Z"
   },
   {
    "duration": 4,
    "start_time": "2021-07-08T09:06:29.189Z"
   },
   {
    "duration": 244,
    "start_time": "2021-07-08T09:06:29.195Z"
   },
   {
    "duration": 91,
    "start_time": "2021-07-08T09:06:29.441Z"
   },
   {
    "duration": 4,
    "start_time": "2021-07-08T09:06:29.534Z"
   },
   {
    "duration": 28,
    "start_time": "2021-07-08T09:06:29.540Z"
   },
   {
    "duration": 6,
    "start_time": "2021-07-08T09:06:29.570Z"
   },
   {
    "duration": 18,
    "start_time": "2021-07-08T09:06:29.578Z"
   },
   {
    "duration": 5,
    "start_time": "2021-07-08T09:06:29.597Z"
   },
   {
    "duration": 13,
    "start_time": "2021-07-08T09:06:29.605Z"
   },
   {
    "duration": 8,
    "start_time": "2021-07-08T09:06:29.620Z"
   },
   {
    "duration": 7,
    "start_time": "2021-07-08T09:06:29.630Z"
   },
   {
    "duration": 63,
    "start_time": "2021-07-08T09:06:29.639Z"
   },
   {
    "duration": 17,
    "start_time": "2021-07-08T09:06:29.704Z"
   },
   {
    "duration": 20,
    "start_time": "2021-07-08T09:06:29.723Z"
   },
   {
    "duration": 6,
    "start_time": "2021-07-08T09:06:29.745Z"
   },
   {
    "duration": 3,
    "start_time": "2021-07-08T09:06:29.752Z"
   },
   {
    "duration": 7,
    "start_time": "2021-07-08T09:06:29.785Z"
   },
   {
    "duration": 11,
    "start_time": "2021-07-08T09:06:29.794Z"
   },
   {
    "duration": 15,
    "start_time": "2021-07-08T09:06:29.807Z"
   },
   {
    "duration": 8,
    "start_time": "2021-07-08T09:06:29.823Z"
   },
   {
    "duration": 70,
    "start_time": "2021-07-08T09:06:29.832Z"
   },
   {
    "duration": 17,
    "start_time": "2021-07-08T09:06:29.903Z"
   },
   {
    "duration": 9,
    "start_time": "2021-07-08T09:06:29.921Z"
   },
   {
    "duration": 9,
    "start_time": "2021-07-08T09:06:29.932Z"
   },
   {
    "duration": 57,
    "start_time": "2021-07-08T09:06:29.942Z"
   },
   {
    "duration": 11,
    "start_time": "2021-07-08T09:06:30.001Z"
   },
   {
    "duration": 19,
    "start_time": "2021-07-08T09:06:30.016Z"
   },
   {
    "duration": 217,
    "start_time": "2021-07-08T09:06:30.037Z"
   },
   {
    "duration": 6,
    "start_time": "2021-07-08T09:06:30.255Z"
   },
   {
    "duration": 205,
    "start_time": "2021-07-08T09:06:30.263Z"
   },
   {
    "duration": 27,
    "start_time": "2021-07-08T09:06:30.470Z"
   },
   {
    "duration": 11,
    "start_time": "2021-07-08T09:06:30.500Z"
   },
   {
    "duration": 31,
    "start_time": "2021-07-08T09:06:30.513Z"
   },
   {
    "duration": 18,
    "start_time": "2021-07-08T09:06:30.546Z"
   },
   {
    "duration": 11,
    "start_time": "2021-07-08T09:06:30.566Z"
   },
   {
    "duration": 19,
    "start_time": "2021-07-08T09:06:30.579Z"
   },
   {
    "duration": 20,
    "start_time": "2021-07-08T09:06:49.466Z"
   },
   {
    "duration": 9,
    "start_time": "2021-07-08T09:06:51.994Z"
   },
   {
    "duration": 20,
    "start_time": "2021-07-08T09:06:52.273Z"
   },
   {
    "duration": 246,
    "start_time": "2021-07-08T09:10:21.272Z"
   },
   {
    "duration": 84,
    "start_time": "2021-07-08T09:10:21.436Z"
   },
   {
    "duration": 7,
    "start_time": "2021-07-08T09:10:37.608Z"
   },
   {
    "duration": 189,
    "start_time": "2021-07-08T09:10:38.573Z"
   },
   {
    "duration": 185,
    "start_time": "2021-07-08T09:10:53.181Z"
   },
   {
    "duration": 11,
    "start_time": "2021-07-08T09:10:59.549Z"
   },
   {
    "duration": 42,
    "start_time": "2021-07-08T09:10:59.709Z"
   },
   {
    "duration": 12,
    "start_time": "2021-07-08T09:11:02.857Z"
   },
   {
    "duration": 28,
    "start_time": "2021-07-08T09:11:10.062Z"
   },
   {
    "duration": 249,
    "start_time": "2021-07-08T09:11:37.388Z"
   },
   {
    "duration": 232,
    "start_time": "2021-07-08T09:11:49.485Z"
   },
   {
    "duration": 453,
    "start_time": "2021-07-08T09:12:01.546Z"
   },
   {
    "duration": 440,
    "start_time": "2021-07-08T09:12:12.347Z"
   },
   {
    "duration": 213,
    "start_time": "2021-07-08T09:13:32.196Z"
   },
   {
    "duration": 172,
    "start_time": "2021-07-08T09:14:07.400Z"
   },
   {
    "duration": 185,
    "start_time": "2021-07-08T09:14:14.905Z"
   },
   {
    "duration": 209,
    "start_time": "2021-07-08T09:14:40.109Z"
   },
   {
    "duration": 201,
    "start_time": "2021-07-08T09:14:54.506Z"
   },
   {
    "duration": 622,
    "start_time": "2021-07-08T09:18:14.497Z"
   },
   {
    "duration": 220,
    "start_time": "2021-07-08T09:18:15.121Z"
   },
   {
    "duration": 79,
    "start_time": "2021-07-08T09:18:15.343Z"
   },
   {
    "duration": 4,
    "start_time": "2021-07-08T09:18:15.425Z"
   },
   {
    "duration": 24,
    "start_time": "2021-07-08T09:18:15.431Z"
   },
   {
    "duration": 8,
    "start_time": "2021-07-08T09:18:15.457Z"
   },
   {
    "duration": 16,
    "start_time": "2021-07-08T09:18:15.466Z"
   },
   {
    "duration": 5,
    "start_time": "2021-07-08T09:18:15.484Z"
   },
   {
    "duration": 10,
    "start_time": "2021-07-08T09:18:15.493Z"
   },
   {
    "duration": 8,
    "start_time": "2021-07-08T09:18:15.504Z"
   },
   {
    "duration": 7,
    "start_time": "2021-07-08T09:18:15.513Z"
   },
   {
    "duration": 26,
    "start_time": "2021-07-08T09:18:15.522Z"
   },
   {
    "duration": 49,
    "start_time": "2021-07-08T09:18:15.550Z"
   },
   {
    "duration": 21,
    "start_time": "2021-07-08T09:18:15.601Z"
   },
   {
    "duration": 8,
    "start_time": "2021-07-08T09:18:15.624Z"
   },
   {
    "duration": 3,
    "start_time": "2021-07-08T09:18:15.634Z"
   },
   {
    "duration": 8,
    "start_time": "2021-07-08T09:18:15.639Z"
   },
   {
    "duration": 45,
    "start_time": "2021-07-08T09:18:15.649Z"
   },
   {
    "duration": 13,
    "start_time": "2021-07-08T09:18:15.696Z"
   },
   {
    "duration": 10,
    "start_time": "2021-07-08T09:18:15.711Z"
   },
   {
    "duration": 64,
    "start_time": "2021-07-08T09:18:15.722Z"
   },
   {
    "duration": 19,
    "start_time": "2021-07-08T09:18:15.788Z"
   },
   {
    "duration": 9,
    "start_time": "2021-07-08T09:18:15.809Z"
   },
   {
    "duration": 9,
    "start_time": "2021-07-08T09:18:15.820Z"
   },
   {
    "duration": 18,
    "start_time": "2021-07-08T09:18:15.831Z"
   },
   {
    "duration": 43,
    "start_time": "2021-07-08T09:18:15.851Z"
   },
   {
    "duration": 12,
    "start_time": "2021-07-08T09:18:15.897Z"
   },
   {
    "duration": 219,
    "start_time": "2021-07-08T09:18:15.911Z"
   },
   {
    "duration": 8,
    "start_time": "2021-07-08T09:18:16.132Z"
   },
   {
    "duration": 199,
    "start_time": "2021-07-08T09:18:16.141Z"
   },
   {
    "duration": 18,
    "start_time": "2021-07-08T09:18:16.341Z"
   },
   {
    "duration": 24,
    "start_time": "2021-07-08T09:18:16.361Z"
   },
   {
    "duration": 24,
    "start_time": "2021-07-08T09:18:16.387Z"
   },
   {
    "duration": 211,
    "start_time": "2021-07-08T09:18:16.413Z"
   },
   {
    "duration": 18,
    "start_time": "2021-07-08T09:18:16.626Z"
   },
   {
    "duration": 596,
    "start_time": "2021-07-08T10:06:33.623Z"
   },
   {
    "duration": 181,
    "start_time": "2021-07-08T10:06:34.221Z"
   },
   {
    "duration": 176,
    "start_time": "2021-07-08T10:06:34.635Z"
   },
   {
    "duration": 239,
    "start_time": "2021-07-08T10:06:55.572Z"
   },
   {
    "duration": 6,
    "start_time": "2021-07-08T10:06:57.687Z"
   },
   {
    "duration": 4,
    "start_time": "2021-07-08T10:07:03.956Z"
   },
   {
    "duration": 4,
    "start_time": "2021-07-08T10:07:10.376Z"
   },
   {
    "duration": 4,
    "start_time": "2021-07-08T10:17:19.889Z"
   },
   {
    "duration": 3,
    "start_time": "2021-07-08T10:19:19.407Z"
   },
   {
    "duration": 197,
    "start_time": "2021-07-08T10:19:19.412Z"
   },
   {
    "duration": 127,
    "start_time": "2021-07-08T10:19:19.611Z"
   },
   {
    "duration": 4,
    "start_time": "2021-07-08T10:19:19.740Z"
   },
   {
    "duration": 27,
    "start_time": "2021-07-08T10:19:19.746Z"
   },
   {
    "duration": 7,
    "start_time": "2021-07-08T10:19:19.775Z"
   },
   {
    "duration": 30,
    "start_time": "2021-07-08T10:19:19.784Z"
   },
   {
    "duration": 7,
    "start_time": "2021-07-08T10:19:19.817Z"
   },
   {
    "duration": 26,
    "start_time": "2021-07-08T10:19:19.826Z"
   },
   {
    "duration": 18,
    "start_time": "2021-07-08T10:19:19.854Z"
   },
   {
    "duration": 14,
    "start_time": "2021-07-08T10:19:19.874Z"
   },
   {
    "duration": 48,
    "start_time": "2021-07-08T10:19:19.890Z"
   },
   {
    "duration": 17,
    "start_time": "2021-07-08T10:19:19.940Z"
   },
   {
    "duration": 38,
    "start_time": "2021-07-08T10:19:19.959Z"
   },
   {
    "duration": 8,
    "start_time": "2021-07-08T10:19:19.999Z"
   },
   {
    "duration": 15,
    "start_time": "2021-07-08T10:19:20.009Z"
   },
   {
    "duration": 22,
    "start_time": "2021-07-08T10:19:20.026Z"
   },
   {
    "duration": 10,
    "start_time": "2021-07-08T10:19:20.050Z"
   },
   {
    "duration": 10,
    "start_time": "2021-07-08T10:19:20.062Z"
   },
   {
    "duration": 20,
    "start_time": "2021-07-08T10:19:20.073Z"
   },
   {
    "duration": 29,
    "start_time": "2021-07-08T10:19:20.095Z"
   },
   {
    "duration": 17,
    "start_time": "2021-07-08T10:19:20.126Z"
   },
   {
    "duration": 40,
    "start_time": "2021-07-08T10:19:20.146Z"
   },
   {
    "duration": 15,
    "start_time": "2021-07-08T10:19:20.189Z"
   },
   {
    "duration": 19,
    "start_time": "2021-07-08T10:19:20.206Z"
   },
   {
    "duration": 10,
    "start_time": "2021-07-08T10:19:20.226Z"
   },
   {
    "duration": 11,
    "start_time": "2021-07-08T10:19:20.238Z"
   },
   {
    "duration": 297,
    "start_time": "2021-07-08T10:19:20.250Z"
   },
   {
    "duration": 6,
    "start_time": "2021-07-08T10:19:20.549Z"
   },
   {
    "duration": 191,
    "start_time": "2021-07-08T10:19:20.557Z"
   },
   {
    "duration": 19,
    "start_time": "2021-07-08T10:19:20.750Z"
   },
   {
    "duration": 20,
    "start_time": "2021-07-08T10:19:20.771Z"
   },
   {
    "duration": 15,
    "start_time": "2021-07-08T10:19:20.793Z"
   },
   {
    "duration": 222,
    "start_time": "2021-07-08T10:19:20.809Z"
   },
   {
    "duration": 20,
    "start_time": "2021-07-08T10:19:21.033Z"
   },
   {
    "duration": 27,
    "start_time": "2021-07-08T10:45:04.055Z"
   },
   {
    "duration": 8,
    "start_time": "2021-07-08T10:45:08.478Z"
   },
   {
    "duration": 8,
    "start_time": "2021-07-08T10:45:31.982Z"
   },
   {
    "duration": 10,
    "start_time": "2021-07-08T10:46:01.221Z"
   },
   {
    "duration": 17,
    "start_time": "2021-07-08T10:46:40.011Z"
   },
   {
    "duration": 193,
    "start_time": "2021-07-08T10:48:19.471Z"
   },
   {
    "duration": 225,
    "start_time": "2021-07-08T10:49:26.480Z"
   },
   {
    "duration": 204,
    "start_time": "2021-07-08T10:49:59.992Z"
   },
   {
    "duration": 435,
    "start_time": "2021-07-08T10:50:06.779Z"
   },
   {
    "duration": 199,
    "start_time": "2021-07-08T10:50:14.891Z"
   },
   {
    "duration": 204,
    "start_time": "2021-07-08T10:50:18.501Z"
   },
   {
    "duration": 244,
    "start_time": "2021-07-08T10:50:23.359Z"
   },
   {
    "duration": 192,
    "start_time": "2021-07-08T10:50:29.135Z"
   },
   {
    "duration": 218,
    "start_time": "2021-07-08T10:50:33.092Z"
   },
   {
    "duration": 207,
    "start_time": "2021-07-08T10:52:45.381Z"
   },
   {
    "duration": 5,
    "start_time": "2021-07-08T10:53:34.641Z"
   },
   {
    "duration": 196,
    "start_time": "2021-07-08T10:53:41.478Z"
   },
   {
    "duration": 43,
    "start_time": "2021-07-08T10:53:50.335Z"
   },
   {
    "duration": 32,
    "start_time": "2021-07-08T10:53:55.294Z"
   },
   {
    "duration": 55,
    "start_time": "2021-07-08T10:54:09.675Z"
   },
   {
    "duration": 16,
    "start_time": "2021-07-08T10:54:12.260Z"
   },
   {
    "duration": 15,
    "start_time": "2021-07-08T10:54:49.150Z"
   },
   {
    "duration": 20,
    "start_time": "2021-07-08T10:56:07.596Z"
   },
   {
    "duration": 16,
    "start_time": "2021-07-08T10:58:26.276Z"
   },
   {
    "duration": 22,
    "start_time": "2021-07-08T10:59:00.486Z"
   },
   {
    "duration": 18,
    "start_time": "2021-07-08T11:02:09.653Z"
   },
   {
    "duration": 10,
    "start_time": "2021-07-08T11:03:44.331Z"
   },
   {
    "duration": 10,
    "start_time": "2021-07-08T11:03:54.055Z"
   },
   {
    "duration": 12,
    "start_time": "2021-07-08T11:04:41.967Z"
   },
   {
    "duration": 24,
    "start_time": "2021-07-08T11:07:30.732Z"
   },
   {
    "duration": 6,
    "start_time": "2021-07-08T11:07:37.364Z"
   },
   {
    "duration": 16,
    "start_time": "2021-07-08T11:08:01.819Z"
   },
   {
    "duration": 17,
    "start_time": "2021-07-08T11:09:47.488Z"
   },
   {
    "duration": 246,
    "start_time": "2021-07-08T11:10:00.830Z"
   },
   {
    "duration": 18,
    "start_time": "2021-07-08T11:13:55.195Z"
   },
   {
    "duration": 204,
    "start_time": "2021-07-08T11:14:04.951Z"
   },
   {
    "duration": 19,
    "start_time": "2021-07-08T11:15:10.613Z"
   },
   {
    "duration": 680,
    "start_time": "2021-07-08T11:16:25.793Z"
   },
   {
    "duration": 451,
    "start_time": "2021-07-08T11:16:40.313Z"
   },
   {
    "duration": 469,
    "start_time": "2021-07-08T11:17:21.286Z"
   },
   {
    "duration": 20,
    "start_time": "2021-07-08T11:19:12.554Z"
   },
   {
    "duration": 35,
    "start_time": "2021-07-08T11:20:05.484Z"
   },
   {
    "duration": 53,
    "start_time": "2021-07-08T11:21:40.050Z"
   },
   {
    "duration": 13,
    "start_time": "2021-07-08T11:22:26.059Z"
   },
   {
    "duration": 19,
    "start_time": "2021-07-08T11:22:47.419Z"
   },
   {
    "duration": 25,
    "start_time": "2021-07-08T11:23:19.958Z"
   },
   {
    "duration": 29,
    "start_time": "2021-07-08T11:23:25.415Z"
   },
   {
    "duration": 10,
    "start_time": "2021-07-08T11:24:45.138Z"
   },
   {
    "duration": 19,
    "start_time": "2021-07-08T11:24:54.498Z"
   },
   {
    "duration": 12,
    "start_time": "2021-07-08T11:25:32.225Z"
   },
   {
    "duration": 19,
    "start_time": "2021-07-08T11:25:37.092Z"
   },
   {
    "duration": 17,
    "start_time": "2021-07-08T11:25:58.116Z"
   },
   {
    "duration": 15,
    "start_time": "2021-07-08T11:26:02.258Z"
   },
   {
    "duration": 8,
    "start_time": "2021-07-08T11:26:59.682Z"
   },
   {
    "duration": 184,
    "start_time": "2021-07-08T11:27:21.894Z"
   },
   {
    "duration": 8,
    "start_time": "2021-07-08T11:27:23.824Z"
   },
   {
    "duration": 202,
    "start_time": "2021-07-08T11:27:23.962Z"
   },
   {
    "duration": 360,
    "start_time": "2021-07-08T11:28:33.215Z"
   },
   {
    "duration": 231,
    "start_time": "2021-07-08T11:32:05.542Z"
   },
   {
    "duration": 607,
    "start_time": "2021-07-08T11:36:27.854Z"
   },
   {
    "duration": 241,
    "start_time": "2021-07-08T11:36:28.463Z"
   },
   {
    "duration": 67,
    "start_time": "2021-07-08T11:36:28.709Z"
   },
   {
    "duration": 5,
    "start_time": "2021-07-08T11:36:28.778Z"
   },
   {
    "duration": 32,
    "start_time": "2021-07-08T11:36:28.784Z"
   },
   {
    "duration": 11,
    "start_time": "2021-07-08T11:36:28.819Z"
   },
   {
    "duration": 20,
    "start_time": "2021-07-08T11:36:28.834Z"
   },
   {
    "duration": 36,
    "start_time": "2021-07-08T11:36:28.857Z"
   },
   {
    "duration": 16,
    "start_time": "2021-07-08T11:36:28.895Z"
   },
   {
    "duration": 14,
    "start_time": "2021-07-08T11:36:28.913Z"
   },
   {
    "duration": 9,
    "start_time": "2021-07-08T11:36:28.930Z"
   },
   {
    "duration": 55,
    "start_time": "2021-07-08T11:36:28.941Z"
   },
   {
    "duration": 27,
    "start_time": "2021-07-08T11:36:28.999Z"
   },
   {
    "duration": 30,
    "start_time": "2021-07-08T11:36:29.028Z"
   },
   {
    "duration": 31,
    "start_time": "2021-07-08T11:36:29.060Z"
   },
   {
    "duration": 3,
    "start_time": "2021-07-08T11:36:29.093Z"
   },
   {
    "duration": 12,
    "start_time": "2021-07-08T11:36:29.099Z"
   },
   {
    "duration": 11,
    "start_time": "2021-07-08T11:36:29.112Z"
   },
   {
    "duration": 12,
    "start_time": "2021-07-08T11:36:29.125Z"
   },
   {
    "duration": 9,
    "start_time": "2021-07-08T11:36:29.139Z"
   },
   {
    "duration": 31,
    "start_time": "2021-07-08T11:36:29.191Z"
   },
   {
    "duration": 17,
    "start_time": "2021-07-08T11:36:29.226Z"
   },
   {
    "duration": 7,
    "start_time": "2021-07-08T11:36:29.245Z"
   },
   {
    "duration": 10,
    "start_time": "2021-07-08T11:36:29.254Z"
   },
   {
    "duration": 30,
    "start_time": "2021-07-08T11:36:29.292Z"
   },
   {
    "duration": 11,
    "start_time": "2021-07-08T11:36:29.324Z"
   },
   {
    "duration": 11,
    "start_time": "2021-07-08T11:36:29.337Z"
   },
   {
    "duration": 230,
    "start_time": "2021-07-08T11:36:29.349Z"
   },
   {
    "duration": 13,
    "start_time": "2021-07-08T11:36:29.588Z"
   },
   {
    "duration": 205,
    "start_time": "2021-07-08T11:36:29.603Z"
   },
   {
    "duration": 20,
    "start_time": "2021-07-08T11:36:29.810Z"
   },
   {
    "duration": 9,
    "start_time": "2021-07-08T11:36:29.832Z"
   },
   {
    "duration": 16,
    "start_time": "2021-07-08T11:36:29.843Z"
   },
   {
    "duration": 283,
    "start_time": "2021-07-08T11:36:29.861Z"
   },
   {
    "duration": 50,
    "start_time": "2021-07-08T11:36:30.146Z"
   },
   {
    "duration": 14,
    "start_time": "2021-07-08T11:36:30.198Z"
   },
   {
    "duration": 11,
    "start_time": "2021-07-08T11:36:30.214Z"
   },
   {
    "duration": 245,
    "start_time": "2021-07-08T11:36:30.227Z"
   },
   {
    "duration": 439,
    "start_time": "2021-07-08T11:36:30.474Z"
   },
   {
    "duration": 210,
    "start_time": "2021-07-08T11:36:30.915Z"
   },
   {
    "duration": 15,
    "start_time": "2021-07-08T11:36:31.127Z"
   },
   {
    "duration": 17,
    "start_time": "2021-07-08T11:38:20.451Z"
   },
   {
    "duration": 642,
    "start_time": "2021-07-08T11:46:17.881Z"
   },
   {
    "duration": 210,
    "start_time": "2021-07-08T11:46:18.525Z"
   },
   {
    "duration": 104,
    "start_time": "2021-07-08T11:46:18.741Z"
   },
   {
    "duration": 8,
    "start_time": "2021-07-08T11:46:18.847Z"
   },
   {
    "duration": 25,
    "start_time": "2021-07-08T11:46:18.857Z"
   },
   {
    "duration": 14,
    "start_time": "2021-07-08T11:46:18.884Z"
   },
   {
    "duration": 22,
    "start_time": "2021-07-08T11:46:18.900Z"
   },
   {
    "duration": 5,
    "start_time": "2021-07-08T11:46:18.924Z"
   },
   {
    "duration": 13,
    "start_time": "2021-07-08T11:46:18.931Z"
   },
   {
    "duration": 45,
    "start_time": "2021-07-08T11:46:18.946Z"
   },
   {
    "duration": 12,
    "start_time": "2021-07-08T11:46:18.993Z"
   },
   {
    "duration": 38,
    "start_time": "2021-07-08T11:46:19.006Z"
   },
   {
    "duration": 50,
    "start_time": "2021-07-08T11:46:19.046Z"
   },
   {
    "duration": 29,
    "start_time": "2021-07-08T11:46:19.099Z"
   },
   {
    "duration": 7,
    "start_time": "2021-07-08T11:46:19.130Z"
   },
   {
    "duration": 3,
    "start_time": "2021-07-08T11:46:19.139Z"
   },
   {
    "duration": 11,
    "start_time": "2021-07-08T11:46:19.144Z"
   },
   {
    "duration": 40,
    "start_time": "2021-07-08T11:46:19.157Z"
   },
   {
    "duration": 15,
    "start_time": "2021-07-08T11:46:19.199Z"
   },
   {
    "duration": 10,
    "start_time": "2021-07-08T11:46:19.217Z"
   },
   {
    "duration": 68,
    "start_time": "2021-07-08T11:46:19.230Z"
   },
   {
    "duration": 17,
    "start_time": "2021-07-08T11:46:19.301Z"
   },
   {
    "duration": 7,
    "start_time": "2021-07-08T11:46:19.321Z"
   },
   {
    "duration": 11,
    "start_time": "2021-07-08T11:46:19.330Z"
   },
   {
    "duration": 59,
    "start_time": "2021-07-08T11:46:19.343Z"
   },
   {
    "duration": 17,
    "start_time": "2021-07-08T11:46:19.405Z"
   },
   {
    "duration": 16,
    "start_time": "2021-07-08T11:46:19.424Z"
   },
   {
    "duration": 252,
    "start_time": "2021-07-08T11:46:19.443Z"
   },
   {
    "duration": 9,
    "start_time": "2021-07-08T11:46:19.697Z"
   },
   {
    "duration": 224,
    "start_time": "2021-07-08T11:46:19.708Z"
   },
   {
    "duration": 21,
    "start_time": "2021-07-08T11:46:19.934Z"
   },
   {
    "duration": 9,
    "start_time": "2021-07-08T11:46:19.956Z"
   },
   {
    "duration": 32,
    "start_time": "2021-07-08T11:46:19.967Z"
   },
   {
    "duration": 288,
    "start_time": "2021-07-08T11:46:20.004Z"
   },
   {
    "duration": 23,
    "start_time": "2021-07-08T11:46:20.300Z"
   },
   {
    "duration": 11,
    "start_time": "2021-07-08T11:46:20.325Z"
   },
   {
    "duration": 11,
    "start_time": "2021-07-08T11:46:20.339Z"
   },
   {
    "duration": 259,
    "start_time": "2021-07-08T11:46:20.352Z"
   },
   {
    "duration": 438,
    "start_time": "2021-07-08T11:46:20.613Z"
   },
   {
    "duration": 207,
    "start_time": "2021-07-08T11:46:21.054Z"
   },
   {
    "duration": 27,
    "start_time": "2021-07-08T11:46:21.262Z"
   },
   {
    "duration": 19,
    "start_time": "2021-07-08T11:46:21.291Z"
   },
   {
    "duration": 820,
    "start_time": "2021-07-08T11:49:01.655Z"
   },
   {
    "duration": 372,
    "start_time": "2021-07-08T11:49:02.478Z"
   },
   {
    "duration": 98,
    "start_time": "2021-07-08T11:49:02.853Z"
   },
   {
    "duration": 6,
    "start_time": "2021-07-08T11:49:02.953Z"
   },
   {
    "duration": 39,
    "start_time": "2021-07-08T11:49:02.960Z"
   },
   {
    "duration": 9,
    "start_time": "2021-07-08T11:49:03.003Z"
   },
   {
    "duration": 23,
    "start_time": "2021-07-08T11:49:03.014Z"
   },
   {
    "duration": 6,
    "start_time": "2021-07-08T11:49:03.041Z"
   },
   {
    "duration": 20,
    "start_time": "2021-07-08T11:49:03.049Z"
   },
   {
    "duration": 18,
    "start_time": "2021-07-08T11:49:03.084Z"
   },
   {
    "duration": 14,
    "start_time": "2021-07-08T11:49:03.104Z"
   },
   {
    "duration": 39,
    "start_time": "2021-07-08T11:49:03.119Z"
   },
   {
    "duration": 38,
    "start_time": "2021-07-08T11:49:03.160Z"
   },
   {
    "duration": 26,
    "start_time": "2021-07-08T11:49:03.200Z"
   },
   {
    "duration": 7,
    "start_time": "2021-07-08T11:49:03.227Z"
   },
   {
    "duration": 4,
    "start_time": "2021-07-08T11:49:03.236Z"
   },
   {
    "duration": 15,
    "start_time": "2021-07-08T11:49:03.243Z"
   },
   {
    "duration": 21,
    "start_time": "2021-07-08T11:49:03.285Z"
   },
   {
    "duration": 17,
    "start_time": "2021-07-08T11:49:03.309Z"
   },
   {
    "duration": 10,
    "start_time": "2021-07-08T11:49:03.328Z"
   },
   {
    "duration": 65,
    "start_time": "2021-07-08T11:49:03.340Z"
   },
   {
    "duration": 18,
    "start_time": "2021-07-08T11:49:03.407Z"
   },
   {
    "duration": 8,
    "start_time": "2021-07-08T11:49:03.428Z"
   },
   {
    "duration": 15,
    "start_time": "2021-07-08T11:49:03.438Z"
   },
   {
    "duration": 40,
    "start_time": "2021-07-08T11:49:03.455Z"
   },
   {
    "duration": 12,
    "start_time": "2021-07-08T11:49:03.497Z"
   },
   {
    "duration": 29,
    "start_time": "2021-07-08T11:49:03.511Z"
   },
   {
    "duration": 285,
    "start_time": "2021-07-08T11:49:03.542Z"
   },
   {
    "duration": 8,
    "start_time": "2021-07-08T11:49:03.829Z"
   },
   {
    "duration": 227,
    "start_time": "2021-07-08T11:49:03.838Z"
   },
   {
    "duration": 40,
    "start_time": "2021-07-08T11:49:04.066Z"
   },
   {
    "duration": 10,
    "start_time": "2021-07-08T11:49:04.108Z"
   },
   {
    "duration": 26,
    "start_time": "2021-07-08T11:49:04.121Z"
   },
   {
    "duration": 290,
    "start_time": "2021-07-08T11:49:04.149Z"
   },
   {
    "duration": 26,
    "start_time": "2021-07-08T11:49:04.441Z"
   },
   {
    "duration": 31,
    "start_time": "2021-07-08T11:49:04.470Z"
   },
   {
    "duration": 14,
    "start_time": "2021-07-08T11:49:04.503Z"
   },
   {
    "duration": 259,
    "start_time": "2021-07-08T11:49:04.521Z"
   },
   {
    "duration": 480,
    "start_time": "2021-07-08T11:49:04.782Z"
   },
   {
    "duration": 225,
    "start_time": "2021-07-08T11:49:05.264Z"
   },
   {
    "duration": 22,
    "start_time": "2021-07-08T11:49:05.491Z"
   },
   {
    "duration": 24,
    "start_time": "2021-07-08T11:49:05.515Z"
   },
   {
    "duration": 634,
    "start_time": "2021-07-08T11:52:24.960Z"
   },
   {
    "duration": 199,
    "start_time": "2021-07-08T11:52:25.599Z"
   },
   {
    "duration": 106,
    "start_time": "2021-07-08T11:52:25.803Z"
   },
   {
    "duration": 7,
    "start_time": "2021-07-08T11:52:25.911Z"
   },
   {
    "duration": 29,
    "start_time": "2021-07-08T11:52:25.920Z"
   },
   {
    "duration": 7,
    "start_time": "2021-07-08T11:52:25.951Z"
   },
   {
    "duration": 26,
    "start_time": "2021-07-08T11:52:25.961Z"
   },
   {
    "duration": 11,
    "start_time": "2021-07-08T11:52:25.990Z"
   },
   {
    "duration": 29,
    "start_time": "2021-07-08T11:52:26.005Z"
   },
   {
    "duration": 9,
    "start_time": "2021-07-08T11:52:26.036Z"
   },
   {
    "duration": 8,
    "start_time": "2021-07-08T11:52:26.047Z"
   },
   {
    "duration": 63,
    "start_time": "2021-07-08T11:52:26.057Z"
   },
   {
    "duration": 17,
    "start_time": "2021-07-08T11:52:26.122Z"
   },
   {
    "duration": 43,
    "start_time": "2021-07-08T11:52:26.142Z"
   },
   {
    "duration": 17,
    "start_time": "2021-07-08T11:52:26.187Z"
   },
   {
    "duration": 5,
    "start_time": "2021-07-08T11:52:26.206Z"
   },
   {
    "duration": 12,
    "start_time": "2021-07-08T11:52:26.212Z"
   },
   {
    "duration": 11,
    "start_time": "2021-07-08T11:52:26.226Z"
   },
   {
    "duration": 12,
    "start_time": "2021-07-08T11:52:26.238Z"
   },
   {
    "duration": 38,
    "start_time": "2021-07-08T11:52:26.252Z"
   },
   {
    "duration": 40,
    "start_time": "2021-07-08T11:52:26.292Z"
   },
   {
    "duration": 17,
    "start_time": "2021-07-08T11:52:26.336Z"
   },
   {
    "duration": 39,
    "start_time": "2021-07-08T11:52:26.355Z"
   },
   {
    "duration": 11,
    "start_time": "2021-07-08T11:52:26.395Z"
   },
   {
    "duration": 23,
    "start_time": "2021-07-08T11:52:26.408Z"
   },
   {
    "duration": 12,
    "start_time": "2021-07-08T11:52:26.432Z"
   },
   {
    "duration": 41,
    "start_time": "2021-07-08T11:52:26.446Z"
   },
   {
    "duration": 215,
    "start_time": "2021-07-08T11:52:26.493Z"
   },
   {
    "duration": 8,
    "start_time": "2021-07-08T11:52:26.710Z"
   },
   {
    "duration": 228,
    "start_time": "2021-07-08T11:52:26.720Z"
   },
   {
    "duration": 18,
    "start_time": "2021-07-08T11:52:26.950Z"
   },
   {
    "duration": 35,
    "start_time": "2021-07-08T11:52:26.969Z"
   },
   {
    "duration": 23,
    "start_time": "2021-07-08T11:52:27.006Z"
   },
   {
    "duration": 258,
    "start_time": "2021-07-08T11:52:27.030Z"
   },
   {
    "duration": 24,
    "start_time": "2021-07-08T11:52:27.290Z"
   },
   {
    "duration": 12,
    "start_time": "2021-07-08T11:52:27.316Z"
   },
   {
    "duration": 10,
    "start_time": "2021-07-08T11:52:27.329Z"
   },
   {
    "duration": 298,
    "start_time": "2021-07-08T11:52:27.341Z"
   },
   {
    "duration": 436,
    "start_time": "2021-07-08T11:52:27.641Z"
   },
   {
    "duration": 216,
    "start_time": "2021-07-08T11:52:28.079Z"
   },
   {
    "duration": 20,
    "start_time": "2021-07-08T11:52:28.297Z"
   },
   {
    "duration": 17,
    "start_time": "2021-07-08T11:52:28.319Z"
   },
   {
    "duration": 45,
    "start_time": "2022-06-24T04:35:48.717Z"
   },
   {
    "duration": 45,
    "start_time": "2022-06-24T04:35:52.575Z"
   },
   {
    "duration": 41,
    "start_time": "2022-06-24T04:36:14.689Z"
   },
   {
    "duration": 42,
    "start_time": "2022-06-24T04:36:23.069Z"
   },
   {
    "duration": 387,
    "start_time": "2022-06-24T04:36:29.271Z"
   },
   {
    "duration": 60,
    "start_time": "2022-06-24T04:36:31.840Z"
   },
   {
    "duration": 190,
    "start_time": "2022-06-24T04:38:11.733Z"
   },
   {
    "duration": 8,
    "start_time": "2022-06-24T04:38:35.712Z"
   },
   {
    "duration": 83,
    "start_time": "2022-06-24T04:38:49.993Z"
   },
   {
    "duration": 7,
    "start_time": "2022-06-24T04:38:50.609Z"
   },
   {
    "duration": 21,
    "start_time": "2022-06-24T04:39:12.198Z"
   },
   {
    "duration": 42,
    "start_time": "2022-06-24T04:40:55.917Z"
   },
   {
    "duration": 78,
    "start_time": "2022-06-24T04:41:03.609Z"
   },
   {
    "duration": 9,
    "start_time": "2022-06-24T04:41:38.680Z"
   },
   {
    "duration": 44,
    "start_time": "2022-06-24T04:41:56.905Z"
   },
   {
    "duration": 7,
    "start_time": "2022-06-24T04:42:00.701Z"
   },
   {
    "duration": 9,
    "start_time": "2022-06-24T04:42:03.206Z"
   },
   {
    "duration": 7,
    "start_time": "2022-06-24T04:42:15.822Z"
   },
   {
    "duration": 19,
    "start_time": "2022-06-24T04:42:33.643Z"
   },
   {
    "duration": 10,
    "start_time": "2022-06-24T04:42:38.942Z"
   },
   {
    "duration": 79,
    "start_time": "2022-06-24T04:48:49.037Z"
   },
   {
    "duration": 45,
    "start_time": "2022-06-24T04:49:51.474Z"
   },
   {
    "duration": 9,
    "start_time": "2022-06-24T04:51:50.046Z"
   },
   {
    "duration": 43,
    "start_time": "2022-06-24T04:52:27.683Z"
   },
   {
    "duration": 10,
    "start_time": "2022-06-24T04:52:29.989Z"
   },
   {
    "duration": 13,
    "start_time": "2022-06-24T04:52:34.308Z"
   },
   {
    "duration": 7,
    "start_time": "2022-06-24T04:52:38.359Z"
   },
   {
    "duration": 15,
    "start_time": "2022-06-24T04:52:56.592Z"
   },
   {
    "duration": 14,
    "start_time": "2022-06-24T04:53:30.593Z"
   },
   {
    "duration": 13,
    "start_time": "2022-06-24T04:53:38.511Z"
   },
   {
    "duration": 8,
    "start_time": "2022-06-24T05:01:04.816Z"
   },
   {
    "duration": 4,
    "start_time": "2022-06-24T05:02:29.757Z"
   },
   {
    "duration": 8,
    "start_time": "2022-06-24T05:03:30.119Z"
   },
   {
    "duration": 4,
    "start_time": "2022-06-24T05:04:44.844Z"
   },
   {
    "duration": 19,
    "start_time": "2022-06-24T05:05:17.567Z"
   },
   {
    "duration": 53,
    "start_time": "2022-06-24T05:05:56.334Z"
   },
   {
    "duration": 13,
    "start_time": "2022-06-24T05:06:01.701Z"
   },
   {
    "duration": 11,
    "start_time": "2022-06-24T05:06:14.054Z"
   },
   {
    "duration": 85,
    "start_time": "2022-06-24T05:11:40.743Z"
   },
   {
    "duration": 16,
    "start_time": "2022-06-24T05:12:27.881Z"
   },
   {
    "duration": 16,
    "start_time": "2022-06-24T05:13:52.588Z"
   },
   {
    "duration": 15,
    "start_time": "2022-06-24T05:14:08.143Z"
   },
   {
    "duration": 12,
    "start_time": "2022-06-24T05:14:19.921Z"
   },
   {
    "duration": 12,
    "start_time": "2022-06-24T05:14:29.390Z"
   },
   {
    "duration": 32,
    "start_time": "2022-06-24T05:14:49.880Z"
   },
   {
    "duration": 34,
    "start_time": "2022-06-24T05:15:57.236Z"
   },
   {
    "duration": 12,
    "start_time": "2022-06-24T05:19:14.776Z"
   },
   {
    "duration": 37,
    "start_time": "2022-06-24T05:19:28.169Z"
   },
   {
    "duration": 11,
    "start_time": "2022-06-24T05:19:48.098Z"
   },
   {
    "duration": 24,
    "start_time": "2022-06-24T05:20:09.796Z"
   },
   {
    "duration": 14,
    "start_time": "2022-06-24T05:20:39.170Z"
   },
   {
    "duration": 14,
    "start_time": "2022-06-24T05:20:55.033Z"
   },
   {
    "duration": 14,
    "start_time": "2022-06-24T05:20:58.624Z"
   },
   {
    "duration": 5,
    "start_time": "2022-06-24T05:21:26.416Z"
   },
   {
    "duration": 802,
    "start_time": "2022-06-24T05:21:38.295Z"
   },
   {
    "duration": 6,
    "start_time": "2022-06-24T05:21:46.390Z"
   },
   {
    "duration": 403,
    "start_time": "2022-06-24T05:23:46.460Z"
   },
   {
    "duration": 83,
    "start_time": "2022-06-24T05:23:46.941Z"
   },
   {
    "duration": 44,
    "start_time": "2022-06-24T05:23:48.036Z"
   },
   {
    "duration": 21,
    "start_time": "2022-06-24T05:23:48.974Z"
   },
   {
    "duration": 10,
    "start_time": "2022-06-24T05:23:49.988Z"
   },
   {
    "duration": 15,
    "start_time": "2022-06-24T05:23:51.221Z"
   },
   {
    "duration": 72,
    "start_time": "2022-06-24T05:23:51.694Z"
   },
   {
    "duration": 8,
    "start_time": "2022-06-24T05:24:27.097Z"
   },
   {
    "duration": 7,
    "start_time": "2022-06-24T05:24:31.541Z"
   },
   {
    "duration": 14,
    "start_time": "2022-06-24T05:24:49.255Z"
   },
   {
    "duration": 19,
    "start_time": "2022-06-24T05:25:28.850Z"
   },
   {
    "duration": 8,
    "start_time": "2022-06-24T05:25:55.943Z"
   },
   {
    "duration": 13,
    "start_time": "2022-06-24T05:26:03.571Z"
   },
   {
    "duration": 11,
    "start_time": "2022-06-24T05:26:11.447Z"
   },
   {
    "duration": 2,
    "start_time": "2022-06-24T05:26:15.271Z"
   },
   {
    "duration": 81,
    "start_time": "2022-06-24T05:26:15.545Z"
   },
   {
    "duration": 34,
    "start_time": "2022-06-24T05:26:15.773Z"
   },
   {
    "duration": 17,
    "start_time": "2022-06-24T05:26:16.173Z"
   },
   {
    "duration": 14,
    "start_time": "2022-06-24T05:26:19.486Z"
   },
   {
    "duration": 10,
    "start_time": "2022-06-24T05:26:23.130Z"
   },
   {
    "duration": 7,
    "start_time": "2022-06-24T05:26:25.969Z"
   },
   {
    "duration": 8,
    "start_time": "2022-06-24T05:26:26.849Z"
   },
   {
    "duration": 14,
    "start_time": "2022-06-24T05:26:34.619Z"
   },
   {
    "duration": 186,
    "start_time": "2022-06-24T05:27:32.180Z"
   },
   {
    "duration": 8,
    "start_time": "2022-06-24T05:30:12.755Z"
   },
   {
    "duration": 5,
    "start_time": "2022-06-24T05:30:21.549Z"
   },
   {
    "duration": 14,
    "start_time": "2022-06-24T05:30:24.766Z"
   },
   {
    "duration": 16,
    "start_time": "2022-06-24T05:30:29.439Z"
   },
   {
    "duration": 19,
    "start_time": "2022-06-24T05:30:46.000Z"
   },
   {
    "duration": 10,
    "start_time": "2022-06-24T05:30:50.698Z"
   },
   {
    "duration": 15,
    "start_time": "2022-06-24T05:31:48.228Z"
   },
   {
    "duration": 31,
    "start_time": "2022-06-24T05:31:54.406Z"
   },
   {
    "duration": 19,
    "start_time": "2022-06-24T05:32:07.262Z"
   },
   {
    "duration": 13,
    "start_time": "2022-06-24T05:32:09.484Z"
   },
   {
    "duration": 9,
    "start_time": "2022-06-24T05:32:19.136Z"
   },
   {
    "duration": 19,
    "start_time": "2022-06-24T05:32:28.188Z"
   },
   {
    "duration": 16,
    "start_time": "2022-06-24T05:33:45.082Z"
   },
   {
    "duration": 14,
    "start_time": "2022-06-24T05:34:10.241Z"
   },
   {
    "duration": 30,
    "start_time": "2022-06-24T05:35:00.080Z"
   },
   {
    "duration": 11,
    "start_time": "2022-06-24T05:36:37.706Z"
   },
   {
    "duration": 25,
    "start_time": "2022-06-24T05:36:46.746Z"
   },
   {
    "duration": 353,
    "start_time": "2022-06-24T05:37:00.119Z"
   },
   {
    "duration": 87,
    "start_time": "2022-06-24T05:37:00.474Z"
   },
   {
    "duration": 36,
    "start_time": "2022-06-24T05:37:00.563Z"
   },
   {
    "duration": 17,
    "start_time": "2022-06-24T05:37:00.601Z"
   },
   {
    "duration": 20,
    "start_time": "2022-06-24T05:37:00.620Z"
   },
   {
    "duration": 12,
    "start_time": "2022-06-24T05:37:00.642Z"
   },
   {
    "duration": 12,
    "start_time": "2022-06-24T05:37:00.656Z"
   },
   {
    "duration": 12,
    "start_time": "2022-06-24T05:37:00.670Z"
   },
   {
    "duration": 35,
    "start_time": "2022-06-24T05:37:00.684Z"
   },
   {
    "duration": 16,
    "start_time": "2022-06-24T05:37:00.722Z"
   },
   {
    "duration": 21,
    "start_time": "2022-06-24T05:37:00.740Z"
   },
   {
    "duration": 31,
    "start_time": "2022-06-24T05:37:00.763Z"
   },
   {
    "duration": 736,
    "start_time": "2022-06-24T05:37:51.527Z"
   },
   {
    "duration": 5,
    "start_time": "2022-06-24T05:38:22.872Z"
   },
   {
    "duration": 365,
    "start_time": "2022-06-24T05:38:33.597Z"
   },
   {
    "duration": 82,
    "start_time": "2022-06-24T05:38:33.964Z"
   },
   {
    "duration": 33,
    "start_time": "2022-06-24T05:38:34.048Z"
   },
   {
    "duration": 14,
    "start_time": "2022-06-24T05:38:34.083Z"
   },
   {
    "duration": 20,
    "start_time": "2022-06-24T05:38:34.100Z"
   },
   {
    "duration": 10,
    "start_time": "2022-06-24T05:38:34.122Z"
   },
   {
    "duration": 11,
    "start_time": "2022-06-24T05:38:34.133Z"
   },
   {
    "duration": 19,
    "start_time": "2022-06-24T05:38:34.145Z"
   },
   {
    "duration": 8,
    "start_time": "2022-06-24T05:38:34.165Z"
   },
   {
    "duration": 15,
    "start_time": "2022-06-24T05:38:34.174Z"
   },
   {
    "duration": 5,
    "start_time": "2022-06-24T05:38:34.191Z"
   },
   {
    "duration": 21,
    "start_time": "2022-06-24T05:38:34.198Z"
   },
   {
    "duration": 19,
    "start_time": "2022-06-24T05:38:54.123Z"
   },
   {
    "duration": 15,
    "start_time": "2022-06-24T05:41:18.750Z"
   },
   {
    "duration": 10,
    "start_time": "2022-06-24T05:44:15.228Z"
   },
   {
    "duration": 32,
    "start_time": "2022-06-24T06:10:09.377Z"
   },
   {
    "duration": 15,
    "start_time": "2022-06-24T06:22:08.041Z"
   },
   {
    "duration": 18,
    "start_time": "2022-06-24T06:22:13.937Z"
   },
   {
    "duration": 4,
    "start_time": "2022-06-24T06:24:04.238Z"
   },
   {
    "duration": 15,
    "start_time": "2022-06-24T06:31:28.343Z"
   },
   {
    "duration": 6,
    "start_time": "2022-06-24T06:37:39.742Z"
   },
   {
    "duration": 5,
    "start_time": "2022-06-24T06:40:34.636Z"
   },
   {
    "duration": 36,
    "start_time": "2022-06-24T06:44:42.622Z"
   },
   {
    "duration": 92,
    "start_time": "2022-06-24T06:50:11.767Z"
   },
   {
    "duration": 11,
    "start_time": "2022-06-24T06:50:28.478Z"
   },
   {
    "duration": 9,
    "start_time": "2022-06-24T06:50:46.669Z"
   },
   {
    "duration": 16,
    "start_time": "2022-06-24T06:50:50.146Z"
   },
   {
    "duration": 13,
    "start_time": "2022-06-24T06:51:05.898Z"
   },
   {
    "duration": 47,
    "start_time": "2022-06-24T06:51:11.675Z"
   },
   {
    "duration": 15,
    "start_time": "2022-06-24T06:51:12.740Z"
   },
   {
    "duration": 1076,
    "start_time": "2022-06-24T07:03:47.786Z"
   },
   {
    "duration": 830,
    "start_time": "2022-06-24T07:04:02.160Z"
   },
   {
    "duration": 928,
    "start_time": "2022-06-24T07:04:14.707Z"
   },
   {
    "duration": 24,
    "start_time": "2022-06-24T07:04:25.115Z"
   },
   {
    "duration": 861,
    "start_time": "2022-06-24T07:06:04.080Z"
   },
   {
    "duration": 880,
    "start_time": "2022-06-24T07:07:47.719Z"
   },
   {
    "duration": 910,
    "start_time": "2022-06-24T07:09:38.233Z"
   },
   {
    "duration": 1046,
    "start_time": "2022-06-24T07:09:42.075Z"
   },
   {
    "duration": 1312,
    "start_time": "2022-06-24T07:10:03.931Z"
   },
   {
    "duration": 893,
    "start_time": "2022-06-24T07:10:09.011Z"
   },
   {
    "duration": 516,
    "start_time": "2022-06-24T07:10:27.986Z"
   },
   {
    "duration": 122,
    "start_time": "2022-06-24T07:10:28.505Z"
   },
   {
    "duration": 35,
    "start_time": "2022-06-24T07:10:28.630Z"
   },
   {
    "duration": 26,
    "start_time": "2022-06-24T07:10:28.668Z"
   },
   {
    "duration": 21,
    "start_time": "2022-06-24T07:10:28.696Z"
   },
   {
    "duration": 20,
    "start_time": "2022-06-24T07:10:28.720Z"
   },
   {
    "duration": 35,
    "start_time": "2022-06-24T07:10:28.744Z"
   },
   {
    "duration": 29,
    "start_time": "2022-06-24T07:10:28.781Z"
   },
   {
    "duration": 25,
    "start_time": "2022-06-24T07:10:28.813Z"
   },
   {
    "duration": 47,
    "start_time": "2022-06-24T07:10:28.841Z"
   },
   {
    "duration": 39,
    "start_time": "2022-06-24T07:10:28.891Z"
   },
   {
    "duration": 29,
    "start_time": "2022-06-24T07:10:28.933Z"
   },
   {
    "duration": 1122,
    "start_time": "2022-06-24T07:10:28.964Z"
   },
   {
    "duration": 0,
    "start_time": "2022-06-24T07:10:30.089Z"
   },
   {
    "duration": 0,
    "start_time": "2022-06-24T07:10:30.093Z"
   },
   {
    "duration": 4,
    "start_time": "2022-06-24T07:11:16.613Z"
   },
   {
    "duration": 908,
    "start_time": "2022-06-24T07:11:33.079Z"
   },
   {
    "duration": 6,
    "start_time": "2022-06-24T07:11:41.750Z"
   },
   {
    "duration": 957,
    "start_time": "2022-06-24T07:11:45.756Z"
   },
   {
    "duration": 1003,
    "start_time": "2022-06-24T07:12:23.120Z"
   },
   {
    "duration": 887,
    "start_time": "2022-06-24T07:12:55.570Z"
   },
   {
    "duration": 31,
    "start_time": "2022-06-24T07:13:14.694Z"
   },
   {
    "duration": 14,
    "start_time": "2022-06-24T07:13:53.923Z"
   },
   {
    "duration": 13,
    "start_time": "2022-06-24T07:13:59.069Z"
   },
   {
    "duration": 945,
    "start_time": "2022-06-24T07:14:11.766Z"
   },
   {
    "duration": 7,
    "start_time": "2022-06-24T07:14:19.896Z"
   },
   {
    "duration": 5,
    "start_time": "2022-06-24T07:15:55.464Z"
   },
   {
    "duration": 5,
    "start_time": "2022-06-24T07:17:38.545Z"
   },
   {
    "duration": 7,
    "start_time": "2022-06-24T07:17:49.674Z"
   },
   {
    "duration": 4,
    "start_time": "2022-06-24T07:18:07.205Z"
   },
   {
    "duration": 6,
    "start_time": "2022-06-24T07:18:10.642Z"
   },
   {
    "duration": 984,
    "start_time": "2022-06-24T07:18:48.802Z"
   },
   {
    "duration": 10,
    "start_time": "2022-06-24T07:19:30.793Z"
   },
   {
    "duration": 3,
    "start_time": "2022-06-24T07:20:13.705Z"
   },
   {
    "duration": 4,
    "start_time": "2022-06-24T07:20:20.153Z"
   },
   {
    "duration": 355,
    "start_time": "2022-06-24T07:20:29.814Z"
   },
   {
    "duration": 100,
    "start_time": "2022-06-24T07:20:30.172Z"
   },
   {
    "duration": 40,
    "start_time": "2022-06-24T07:20:30.274Z"
   },
   {
    "duration": 15,
    "start_time": "2022-06-24T07:20:30.316Z"
   },
   {
    "duration": 12,
    "start_time": "2022-06-24T07:20:30.333Z"
   },
   {
    "duration": 24,
    "start_time": "2022-06-24T07:20:30.346Z"
   },
   {
    "duration": 20,
    "start_time": "2022-06-24T07:20:30.373Z"
   },
   {
    "duration": 21,
    "start_time": "2022-06-24T07:20:30.395Z"
   },
   {
    "duration": 24,
    "start_time": "2022-06-24T07:20:30.418Z"
   },
   {
    "duration": 39,
    "start_time": "2022-06-24T07:20:30.446Z"
   },
   {
    "duration": 31,
    "start_time": "2022-06-24T07:20:30.487Z"
   },
   {
    "duration": 7,
    "start_time": "2022-06-24T07:20:30.520Z"
   },
   {
    "duration": 20,
    "start_time": "2022-06-24T07:20:30.529Z"
   },
   {
    "duration": 47,
    "start_time": "2022-06-24T07:20:30.551Z"
   },
   {
    "duration": 97,
    "start_time": "2022-06-24T07:20:30.600Z"
   },
   {
    "duration": 0,
    "start_time": "2022-06-24T07:20:30.698Z"
   },
   {
    "duration": 14,
    "start_time": "2022-06-24T07:22:50.012Z"
   },
   {
    "duration": 10,
    "start_time": "2022-06-24T07:22:55.373Z"
   },
   {
    "duration": 4,
    "start_time": "2022-06-24T07:23:19.083Z"
   },
   {
    "duration": 5,
    "start_time": "2022-06-24T07:23:22.499Z"
   },
   {
    "duration": 5,
    "start_time": "2022-06-24T07:23:30.797Z"
   },
   {
    "duration": 10,
    "start_time": "2022-06-24T07:23:41.780Z"
   },
   {
    "duration": 4,
    "start_time": "2022-06-24T07:23:48.177Z"
   },
   {
    "duration": 5,
    "start_time": "2022-06-24T07:24:00.724Z"
   },
   {
    "duration": 1058,
    "start_time": "2022-06-24T07:24:50.303Z"
   },
   {
    "duration": 19,
    "start_time": "2022-06-24T07:25:03.775Z"
   },
   {
    "duration": 27,
    "start_time": "2022-06-24T07:25:29.413Z"
   },
   {
    "duration": 20,
    "start_time": "2022-06-24T07:25:57.307Z"
   },
   {
    "duration": 6,
    "start_time": "2022-06-24T07:26:13.006Z"
   },
   {
    "duration": 1907,
    "start_time": "2022-06-24T07:27:25.421Z"
   },
   {
    "duration": 1362,
    "start_time": "2022-06-24T07:31:51.974Z"
   },
   {
    "duration": 18,
    "start_time": "2022-06-24T07:32:50.116Z"
   },
   {
    "duration": 421,
    "start_time": "2022-06-24T07:34:11.825Z"
   },
   {
    "duration": 227,
    "start_time": "2022-06-24T07:34:12.248Z"
   },
   {
    "duration": 63,
    "start_time": "2022-06-24T07:34:12.476Z"
   },
   {
    "duration": 16,
    "start_time": "2022-06-24T07:34:12.541Z"
   },
   {
    "duration": 26,
    "start_time": "2022-06-24T07:34:12.559Z"
   },
   {
    "duration": 7,
    "start_time": "2022-06-24T07:34:12.588Z"
   },
   {
    "duration": 9,
    "start_time": "2022-06-24T07:34:12.596Z"
   },
   {
    "duration": 16,
    "start_time": "2022-06-24T07:34:12.606Z"
   },
   {
    "duration": 15,
    "start_time": "2022-06-24T07:34:12.623Z"
   },
   {
    "duration": 33,
    "start_time": "2022-06-24T07:34:12.641Z"
   },
   {
    "duration": 27,
    "start_time": "2022-06-24T07:34:12.675Z"
   },
   {
    "duration": 9,
    "start_time": "2022-06-24T07:34:12.704Z"
   },
   {
    "duration": 105,
    "start_time": "2022-06-24T07:34:12.715Z"
   },
   {
    "duration": 0,
    "start_time": "2022-06-24T07:34:12.822Z"
   },
   {
    "duration": 1,
    "start_time": "2022-06-24T07:34:12.823Z"
   },
   {
    "duration": 0,
    "start_time": "2022-06-24T07:34:12.824Z"
   },
   {
    "duration": 30,
    "start_time": "2022-06-24T07:34:35.953Z"
   },
   {
    "duration": 3,
    "start_time": "2022-06-24T07:35:20.293Z"
   },
   {
    "duration": 4,
    "start_time": "2022-06-24T07:35:28.938Z"
   },
   {
    "duration": 48,
    "start_time": "2022-06-24T07:36:58.265Z"
   },
   {
    "duration": 60,
    "start_time": "2022-06-24T07:37:14.629Z"
   },
   {
    "duration": 7,
    "start_time": "2022-06-24T07:37:20.506Z"
   },
   {
    "duration": 9,
    "start_time": "2022-06-24T07:37:40.452Z"
   },
   {
    "duration": 8,
    "start_time": "2022-06-24T07:37:52.717Z"
   },
   {
    "duration": 8,
    "start_time": "2022-06-24T07:38:08.592Z"
   },
   {
    "duration": 382,
    "start_time": "2022-06-24T07:38:44.635Z"
   },
   {
    "duration": 97,
    "start_time": "2022-06-24T07:38:45.019Z"
   },
   {
    "duration": 34,
    "start_time": "2022-06-24T07:38:45.117Z"
   },
   {
    "duration": 26,
    "start_time": "2022-06-24T07:38:45.154Z"
   },
   {
    "duration": 12,
    "start_time": "2022-06-24T07:38:45.181Z"
   },
   {
    "duration": 10,
    "start_time": "2022-06-24T07:38:45.194Z"
   },
   {
    "duration": 9,
    "start_time": "2022-06-24T07:38:45.206Z"
   },
   {
    "duration": 13,
    "start_time": "2022-06-24T07:38:45.217Z"
   },
   {
    "duration": 33,
    "start_time": "2022-06-24T07:38:45.233Z"
   },
   {
    "duration": 26,
    "start_time": "2022-06-24T07:38:45.275Z"
   },
   {
    "duration": 29,
    "start_time": "2022-06-24T07:38:45.303Z"
   },
   {
    "duration": 8,
    "start_time": "2022-06-24T07:38:45.334Z"
   },
   {
    "duration": 119,
    "start_time": "2022-06-24T07:38:45.344Z"
   },
   {
    "duration": 0,
    "start_time": "2022-06-24T07:38:45.465Z"
   },
   {
    "duration": 0,
    "start_time": "2022-06-24T07:38:45.468Z"
   },
   {
    "duration": 0,
    "start_time": "2022-06-24T07:38:45.471Z"
   },
   {
    "duration": 0,
    "start_time": "2022-06-24T07:38:45.471Z"
   },
   {
    "duration": 7,
    "start_time": "2022-06-24T07:39:20.771Z"
   },
   {
    "duration": 4,
    "start_time": "2022-06-24T07:39:24.110Z"
   },
   {
    "duration": 924,
    "start_time": "2022-06-24T07:40:09.027Z"
   },
   {
    "duration": 928,
    "start_time": "2022-06-24T07:40:40.211Z"
   },
   {
    "duration": 4,
    "start_time": "2022-06-24T07:41:07.791Z"
   },
   {
    "duration": 4,
    "start_time": "2022-06-24T07:41:17.425Z"
   },
   {
    "duration": 5,
    "start_time": "2022-06-24T07:41:18.975Z"
   },
   {
    "duration": 4,
    "start_time": "2022-06-24T07:41:28.704Z"
   },
   {
    "duration": 3,
    "start_time": "2022-06-24T07:41:29.876Z"
   },
   {
    "duration": 4,
    "start_time": "2022-06-24T07:41:52.302Z"
   },
   {
    "duration": 4,
    "start_time": "2022-06-24T07:41:53.136Z"
   },
   {
    "duration": 4,
    "start_time": "2022-06-24T07:42:00.949Z"
   },
   {
    "duration": 6,
    "start_time": "2022-06-24T07:42:02.469Z"
   },
   {
    "duration": 4,
    "start_time": "2022-06-24T07:42:08.876Z"
   },
   {
    "duration": 4,
    "start_time": "2022-06-24T07:42:09.686Z"
   },
   {
    "duration": 4,
    "start_time": "2022-06-24T07:42:23.087Z"
   },
   {
    "duration": 5,
    "start_time": "2022-06-24T07:42:24.234Z"
   },
   {
    "duration": 403,
    "start_time": "2022-06-24T07:42:31.237Z"
   },
   {
    "duration": 91,
    "start_time": "2022-06-24T07:42:31.642Z"
   },
   {
    "duration": 42,
    "start_time": "2022-06-24T07:42:31.735Z"
   },
   {
    "duration": 16,
    "start_time": "2022-06-24T07:42:31.779Z"
   },
   {
    "duration": 19,
    "start_time": "2022-06-24T07:42:31.796Z"
   },
   {
    "duration": 19,
    "start_time": "2022-06-24T07:42:31.817Z"
   },
   {
    "duration": 7,
    "start_time": "2022-06-24T07:42:31.838Z"
   },
   {
    "duration": 18,
    "start_time": "2022-06-24T07:42:31.847Z"
   },
   {
    "duration": 22,
    "start_time": "2022-06-24T07:42:31.867Z"
   },
   {
    "duration": 20,
    "start_time": "2022-06-24T07:42:31.891Z"
   },
   {
    "duration": 25,
    "start_time": "2022-06-24T07:42:31.913Z"
   },
   {
    "duration": 26,
    "start_time": "2022-06-24T07:42:31.940Z"
   },
   {
    "duration": 5,
    "start_time": "2022-06-24T07:42:31.968Z"
   },
   {
    "duration": 10,
    "start_time": "2022-06-24T07:42:31.975Z"
   },
   {
    "duration": 10,
    "start_time": "2022-06-24T07:42:31.987Z"
   },
   {
    "duration": 7,
    "start_time": "2022-06-24T07:42:31.999Z"
   },
   {
    "duration": 19,
    "start_time": "2022-06-24T07:42:32.008Z"
   },
   {
    "duration": 3,
    "start_time": "2022-06-24T07:42:49.944Z"
   },
   {
    "duration": 7,
    "start_time": "2022-06-24T07:42:51.054Z"
   },
   {
    "duration": 3,
    "start_time": "2022-06-24T07:44:53.427Z"
   },
   {
    "duration": 5,
    "start_time": "2022-06-24T07:44:54.199Z"
   },
   {
    "duration": 67,
    "start_time": "2022-06-24T07:45:26.028Z"
   },
   {
    "duration": 4,
    "start_time": "2022-06-24T07:45:36.947Z"
   },
   {
    "duration": 4,
    "start_time": "2022-06-24T07:45:38.892Z"
   },
   {
    "duration": 4,
    "start_time": "2022-06-24T07:45:41.895Z"
   },
   {
    "duration": 6,
    "start_time": "2022-06-24T07:45:42.460Z"
   },
   {
    "duration": 3,
    "start_time": "2022-06-24T07:45:52.090Z"
   },
   {
    "duration": 4,
    "start_time": "2022-06-24T07:45:52.603Z"
   },
   {
    "duration": 6,
    "start_time": "2022-06-24T07:45:59.263Z"
   },
   {
    "duration": 4,
    "start_time": "2022-06-24T07:46:00.279Z"
   },
   {
    "duration": 387,
    "start_time": "2022-06-24T07:46:05.379Z"
   },
   {
    "duration": 105,
    "start_time": "2022-06-24T07:46:05.768Z"
   },
   {
    "duration": 33,
    "start_time": "2022-06-24T07:46:05.875Z"
   },
   {
    "duration": 16,
    "start_time": "2022-06-24T07:46:05.910Z"
   },
   {
    "duration": 17,
    "start_time": "2022-06-24T07:46:05.928Z"
   },
   {
    "duration": 33,
    "start_time": "2022-06-24T07:46:05.946Z"
   },
   {
    "duration": 17,
    "start_time": "2022-06-24T07:46:05.981Z"
   },
   {
    "duration": 32,
    "start_time": "2022-06-24T07:46:05.999Z"
   },
   {
    "duration": 21,
    "start_time": "2022-06-24T07:46:06.033Z"
   },
   {
    "duration": 41,
    "start_time": "2022-06-24T07:46:06.056Z"
   },
   {
    "duration": 28,
    "start_time": "2022-06-24T07:46:06.099Z"
   },
   {
    "duration": 8,
    "start_time": "2022-06-24T07:46:06.128Z"
   },
   {
    "duration": 10,
    "start_time": "2022-06-24T07:46:06.137Z"
   },
   {
    "duration": 29,
    "start_time": "2022-06-24T07:46:06.148Z"
   },
   {
    "duration": 12,
    "start_time": "2022-06-24T07:46:06.178Z"
   },
   {
    "duration": 6,
    "start_time": "2022-06-24T07:46:06.191Z"
   },
   {
    "duration": 18,
    "start_time": "2022-06-24T07:46:06.198Z"
   },
   {
    "duration": 9,
    "start_time": "2022-06-24T07:46:16.365Z"
   },
   {
    "duration": 6,
    "start_time": "2022-06-24T07:46:16.772Z"
   },
   {
    "duration": 1077,
    "start_time": "2022-06-24T07:47:09.144Z"
   },
   {
    "duration": 1071,
    "start_time": "2022-06-24T07:47:21.103Z"
   },
   {
    "duration": 852,
    "start_time": "2022-06-24T07:47:33.438Z"
   },
   {
    "duration": 9,
    "start_time": "2022-06-24T07:49:14.792Z"
   },
   {
    "duration": 1199,
    "start_time": "2022-06-24T07:49:20.030Z"
   },
   {
    "duration": 63,
    "start_time": "2022-06-24T07:49:57.422Z"
   },
   {
    "duration": 888,
    "start_time": "2022-06-24T07:50:24.810Z"
   },
   {
    "duration": 4,
    "start_time": "2022-06-24T07:50:47.517Z"
   },
   {
    "duration": 15,
    "start_time": "2022-06-24T07:51:02.381Z"
   },
   {
    "duration": 17,
    "start_time": "2022-06-24T07:51:06.829Z"
   },
   {
    "duration": 6,
    "start_time": "2022-06-24T07:51:19.628Z"
   },
   {
    "duration": 15,
    "start_time": "2022-06-24T07:51:21.528Z"
   },
   {
    "duration": 5,
    "start_time": "2022-06-24T07:52:29.391Z"
   },
   {
    "duration": 16,
    "start_time": "2022-06-24T07:52:30.586Z"
   },
   {
    "duration": 5,
    "start_time": "2022-06-24T07:53:43.550Z"
   },
   {
    "duration": 23,
    "start_time": "2022-06-24T07:53:46.641Z"
   },
   {
    "duration": 3,
    "start_time": "2022-06-24T07:54:57.791Z"
   },
   {
    "duration": 33,
    "start_time": "2022-06-24T07:55:20.703Z"
   },
   {
    "duration": 17,
    "start_time": "2022-06-24T07:55:31.441Z"
   },
   {
    "duration": 6,
    "start_time": "2022-06-24T07:55:38.845Z"
   },
   {
    "duration": 33,
    "start_time": "2022-06-24T07:56:29.451Z"
   },
   {
    "duration": 17,
    "start_time": "2022-06-24T07:56:41.453Z"
   },
   {
    "duration": 5,
    "start_time": "2022-06-24T07:56:44.012Z"
   },
   {
    "duration": 6,
    "start_time": "2022-06-24T07:57:08.385Z"
   },
   {
    "duration": 5,
    "start_time": "2022-06-24T07:57:20.621Z"
   },
   {
    "duration": 3,
    "start_time": "2022-06-24T07:57:28.134Z"
   },
   {
    "duration": 6,
    "start_time": "2022-06-24T07:57:31.942Z"
   },
   {
    "duration": 3,
    "start_time": "2022-06-24T07:57:39.188Z"
   },
   {
    "duration": 7,
    "start_time": "2022-06-24T07:57:48.901Z"
   },
   {
    "duration": 5,
    "start_time": "2022-06-24T07:57:56.580Z"
   },
   {
    "duration": 416,
    "start_time": "2022-06-24T07:58:05.344Z"
   },
   {
    "duration": 102,
    "start_time": "2022-06-24T07:58:05.763Z"
   },
   {
    "duration": 36,
    "start_time": "2022-06-24T07:58:05.868Z"
   },
   {
    "duration": 26,
    "start_time": "2022-06-24T07:58:05.907Z"
   },
   {
    "duration": 14,
    "start_time": "2022-06-24T07:58:05.937Z"
   },
   {
    "duration": 21,
    "start_time": "2022-06-24T07:58:05.953Z"
   },
   {
    "duration": 14,
    "start_time": "2022-06-24T07:58:05.976Z"
   },
   {
    "duration": 16,
    "start_time": "2022-06-24T07:58:05.992Z"
   },
   {
    "duration": 19,
    "start_time": "2022-06-24T07:58:06.010Z"
   },
   {
    "duration": 29,
    "start_time": "2022-06-24T07:58:06.031Z"
   },
   {
    "duration": 41,
    "start_time": "2022-06-24T07:58:06.061Z"
   },
   {
    "duration": 8,
    "start_time": "2022-06-24T07:58:06.104Z"
   },
   {
    "duration": 11,
    "start_time": "2022-06-24T07:58:06.114Z"
   },
   {
    "duration": 6,
    "start_time": "2022-06-24T07:58:06.128Z"
   },
   {
    "duration": 49,
    "start_time": "2022-06-24T07:58:06.136Z"
   },
   {
    "duration": 24,
    "start_time": "2022-06-24T07:58:06.188Z"
   },
   {
    "duration": 6,
    "start_time": "2022-06-24T07:58:06.214Z"
   },
   {
    "duration": 7,
    "start_time": "2022-06-24T07:58:06.222Z"
   },
   {
    "duration": 55,
    "start_time": "2022-06-24T07:58:06.232Z"
   },
   {
    "duration": 4,
    "start_time": "2022-06-24T07:58:48.719Z"
   },
   {
    "duration": 5,
    "start_time": "2022-06-24T07:58:52.218Z"
   },
   {
    "duration": 416,
    "start_time": "2022-06-24T07:59:01.827Z"
   },
   {
    "duration": 92,
    "start_time": "2022-06-24T07:59:02.246Z"
   },
   {
    "duration": 43,
    "start_time": "2022-06-24T07:59:02.342Z"
   },
   {
    "duration": 17,
    "start_time": "2022-06-24T07:59:02.386Z"
   },
   {
    "duration": 13,
    "start_time": "2022-06-24T07:59:02.404Z"
   },
   {
    "duration": 24,
    "start_time": "2022-06-24T07:59:02.418Z"
   },
   {
    "duration": 16,
    "start_time": "2022-06-24T07:59:02.444Z"
   },
   {
    "duration": 34,
    "start_time": "2022-06-24T07:59:02.461Z"
   },
   {
    "duration": 21,
    "start_time": "2022-06-24T07:59:02.498Z"
   },
   {
    "duration": 30,
    "start_time": "2022-06-24T07:59:02.521Z"
   },
   {
    "duration": 38,
    "start_time": "2022-06-24T07:59:02.553Z"
   },
   {
    "duration": 8,
    "start_time": "2022-06-24T07:59:02.592Z"
   },
   {
    "duration": 25,
    "start_time": "2022-06-24T07:59:02.601Z"
   },
   {
    "duration": 26,
    "start_time": "2022-06-24T07:59:02.628Z"
   },
   {
    "duration": 31,
    "start_time": "2022-06-24T07:59:02.656Z"
   },
   {
    "duration": 32,
    "start_time": "2022-06-24T07:59:02.688Z"
   },
   {
    "duration": 4,
    "start_time": "2022-06-24T07:59:27.812Z"
   },
   {
    "duration": 5,
    "start_time": "2022-06-24T07:59:29.311Z"
   },
   {
    "duration": 62,
    "start_time": "2022-06-24T08:00:22.374Z"
   },
   {
    "duration": 712,
    "start_time": "2022-06-24T08:00:40.085Z"
   },
   {
    "duration": 9,
    "start_time": "2022-06-24T08:01:24.118Z"
   },
   {
    "duration": 729,
    "start_time": "2022-06-24T08:01:52.949Z"
   },
   {
    "duration": 745,
    "start_time": "2022-06-24T08:02:41.729Z"
   },
   {
    "duration": 762,
    "start_time": "2022-06-24T08:03:08.412Z"
   },
   {
    "duration": 223,
    "start_time": "2022-06-24T08:03:27.019Z"
   },
   {
    "duration": 11,
    "start_time": "2022-06-24T08:03:35.773Z"
   },
   {
    "duration": 841,
    "start_time": "2022-06-24T08:03:45.033Z"
   },
   {
    "duration": 12,
    "start_time": "2022-06-24T08:04:06.739Z"
   },
   {
    "duration": 4,
    "start_time": "2022-06-24T08:04:23.900Z"
   },
   {
    "duration": 2027,
    "start_time": "2022-06-24T08:04:27.954Z"
   },
   {
    "duration": 5,
    "start_time": "2022-06-24T08:04:31.418Z"
   },
   {
    "duration": 9,
    "start_time": "2022-06-24T08:04:50.807Z"
   },
   {
    "duration": 5,
    "start_time": "2022-06-24T08:05:26.316Z"
   },
   {
    "duration": 708,
    "start_time": "2022-06-24T08:05:41.878Z"
   },
   {
    "duration": 6,
    "start_time": "2022-06-24T08:06:01.372Z"
   },
   {
    "duration": 783,
    "start_time": "2022-06-24T08:08:09.749Z"
   },
   {
    "duration": 853,
    "start_time": "2022-06-24T08:08:35.223Z"
   },
   {
    "duration": 5,
    "start_time": "2022-06-24T08:08:40.571Z"
   },
   {
    "duration": 5,
    "start_time": "2022-06-24T08:08:42.883Z"
   },
   {
    "duration": 805,
    "start_time": "2022-06-24T08:09:18.976Z"
   },
   {
    "duration": 748,
    "start_time": "2022-06-24T08:09:32.870Z"
   },
   {
    "duration": 6,
    "start_time": "2022-06-24T08:09:36.351Z"
   },
   {
    "duration": 8,
    "start_time": "2022-06-24T08:09:53.614Z"
   },
   {
    "duration": 5,
    "start_time": "2022-06-24T08:10:14.998Z"
   },
   {
    "duration": 729,
    "start_time": "2022-06-24T08:11:47.875Z"
   },
   {
    "duration": 6,
    "start_time": "2022-06-24T08:11:49.846Z"
   },
   {
    "duration": 5,
    "start_time": "2022-06-24T08:11:50.482Z"
   },
   {
    "duration": 8,
    "start_time": "2022-06-24T08:12:03.977Z"
   },
   {
    "duration": 7,
    "start_time": "2022-06-24T08:12:05.006Z"
   },
   {
    "duration": 5,
    "start_time": "2022-06-24T08:12:06.120Z"
   },
   {
    "duration": 4,
    "start_time": "2022-06-24T08:12:15.303Z"
   },
   {
    "duration": 5,
    "start_time": "2022-06-24T08:12:26.012Z"
   },
   {
    "duration": 6,
    "start_time": "2022-06-24T08:12:27.033Z"
   },
   {
    "duration": 5,
    "start_time": "2022-06-24T08:12:27.776Z"
   },
   {
    "duration": 435,
    "start_time": "2022-06-24T08:12:33.340Z"
   },
   {
    "duration": 98,
    "start_time": "2022-06-24T08:12:33.777Z"
   },
   {
    "duration": 35,
    "start_time": "2022-06-24T08:12:33.876Z"
   },
   {
    "duration": 18,
    "start_time": "2022-06-24T08:12:33.913Z"
   },
   {
    "duration": 21,
    "start_time": "2022-06-24T08:12:33.933Z"
   },
   {
    "duration": 26,
    "start_time": "2022-06-24T08:12:33.956Z"
   },
   {
    "duration": 12,
    "start_time": "2022-06-24T08:12:33.984Z"
   },
   {
    "duration": 15,
    "start_time": "2022-06-24T08:12:33.998Z"
   },
   {
    "duration": 14,
    "start_time": "2022-06-24T08:12:34.014Z"
   },
   {
    "duration": 25,
    "start_time": "2022-06-24T08:12:34.031Z"
   },
   {
    "duration": 33,
    "start_time": "2022-06-24T08:12:34.058Z"
   },
   {
    "duration": 7,
    "start_time": "2022-06-24T08:12:34.093Z"
   },
   {
    "duration": 14,
    "start_time": "2022-06-24T08:12:34.101Z"
   },
   {
    "duration": 12,
    "start_time": "2022-06-24T08:12:34.117Z"
   },
   {
    "duration": 11,
    "start_time": "2022-06-24T08:12:34.131Z"
   },
   {
    "duration": 8,
    "start_time": "2022-06-24T08:12:34.144Z"
   },
   {
    "duration": 38,
    "start_time": "2022-06-24T08:12:34.153Z"
   },
   {
    "duration": 74,
    "start_time": "2022-06-24T08:13:02.847Z"
   },
   {
    "duration": 4,
    "start_time": "2022-06-24T08:14:15.181Z"
   },
   {
    "duration": 1307,
    "start_time": "2022-06-24T08:14:18.683Z"
   },
   {
    "duration": 8,
    "start_time": "2022-06-24T08:14:26.475Z"
   },
   {
    "duration": 14,
    "start_time": "2022-06-24T08:14:52.588Z"
   },
   {
    "duration": 16,
    "start_time": "2022-06-24T08:15:29.408Z"
   },
   {
    "duration": 140,
    "start_time": "2022-06-24T08:18:39.022Z"
   },
   {
    "duration": 111,
    "start_time": "2022-06-24T08:18:47.135Z"
   },
   {
    "duration": 4,
    "start_time": "2022-06-24T08:19:38.789Z"
   },
   {
    "duration": 4,
    "start_time": "2022-06-24T08:20:00.350Z"
   },
   {
    "duration": 84,
    "start_time": "2022-06-24T08:21:12.027Z"
   },
   {
    "duration": 80,
    "start_time": "2022-06-24T08:21:17.089Z"
   },
   {
    "duration": 77,
    "start_time": "2022-06-24T08:21:20.873Z"
   },
   {
    "duration": 76,
    "start_time": "2022-06-24T08:21:37.080Z"
   },
   {
    "duration": 84,
    "start_time": "2022-06-24T08:22:02.418Z"
   },
   {
    "duration": 86,
    "start_time": "2022-06-24T08:24:13.233Z"
   },
   {
    "duration": 11,
    "start_time": "2022-06-24T08:24:26.585Z"
   },
   {
    "duration": 9,
    "start_time": "2022-06-24T08:24:30.568Z"
   },
   {
    "duration": 5,
    "start_time": "2022-06-24T08:24:32.139Z"
   },
   {
    "duration": 23,
    "start_time": "2022-06-24T08:24:50.316Z"
   },
   {
    "duration": 23,
    "start_time": "2022-06-24T08:25:20.702Z"
   },
   {
    "duration": 22,
    "start_time": "2022-06-24T08:25:38.713Z"
   },
   {
    "duration": 25,
    "start_time": "2022-06-24T08:25:42.841Z"
   },
   {
    "duration": 4,
    "start_time": "2022-06-24T08:25:46.809Z"
   },
   {
    "duration": 13,
    "start_time": "2022-06-24T08:26:14.994Z"
   },
   {
    "duration": 5,
    "start_time": "2022-06-24T08:26:15.892Z"
   },
   {
    "duration": 5,
    "start_time": "2022-06-24T08:26:16.144Z"
   },
   {
    "duration": 11,
    "start_time": "2022-06-24T08:26:28.412Z"
   },
   {
    "duration": 10,
    "start_time": "2022-06-24T08:26:33.015Z"
   },
   {
    "duration": 5,
    "start_time": "2022-06-24T08:26:33.249Z"
   },
   {
    "duration": 422,
    "start_time": "2022-06-24T08:26:40.740Z"
   },
   {
    "duration": 87,
    "start_time": "2022-06-24T08:26:41.164Z"
   },
   {
    "duration": 37,
    "start_time": "2022-06-24T08:26:41.253Z"
   },
   {
    "duration": 21,
    "start_time": "2022-06-24T08:26:41.292Z"
   },
   {
    "duration": 10,
    "start_time": "2022-06-24T08:26:41.316Z"
   },
   {
    "duration": 18,
    "start_time": "2022-06-24T08:26:41.328Z"
   },
   {
    "duration": 12,
    "start_time": "2022-06-24T08:26:41.348Z"
   },
   {
    "duration": 38,
    "start_time": "2022-06-24T08:26:41.362Z"
   },
   {
    "duration": 19,
    "start_time": "2022-06-24T08:26:41.402Z"
   },
   {
    "duration": 24,
    "start_time": "2022-06-24T08:26:41.423Z"
   },
   {
    "duration": 33,
    "start_time": "2022-06-24T08:26:41.448Z"
   },
   {
    "duration": 8,
    "start_time": "2022-06-24T08:26:41.483Z"
   },
   {
    "duration": 13,
    "start_time": "2022-06-24T08:26:41.493Z"
   },
   {
    "duration": 11,
    "start_time": "2022-06-24T08:26:41.509Z"
   },
   {
    "duration": 8,
    "start_time": "2022-06-24T08:26:41.522Z"
   },
   {
    "duration": 7,
    "start_time": "2022-06-24T08:26:41.531Z"
   },
   {
    "duration": 35,
    "start_time": "2022-06-24T08:26:41.539Z"
   },
   {
    "duration": 14,
    "start_time": "2022-06-24T08:26:57.694Z"
   },
   {
    "duration": 7,
    "start_time": "2022-06-24T08:26:58.118Z"
   },
   {
    "duration": 5,
    "start_time": "2022-06-24T08:26:58.578Z"
   },
   {
    "duration": 11,
    "start_time": "2022-06-24T08:27:10.541Z"
   },
   {
    "duration": 7,
    "start_time": "2022-06-24T08:27:11.053Z"
   },
   {
    "duration": 6,
    "start_time": "2022-06-24T08:27:11.479Z"
   },
   {
    "duration": 389,
    "start_time": "2022-06-24T08:27:16.689Z"
   },
   {
    "duration": 89,
    "start_time": "2022-06-24T08:27:17.081Z"
   },
   {
    "duration": 37,
    "start_time": "2022-06-24T08:27:17.174Z"
   },
   {
    "duration": 23,
    "start_time": "2022-06-24T08:27:17.214Z"
   },
   {
    "duration": 43,
    "start_time": "2022-06-24T08:27:17.239Z"
   },
   {
    "duration": 15,
    "start_time": "2022-06-24T08:27:17.288Z"
   },
   {
    "duration": 25,
    "start_time": "2022-06-24T08:27:17.306Z"
   },
   {
    "duration": 36,
    "start_time": "2022-06-24T08:27:17.333Z"
   },
   {
    "duration": 39,
    "start_time": "2022-06-24T08:27:17.371Z"
   },
   {
    "duration": 26,
    "start_time": "2022-06-24T08:27:17.413Z"
   },
   {
    "duration": 42,
    "start_time": "2022-06-24T08:27:17.442Z"
   },
   {
    "duration": 11,
    "start_time": "2022-06-24T08:27:17.485Z"
   },
   {
    "duration": 17,
    "start_time": "2022-06-24T08:27:17.498Z"
   },
   {
    "duration": 14,
    "start_time": "2022-06-24T08:27:17.518Z"
   },
   {
    "duration": 12,
    "start_time": "2022-06-24T08:27:17.534Z"
   },
   {
    "duration": 43,
    "start_time": "2022-06-24T08:27:17.548Z"
   },
   {
    "duration": 53,
    "start_time": "2022-06-24T08:27:17.594Z"
   },
   {
    "duration": 94,
    "start_time": "2022-06-24T08:27:42.288Z"
   },
   {
    "duration": 6,
    "start_time": "2022-06-24T08:27:51.649Z"
   },
   {
    "duration": 16,
    "start_time": "2022-06-24T08:27:52.097Z"
   },
   {
    "duration": 16,
    "start_time": "2022-06-24T08:28:28.491Z"
   },
   {
    "duration": 17,
    "start_time": "2022-06-24T08:28:37.719Z"
   },
   {
    "duration": 7,
    "start_time": "2022-06-24T08:28:53.971Z"
   },
   {
    "duration": 6,
    "start_time": "2022-06-24T08:28:57.236Z"
   },
   {
    "duration": 5,
    "start_time": "2022-06-24T08:29:18.287Z"
   },
   {
    "duration": 430,
    "start_time": "2022-06-24T08:29:25.573Z"
   },
   {
    "duration": 89,
    "start_time": "2022-06-24T08:29:26.005Z"
   },
   {
    "duration": 34,
    "start_time": "2022-06-24T08:29:26.096Z"
   },
   {
    "duration": 15,
    "start_time": "2022-06-24T08:29:26.132Z"
   },
   {
    "duration": 18,
    "start_time": "2022-06-24T08:29:26.150Z"
   },
   {
    "duration": 12,
    "start_time": "2022-06-24T08:29:26.171Z"
   },
   {
    "duration": 9,
    "start_time": "2022-06-24T08:29:26.185Z"
   },
   {
    "duration": 13,
    "start_time": "2022-06-24T08:29:26.196Z"
   },
   {
    "duration": 22,
    "start_time": "2022-06-24T08:29:26.211Z"
   },
   {
    "duration": 45,
    "start_time": "2022-06-24T08:29:26.235Z"
   },
   {
    "duration": 26,
    "start_time": "2022-06-24T08:29:26.282Z"
   },
   {
    "duration": 7,
    "start_time": "2022-06-24T08:29:26.309Z"
   },
   {
    "duration": 106,
    "start_time": "2022-06-24T08:29:26.318Z"
   },
   {
    "duration": 0,
    "start_time": "2022-06-24T08:29:26.426Z"
   },
   {
    "duration": 0,
    "start_time": "2022-06-24T08:29:26.428Z"
   },
   {
    "duration": 0,
    "start_time": "2022-06-24T08:29:26.429Z"
   },
   {
    "duration": 0,
    "start_time": "2022-06-24T08:29:26.430Z"
   },
   {
    "duration": 18,
    "start_time": "2022-06-24T08:31:02.720Z"
   },
   {
    "duration": 76,
    "start_time": "2022-06-24T08:31:08.074Z"
   },
   {
    "duration": 127,
    "start_time": "2022-06-24T08:31:17.910Z"
   },
   {
    "duration": 86,
    "start_time": "2022-06-24T08:31:40.823Z"
   },
   {
    "duration": 26,
    "start_time": "2022-06-24T08:33:19.595Z"
   },
   {
    "duration": 7,
    "start_time": "2022-06-24T08:33:25.893Z"
   },
   {
    "duration": 6,
    "start_time": "2022-06-24T08:33:39.750Z"
   },
   {
    "duration": 10,
    "start_time": "2022-06-24T08:33:42.652Z"
   },
   {
    "duration": 20,
    "start_time": "2022-06-24T08:34:27.372Z"
   },
   {
    "duration": 14,
    "start_time": "2022-06-24T08:34:32.308Z"
   },
   {
    "duration": 8,
    "start_time": "2022-06-24T08:34:53.083Z"
   },
   {
    "duration": 15,
    "start_time": "2022-06-24T08:34:53.986Z"
   },
   {
    "duration": 6,
    "start_time": "2022-06-24T08:34:59.948Z"
   },
   {
    "duration": 7,
    "start_time": "2022-06-24T08:35:09.274Z"
   },
   {
    "duration": 17,
    "start_time": "2022-06-24T08:35:11.249Z"
   },
   {
    "duration": 4,
    "start_time": "2022-06-24T08:35:11.451Z"
   },
   {
    "duration": 390,
    "start_time": "2022-06-24T08:35:24.513Z"
   },
   {
    "duration": 87,
    "start_time": "2022-06-24T08:35:24.905Z"
   },
   {
    "duration": 34,
    "start_time": "2022-06-24T08:35:24.993Z"
   },
   {
    "duration": 23,
    "start_time": "2022-06-24T08:35:25.029Z"
   },
   {
    "duration": 14,
    "start_time": "2022-06-24T08:35:25.055Z"
   },
   {
    "duration": 10,
    "start_time": "2022-06-24T08:35:25.074Z"
   },
   {
    "duration": 9,
    "start_time": "2022-06-24T08:35:25.085Z"
   },
   {
    "duration": 17,
    "start_time": "2022-06-24T08:35:25.095Z"
   },
   {
    "duration": 14,
    "start_time": "2022-06-24T08:35:25.114Z"
   },
   {
    "duration": 45,
    "start_time": "2022-06-24T08:35:25.130Z"
   },
   {
    "duration": 26,
    "start_time": "2022-06-24T08:35:25.177Z"
   },
   {
    "duration": 8,
    "start_time": "2022-06-24T08:35:25.205Z"
   },
   {
    "duration": 25,
    "start_time": "2022-06-24T08:35:25.214Z"
   },
   {
    "duration": 25,
    "start_time": "2022-06-24T08:35:25.242Z"
   },
   {
    "duration": 68,
    "start_time": "2022-06-24T08:35:25.272Z"
   },
   {
    "duration": 0,
    "start_time": "2022-06-24T08:35:25.342Z"
   },
   {
    "duration": 375,
    "start_time": "2022-06-24T08:36:02.010Z"
   },
   {
    "duration": 89,
    "start_time": "2022-06-24T08:36:02.387Z"
   },
   {
    "duration": 34,
    "start_time": "2022-06-24T08:36:02.480Z"
   },
   {
    "duration": 16,
    "start_time": "2022-06-24T08:36:02.516Z"
   },
   {
    "duration": 24,
    "start_time": "2022-06-24T08:36:02.533Z"
   },
   {
    "duration": 18,
    "start_time": "2022-06-24T08:36:02.567Z"
   },
   {
    "duration": 10,
    "start_time": "2022-06-24T08:36:02.587Z"
   },
   {
    "duration": 15,
    "start_time": "2022-06-24T08:36:02.599Z"
   },
   {
    "duration": 16,
    "start_time": "2022-06-24T08:36:02.617Z"
   },
   {
    "duration": 35,
    "start_time": "2022-06-24T08:36:02.634Z"
   },
   {
    "duration": 26,
    "start_time": "2022-06-24T08:36:02.677Z"
   },
   {
    "duration": 7,
    "start_time": "2022-06-24T08:36:02.705Z"
   },
   {
    "duration": 21,
    "start_time": "2022-06-24T08:36:02.713Z"
   },
   {
    "duration": 13,
    "start_time": "2022-06-24T08:36:02.736Z"
   },
   {
    "duration": 94,
    "start_time": "2022-06-24T08:36:02.751Z"
   },
   {
    "duration": 0,
    "start_time": "2022-06-24T08:36:02.847Z"
   },
   {
    "duration": 406,
    "start_time": "2022-06-24T08:36:37.873Z"
   },
   {
    "duration": 90,
    "start_time": "2022-06-24T08:36:38.281Z"
   },
   {
    "duration": 38,
    "start_time": "2022-06-24T08:36:38.375Z"
   },
   {
    "duration": 21,
    "start_time": "2022-06-24T08:36:38.415Z"
   },
   {
    "duration": 12,
    "start_time": "2022-06-24T08:36:38.439Z"
   },
   {
    "duration": 9,
    "start_time": "2022-06-24T08:36:38.452Z"
   },
   {
    "duration": 31,
    "start_time": "2022-06-24T08:36:38.463Z"
   },
   {
    "duration": 16,
    "start_time": "2022-06-24T08:36:38.496Z"
   },
   {
    "duration": 25,
    "start_time": "2022-06-24T08:36:38.513Z"
   },
   {
    "duration": 27,
    "start_time": "2022-06-24T08:36:38.540Z"
   },
   {
    "duration": 27,
    "start_time": "2022-06-24T08:36:38.568Z"
   },
   {
    "duration": 7,
    "start_time": "2022-06-24T08:36:38.597Z"
   },
   {
    "duration": 19,
    "start_time": "2022-06-24T08:36:38.605Z"
   },
   {
    "duration": 6,
    "start_time": "2022-06-24T08:36:38.626Z"
   },
   {
    "duration": 45,
    "start_time": "2022-06-24T08:36:38.634Z"
   },
   {
    "duration": 5,
    "start_time": "2022-06-24T08:36:55.888Z"
   },
   {
    "duration": 6,
    "start_time": "2022-06-24T08:36:56.472Z"
   },
   {
    "duration": 391,
    "start_time": "2022-06-24T08:37:27.472Z"
   },
   {
    "duration": 85,
    "start_time": "2022-06-24T08:37:27.865Z"
   },
   {
    "duration": 53,
    "start_time": "2022-06-24T08:37:27.952Z"
   },
   {
    "duration": 22,
    "start_time": "2022-06-24T08:37:28.008Z"
   },
   {
    "duration": 10,
    "start_time": "2022-06-24T08:37:28.032Z"
   },
   {
    "duration": 8,
    "start_time": "2022-06-24T08:37:28.043Z"
   },
   {
    "duration": 27,
    "start_time": "2022-06-24T08:37:28.052Z"
   },
   {
    "duration": 15,
    "start_time": "2022-06-24T08:37:28.081Z"
   },
   {
    "duration": 14,
    "start_time": "2022-06-24T08:37:28.097Z"
   },
   {
    "duration": 21,
    "start_time": "2022-06-24T08:37:28.113Z"
   },
   {
    "duration": 39,
    "start_time": "2022-06-24T08:37:28.135Z"
   },
   {
    "duration": 7,
    "start_time": "2022-06-24T08:37:28.175Z"
   },
   {
    "duration": 15,
    "start_time": "2022-06-24T08:37:28.184Z"
   },
   {
    "duration": 4,
    "start_time": "2022-06-24T08:37:28.201Z"
   },
   {
    "duration": 17,
    "start_time": "2022-06-24T08:37:28.207Z"
   },
   {
    "duration": 5,
    "start_time": "2022-06-24T08:38:05.884Z"
   },
   {
    "duration": 5,
    "start_time": "2022-06-24T08:38:06.552Z"
   },
   {
    "duration": 5,
    "start_time": "2022-06-24T08:42:42.741Z"
   },
   {
    "duration": 5,
    "start_time": "2022-06-24T08:43:19.775Z"
   },
   {
    "duration": 5,
    "start_time": "2022-06-24T08:43:25.338Z"
   },
   {
    "duration": 6,
    "start_time": "2022-06-24T08:43:37.299Z"
   },
   {
    "duration": 8,
    "start_time": "2022-06-24T08:51:33.019Z"
   },
   {
    "duration": 7,
    "start_time": "2022-06-24T08:52:06.776Z"
   },
   {
    "duration": 6,
    "start_time": "2022-06-24T08:52:22.109Z"
   },
   {
    "duration": 985,
    "start_time": "2022-06-24T08:52:36.469Z"
   },
   {
    "duration": 6,
    "start_time": "2022-06-24T08:52:51.626Z"
   },
   {
    "duration": 77,
    "start_time": "2022-06-24T08:58:53.544Z"
   },
   {
    "duration": 56,
    "start_time": "2022-06-24T08:59:02.842Z"
   },
   {
    "duration": 387,
    "start_time": "2022-06-24T08:59:10.375Z"
   },
   {
    "duration": 83,
    "start_time": "2022-06-24T08:59:10.765Z"
   },
   {
    "duration": 34,
    "start_time": "2022-06-24T08:59:10.852Z"
   },
   {
    "duration": 15,
    "start_time": "2022-06-24T08:59:10.887Z"
   },
   {
    "duration": 11,
    "start_time": "2022-06-24T08:59:10.904Z"
   },
   {
    "duration": 6,
    "start_time": "2022-06-24T08:59:10.917Z"
   },
   {
    "duration": 8,
    "start_time": "2022-06-24T08:59:10.925Z"
   },
   {
    "duration": 13,
    "start_time": "2022-06-24T08:59:10.935Z"
   },
   {
    "duration": 13,
    "start_time": "2022-06-24T08:59:10.951Z"
   },
   {
    "duration": 31,
    "start_time": "2022-06-24T08:59:10.966Z"
   },
   {
    "duration": 9,
    "start_time": "2022-06-24T08:59:10.998Z"
   },
   {
    "duration": 28,
    "start_time": "2022-06-24T08:59:11.009Z"
   },
   {
    "duration": 10,
    "start_time": "2022-06-24T08:59:11.039Z"
   },
   {
    "duration": 9,
    "start_time": "2022-06-24T08:59:11.058Z"
   },
   {
    "duration": 49,
    "start_time": "2022-06-24T08:59:11.069Z"
   },
   {
    "duration": 0,
    "start_time": "2022-06-24T08:59:11.121Z"
   },
   {
    "duration": 6,
    "start_time": "2022-06-24T08:59:26.873Z"
   },
   {
    "duration": 6,
    "start_time": "2022-06-24T08:59:33.331Z"
   },
   {
    "duration": 6,
    "start_time": "2022-06-24T09:00:26.870Z"
   },
   {
    "duration": 6,
    "start_time": "2022-06-24T09:01:23.326Z"
   },
   {
    "duration": 6,
    "start_time": "2022-06-24T09:02:57.917Z"
   },
   {
    "duration": 6,
    "start_time": "2022-06-24T09:03:26.076Z"
   },
   {
    "duration": 5,
    "start_time": "2022-06-24T09:04:10.423Z"
   },
   {
    "duration": 6,
    "start_time": "2022-06-24T09:06:13.332Z"
   },
   {
    "duration": 6,
    "start_time": "2022-06-24T09:07:46.051Z"
   },
   {
    "duration": 3,
    "start_time": "2022-06-24T09:11:14.611Z"
   },
   {
    "duration": 15,
    "start_time": "2022-06-24T09:11:24.821Z"
   },
   {
    "duration": 4,
    "start_time": "2022-06-24T09:12:01.288Z"
   },
   {
    "duration": 63,
    "start_time": "2022-06-24T09:22:49.366Z"
   },
   {
    "duration": 20,
    "start_time": "2022-06-24T09:23:09.395Z"
   },
   {
    "duration": 15,
    "start_time": "2022-06-24T09:23:14.340Z"
   },
   {
    "duration": 6,
    "start_time": "2022-06-24T09:31:57.325Z"
   },
   {
    "duration": 363,
    "start_time": "2022-06-24T09:39:26.784Z"
   },
   {
    "duration": 21,
    "start_time": "2022-06-24T09:40:33.014Z"
   },
   {
    "duration": 98,
    "start_time": "2022-06-24T09:40:49.449Z"
   },
   {
    "duration": 25,
    "start_time": "2022-06-24T09:40:58.235Z"
   },
   {
    "duration": 24,
    "start_time": "2022-06-24T09:41:07.696Z"
   },
   {
    "duration": 11,
    "start_time": "2022-06-24T09:41:29.798Z"
   },
   {
    "duration": 12,
    "start_time": "2022-06-24T09:41:52.855Z"
   },
   {
    "duration": 10,
    "start_time": "2022-06-24T09:42:00.540Z"
   },
   {
    "duration": 13,
    "start_time": "2022-06-24T09:44:13.253Z"
   },
   {
    "duration": 7,
    "start_time": "2022-06-24T09:44:25.880Z"
   },
   {
    "duration": 6,
    "start_time": "2022-06-24T09:48:24.378Z"
   },
   {
    "duration": 9,
    "start_time": "2022-06-24T09:52:09.484Z"
   },
   {
    "duration": 4,
    "start_time": "2022-06-24T09:55:16.985Z"
   },
   {
    "duration": 4,
    "start_time": "2022-06-24T09:55:19.084Z"
   },
   {
    "duration": 4,
    "start_time": "2022-06-24T09:56:00.139Z"
   },
   {
    "duration": 20,
    "start_time": "2022-06-24T09:56:12.383Z"
   },
   {
    "duration": 3,
    "start_time": "2022-06-24T09:57:48.591Z"
   },
   {
    "duration": 6,
    "start_time": "2022-06-24T09:58:05.191Z"
   },
   {
    "duration": 390,
    "start_time": "2022-06-25T13:15:27.222Z"
   },
   {
    "duration": 481,
    "start_time": "2022-06-25T13:15:27.762Z"
   },
   {
    "duration": 81,
    "start_time": "2022-06-25T13:15:28.363Z"
   },
   {
    "duration": 14,
    "start_time": "2022-06-25T13:15:28.844Z"
   },
   {
    "duration": 8,
    "start_time": "2022-06-25T13:15:31.424Z"
   },
   {
    "duration": 4,
    "start_time": "2022-06-25T13:15:31.923Z"
   },
   {
    "duration": 6,
    "start_time": "2022-06-25T13:15:32.407Z"
   },
   {
    "duration": 11,
    "start_time": "2022-06-25T13:15:32.862Z"
   },
   {
    "duration": 15,
    "start_time": "2022-06-25T13:15:33.389Z"
   },
   {
    "duration": 35,
    "start_time": "2022-06-25T13:15:35.616Z"
   },
   {
    "duration": 7,
    "start_time": "2022-06-25T13:15:38.914Z"
   },
   {
    "duration": 14,
    "start_time": "2022-06-25T13:15:39.486Z"
   },
   {
    "duration": 5,
    "start_time": "2022-06-25T13:15:39.823Z"
   },
   {
    "duration": 3,
    "start_time": "2022-06-25T13:15:41.623Z"
   },
   {
    "duration": 5,
    "start_time": "2022-06-25T13:15:43.086Z"
   },
   {
    "duration": 6,
    "start_time": "2022-06-25T13:15:45.154Z"
   },
   {
    "duration": 5,
    "start_time": "2022-06-25T13:15:46.342Z"
   },
   {
    "duration": 3,
    "start_time": "2022-06-25T13:15:46.822Z"
   },
   {
    "duration": 4,
    "start_time": "2022-06-25T13:15:47.263Z"
   },
   {
    "duration": 4,
    "start_time": "2022-06-25T13:15:47.462Z"
   },
   {
    "duration": 5,
    "start_time": "2022-06-25T13:15:48.387Z"
   },
   {
    "duration": 6,
    "start_time": "2022-06-25T13:15:48.823Z"
   },
   {
    "duration": 5,
    "start_time": "2022-06-25T13:15:49.222Z"
   },
   {
    "duration": 6,
    "start_time": "2022-06-25T13:15:49.642Z"
   },
   {
    "duration": 5,
    "start_time": "2022-06-25T13:15:50.143Z"
   },
   {
    "duration": 18,
    "start_time": "2022-06-25T13:15:52.785Z"
   },
   {
    "duration": 58,
    "start_time": "2022-06-27T07:45:15.445Z"
   },
   {
    "duration": 7,
    "start_time": "2022-06-27T08:26:10.086Z"
   },
   {
    "duration": 461,
    "start_time": "2022-06-27T08:26:13.565Z"
   },
   {
    "duration": 177,
    "start_time": "2022-06-27T08:26:14.028Z"
   },
   {
    "duration": 32,
    "start_time": "2022-06-27T08:26:14.207Z"
   },
   {
    "duration": 19,
    "start_time": "2022-06-27T08:26:14.241Z"
   },
   {
    "duration": 22,
    "start_time": "2022-06-27T08:26:14.263Z"
   },
   {
    "duration": 10,
    "start_time": "2022-06-27T08:26:14.286Z"
   },
   {
    "duration": 10,
    "start_time": "2022-06-27T08:26:14.298Z"
   },
   {
    "duration": 14,
    "start_time": "2022-06-27T08:26:14.309Z"
   },
   {
    "duration": 16,
    "start_time": "2022-06-27T08:26:14.325Z"
   },
   {
    "duration": 49,
    "start_time": "2022-06-27T08:26:14.343Z"
   },
   {
    "duration": 8,
    "start_time": "2022-06-27T08:26:14.393Z"
   },
   {
    "duration": 25,
    "start_time": "2022-06-27T08:26:14.403Z"
   },
   {
    "duration": 8,
    "start_time": "2022-06-27T08:26:14.430Z"
   },
   {
    "duration": 6,
    "start_time": "2022-06-27T08:26:14.441Z"
   },
   {
    "duration": 22,
    "start_time": "2022-06-27T08:26:14.448Z"
   },
   {
    "duration": 4,
    "start_time": "2022-06-27T08:26:14.471Z"
   },
   {
    "duration": 16,
    "start_time": "2022-06-27T08:26:14.477Z"
   },
   {
    "duration": 25,
    "start_time": "2022-06-27T08:26:14.495Z"
   },
   {
    "duration": 8,
    "start_time": "2022-06-27T08:26:14.522Z"
   },
   {
    "duration": 19,
    "start_time": "2022-06-27T08:26:14.532Z"
   },
   {
    "duration": 19,
    "start_time": "2022-06-27T08:26:14.553Z"
   },
   {
    "duration": 12,
    "start_time": "2022-06-27T08:26:14.574Z"
   },
   {
    "duration": 17,
    "start_time": "2022-06-27T08:26:14.588Z"
   },
   {
    "duration": 21,
    "start_time": "2022-06-27T08:26:14.607Z"
   },
   {
    "duration": 34,
    "start_time": "2022-06-27T08:26:14.630Z"
   },
   {
    "duration": 4,
    "start_time": "2022-06-27T08:27:17.417Z"
   },
   {
    "duration": 4,
    "start_time": "2022-06-27T08:27:40.581Z"
   },
   {
    "duration": 5,
    "start_time": "2022-06-27T08:28:47.163Z"
   },
   {
    "duration": 7,
    "start_time": "2022-06-27T08:37:57.807Z"
   },
   {
    "duration": 48,
    "start_time": "2022-06-27T08:38:16.525Z"
   },
   {
    "duration": 8,
    "start_time": "2022-06-27T08:38:19.656Z"
   },
   {
    "duration": 9,
    "start_time": "2022-06-27T08:38:39.246Z"
   },
   {
    "duration": 3,
    "start_time": "2022-06-27T08:38:43.598Z"
   },
   {
    "duration": 81,
    "start_time": "2022-06-27T08:38:43.602Z"
   },
   {
    "duration": 20,
    "start_time": "2022-06-27T08:38:43.685Z"
   },
   {
    "duration": 16,
    "start_time": "2022-06-27T08:38:43.706Z"
   },
   {
    "duration": 20,
    "start_time": "2022-06-27T08:38:43.724Z"
   },
   {
    "duration": 9,
    "start_time": "2022-06-27T08:38:43.746Z"
   },
   {
    "duration": 23,
    "start_time": "2022-06-27T08:38:43.757Z"
   },
   {
    "duration": 14,
    "start_time": "2022-06-27T08:38:43.782Z"
   },
   {
    "duration": 22,
    "start_time": "2022-06-27T08:38:43.798Z"
   },
   {
    "duration": 29,
    "start_time": "2022-06-27T08:38:43.822Z"
   },
   {
    "duration": 23,
    "start_time": "2022-06-27T08:38:43.854Z"
   },
   {
    "duration": 28,
    "start_time": "2022-06-27T08:38:43.879Z"
   },
   {
    "duration": 6,
    "start_time": "2022-06-27T08:38:43.910Z"
   },
   {
    "duration": 5,
    "start_time": "2022-06-27T08:38:43.918Z"
   },
   {
    "duration": 9,
    "start_time": "2022-06-27T08:38:43.925Z"
   },
   {
    "duration": 6,
    "start_time": "2022-06-27T08:38:43.968Z"
   },
   {
    "duration": 10,
    "start_time": "2022-06-27T08:38:43.976Z"
   },
   {
    "duration": 10,
    "start_time": "2022-06-27T08:38:43.989Z"
   },
   {
    "duration": 10,
    "start_time": "2022-06-27T08:38:44.001Z"
   },
   {
    "duration": 19,
    "start_time": "2022-06-27T08:38:44.013Z"
   },
   {
    "duration": 11,
    "start_time": "2022-06-27T08:38:44.034Z"
   },
   {
    "duration": 25,
    "start_time": "2022-06-27T08:38:44.048Z"
   },
   {
    "duration": 14,
    "start_time": "2022-06-27T08:38:44.075Z"
   },
   {
    "duration": 14,
    "start_time": "2022-06-27T08:38:44.091Z"
   },
   {
    "duration": 6,
    "start_time": "2022-06-27T08:38:44.107Z"
   },
   {
    "duration": 10,
    "start_time": "2022-06-27T08:38:44.114Z"
   },
   {
    "duration": 42,
    "start_time": "2022-06-27T08:38:44.128Z"
   },
   {
    "duration": 7,
    "start_time": "2022-06-27T08:38:44.171Z"
   },
   {
    "duration": 15,
    "start_time": "2022-06-27T08:38:44.180Z"
   },
   {
    "duration": 6,
    "start_time": "2022-06-27T08:39:16.623Z"
   },
   {
    "duration": 9,
    "start_time": "2022-06-27T08:39:22.145Z"
   },
   {
    "duration": 6,
    "start_time": "2022-06-27T08:41:43.980Z"
   },
   {
    "duration": 11,
    "start_time": "2022-06-27T08:42:44.592Z"
   },
   {
    "duration": 13,
    "start_time": "2022-06-27T08:42:48.471Z"
   },
   {
    "duration": 6,
    "start_time": "2022-06-27T08:43:09.886Z"
   },
   {
    "duration": 8,
    "start_time": "2022-06-27T08:45:58.040Z"
   },
   {
    "duration": 9,
    "start_time": "2022-06-27T08:46:14.298Z"
   },
   {
    "duration": 6,
    "start_time": "2022-06-27T08:46:43.285Z"
   },
   {
    "duration": 7,
    "start_time": "2022-06-27T08:46:44.368Z"
   },
   {
    "duration": 6,
    "start_time": "2022-06-27T08:47:00.170Z"
   },
   {
    "duration": 6,
    "start_time": "2022-06-27T08:47:00.712Z"
   },
   {
    "duration": 2,
    "start_time": "2022-06-27T08:47:03.683Z"
   },
   {
    "duration": 73,
    "start_time": "2022-06-27T08:47:03.687Z"
   },
   {
    "duration": 19,
    "start_time": "2022-06-27T08:47:03.762Z"
   },
   {
    "duration": 14,
    "start_time": "2022-06-27T08:47:03.783Z"
   },
   {
    "duration": 9,
    "start_time": "2022-06-27T08:47:03.799Z"
   },
   {
    "duration": 6,
    "start_time": "2022-06-27T08:47:03.810Z"
   },
   {
    "duration": 9,
    "start_time": "2022-06-27T08:47:03.818Z"
   },
   {
    "duration": 14,
    "start_time": "2022-06-27T08:47:03.829Z"
   },
   {
    "duration": 29,
    "start_time": "2022-06-27T08:47:03.844Z"
   },
   {
    "duration": 26,
    "start_time": "2022-06-27T08:47:03.875Z"
   },
   {
    "duration": 8,
    "start_time": "2022-06-27T08:47:03.902Z"
   },
   {
    "duration": 16,
    "start_time": "2022-06-27T08:47:03.912Z"
   },
   {
    "duration": 4,
    "start_time": "2022-06-27T08:47:03.932Z"
   },
   {
    "duration": 3,
    "start_time": "2022-06-27T08:47:03.968Z"
   },
   {
    "duration": 13,
    "start_time": "2022-06-27T08:47:03.972Z"
   },
   {
    "duration": 6,
    "start_time": "2022-06-27T08:47:03.986Z"
   },
   {
    "duration": 7,
    "start_time": "2022-06-27T08:47:03.993Z"
   },
   {
    "duration": 12,
    "start_time": "2022-06-27T08:47:04.002Z"
   },
   {
    "duration": 12,
    "start_time": "2022-06-27T08:47:04.015Z"
   },
   {
    "duration": 5,
    "start_time": "2022-06-27T08:47:04.029Z"
   },
   {
    "duration": 10,
    "start_time": "2022-06-27T08:47:04.036Z"
   },
   {
    "duration": 25,
    "start_time": "2022-06-27T08:47:04.047Z"
   },
   {
    "duration": 12,
    "start_time": "2022-06-27T08:47:04.074Z"
   },
   {
    "duration": 7,
    "start_time": "2022-06-27T08:47:04.088Z"
   },
   {
    "duration": 10,
    "start_time": "2022-06-27T08:47:04.097Z"
   },
   {
    "duration": 7,
    "start_time": "2022-06-27T08:47:04.109Z"
   },
   {
    "duration": 20,
    "start_time": "2022-06-27T08:47:04.118Z"
   },
   {
    "duration": 27,
    "start_time": "2022-06-27T08:47:04.140Z"
   },
   {
    "duration": 5,
    "start_time": "2022-06-27T08:47:04.169Z"
   },
   {
    "duration": 8,
    "start_time": "2022-06-27T08:47:04.176Z"
   },
   {
    "duration": 29,
    "start_time": "2022-06-27T08:47:04.186Z"
   },
   {
    "duration": 0,
    "start_time": "2022-06-27T08:47:04.216Z"
   },
   {
    "duration": 0,
    "start_time": "2022-06-27T08:47:04.217Z"
   },
   {
    "duration": 0,
    "start_time": "2022-06-27T08:47:04.218Z"
   },
   {
    "duration": 389,
    "start_time": "2022-06-27T08:47:15.593Z"
   },
   {
    "duration": 78,
    "start_time": "2022-06-27T08:47:15.983Z"
   },
   {
    "duration": 21,
    "start_time": "2022-06-27T08:47:16.062Z"
   },
   {
    "duration": 19,
    "start_time": "2022-06-27T08:47:16.085Z"
   },
   {
    "duration": 41,
    "start_time": "2022-06-27T08:47:16.106Z"
   },
   {
    "duration": 29,
    "start_time": "2022-06-27T08:47:16.149Z"
   },
   {
    "duration": 32,
    "start_time": "2022-06-27T08:47:16.180Z"
   },
   {
    "duration": 35,
    "start_time": "2022-06-27T08:47:16.214Z"
   },
   {
    "duration": 17,
    "start_time": "2022-06-27T08:47:16.251Z"
   },
   {
    "duration": 52,
    "start_time": "2022-06-27T08:47:16.271Z"
   },
   {
    "duration": 7,
    "start_time": "2022-06-27T08:47:16.325Z"
   },
   {
    "duration": 38,
    "start_time": "2022-06-27T08:47:16.333Z"
   },
   {
    "duration": 36,
    "start_time": "2022-06-27T08:47:16.373Z"
   },
   {
    "duration": 14,
    "start_time": "2022-06-27T08:47:16.411Z"
   },
   {
    "duration": 26,
    "start_time": "2022-06-27T08:47:16.427Z"
   },
   {
    "duration": 29,
    "start_time": "2022-06-27T08:47:16.455Z"
   },
   {
    "duration": 35,
    "start_time": "2022-06-27T08:47:16.485Z"
   },
   {
    "duration": 36,
    "start_time": "2022-06-27T08:47:16.521Z"
   },
   {
    "duration": 33,
    "start_time": "2022-06-27T08:47:16.559Z"
   },
   {
    "duration": 13,
    "start_time": "2022-06-27T08:47:16.593Z"
   },
   {
    "duration": 29,
    "start_time": "2022-06-27T08:47:16.608Z"
   },
   {
    "duration": 24,
    "start_time": "2022-06-27T08:47:16.639Z"
   },
   {
    "duration": 24,
    "start_time": "2022-06-27T08:47:16.665Z"
   },
   {
    "duration": 30,
    "start_time": "2022-06-27T08:47:16.691Z"
   },
   {
    "duration": 51,
    "start_time": "2022-06-27T08:47:16.723Z"
   },
   {
    "duration": 19,
    "start_time": "2022-06-27T08:47:16.776Z"
   },
   {
    "duration": 41,
    "start_time": "2022-06-27T08:47:16.797Z"
   },
   {
    "duration": 8,
    "start_time": "2022-06-27T08:47:16.841Z"
   },
   {
    "duration": 23,
    "start_time": "2022-06-27T08:47:16.851Z"
   },
   {
    "duration": 18,
    "start_time": "2022-06-27T08:47:16.876Z"
   },
   {
    "duration": 80,
    "start_time": "2022-06-27T08:47:16.896Z"
   },
   {
    "duration": 1,
    "start_time": "2022-06-27T08:47:16.977Z"
   },
   {
    "duration": 0,
    "start_time": "2022-06-27T08:47:16.979Z"
   },
   {
    "duration": 0,
    "start_time": "2022-06-27T08:47:16.980Z"
   },
   {
    "duration": 8,
    "start_time": "2022-06-27T08:47:31.726Z"
   },
   {
    "duration": 6,
    "start_time": "2022-06-27T08:47:32.852Z"
   },
   {
    "duration": 8,
    "start_time": "2022-06-27T08:47:33.324Z"
   },
   {
    "duration": 10,
    "start_time": "2022-06-27T08:50:44.977Z"
   },
   {
    "duration": 6,
    "start_time": "2022-06-27T08:50:59.417Z"
   },
   {
    "duration": 9,
    "start_time": "2022-06-27T08:51:00.208Z"
   },
   {
    "duration": 9,
    "start_time": "2022-06-27T08:53:30.594Z"
   },
   {
    "duration": 7,
    "start_time": "2022-06-27T08:53:46.233Z"
   },
   {
    "duration": 7,
    "start_time": "2022-06-27T08:54:30.449Z"
   },
   {
    "duration": 6,
    "start_time": "2022-06-27T08:54:47.698Z"
   },
   {
    "duration": 5,
    "start_time": "2022-06-27T08:56:00.453Z"
   },
   {
    "duration": 7,
    "start_time": "2022-06-27T08:56:00.958Z"
   },
   {
    "duration": 6,
    "start_time": "2022-06-27T08:59:54.226Z"
   },
   {
    "duration": 19,
    "start_time": "2022-06-27T09:03:27.573Z"
   },
   {
    "duration": 7,
    "start_time": "2022-06-27T09:07:06.946Z"
   },
   {
    "duration": 86,
    "start_time": "2022-06-27T09:16:23.945Z"
   },
   {
    "duration": 9,
    "start_time": "2022-06-27T09:16:38.431Z"
   },
   {
    "duration": 9,
    "start_time": "2022-06-27T09:16:45.197Z"
   },
   {
    "duration": 3,
    "start_time": "2022-06-27T09:18:18.496Z"
   },
   {
    "duration": 293,
    "start_time": "2022-06-27T09:18:33.310Z"
   },
   {
    "duration": 9,
    "start_time": "2022-06-27T09:18:45.752Z"
   },
   {
    "duration": 3,
    "start_time": "2022-06-27T09:18:52.721Z"
   },
   {
    "duration": 3,
    "start_time": "2022-06-27T09:19:00.885Z"
   },
   {
    "duration": 11,
    "start_time": "2022-06-27T09:19:01.569Z"
   },
   {
    "duration": 44,
    "start_time": "2022-06-27T09:19:40.678Z"
   },
   {
    "duration": 2,
    "start_time": "2022-06-27T09:19:52.666Z"
   },
   {
    "duration": 10,
    "start_time": "2022-06-27T09:19:53.066Z"
   },
   {
    "duration": 2,
    "start_time": "2022-06-27T09:25:35.643Z"
   },
   {
    "duration": 10,
    "start_time": "2022-06-27T09:25:36.562Z"
   },
   {
    "duration": 94,
    "start_time": "2022-06-27T09:27:07.385Z"
   },
   {
    "duration": 46,
    "start_time": "2022-06-27T09:34:34.998Z"
   },
   {
    "duration": 196,
    "start_time": "2022-06-27T09:34:38.304Z"
   },
   {
    "duration": 261,
    "start_time": "2022-06-27T09:34:50.699Z"
   },
   {
    "duration": 9,
    "start_time": "2022-06-27T09:35:06.126Z"
   },
   {
    "duration": 6,
    "start_time": "2022-06-27T09:35:17.319Z"
   },
   {
    "duration": 7,
    "start_time": "2022-06-27T09:35:43.336Z"
   },
   {
    "duration": 6,
    "start_time": "2022-06-27T09:35:46.214Z"
   },
   {
    "duration": 6,
    "start_time": "2022-06-27T09:36:03.762Z"
   },
   {
    "duration": 6,
    "start_time": "2022-06-27T09:36:04.171Z"
   },
   {
    "duration": 6,
    "start_time": "2022-06-27T09:36:13.927Z"
   },
   {
    "duration": 7,
    "start_time": "2022-06-27T09:36:16.608Z"
   },
   {
    "duration": 5,
    "start_time": "2022-06-27T09:36:16.996Z"
   },
   {
    "duration": 6,
    "start_time": "2022-06-27T09:36:25.478Z"
   },
   {
    "duration": 5,
    "start_time": "2022-06-27T09:36:26.246Z"
   },
   {
    "duration": 236,
    "start_time": "2022-06-27T09:36:35.968Z"
   },
   {
    "duration": 7,
    "start_time": "2022-06-27T09:36:42.910Z"
   },
   {
    "duration": 5,
    "start_time": "2022-06-27T09:36:45.243Z"
   },
   {
    "duration": 18,
    "start_time": "2022-06-27T09:41:48.875Z"
   },
   {
    "duration": 7,
    "start_time": "2022-06-27T09:41:58.965Z"
   },
   {
    "duration": 797,
    "start_time": "2022-06-27T09:43:42.401Z"
   },
   {
    "duration": 977,
    "start_time": "2022-06-27T09:43:48.473Z"
   },
   {
    "duration": 12,
    "start_time": "2022-06-27T09:44:03.149Z"
   },
   {
    "duration": 11,
    "start_time": "2022-06-27T09:44:06.081Z"
   },
   {
    "duration": 10,
    "start_time": "2022-06-27T09:44:08.675Z"
   },
   {
    "duration": 18,
    "start_time": "2022-06-27T09:44:08.897Z"
   },
   {
    "duration": 11,
    "start_time": "2022-06-27T09:44:21.753Z"
   },
   {
    "duration": 11,
    "start_time": "2022-06-27T09:44:23.316Z"
   },
   {
    "duration": 10,
    "start_time": "2022-06-27T09:44:44.082Z"
   },
   {
    "duration": 12,
    "start_time": "2022-06-27T09:44:46.189Z"
   },
   {
    "duration": 9,
    "start_time": "2022-06-27T09:47:34.719Z"
   },
   {
    "duration": 4,
    "start_time": "2022-06-27T09:47:39.999Z"
   },
   {
    "duration": 7,
    "start_time": "2022-06-27T09:48:20.336Z"
   },
   {
    "duration": 686,
    "start_time": "2022-06-27T09:48:23.475Z"
   },
   {
    "duration": 4,
    "start_time": "2022-06-27T09:49:06.026Z"
   },
   {
    "duration": 843,
    "start_time": "2022-06-27T09:49:08.577Z"
   },
   {
    "duration": 9,
    "start_time": "2022-06-27T09:49:15.849Z"
   },
   {
    "duration": 8,
    "start_time": "2022-06-27T09:49:22.781Z"
   },
   {
    "duration": 8,
    "start_time": "2022-06-27T09:49:26.767Z"
   },
   {
    "duration": 11,
    "start_time": "2022-06-27T09:49:44.781Z"
   },
   {
    "duration": 7,
    "start_time": "2022-06-27T09:49:54.312Z"
   },
   {
    "duration": 8,
    "start_time": "2022-06-27T09:50:13.643Z"
   },
   {
    "duration": 12,
    "start_time": "2022-06-27T09:50:20.886Z"
   },
   {
    "duration": 9,
    "start_time": "2022-06-27T09:50:27.173Z"
   },
   {
    "duration": 5,
    "start_time": "2022-06-27T09:51:07.888Z"
   },
   {
    "duration": 23,
    "start_time": "2022-06-27T09:53:02.022Z"
   },
   {
    "duration": 18,
    "start_time": "2022-06-27T09:53:09.825Z"
   },
   {
    "duration": 17,
    "start_time": "2022-06-27T09:53:10.919Z"
   },
   {
    "duration": 10,
    "start_time": "2022-06-27T09:53:23.312Z"
   },
   {
    "duration": 7,
    "start_time": "2022-06-27T09:54:18.987Z"
   },
   {
    "duration": 5,
    "start_time": "2022-06-27T09:54:24.692Z"
   },
   {
    "duration": 9,
    "start_time": "2022-06-27T09:54:49.198Z"
   },
   {
    "duration": 11,
    "start_time": "2022-06-27T09:54:52.763Z"
   },
   {
    "duration": 5,
    "start_time": "2022-06-27T09:57:02.835Z"
   },
   {
    "duration": 8,
    "start_time": "2022-06-27T09:57:16.039Z"
   },
   {
    "duration": 8,
    "start_time": "2022-06-27T09:57:39.971Z"
   },
   {
    "duration": 566,
    "start_time": "2022-06-27T09:57:46.155Z"
   },
   {
    "duration": 4,
    "start_time": "2022-06-27T09:58:40.257Z"
   },
   {
    "duration": 155,
    "start_time": "2022-06-27T09:58:44.700Z"
   },
   {
    "duration": 219,
    "start_time": "2022-06-27T09:58:56.204Z"
   },
   {
    "duration": 7,
    "start_time": "2022-06-27T10:04:48.099Z"
   },
   {
    "duration": 58,
    "start_time": "2022-06-27T10:04:56.150Z"
   },
   {
    "duration": 6,
    "start_time": "2022-06-27T10:04:59.865Z"
   },
   {
    "duration": 7,
    "start_time": "2022-06-27T10:05:24.755Z"
   },
   {
    "duration": 6,
    "start_time": "2022-06-27T10:07:26.117Z"
   },
   {
    "duration": 6,
    "start_time": "2022-06-27T10:07:41.615Z"
   },
   {
    "duration": 6,
    "start_time": "2022-06-27T10:12:40.558Z"
   },
   {
    "duration": 17,
    "start_time": "2022-06-27T10:16:39.310Z"
   },
   {
    "duration": 199,
    "start_time": "2022-06-27T10:16:58.985Z"
   },
   {
    "duration": 14,
    "start_time": "2022-06-27T10:18:31.267Z"
   },
   {
    "duration": 14,
    "start_time": "2022-06-27T10:18:35.874Z"
   },
   {
    "duration": 16,
    "start_time": "2022-06-27T10:18:42.239Z"
   },
   {
    "duration": 181,
    "start_time": "2022-06-27T10:18:50.412Z"
   },
   {
    "duration": 178,
    "start_time": "2022-06-27T10:19:34.425Z"
   },
   {
    "duration": 22,
    "start_time": "2022-06-27T10:19:46.410Z"
   },
   {
    "duration": 20,
    "start_time": "2022-06-27T10:19:52.499Z"
   },
   {
    "duration": 179,
    "start_time": "2022-06-27T10:20:01.637Z"
   },
   {
    "duration": 175,
    "start_time": "2022-06-27T10:23:20.352Z"
   },
   {
    "duration": 148,
    "start_time": "2022-06-27T10:24:15.871Z"
   },
   {
    "duration": 48,
    "start_time": "2022-06-27T10:24:21.149Z"
   },
   {
    "duration": 57,
    "start_time": "2022-06-27T10:24:36.793Z"
   },
   {
    "duration": 48,
    "start_time": "2022-06-27T10:24:49.127Z"
   },
   {
    "duration": 48,
    "start_time": "2022-06-27T10:25:07.002Z"
   },
   {
    "duration": 69,
    "start_time": "2022-06-27T10:25:16.428Z"
   },
   {
    "duration": 7,
    "start_time": "2022-06-27T10:25:52.416Z"
   },
   {
    "duration": 10,
    "start_time": "2022-06-27T10:26:54.828Z"
   },
   {
    "duration": 7,
    "start_time": "2022-06-27T10:26:57.489Z"
   },
   {
    "duration": 5,
    "start_time": "2022-06-27T10:26:57.760Z"
   },
   {
    "duration": 188,
    "start_time": "2022-06-27T10:26:58.138Z"
   },
   {
    "duration": 175,
    "start_time": "2022-06-27T10:27:33.726Z"
   },
   {
    "duration": 180,
    "start_time": "2022-06-27T10:27:43.266Z"
   },
   {
    "duration": 177,
    "start_time": "2022-06-27T10:27:50.372Z"
   },
   {
    "duration": 183,
    "start_time": "2022-06-27T10:31:16.742Z"
   },
   {
    "duration": 247,
    "start_time": "2022-06-27T10:31:50.987Z"
   },
   {
    "duration": 179,
    "start_time": "2022-06-27T10:31:58.170Z"
   },
   {
    "duration": 199,
    "start_time": "2022-06-27T10:32:18.536Z"
   },
   {
    "duration": 171,
    "start_time": "2022-06-27T10:37:55.923Z"
   },
   {
    "duration": 6,
    "start_time": "2022-06-27T10:46:19.007Z"
   },
   {
    "duration": 260,
    "start_time": "2022-06-27T10:49:29.043Z"
   },
   {
    "duration": 53,
    "start_time": "2022-06-27T10:49:52.376Z"
   },
   {
    "duration": 249,
    "start_time": "2022-06-27T10:50:01.854Z"
   },
   {
    "duration": 49,
    "start_time": "2022-06-27T10:50:06.695Z"
   },
   {
    "duration": 250,
    "start_time": "2022-06-27T10:50:34.309Z"
   },
   {
    "duration": 272,
    "start_time": "2022-06-27T10:50:59.480Z"
   },
   {
    "duration": 285,
    "start_time": "2022-06-27T10:52:06.899Z"
   },
   {
    "duration": 249,
    "start_time": "2022-06-27T10:52:20.313Z"
   },
   {
    "duration": 24,
    "start_time": "2022-06-27T10:53:12.526Z"
   },
   {
    "duration": 40,
    "start_time": "2022-06-27T10:53:29.222Z"
   },
   {
    "duration": 288,
    "start_time": "2022-06-27T10:53:42.627Z"
   },
   {
    "duration": 337,
    "start_time": "2022-06-27T10:54:10.275Z"
   },
   {
    "duration": 259,
    "start_time": "2022-06-27T10:54:27.050Z"
   },
   {
    "duration": 246,
    "start_time": "2022-06-27T10:54:36.557Z"
   },
   {
    "duration": 303,
    "start_time": "2022-06-27T10:54:56.172Z"
   },
   {
    "duration": 336,
    "start_time": "2022-06-27T10:55:09.787Z"
   },
   {
    "duration": 262,
    "start_time": "2022-06-27T10:55:42.173Z"
   },
   {
    "duration": 24,
    "start_time": "2022-06-27T10:58:28.177Z"
   },
   {
    "duration": 22,
    "start_time": "2022-06-27T10:58:58.126Z"
   },
   {
    "duration": 21,
    "start_time": "2022-06-27T11:00:22.563Z"
   },
   {
    "duration": 19,
    "start_time": "2022-06-27T11:00:27.658Z"
   },
   {
    "duration": 17,
    "start_time": "2022-06-27T11:01:25.157Z"
   },
   {
    "duration": 21,
    "start_time": "2022-06-27T11:01:38.305Z"
   },
   {
    "duration": 20,
    "start_time": "2022-06-27T11:01:41.018Z"
   },
   {
    "duration": 9,
    "start_time": "2022-06-27T11:07:46.937Z"
   },
   {
    "duration": 10,
    "start_time": "2022-06-27T11:07:52.402Z"
   },
   {
    "duration": 11,
    "start_time": "2022-06-27T11:08:05.877Z"
   },
   {
    "duration": 138,
    "start_time": "2022-06-27T11:08:17.320Z"
   },
   {
    "duration": 136,
    "start_time": "2022-06-27T11:08:52.287Z"
   },
   {
    "duration": 118,
    "start_time": "2022-06-27T11:08:57.313Z"
   },
   {
    "duration": 125,
    "start_time": "2022-06-27T11:12:55.298Z"
   },
   {
    "duration": 186,
    "start_time": "2022-06-27T11:12:59.877Z"
   },
   {
    "duration": 218,
    "start_time": "2022-06-27T11:13:12.707Z"
   },
   {
    "duration": 130,
    "start_time": "2022-06-27T11:13:29.601Z"
   },
   {
    "duration": 150,
    "start_time": "2022-06-27T11:13:37.722Z"
   },
   {
    "duration": 132,
    "start_time": "2022-06-27T11:13:44.429Z"
   },
   {
    "duration": 10,
    "start_time": "2022-06-27T11:16:32.403Z"
   },
   {
    "duration": 182,
    "start_time": "2022-06-27T11:16:41.050Z"
   },
   {
    "duration": 242,
    "start_time": "2022-06-27T11:17:18.876Z"
   },
   {
    "duration": 144,
    "start_time": "2022-06-27T11:17:41.591Z"
   },
   {
    "duration": 191,
    "start_time": "2022-06-27T11:17:46.579Z"
   },
   {
    "duration": 138,
    "start_time": "2022-06-27T11:17:56.623Z"
   },
   {
    "duration": 149,
    "start_time": "2022-06-27T11:18:11.477Z"
   },
   {
    "duration": 157,
    "start_time": "2022-06-27T11:18:19.562Z"
   },
   {
    "duration": 126,
    "start_time": "2022-06-27T11:18:30.470Z"
   },
   {
    "duration": 173,
    "start_time": "2022-06-27T11:19:09.638Z"
   },
   {
    "duration": 8,
    "start_time": "2022-06-27T11:22:33.945Z"
   },
   {
    "duration": 139,
    "start_time": "2022-06-27T11:22:58.634Z"
   },
   {
    "duration": 263,
    "start_time": "2022-06-27T11:23:11.567Z"
   },
   {
    "duration": 127,
    "start_time": "2022-06-27T11:23:27.354Z"
   },
   {
    "duration": 110,
    "start_time": "2022-06-27T11:23:38.048Z"
   },
   {
    "duration": 2,
    "start_time": "2022-06-27T11:29:03.344Z"
   },
   {
    "duration": 5,
    "start_time": "2022-06-27T11:30:31.603Z"
   },
   {
    "duration": 144,
    "start_time": "2022-06-27T11:30:55.532Z"
   },
   {
    "duration": 124,
    "start_time": "2022-06-27T11:31:11.558Z"
   },
   {
    "duration": 124,
    "start_time": "2022-06-27T11:31:16.917Z"
   },
   {
    "duration": 109,
    "start_time": "2022-06-27T11:31:20.000Z"
   },
   {
    "duration": 188,
    "start_time": "2022-06-27T11:31:33.352Z"
   },
   {
    "duration": 121,
    "start_time": "2022-06-27T11:31:39.163Z"
   },
   {
    "duration": 115,
    "start_time": "2022-06-27T11:31:47.074Z"
   },
   {
    "duration": 15,
    "start_time": "2022-06-27T11:32:13.462Z"
   },
   {
    "duration": 119,
    "start_time": "2022-06-27T11:32:25.819Z"
   },
   {
    "duration": 121,
    "start_time": "2022-06-27T11:33:59.114Z"
   },
   {
    "duration": 8,
    "start_time": "2022-06-27T11:37:45.179Z"
   },
   {
    "duration": 6,
    "start_time": "2022-06-27T11:37:59.341Z"
   },
   {
    "duration": 49,
    "start_time": "2022-06-27T11:38:09.511Z"
   },
   {
    "duration": 8,
    "start_time": "2022-06-27T11:38:17.774Z"
   },
   {
    "duration": 7,
    "start_time": "2022-06-27T11:38:38.443Z"
   },
   {
    "duration": 6,
    "start_time": "2022-06-27T11:38:52.727Z"
   },
   {
    "duration": 10,
    "start_time": "2022-06-27T11:39:54.504Z"
   },
   {
    "duration": 8,
    "start_time": "2022-06-27T11:40:11.150Z"
   },
   {
    "duration": 5,
    "start_time": "2022-06-27T11:40:22.153Z"
   },
   {
    "duration": 4,
    "start_time": "2022-06-27T11:40:31.389Z"
   },
   {
    "duration": 9,
    "start_time": "2022-06-27T11:41:12.168Z"
   },
   {
    "duration": 20,
    "start_time": "2022-06-27T11:41:21.221Z"
   },
   {
    "duration": 12,
    "start_time": "2022-06-27T11:41:31.554Z"
   },
   {
    "duration": 7,
    "start_time": "2022-06-27T11:41:37.006Z"
   },
   {
    "duration": 8,
    "start_time": "2022-06-27T11:41:50.578Z"
   },
   {
    "duration": 8,
    "start_time": "2022-06-27T11:42:23.503Z"
   },
   {
    "duration": 10,
    "start_time": "2022-06-27T11:42:57.184Z"
   },
   {
    "duration": 9,
    "start_time": "2022-06-27T11:43:09.124Z"
   },
   {
    "duration": 8,
    "start_time": "2022-06-27T11:43:17.708Z"
   },
   {
    "duration": 10,
    "start_time": "2022-06-27T11:43:22.871Z"
   },
   {
    "duration": 8,
    "start_time": "2022-06-27T11:43:34.512Z"
   },
   {
    "duration": 9,
    "start_time": "2022-06-27T11:43:44.251Z"
   },
   {
    "duration": 7,
    "start_time": "2022-06-27T11:43:50.584Z"
   },
   {
    "duration": 10,
    "start_time": "2022-06-27T11:45:20.449Z"
   },
   {
    "duration": 8,
    "start_time": "2022-06-27T11:45:29.809Z"
   },
   {
    "duration": 8,
    "start_time": "2022-06-27T11:45:34.408Z"
   },
   {
    "duration": 10,
    "start_time": "2022-06-27T11:45:38.172Z"
   },
   {
    "duration": 16,
    "start_time": "2022-06-27T11:48:31.364Z"
   },
   {
    "duration": 270,
    "start_time": "2022-06-27T13:14:15.978Z"
   },
   {
    "duration": 285,
    "start_time": "2022-06-27T13:18:08.382Z"
   },
   {
    "duration": 254,
    "start_time": "2022-06-27T13:19:12.900Z"
   },
   {
    "duration": 270,
    "start_time": "2022-06-27T13:20:57.471Z"
   },
   {
    "duration": 185,
    "start_time": "2022-06-27T13:22:04.873Z"
   },
   {
    "duration": 149,
    "start_time": "2022-06-27T13:24:44.765Z"
   },
   {
    "duration": 132,
    "start_time": "2022-06-27T13:24:57.770Z"
   },
   {
    "duration": 10,
    "start_time": "2022-06-27T13:26:56.803Z"
   },
   {
    "duration": 117,
    "start_time": "2022-06-27T13:27:20.092Z"
   },
   {
    "duration": 128,
    "start_time": "2022-06-27T13:27:23.425Z"
   },
   {
    "duration": 135,
    "start_time": "2022-06-27T13:27:26.925Z"
   },
   {
    "duration": 145,
    "start_time": "2022-06-27T13:27:34.966Z"
   },
   {
    "duration": 140,
    "start_time": "2022-06-27T13:27:44.007Z"
   },
   {
    "duration": 15,
    "start_time": "2022-06-27T13:28:16.298Z"
   },
   {
    "duration": 4,
    "start_time": "2022-06-27T13:29:28.987Z"
   },
   {
    "duration": 146,
    "start_time": "2022-06-27T13:29:41.323Z"
   },
   {
    "duration": 140,
    "start_time": "2022-06-27T13:30:06.353Z"
   },
   {
    "duration": 4,
    "start_time": "2022-06-27T13:30:32.374Z"
   },
   {
    "duration": 15,
    "start_time": "2022-06-27T13:30:42.848Z"
   },
   {
    "duration": 48,
    "start_time": "2022-06-27T13:31:22.126Z"
   },
   {
    "duration": 47,
    "start_time": "2022-06-27T13:31:42.119Z"
   },
   {
    "duration": 17,
    "start_time": "2022-06-27T13:32:04.212Z"
   },
   {
    "duration": 790,
    "start_time": "2022-06-27T13:32:13.052Z"
   },
   {
    "duration": 18,
    "start_time": "2022-06-27T13:32:20.315Z"
   },
   {
    "duration": 18,
    "start_time": "2022-06-27T13:32:25.858Z"
   },
   {
    "duration": 16,
    "start_time": "2022-06-27T13:32:39.204Z"
   },
   {
    "duration": 17,
    "start_time": "2022-06-27T13:32:58.280Z"
   },
   {
    "duration": 51,
    "start_time": "2022-06-27T13:33:27.350Z"
   },
   {
    "duration": 17,
    "start_time": "2022-06-27T13:33:31.277Z"
   },
   {
    "duration": 16,
    "start_time": "2022-06-27T13:34:04.939Z"
   },
   {
    "duration": 17,
    "start_time": "2022-06-27T13:34:19.675Z"
   },
   {
    "duration": 16,
    "start_time": "2022-06-27T13:34:23.394Z"
   },
   {
    "duration": 17,
    "start_time": "2022-06-27T13:34:43.535Z"
   },
   {
    "duration": 16,
    "start_time": "2022-06-27T13:34:57.179Z"
   },
   {
    "duration": 17,
    "start_time": "2022-06-27T13:35:00.639Z"
   },
   {
    "duration": 16,
    "start_time": "2022-06-27T13:35:48.062Z"
   },
   {
    "duration": 16,
    "start_time": "2022-06-27T13:36:42.482Z"
   },
   {
    "duration": 18,
    "start_time": "2022-06-27T13:36:48.398Z"
   },
   {
    "duration": 17,
    "start_time": "2022-06-27T13:37:11.642Z"
   },
   {
    "duration": 16,
    "start_time": "2022-06-27T13:38:51.154Z"
   },
   {
    "duration": 16,
    "start_time": "2022-06-27T13:39:14.183Z"
   },
   {
    "duration": 17,
    "start_time": "2022-06-27T13:40:36.148Z"
   },
   {
    "duration": 16,
    "start_time": "2022-06-27T13:40:37.802Z"
   },
   {
    "duration": 568,
    "start_time": "2022-06-27T13:40:47.824Z"
   },
   {
    "duration": 73,
    "start_time": "2022-06-27T13:40:48.395Z"
   },
   {
    "duration": 19,
    "start_time": "2022-06-27T13:40:48.470Z"
   },
   {
    "duration": 16,
    "start_time": "2022-06-27T13:40:48.491Z"
   },
   {
    "duration": 11,
    "start_time": "2022-06-27T13:40:48.509Z"
   },
   {
    "duration": 9,
    "start_time": "2022-06-27T13:40:48.522Z"
   },
   {
    "duration": 10,
    "start_time": "2022-06-27T13:40:48.533Z"
   },
   {
    "duration": 15,
    "start_time": "2022-06-27T13:40:48.545Z"
   },
   {
    "duration": 17,
    "start_time": "2022-06-27T13:40:48.562Z"
   },
   {
    "duration": 28,
    "start_time": "2022-06-27T13:40:48.581Z"
   },
   {
    "duration": 7,
    "start_time": "2022-06-27T13:40:48.610Z"
   },
   {
    "duration": 15,
    "start_time": "2022-06-27T13:40:48.619Z"
   },
   {
    "duration": 31,
    "start_time": "2022-06-27T13:40:48.636Z"
   },
   {
    "duration": 3,
    "start_time": "2022-06-27T13:40:48.669Z"
   },
   {
    "duration": 8,
    "start_time": "2022-06-27T13:40:48.673Z"
   },
   {
    "duration": 4,
    "start_time": "2022-06-27T13:40:48.683Z"
   },
   {
    "duration": 7,
    "start_time": "2022-06-27T13:40:48.688Z"
   },
   {
    "duration": 5,
    "start_time": "2022-06-27T13:40:48.696Z"
   },
   {
    "duration": 6,
    "start_time": "2022-06-27T13:40:48.703Z"
   },
   {
    "duration": 6,
    "start_time": "2022-06-27T13:40:48.710Z"
   },
   {
    "duration": 7,
    "start_time": "2022-06-27T13:40:48.717Z"
   },
   {
    "duration": 5,
    "start_time": "2022-06-27T13:40:48.725Z"
   },
   {
    "duration": 40,
    "start_time": "2022-06-27T13:40:48.731Z"
   },
   {
    "duration": 6,
    "start_time": "2022-06-27T13:40:48.772Z"
   },
   {
    "duration": 6,
    "start_time": "2022-06-27T13:40:48.780Z"
   },
   {
    "duration": 7,
    "start_time": "2022-06-27T13:40:48.788Z"
   },
   {
    "duration": 22,
    "start_time": "2022-06-27T13:40:48.797Z"
   },
   {
    "duration": 5,
    "start_time": "2022-06-27T13:40:48.824Z"
   },
   {
    "duration": 6,
    "start_time": "2022-06-27T13:40:48.831Z"
   },
   {
    "duration": 32,
    "start_time": "2022-06-27T13:40:48.839Z"
   },
   {
    "duration": 12,
    "start_time": "2022-06-27T13:40:48.873Z"
   },
   {
    "duration": 15,
    "start_time": "2022-06-27T13:40:48.887Z"
   },
   {
    "duration": 16,
    "start_time": "2022-06-27T13:40:48.904Z"
   },
   {
    "duration": 24,
    "start_time": "2022-06-27T13:40:48.922Z"
   },
   {
    "duration": 10,
    "start_time": "2022-06-27T13:40:48.949Z"
   },
   {
    "duration": 36,
    "start_time": "2022-06-27T13:40:48.961Z"
   },
   {
    "duration": 15,
    "start_time": "2022-06-27T13:40:48.999Z"
   },
   {
    "duration": 24,
    "start_time": "2022-06-27T13:40:49.016Z"
   },
   {
    "duration": 12,
    "start_time": "2022-06-27T13:40:49.042Z"
   },
   {
    "duration": 20,
    "start_time": "2022-06-27T13:40:49.056Z"
   },
   {
    "duration": 5,
    "start_time": "2022-06-27T13:40:49.078Z"
   },
   {
    "duration": 10,
    "start_time": "2022-06-27T13:40:49.085Z"
   },
   {
    "duration": 8,
    "start_time": "2022-06-27T13:40:49.097Z"
   },
   {
    "duration": 21,
    "start_time": "2022-06-27T13:40:49.107Z"
   },
   {
    "duration": 14,
    "start_time": "2022-06-27T13:40:49.130Z"
   },
   {
    "duration": 4,
    "start_time": "2022-06-27T13:40:49.146Z"
   },
   {
    "duration": 7,
    "start_time": "2022-06-27T13:40:49.168Z"
   },
   {
    "duration": 157,
    "start_time": "2022-06-27T13:40:49.177Z"
   },
   {
    "duration": 6,
    "start_time": "2022-06-27T13:40:49.336Z"
   },
   {
    "duration": 23,
    "start_time": "2022-06-27T13:40:49.344Z"
   },
   {
    "duration": 5,
    "start_time": "2022-06-27T13:40:49.369Z"
   },
   {
    "duration": 160,
    "start_time": "2022-06-27T13:40:49.375Z"
   },
   {
    "duration": 160,
    "start_time": "2022-06-27T13:40:49.537Z"
   },
   {
    "duration": 21,
    "start_time": "2022-06-27T13:40:49.699Z"
   },
   {
    "duration": 266,
    "start_time": "2022-06-27T13:40:49.721Z"
   },
   {
    "duration": 171,
    "start_time": "2022-06-27T13:40:49.989Z"
   },
   {
    "duration": 167,
    "start_time": "2022-06-27T13:40:50.162Z"
   },
   {
    "duration": 4,
    "start_time": "2022-06-27T13:40:50.331Z"
   },
   {
    "duration": 139,
    "start_time": "2022-06-27T13:40:50.336Z"
   },
   {
    "duration": 8,
    "start_time": "2022-06-27T13:40:50.477Z"
   },
   {
    "duration": 148,
    "start_time": "2022-06-27T13:40:50.486Z"
   },
   {
    "duration": 144,
    "start_time": "2022-06-27T13:40:50.636Z"
   },
   {
    "duration": 17,
    "start_time": "2022-06-27T13:40:50.782Z"
   },
   {
    "duration": 133,
    "start_time": "2022-06-27T13:43:19.925Z"
   },
   {
    "duration": 126,
    "start_time": "2022-06-27T13:43:23.057Z"
   },
   {
    "duration": 15,
    "start_time": "2022-06-27T13:43:25.461Z"
   },
   {
    "duration": 52,
    "start_time": "2022-06-27T14:11:58.041Z"
   },
   {
    "duration": 62,
    "start_time": "2022-06-27T14:12:08.493Z"
   },
   {
    "duration": 11,
    "start_time": "2022-06-27T14:12:13.491Z"
   },
   {
    "duration": 9,
    "start_time": "2022-06-27T14:12:21.736Z"
   },
   {
    "duration": 12,
    "start_time": "2022-06-27T14:12:29.026Z"
   },
   {
    "duration": 193,
    "start_time": "2022-06-27T14:13:22.616Z"
   },
   {
    "duration": 11,
    "start_time": "2022-06-27T14:13:22.812Z"
   },
   {
    "duration": 209,
    "start_time": "2022-06-27T14:13:30.268Z"
   },
   {
    "duration": 216,
    "start_time": "2022-06-27T14:13:35.695Z"
   },
   {
    "duration": 69,
    "start_time": "2022-06-27T14:13:50.469Z"
   },
   {
    "duration": 207,
    "start_time": "2022-06-27T14:13:57.856Z"
   },
   {
    "duration": 289,
    "start_time": "2022-06-27T14:14:23.521Z"
   },
   {
    "duration": 180,
    "start_time": "2022-06-27T14:14:33.339Z"
   },
   {
    "duration": 273,
    "start_time": "2022-06-27T14:14:58.554Z"
   },
   {
    "duration": 172,
    "start_time": "2022-06-27T14:15:19.875Z"
   },
   {
    "duration": 219,
    "start_time": "2022-06-27T14:15:29.850Z"
   },
   {
    "duration": 174,
    "start_time": "2022-06-27T14:15:37.215Z"
   },
   {
    "duration": 229,
    "start_time": "2022-06-27T14:15:58.842Z"
   },
   {
    "duration": 184,
    "start_time": "2022-06-27T14:16:05.777Z"
   },
   {
    "duration": 189,
    "start_time": "2022-06-27T14:23:35.825Z"
   },
   {
    "duration": 7,
    "start_time": "2022-06-27T14:30:07.258Z"
   },
   {
    "duration": 70,
    "start_time": "2022-06-27T14:32:07.530Z"
   },
   {
    "duration": 152,
    "start_time": "2022-06-27T14:50:02.599Z"
   },
   {
    "duration": 17,
    "start_time": "2022-06-27T14:50:27.192Z"
   },
   {
    "duration": 18,
    "start_time": "2022-06-27T14:50:40.665Z"
   },
   {
    "duration": 22,
    "start_time": "2022-06-27T14:50:46.513Z"
   },
   {
    "duration": 17,
    "start_time": "2022-06-27T14:50:50.427Z"
   },
   {
    "duration": 26,
    "start_time": "2022-06-27T14:51:02.616Z"
   },
   {
    "duration": 4,
    "start_time": "2022-06-27T15:00:08.900Z"
   },
   {
    "duration": 717,
    "start_time": "2022-06-27T15:00:26.155Z"
   },
   {
    "duration": 82,
    "start_time": "2022-06-27T15:00:26.874Z"
   },
   {
    "duration": 20,
    "start_time": "2022-06-27T15:00:26.957Z"
   },
   {
    "duration": 17,
    "start_time": "2022-06-27T15:00:26.979Z"
   },
   {
    "duration": 11,
    "start_time": "2022-06-27T15:00:26.998Z"
   },
   {
    "duration": 7,
    "start_time": "2022-06-27T15:00:27.011Z"
   },
   {
    "duration": 9,
    "start_time": "2022-06-27T15:00:27.020Z"
   },
   {
    "duration": 13,
    "start_time": "2022-06-27T15:00:27.030Z"
   },
   {
    "duration": 36,
    "start_time": "2022-06-27T15:00:27.045Z"
   },
   {
    "duration": 33,
    "start_time": "2022-06-27T15:00:27.084Z"
   },
   {
    "duration": 9,
    "start_time": "2022-06-27T15:00:27.119Z"
   },
   {
    "duration": 43,
    "start_time": "2022-06-27T15:00:27.129Z"
   },
   {
    "duration": 5,
    "start_time": "2022-06-27T15:00:27.174Z"
   },
   {
    "duration": 5,
    "start_time": "2022-06-27T15:00:27.181Z"
   },
   {
    "duration": 8,
    "start_time": "2022-06-27T15:00:27.187Z"
   },
   {
    "duration": 6,
    "start_time": "2022-06-27T15:00:27.197Z"
   },
   {
    "duration": 10,
    "start_time": "2022-06-27T15:00:27.204Z"
   },
   {
    "duration": 6,
    "start_time": "2022-06-27T15:00:27.216Z"
   },
   {
    "duration": 8,
    "start_time": "2022-06-27T15:00:27.224Z"
   },
   {
    "duration": 7,
    "start_time": "2022-06-27T15:00:27.270Z"
   },
   {
    "duration": 12,
    "start_time": "2022-06-27T15:00:27.279Z"
   },
   {
    "duration": 7,
    "start_time": "2022-06-27T15:00:27.293Z"
   },
   {
    "duration": 8,
    "start_time": "2022-06-27T15:00:27.302Z"
   },
   {
    "duration": 16,
    "start_time": "2022-06-27T15:00:27.311Z"
   },
   {
    "duration": 5,
    "start_time": "2022-06-27T15:00:27.330Z"
   },
   {
    "duration": 10,
    "start_time": "2022-06-27T15:00:27.337Z"
   },
   {
    "duration": 24,
    "start_time": "2022-06-27T15:00:27.367Z"
   },
   {
    "duration": 7,
    "start_time": "2022-06-27T15:00:27.396Z"
   },
   {
    "duration": 11,
    "start_time": "2022-06-27T15:00:27.405Z"
   },
   {
    "duration": 14,
    "start_time": "2022-06-27T15:00:27.419Z"
   },
   {
    "duration": 33,
    "start_time": "2022-06-27T15:00:27.435Z"
   },
   {
    "duration": 7,
    "start_time": "2022-06-27T15:00:27.471Z"
   },
   {
    "duration": 10,
    "start_time": "2022-06-27T15:00:27.479Z"
   },
   {
    "duration": 10,
    "start_time": "2022-06-27T15:00:27.491Z"
   },
   {
    "duration": 7,
    "start_time": "2022-06-27T15:00:27.503Z"
   },
   {
    "duration": 14,
    "start_time": "2022-06-27T15:00:27.512Z"
   },
   {
    "duration": 42,
    "start_time": "2022-06-27T15:00:27.528Z"
   },
   {
    "duration": 6,
    "start_time": "2022-06-27T15:00:27.573Z"
   },
   {
    "duration": 13,
    "start_time": "2022-06-27T15:00:27.581Z"
   },
   {
    "duration": 20,
    "start_time": "2022-06-27T15:00:27.597Z"
   },
   {
    "duration": 4,
    "start_time": "2022-06-27T15:00:27.619Z"
   },
   {
    "duration": 8,
    "start_time": "2022-06-27T15:00:27.625Z"
   },
   {
    "duration": 34,
    "start_time": "2022-06-27T15:00:27.635Z"
   },
   {
    "duration": 4,
    "start_time": "2022-06-27T15:00:27.671Z"
   },
   {
    "duration": 12,
    "start_time": "2022-06-27T15:00:27.677Z"
   },
   {
    "duration": 13,
    "start_time": "2022-06-27T15:00:27.691Z"
   },
   {
    "duration": 4,
    "start_time": "2022-06-27T15:00:27.706Z"
   },
   {
    "duration": 9,
    "start_time": "2022-06-27T15:00:27.712Z"
   },
   {
    "duration": 246,
    "start_time": "2022-06-27T15:00:27.723Z"
   },
   {
    "duration": 6,
    "start_time": "2022-06-27T15:00:27.972Z"
   },
   {
    "duration": 14,
    "start_time": "2022-06-27T15:00:27.980Z"
   },
   {
    "duration": 4,
    "start_time": "2022-06-27T15:00:27.996Z"
   },
   {
    "duration": 258,
    "start_time": "2022-06-27T15:00:28.002Z"
   },
   {
    "duration": 261,
    "start_time": "2022-06-27T15:00:28.262Z"
   },
   {
    "duration": 12,
    "start_time": "2022-06-27T15:00:28.524Z"
   },
   {
    "duration": 36,
    "start_time": "2022-06-27T15:00:28.537Z"
   },
   {
    "duration": 350,
    "start_time": "2022-06-27T15:00:28.575Z"
   },
   {
    "duration": 315,
    "start_time": "2022-06-27T15:00:28.928Z"
   },
   {
    "duration": 264,
    "start_time": "2022-06-27T15:00:29.245Z"
   },
   {
    "duration": 4,
    "start_time": "2022-06-27T15:00:29.511Z"
   },
   {
    "duration": 230,
    "start_time": "2022-06-27T15:00:29.517Z"
   },
   {
    "duration": 18,
    "start_time": "2022-06-27T15:00:29.749Z"
   },
   {
    "duration": 231,
    "start_time": "2022-06-27T15:00:29.769Z"
   },
   {
    "duration": 222,
    "start_time": "2022-06-27T15:00:30.002Z"
   },
   {
    "duration": 18,
    "start_time": "2022-06-27T15:00:30.225Z"
   },
   {
    "duration": 8,
    "start_time": "2022-06-27T15:50:42.193Z"
   },
   {
    "duration": 7,
    "start_time": "2022-06-27T15:50:49.792Z"
   },
   {
    "duration": 381,
    "start_time": "2022-06-27T15:53:46.830Z"
   },
   {
    "duration": 955,
    "start_time": "2022-06-27T15:54:09.909Z"
   },
   {
    "duration": 31,
    "start_time": "2022-06-27T15:54:28.775Z"
   },
   {
    "duration": 26,
    "start_time": "2022-06-27T15:54:32.199Z"
   },
   {
    "duration": 81,
    "start_time": "2022-06-27T15:55:55.137Z"
   },
   {
    "duration": 10,
    "start_time": "2022-06-27T15:55:59.361Z"
   },
   {
    "duration": 11,
    "start_time": "2022-06-27T15:56:22.439Z"
   },
   {
    "duration": 25,
    "start_time": "2022-06-27T15:56:26.404Z"
   },
   {
    "duration": 24,
    "start_time": "2022-06-27T15:56:42.880Z"
   },
   {
    "duration": 29,
    "start_time": "2022-06-27T15:56:52.765Z"
   },
   {
    "duration": 18,
    "start_time": "2022-06-27T15:57:08.764Z"
   },
   {
    "duration": 17,
    "start_time": "2022-06-27T15:57:19.697Z"
   },
   {
    "duration": 18,
    "start_time": "2022-06-27T15:57:39.661Z"
   },
   {
    "duration": 20,
    "start_time": "2022-06-27T15:57:51.601Z"
   },
   {
    "duration": 18,
    "start_time": "2022-06-27T15:57:56.739Z"
   },
   {
    "duration": 16,
    "start_time": "2022-06-27T15:59:08.756Z"
   },
   {
    "duration": 22,
    "start_time": "2022-06-27T15:59:52.735Z"
   },
   {
    "duration": 20,
    "start_time": "2022-06-27T16:00:08.293Z"
   },
   {
    "duration": 23,
    "start_time": "2022-06-27T16:00:17.493Z"
   },
   {
    "duration": 20,
    "start_time": "2022-06-27T16:00:23.727Z"
   },
   {
    "duration": 17,
    "start_time": "2022-06-27T16:02:06.255Z"
   },
   {
    "duration": 17,
    "start_time": "2022-06-27T16:02:30.579Z"
   },
   {
    "duration": 17,
    "start_time": "2022-06-27T16:02:39.768Z"
   },
   {
    "duration": 24,
    "start_time": "2022-06-27T16:02:48.577Z"
   },
   {
    "duration": 22,
    "start_time": "2022-06-27T16:02:54.686Z"
   },
   {
    "duration": 394,
    "start_time": "2022-06-27T16:03:55.048Z"
   },
   {
    "duration": 479,
    "start_time": "2022-06-27T16:04:07.085Z"
   },
   {
    "duration": 397,
    "start_time": "2022-06-27T16:04:27.273Z"
   },
   {
    "duration": 22,
    "start_time": "2022-06-27T16:05:11.478Z"
   },
   {
    "duration": 22,
    "start_time": "2022-06-27T16:05:20.015Z"
   },
   {
    "duration": 23,
    "start_time": "2022-06-27T16:05:30.337Z"
   },
   {
    "duration": 414,
    "start_time": "2022-06-27T16:05:43.164Z"
   },
   {
    "duration": 345,
    "start_time": "2022-06-27T16:05:55.470Z"
   },
   {
    "duration": 33,
    "start_time": "2022-06-27T16:06:00.886Z"
   },
   {
    "duration": 34,
    "start_time": "2022-06-27T16:06:10.470Z"
   },
   {
    "duration": 21,
    "start_time": "2022-06-27T16:08:03.890Z"
   },
   {
    "duration": 24,
    "start_time": "2022-06-27T16:08:13.762Z"
   },
   {
    "duration": 23,
    "start_time": "2022-06-27T16:08:57.525Z"
   },
   {
    "duration": 21,
    "start_time": "2022-06-27T16:09:02.414Z"
   },
   {
    "duration": 23,
    "start_time": "2022-06-27T16:09:06.285Z"
   },
   {
    "duration": 22,
    "start_time": "2022-06-27T16:09:22.385Z"
   },
   {
    "duration": 24,
    "start_time": "2022-06-27T16:10:07.924Z"
   },
   {
    "duration": 25,
    "start_time": "2022-06-27T16:10:14.920Z"
   },
   {
    "duration": 27,
    "start_time": "2022-06-27T16:10:19.098Z"
   },
   {
    "duration": 24,
    "start_time": "2022-06-27T16:10:24.218Z"
   },
   {
    "duration": 28,
    "start_time": "2022-06-27T16:10:41.567Z"
   },
   {
    "duration": 26,
    "start_time": "2022-06-27T16:11:01.641Z"
   },
   {
    "duration": 36,
    "start_time": "2022-06-27T16:11:23.289Z"
   },
   {
    "duration": 32,
    "start_time": "2022-06-27T16:11:29.671Z"
   },
   {
    "duration": 33,
    "start_time": "2022-06-27T16:11:33.454Z"
   },
   {
    "duration": 32,
    "start_time": "2022-06-27T16:11:43.824Z"
   },
   {
    "duration": 35,
    "start_time": "2022-06-27T16:11:47.219Z"
   },
   {
    "duration": 32,
    "start_time": "2022-06-27T16:11:57.725Z"
   },
   {
    "duration": 33,
    "start_time": "2022-06-27T16:12:06.921Z"
   },
   {
    "duration": 3,
    "start_time": "2022-06-27T16:12:55.922Z"
   },
   {
    "duration": 614,
    "start_time": "2022-06-27T16:19:45.400Z"
   },
   {
    "duration": 76,
    "start_time": "2022-06-27T16:19:46.016Z"
   },
   {
    "duration": 19,
    "start_time": "2022-06-27T16:19:46.094Z"
   },
   {
    "duration": 17,
    "start_time": "2022-06-27T16:19:46.116Z"
   },
   {
    "duration": 11,
    "start_time": "2022-06-27T16:19:46.135Z"
   },
   {
    "duration": 18,
    "start_time": "2022-06-27T16:19:46.149Z"
   },
   {
    "duration": 8,
    "start_time": "2022-06-27T16:19:46.169Z"
   },
   {
    "duration": 21,
    "start_time": "2022-06-27T16:19:46.179Z"
   },
   {
    "duration": 21,
    "start_time": "2022-06-27T16:19:46.202Z"
   },
   {
    "duration": 53,
    "start_time": "2022-06-27T16:19:46.227Z"
   },
   {
    "duration": 8,
    "start_time": "2022-06-27T16:19:46.282Z"
   },
   {
    "duration": 19,
    "start_time": "2022-06-27T16:19:46.291Z"
   },
   {
    "duration": 5,
    "start_time": "2022-06-27T16:19:46.312Z"
   },
   {
    "duration": 5,
    "start_time": "2022-06-27T16:19:46.319Z"
   },
   {
    "duration": 8,
    "start_time": "2022-06-27T16:19:46.326Z"
   },
   {
    "duration": 35,
    "start_time": "2022-06-27T16:19:46.335Z"
   },
   {
    "duration": 10,
    "start_time": "2022-06-27T16:19:46.371Z"
   },
   {
    "duration": 6,
    "start_time": "2022-06-27T16:19:46.383Z"
   },
   {
    "duration": 9,
    "start_time": "2022-06-27T16:19:46.390Z"
   },
   {
    "duration": 7,
    "start_time": "2022-06-27T16:19:46.401Z"
   },
   {
    "duration": 14,
    "start_time": "2022-06-27T16:19:46.410Z"
   },
   {
    "duration": 9,
    "start_time": "2022-06-27T16:19:46.426Z"
   },
   {
    "duration": 38,
    "start_time": "2022-06-27T16:19:46.436Z"
   },
   {
    "duration": 10,
    "start_time": "2022-06-27T16:19:46.476Z"
   },
   {
    "duration": 6,
    "start_time": "2022-06-27T16:19:46.487Z"
   },
   {
    "duration": 8,
    "start_time": "2022-06-27T16:19:46.495Z"
   },
   {
    "duration": 23,
    "start_time": "2022-06-27T16:19:46.505Z"
   },
   {
    "duration": 6,
    "start_time": "2022-06-27T16:19:46.531Z"
   },
   {
    "duration": 29,
    "start_time": "2022-06-27T16:19:46.539Z"
   },
   {
    "duration": 6,
    "start_time": "2022-06-27T16:19:46.570Z"
   },
   {
    "duration": 11,
    "start_time": "2022-06-27T16:19:46.577Z"
   },
   {
    "duration": 8,
    "start_time": "2022-06-27T16:19:46.590Z"
   },
   {
    "duration": 11,
    "start_time": "2022-06-27T16:19:46.600Z"
   },
   {
    "duration": 9,
    "start_time": "2022-06-27T16:19:46.613Z"
   },
   {
    "duration": 10,
    "start_time": "2022-06-27T16:19:46.624Z"
   },
   {
    "duration": 10,
    "start_time": "2022-06-27T16:19:46.668Z"
   },
   {
    "duration": 8,
    "start_time": "2022-06-27T16:19:46.679Z"
   },
   {
    "duration": 7,
    "start_time": "2022-06-27T16:19:46.689Z"
   },
   {
    "duration": 9,
    "start_time": "2022-06-27T16:19:46.698Z"
   },
   {
    "duration": 25,
    "start_time": "2022-06-27T16:19:46.708Z"
   },
   {
    "duration": 36,
    "start_time": "2022-06-27T16:19:46.735Z"
   },
   {
    "duration": 8,
    "start_time": "2022-06-27T16:19:46.773Z"
   },
   {
    "duration": 8,
    "start_time": "2022-06-27T16:19:46.783Z"
   },
   {
    "duration": 6,
    "start_time": "2022-06-27T16:19:46.793Z"
   },
   {
    "duration": 16,
    "start_time": "2022-06-27T16:19:46.800Z"
   },
   {
    "duration": 18,
    "start_time": "2022-06-27T16:19:46.817Z"
   },
   {
    "duration": 4,
    "start_time": "2022-06-27T16:19:46.837Z"
   },
   {
    "duration": 26,
    "start_time": "2022-06-27T16:19:46.842Z"
   },
   {
    "duration": 225,
    "start_time": "2022-06-27T16:19:46.870Z"
   },
   {
    "duration": 5,
    "start_time": "2022-06-27T16:19:47.097Z"
   },
   {
    "duration": 9,
    "start_time": "2022-06-27T16:19:47.104Z"
   },
   {
    "duration": 5,
    "start_time": "2022-06-27T16:19:47.115Z"
   },
   {
    "duration": 266,
    "start_time": "2022-06-27T16:19:47.122Z"
   },
   {
    "duration": 255,
    "start_time": "2022-06-27T16:19:47.390Z"
   },
   {
    "duration": 10,
    "start_time": "2022-06-27T16:19:47.647Z"
   },
   {
    "duration": 34,
    "start_time": "2022-06-27T16:19:47.668Z"
   },
   {
    "duration": 342,
    "start_time": "2022-06-27T16:19:47.704Z"
   },
   {
    "duration": 33,
    "start_time": "2022-06-27T16:19:48.048Z"
   },
   {
    "duration": 36,
    "start_time": "2022-06-27T16:19:48.083Z"
   },
   {
    "duration": 295,
    "start_time": "2022-06-27T16:19:48.121Z"
   },
   {
    "duration": 259,
    "start_time": "2022-06-27T16:19:48.418Z"
   },
   {
    "duration": 4,
    "start_time": "2022-06-27T16:19:48.679Z"
   },
   {
    "duration": 211,
    "start_time": "2022-06-27T16:19:48.685Z"
   },
   {
    "duration": 12,
    "start_time": "2022-06-27T16:19:48.899Z"
   },
   {
    "duration": 294,
    "start_time": "2022-06-27T16:19:48.913Z"
   },
   {
    "duration": 273,
    "start_time": "2022-06-27T16:19:49.209Z"
   },
   {
    "duration": 17,
    "start_time": "2022-06-27T16:19:49.484Z"
   },
   {
    "duration": 859,
    "start_time": "2022-06-28T08:34:58.289Z"
   },
   {
    "duration": 182,
    "start_time": "2022-06-28T08:34:59.151Z"
   },
   {
    "duration": 31,
    "start_time": "2022-06-28T08:34:59.335Z"
   },
   {
    "duration": 16,
    "start_time": "2022-06-28T08:34:59.368Z"
   },
   {
    "duration": 22,
    "start_time": "2022-06-28T08:34:59.386Z"
   },
   {
    "duration": 13,
    "start_time": "2022-06-28T08:34:59.410Z"
   },
   {
    "duration": 13,
    "start_time": "2022-06-28T08:34:59.425Z"
   },
   {
    "duration": 12,
    "start_time": "2022-06-28T08:34:59.440Z"
   },
   {
    "duration": 15,
    "start_time": "2022-06-28T08:34:59.454Z"
   },
   {
    "duration": 53,
    "start_time": "2022-06-28T08:34:59.472Z"
   },
   {
    "duration": 10,
    "start_time": "2022-06-28T08:34:59.526Z"
   },
   {
    "duration": 27,
    "start_time": "2022-06-28T08:34:59.538Z"
   },
   {
    "duration": 8,
    "start_time": "2022-06-28T08:34:59.567Z"
   },
   {
    "duration": 5,
    "start_time": "2022-06-28T08:34:59.577Z"
   },
   {
    "duration": 10,
    "start_time": "2022-06-28T08:34:59.584Z"
   },
   {
    "duration": 6,
    "start_time": "2022-06-28T08:34:59.596Z"
   },
   {
    "duration": 26,
    "start_time": "2022-06-28T08:34:59.604Z"
   },
   {
    "duration": 8,
    "start_time": "2022-06-28T08:34:59.632Z"
   },
   {
    "duration": 7,
    "start_time": "2022-06-28T08:34:59.642Z"
   },
   {
    "duration": 9,
    "start_time": "2022-06-28T08:34:59.651Z"
   },
   {
    "duration": 11,
    "start_time": "2022-06-28T08:34:59.661Z"
   },
   {
    "duration": 9,
    "start_time": "2022-06-28T08:34:59.674Z"
   },
   {
    "duration": 41,
    "start_time": "2022-06-28T08:34:59.686Z"
   },
   {
    "duration": 9,
    "start_time": "2022-06-28T08:34:59.729Z"
   },
   {
    "duration": 6,
    "start_time": "2022-06-28T08:34:59.739Z"
   },
   {
    "duration": 8,
    "start_time": "2022-06-28T08:34:59.747Z"
   },
   {
    "duration": 28,
    "start_time": "2022-06-28T08:34:59.758Z"
   },
   {
    "duration": 6,
    "start_time": "2022-06-28T08:34:59.823Z"
   },
   {
    "duration": 10,
    "start_time": "2022-06-28T08:34:59.832Z"
   },
   {
    "duration": 19,
    "start_time": "2022-06-28T08:34:59.844Z"
   },
   {
    "duration": 11,
    "start_time": "2022-06-28T08:34:59.865Z"
   },
   {
    "duration": 6,
    "start_time": "2022-06-28T08:34:59.878Z"
   },
   {
    "duration": 11,
    "start_time": "2022-06-28T08:34:59.886Z"
   },
   {
    "duration": 32,
    "start_time": "2022-06-28T08:34:59.899Z"
   },
   {
    "duration": 11,
    "start_time": "2022-06-28T08:34:59.934Z"
   },
   {
    "duration": 22,
    "start_time": "2022-06-28T08:34:59.947Z"
   },
   {
    "duration": 14,
    "start_time": "2022-06-28T08:34:59.971Z"
   },
   {
    "duration": 7,
    "start_time": "2022-06-28T08:34:59.987Z"
   },
   {
    "duration": 13,
    "start_time": "2022-06-28T08:34:59.995Z"
   },
   {
    "duration": 18,
    "start_time": "2022-06-28T08:35:00.024Z"
   },
   {
    "duration": 13,
    "start_time": "2022-06-28T08:35:00.044Z"
   },
   {
    "duration": 10,
    "start_time": "2022-06-28T08:35:00.059Z"
   },
   {
    "duration": 14,
    "start_time": "2022-06-28T08:35:00.071Z"
   },
   {
    "duration": 8,
    "start_time": "2022-06-28T08:35:00.087Z"
   },
   {
    "duration": 31,
    "start_time": "2022-06-28T08:35:00.097Z"
   },
   {
    "duration": 23,
    "start_time": "2022-06-28T08:35:00.130Z"
   },
   {
    "duration": 6,
    "start_time": "2022-06-28T08:35:00.156Z"
   },
   {
    "duration": 25,
    "start_time": "2022-06-28T08:35:00.165Z"
   },
   {
    "duration": 205,
    "start_time": "2022-06-28T08:35:00.192Z"
   },
   {
    "duration": 6,
    "start_time": "2022-06-28T08:35:00.399Z"
   },
   {
    "duration": 27,
    "start_time": "2022-06-28T08:35:00.407Z"
   },
   {
    "duration": 6,
    "start_time": "2022-06-28T08:35:00.436Z"
   },
   {
    "duration": 239,
    "start_time": "2022-06-28T08:35:00.443Z"
   },
   {
    "duration": 230,
    "start_time": "2022-06-28T08:35:00.684Z"
   },
   {
    "duration": 19,
    "start_time": "2022-06-28T08:35:00.916Z"
   },
   {
    "duration": 22,
    "start_time": "2022-06-28T08:35:00.936Z"
   },
   {
    "duration": 317,
    "start_time": "2022-06-28T08:35:00.959Z"
   },
   {
    "duration": 25,
    "start_time": "2022-06-28T08:35:01.278Z"
   },
   {
    "duration": 72,
    "start_time": "2022-06-28T08:35:01.305Z"
   },
   {
    "duration": 302,
    "start_time": "2022-06-28T08:35:01.379Z"
   },
   {
    "duration": 258,
    "start_time": "2022-06-28T08:35:01.683Z"
   },
   {
    "duration": 5,
    "start_time": "2022-06-28T08:35:01.943Z"
   },
   {
    "duration": 234,
    "start_time": "2022-06-28T08:35:01.950Z"
   },
   {
    "duration": 11,
    "start_time": "2022-06-28T08:35:02.186Z"
   },
   {
    "duration": 212,
    "start_time": "2022-06-28T08:35:02.199Z"
   },
   {
    "duration": 223,
    "start_time": "2022-06-28T08:35:02.413Z"
   },
   {
    "duration": 23,
    "start_time": "2022-06-28T08:35:02.638Z"
   },
   {
    "duration": 12,
    "start_time": "2022-06-28T09:01:23.004Z"
   },
   {
    "duration": 244,
    "start_time": "2022-06-28T09:38:57.124Z"
   },
   {
    "duration": 238,
    "start_time": "2022-06-28T09:39:28.577Z"
   },
   {
    "duration": 705,
    "start_time": "2022-06-28T09:42:29.554Z"
   },
   {
    "duration": 83,
    "start_time": "2022-06-28T09:42:30.261Z"
   },
   {
    "duration": 20,
    "start_time": "2022-06-28T09:42:30.346Z"
   },
   {
    "duration": 18,
    "start_time": "2022-06-28T09:42:30.367Z"
   },
   {
    "duration": 11,
    "start_time": "2022-06-28T09:42:30.388Z"
   },
   {
    "duration": 42,
    "start_time": "2022-06-28T09:42:30.401Z"
   },
   {
    "duration": 23,
    "start_time": "2022-06-28T09:42:30.445Z"
   },
   {
    "duration": 24,
    "start_time": "2022-06-28T09:42:30.470Z"
   },
   {
    "duration": 21,
    "start_time": "2022-06-28T09:42:30.495Z"
   },
   {
    "duration": 34,
    "start_time": "2022-06-28T09:42:30.518Z"
   },
   {
    "duration": 19,
    "start_time": "2022-06-28T09:42:30.554Z"
   },
   {
    "duration": 24,
    "start_time": "2022-06-28T09:42:30.575Z"
   },
   {
    "duration": 21,
    "start_time": "2022-06-28T09:42:30.600Z"
   },
   {
    "duration": 39,
    "start_time": "2022-06-28T09:42:30.626Z"
   },
   {
    "duration": 22,
    "start_time": "2022-06-28T09:42:30.667Z"
   },
   {
    "duration": 35,
    "start_time": "2022-06-28T09:42:30.693Z"
   },
   {
    "duration": 41,
    "start_time": "2022-06-28T09:42:30.735Z"
   },
   {
    "duration": 44,
    "start_time": "2022-06-28T09:42:30.777Z"
   },
   {
    "duration": 63,
    "start_time": "2022-06-28T09:42:30.822Z"
   },
   {
    "duration": 35,
    "start_time": "2022-06-28T09:42:30.886Z"
   },
   {
    "duration": 37,
    "start_time": "2022-06-28T09:42:30.923Z"
   },
   {
    "duration": 37,
    "start_time": "2022-06-28T09:42:30.962Z"
   },
   {
    "duration": 26,
    "start_time": "2022-06-28T09:42:31.001Z"
   },
   {
    "duration": 34,
    "start_time": "2022-06-28T09:42:31.032Z"
   },
   {
    "duration": 34,
    "start_time": "2022-06-28T09:42:31.068Z"
   },
   {
    "duration": 22,
    "start_time": "2022-06-28T09:42:31.104Z"
   },
   {
    "duration": 115,
    "start_time": "2022-06-28T09:42:31.128Z"
   },
   {
    "duration": 25,
    "start_time": "2022-06-28T09:42:31.245Z"
   },
   {
    "duration": 37,
    "start_time": "2022-06-28T09:42:31.272Z"
   },
   {
    "duration": 35,
    "start_time": "2022-06-28T09:42:31.311Z"
   },
   {
    "duration": 46,
    "start_time": "2022-06-28T09:42:31.348Z"
   },
   {
    "duration": 41,
    "start_time": "2022-06-28T09:42:31.396Z"
   },
   {
    "duration": 35,
    "start_time": "2022-06-28T09:42:31.438Z"
   },
   {
    "duration": 24,
    "start_time": "2022-06-28T09:42:31.475Z"
   },
   {
    "duration": 10,
    "start_time": "2022-06-28T09:42:31.501Z"
   },
   {
    "duration": 19,
    "start_time": "2022-06-28T09:42:31.513Z"
   },
   {
    "duration": 29,
    "start_time": "2022-06-28T09:42:31.534Z"
   },
   {
    "duration": 14,
    "start_time": "2022-06-28T09:42:31.565Z"
   },
   {
    "duration": 23,
    "start_time": "2022-06-28T09:42:31.581Z"
   },
   {
    "duration": 31,
    "start_time": "2022-06-28T09:42:31.606Z"
   },
   {
    "duration": 6,
    "start_time": "2022-06-28T09:42:31.645Z"
   },
   {
    "duration": 21,
    "start_time": "2022-06-28T09:42:31.653Z"
   },
   {
    "duration": 51,
    "start_time": "2022-06-28T09:42:31.675Z"
   },
   {
    "duration": 21,
    "start_time": "2022-06-28T09:42:31.729Z"
   },
   {
    "duration": 28,
    "start_time": "2022-06-28T09:42:31.752Z"
   },
   {
    "duration": 17,
    "start_time": "2022-06-28T09:42:31.782Z"
   },
   {
    "duration": 8,
    "start_time": "2022-06-28T09:42:31.801Z"
   },
   {
    "duration": 20,
    "start_time": "2022-06-28T09:42:31.811Z"
   },
   {
    "duration": 216,
    "start_time": "2022-06-28T09:42:31.835Z"
   },
   {
    "duration": 8,
    "start_time": "2022-06-28T09:42:32.053Z"
   },
   {
    "duration": 28,
    "start_time": "2022-06-28T09:42:32.063Z"
   },
   {
    "duration": 55,
    "start_time": "2022-06-28T09:42:32.093Z"
   },
   {
    "duration": 236,
    "start_time": "2022-06-28T09:42:32.150Z"
   },
   {
    "duration": 276,
    "start_time": "2022-06-28T09:42:32.388Z"
   },
   {
    "duration": 16,
    "start_time": "2022-06-28T09:42:32.666Z"
   },
   {
    "duration": 49,
    "start_time": "2022-06-28T09:42:32.684Z"
   },
   {
    "duration": 337,
    "start_time": "2022-06-28T09:42:32.738Z"
   },
   {
    "duration": 23,
    "start_time": "2022-06-28T09:42:33.077Z"
   },
   {
    "duration": 62,
    "start_time": "2022-06-28T09:42:33.102Z"
   },
   {
    "duration": 274,
    "start_time": "2022-06-28T09:42:33.166Z"
   },
   {
    "duration": 245,
    "start_time": "2022-06-28T09:42:33.443Z"
   },
   {
    "duration": 4,
    "start_time": "2022-06-28T09:42:33.690Z"
   },
   {
    "duration": 211,
    "start_time": "2022-06-28T09:42:33.696Z"
   },
   {
    "duration": 17,
    "start_time": "2022-06-28T09:42:33.909Z"
   },
   {
    "duration": 247,
    "start_time": "2022-06-28T09:42:33.930Z"
   },
   {
    "duration": 222,
    "start_time": "2022-06-28T09:42:34.178Z"
   },
   {
    "duration": 38,
    "start_time": "2022-06-28T09:42:34.401Z"
   },
   {
    "duration": 53,
    "start_time": "2022-06-28T19:30:23.080Z"
   },
   {
    "duration": 758,
    "start_time": "2022-06-28T19:30:34.183Z"
   },
   {
    "duration": 263,
    "start_time": "2022-06-28T19:30:34.944Z"
   },
   {
    "duration": 90,
    "start_time": "2022-06-28T19:30:35.208Z"
   },
   {
    "duration": 22,
    "start_time": "2022-06-28T19:30:35.300Z"
   },
   {
    "duration": 14,
    "start_time": "2022-06-28T19:30:35.324Z"
   },
   {
    "duration": 4,
    "start_time": "2022-06-28T19:30:35.573Z"
   },
   {
    "duration": 5,
    "start_time": "2022-06-28T19:30:35.803Z"
   },
   {
    "duration": 12,
    "start_time": "2022-06-28T19:30:36.043Z"
   },
   {
    "duration": 15,
    "start_time": "2022-06-28T19:30:36.282Z"
   },
   {
    "duration": 30,
    "start_time": "2022-06-28T19:30:36.581Z"
   },
   {
    "duration": 8,
    "start_time": "2022-06-28T19:30:37.294Z"
   },
   {
    "duration": 16,
    "start_time": "2022-06-28T19:30:37.614Z"
   },
   {
    "duration": 5,
    "start_time": "2022-06-28T19:30:37.791Z"
   },
   {
    "duration": 3,
    "start_time": "2022-06-28T19:30:38.082Z"
   },
   {
    "duration": 6,
    "start_time": "2022-06-28T19:30:38.423Z"
   },
   {
    "duration": 5,
    "start_time": "2022-06-28T19:30:38.610Z"
   },
   {
    "duration": 6,
    "start_time": "2022-06-28T19:30:39.007Z"
   },
   {
    "duration": 4,
    "start_time": "2022-06-28T19:30:39.203Z"
   },
   {
    "duration": 6,
    "start_time": "2022-06-28T19:30:39.703Z"
   },
   {
    "duration": 6,
    "start_time": "2022-06-28T19:30:40.250Z"
   },
   {
    "duration": 6,
    "start_time": "2022-06-28T19:30:40.779Z"
   },
   {
    "duration": 6,
    "start_time": "2022-06-28T19:30:41.281Z"
   },
   {
    "duration": 6,
    "start_time": "2022-06-28T19:30:41.765Z"
   },
   {
    "duration": 6,
    "start_time": "2022-06-28T19:30:42.323Z"
   },
   {
    "duration": 3,
    "start_time": "2022-06-28T19:30:42.503Z"
   },
   {
    "duration": 5,
    "start_time": "2022-06-28T19:30:43.084Z"
   },
   {
    "duration": 22,
    "start_time": "2022-06-28T19:30:43.783Z"
   },
   {
    "duration": 6,
    "start_time": "2022-06-28T19:30:44.587Z"
   },
   {
    "duration": 99,
    "start_time": "2022-06-28T19:34:05.191Z"
   },
   {
    "duration": 5,
    "start_time": "2022-06-28T19:37:23.151Z"
   },
   {
    "duration": 11,
    "start_time": "2022-06-28T19:41:21.443Z"
   },
   {
    "duration": 45,
    "start_time": "2022-06-28T19:50:58.005Z"
   },
   {
    "duration": 20,
    "start_time": "2022-06-28T19:51:28.734Z"
   },
   {
    "duration": 49,
    "start_time": "2022-06-28T19:51:59.825Z"
   },
   {
    "duration": 18,
    "start_time": "2022-06-28T19:52:06.590Z"
   },
   {
    "duration": 42,
    "start_time": "2022-06-28T20:05:31.541Z"
   },
   {
    "duration": 45,
    "start_time": "2022-06-28T20:05:59.545Z"
   },
   {
    "duration": 39,
    "start_time": "2022-06-28T20:06:12.621Z"
   },
   {
    "duration": 42,
    "start_time": "2022-06-28T20:06:54.053Z"
   },
   {
    "duration": 16,
    "start_time": "2022-06-28T20:07:36.092Z"
   },
   {
    "duration": 40,
    "start_time": "2022-06-28T20:07:53.765Z"
   },
   {
    "duration": 43,
    "start_time": "2022-06-28T20:08:13.696Z"
   },
   {
    "duration": 14,
    "start_time": "2022-06-28T20:08:25.089Z"
   },
   {
    "duration": 12,
    "start_time": "2022-06-28T20:08:55.976Z"
   },
   {
    "duration": 12,
    "start_time": "2022-06-28T20:09:06.296Z"
   },
   {
    "duration": 12,
    "start_time": "2022-06-28T20:09:40.108Z"
   },
   {
    "duration": 11,
    "start_time": "2022-06-28T20:10:06.969Z"
   },
   {
    "duration": 15,
    "start_time": "2022-06-28T20:10:12.808Z"
   },
   {
    "duration": 16,
    "start_time": "2022-06-28T20:11:06.473Z"
   },
   {
    "duration": 19,
    "start_time": "2022-06-28T20:11:37.888Z"
   },
   {
    "duration": 13,
    "start_time": "2022-06-28T20:14:11.174Z"
   },
   {
    "duration": 7,
    "start_time": "2022-06-28T20:15:24.308Z"
   },
   {
    "duration": 6,
    "start_time": "2022-06-28T20:15:33.735Z"
   },
   {
    "duration": 12,
    "start_time": "2022-06-28T20:15:44.679Z"
   },
   {
    "duration": 22,
    "start_time": "2022-06-28T20:16:52.296Z"
   },
   {
    "duration": 8,
    "start_time": "2022-06-28T20:17:24.128Z"
   },
   {
    "duration": 7,
    "start_time": "2022-06-28T20:18:29.706Z"
   },
   {
    "duration": 27,
    "start_time": "2022-06-28T20:18:31.219Z"
   },
   {
    "duration": 3,
    "start_time": "2022-06-28T20:18:36.416Z"
   },
   {
    "duration": 104,
    "start_time": "2022-06-28T20:18:36.421Z"
   },
   {
    "duration": 44,
    "start_time": "2022-06-28T20:18:36.527Z"
   },
   {
    "duration": 16,
    "start_time": "2022-06-28T20:18:36.573Z"
   },
   {
    "duration": 13,
    "start_time": "2022-06-28T20:18:36.591Z"
   },
   {
    "duration": 6,
    "start_time": "2022-06-28T20:18:36.606Z"
   },
   {
    "duration": 10,
    "start_time": "2022-06-28T20:18:36.614Z"
   },
   {
    "duration": 13,
    "start_time": "2022-06-28T20:18:36.626Z"
   },
   {
    "duration": 23,
    "start_time": "2022-06-28T20:18:36.640Z"
   },
   {
    "duration": 38,
    "start_time": "2022-06-28T20:18:36.664Z"
   },
   {
    "duration": 9,
    "start_time": "2022-06-28T20:18:36.705Z"
   },
   {
    "duration": 54,
    "start_time": "2022-06-28T20:18:36.716Z"
   },
   {
    "duration": 14,
    "start_time": "2022-06-28T20:18:36.772Z"
   },
   {
    "duration": 15,
    "start_time": "2022-06-28T20:18:36.803Z"
   },
   {
    "duration": 9,
    "start_time": "2022-06-28T20:18:36.821Z"
   },
   {
    "duration": 6,
    "start_time": "2022-06-28T20:18:36.833Z"
   },
   {
    "duration": 37,
    "start_time": "2022-06-28T20:18:36.841Z"
   },
   {
    "duration": 28,
    "start_time": "2022-06-28T20:18:36.879Z"
   },
   {
    "duration": 12,
    "start_time": "2022-06-28T20:18:36.910Z"
   },
   {
    "duration": 16,
    "start_time": "2022-06-28T20:18:36.923Z"
   },
   {
    "duration": 13,
    "start_time": "2022-06-28T20:18:36.942Z"
   },
   {
    "duration": 16,
    "start_time": "2022-06-28T20:18:36.957Z"
   },
   {
    "duration": 13,
    "start_time": "2022-06-28T20:18:36.975Z"
   },
   {
    "duration": 24,
    "start_time": "2022-06-28T20:18:36.990Z"
   },
   {
    "duration": 8,
    "start_time": "2022-06-28T20:18:37.015Z"
   },
   {
    "duration": 8,
    "start_time": "2022-06-28T20:18:37.026Z"
   },
   {
    "duration": 32,
    "start_time": "2022-06-28T20:18:37.036Z"
   },
   {
    "duration": 7,
    "start_time": "2022-06-28T20:18:37.070Z"
   },
   {
    "duration": 26,
    "start_time": "2022-06-28T20:18:37.083Z"
   },
   {
    "duration": 7,
    "start_time": "2022-06-28T20:18:37.111Z"
   },
   {
    "duration": 55,
    "start_time": "2022-06-28T20:18:37.120Z"
   },
   {
    "duration": 9,
    "start_time": "2022-06-28T20:18:37.176Z"
   },
   {
    "duration": 6,
    "start_time": "2022-06-28T20:18:37.187Z"
   },
   {
    "duration": 7,
    "start_time": "2022-06-28T20:18:37.195Z"
   },
   {
    "duration": 9,
    "start_time": "2022-06-28T20:18:37.203Z"
   },
   {
    "duration": 10,
    "start_time": "2022-06-28T20:18:37.213Z"
   },
   {
    "duration": 7,
    "start_time": "2022-06-28T20:18:37.225Z"
   },
   {
    "duration": 8,
    "start_time": "2022-06-28T20:18:37.242Z"
   },
   {
    "duration": 21,
    "start_time": "2022-06-28T20:18:37.252Z"
   },
   {
    "duration": 7,
    "start_time": "2022-06-28T20:18:37.274Z"
   },
   {
    "duration": 15,
    "start_time": "2022-06-28T20:18:37.283Z"
   },
   {
    "duration": 23,
    "start_time": "2022-06-28T20:18:37.300Z"
   },
   {
    "duration": 21,
    "start_time": "2022-06-28T20:18:37.325Z"
   },
   {
    "duration": 37,
    "start_time": "2022-06-28T20:18:37.348Z"
   },
   {
    "duration": 17,
    "start_time": "2022-06-28T20:18:37.387Z"
   },
   {
    "duration": 8,
    "start_time": "2022-06-28T20:18:37.405Z"
   },
   {
    "duration": 9,
    "start_time": "2022-06-28T20:18:37.415Z"
   },
   {
    "duration": 7,
    "start_time": "2022-06-28T20:18:37.426Z"
   },
   {
    "duration": 7,
    "start_time": "2022-06-28T20:18:37.435Z"
   },
   {
    "duration": 34,
    "start_time": "2022-06-28T20:18:37.443Z"
   },
   {
    "duration": 18,
    "start_time": "2022-06-28T20:18:37.479Z"
   },
   {
    "duration": 4,
    "start_time": "2022-06-28T20:18:37.499Z"
   },
   {
    "duration": 14,
    "start_time": "2022-06-28T20:18:37.505Z"
   },
   {
    "duration": 206,
    "start_time": "2022-06-28T20:18:37.521Z"
   },
   {
    "duration": 19,
    "start_time": "2022-06-28T20:18:37.729Z"
   },
   {
    "duration": 17,
    "start_time": "2022-06-28T20:18:37.752Z"
   },
   {
    "duration": 5,
    "start_time": "2022-06-28T20:18:37.770Z"
   },
   {
    "duration": 226,
    "start_time": "2022-06-28T20:18:37.777Z"
   },
   {
    "duration": 228,
    "start_time": "2022-06-28T20:18:38.005Z"
   },
   {
    "duration": 16,
    "start_time": "2022-06-28T20:18:38.235Z"
   },
   {
    "duration": 30,
    "start_time": "2022-06-28T20:18:38.253Z"
   },
   {
    "duration": 367,
    "start_time": "2022-06-28T20:18:38.285Z"
   },
   {
    "duration": 36,
    "start_time": "2022-06-28T20:18:38.655Z"
   },
   {
    "duration": 56,
    "start_time": "2022-06-28T20:18:38.694Z"
   },
   {
    "duration": 177,
    "start_time": "2022-06-28T20:18:38.758Z"
   },
   {
    "duration": 234,
    "start_time": "2022-06-28T20:18:38.937Z"
   },
   {
    "duration": 4,
    "start_time": "2022-06-28T20:18:39.173Z"
   },
   {
    "duration": 195,
    "start_time": "2022-06-28T20:18:39.179Z"
   },
   {
    "duration": 10,
    "start_time": "2022-06-28T20:18:39.375Z"
   },
   {
    "duration": 221,
    "start_time": "2022-06-28T20:18:39.387Z"
   },
   {
    "duration": 221,
    "start_time": "2022-06-28T20:18:39.610Z"
   },
   {
    "duration": 27,
    "start_time": "2022-06-28T20:18:39.832Z"
   },
   {
    "duration": 44,
    "start_time": "2022-06-28T20:23:00.779Z"
   },
   {
    "duration": 29,
    "start_time": "2022-06-28T20:23:15.635Z"
   },
   {
    "duration": 29,
    "start_time": "2022-06-28T20:23:28.670Z"
   },
   {
    "duration": 46,
    "start_time": "2022-06-29T13:29:22.860Z"
   },
   {
    "duration": 7,
    "start_time": "2022-06-29T13:29:37.429Z"
   },
   {
    "duration": 848,
    "start_time": "2022-06-29T13:29:50.209Z"
   },
   {
    "duration": 528,
    "start_time": "2022-06-29T13:29:51.059Z"
   },
   {
    "duration": 93,
    "start_time": "2022-06-29T13:29:51.589Z"
   },
   {
    "duration": 15,
    "start_time": "2022-06-29T13:29:51.684Z"
   },
   {
    "duration": 9,
    "start_time": "2022-06-29T13:29:51.700Z"
   },
   {
    "duration": 8,
    "start_time": "2022-06-29T13:29:51.711Z"
   },
   {
    "duration": 8,
    "start_time": "2022-06-29T13:29:51.721Z"
   },
   {
    "duration": 17,
    "start_time": "2022-06-29T13:29:51.731Z"
   },
   {
    "duration": 12,
    "start_time": "2022-06-29T13:29:51.749Z"
   },
   {
    "duration": 29,
    "start_time": "2022-06-29T13:29:51.764Z"
   },
   {
    "duration": 8,
    "start_time": "2022-06-29T13:29:51.795Z"
   },
   {
    "duration": 32,
    "start_time": "2022-06-29T13:29:51.805Z"
   },
   {
    "duration": 8,
    "start_time": "2022-06-29T13:29:51.839Z"
   },
   {
    "duration": 8,
    "start_time": "2022-06-29T13:29:51.848Z"
   },
   {
    "duration": 8,
    "start_time": "2022-06-29T13:29:51.857Z"
   },
   {
    "duration": 6,
    "start_time": "2022-06-29T13:29:51.866Z"
   },
   {
    "duration": 6,
    "start_time": "2022-06-29T13:29:51.875Z"
   },
   {
    "duration": 5,
    "start_time": "2022-06-29T13:29:51.883Z"
   },
   {
    "duration": 8,
    "start_time": "2022-06-29T13:29:51.889Z"
   },
   {
    "duration": 27,
    "start_time": "2022-06-29T13:29:51.899Z"
   },
   {
    "duration": 5,
    "start_time": "2022-06-29T13:29:51.928Z"
   },
   {
    "duration": 7,
    "start_time": "2022-06-29T13:29:51.935Z"
   },
   {
    "duration": 9,
    "start_time": "2022-06-29T13:29:51.943Z"
   },
   {
    "duration": 6,
    "start_time": "2022-06-29T13:29:51.953Z"
   },
   {
    "duration": 6,
    "start_time": "2022-06-29T13:29:51.961Z"
   },
   {
    "duration": 7,
    "start_time": "2022-06-29T13:29:51.969Z"
   },
   {
    "duration": 22,
    "start_time": "2022-06-29T13:29:51.978Z"
   },
   {
    "duration": 5,
    "start_time": "2022-06-29T13:29:52.028Z"
   },
   {
    "duration": 18,
    "start_time": "2022-06-29T13:29:52.035Z"
   },
   {
    "duration": 5,
    "start_time": "2022-06-29T13:29:52.055Z"
   },
   {
    "duration": 23,
    "start_time": "2022-06-29T13:29:52.061Z"
   },
   {
    "duration": 11,
    "start_time": "2022-06-29T13:29:52.085Z"
   },
   {
    "duration": 21,
    "start_time": "2022-06-29T13:29:52.125Z"
   },
   {
    "duration": 13,
    "start_time": "2022-06-29T13:29:52.147Z"
   },
   {
    "duration": 10,
    "start_time": "2022-06-29T13:29:52.161Z"
   },
   {
    "duration": 9,
    "start_time": "2022-06-29T13:29:52.172Z"
   },
   {
    "duration": 9,
    "start_time": "2022-06-29T13:29:52.182Z"
   },
   {
    "duration": 7,
    "start_time": "2022-06-29T13:29:52.193Z"
   },
   {
    "duration": 25,
    "start_time": "2022-06-29T13:29:52.202Z"
   },
   {
    "duration": 8,
    "start_time": "2022-06-29T13:29:52.229Z"
   },
   {
    "duration": 6,
    "start_time": "2022-06-29T13:29:52.239Z"
   },
   {
    "duration": 15,
    "start_time": "2022-06-29T13:29:52.246Z"
   },
   {
    "duration": 12,
    "start_time": "2022-06-29T13:29:52.263Z"
   },
   {
    "duration": 9,
    "start_time": "2022-06-29T13:29:52.276Z"
   },
   {
    "duration": 12,
    "start_time": "2022-06-29T13:29:52.286Z"
   },
   {
    "duration": 39,
    "start_time": "2022-06-29T13:29:52.300Z"
   },
   {
    "duration": 11,
    "start_time": "2022-06-29T13:29:52.341Z"
   },
   {
    "duration": 8,
    "start_time": "2022-06-29T13:29:52.354Z"
   },
   {
    "duration": 7,
    "start_time": "2022-06-29T13:29:52.363Z"
   },
   {
    "duration": 5,
    "start_time": "2022-06-29T13:29:52.372Z"
   },
   {
    "duration": 13,
    "start_time": "2022-06-29T13:29:52.378Z"
   },
   {
    "duration": 34,
    "start_time": "2022-06-29T13:29:52.393Z"
   },
   {
    "duration": 5,
    "start_time": "2022-06-29T13:29:52.429Z"
   },
   {
    "duration": 10,
    "start_time": "2022-06-29T13:29:52.436Z"
   },
   {
    "duration": 216,
    "start_time": "2022-06-29T13:29:52.448Z"
   },
   {
    "duration": 6,
    "start_time": "2022-06-29T13:29:52.666Z"
   },
   {
    "duration": 14,
    "start_time": "2022-06-29T13:29:52.674Z"
   },
   {
    "duration": 14,
    "start_time": "2022-06-29T13:29:52.690Z"
   },
   {
    "duration": 225,
    "start_time": "2022-06-29T13:29:52.706Z"
   },
   {
    "duration": 227,
    "start_time": "2022-06-29T13:29:52.933Z"
   },
   {
    "duration": 10,
    "start_time": "2022-06-29T13:29:53.163Z"
   },
   {
    "duration": 19,
    "start_time": "2022-06-29T13:29:53.175Z"
   },
   {
    "duration": 295,
    "start_time": "2022-06-29T13:29:53.196Z"
   },
   {
    "duration": 34,
    "start_time": "2022-06-29T13:29:53.493Z"
   },
   {
    "duration": 30,
    "start_time": "2022-06-29T13:29:53.529Z"
   },
   {
    "duration": 266,
    "start_time": "2022-06-29T13:29:53.561Z"
   },
   {
    "duration": 244,
    "start_time": "2022-06-29T13:29:53.829Z"
   },
   {
    "duration": 4,
    "start_time": "2022-06-29T13:29:54.075Z"
   },
   {
    "duration": 194,
    "start_time": "2022-06-29T13:29:54.081Z"
   },
   {
    "duration": 8,
    "start_time": "2022-06-29T13:29:54.277Z"
   },
   {
    "duration": 206,
    "start_time": "2022-06-29T13:29:54.287Z"
   },
   {
    "duration": 195,
    "start_time": "2022-06-29T13:29:54.495Z"
   },
   {
    "duration": 15,
    "start_time": "2022-06-29T13:29:54.692Z"
   },
   {
    "duration": 9,
    "start_time": "2022-06-29T13:30:22.263Z"
   },
   {
    "duration": 11,
    "start_time": "2022-06-29T13:30:36.659Z"
   },
   {
    "duration": 11,
    "start_time": "2022-06-29T13:31:12.773Z"
   },
   {
    "duration": 36,
    "start_time": "2022-06-29T13:32:59.948Z"
   },
   {
    "duration": 10,
    "start_time": "2022-06-29T13:33:15.044Z"
   },
   {
    "duration": 9,
    "start_time": "2022-06-29T13:33:19.786Z"
   },
   {
    "duration": 289,
    "start_time": "2022-06-29T13:37:08.083Z"
   },
   {
    "duration": 282,
    "start_time": "2022-06-29T13:37:25.614Z"
   },
   {
    "duration": 222,
    "start_time": "2022-06-29T13:41:00.767Z"
   },
   {
    "duration": 8,
    "start_time": "2022-06-29T13:41:58.230Z"
   },
   {
    "duration": 255,
    "start_time": "2022-06-29T13:42:54.682Z"
   },
   {
    "duration": 4,
    "start_time": "2022-06-29T13:45:53.787Z"
   },
   {
    "duration": 247,
    "start_time": "2022-06-29T13:46:02.928Z"
   },
   {
    "duration": 296,
    "start_time": "2022-06-29T13:46:36.911Z"
   },
   {
    "duration": 300,
    "start_time": "2022-06-29T13:47:02.159Z"
   },
   {
    "duration": 378,
    "start_time": "2022-06-29T13:50:19.084Z"
   },
   {
    "duration": 278,
    "start_time": "2022-06-29T13:50:42.174Z"
   },
   {
    "duration": 285,
    "start_time": "2022-06-29T13:50:49.473Z"
   },
   {
    "duration": 148,
    "start_time": "2022-06-29T13:59:49.992Z"
   },
   {
    "duration": 25,
    "start_time": "2022-06-29T14:12:24.927Z"
   },
   {
    "duration": 9,
    "start_time": "2022-06-29T14:13:30.954Z"
   },
   {
    "duration": 8,
    "start_time": "2022-06-29T14:13:38.386Z"
   },
   {
    "duration": 9,
    "start_time": "2022-06-29T14:13:52.470Z"
   },
   {
    "duration": 10,
    "start_time": "2022-06-29T14:14:01.008Z"
   },
   {
    "duration": 17,
    "start_time": "2022-06-29T14:15:00.245Z"
   },
   {
    "duration": 25,
    "start_time": "2022-06-29T14:15:06.097Z"
   },
   {
    "duration": 48,
    "start_time": "2022-06-29T14:16:01.976Z"
   },
   {
    "duration": 25,
    "start_time": "2022-06-29T14:16:16.554Z"
   },
   {
    "duration": 26,
    "start_time": "2022-06-29T14:34:49.502Z"
   },
   {
    "duration": 7,
    "start_time": "2022-06-29T14:37:55.489Z"
   },
   {
    "duration": 10,
    "start_time": "2022-06-29T14:38:04.003Z"
   },
   {
    "duration": 8,
    "start_time": "2022-06-29T14:41:12.410Z"
   },
   {
    "duration": 7,
    "start_time": "2022-06-29T14:41:37.640Z"
   },
   {
    "duration": 6,
    "start_time": "2022-06-29T14:41:50.349Z"
   },
   {
    "duration": 9,
    "start_time": "2022-06-29T14:42:07.091Z"
   },
   {
    "duration": 9,
    "start_time": "2022-06-29T14:49:09.384Z"
   },
   {
    "duration": 6,
    "start_time": "2022-06-29T14:49:29.293Z"
   },
   {
    "duration": 6,
    "start_time": "2022-06-29T14:49:44.459Z"
   },
   {
    "duration": 6,
    "start_time": "2022-06-29T14:52:30.682Z"
   },
   {
    "duration": 5,
    "start_time": "2022-06-29T14:53:08.014Z"
   },
   {
    "duration": 8,
    "start_time": "2022-06-29T14:55:56.248Z"
   },
   {
    "duration": 5,
    "start_time": "2022-06-29T14:56:41.701Z"
   },
   {
    "duration": 9,
    "start_time": "2022-06-29T14:57:03.553Z"
   },
   {
    "duration": 8,
    "start_time": "2022-06-29T14:57:23.233Z"
   },
   {
    "duration": 7,
    "start_time": "2022-06-29T14:57:32.430Z"
   },
   {
    "duration": 6,
    "start_time": "2022-06-29T14:58:31.580Z"
   },
   {
    "duration": 8,
    "start_time": "2022-06-29T14:58:34.064Z"
   },
   {
    "duration": 48,
    "start_time": "2022-06-29T18:14:51.275Z"
   },
   {
    "duration": 803,
    "start_time": "2022-06-29T18:14:59.171Z"
   },
   {
    "duration": 237,
    "start_time": "2022-06-29T18:14:59.976Z"
   },
   {
    "duration": 29,
    "start_time": "2022-06-29T18:15:00.215Z"
   },
   {
    "duration": 18,
    "start_time": "2022-06-29T18:15:00.247Z"
   },
   {
    "duration": 23,
    "start_time": "2022-06-29T18:15:00.266Z"
   },
   {
    "duration": 16,
    "start_time": "2022-06-29T18:15:00.291Z"
   },
   {
    "duration": 18,
    "start_time": "2022-06-29T18:15:00.309Z"
   },
   {
    "duration": 26,
    "start_time": "2022-06-29T18:15:00.329Z"
   },
   {
    "duration": 16,
    "start_time": "2022-06-29T18:15:00.357Z"
   },
   {
    "duration": 31,
    "start_time": "2022-06-29T18:15:00.375Z"
   },
   {
    "duration": 18,
    "start_time": "2022-06-29T18:15:00.408Z"
   },
   {
    "duration": 20,
    "start_time": "2022-06-29T18:15:00.428Z"
   },
   {
    "duration": 20,
    "start_time": "2022-06-29T18:15:00.450Z"
   },
   {
    "duration": 25,
    "start_time": "2022-06-29T18:15:00.472Z"
   },
   {
    "duration": 14,
    "start_time": "2022-06-29T18:15:00.499Z"
   },
   {
    "duration": 43,
    "start_time": "2022-06-29T18:15:00.514Z"
   },
   {
    "duration": 45,
    "start_time": "2022-06-29T18:15:00.558Z"
   },
   {
    "duration": 24,
    "start_time": "2022-06-29T18:15:00.605Z"
   },
   {
    "duration": 16,
    "start_time": "2022-06-29T18:15:00.631Z"
   },
   {
    "duration": 30,
    "start_time": "2022-06-29T18:15:00.649Z"
   },
   {
    "duration": 20,
    "start_time": "2022-06-29T18:15:00.681Z"
   },
   {
    "duration": 9,
    "start_time": "2022-06-29T18:15:00.702Z"
   },
   {
    "duration": 25,
    "start_time": "2022-06-29T18:15:00.713Z"
   },
   {
    "duration": 21,
    "start_time": "2022-06-29T18:15:00.740Z"
   },
   {
    "duration": 16,
    "start_time": "2022-06-29T18:15:00.763Z"
   },
   {
    "duration": 12,
    "start_time": "2022-06-29T18:15:00.781Z"
   },
   {
    "duration": 29,
    "start_time": "2022-06-29T18:15:00.794Z"
   },
   {
    "duration": 5,
    "start_time": "2022-06-29T18:15:00.826Z"
   },
   {
    "duration": 22,
    "start_time": "2022-06-29T18:15:00.833Z"
   },
   {
    "duration": 11,
    "start_time": "2022-06-29T18:15:00.857Z"
   },
   {
    "duration": 41,
    "start_time": "2022-06-29T18:15:00.870Z"
   },
   {
    "duration": 21,
    "start_time": "2022-06-29T18:15:00.913Z"
   },
   {
    "duration": 35,
    "start_time": "2022-06-29T18:15:00.936Z"
   },
   {
    "duration": 15,
    "start_time": "2022-06-29T18:15:00.974Z"
   },
   {
    "duration": 18,
    "start_time": "2022-06-29T18:15:00.991Z"
   },
   {
    "duration": 25,
    "start_time": "2022-06-29T18:15:01.011Z"
   },
   {
    "duration": 42,
    "start_time": "2022-06-29T18:15:01.038Z"
   },
   {
    "duration": 38,
    "start_time": "2022-06-29T18:15:01.082Z"
   },
   {
    "duration": 40,
    "start_time": "2022-06-29T18:15:01.122Z"
   },
   {
    "duration": 59,
    "start_time": "2022-06-29T18:15:01.164Z"
   },
   {
    "duration": 60,
    "start_time": "2022-06-29T18:15:01.225Z"
   },
   {
    "duration": 34,
    "start_time": "2022-06-29T18:15:01.287Z"
   },
   {
    "duration": 26,
    "start_time": "2022-06-29T18:15:01.323Z"
   },
   {
    "duration": 29,
    "start_time": "2022-06-29T18:15:01.351Z"
   },
   {
    "duration": 33,
    "start_time": "2022-06-29T18:15:01.382Z"
   },
   {
    "duration": 31,
    "start_time": "2022-06-29T18:15:01.419Z"
   },
   {
    "duration": 51,
    "start_time": "2022-06-29T18:15:01.452Z"
   },
   {
    "duration": 47,
    "start_time": "2022-06-29T18:15:01.505Z"
   },
   {
    "duration": 34,
    "start_time": "2022-06-29T18:15:01.555Z"
   },
   {
    "duration": 34,
    "start_time": "2022-06-29T18:15:01.592Z"
   },
   {
    "duration": 29,
    "start_time": "2022-06-29T18:15:01.629Z"
   },
   {
    "duration": 32,
    "start_time": "2022-06-29T18:15:01.660Z"
   },
   {
    "duration": 49,
    "start_time": "2022-06-29T18:15:01.694Z"
   },
   {
    "duration": 26,
    "start_time": "2022-06-29T18:15:01.744Z"
   },
   {
    "duration": 18,
    "start_time": "2022-06-29T18:15:01.771Z"
   },
   {
    "duration": 133,
    "start_time": "2022-06-29T18:15:07.055Z"
   },
   {
    "duration": 117,
    "start_time": "2022-06-29T18:15:15.336Z"
   },
   {
    "duration": 131,
    "start_time": "2022-06-29T18:16:14.567Z"
   },
   {
    "duration": 117,
    "start_time": "2022-06-29T18:16:47.067Z"
   },
   {
    "duration": 6,
    "start_time": "2022-06-29T18:17:50.199Z"
   },
   {
    "duration": 8,
    "start_time": "2022-06-29T18:18:35.163Z"
   },
   {
    "duration": 101,
    "start_time": "2022-06-29T18:20:48.727Z"
   },
   {
    "duration": 10,
    "start_time": "2022-06-29T18:22:20.739Z"
   },
   {
    "duration": 13,
    "start_time": "2022-06-29T18:23:24.190Z"
   },
   {
    "duration": 17,
    "start_time": "2022-06-29T18:25:11.762Z"
   },
   {
    "duration": 16,
    "start_time": "2022-06-29T18:25:23.510Z"
   },
   {
    "duration": 26,
    "start_time": "2022-06-29T18:25:31.582Z"
   },
   {
    "duration": 14,
    "start_time": "2022-06-29T18:25:57.822Z"
   },
   {
    "duration": 12,
    "start_time": "2022-06-29T18:27:04.502Z"
   },
   {
    "duration": 14,
    "start_time": "2022-06-29T18:27:32.502Z"
   },
   {
    "duration": 3,
    "start_time": "2022-06-29T18:27:45.882Z"
   },
   {
    "duration": 100,
    "start_time": "2022-06-29T18:27:45.889Z"
   },
   {
    "duration": 19,
    "start_time": "2022-06-29T18:27:45.992Z"
   },
   {
    "duration": 19,
    "start_time": "2022-06-29T18:27:46.013Z"
   },
   {
    "duration": 14,
    "start_time": "2022-06-29T18:27:46.034Z"
   },
   {
    "duration": 23,
    "start_time": "2022-06-29T18:27:46.050Z"
   },
   {
    "duration": 27,
    "start_time": "2022-06-29T18:27:46.076Z"
   },
   {
    "duration": 49,
    "start_time": "2022-06-29T18:27:46.106Z"
   },
   {
    "duration": 38,
    "start_time": "2022-06-29T18:27:46.158Z"
   },
   {
    "duration": 39,
    "start_time": "2022-06-29T18:27:46.197Z"
   },
   {
    "duration": 11,
    "start_time": "2022-06-29T18:27:46.240Z"
   },
   {
    "duration": 47,
    "start_time": "2022-06-29T18:27:46.253Z"
   },
   {
    "duration": 23,
    "start_time": "2022-06-29T18:27:46.302Z"
   },
   {
    "duration": 28,
    "start_time": "2022-06-29T18:27:46.326Z"
   },
   {
    "duration": 40,
    "start_time": "2022-06-29T18:27:46.356Z"
   },
   {
    "duration": 24,
    "start_time": "2022-06-29T18:27:46.398Z"
   },
   {
    "duration": 36,
    "start_time": "2022-06-29T18:27:46.425Z"
   },
   {
    "duration": 30,
    "start_time": "2022-06-29T18:27:46.464Z"
   },
   {
    "duration": 29,
    "start_time": "2022-06-29T18:27:46.496Z"
   },
   {
    "duration": 33,
    "start_time": "2022-06-29T18:27:46.527Z"
   },
   {
    "duration": 24,
    "start_time": "2022-06-29T18:27:46.562Z"
   },
   {
    "duration": 33,
    "start_time": "2022-06-29T18:27:46.588Z"
   },
   {
    "duration": 33,
    "start_time": "2022-06-29T18:27:46.624Z"
   },
   {
    "duration": 31,
    "start_time": "2022-06-29T18:27:46.659Z"
   },
   {
    "duration": 60,
    "start_time": "2022-06-29T18:27:46.692Z"
   },
   {
    "duration": 36,
    "start_time": "2022-06-29T18:27:46.754Z"
   },
   {
    "duration": 41,
    "start_time": "2022-06-29T18:27:46.792Z"
   },
   {
    "duration": 19,
    "start_time": "2022-06-29T18:27:46.835Z"
   },
   {
    "duration": 34,
    "start_time": "2022-06-29T18:27:46.858Z"
   },
   {
    "duration": 17,
    "start_time": "2022-06-29T18:27:46.894Z"
   },
   {
    "duration": 40,
    "start_time": "2022-06-29T18:27:46.913Z"
   },
   {
    "duration": 31,
    "start_time": "2022-06-29T18:27:46.955Z"
   },
   {
    "duration": 40,
    "start_time": "2022-06-29T18:27:46.987Z"
   },
   {
    "duration": 37,
    "start_time": "2022-06-29T18:27:47.029Z"
   },
   {
    "duration": 34,
    "start_time": "2022-06-29T18:27:47.068Z"
   },
   {
    "duration": 31,
    "start_time": "2022-06-29T18:27:47.104Z"
   },
   {
    "duration": 39,
    "start_time": "2022-06-29T18:27:47.137Z"
   },
   {
    "duration": 25,
    "start_time": "2022-06-29T18:27:47.179Z"
   },
   {
    "duration": 31,
    "start_time": "2022-06-29T18:27:47.206Z"
   },
   {
    "duration": 38,
    "start_time": "2022-06-29T18:27:47.239Z"
   },
   {
    "duration": 38,
    "start_time": "2022-06-29T18:27:47.279Z"
   },
   {
    "duration": 33,
    "start_time": "2022-06-29T18:27:47.319Z"
   },
   {
    "duration": 31,
    "start_time": "2022-06-29T18:27:47.354Z"
   },
   {
    "duration": 41,
    "start_time": "2022-06-29T18:27:47.387Z"
   },
   {
    "duration": 29,
    "start_time": "2022-06-29T18:27:47.431Z"
   },
   {
    "duration": 45,
    "start_time": "2022-06-29T18:27:47.461Z"
   },
   {
    "duration": 15,
    "start_time": "2022-06-29T18:27:47.508Z"
   },
   {
    "duration": 34,
    "start_time": "2022-06-29T18:27:47.525Z"
   },
   {
    "duration": 55,
    "start_time": "2022-06-29T18:27:47.561Z"
   },
   {
    "duration": 49,
    "start_time": "2022-06-29T18:27:47.618Z"
   },
   {
    "duration": 39,
    "start_time": "2022-06-29T18:27:47.669Z"
   },
   {
    "duration": 40,
    "start_time": "2022-06-29T18:27:47.711Z"
   },
   {
    "duration": 33,
    "start_time": "2022-06-29T18:27:47.753Z"
   },
   {
    "duration": 46,
    "start_time": "2022-06-29T18:27:47.788Z"
   },
   {
    "duration": 51,
    "start_time": "2022-06-29T18:27:47.836Z"
   },
   {
    "duration": 143,
    "start_time": "2022-06-29T18:27:47.889Z"
   },
   {
    "duration": 17,
    "start_time": "2022-06-29T18:27:48.034Z"
   },
   {
    "duration": 19,
    "start_time": "2022-06-29T18:27:48.057Z"
   },
   {
    "duration": 20,
    "start_time": "2022-06-29T18:27:48.078Z"
   },
   {
    "duration": 34,
    "start_time": "2022-06-29T18:27:48.100Z"
   },
   {
    "duration": 31,
    "start_time": "2022-06-29T18:27:48.136Z"
   },
   {
    "duration": 46,
    "start_time": "2022-06-29T18:27:48.169Z"
   },
   {
    "duration": 18,
    "start_time": "2022-06-29T18:27:48.217Z"
   },
   {
    "duration": 29,
    "start_time": "2022-06-29T18:27:48.237Z"
   },
   {
    "duration": 215,
    "start_time": "2022-06-29T18:27:48.268Z"
   },
   {
    "duration": 6,
    "start_time": "2022-06-29T18:27:48.485Z"
   },
   {
    "duration": 43,
    "start_time": "2022-06-29T18:27:48.494Z"
   },
   {
    "duration": 33,
    "start_time": "2022-06-29T18:27:48.539Z"
   },
   {
    "duration": 271,
    "start_time": "2022-06-29T18:27:48.574Z"
   },
   {
    "duration": 226,
    "start_time": "2022-06-29T18:27:48.847Z"
   },
   {
    "duration": 11,
    "start_time": "2022-06-29T18:27:49.074Z"
   },
   {
    "duration": 36,
    "start_time": "2022-06-29T18:27:49.087Z"
   },
   {
    "duration": 328,
    "start_time": "2022-06-29T18:27:49.127Z"
   },
   {
    "duration": 332,
    "start_time": "2022-06-29T18:27:49.457Z"
   },
   {
    "duration": 21,
    "start_time": "2022-06-29T18:27:49.791Z"
   },
   {
    "duration": 28,
    "start_time": "2022-06-29T18:27:49.826Z"
   },
   {
    "duration": 194,
    "start_time": "2022-06-29T18:27:49.856Z"
   },
   {
    "duration": 4,
    "start_time": "2022-06-29T18:27:50.051Z"
   },
   {
    "duration": 239,
    "start_time": "2022-06-29T18:27:50.057Z"
   },
   {
    "duration": 4,
    "start_time": "2022-06-29T18:27:50.298Z"
   },
   {
    "duration": 216,
    "start_time": "2022-06-29T18:27:50.303Z"
   },
   {
    "duration": 11,
    "start_time": "2022-06-29T18:27:50.527Z"
   },
   {
    "duration": 263,
    "start_time": "2022-06-29T18:27:50.540Z"
   },
   {
    "duration": 225,
    "start_time": "2022-06-29T18:27:50.805Z"
   },
   {
    "duration": 19,
    "start_time": "2022-06-29T18:27:51.032Z"
   },
   {
    "duration": 722,
    "start_time": "2022-06-29T18:28:11.137Z"
   },
   {
    "duration": 74,
    "start_time": "2022-06-29T18:28:11.861Z"
   },
   {
    "duration": 18,
    "start_time": "2022-06-29T18:28:11.937Z"
   },
   {
    "duration": 16,
    "start_time": "2022-06-29T18:28:11.957Z"
   },
   {
    "duration": 15,
    "start_time": "2022-06-29T18:28:11.976Z"
   },
   {
    "duration": 5,
    "start_time": "2022-06-29T18:28:16.058Z"
   },
   {
    "duration": 12,
    "start_time": "2022-06-29T18:28:16.065Z"
   },
   {
    "duration": 13,
    "start_time": "2022-06-29T18:28:16.518Z"
   },
   {
    "duration": 28,
    "start_time": "2022-06-29T18:28:16.534Z"
   },
   {
    "duration": 40,
    "start_time": "2022-06-29T18:28:16.564Z"
   },
   {
    "duration": 21,
    "start_time": "2022-06-29T18:28:16.606Z"
   },
   {
    "duration": 17,
    "start_time": "2022-06-29T18:28:16.631Z"
   },
   {
    "duration": 8,
    "start_time": "2022-06-29T18:28:16.650Z"
   },
   {
    "duration": 6,
    "start_time": "2022-06-29T18:28:16.659Z"
   },
   {
    "duration": 8,
    "start_time": "2022-06-29T18:28:21.867Z"
   },
   {
    "duration": 6,
    "start_time": "2022-06-29T18:28:21.878Z"
   },
   {
    "duration": 9,
    "start_time": "2022-06-29T18:28:21.886Z"
   },
   {
    "duration": 4,
    "start_time": "2022-06-29T18:28:34.086Z"
   },
   {
    "duration": 10,
    "start_time": "2022-06-29T18:28:34.092Z"
   },
   {
    "duration": 8,
    "start_time": "2022-06-29T18:28:34.103Z"
   },
   {
    "duration": 6,
    "start_time": "2022-06-29T18:28:34.117Z"
   },
   {
    "duration": 10,
    "start_time": "2022-06-29T18:28:34.126Z"
   },
   {
    "duration": 13,
    "start_time": "2022-06-29T18:28:34.138Z"
   },
   {
    "duration": 9,
    "start_time": "2022-06-29T18:28:34.153Z"
   },
   {
    "duration": 6,
    "start_time": "2022-06-29T18:28:34.164Z"
   },
   {
    "duration": 9,
    "start_time": "2022-06-29T18:28:34.171Z"
   },
   {
    "duration": 52,
    "start_time": "2022-06-29T18:28:34.182Z"
   },
   {
    "duration": 7,
    "start_time": "2022-06-29T18:28:34.236Z"
   },
   {
    "duration": 27,
    "start_time": "2022-06-29T18:28:34.247Z"
   },
   {
    "duration": 6,
    "start_time": "2022-06-29T18:28:34.275Z"
   },
   {
    "duration": 57,
    "start_time": "2022-06-29T18:28:34.282Z"
   },
   {
    "duration": 19,
    "start_time": "2022-06-29T18:28:34.341Z"
   },
   {
    "duration": 20,
    "start_time": "2022-06-29T18:28:34.362Z"
   },
   {
    "duration": 13,
    "start_time": "2022-06-29T18:28:34.384Z"
   },
   {
    "duration": 31,
    "start_time": "2022-06-29T18:28:34.399Z"
   },
   {
    "duration": 9,
    "start_time": "2022-06-29T18:28:34.432Z"
   },
   {
    "duration": 11,
    "start_time": "2022-06-29T18:28:34.443Z"
   },
   {
    "duration": 12,
    "start_time": "2022-06-29T18:28:34.456Z"
   },
   {
    "duration": 11,
    "start_time": "2022-06-29T18:28:34.469Z"
   },
   {
    "duration": 11,
    "start_time": "2022-06-29T18:28:34.481Z"
   },
   {
    "duration": 12,
    "start_time": "2022-06-29T18:28:34.494Z"
   },
   {
    "duration": 13,
    "start_time": "2022-06-29T18:28:34.527Z"
   },
   {
    "duration": 9,
    "start_time": "2022-06-29T18:28:34.542Z"
   },
   {
    "duration": 14,
    "start_time": "2022-06-29T18:28:34.554Z"
   },
   {
    "duration": 11,
    "start_time": "2022-06-29T18:28:34.571Z"
   },
   {
    "duration": 15,
    "start_time": "2022-06-29T18:28:34.584Z"
   },
   {
    "duration": 26,
    "start_time": "2022-06-29T18:28:34.601Z"
   },
   {
    "duration": 11,
    "start_time": "2022-06-29T18:28:34.629Z"
   },
   {
    "duration": 15,
    "start_time": "2022-06-29T18:28:34.642Z"
   },
   {
    "duration": 9,
    "start_time": "2022-06-29T18:28:34.662Z"
   },
   {
    "duration": 35,
    "start_time": "2022-06-29T18:28:34.673Z"
   },
   {
    "duration": 7,
    "start_time": "2022-06-29T18:28:34.709Z"
   },
   {
    "duration": 13,
    "start_time": "2022-06-29T18:28:34.718Z"
   },
   {
    "duration": 21,
    "start_time": "2022-06-29T18:28:34.733Z"
   },
   {
    "duration": 10,
    "start_time": "2022-06-29T18:28:34.755Z"
   },
   {
    "duration": 187,
    "start_time": "2022-06-29T18:28:34.767Z"
   },
   {
    "duration": 20,
    "start_time": "2022-06-29T18:28:34.955Z"
   },
   {
    "duration": 5,
    "start_time": "2022-06-29T18:28:34.977Z"
   },
   {
    "duration": 17,
    "start_time": "2022-06-29T18:28:34.983Z"
   },
   {
    "duration": 12,
    "start_time": "2022-06-29T18:28:35.001Z"
   },
   {
    "duration": 17,
    "start_time": "2022-06-29T18:28:35.015Z"
   },
   {
    "duration": 15,
    "start_time": "2022-06-29T18:28:35.034Z"
   },
   {
    "duration": 17,
    "start_time": "2022-06-29T18:28:35.051Z"
   },
   {
    "duration": 19,
    "start_time": "2022-06-29T18:28:35.070Z"
   },
   {
    "duration": 264,
    "start_time": "2022-06-29T18:28:35.091Z"
   },
   {
    "duration": 8,
    "start_time": "2022-06-29T18:28:35.357Z"
   },
   {
    "duration": 8,
    "start_time": "2022-06-29T18:28:35.366Z"
   },
   {
    "duration": 14,
    "start_time": "2022-06-29T18:28:35.376Z"
   },
   {
    "duration": 206,
    "start_time": "2022-06-29T18:28:35.392Z"
   },
   {
    "duration": 235,
    "start_time": "2022-06-29T18:28:35.600Z"
   },
   {
    "duration": 10,
    "start_time": "2022-06-29T18:28:35.836Z"
   },
   {
    "duration": 27,
    "start_time": "2022-06-29T18:28:35.847Z"
   },
   {
    "duration": 379,
    "start_time": "2022-06-29T18:28:35.875Z"
   },
   {
    "duration": 303,
    "start_time": "2022-06-29T18:28:36.256Z"
   },
   {
    "duration": 31,
    "start_time": "2022-06-29T18:28:36.561Z"
   },
   {
    "duration": 52,
    "start_time": "2022-06-29T18:28:36.594Z"
   },
   {
    "duration": 213,
    "start_time": "2022-06-29T18:28:36.648Z"
   },
   {
    "duration": 4,
    "start_time": "2022-06-29T18:28:36.863Z"
   },
   {
    "duration": 230,
    "start_time": "2022-06-29T18:28:36.869Z"
   },
   {
    "duration": 5,
    "start_time": "2022-06-29T18:28:37.100Z"
   },
   {
    "duration": 215,
    "start_time": "2022-06-29T18:28:37.107Z"
   },
   {
    "duration": 10,
    "start_time": "2022-06-29T18:28:37.326Z"
   },
   {
    "duration": 278,
    "start_time": "2022-06-29T18:28:37.338Z"
   },
   {
    "duration": 250,
    "start_time": "2022-06-29T18:28:37.619Z"
   },
   {
    "duration": 17,
    "start_time": "2022-06-29T18:28:37.871Z"
   },
   {
    "duration": 62,
    "start_time": "2022-06-29T18:29:41.937Z"
   },
   {
    "duration": 15,
    "start_time": "2022-06-29T18:29:59.129Z"
   },
   {
    "duration": 15,
    "start_time": "2022-06-29T18:30:33.887Z"
   },
   {
    "duration": 15,
    "start_time": "2022-06-29T18:31:11.528Z"
   },
   {
    "duration": 736,
    "start_time": "2022-06-29T18:31:21.421Z"
   },
   {
    "duration": 98,
    "start_time": "2022-06-29T18:31:22.160Z"
   },
   {
    "duration": 20,
    "start_time": "2022-06-29T18:31:22.259Z"
   },
   {
    "duration": 16,
    "start_time": "2022-06-29T18:31:22.281Z"
   },
   {
    "duration": 26,
    "start_time": "2022-06-29T18:31:22.299Z"
   },
   {
    "duration": 19,
    "start_time": "2022-06-29T18:31:22.327Z"
   },
   {
    "duration": 8,
    "start_time": "2022-06-29T18:31:22.348Z"
   },
   {
    "duration": 31,
    "start_time": "2022-06-29T18:31:22.357Z"
   },
   {
    "duration": 22,
    "start_time": "2022-06-29T18:31:22.390Z"
   },
   {
    "duration": 41,
    "start_time": "2022-06-29T18:31:22.414Z"
   },
   {
    "duration": 9,
    "start_time": "2022-06-29T18:31:22.458Z"
   },
   {
    "duration": 47,
    "start_time": "2022-06-29T18:31:22.469Z"
   },
   {
    "duration": 31,
    "start_time": "2022-06-29T18:31:22.518Z"
   },
   {
    "duration": 5,
    "start_time": "2022-06-29T18:31:22.553Z"
   },
   {
    "duration": 23,
    "start_time": "2022-06-29T18:31:22.560Z"
   },
   {
    "duration": 21,
    "start_time": "2022-06-29T18:31:22.585Z"
   },
   {
    "duration": 23,
    "start_time": "2022-06-29T18:31:22.608Z"
   },
   {
    "duration": 24,
    "start_time": "2022-06-29T18:31:22.634Z"
   },
   {
    "duration": 18,
    "start_time": "2022-06-29T18:31:22.660Z"
   },
   {
    "duration": 28,
    "start_time": "2022-06-29T18:31:22.680Z"
   },
   {
    "duration": 34,
    "start_time": "2022-06-29T18:31:22.710Z"
   },
   {
    "duration": 15,
    "start_time": "2022-06-29T18:31:22.746Z"
   },
   {
    "duration": 13,
    "start_time": "2022-06-29T18:31:22.762Z"
   },
   {
    "duration": 23,
    "start_time": "2022-06-29T18:31:22.777Z"
   },
   {
    "duration": 9,
    "start_time": "2022-06-29T18:31:22.802Z"
   },
   {
    "duration": 25,
    "start_time": "2022-06-29T18:31:22.812Z"
   },
   {
    "duration": 38,
    "start_time": "2022-06-29T18:31:22.838Z"
   },
   {
    "duration": 8,
    "start_time": "2022-06-29T18:31:22.878Z"
   },
   {
    "duration": 32,
    "start_time": "2022-06-29T18:31:22.888Z"
   },
   {
    "duration": 20,
    "start_time": "2022-06-29T18:31:22.922Z"
   },
   {
    "duration": 46,
    "start_time": "2022-06-29T18:31:22.944Z"
   },
   {
    "duration": 31,
    "start_time": "2022-06-29T18:31:22.992Z"
   },
   {
    "duration": 37,
    "start_time": "2022-06-29T18:31:23.025Z"
   },
   {
    "duration": 39,
    "start_time": "2022-06-29T18:31:23.064Z"
   },
   {
    "duration": 16,
    "start_time": "2022-06-29T18:31:23.105Z"
   },
   {
    "duration": 32,
    "start_time": "2022-06-29T18:31:23.123Z"
   },
   {
    "duration": 33,
    "start_time": "2022-06-29T18:31:23.157Z"
   },
   {
    "duration": 38,
    "start_time": "2022-06-29T18:31:23.192Z"
   },
   {
    "duration": 23,
    "start_time": "2022-06-29T18:31:23.233Z"
   },
   {
    "duration": 31,
    "start_time": "2022-06-29T18:31:23.257Z"
   },
   {
    "duration": 19,
    "start_time": "2022-06-29T18:31:23.294Z"
   },
   {
    "duration": 30,
    "start_time": "2022-06-29T18:31:23.315Z"
   },
   {
    "duration": 24,
    "start_time": "2022-06-29T18:31:23.347Z"
   },
   {
    "duration": 19,
    "start_time": "2022-06-29T18:31:23.373Z"
   },
   {
    "duration": 25,
    "start_time": "2022-06-29T18:31:23.394Z"
   },
   {
    "duration": 20,
    "start_time": "2022-06-29T18:31:23.421Z"
   },
   {
    "duration": 32,
    "start_time": "2022-06-29T18:31:23.443Z"
   },
   {
    "duration": 32,
    "start_time": "2022-06-29T18:31:23.477Z"
   },
   {
    "duration": 17,
    "start_time": "2022-06-29T18:31:23.512Z"
   },
   {
    "duration": 28,
    "start_time": "2022-06-29T18:31:23.531Z"
   },
   {
    "duration": 21,
    "start_time": "2022-06-29T18:31:23.561Z"
   },
   {
    "duration": 28,
    "start_time": "2022-06-29T18:31:23.584Z"
   },
   {
    "duration": 19,
    "start_time": "2022-06-29T18:31:23.616Z"
   },
   {
    "duration": 43,
    "start_time": "2022-06-29T18:31:23.637Z"
   },
   {
    "duration": 5,
    "start_time": "2022-06-29T18:31:23.682Z"
   },
   {
    "duration": 161,
    "start_time": "2022-06-29T18:31:23.689Z"
   },
   {
    "duration": 13,
    "start_time": "2022-06-29T18:31:23.851Z"
   },
   {
    "duration": 24,
    "start_time": "2022-06-29T18:31:23.865Z"
   },
   {
    "duration": 19,
    "start_time": "2022-06-29T18:31:23.891Z"
   },
   {
    "duration": 24,
    "start_time": "2022-06-29T18:31:23.912Z"
   },
   {
    "duration": 25,
    "start_time": "2022-06-29T18:31:23.939Z"
   },
   {
    "duration": 28,
    "start_time": "2022-06-29T18:31:23.965Z"
   },
   {
    "duration": 24,
    "start_time": "2022-06-29T18:31:23.995Z"
   },
   {
    "duration": 29,
    "start_time": "2022-06-29T18:31:24.021Z"
   },
   {
    "duration": 214,
    "start_time": "2022-06-29T18:31:24.052Z"
   },
   {
    "duration": 6,
    "start_time": "2022-06-29T18:31:24.268Z"
   },
   {
    "duration": 27,
    "start_time": "2022-06-29T18:31:24.276Z"
   },
   {
    "duration": 28,
    "start_time": "2022-06-29T18:31:24.305Z"
   },
   {
    "duration": 257,
    "start_time": "2022-06-29T18:31:24.335Z"
   },
   {
    "duration": 245,
    "start_time": "2022-06-29T18:31:24.594Z"
   },
   {
    "duration": 10,
    "start_time": "2022-06-29T18:31:24.841Z"
   },
   {
    "duration": 24,
    "start_time": "2022-06-29T18:31:24.853Z"
   },
   {
    "duration": 397,
    "start_time": "2022-06-29T18:31:24.879Z"
   },
   {
    "duration": 325,
    "start_time": "2022-06-29T18:31:25.278Z"
   },
   {
    "duration": 37,
    "start_time": "2022-06-29T18:31:25.604Z"
   },
   {
    "duration": 39,
    "start_time": "2022-06-29T18:31:25.643Z"
   },
   {
    "duration": 239,
    "start_time": "2022-06-29T18:31:25.684Z"
   },
   {
    "duration": 5,
    "start_time": "2022-06-29T18:31:25.927Z"
   },
   {
    "duration": 254,
    "start_time": "2022-06-29T18:31:25.934Z"
   },
   {
    "duration": 4,
    "start_time": "2022-06-29T18:31:26.191Z"
   },
   {
    "duration": 198,
    "start_time": "2022-06-29T18:31:26.197Z"
   },
   {
    "duration": 9,
    "start_time": "2022-06-29T18:31:26.397Z"
   },
   {
    "duration": 232,
    "start_time": "2022-06-29T18:31:26.407Z"
   },
   {
    "duration": 203,
    "start_time": "2022-06-29T18:31:26.641Z"
   },
   {
    "duration": 17,
    "start_time": "2022-06-29T18:31:26.845Z"
   },
   {
    "duration": 15,
    "start_time": "2022-06-29T18:33:00.459Z"
   },
   {
    "duration": 136,
    "start_time": "2022-06-29T18:33:19.534Z"
   },
   {
    "duration": 12,
    "start_time": "2022-06-29T18:33:50.774Z"
   },
   {
    "duration": 115,
    "start_time": "2022-06-29T18:36:13.631Z"
   },
   {
    "duration": 15,
    "start_time": "2022-06-29T18:36:45.639Z"
   },
   {
    "duration": 17,
    "start_time": "2022-06-29T18:39:28.136Z"
   },
   {
    "duration": 114,
    "start_time": "2022-06-29T18:40:38.972Z"
   },
   {
    "duration": 108,
    "start_time": "2022-06-29T18:41:45.144Z"
   },
   {
    "duration": 12,
    "start_time": "2022-06-29T18:42:54.808Z"
   },
   {
    "duration": 93,
    "start_time": "2022-06-29T19:53:01.806Z"
   },
   {
    "duration": 12,
    "start_time": "2022-06-29T19:53:10.826Z"
   },
   {
    "duration": 119,
    "start_time": "2022-06-29T19:53:19.006Z"
   },
   {
    "duration": 7,
    "start_time": "2022-06-29T19:53:32.678Z"
   },
   {
    "duration": 7,
    "start_time": "2022-06-29T19:53:41.474Z"
   },
   {
    "duration": 8,
    "start_time": "2022-06-29T19:53:47.172Z"
   },
   {
    "duration": 38,
    "start_time": "2022-06-29T19:53:57.643Z"
   },
   {
    "duration": 670,
    "start_time": "2022-06-29T19:55:52.582Z"
   },
   {
    "duration": 88,
    "start_time": "2022-06-29T19:55:53.254Z"
   },
   {
    "duration": 19,
    "start_time": "2022-06-29T19:55:53.348Z"
   },
   {
    "duration": 19,
    "start_time": "2022-06-29T19:55:53.369Z"
   },
   {
    "duration": 14,
    "start_time": "2022-06-29T19:55:53.390Z"
   },
   {
    "duration": 25,
    "start_time": "2022-06-29T19:55:53.406Z"
   },
   {
    "duration": 23,
    "start_time": "2022-06-29T19:55:53.433Z"
   },
   {
    "duration": 14,
    "start_time": "2022-06-29T19:55:53.458Z"
   },
   {
    "duration": 18,
    "start_time": "2022-06-29T19:55:53.475Z"
   },
   {
    "duration": 71,
    "start_time": "2022-06-29T19:55:53.494Z"
   },
   {
    "duration": 7,
    "start_time": "2022-06-29T19:55:53.567Z"
   },
   {
    "duration": 19,
    "start_time": "2022-06-29T19:55:53.576Z"
   },
   {
    "duration": 6,
    "start_time": "2022-06-29T19:55:53.597Z"
   },
   {
    "duration": 4,
    "start_time": "2022-06-29T19:55:53.628Z"
   },
   {
    "duration": 28,
    "start_time": "2022-06-29T19:55:53.634Z"
   },
   {
    "duration": 10,
    "start_time": "2022-06-29T19:55:53.664Z"
   },
   {
    "duration": 16,
    "start_time": "2022-06-29T19:55:53.676Z"
   },
   {
    "duration": 9,
    "start_time": "2022-06-29T19:55:53.693Z"
   },
   {
    "duration": 7,
    "start_time": "2022-06-29T19:55:53.703Z"
   },
   {
    "duration": 11,
    "start_time": "2022-06-29T19:55:53.712Z"
   },
   {
    "duration": 25,
    "start_time": "2022-06-29T19:55:53.727Z"
   },
   {
    "duration": 10,
    "start_time": "2022-06-29T19:55:53.754Z"
   },
   {
    "duration": 7,
    "start_time": "2022-06-29T19:55:53.766Z"
   },
   {
    "duration": 15,
    "start_time": "2022-06-29T19:55:53.774Z"
   },
   {
    "duration": 15,
    "start_time": "2022-06-29T19:55:53.790Z"
   },
   {
    "duration": 13,
    "start_time": "2022-06-29T19:55:53.807Z"
   },
   {
    "duration": 45,
    "start_time": "2022-06-29T19:55:53.824Z"
   },
   {
    "duration": 6,
    "start_time": "2022-06-29T19:55:53.871Z"
   },
   {
    "duration": 21,
    "start_time": "2022-06-29T19:55:53.879Z"
   },
   {
    "duration": 5,
    "start_time": "2022-06-29T19:55:53.902Z"
   },
   {
    "duration": 30,
    "start_time": "2022-06-29T19:55:53.908Z"
   },
   {
    "duration": 18,
    "start_time": "2022-06-29T19:55:53.940Z"
   },
   {
    "duration": 20,
    "start_time": "2022-06-29T19:55:53.959Z"
   },
   {
    "duration": 9,
    "start_time": "2022-06-29T19:55:53.980Z"
   },
   {
    "duration": 7,
    "start_time": "2022-06-29T19:55:53.991Z"
   },
   {
    "duration": 28,
    "start_time": "2022-06-29T19:55:54.000Z"
   },
   {
    "duration": 25,
    "start_time": "2022-06-29T19:55:54.030Z"
   },
   {
    "duration": 8,
    "start_time": "2022-06-29T19:55:54.057Z"
   },
   {
    "duration": 11,
    "start_time": "2022-06-29T19:55:54.066Z"
   },
   {
    "duration": 17,
    "start_time": "2022-06-29T19:55:54.079Z"
   },
   {
    "duration": 9,
    "start_time": "2022-06-29T19:55:54.098Z"
   },
   {
    "duration": 10,
    "start_time": "2022-06-29T19:55:54.109Z"
   },
   {
    "duration": 9,
    "start_time": "2022-06-29T19:55:54.121Z"
   },
   {
    "duration": 20,
    "start_time": "2022-06-29T19:55:54.132Z"
   },
   {
    "duration": 11,
    "start_time": "2022-06-29T19:55:54.154Z"
   },
   {
    "duration": 10,
    "start_time": "2022-06-29T19:55:54.167Z"
   },
   {
    "duration": 11,
    "start_time": "2022-06-29T19:55:54.178Z"
   },
   {
    "duration": 11,
    "start_time": "2022-06-29T19:55:54.191Z"
   },
   {
    "duration": 7,
    "start_time": "2022-06-29T19:55:54.203Z"
   },
   {
    "duration": 8,
    "start_time": "2022-06-29T19:55:54.226Z"
   },
   {
    "duration": 30,
    "start_time": "2022-06-29T19:55:54.236Z"
   },
   {
    "duration": 7,
    "start_time": "2022-06-29T19:55:54.268Z"
   },
   {
    "duration": 10,
    "start_time": "2022-06-29T19:55:54.276Z"
   },
   {
    "duration": 15,
    "start_time": "2022-06-29T19:55:54.288Z"
   },
   {
    "duration": 7,
    "start_time": "2022-06-29T19:55:54.304Z"
   },
   {
    "duration": 164,
    "start_time": "2022-06-29T19:55:54.312Z"
   },
   {
    "duration": 12,
    "start_time": "2022-06-29T19:55:54.477Z"
   },
   {
    "duration": 176,
    "start_time": "2022-06-29T19:55:54.491Z"
   },
   {
    "duration": 14,
    "start_time": "2022-06-29T19:55:54.672Z"
   },
   {
    "duration": 129,
    "start_time": "2022-06-29T19:55:54.689Z"
   },
   {
    "duration": 22,
    "start_time": "2022-06-29T19:55:54.820Z"
   },
   {
    "duration": 152,
    "start_time": "2022-06-29T19:55:54.844Z"
   },
   {
    "duration": 15,
    "start_time": "2022-06-29T19:55:54.998Z"
   },
   {
    "duration": 199,
    "start_time": "2022-06-29T19:55:55.028Z"
   },
   {
    "duration": 18,
    "start_time": "2022-06-29T19:55:55.229Z"
   },
   {
    "duration": 5,
    "start_time": "2022-06-29T19:55:55.250Z"
   },
   {
    "duration": 10,
    "start_time": "2022-06-29T19:55:55.257Z"
   },
   {
    "duration": 4,
    "start_time": "2022-06-29T19:55:55.269Z"
   },
   {
    "duration": 12,
    "start_time": "2022-06-29T19:55:55.276Z"
   },
   {
    "duration": 42,
    "start_time": "2022-06-29T19:55:55.290Z"
   },
   {
    "duration": 14,
    "start_time": "2022-06-29T19:55:55.333Z"
   },
   {
    "duration": 10,
    "start_time": "2022-06-29T19:55:55.349Z"
   },
   {
    "duration": 221,
    "start_time": "2022-06-29T19:55:55.361Z"
   },
   {
    "duration": 7,
    "start_time": "2022-06-29T19:55:55.584Z"
   },
   {
    "duration": 20,
    "start_time": "2022-06-29T19:55:55.593Z"
   },
   {
    "duration": 22,
    "start_time": "2022-06-29T19:55:55.614Z"
   },
   {
    "duration": 286,
    "start_time": "2022-06-29T19:55:55.637Z"
   },
   {
    "duration": 267,
    "start_time": "2022-06-29T19:55:55.926Z"
   },
   {
    "duration": 16,
    "start_time": "2022-06-29T19:55:56.195Z"
   },
   {
    "duration": 32,
    "start_time": "2022-06-29T19:55:56.213Z"
   },
   {
    "duration": 347,
    "start_time": "2022-06-29T19:55:56.252Z"
   },
   {
    "duration": 353,
    "start_time": "2022-06-29T19:55:56.602Z"
   },
   {
    "duration": 25,
    "start_time": "2022-06-29T19:55:56.957Z"
   },
   {
    "duration": 53,
    "start_time": "2022-06-29T19:55:56.985Z"
   },
   {
    "duration": 226,
    "start_time": "2022-06-29T19:55:57.043Z"
   },
   {
    "duration": 4,
    "start_time": "2022-06-29T19:55:57.272Z"
   },
   {
    "duration": 268,
    "start_time": "2022-06-29T19:55:57.278Z"
   },
   {
    "duration": 5,
    "start_time": "2022-06-29T19:55:57.549Z"
   },
   {
    "duration": 214,
    "start_time": "2022-06-29T19:55:57.556Z"
   },
   {
    "duration": 8,
    "start_time": "2022-06-29T19:55:57.772Z"
   },
   {
    "duration": 243,
    "start_time": "2022-06-29T19:55:57.782Z"
   },
   {
    "duration": 220,
    "start_time": "2022-06-29T19:55:58.027Z"
   },
   {
    "duration": 17,
    "start_time": "2022-06-29T19:55:58.249Z"
   },
   {
    "duration": 752,
    "start_time": "2022-06-29T20:05:49.359Z"
   },
   {
    "duration": 89,
    "start_time": "2022-06-29T20:05:50.114Z"
   },
   {
    "duration": 20,
    "start_time": "2022-06-29T20:05:50.205Z"
   },
   {
    "duration": 31,
    "start_time": "2022-06-29T20:05:50.229Z"
   },
   {
    "duration": 17,
    "start_time": "2022-06-29T20:05:50.263Z"
   },
   {
    "duration": 9,
    "start_time": "2022-06-29T20:05:50.282Z"
   },
   {
    "duration": 10,
    "start_time": "2022-06-29T20:05:50.293Z"
   },
   {
    "duration": 29,
    "start_time": "2022-06-29T20:05:50.306Z"
   },
   {
    "duration": 31,
    "start_time": "2022-06-29T20:05:50.337Z"
   },
   {
    "duration": 33,
    "start_time": "2022-06-29T20:05:50.372Z"
   },
   {
    "duration": 29,
    "start_time": "2022-06-29T20:05:50.408Z"
   },
   {
    "duration": 35,
    "start_time": "2022-06-29T20:05:50.440Z"
   },
   {
    "duration": 13,
    "start_time": "2022-06-29T20:05:50.476Z"
   },
   {
    "duration": 20,
    "start_time": "2022-06-29T20:05:50.491Z"
   },
   {
    "duration": 11,
    "start_time": "2022-06-29T20:05:50.513Z"
   },
   {
    "duration": 38,
    "start_time": "2022-06-29T20:05:50.526Z"
   },
   {
    "duration": 16,
    "start_time": "2022-06-29T20:05:50.566Z"
   },
   {
    "duration": 9,
    "start_time": "2022-06-29T20:05:50.583Z"
   },
   {
    "duration": 26,
    "start_time": "2022-06-29T20:05:50.594Z"
   },
   {
    "duration": 34,
    "start_time": "2022-06-29T20:05:50.622Z"
   },
   {
    "duration": 18,
    "start_time": "2022-06-29T20:05:50.658Z"
   },
   {
    "duration": 17,
    "start_time": "2022-06-29T20:05:50.679Z"
   },
   {
    "duration": 14,
    "start_time": "2022-06-29T20:05:50.698Z"
   },
   {
    "duration": 9,
    "start_time": "2022-06-29T20:05:50.714Z"
   },
   {
    "duration": 9,
    "start_time": "2022-06-29T20:05:50.724Z"
   },
   {
    "duration": 22,
    "start_time": "2022-06-29T20:05:50.734Z"
   },
   {
    "duration": 42,
    "start_time": "2022-06-29T20:05:50.758Z"
   },
   {
    "duration": 8,
    "start_time": "2022-06-29T20:05:50.807Z"
   },
   {
    "duration": 38,
    "start_time": "2022-06-29T20:05:50.816Z"
   },
   {
    "duration": 19,
    "start_time": "2022-06-29T20:05:50.857Z"
   },
   {
    "duration": 22,
    "start_time": "2022-06-29T20:05:50.878Z"
   },
   {
    "duration": 15,
    "start_time": "2022-06-29T20:05:50.902Z"
   },
   {
    "duration": 31,
    "start_time": "2022-06-29T20:05:50.927Z"
   },
   {
    "duration": 11,
    "start_time": "2022-06-29T20:05:50.960Z"
   },
   {
    "duration": 13,
    "start_time": "2022-06-29T20:05:50.973Z"
   },
   {
    "duration": 7,
    "start_time": "2022-06-29T20:05:50.989Z"
   },
   {
    "duration": 42,
    "start_time": "2022-06-29T20:05:50.998Z"
   },
   {
    "duration": 35,
    "start_time": "2022-06-29T20:05:51.046Z"
   },
   {
    "duration": 9,
    "start_time": "2022-06-29T20:05:51.084Z"
   },
   {
    "duration": 11,
    "start_time": "2022-06-29T20:05:51.095Z"
   },
   {
    "duration": 7,
    "start_time": "2022-06-29T20:05:51.108Z"
   },
   {
    "duration": 16,
    "start_time": "2022-06-29T20:05:51.116Z"
   },
   {
    "duration": 27,
    "start_time": "2022-06-29T20:05:51.136Z"
   },
   {
    "duration": 11,
    "start_time": "2022-06-29T20:05:51.165Z"
   },
   {
    "duration": 14,
    "start_time": "2022-06-29T20:05:51.178Z"
   },
   {
    "duration": 16,
    "start_time": "2022-06-29T20:05:51.194Z"
   },
   {
    "duration": 11,
    "start_time": "2022-06-29T20:05:51.212Z"
   },
   {
    "duration": 61,
    "start_time": "2022-06-29T20:05:51.226Z"
   },
   {
    "duration": 15,
    "start_time": "2022-06-29T20:05:51.290Z"
   },
   {
    "duration": 13,
    "start_time": "2022-06-29T20:05:51.308Z"
   },
   {
    "duration": 35,
    "start_time": "2022-06-29T20:05:51.324Z"
   },
   {
    "duration": 19,
    "start_time": "2022-06-29T20:05:51.361Z"
   },
   {
    "duration": 18,
    "start_time": "2022-06-29T20:05:51.382Z"
   },
   {
    "duration": 24,
    "start_time": "2022-06-29T20:05:51.401Z"
   },
   {
    "duration": 100,
    "start_time": "2022-06-29T20:05:51.427Z"
   },
   {
    "duration": 261,
    "start_time": "2022-06-29T20:05:51.529Z"
   },
   {
    "duration": 17,
    "start_time": "2022-06-29T20:05:51.792Z"
   },
   {
    "duration": 242,
    "start_time": "2022-06-29T20:05:51.817Z"
   },
   {
    "duration": 11,
    "start_time": "2022-06-29T20:05:52.061Z"
   },
   {
    "duration": 164,
    "start_time": "2022-06-29T20:05:52.074Z"
   },
   {
    "duration": 15,
    "start_time": "2022-06-29T20:05:52.240Z"
   },
   {
    "duration": 169,
    "start_time": "2022-06-29T20:05:52.257Z"
   },
   {
    "duration": 17,
    "start_time": "2022-06-29T20:05:52.429Z"
   },
   {
    "duration": 221,
    "start_time": "2022-06-29T20:05:52.448Z"
   },
   {
    "duration": 16,
    "start_time": "2022-06-29T20:05:52.671Z"
   },
   {
    "duration": 21,
    "start_time": "2022-06-29T20:05:52.689Z"
   },
   {
    "duration": 63,
    "start_time": "2022-06-29T20:05:52.712Z"
   },
   {
    "duration": 34,
    "start_time": "2022-06-29T20:05:52.777Z"
   },
   {
    "duration": 44,
    "start_time": "2022-06-29T20:05:52.813Z"
   },
   {
    "duration": 32,
    "start_time": "2022-06-29T20:05:52.860Z"
   },
   {
    "duration": 18,
    "start_time": "2022-06-29T20:05:52.894Z"
   },
   {
    "duration": 15,
    "start_time": "2022-06-29T20:05:52.914Z"
   },
   {
    "duration": 240,
    "start_time": "2022-06-29T20:05:52.931Z"
   },
   {
    "duration": 7,
    "start_time": "2022-06-29T20:05:53.172Z"
   },
   {
    "duration": 29,
    "start_time": "2022-06-29T20:05:53.181Z"
   },
   {
    "duration": 43,
    "start_time": "2022-06-29T20:05:53.212Z"
   },
   {
    "duration": 259,
    "start_time": "2022-06-29T20:05:53.256Z"
   },
   {
    "duration": 270,
    "start_time": "2022-06-29T20:05:53.517Z"
   },
   {
    "duration": 14,
    "start_time": "2022-06-29T20:05:53.789Z"
   },
   {
    "duration": 55,
    "start_time": "2022-06-29T20:05:53.805Z"
   },
   {
    "duration": 356,
    "start_time": "2022-06-29T20:05:53.862Z"
   },
   {
    "duration": 339,
    "start_time": "2022-06-29T20:05:54.226Z"
   },
   {
    "duration": 29,
    "start_time": "2022-06-29T20:05:54.567Z"
   },
   {
    "duration": 70,
    "start_time": "2022-06-29T20:05:54.598Z"
   },
   {
    "duration": 243,
    "start_time": "2022-06-29T20:05:54.671Z"
   },
   {
    "duration": 19,
    "start_time": "2022-06-29T20:05:54.916Z"
   },
   {
    "duration": 283,
    "start_time": "2022-06-29T20:05:54.938Z"
   },
   {
    "duration": 7,
    "start_time": "2022-06-29T20:05:55.223Z"
   },
   {
    "duration": 238,
    "start_time": "2022-06-29T20:05:55.232Z"
   },
   {
    "duration": 11,
    "start_time": "2022-06-29T20:05:55.473Z"
   },
   {
    "duration": 284,
    "start_time": "2022-06-29T20:05:55.486Z"
   },
   {
    "duration": 288,
    "start_time": "2022-06-29T20:05:55.773Z"
   },
   {
    "duration": 18,
    "start_time": "2022-06-29T20:05:56.063Z"
   },
   {
    "duration": 913,
    "start_time": "2022-06-29T20:14:28.210Z"
   },
   {
    "duration": 108,
    "start_time": "2022-06-29T20:14:29.125Z"
   },
   {
    "duration": 39,
    "start_time": "2022-06-29T20:14:29.237Z"
   },
   {
    "duration": 21,
    "start_time": "2022-06-29T20:14:29.278Z"
   },
   {
    "duration": 17,
    "start_time": "2022-06-29T20:14:29.300Z"
   },
   {
    "duration": 9,
    "start_time": "2022-06-29T20:14:29.319Z"
   },
   {
    "duration": 37,
    "start_time": "2022-06-29T20:14:29.330Z"
   },
   {
    "duration": 18,
    "start_time": "2022-06-29T20:14:29.370Z"
   },
   {
    "duration": 20,
    "start_time": "2022-06-29T20:14:29.391Z"
   },
   {
    "duration": 41,
    "start_time": "2022-06-29T20:14:29.414Z"
   },
   {
    "duration": 14,
    "start_time": "2022-06-29T20:14:29.457Z"
   },
   {
    "duration": 34,
    "start_time": "2022-06-29T20:14:29.473Z"
   },
   {
    "duration": 13,
    "start_time": "2022-06-29T20:14:29.509Z"
   },
   {
    "duration": 67,
    "start_time": "2022-06-29T20:14:29.524Z"
   },
   {
    "duration": 37,
    "start_time": "2022-06-29T20:14:29.593Z"
   },
   {
    "duration": 47,
    "start_time": "2022-06-29T20:14:29.637Z"
   },
   {
    "duration": 16,
    "start_time": "2022-06-29T20:14:29.687Z"
   },
   {
    "duration": 12,
    "start_time": "2022-06-29T20:14:29.705Z"
   },
   {
    "duration": 46,
    "start_time": "2022-06-29T20:14:29.718Z"
   },
   {
    "duration": 10,
    "start_time": "2022-06-29T20:14:29.766Z"
   },
   {
    "duration": 20,
    "start_time": "2022-06-29T20:14:29.778Z"
   },
   {
    "duration": 24,
    "start_time": "2022-06-29T20:14:29.801Z"
   },
   {
    "duration": 44,
    "start_time": "2022-06-29T20:14:29.827Z"
   },
   {
    "duration": 6,
    "start_time": "2022-06-29T20:14:29.873Z"
   },
   {
    "duration": 13,
    "start_time": "2022-06-29T20:14:29.881Z"
   },
   {
    "duration": 13,
    "start_time": "2022-06-29T20:14:29.896Z"
   },
   {
    "duration": 32,
    "start_time": "2022-06-29T20:14:29.911Z"
   },
   {
    "duration": 24,
    "start_time": "2022-06-29T20:14:29.948Z"
   },
   {
    "duration": 34,
    "start_time": "2022-06-29T20:14:29.974Z"
   },
   {
    "duration": 11,
    "start_time": "2022-06-29T20:14:30.010Z"
   },
   {
    "duration": 59,
    "start_time": "2022-06-29T20:14:30.023Z"
   },
   {
    "duration": 31,
    "start_time": "2022-06-29T20:14:30.083Z"
   },
   {
    "duration": 71,
    "start_time": "2022-06-29T20:14:30.116Z"
   },
   {
    "duration": 28,
    "start_time": "2022-06-29T20:14:30.189Z"
   },
   {
    "duration": 74,
    "start_time": "2022-06-29T20:14:30.219Z"
   },
   {
    "duration": 36,
    "start_time": "2022-06-29T20:14:30.296Z"
   },
   {
    "duration": 55,
    "start_time": "2022-06-29T20:14:30.334Z"
   },
   {
    "duration": 28,
    "start_time": "2022-06-29T20:14:30.391Z"
   },
   {
    "duration": 84,
    "start_time": "2022-06-29T20:14:30.421Z"
   },
   {
    "duration": 56,
    "start_time": "2022-06-29T20:14:30.507Z"
   },
   {
    "duration": 48,
    "start_time": "2022-06-29T20:14:30.565Z"
   },
   {
    "duration": 40,
    "start_time": "2022-06-29T20:14:30.615Z"
   },
   {
    "duration": 67,
    "start_time": "2022-06-29T20:14:30.657Z"
   },
   {
    "duration": 55,
    "start_time": "2022-06-29T20:14:30.726Z"
   },
   {
    "duration": 31,
    "start_time": "2022-06-29T20:14:30.783Z"
   },
   {
    "duration": 25,
    "start_time": "2022-06-29T20:14:30.816Z"
   },
   {
    "duration": 24,
    "start_time": "2022-06-29T20:14:30.843Z"
   },
   {
    "duration": 24,
    "start_time": "2022-06-29T20:14:30.869Z"
   },
   {
    "duration": 18,
    "start_time": "2022-06-29T20:14:30.895Z"
   },
   {
    "duration": 48,
    "start_time": "2022-06-29T20:14:30.916Z"
   },
   {
    "duration": 40,
    "start_time": "2022-06-29T20:14:30.966Z"
   },
   {
    "duration": 72,
    "start_time": "2022-06-29T20:14:31.009Z"
   },
   {
    "duration": 24,
    "start_time": "2022-06-29T20:14:31.083Z"
   },
   {
    "duration": 39,
    "start_time": "2022-06-29T20:14:31.109Z"
   },
   {
    "duration": 22,
    "start_time": "2022-06-29T20:14:31.150Z"
   },
   {
    "duration": 214,
    "start_time": "2022-06-29T20:14:31.175Z"
   },
   {
    "duration": 17,
    "start_time": "2022-06-29T20:14:31.391Z"
   },
   {
    "duration": 207,
    "start_time": "2022-06-29T20:14:31.410Z"
   },
   {
    "duration": 16,
    "start_time": "2022-06-29T20:14:31.619Z"
   },
   {
    "duration": 205,
    "start_time": "2022-06-29T20:14:31.637Z"
   },
   {
    "duration": 14,
    "start_time": "2022-06-29T20:14:31.844Z"
   },
   {
    "duration": 191,
    "start_time": "2022-06-29T20:14:31.860Z"
   },
   {
    "duration": 15,
    "start_time": "2022-06-29T20:14:32.053Z"
   },
   {
    "duration": 294,
    "start_time": "2022-06-29T20:14:32.071Z"
   },
   {
    "duration": 21,
    "start_time": "2022-06-29T20:14:32.367Z"
   },
   {
    "duration": 13,
    "start_time": "2022-06-29T20:14:32.390Z"
   },
   {
    "duration": 13,
    "start_time": "2022-06-29T20:14:32.405Z"
   },
   {
    "duration": 37,
    "start_time": "2022-06-29T20:14:32.420Z"
   },
   {
    "duration": 37,
    "start_time": "2022-06-29T20:14:32.459Z"
   },
   {
    "duration": 32,
    "start_time": "2022-06-29T20:14:32.498Z"
   },
   {
    "duration": 5,
    "start_time": "2022-06-29T20:14:32.532Z"
   },
   {
    "duration": 36,
    "start_time": "2022-06-29T20:14:32.539Z"
   },
   {
    "duration": 274,
    "start_time": "2022-06-29T20:14:32.577Z"
   },
   {
    "duration": 10,
    "start_time": "2022-06-29T20:14:32.853Z"
   },
   {
    "duration": 12,
    "start_time": "2022-06-29T20:14:32.864Z"
   },
   {
    "duration": 11,
    "start_time": "2022-06-29T20:14:32.879Z"
   },
   {
    "duration": 282,
    "start_time": "2022-06-29T20:14:32.892Z"
   },
   {
    "duration": 300,
    "start_time": "2022-06-29T20:14:33.176Z"
   },
   {
    "duration": 14,
    "start_time": "2022-06-29T20:14:33.478Z"
   },
   {
    "duration": 52,
    "start_time": "2022-06-29T20:14:33.494Z"
   },
   {
    "duration": 515,
    "start_time": "2022-06-29T20:14:33.551Z"
   },
   {
    "duration": 355,
    "start_time": "2022-06-29T20:14:34.072Z"
   },
   {
    "duration": 34,
    "start_time": "2022-06-29T20:14:34.429Z"
   },
   {
    "duration": 70,
    "start_time": "2022-06-29T20:14:34.466Z"
   },
   {
    "duration": 253,
    "start_time": "2022-06-29T20:14:34.542Z"
   },
   {
    "duration": 5,
    "start_time": "2022-06-29T20:14:34.800Z"
   },
   {
    "duration": 279,
    "start_time": "2022-06-29T20:14:34.807Z"
   },
   {
    "duration": 5,
    "start_time": "2022-06-29T20:14:35.087Z"
   },
   {
    "duration": 248,
    "start_time": "2022-06-29T20:14:35.093Z"
   },
   {
    "duration": 13,
    "start_time": "2022-06-29T20:14:35.343Z"
   },
   {
    "duration": 243,
    "start_time": "2022-06-29T20:14:35.358Z"
   },
   {
    "duration": 256,
    "start_time": "2022-06-29T20:14:35.603Z"
   },
   {
    "duration": 21,
    "start_time": "2022-06-29T20:14:35.868Z"
   },
   {
    "duration": 711,
    "start_time": "2022-06-30T07:21:27.380Z"
   },
   {
    "duration": 84,
    "start_time": "2022-06-30T07:21:28.093Z"
   },
   {
    "duration": 35,
    "start_time": "2022-06-30T07:21:28.179Z"
   },
   {
    "duration": 17,
    "start_time": "2022-06-30T07:21:28.216Z"
   },
   {
    "duration": 22,
    "start_time": "2022-06-30T07:21:28.238Z"
   },
   {
    "duration": 5,
    "start_time": "2022-06-30T07:21:28.262Z"
   },
   {
    "duration": 9,
    "start_time": "2022-06-30T07:21:28.268Z"
   },
   {
    "duration": 12,
    "start_time": "2022-06-30T07:21:28.278Z"
   },
   {
    "duration": 16,
    "start_time": "2022-06-30T07:21:28.292Z"
   },
   {
    "duration": 47,
    "start_time": "2022-06-30T07:21:28.310Z"
   },
   {
    "duration": 8,
    "start_time": "2022-06-30T07:21:28.358Z"
   },
   {
    "duration": 15,
    "start_time": "2022-06-30T07:21:28.367Z"
   },
   {
    "duration": 5,
    "start_time": "2022-06-30T07:21:28.384Z"
   },
   {
    "duration": 7,
    "start_time": "2022-06-30T07:21:28.390Z"
   },
   {
    "duration": 10,
    "start_time": "2022-06-30T07:21:28.399Z"
   },
   {
    "duration": 29,
    "start_time": "2022-06-30T07:21:28.411Z"
   },
   {
    "duration": 16,
    "start_time": "2022-06-30T07:21:28.442Z"
   },
   {
    "duration": 4,
    "start_time": "2022-06-30T07:21:28.460Z"
   },
   {
    "duration": 14,
    "start_time": "2022-06-30T07:21:28.465Z"
   },
   {
    "duration": 12,
    "start_time": "2022-06-30T07:21:28.481Z"
   },
   {
    "duration": 21,
    "start_time": "2022-06-30T07:21:28.495Z"
   },
   {
    "duration": 5,
    "start_time": "2022-06-30T07:21:28.518Z"
   },
   {
    "duration": 13,
    "start_time": "2022-06-30T07:21:28.525Z"
   },
   {
    "duration": 14,
    "start_time": "2022-06-30T07:21:28.543Z"
   },
   {
    "duration": 7,
    "start_time": "2022-06-30T07:21:28.558Z"
   },
   {
    "duration": 9,
    "start_time": "2022-06-30T07:21:28.567Z"
   },
   {
    "duration": 25,
    "start_time": "2022-06-30T07:21:28.577Z"
   },
   {
    "duration": 7,
    "start_time": "2022-06-30T07:21:28.607Z"
   },
   {
    "duration": 33,
    "start_time": "2022-06-30T07:21:28.615Z"
   },
   {
    "duration": 6,
    "start_time": "2022-06-30T07:21:28.649Z"
   },
   {
    "duration": 29,
    "start_time": "2022-06-30T07:21:28.657Z"
   },
   {
    "duration": 11,
    "start_time": "2022-06-30T07:21:28.687Z"
   },
   {
    "duration": 18,
    "start_time": "2022-06-30T07:21:28.700Z"
   },
   {
    "duration": 22,
    "start_time": "2022-06-30T07:21:28.720Z"
   },
   {
    "duration": 7,
    "start_time": "2022-06-30T07:21:28.747Z"
   },
   {
    "duration": 10,
    "start_time": "2022-06-30T07:21:28.757Z"
   },
   {
    "duration": 11,
    "start_time": "2022-06-30T07:21:28.769Z"
   },
   {
    "duration": 9,
    "start_time": "2022-06-30T07:21:28.782Z"
   },
   {
    "duration": 9,
    "start_time": "2022-06-30T07:21:28.793Z"
   },
   {
    "duration": 37,
    "start_time": "2022-06-30T07:21:28.804Z"
   },
   {
    "duration": 12,
    "start_time": "2022-06-30T07:21:28.842Z"
   },
   {
    "duration": 12,
    "start_time": "2022-06-30T07:21:28.857Z"
   },
   {
    "duration": 8,
    "start_time": "2022-06-30T07:21:28.871Z"
   },
   {
    "duration": 7,
    "start_time": "2022-06-30T07:21:28.880Z"
   },
   {
    "duration": 10,
    "start_time": "2022-06-30T07:21:28.890Z"
   },
   {
    "duration": 36,
    "start_time": "2022-06-30T07:21:28.902Z"
   },
   {
    "duration": 11,
    "start_time": "2022-06-30T07:21:28.939Z"
   },
   {
    "duration": 11,
    "start_time": "2022-06-30T07:21:28.951Z"
   },
   {
    "duration": 7,
    "start_time": "2022-06-30T07:21:28.963Z"
   },
   {
    "duration": 8,
    "start_time": "2022-06-30T07:21:28.971Z"
   },
   {
    "duration": 9,
    "start_time": "2022-06-30T07:21:28.981Z"
   },
   {
    "duration": 6,
    "start_time": "2022-06-30T07:21:28.992Z"
   },
   {
    "duration": 43,
    "start_time": "2022-06-30T07:21:28.999Z"
   },
   {
    "duration": 17,
    "start_time": "2022-06-30T07:21:29.043Z"
   },
   {
    "duration": 6,
    "start_time": "2022-06-30T07:21:29.062Z"
   },
   {
    "duration": 139,
    "start_time": "2022-06-30T07:21:29.070Z"
   },
   {
    "duration": 35,
    "start_time": "2022-06-30T07:21:29.211Z"
   },
   {
    "duration": 126,
    "start_time": "2022-06-30T07:21:29.248Z"
   },
   {
    "duration": 12,
    "start_time": "2022-06-30T07:21:29.375Z"
   },
   {
    "duration": 124,
    "start_time": "2022-06-30T07:21:29.389Z"
   },
   {
    "duration": 28,
    "start_time": "2022-06-30T07:21:29.516Z"
   },
   {
    "duration": 126,
    "start_time": "2022-06-30T07:21:29.552Z"
   },
   {
    "duration": 13,
    "start_time": "2022-06-30T07:21:29.680Z"
   },
   {
    "duration": 186,
    "start_time": "2022-06-30T07:21:29.695Z"
   },
   {
    "duration": 12,
    "start_time": "2022-06-30T07:21:29.883Z"
   },
   {
    "duration": 4,
    "start_time": "2022-06-30T07:21:29.897Z"
   },
   {
    "duration": 6,
    "start_time": "2022-06-30T07:21:29.902Z"
   },
   {
    "duration": 9,
    "start_time": "2022-06-30T07:21:29.931Z"
   },
   {
    "duration": 15,
    "start_time": "2022-06-30T07:21:29.943Z"
   },
   {
    "duration": 14,
    "start_time": "2022-06-30T07:21:29.960Z"
   },
   {
    "duration": 4,
    "start_time": "2022-06-30T07:21:29.975Z"
   },
   {
    "duration": 11,
    "start_time": "2022-06-30T07:21:29.980Z"
   },
   {
    "duration": 197,
    "start_time": "2022-06-30T07:21:29.992Z"
   },
   {
    "duration": 10,
    "start_time": "2022-06-30T07:21:30.191Z"
   },
   {
    "duration": 16,
    "start_time": "2022-06-30T07:21:30.203Z"
   },
   {
    "duration": 12,
    "start_time": "2022-06-30T07:21:30.220Z"
   },
   {
    "duration": 243,
    "start_time": "2022-06-30T07:21:30.239Z"
   },
   {
    "duration": 242,
    "start_time": "2022-06-30T07:21:30.483Z"
   },
   {
    "duration": 15,
    "start_time": "2022-06-30T07:21:30.731Z"
   },
   {
    "duration": 22,
    "start_time": "2022-06-30T07:21:30.748Z"
   },
   {
    "duration": 307,
    "start_time": "2022-06-30T07:21:30.772Z"
   },
   {
    "duration": 330,
    "start_time": "2022-06-30T07:21:31.085Z"
   },
   {
    "duration": 32,
    "start_time": "2022-06-30T07:21:31.416Z"
   },
   {
    "duration": 37,
    "start_time": "2022-06-30T07:21:31.450Z"
   },
   {
    "duration": 204,
    "start_time": "2022-06-30T07:21:31.488Z"
   },
   {
    "duration": 4,
    "start_time": "2022-06-30T07:21:31.694Z"
   },
   {
    "duration": 245,
    "start_time": "2022-06-30T07:21:31.700Z"
   },
   {
    "duration": 5,
    "start_time": "2022-06-30T07:21:31.947Z"
   },
   {
    "duration": 198,
    "start_time": "2022-06-30T07:21:31.954Z"
   },
   {
    "duration": 11,
    "start_time": "2022-06-30T07:21:32.154Z"
   },
   {
    "duration": 237,
    "start_time": "2022-06-30T07:21:32.167Z"
   },
   {
    "duration": 202,
    "start_time": "2022-06-30T07:21:32.405Z"
   },
   {
    "duration": 34,
    "start_time": "2022-06-30T07:21:32.608Z"
   },
   {
    "duration": 703,
    "start_time": "2022-06-30T07:41:32.889Z"
   },
   {
    "duration": 102,
    "start_time": "2022-06-30T07:41:33.594Z"
   },
   {
    "duration": 51,
    "start_time": "2022-06-30T07:41:33.698Z"
   },
   {
    "duration": 16,
    "start_time": "2022-06-30T07:41:33.751Z"
   },
   {
    "duration": 12,
    "start_time": "2022-06-30T07:41:33.768Z"
   },
   {
    "duration": 6,
    "start_time": "2022-06-30T07:41:33.781Z"
   },
   {
    "duration": 6,
    "start_time": "2022-06-30T07:41:33.789Z"
   },
   {
    "duration": 12,
    "start_time": "2022-06-30T07:41:33.797Z"
   },
   {
    "duration": 39,
    "start_time": "2022-06-30T07:41:33.811Z"
   },
   {
    "duration": 29,
    "start_time": "2022-06-30T07:41:33.853Z"
   },
   {
    "duration": 8,
    "start_time": "2022-06-30T07:41:33.884Z"
   },
   {
    "duration": 52,
    "start_time": "2022-06-30T07:41:33.893Z"
   },
   {
    "duration": 7,
    "start_time": "2022-06-30T07:41:33.949Z"
   },
   {
    "duration": 9,
    "start_time": "2022-06-30T07:41:33.958Z"
   },
   {
    "duration": 11,
    "start_time": "2022-06-30T07:41:33.969Z"
   },
   {
    "duration": 7,
    "start_time": "2022-06-30T07:41:33.982Z"
   },
   {
    "duration": 12,
    "start_time": "2022-06-30T07:41:33.991Z"
   },
   {
    "duration": 28,
    "start_time": "2022-06-30T07:41:34.006Z"
   },
   {
    "duration": 29,
    "start_time": "2022-06-30T07:41:34.036Z"
   },
   {
    "duration": 7,
    "start_time": "2022-06-30T07:41:34.067Z"
   },
   {
    "duration": 15,
    "start_time": "2022-06-30T07:41:34.075Z"
   },
   {
    "duration": 8,
    "start_time": "2022-06-30T07:41:34.092Z"
   },
   {
    "duration": 7,
    "start_time": "2022-06-30T07:41:34.101Z"
   },
   {
    "duration": 11,
    "start_time": "2022-06-30T07:41:34.110Z"
   },
   {
    "duration": 18,
    "start_time": "2022-06-30T07:41:34.123Z"
   },
   {
    "duration": 20,
    "start_time": "2022-06-30T07:41:34.145Z"
   },
   {
    "duration": 21,
    "start_time": "2022-06-30T07:41:34.166Z"
   },
   {
    "duration": 6,
    "start_time": "2022-06-30T07:41:34.191Z"
   },
   {
    "duration": 21,
    "start_time": "2022-06-30T07:41:34.199Z"
   },
   {
    "duration": 9,
    "start_time": "2022-06-30T07:41:34.222Z"
   },
   {
    "duration": 38,
    "start_time": "2022-06-30T07:41:34.238Z"
   },
   {
    "duration": 11,
    "start_time": "2022-06-30T07:41:34.278Z"
   },
   {
    "duration": 20,
    "start_time": "2022-06-30T07:41:34.290Z"
   },
   {
    "duration": 6,
    "start_time": "2022-06-30T07:41:34.312Z"
   },
   {
    "duration": 12,
    "start_time": "2022-06-30T07:41:34.320Z"
   },
   {
    "duration": 26,
    "start_time": "2022-06-30T07:41:34.333Z"
   },
   {
    "duration": 12,
    "start_time": "2022-06-30T07:41:34.362Z"
   },
   {
    "duration": 11,
    "start_time": "2022-06-30T07:41:34.376Z"
   },
   {
    "duration": 10,
    "start_time": "2022-06-30T07:41:34.389Z"
   },
   {
    "duration": 11,
    "start_time": "2022-06-30T07:41:34.401Z"
   },
   {
    "duration": 20,
    "start_time": "2022-06-30T07:41:34.414Z"
   },
   {
    "duration": 11,
    "start_time": "2022-06-30T07:41:34.435Z"
   },
   {
    "duration": 15,
    "start_time": "2022-06-30T07:41:34.451Z"
   },
   {
    "duration": 12,
    "start_time": "2022-06-30T07:41:34.468Z"
   },
   {
    "duration": 21,
    "start_time": "2022-06-30T07:41:34.482Z"
   },
   {
    "duration": 11,
    "start_time": "2022-06-30T07:41:34.505Z"
   },
   {
    "duration": 20,
    "start_time": "2022-06-30T07:41:34.517Z"
   },
   {
    "duration": 28,
    "start_time": "2022-06-30T07:41:34.539Z"
   },
   {
    "duration": 7,
    "start_time": "2022-06-30T07:41:34.570Z"
   },
   {
    "duration": 9,
    "start_time": "2022-06-30T07:41:34.579Z"
   },
   {
    "duration": 12,
    "start_time": "2022-06-30T07:41:34.590Z"
   },
   {
    "duration": 11,
    "start_time": "2022-06-30T07:41:34.604Z"
   },
   {
    "duration": 20,
    "start_time": "2022-06-30T07:41:34.617Z"
   },
   {
    "duration": 21,
    "start_time": "2022-06-30T07:41:34.643Z"
   },
   {
    "duration": 12,
    "start_time": "2022-06-30T07:41:34.666Z"
   },
   {
    "duration": 184,
    "start_time": "2022-06-30T07:41:34.680Z"
   },
   {
    "duration": 16,
    "start_time": "2022-06-30T07:41:34.867Z"
   },
   {
    "duration": 185,
    "start_time": "2022-06-30T07:41:34.885Z"
   },
   {
    "duration": 14,
    "start_time": "2022-06-30T07:41:35.071Z"
   },
   {
    "duration": 152,
    "start_time": "2022-06-30T07:41:35.088Z"
   },
   {
    "duration": 14,
    "start_time": "2022-06-30T07:41:35.247Z"
   },
   {
    "duration": 115,
    "start_time": "2022-06-30T07:41:35.263Z"
   },
   {
    "duration": 12,
    "start_time": "2022-06-30T07:41:35.380Z"
   },
   {
    "duration": 203,
    "start_time": "2022-06-30T07:41:35.394Z"
   },
   {
    "duration": 14,
    "start_time": "2022-06-30T07:41:35.599Z"
   },
   {
    "duration": 17,
    "start_time": "2022-06-30T07:41:35.615Z"
   },
   {
    "duration": 17,
    "start_time": "2022-06-30T07:41:35.636Z"
   },
   {
    "duration": 5,
    "start_time": "2022-06-30T07:41:35.655Z"
   },
   {
    "duration": 12,
    "start_time": "2022-06-30T07:41:35.662Z"
   },
   {
    "duration": 14,
    "start_time": "2022-06-30T07:41:35.676Z"
   },
   {
    "duration": 4,
    "start_time": "2022-06-30T07:41:35.691Z"
   },
   {
    "duration": 13,
    "start_time": "2022-06-30T07:41:35.697Z"
   },
   {
    "duration": 219,
    "start_time": "2022-06-30T07:41:35.731Z"
   },
   {
    "duration": 6,
    "start_time": "2022-06-30T07:41:35.952Z"
   },
   {
    "duration": 8,
    "start_time": "2022-06-30T07:41:35.960Z"
   },
   {
    "duration": 5,
    "start_time": "2022-06-30T07:41:35.969Z"
   },
   {
    "duration": 273,
    "start_time": "2022-06-30T07:41:35.975Z"
   },
   {
    "duration": 226,
    "start_time": "2022-06-30T07:41:36.251Z"
   },
   {
    "duration": 11,
    "start_time": "2022-06-30T07:41:36.479Z"
   },
   {
    "duration": 38,
    "start_time": "2022-06-30T07:41:36.492Z"
   },
   {
    "duration": 316,
    "start_time": "2022-06-30T07:41:36.533Z"
   },
   {
    "duration": 315,
    "start_time": "2022-06-30T07:41:36.856Z"
   },
   {
    "duration": 31,
    "start_time": "2022-06-30T07:41:37.173Z"
   },
   {
    "duration": 45,
    "start_time": "2022-06-30T07:41:37.206Z"
   },
   {
    "duration": 243,
    "start_time": "2022-06-30T07:41:37.253Z"
   },
   {
    "duration": 4,
    "start_time": "2022-06-30T07:41:37.498Z"
   },
   {
    "duration": 277,
    "start_time": "2022-06-30T07:41:37.504Z"
   },
   {
    "duration": 4,
    "start_time": "2022-06-30T07:41:37.782Z"
   },
   {
    "duration": 217,
    "start_time": "2022-06-30T07:41:37.788Z"
   },
   {
    "duration": 7,
    "start_time": "2022-06-30T07:41:38.007Z"
   },
   {
    "duration": 234,
    "start_time": "2022-06-30T07:41:38.016Z"
   },
   {
    "duration": 205,
    "start_time": "2022-06-30T07:41:38.252Z"
   },
   {
    "duration": 17,
    "start_time": "2022-06-30T07:41:38.458Z"
   }
  ],
  "celltoolbar": "Необработанный формат ячейки",
  "colab": {
   "name": "DA+. Сборный проект 1. Шаблон (1).ipynb",
   "provenance": []
  },
  "kernelspec": {
   "display_name": "Python 3 (ipykernel)",
   "language": "python",
   "name": "python3"
  },
  "language_info": {
   "codemirror_mode": {
    "name": "ipython",
    "version": 3
   },
   "file_extension": ".py",
   "mimetype": "text/x-python",
   "name": "python",
   "nbconvert_exporter": "python",
   "pygments_lexer": "ipython3",
   "version": "3.9.7"
  },
  "toc": {
   "base_numbering": 1,
   "nav_menu": {},
   "number_sections": true,
   "sideBar": true,
   "skip_h1_title": true,
   "title_cell": "Table of Contents",
   "title_sidebar": "Contents",
   "toc_cell": false,
   "toc_position": {
    "height": "calc(100% - 180px)",
    "left": "10px",
    "top": "150px",
    "width": "264.390625px"
   },
   "toc_section_display": true,
   "toc_window_display": false
  }
 },
 "nbformat": 4,
 "nbformat_minor": 1
}
